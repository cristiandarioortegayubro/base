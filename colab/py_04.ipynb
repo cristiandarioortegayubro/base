{
  "cells": [
    {
      "cell_type": "markdown",
      "metadata": {
        "id": "view-in-github",
        "colab_type": "text"
      },
      "source": [
        "<a href=\"https://colab.research.google.com/github/cristiandarioortegayubro/base/blob/main/colab/py_04.ipynb\" target=\"_parent\"><img src=\"https://colab.research.google.com/assets/colab-badge.svg\" alt=\"Open In Colab\"/></a>"
      ]
    },
    {
      "cell_type": "markdown",
      "source": [
        "![logo](https://www.python.org/static/community_logos/python-powered-h-100x130.png)"
      ],
      "metadata": {
        "id": "0vb-bqd0rhsr"
      },
      "id": "0vb-bqd0rhsr"
    },
    {
      "cell_type": "markdown",
      "id": "afc1bec4-82b5-4b1e-8a1a-ef05538c0199",
      "metadata": {
        "id": "afc1bec4-82b5-4b1e-8a1a-ef05538c0199"
      },
      "source": [
        "## **Un poco de programación...**"
      ]
    },
    {
      "cell_type": "markdown",
      "id": "cdf0ac99-772a-4fb8-8a30-98433a1ba4b0",
      "metadata": {
        "id": "cdf0ac99-772a-4fb8-8a30-98433a1ba4b0"
      },
      "source": [
        "### **Comentarios**"
      ]
    },
    {
      "cell_type": "markdown",
      "id": "eb33c029-7bd2-4f66-a581-34dec2cb6b72",
      "metadata": {
        "id": "eb33c029-7bd2-4f66-a581-34dec2cb6b72"
      },
      "source": [
        "**Utilizamos comentarios para aclarar algo en el código, por lo tanto los comentarios son bloques de texto que podemos definir. A los efectos de la ejecución del script, para python los comentarios no existen, porque son simplemente anotaciones**"
      ]
    },
    {
      "cell_type": "markdown",
      "source": [
        "**El comentario se inicia con ```#``` y todo lo que sigue despues, es la anotación**"
      ],
      "metadata": {
        "id": "80_Yhi2iicK0"
      },
      "id": "80_Yhi2iicK0"
    },
    {
      "cell_type": "code",
      "source": [
        "import pandas as pd # utilizamos pd por convención..."
      ],
      "metadata": {
        "id": "oMFVGUEZjKkJ"
      },
      "id": "oMFVGUEZjKkJ",
      "execution_count": null,
      "outputs": []
    },
    {
      "cell_type": "markdown",
      "source": [
        "### **Interactuando...**"
      ],
      "metadata": {
        "id": "B9Fc9MpgjqPv"
      },
      "id": "B9Fc9MpgjqPv"
    },
    {
      "cell_type": "markdown",
      "source": [
        "#### **```input()``` - ```print()```**"
      ],
      "metadata": {
        "id": "vhMTeVnbw-rb"
      },
      "id": "vhMTeVnbw-rb"
    },
    {
      "cell_type": "markdown",
      "source": [
        "***Vamos a hacer un script que nos pregunte el nombre, y muestre por pantalla lo siguiente:***\n",
        "\n",
        "\n",
        "¡Hola ```nombre```!, tu nombre tiene ```cantidad_letras``` letras\n",
        "\n",
        "- ```nombre``` es el nombre del usuario\n",
        "- ```cantidad_letras``` es la cantidad de letras que posee ```nombre``` \n",
        "\n",
        "\n"
      ],
      "metadata": {
        "id": "1lLMjHvktbdh"
      },
      "id": "1lLMjHvktbdh"
    },
    {
      "cell_type": "code",
      "source": [
        "nombre = input(\"¿Cúal es tu nombre?: \").capitalize()\n",
        "\n",
        "cantidad_letras = len(nombre)\n",
        "\n",
        "print(\" \")\n",
        "print(f\"¡Hola {nombre}!, tu nombre tiene {cantidad_letras} letras\")"
      ],
      "metadata": {
        "colab": {
          "base_uri": "https://localhost:8080/"
        },
        "id": "vX28gmusjKev",
        "outputId": "4b8cb68c-f8b5-4e71-822a-18ce923367ab"
      },
      "id": "vX28gmusjKev",
      "execution_count": null,
      "outputs": [
        {
          "output_type": "stream",
          "name": "stdout",
          "text": [
            "¿Cúal es tu nombre?: cristian\n",
            " \n",
            "¡Hola Cristian!, tu nombre tiene 8 letras\n"
          ]
        }
      ]
    },
    {
      "cell_type": "markdown",
      "source": [
        "***Algo similar, pero solicitando el apellido tambien...***"
      ],
      "metadata": {
        "id": "-hJtODS6vJ72"
      },
      "id": "-hJtODS6vJ72"
    },
    {
      "cell_type": "code",
      "source": [
        "nombre = input(\"¿Cúal es tu nombre?: \").capitalize()\n",
        "apellido = input(f\"Hola {nombre}, y ¿cúal es tu apellido?: \").capitalize()\n",
        "\n",
        "cantidad_nombre = len(nombre)\n",
        "cantidad_apellido = len(apellido)\n",
        "\n",
        "print(\" \")\n",
        "print(f\"¡Hola {nombre} {apellido}! \\nTu nombre tiene {cantidad_letras} letras y tu apellido {cantidad_apellido}\")"
      ],
      "metadata": {
        "colab": {
          "base_uri": "https://localhost:8080/"
        },
        "id": "1yNPScuUjKZy",
        "outputId": "ec07cc07-a127-40cd-b1b3-1824966f18f1"
      },
      "id": "1yNPScuUjKZy",
      "execution_count": null,
      "outputs": [
        {
          "output_type": "stream",
          "name": "stdout",
          "text": [
            "¿Cúal es tu nombre?: cristian\n",
            "Hola Cristian, y ¿cúal es tu apellido?: ortega\n",
            " \n",
            "¡Hola Cristian Ortega! \n",
            "Tu nombre tiene 8 letras y tu apellido 6\n"
          ]
        }
      ]
    },
    {
      "cell_type": "markdown",
      "source": [
        "***Utilizando métodos...***"
      ],
      "metadata": {
        "id": "fhlPk2NcP1Gw"
      },
      "id": "fhlPk2NcP1Gw"
    },
    {
      "cell_type": "code",
      "source": [
        "nombre = input(\"¿Cual es tu Nombre?: \")\n",
        "apellido = input(\"¿Cual es tu Apellido?: \")\n",
        "\n",
        "NomComp = (nombre + \" \" + apellido)\n",
        "\n",
        "mayus = NomComp.upper()\n",
        "minus = NomComp.lower()\n",
        "\n",
        "print(\" \")\n",
        "print(f\"Upper: {mayus} \\nLower: {minus} \\nCapitalize: {nombre.capitalize()} {apellido.capitalize()}\")"
      ],
      "metadata": {
        "colab": {
          "base_uri": "https://localhost:8080/"
        },
        "id": "Fg06JfEjjKVD",
        "outputId": "fdbbacb9-e8b2-4980-9ede-db53538ae601"
      },
      "id": "Fg06JfEjjKVD",
      "execution_count": null,
      "outputs": [
        {
          "output_type": "stream",
          "name": "stdout",
          "text": [
            "¿Cual es tu Nombre?: cristian\n",
            "¿Cual es tu Apellido?: ortega\n",
            " \n",
            "Upper: CRISTIAN ORTEGA \n",
            "Lower: cristian ortega \n",
            "Capitalize: Cristian Ortega\n"
          ]
        }
      ]
    },
    {
      "cell_type": "markdown",
      "source": [
        "#### **```split()```**"
      ],
      "metadata": {
        "id": "pgBAeLDFQ1Hb"
      },
      "id": "pgBAeLDFQ1Hb"
    },
    {
      "cell_type": "markdown",
      "source": [
        "***Se tiene un conjunto de datos cuyos numeros del CUIT (Clave Unica de Identificación Tributaria) siguen el siguiente formato:*** \n",
        "\n",
        "*codigo-dni-verificador*\n",
        "\n",
        "***Ejemplo: 27-25983356-3***\n",
        "\n",
        "Dado un CUIT, se pide mostrar en pantalla el siguiente mensaje:\n",
        "\n",
        "Su numero CUIT es: 27-25983356-3\n",
        "\n",
        "- Codigo: 27, \n",
        "- DNI: 25983356 \n",
        "- Verificador: 3\n"
      ],
      "metadata": {
        "id": "mbrSo2rIRTFf"
      },
      "id": "mbrSo2rIRTFf"
    },
    {
      "cell_type": "code",
      "source": [
        "cadena = input(\"Ingrese el CUIT separado por guión: \")\n",
        "separador = \"-\"\n",
        "\n",
        "separado = cadena.split(separador)\n",
        "\n",
        "print(\"\")\n",
        "print(\"Codigo:{} \\nDocumento: {}  \\nVerificador {}\".format(separado[0], separado[1],separado[2]))"
      ],
      "metadata": {
        "colab": {
          "base_uri": "https://localhost:8080/"
        },
        "id": "OFlRwiAEjKPN",
        "outputId": "9d428c20-b8c8-4de2-d209-388e31cf038a"
      },
      "id": "OFlRwiAEjKPN",
      "execution_count": null,
      "outputs": [
        {
          "output_type": "stream",
          "name": "stdout",
          "text": [
            "Ingrese el CUIT separado por guión: 27-25983356-3\n",
            "\n",
            "Codigo:27 \n",
            "Documento: 25983356  \n",
            "Verificador 3\n"
          ]
        }
      ]
    },
    {
      "cell_type": "markdown",
      "source": [
        "#### **```if()```**\n"
      ],
      "metadata": {
        "id": "Xi22GwrmW_fK"
      },
      "id": "Xi22GwrmW_fK"
    },
    {
      "cell_type": "code",
      "source": [],
      "metadata": {
        "id": "0-qVWpfajKK-"
      },
      "id": "0-qVWpfajKK-",
      "execution_count": null,
      "outputs": []
    },
    {
      "cell_type": "code",
      "source": [],
      "metadata": {
        "id": "h22kz_0FjKHO"
      },
      "id": "h22kz_0FjKHO",
      "execution_count": null,
      "outputs": []
    }
  ],
  "metadata": {
    "kernelspec": {
      "display_name": "Python 3 (ipykernel)",
      "language": "python",
      "name": "python3"
    },
    "language_info": {
      "codemirror_mode": {
        "name": "ipython",
        "version": 3
      },
      "file_extension": ".py",
      "mimetype": "text/x-python",
      "name": "python",
      "nbconvert_exporter": "python",
      "pygments_lexer": "ipython3",
      "version": "3.10.2"
    },
    "toc-autonumbering": false,
    "toc-showmarkdowntxt": false,
    "colab": {
      "provenance": [],
      "collapsed_sections": [],
      "toc_visible": true,
      "include_colab_link": true
    }
  },
  "nbformat": 4,
  "nbformat_minor": 5
}