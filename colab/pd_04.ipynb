{
  "cells": [
    {
      "cell_type": "markdown",
      "metadata": {
        "id": "view-in-github",
        "colab_type": "text"
      },
      "source": [
        "<a href=\"https://colab.research.google.com/github/cristiandarioortegayubro/base/blob/main/colab/pd_04.ipynb\" target=\"_parent\"><img src=\"https://colab.research.google.com/assets/colab-badge.svg\" alt=\"Open In Colab\"/></a>"
      ]
    },
    {
      "cell_type": "markdown",
      "id": "4c717ee4-512e-4920-80c8-15456130c886",
      "metadata": {
        "id": "4c717ee4-512e-4920-80c8-15456130c886"
      },
      "source": [
        "\n",
        "![pandas](https://upload.wikimedia.org/wikipedia/commons/thumb/e/ed/Pandas_logo.svg/250px-Pandas_logo.svg.png)"
      ]
    },
    {
      "cell_type": "markdown",
      "id": "319c461f-2d23-4921-8bcd-0fa3ba3833e3",
      "metadata": {
        "id": "319c461f-2d23-4921-8bcd-0fa3ba3833e3"
      },
      "source": [
        "# **Bibliotecas necesarias**"
      ]
    },
    {
      "cell_type": "code",
      "source": [
        "!pip install plotly --upgrade"
      ],
      "metadata": {
        "colab": {
          "base_uri": "https://localhost:8080/"
        },
        "id": "c2SrqRZu62Cr",
        "outputId": "d90ccb09-21f9-4dcb-a1fe-69c9f22c34df"
      },
      "id": "c2SrqRZu62Cr",
      "execution_count": 1,
      "outputs": [
        {
          "output_type": "stream",
          "name": "stdout",
          "text": [
            "Looking in indexes: https://pypi.org/simple, https://us-python.pkg.dev/colab-wheels/public/simple/\n",
            "Requirement already satisfied: plotly in /usr/local/lib/python3.7/dist-packages (5.10.0)\n",
            "Requirement already satisfied: tenacity>=6.2.0 in /usr/local/lib/python3.7/dist-packages (from plotly) (8.0.1)\n"
          ]
        }
      ]
    },
    {
      "cell_type": "markdown",
      "id": "35b48f73-68d2-4f77-8e86-592bc29a9ea4",
      "metadata": {
        "id": "35b48f73-68d2-4f77-8e86-592bc29a9ea4"
      },
      "source": [
        "## **Para análisis de datos**"
      ]
    },
    {
      "cell_type": "code",
      "execution_count": 2,
      "id": "0ee9d969-78b5-4e7d-9956-9c4a80498faf",
      "metadata": {
        "id": "0ee9d969-78b5-4e7d-9956-9c4a80498faf"
      },
      "outputs": [],
      "source": [
        "import pandas as pd\n",
        "import numpy as np"
      ]
    },
    {
      "cell_type": "markdown",
      "source": [
        "## **Para gráficos**"
      ],
      "metadata": {
        "id": "O4fJX_N33w7b"
      },
      "id": "O4fJX_N33w7b"
    },
    {
      "cell_type": "markdown",
      "source": [
        "https://plotly.com/python/"
      ],
      "metadata": {
        "id": "8RzM2lyRc3vu"
      },
      "id": "8RzM2lyRc3vu"
    },
    {
      "cell_type": "code",
      "source": [
        "import plotly.express as px"
      ],
      "metadata": {
        "id": "4vsQAsbS312u"
      },
      "id": "4vsQAsbS312u",
      "execution_count": 3,
      "outputs": []
    },
    {
      "cell_type": "markdown",
      "id": "776d5c76-8b73-4dea-adc5-50d536e3c0b2",
      "metadata": {
        "id": "776d5c76-8b73-4dea-adc5-50d536e3c0b2"
      },
      "source": [
        "# **Obtención de datos**"
      ]
    },
    {
      "cell_type": "code",
      "execution_count": 4,
      "id": "d79c58a7-55ed-45e8-b102-0f52f4b50338",
      "metadata": {
        "id": "d79c58a7-55ed-45e8-b102-0f52f4b50338"
      },
      "outputs": [],
      "source": [
        "datos = \"https://raw.githubusercontent.com/cristiandarioortegayubro/base/main/dataset/dfresults.csv\""
      ]
    },
    {
      "cell_type": "markdown",
      "source": [
        "# **Creación del dataframe**"
      ],
      "metadata": {
        "id": "5l9sh1LCsvir"
      },
      "id": "5l9sh1LCsvir"
    },
    {
      "cell_type": "code",
      "source": [
        "df = pd.read_csv(datos)\n",
        "df"
      ],
      "metadata": {
        "colab": {
          "base_uri": "https://localhost:8080/",
          "height": 419
        },
        "id": "E5wrS3YXpwl4",
        "outputId": "802d5e03-0e1b-4129-ca8e-4828df27275b"
      },
      "id": "E5wrS3YXpwl4",
      "execution_count": 5,
      "outputs": [
        {
          "output_type": "execute_result",
          "data": {
            "text/plain": [
              "      Año      Estado  Intencion_Voto  Diferencia  Gobernante  Reelige  \\\n",
              "0    1976  California       42.797994   -3.270222  republican        1   \n",
              "1    1980  California       28.010388  -14.065118    democrat        1   \n",
              "2    1984  California       38.947686  -16.310839  republican        1   \n",
              "3    1988  California       42.883798   -8.033824  republican        0   \n",
              "4    1992  California       48.764566   17.150517  republican        1   \n",
              "..    ...         ...             ...         ...         ...      ...   \n",
              "487  1992     Wyoming       30.408792   -3.954561  republican        1   \n",
              "488  1996     Wyoming       37.603149   -7.238639    democrat        1   \n",
              "489  2000     Wyoming       29.687844  -29.012408    democrat        0   \n",
              "490  2008     Wyoming       33.176088  -26.872840  republican        0   \n",
              "491  2016     Wyoming       22.079570  -37.877420    democrat        0   \n",
              "\n",
              "        Ganador Cod_Estado  \n",
              "0    republican         CA  \n",
              "1    republican         CA  \n",
              "2    republican         CA  \n",
              "3    republican         CA  \n",
              "4      democrat         CA  \n",
              "..          ...        ...  \n",
              "487  republican         WY  \n",
              "488  republican         WY  \n",
              "489  republican         WY  \n",
              "490  republican         WY  \n",
              "491  republican         WY  \n",
              "\n",
              "[492 rows x 8 columns]"
            ],
            "text/html": [
              "\n",
              "  <div id=\"df-d4e68f7f-ba62-4a27-8d9e-17a0de5b0bf5\">\n",
              "    <div class=\"colab-df-container\">\n",
              "      <div>\n",
              "<style scoped>\n",
              "    .dataframe tbody tr th:only-of-type {\n",
              "        vertical-align: middle;\n",
              "    }\n",
              "\n",
              "    .dataframe tbody tr th {\n",
              "        vertical-align: top;\n",
              "    }\n",
              "\n",
              "    .dataframe thead th {\n",
              "        text-align: right;\n",
              "    }\n",
              "</style>\n",
              "<table border=\"1\" class=\"dataframe\">\n",
              "  <thead>\n",
              "    <tr style=\"text-align: right;\">\n",
              "      <th></th>\n",
              "      <th>Año</th>\n",
              "      <th>Estado</th>\n",
              "      <th>Intencion_Voto</th>\n",
              "      <th>Diferencia</th>\n",
              "      <th>Gobernante</th>\n",
              "      <th>Reelige</th>\n",
              "      <th>Ganador</th>\n",
              "      <th>Cod_Estado</th>\n",
              "    </tr>\n",
              "  </thead>\n",
              "  <tbody>\n",
              "    <tr>\n",
              "      <th>0</th>\n",
              "      <td>1976</td>\n",
              "      <td>California</td>\n",
              "      <td>42.797994</td>\n",
              "      <td>-3.270222</td>\n",
              "      <td>republican</td>\n",
              "      <td>1</td>\n",
              "      <td>republican</td>\n",
              "      <td>CA</td>\n",
              "    </tr>\n",
              "    <tr>\n",
              "      <th>1</th>\n",
              "      <td>1980</td>\n",
              "      <td>California</td>\n",
              "      <td>28.010388</td>\n",
              "      <td>-14.065118</td>\n",
              "      <td>democrat</td>\n",
              "      <td>1</td>\n",
              "      <td>republican</td>\n",
              "      <td>CA</td>\n",
              "    </tr>\n",
              "    <tr>\n",
              "      <th>2</th>\n",
              "      <td>1984</td>\n",
              "      <td>California</td>\n",
              "      <td>38.947686</td>\n",
              "      <td>-16.310839</td>\n",
              "      <td>republican</td>\n",
              "      <td>1</td>\n",
              "      <td>republican</td>\n",
              "      <td>CA</td>\n",
              "    </tr>\n",
              "    <tr>\n",
              "      <th>3</th>\n",
              "      <td>1988</td>\n",
              "      <td>California</td>\n",
              "      <td>42.883798</td>\n",
              "      <td>-8.033824</td>\n",
              "      <td>republican</td>\n",
              "      <td>0</td>\n",
              "      <td>republican</td>\n",
              "      <td>CA</td>\n",
              "    </tr>\n",
              "    <tr>\n",
              "      <th>4</th>\n",
              "      <td>1992</td>\n",
              "      <td>California</td>\n",
              "      <td>48.764566</td>\n",
              "      <td>17.150517</td>\n",
              "      <td>republican</td>\n",
              "      <td>1</td>\n",
              "      <td>democrat</td>\n",
              "      <td>CA</td>\n",
              "    </tr>\n",
              "    <tr>\n",
              "      <th>...</th>\n",
              "      <td>...</td>\n",
              "      <td>...</td>\n",
              "      <td>...</td>\n",
              "      <td>...</td>\n",
              "      <td>...</td>\n",
              "      <td>...</td>\n",
              "      <td>...</td>\n",
              "      <td>...</td>\n",
              "    </tr>\n",
              "    <tr>\n",
              "      <th>487</th>\n",
              "      <td>1992</td>\n",
              "      <td>Wyoming</td>\n",
              "      <td>30.408792</td>\n",
              "      <td>-3.954561</td>\n",
              "      <td>republican</td>\n",
              "      <td>1</td>\n",
              "      <td>republican</td>\n",
              "      <td>WY</td>\n",
              "    </tr>\n",
              "    <tr>\n",
              "      <th>488</th>\n",
              "      <td>1996</td>\n",
              "      <td>Wyoming</td>\n",
              "      <td>37.603149</td>\n",
              "      <td>-7.238639</td>\n",
              "      <td>democrat</td>\n",
              "      <td>1</td>\n",
              "      <td>republican</td>\n",
              "      <td>WY</td>\n",
              "    </tr>\n",
              "    <tr>\n",
              "      <th>489</th>\n",
              "      <td>2000</td>\n",
              "      <td>Wyoming</td>\n",
              "      <td>29.687844</td>\n",
              "      <td>-29.012408</td>\n",
              "      <td>democrat</td>\n",
              "      <td>0</td>\n",
              "      <td>republican</td>\n",
              "      <td>WY</td>\n",
              "    </tr>\n",
              "    <tr>\n",
              "      <th>490</th>\n",
              "      <td>2008</td>\n",
              "      <td>Wyoming</td>\n",
              "      <td>33.176088</td>\n",
              "      <td>-26.872840</td>\n",
              "      <td>republican</td>\n",
              "      <td>0</td>\n",
              "      <td>republican</td>\n",
              "      <td>WY</td>\n",
              "    </tr>\n",
              "    <tr>\n",
              "      <th>491</th>\n",
              "      <td>2016</td>\n",
              "      <td>Wyoming</td>\n",
              "      <td>22.079570</td>\n",
              "      <td>-37.877420</td>\n",
              "      <td>democrat</td>\n",
              "      <td>0</td>\n",
              "      <td>republican</td>\n",
              "      <td>WY</td>\n",
              "    </tr>\n",
              "  </tbody>\n",
              "</table>\n",
              "<p>492 rows × 8 columns</p>\n",
              "</div>\n",
              "      <button class=\"colab-df-convert\" onclick=\"convertToInteractive('df-d4e68f7f-ba62-4a27-8d9e-17a0de5b0bf5')\"\n",
              "              title=\"Convert this dataframe to an interactive table.\"\n",
              "              style=\"display:none;\">\n",
              "        \n",
              "  <svg xmlns=\"http://www.w3.org/2000/svg\" height=\"24px\"viewBox=\"0 0 24 24\"\n",
              "       width=\"24px\">\n",
              "    <path d=\"M0 0h24v24H0V0z\" fill=\"none\"/>\n",
              "    <path d=\"M18.56 5.44l.94 2.06.94-2.06 2.06-.94-2.06-.94-.94-2.06-.94 2.06-2.06.94zm-11 1L8.5 8.5l.94-2.06 2.06-.94-2.06-.94L8.5 2.5l-.94 2.06-2.06.94zm10 10l.94 2.06.94-2.06 2.06-.94-2.06-.94-.94-2.06-.94 2.06-2.06.94z\"/><path d=\"M17.41 7.96l-1.37-1.37c-.4-.4-.92-.59-1.43-.59-.52 0-1.04.2-1.43.59L10.3 9.45l-7.72 7.72c-.78.78-.78 2.05 0 2.83L4 21.41c.39.39.9.59 1.41.59.51 0 1.02-.2 1.41-.59l7.78-7.78 2.81-2.81c.8-.78.8-2.07 0-2.86zM5.41 20L4 18.59l7.72-7.72 1.47 1.35L5.41 20z\"/>\n",
              "  </svg>\n",
              "      </button>\n",
              "      \n",
              "  <style>\n",
              "    .colab-df-container {\n",
              "      display:flex;\n",
              "      flex-wrap:wrap;\n",
              "      gap: 12px;\n",
              "    }\n",
              "\n",
              "    .colab-df-convert {\n",
              "      background-color: #E8F0FE;\n",
              "      border: none;\n",
              "      border-radius: 50%;\n",
              "      cursor: pointer;\n",
              "      display: none;\n",
              "      fill: #1967D2;\n",
              "      height: 32px;\n",
              "      padding: 0 0 0 0;\n",
              "      width: 32px;\n",
              "    }\n",
              "\n",
              "    .colab-df-convert:hover {\n",
              "      background-color: #E2EBFA;\n",
              "      box-shadow: 0px 1px 2px rgba(60, 64, 67, 0.3), 0px 1px 3px 1px rgba(60, 64, 67, 0.15);\n",
              "      fill: #174EA6;\n",
              "    }\n",
              "\n",
              "    [theme=dark] .colab-df-convert {\n",
              "      background-color: #3B4455;\n",
              "      fill: #D2E3FC;\n",
              "    }\n",
              "\n",
              "    [theme=dark] .colab-df-convert:hover {\n",
              "      background-color: #434B5C;\n",
              "      box-shadow: 0px 1px 3px 1px rgba(0, 0, 0, 0.15);\n",
              "      filter: drop-shadow(0px 1px 2px rgba(0, 0, 0, 0.3));\n",
              "      fill: #FFFFFF;\n",
              "    }\n",
              "  </style>\n",
              "\n",
              "      <script>\n",
              "        const buttonEl =\n",
              "          document.querySelector('#df-d4e68f7f-ba62-4a27-8d9e-17a0de5b0bf5 button.colab-df-convert');\n",
              "        buttonEl.style.display =\n",
              "          google.colab.kernel.accessAllowed ? 'block' : 'none';\n",
              "\n",
              "        async function convertToInteractive(key) {\n",
              "          const element = document.querySelector('#df-d4e68f7f-ba62-4a27-8d9e-17a0de5b0bf5');\n",
              "          const dataTable =\n",
              "            await google.colab.kernel.invokeFunction('convertToInteractive',\n",
              "                                                     [key], {});\n",
              "          if (!dataTable) return;\n",
              "\n",
              "          const docLinkHtml = 'Like what you see? Visit the ' +\n",
              "            '<a target=\"_blank\" href=https://colab.research.google.com/notebooks/data_table.ipynb>data table notebook</a>'\n",
              "            + ' to learn more about interactive tables.';\n",
              "          element.innerHTML = '';\n",
              "          dataTable['output_type'] = 'display_data';\n",
              "          await google.colab.output.renderOutput(dataTable, element);\n",
              "          const docLink = document.createElement('div');\n",
              "          docLink.innerHTML = docLinkHtml;\n",
              "          element.appendChild(docLink);\n",
              "        }\n",
              "      </script>\n",
              "    </div>\n",
              "  </div>\n",
              "  "
            ]
          },
          "metadata": {},
          "execution_count": 5
        }
      ]
    },
    {
      "cell_type": "code",
      "source": [
        "type(df)"
      ],
      "metadata": {
        "colab": {
          "base_uri": "https://localhost:8080/"
        },
        "id": "n954oJC5uMiB",
        "outputId": "f967f7b9-7d3d-4f94-998e-a5fb854d59a9"
      },
      "id": "n954oJC5uMiB",
      "execution_count": 6,
      "outputs": [
        {
          "output_type": "execute_result",
          "data": {
            "text/plain": [
              "pandas.core.frame.DataFrame"
            ]
          },
          "metadata": {},
          "execution_count": 6
        }
      ]
    },
    {
      "cell_type": "markdown",
      "source": [
        "## **Visualizacion**"
      ],
      "metadata": {
        "id": "rpk8Ekpap8zt"
      },
      "id": "rpk8Ekpap8zt"
    },
    {
      "cell_type": "markdown",
      "source": [
        "### **Encabezado ```head()```**"
      ],
      "metadata": {
        "id": "-A00a4D3qLvv"
      },
      "id": "-A00a4D3qLvv"
    },
    {
      "cell_type": "code",
      "source": [
        "df.head()"
      ],
      "metadata": {
        "colab": {
          "base_uri": "https://localhost:8080/",
          "height": 204
        },
        "id": "Z6wvbVGwqEcm",
        "outputId": "0442a287-de26-4386-b138-43150d0ae442"
      },
      "id": "Z6wvbVGwqEcm",
      "execution_count": 7,
      "outputs": [
        {
          "output_type": "execute_result",
          "data": {
            "text/plain": [
              "    Año      Estado  Intencion_Voto  Diferencia  Gobernante  Reelige  \\\n",
              "0  1976  California       42.797994   -3.270222  republican        1   \n",
              "1  1980  California       28.010388  -14.065118    democrat        1   \n",
              "2  1984  California       38.947686  -16.310839  republican        1   \n",
              "3  1988  California       42.883798   -8.033824  republican        0   \n",
              "4  1992  California       48.764566   17.150517  republican        1   \n",
              "\n",
              "      Ganador Cod_Estado  \n",
              "0  republican         CA  \n",
              "1  republican         CA  \n",
              "2  republican         CA  \n",
              "3  republican         CA  \n",
              "4    democrat         CA  "
            ],
            "text/html": [
              "\n",
              "  <div id=\"df-47597564-3971-4734-84f6-2e6eb10a68f6\">\n",
              "    <div class=\"colab-df-container\">\n",
              "      <div>\n",
              "<style scoped>\n",
              "    .dataframe tbody tr th:only-of-type {\n",
              "        vertical-align: middle;\n",
              "    }\n",
              "\n",
              "    .dataframe tbody tr th {\n",
              "        vertical-align: top;\n",
              "    }\n",
              "\n",
              "    .dataframe thead th {\n",
              "        text-align: right;\n",
              "    }\n",
              "</style>\n",
              "<table border=\"1\" class=\"dataframe\">\n",
              "  <thead>\n",
              "    <tr style=\"text-align: right;\">\n",
              "      <th></th>\n",
              "      <th>Año</th>\n",
              "      <th>Estado</th>\n",
              "      <th>Intencion_Voto</th>\n",
              "      <th>Diferencia</th>\n",
              "      <th>Gobernante</th>\n",
              "      <th>Reelige</th>\n",
              "      <th>Ganador</th>\n",
              "      <th>Cod_Estado</th>\n",
              "    </tr>\n",
              "  </thead>\n",
              "  <tbody>\n",
              "    <tr>\n",
              "      <th>0</th>\n",
              "      <td>1976</td>\n",
              "      <td>California</td>\n",
              "      <td>42.797994</td>\n",
              "      <td>-3.270222</td>\n",
              "      <td>republican</td>\n",
              "      <td>1</td>\n",
              "      <td>republican</td>\n",
              "      <td>CA</td>\n",
              "    </tr>\n",
              "    <tr>\n",
              "      <th>1</th>\n",
              "      <td>1980</td>\n",
              "      <td>California</td>\n",
              "      <td>28.010388</td>\n",
              "      <td>-14.065118</td>\n",
              "      <td>democrat</td>\n",
              "      <td>1</td>\n",
              "      <td>republican</td>\n",
              "      <td>CA</td>\n",
              "    </tr>\n",
              "    <tr>\n",
              "      <th>2</th>\n",
              "      <td>1984</td>\n",
              "      <td>California</td>\n",
              "      <td>38.947686</td>\n",
              "      <td>-16.310839</td>\n",
              "      <td>republican</td>\n",
              "      <td>1</td>\n",
              "      <td>republican</td>\n",
              "      <td>CA</td>\n",
              "    </tr>\n",
              "    <tr>\n",
              "      <th>3</th>\n",
              "      <td>1988</td>\n",
              "      <td>California</td>\n",
              "      <td>42.883798</td>\n",
              "      <td>-8.033824</td>\n",
              "      <td>republican</td>\n",
              "      <td>0</td>\n",
              "      <td>republican</td>\n",
              "      <td>CA</td>\n",
              "    </tr>\n",
              "    <tr>\n",
              "      <th>4</th>\n",
              "      <td>1992</td>\n",
              "      <td>California</td>\n",
              "      <td>48.764566</td>\n",
              "      <td>17.150517</td>\n",
              "      <td>republican</td>\n",
              "      <td>1</td>\n",
              "      <td>democrat</td>\n",
              "      <td>CA</td>\n",
              "    </tr>\n",
              "  </tbody>\n",
              "</table>\n",
              "</div>\n",
              "      <button class=\"colab-df-convert\" onclick=\"convertToInteractive('df-47597564-3971-4734-84f6-2e6eb10a68f6')\"\n",
              "              title=\"Convert this dataframe to an interactive table.\"\n",
              "              style=\"display:none;\">\n",
              "        \n",
              "  <svg xmlns=\"http://www.w3.org/2000/svg\" height=\"24px\"viewBox=\"0 0 24 24\"\n",
              "       width=\"24px\">\n",
              "    <path d=\"M0 0h24v24H0V0z\" fill=\"none\"/>\n",
              "    <path d=\"M18.56 5.44l.94 2.06.94-2.06 2.06-.94-2.06-.94-.94-2.06-.94 2.06-2.06.94zm-11 1L8.5 8.5l.94-2.06 2.06-.94-2.06-.94L8.5 2.5l-.94 2.06-2.06.94zm10 10l.94 2.06.94-2.06 2.06-.94-2.06-.94-.94-2.06-.94 2.06-2.06.94z\"/><path d=\"M17.41 7.96l-1.37-1.37c-.4-.4-.92-.59-1.43-.59-.52 0-1.04.2-1.43.59L10.3 9.45l-7.72 7.72c-.78.78-.78 2.05 0 2.83L4 21.41c.39.39.9.59 1.41.59.51 0 1.02-.2 1.41-.59l7.78-7.78 2.81-2.81c.8-.78.8-2.07 0-2.86zM5.41 20L4 18.59l7.72-7.72 1.47 1.35L5.41 20z\"/>\n",
              "  </svg>\n",
              "      </button>\n",
              "      \n",
              "  <style>\n",
              "    .colab-df-container {\n",
              "      display:flex;\n",
              "      flex-wrap:wrap;\n",
              "      gap: 12px;\n",
              "    }\n",
              "\n",
              "    .colab-df-convert {\n",
              "      background-color: #E8F0FE;\n",
              "      border: none;\n",
              "      border-radius: 50%;\n",
              "      cursor: pointer;\n",
              "      display: none;\n",
              "      fill: #1967D2;\n",
              "      height: 32px;\n",
              "      padding: 0 0 0 0;\n",
              "      width: 32px;\n",
              "    }\n",
              "\n",
              "    .colab-df-convert:hover {\n",
              "      background-color: #E2EBFA;\n",
              "      box-shadow: 0px 1px 2px rgba(60, 64, 67, 0.3), 0px 1px 3px 1px rgba(60, 64, 67, 0.15);\n",
              "      fill: #174EA6;\n",
              "    }\n",
              "\n",
              "    [theme=dark] .colab-df-convert {\n",
              "      background-color: #3B4455;\n",
              "      fill: #D2E3FC;\n",
              "    }\n",
              "\n",
              "    [theme=dark] .colab-df-convert:hover {\n",
              "      background-color: #434B5C;\n",
              "      box-shadow: 0px 1px 3px 1px rgba(0, 0, 0, 0.15);\n",
              "      filter: drop-shadow(0px 1px 2px rgba(0, 0, 0, 0.3));\n",
              "      fill: #FFFFFF;\n",
              "    }\n",
              "  </style>\n",
              "\n",
              "      <script>\n",
              "        const buttonEl =\n",
              "          document.querySelector('#df-47597564-3971-4734-84f6-2e6eb10a68f6 button.colab-df-convert');\n",
              "        buttonEl.style.display =\n",
              "          google.colab.kernel.accessAllowed ? 'block' : 'none';\n",
              "\n",
              "        async function convertToInteractive(key) {\n",
              "          const element = document.querySelector('#df-47597564-3971-4734-84f6-2e6eb10a68f6');\n",
              "          const dataTable =\n",
              "            await google.colab.kernel.invokeFunction('convertToInteractive',\n",
              "                                                     [key], {});\n",
              "          if (!dataTable) return;\n",
              "\n",
              "          const docLinkHtml = 'Like what you see? Visit the ' +\n",
              "            '<a target=\"_blank\" href=https://colab.research.google.com/notebooks/data_table.ipynb>data table notebook</a>'\n",
              "            + ' to learn more about interactive tables.';\n",
              "          element.innerHTML = '';\n",
              "          dataTable['output_type'] = 'display_data';\n",
              "          await google.colab.output.renderOutput(dataTable, element);\n",
              "          const docLink = document.createElement('div');\n",
              "          docLink.innerHTML = docLinkHtml;\n",
              "          element.appendChild(docLink);\n",
              "        }\n",
              "      </script>\n",
              "    </div>\n",
              "  </div>\n",
              "  "
            ]
          },
          "metadata": {},
          "execution_count": 7
        }
      ]
    },
    {
      "cell_type": "markdown",
      "source": [
        "### **Indice ```index``` y columnas ```columns```**"
      ],
      "metadata": {
        "id": "s7XNI0pRqPT8"
      },
      "id": "s7XNI0pRqPT8"
    },
    {
      "cell_type": "code",
      "source": [
        "df.index"
      ],
      "metadata": {
        "colab": {
          "base_uri": "https://localhost:8080/"
        },
        "id": "AkvPv7IjqTWC",
        "outputId": "4a009751-7f85-48a1-a00f-ab3b546aad72"
      },
      "id": "AkvPv7IjqTWC",
      "execution_count": 8,
      "outputs": [
        {
          "output_type": "execute_result",
          "data": {
            "text/plain": [
              "RangeIndex(start=0, stop=492, step=1)"
            ]
          },
          "metadata": {},
          "execution_count": 8
        }
      ]
    },
    {
      "cell_type": "code",
      "source": [
        "df.columns"
      ],
      "metadata": {
        "colab": {
          "base_uri": "https://localhost:8080/"
        },
        "id": "veQdvq3BqWLo",
        "outputId": "d0e8f641-c3fd-4544-a5a5-fc7455376b69"
      },
      "id": "veQdvq3BqWLo",
      "execution_count": 9,
      "outputs": [
        {
          "output_type": "execute_result",
          "data": {
            "text/plain": [
              "Index(['Año', 'Estado', 'Intencion_Voto', 'Diferencia', 'Gobernante',\n",
              "       'Reelige', 'Ganador', 'Cod_Estado'],\n",
              "      dtype='object')"
            ]
          },
          "metadata": {},
          "execution_count": 9
        }
      ]
    },
    {
      "cell_type": "markdown",
      "source": [
        "### **Valores en series ```unique()``` - ```nunique()``` - ```value_counts()```**"
      ],
      "metadata": {
        "id": "xOs0KvPXqlq0"
      },
      "id": "xOs0KvPXqlq0"
    },
    {
      "cell_type": "code",
      "source": [
        "df.Estado.unique()"
      ],
      "metadata": {
        "colab": {
          "base_uri": "https://localhost:8080/"
        },
        "id": "i1NUm2b3qo_r",
        "outputId": "db2e60bc-dc9d-41c6-c498-b42b50a8999c"
      },
      "id": "i1NUm2b3qo_r",
      "execution_count": 10,
      "outputs": [
        {
          "output_type": "execute_result",
          "data": {
            "text/plain": [
              "array(['California', 'Colorado', 'Connecticut', 'Delaware', 'Georgia',\n",
              "       'Idaho', 'Illinois', 'Indiana', 'Iowa', 'Kansas', 'Maine',\n",
              "       'Maryland', 'Massachusetts', 'Michigan', 'Minnesota', 'Missouri',\n",
              "       'Nebraska', 'New Jersey', 'New York', 'North Carolina', 'Ohio',\n",
              "       'Oregon', 'South Carolina', 'South Dakota', 'Utah', 'Washington',\n",
              "       'Alabama', 'Arizona', 'Arkansas', 'Florida', 'Hawaii', 'Louisiana',\n",
              "       'Mississippi', 'Nevada', 'New Hampshire', 'North Dakota',\n",
              "       'Oklahoma', 'Pennsylvania', 'Rhode Island', 'Tennessee', 'Texas',\n",
              "       'Virginia', 'West Virginia', 'Wisconsin', 'Kentucky', 'New Mexico',\n",
              "       'Alaska', 'Montana', 'Vermont', 'Wyoming'], dtype=object)"
            ]
          },
          "metadata": {},
          "execution_count": 10
        }
      ]
    },
    {
      "cell_type": "code",
      "source": [
        "df.Estado.nunique()"
      ],
      "metadata": {
        "colab": {
          "base_uri": "https://localhost:8080/"
        },
        "id": "uIeGjWZWr4Nl",
        "outputId": "d7223776-6dfb-4322-c730-eacb6be7acbd"
      },
      "id": "uIeGjWZWr4Nl",
      "execution_count": 11,
      "outputs": [
        {
          "output_type": "execute_result",
          "data": {
            "text/plain": [
              "50"
            ]
          },
          "metadata": {},
          "execution_count": 11
        }
      ]
    },
    {
      "cell_type": "code",
      "source": [
        "df.Estado.value_counts()"
      ],
      "metadata": {
        "colab": {
          "base_uri": "https://localhost:8080/"
        },
        "id": "4pB0JNWyr6ao",
        "outputId": "a486f607-ab4f-4c6e-c8b8-b817b8e1d7c1"
      },
      "id": "4pB0JNWyr6ao",
      "execution_count": 12,
      "outputs": [
        {
          "output_type": "execute_result",
          "data": {
            "text/plain": [
              "California        11\n",
              "Massachusetts     11\n",
              "Colorado          11\n",
              "Oregon            11\n",
              "Ohio              11\n",
              "North Carolina    11\n",
              "New York          11\n",
              "New Jersey        11\n",
              "Nebraska          11\n",
              "Missouri          11\n",
              "Minnesota         11\n",
              "Washington        11\n",
              "Maryland          11\n",
              "Connecticut       11\n",
              "Kansas            11\n",
              "Iowa              11\n",
              "Illinois          11\n",
              "New Hampshire     10\n",
              "Texas             10\n",
              "Michigan          10\n",
              "Virginia          10\n",
              "Florida           10\n",
              "West Virginia     10\n",
              "Wisconsin         10\n",
              "Alabama           10\n",
              "Utah              10\n",
              "Pennsylvania      10\n",
              "South Dakota      10\n",
              "South Carolina    10\n",
              "Georgia           10\n",
              "Indiana           10\n",
              "Maine             10\n",
              "Rhode Island      10\n",
              "Kentucky           9\n",
              "New Mexico         9\n",
              "Tennessee          9\n",
              "Louisiana          9\n",
              "Oklahoma           9\n",
              "North Dakota       9\n",
              "Nevada             9\n",
              "Hawaii             9\n",
              "Arkansas           9\n",
              "Arizona            9\n",
              "Delaware           9\n",
              "Idaho              9\n",
              "Mississippi        8\n",
              "Montana            8\n",
              "Vermont            8\n",
              "Alaska             7\n",
              "Wyoming            6\n",
              "Name: Estado, dtype: int64"
            ]
          },
          "metadata": {},
          "execution_count": 12
        }
      ]
    },
    {
      "cell_type": "code",
      "source": [
        "df.Gobernante.unique()"
      ],
      "metadata": {
        "colab": {
          "base_uri": "https://localhost:8080/"
        },
        "id": "3hnn95v1ruxT",
        "outputId": "a34d8178-6025-4048-b55d-d5649251f7c0"
      },
      "id": "3hnn95v1ruxT",
      "execution_count": 13,
      "outputs": [
        {
          "output_type": "execute_result",
          "data": {
            "text/plain": [
              "array(['republican', 'democrat'], dtype=object)"
            ]
          },
          "metadata": {},
          "execution_count": 13
        }
      ]
    },
    {
      "cell_type": "code",
      "source": [
        "df.Gobernante.nunique()"
      ],
      "metadata": {
        "colab": {
          "base_uri": "https://localhost:8080/"
        },
        "id": "NuTtBairsw9o",
        "outputId": "d6e50b67-24cc-4202-ab6d-ceeac6b61d69"
      },
      "id": "NuTtBairsw9o",
      "execution_count": 14,
      "outputs": [
        {
          "output_type": "execute_result",
          "data": {
            "text/plain": [
              "2"
            ]
          },
          "metadata": {},
          "execution_count": 14
        }
      ]
    },
    {
      "cell_type": "code",
      "source": [
        "df.Gobernante.value_counts()"
      ],
      "metadata": {
        "colab": {
          "base_uri": "https://localhost:8080/"
        },
        "id": "Hq99MroUs1zu",
        "outputId": "a9258ed8-7841-42a4-9de8-428e33530ad0"
      },
      "id": "Hq99MroUs1zu",
      "execution_count": 15,
      "outputs": [
        {
          "output_type": "execute_result",
          "data": {
            "text/plain": [
              "republican    254\n",
              "democrat      238\n",
              "Name: Gobernante, dtype: int64"
            ]
          },
          "metadata": {},
          "execution_count": 15
        }
      ]
    },
    {
      "cell_type": "markdown",
      "source": [
        "### **Resumen estadistico descriptivo ```describe()```**"
      ],
      "metadata": {
        "id": "Nw24g-8-tCXT"
      },
      "id": "Nw24g-8-tCXT"
    },
    {
      "cell_type": "code",
      "source": [
        "round(df.describe(),2)"
      ],
      "metadata": {
        "colab": {
          "base_uri": "https://localhost:8080/",
          "height": 297
        },
        "id": "154Ve1cGt-OU",
        "outputId": "77941332-9672-4b18-e032-7d35630e1486"
      },
      "id": "154Ve1cGt-OU",
      "execution_count": 16,
      "outputs": [
        {
          "output_type": "execute_result",
          "data": {
            "text/plain": [
              "           Año  Intencion_Voto  Diferencia  Reelige\n",
              "count   492.00          492.00      492.00   492.00\n",
              "mean   1997.59           42.03       -2.69     0.60\n",
              "std      12.03            8.01       14.52     0.49\n",
              "min    1976.00           17.45      -46.97     0.00\n",
              "25%    1988.00           36.79      -12.56     0.00\n",
              "50%    1996.00           41.95       -2.23     1.00\n",
              "75%    2008.00           47.49        7.48     1.00\n",
              "max    2016.00           61.42       32.56     1.00"
            ],
            "text/html": [
              "\n",
              "  <div id=\"df-5d60aff1-9b57-4e5e-9fa2-4297115bdcd8\">\n",
              "    <div class=\"colab-df-container\">\n",
              "      <div>\n",
              "<style scoped>\n",
              "    .dataframe tbody tr th:only-of-type {\n",
              "        vertical-align: middle;\n",
              "    }\n",
              "\n",
              "    .dataframe tbody tr th {\n",
              "        vertical-align: top;\n",
              "    }\n",
              "\n",
              "    .dataframe thead th {\n",
              "        text-align: right;\n",
              "    }\n",
              "</style>\n",
              "<table border=\"1\" class=\"dataframe\">\n",
              "  <thead>\n",
              "    <tr style=\"text-align: right;\">\n",
              "      <th></th>\n",
              "      <th>Año</th>\n",
              "      <th>Intencion_Voto</th>\n",
              "      <th>Diferencia</th>\n",
              "      <th>Reelige</th>\n",
              "    </tr>\n",
              "  </thead>\n",
              "  <tbody>\n",
              "    <tr>\n",
              "      <th>count</th>\n",
              "      <td>492.00</td>\n",
              "      <td>492.00</td>\n",
              "      <td>492.00</td>\n",
              "      <td>492.00</td>\n",
              "    </tr>\n",
              "    <tr>\n",
              "      <th>mean</th>\n",
              "      <td>1997.59</td>\n",
              "      <td>42.03</td>\n",
              "      <td>-2.69</td>\n",
              "      <td>0.60</td>\n",
              "    </tr>\n",
              "    <tr>\n",
              "      <th>std</th>\n",
              "      <td>12.03</td>\n",
              "      <td>8.01</td>\n",
              "      <td>14.52</td>\n",
              "      <td>0.49</td>\n",
              "    </tr>\n",
              "    <tr>\n",
              "      <th>min</th>\n",
              "      <td>1976.00</td>\n",
              "      <td>17.45</td>\n",
              "      <td>-46.97</td>\n",
              "      <td>0.00</td>\n",
              "    </tr>\n",
              "    <tr>\n",
              "      <th>25%</th>\n",
              "      <td>1988.00</td>\n",
              "      <td>36.79</td>\n",
              "      <td>-12.56</td>\n",
              "      <td>0.00</td>\n",
              "    </tr>\n",
              "    <tr>\n",
              "      <th>50%</th>\n",
              "      <td>1996.00</td>\n",
              "      <td>41.95</td>\n",
              "      <td>-2.23</td>\n",
              "      <td>1.00</td>\n",
              "    </tr>\n",
              "    <tr>\n",
              "      <th>75%</th>\n",
              "      <td>2008.00</td>\n",
              "      <td>47.49</td>\n",
              "      <td>7.48</td>\n",
              "      <td>1.00</td>\n",
              "    </tr>\n",
              "    <tr>\n",
              "      <th>max</th>\n",
              "      <td>2016.00</td>\n",
              "      <td>61.42</td>\n",
              "      <td>32.56</td>\n",
              "      <td>1.00</td>\n",
              "    </tr>\n",
              "  </tbody>\n",
              "</table>\n",
              "</div>\n",
              "      <button class=\"colab-df-convert\" onclick=\"convertToInteractive('df-5d60aff1-9b57-4e5e-9fa2-4297115bdcd8')\"\n",
              "              title=\"Convert this dataframe to an interactive table.\"\n",
              "              style=\"display:none;\">\n",
              "        \n",
              "  <svg xmlns=\"http://www.w3.org/2000/svg\" height=\"24px\"viewBox=\"0 0 24 24\"\n",
              "       width=\"24px\">\n",
              "    <path d=\"M0 0h24v24H0V0z\" fill=\"none\"/>\n",
              "    <path d=\"M18.56 5.44l.94 2.06.94-2.06 2.06-.94-2.06-.94-.94-2.06-.94 2.06-2.06.94zm-11 1L8.5 8.5l.94-2.06 2.06-.94-2.06-.94L8.5 2.5l-.94 2.06-2.06.94zm10 10l.94 2.06.94-2.06 2.06-.94-2.06-.94-.94-2.06-.94 2.06-2.06.94z\"/><path d=\"M17.41 7.96l-1.37-1.37c-.4-.4-.92-.59-1.43-.59-.52 0-1.04.2-1.43.59L10.3 9.45l-7.72 7.72c-.78.78-.78 2.05 0 2.83L4 21.41c.39.39.9.59 1.41.59.51 0 1.02-.2 1.41-.59l7.78-7.78 2.81-2.81c.8-.78.8-2.07 0-2.86zM5.41 20L4 18.59l7.72-7.72 1.47 1.35L5.41 20z\"/>\n",
              "  </svg>\n",
              "      </button>\n",
              "      \n",
              "  <style>\n",
              "    .colab-df-container {\n",
              "      display:flex;\n",
              "      flex-wrap:wrap;\n",
              "      gap: 12px;\n",
              "    }\n",
              "\n",
              "    .colab-df-convert {\n",
              "      background-color: #E8F0FE;\n",
              "      border: none;\n",
              "      border-radius: 50%;\n",
              "      cursor: pointer;\n",
              "      display: none;\n",
              "      fill: #1967D2;\n",
              "      height: 32px;\n",
              "      padding: 0 0 0 0;\n",
              "      width: 32px;\n",
              "    }\n",
              "\n",
              "    .colab-df-convert:hover {\n",
              "      background-color: #E2EBFA;\n",
              "      box-shadow: 0px 1px 2px rgba(60, 64, 67, 0.3), 0px 1px 3px 1px rgba(60, 64, 67, 0.15);\n",
              "      fill: #174EA6;\n",
              "    }\n",
              "\n",
              "    [theme=dark] .colab-df-convert {\n",
              "      background-color: #3B4455;\n",
              "      fill: #D2E3FC;\n",
              "    }\n",
              "\n",
              "    [theme=dark] .colab-df-convert:hover {\n",
              "      background-color: #434B5C;\n",
              "      box-shadow: 0px 1px 3px 1px rgba(0, 0, 0, 0.15);\n",
              "      filter: drop-shadow(0px 1px 2px rgba(0, 0, 0, 0.3));\n",
              "      fill: #FFFFFF;\n",
              "    }\n",
              "  </style>\n",
              "\n",
              "      <script>\n",
              "        const buttonEl =\n",
              "          document.querySelector('#df-5d60aff1-9b57-4e5e-9fa2-4297115bdcd8 button.colab-df-convert');\n",
              "        buttonEl.style.display =\n",
              "          google.colab.kernel.accessAllowed ? 'block' : 'none';\n",
              "\n",
              "        async function convertToInteractive(key) {\n",
              "          const element = document.querySelector('#df-5d60aff1-9b57-4e5e-9fa2-4297115bdcd8');\n",
              "          const dataTable =\n",
              "            await google.colab.kernel.invokeFunction('convertToInteractive',\n",
              "                                                     [key], {});\n",
              "          if (!dataTable) return;\n",
              "\n",
              "          const docLinkHtml = 'Like what you see? Visit the ' +\n",
              "            '<a target=\"_blank\" href=https://colab.research.google.com/notebooks/data_table.ipynb>data table notebook</a>'\n",
              "            + ' to learn more about interactive tables.';\n",
              "          element.innerHTML = '';\n",
              "          dataTable['output_type'] = 'display_data';\n",
              "          await google.colab.output.renderOutput(dataTable, element);\n",
              "          const docLink = document.createElement('div');\n",
              "          docLink.innerHTML = docLinkHtml;\n",
              "          element.appendChild(docLink);\n",
              "        }\n",
              "      </script>\n",
              "    </div>\n",
              "  </div>\n",
              "  "
            ]
          },
          "metadata": {},
          "execution_count": 16
        }
      ]
    },
    {
      "cell_type": "code",
      "source": [
        "df.describe(include = \"object\")"
      ],
      "metadata": {
        "colab": {
          "base_uri": "https://localhost:8080/",
          "height": 173
        },
        "id": "alSKUt4buk1G",
        "outputId": "86514a1a-9500-4b37-c013-41c3e53186bc"
      },
      "id": "alSKUt4buk1G",
      "execution_count": 17,
      "outputs": [
        {
          "output_type": "execute_result",
          "data": {
            "text/plain": [
              "            Estado  Gobernante     Ganador Cod_Estado\n",
              "count          492         492         492        492\n",
              "unique          50           2           2         50\n",
              "top     California  republican  republican         CA\n",
              "freq            11         254         289         11"
            ],
            "text/html": [
              "\n",
              "  <div id=\"df-ca363a74-5e8b-4106-8304-3ba6e0141610\">\n",
              "    <div class=\"colab-df-container\">\n",
              "      <div>\n",
              "<style scoped>\n",
              "    .dataframe tbody tr th:only-of-type {\n",
              "        vertical-align: middle;\n",
              "    }\n",
              "\n",
              "    .dataframe tbody tr th {\n",
              "        vertical-align: top;\n",
              "    }\n",
              "\n",
              "    .dataframe thead th {\n",
              "        text-align: right;\n",
              "    }\n",
              "</style>\n",
              "<table border=\"1\" class=\"dataframe\">\n",
              "  <thead>\n",
              "    <tr style=\"text-align: right;\">\n",
              "      <th></th>\n",
              "      <th>Estado</th>\n",
              "      <th>Gobernante</th>\n",
              "      <th>Ganador</th>\n",
              "      <th>Cod_Estado</th>\n",
              "    </tr>\n",
              "  </thead>\n",
              "  <tbody>\n",
              "    <tr>\n",
              "      <th>count</th>\n",
              "      <td>492</td>\n",
              "      <td>492</td>\n",
              "      <td>492</td>\n",
              "      <td>492</td>\n",
              "    </tr>\n",
              "    <tr>\n",
              "      <th>unique</th>\n",
              "      <td>50</td>\n",
              "      <td>2</td>\n",
              "      <td>2</td>\n",
              "      <td>50</td>\n",
              "    </tr>\n",
              "    <tr>\n",
              "      <th>top</th>\n",
              "      <td>California</td>\n",
              "      <td>republican</td>\n",
              "      <td>republican</td>\n",
              "      <td>CA</td>\n",
              "    </tr>\n",
              "    <tr>\n",
              "      <th>freq</th>\n",
              "      <td>11</td>\n",
              "      <td>254</td>\n",
              "      <td>289</td>\n",
              "      <td>11</td>\n",
              "    </tr>\n",
              "  </tbody>\n",
              "</table>\n",
              "</div>\n",
              "      <button class=\"colab-df-convert\" onclick=\"convertToInteractive('df-ca363a74-5e8b-4106-8304-3ba6e0141610')\"\n",
              "              title=\"Convert this dataframe to an interactive table.\"\n",
              "              style=\"display:none;\">\n",
              "        \n",
              "  <svg xmlns=\"http://www.w3.org/2000/svg\" height=\"24px\"viewBox=\"0 0 24 24\"\n",
              "       width=\"24px\">\n",
              "    <path d=\"M0 0h24v24H0V0z\" fill=\"none\"/>\n",
              "    <path d=\"M18.56 5.44l.94 2.06.94-2.06 2.06-.94-2.06-.94-.94-2.06-.94 2.06-2.06.94zm-11 1L8.5 8.5l.94-2.06 2.06-.94-2.06-.94L8.5 2.5l-.94 2.06-2.06.94zm10 10l.94 2.06.94-2.06 2.06-.94-2.06-.94-.94-2.06-.94 2.06-2.06.94z\"/><path d=\"M17.41 7.96l-1.37-1.37c-.4-.4-.92-.59-1.43-.59-.52 0-1.04.2-1.43.59L10.3 9.45l-7.72 7.72c-.78.78-.78 2.05 0 2.83L4 21.41c.39.39.9.59 1.41.59.51 0 1.02-.2 1.41-.59l7.78-7.78 2.81-2.81c.8-.78.8-2.07 0-2.86zM5.41 20L4 18.59l7.72-7.72 1.47 1.35L5.41 20z\"/>\n",
              "  </svg>\n",
              "      </button>\n",
              "      \n",
              "  <style>\n",
              "    .colab-df-container {\n",
              "      display:flex;\n",
              "      flex-wrap:wrap;\n",
              "      gap: 12px;\n",
              "    }\n",
              "\n",
              "    .colab-df-convert {\n",
              "      background-color: #E8F0FE;\n",
              "      border: none;\n",
              "      border-radius: 50%;\n",
              "      cursor: pointer;\n",
              "      display: none;\n",
              "      fill: #1967D2;\n",
              "      height: 32px;\n",
              "      padding: 0 0 0 0;\n",
              "      width: 32px;\n",
              "    }\n",
              "\n",
              "    .colab-df-convert:hover {\n",
              "      background-color: #E2EBFA;\n",
              "      box-shadow: 0px 1px 2px rgba(60, 64, 67, 0.3), 0px 1px 3px 1px rgba(60, 64, 67, 0.15);\n",
              "      fill: #174EA6;\n",
              "    }\n",
              "\n",
              "    [theme=dark] .colab-df-convert {\n",
              "      background-color: #3B4455;\n",
              "      fill: #D2E3FC;\n",
              "    }\n",
              "\n",
              "    [theme=dark] .colab-df-convert:hover {\n",
              "      background-color: #434B5C;\n",
              "      box-shadow: 0px 1px 3px 1px rgba(0, 0, 0, 0.15);\n",
              "      filter: drop-shadow(0px 1px 2px rgba(0, 0, 0, 0.3));\n",
              "      fill: #FFFFFF;\n",
              "    }\n",
              "  </style>\n",
              "\n",
              "      <script>\n",
              "        const buttonEl =\n",
              "          document.querySelector('#df-ca363a74-5e8b-4106-8304-3ba6e0141610 button.colab-df-convert');\n",
              "        buttonEl.style.display =\n",
              "          google.colab.kernel.accessAllowed ? 'block' : 'none';\n",
              "\n",
              "        async function convertToInteractive(key) {\n",
              "          const element = document.querySelector('#df-ca363a74-5e8b-4106-8304-3ba6e0141610');\n",
              "          const dataTable =\n",
              "            await google.colab.kernel.invokeFunction('convertToInteractive',\n",
              "                                                     [key], {});\n",
              "          if (!dataTable) return;\n",
              "\n",
              "          const docLinkHtml = 'Like what you see? Visit the ' +\n",
              "            '<a target=\"_blank\" href=https://colab.research.google.com/notebooks/data_table.ipynb>data table notebook</a>'\n",
              "            + ' to learn more about interactive tables.';\n",
              "          element.innerHTML = '';\n",
              "          dataTable['output_type'] = 'display_data';\n",
              "          await google.colab.output.renderOutput(dataTable, element);\n",
              "          const docLink = document.createElement('div');\n",
              "          docLink.innerHTML = docLinkHtml;\n",
              "          element.appendChild(docLink);\n",
              "        }\n",
              "      </script>\n",
              "    </div>\n",
              "  </div>\n",
              "  "
            ]
          },
          "metadata": {},
          "execution_count": 17
        }
      ]
    },
    {
      "cell_type": "markdown",
      "source": [
        "### **Resumen del dataframe ```info()```**"
      ],
      "metadata": {
        "id": "rKn4bzjkuWzu"
      },
      "id": "rKn4bzjkuWzu"
    },
    {
      "cell_type": "code",
      "source": [
        "df.info()"
      ],
      "metadata": {
        "colab": {
          "base_uri": "https://localhost:8080/"
        },
        "id": "LeHKGLrZuarh",
        "outputId": "93f56c49-c4e4-40c3-ba86-cfa5e416d356"
      },
      "id": "LeHKGLrZuarh",
      "execution_count": 18,
      "outputs": [
        {
          "output_type": "stream",
          "name": "stdout",
          "text": [
            "<class 'pandas.core.frame.DataFrame'>\n",
            "RangeIndex: 492 entries, 0 to 491\n",
            "Data columns (total 8 columns):\n",
            " #   Column          Non-Null Count  Dtype  \n",
            "---  ------          --------------  -----  \n",
            " 0   Año             492 non-null    int64  \n",
            " 1   Estado          492 non-null    object \n",
            " 2   Intencion_Voto  492 non-null    float64\n",
            " 3   Diferencia      492 non-null    float64\n",
            " 4   Gobernante      492 non-null    object \n",
            " 5   Reelige         492 non-null    int64  \n",
            " 6   Ganador         492 non-null    object \n",
            " 7   Cod_Estado      492 non-null    object \n",
            "dtypes: float64(2), int64(2), object(4)\n",
            "memory usage: 30.9+ KB\n"
          ]
        }
      ]
    },
    {
      "cell_type": "markdown",
      "source": [
        "# **Plotly**"
      ],
      "metadata": {
        "id": "itxtELCBzLGm"
      },
      "id": "itxtELCBzLGm"
    },
    {
      "cell_type": "markdown",
      "source": [
        "https://plotly.com/python/"
      ],
      "metadata": {
        "id": "D6yqzHgq3_xj"
      },
      "id": "D6yqzHgq3_xj"
    },
    {
      "cell_type": "code",
      "source": [
        "df.head()"
      ],
      "metadata": {
        "colab": {
          "base_uri": "https://localhost:8080/",
          "height": 204
        },
        "id": "tc5C8WwuzRBK",
        "outputId": "90d803b7-4d4b-4709-8c78-283fa70b220b"
      },
      "id": "tc5C8WwuzRBK",
      "execution_count": 19,
      "outputs": [
        {
          "output_type": "execute_result",
          "data": {
            "text/plain": [
              "    Año      Estado  Intencion_Voto  Diferencia  Gobernante  Reelige  \\\n",
              "0  1976  California       42.797994   -3.270222  republican        1   \n",
              "1  1980  California       28.010388  -14.065118    democrat        1   \n",
              "2  1984  California       38.947686  -16.310839  republican        1   \n",
              "3  1988  California       42.883798   -8.033824  republican        0   \n",
              "4  1992  California       48.764566   17.150517  republican        1   \n",
              "\n",
              "      Ganador Cod_Estado  \n",
              "0  republican         CA  \n",
              "1  republican         CA  \n",
              "2  republican         CA  \n",
              "3  republican         CA  \n",
              "4    democrat         CA  "
            ],
            "text/html": [
              "\n",
              "  <div id=\"df-577455b6-1f11-4823-b2ae-851001ec1f15\">\n",
              "    <div class=\"colab-df-container\">\n",
              "      <div>\n",
              "<style scoped>\n",
              "    .dataframe tbody tr th:only-of-type {\n",
              "        vertical-align: middle;\n",
              "    }\n",
              "\n",
              "    .dataframe tbody tr th {\n",
              "        vertical-align: top;\n",
              "    }\n",
              "\n",
              "    .dataframe thead th {\n",
              "        text-align: right;\n",
              "    }\n",
              "</style>\n",
              "<table border=\"1\" class=\"dataframe\">\n",
              "  <thead>\n",
              "    <tr style=\"text-align: right;\">\n",
              "      <th></th>\n",
              "      <th>Año</th>\n",
              "      <th>Estado</th>\n",
              "      <th>Intencion_Voto</th>\n",
              "      <th>Diferencia</th>\n",
              "      <th>Gobernante</th>\n",
              "      <th>Reelige</th>\n",
              "      <th>Ganador</th>\n",
              "      <th>Cod_Estado</th>\n",
              "    </tr>\n",
              "  </thead>\n",
              "  <tbody>\n",
              "    <tr>\n",
              "      <th>0</th>\n",
              "      <td>1976</td>\n",
              "      <td>California</td>\n",
              "      <td>42.797994</td>\n",
              "      <td>-3.270222</td>\n",
              "      <td>republican</td>\n",
              "      <td>1</td>\n",
              "      <td>republican</td>\n",
              "      <td>CA</td>\n",
              "    </tr>\n",
              "    <tr>\n",
              "      <th>1</th>\n",
              "      <td>1980</td>\n",
              "      <td>California</td>\n",
              "      <td>28.010388</td>\n",
              "      <td>-14.065118</td>\n",
              "      <td>democrat</td>\n",
              "      <td>1</td>\n",
              "      <td>republican</td>\n",
              "      <td>CA</td>\n",
              "    </tr>\n",
              "    <tr>\n",
              "      <th>2</th>\n",
              "      <td>1984</td>\n",
              "      <td>California</td>\n",
              "      <td>38.947686</td>\n",
              "      <td>-16.310839</td>\n",
              "      <td>republican</td>\n",
              "      <td>1</td>\n",
              "      <td>republican</td>\n",
              "      <td>CA</td>\n",
              "    </tr>\n",
              "    <tr>\n",
              "      <th>3</th>\n",
              "      <td>1988</td>\n",
              "      <td>California</td>\n",
              "      <td>42.883798</td>\n",
              "      <td>-8.033824</td>\n",
              "      <td>republican</td>\n",
              "      <td>0</td>\n",
              "      <td>republican</td>\n",
              "      <td>CA</td>\n",
              "    </tr>\n",
              "    <tr>\n",
              "      <th>4</th>\n",
              "      <td>1992</td>\n",
              "      <td>California</td>\n",
              "      <td>48.764566</td>\n",
              "      <td>17.150517</td>\n",
              "      <td>republican</td>\n",
              "      <td>1</td>\n",
              "      <td>democrat</td>\n",
              "      <td>CA</td>\n",
              "    </tr>\n",
              "  </tbody>\n",
              "</table>\n",
              "</div>\n",
              "      <button class=\"colab-df-convert\" onclick=\"convertToInteractive('df-577455b6-1f11-4823-b2ae-851001ec1f15')\"\n",
              "              title=\"Convert this dataframe to an interactive table.\"\n",
              "              style=\"display:none;\">\n",
              "        \n",
              "  <svg xmlns=\"http://www.w3.org/2000/svg\" height=\"24px\"viewBox=\"0 0 24 24\"\n",
              "       width=\"24px\">\n",
              "    <path d=\"M0 0h24v24H0V0z\" fill=\"none\"/>\n",
              "    <path d=\"M18.56 5.44l.94 2.06.94-2.06 2.06-.94-2.06-.94-.94-2.06-.94 2.06-2.06.94zm-11 1L8.5 8.5l.94-2.06 2.06-.94-2.06-.94L8.5 2.5l-.94 2.06-2.06.94zm10 10l.94 2.06.94-2.06 2.06-.94-2.06-.94-.94-2.06-.94 2.06-2.06.94z\"/><path d=\"M17.41 7.96l-1.37-1.37c-.4-.4-.92-.59-1.43-.59-.52 0-1.04.2-1.43.59L10.3 9.45l-7.72 7.72c-.78.78-.78 2.05 0 2.83L4 21.41c.39.39.9.59 1.41.59.51 0 1.02-.2 1.41-.59l7.78-7.78 2.81-2.81c.8-.78.8-2.07 0-2.86zM5.41 20L4 18.59l7.72-7.72 1.47 1.35L5.41 20z\"/>\n",
              "  </svg>\n",
              "      </button>\n",
              "      \n",
              "  <style>\n",
              "    .colab-df-container {\n",
              "      display:flex;\n",
              "      flex-wrap:wrap;\n",
              "      gap: 12px;\n",
              "    }\n",
              "\n",
              "    .colab-df-convert {\n",
              "      background-color: #E8F0FE;\n",
              "      border: none;\n",
              "      border-radius: 50%;\n",
              "      cursor: pointer;\n",
              "      display: none;\n",
              "      fill: #1967D2;\n",
              "      height: 32px;\n",
              "      padding: 0 0 0 0;\n",
              "      width: 32px;\n",
              "    }\n",
              "\n",
              "    .colab-df-convert:hover {\n",
              "      background-color: #E2EBFA;\n",
              "      box-shadow: 0px 1px 2px rgba(60, 64, 67, 0.3), 0px 1px 3px 1px rgba(60, 64, 67, 0.15);\n",
              "      fill: #174EA6;\n",
              "    }\n",
              "\n",
              "    [theme=dark] .colab-df-convert {\n",
              "      background-color: #3B4455;\n",
              "      fill: #D2E3FC;\n",
              "    }\n",
              "\n",
              "    [theme=dark] .colab-df-convert:hover {\n",
              "      background-color: #434B5C;\n",
              "      box-shadow: 0px 1px 3px 1px rgba(0, 0, 0, 0.15);\n",
              "      filter: drop-shadow(0px 1px 2px rgba(0, 0, 0, 0.3));\n",
              "      fill: #FFFFFF;\n",
              "    }\n",
              "  </style>\n",
              "\n",
              "      <script>\n",
              "        const buttonEl =\n",
              "          document.querySelector('#df-577455b6-1f11-4823-b2ae-851001ec1f15 button.colab-df-convert');\n",
              "        buttonEl.style.display =\n",
              "          google.colab.kernel.accessAllowed ? 'block' : 'none';\n",
              "\n",
              "        async function convertToInteractive(key) {\n",
              "          const element = document.querySelector('#df-577455b6-1f11-4823-b2ae-851001ec1f15');\n",
              "          const dataTable =\n",
              "            await google.colab.kernel.invokeFunction('convertToInteractive',\n",
              "                                                     [key], {});\n",
              "          if (!dataTable) return;\n",
              "\n",
              "          const docLinkHtml = 'Like what you see? Visit the ' +\n",
              "            '<a target=\"_blank\" href=https://colab.research.google.com/notebooks/data_table.ipynb>data table notebook</a>'\n",
              "            + ' to learn more about interactive tables.';\n",
              "          element.innerHTML = '';\n",
              "          dataTable['output_type'] = 'display_data';\n",
              "          await google.colab.output.renderOutput(dataTable, element);\n",
              "          const docLink = document.createElement('div');\n",
              "          docLink.innerHTML = docLinkHtml;\n",
              "          element.appendChild(docLink);\n",
              "        }\n",
              "      </script>\n",
              "    </div>\n",
              "  </div>\n",
              "  "
            ]
          },
          "metadata": {},
          "execution_count": 19
        }
      ]
    },
    {
      "cell_type": "markdown",
      "source": [
        "## **Histograma**"
      ],
      "metadata": {
        "id": "4R9RPRHK1__j"
      },
      "id": "4R9RPRHK1__j"
    },
    {
      "cell_type": "markdown",
      "source": [
        "https://plotly.com/python/histograms/"
      ],
      "metadata": {
        "id": "j5khxsqx5czc"
      },
      "id": "j5khxsqx5czc"
    },
    {
      "cell_type": "code",
      "source": [
        "px.histogram(df, x = \"Ganador\")"
      ],
      "metadata": {
        "colab": {
          "base_uri": "https://localhost:8080/",
          "height": 542
        },
        "id": "XBOUFFJi39CJ",
        "outputId": "253fc658-6cf7-4477-bdb4-de30b40e9f12"
      },
      "id": "XBOUFFJi39CJ",
      "execution_count": 20,
      "outputs": [
        {
          "output_type": "display_data",
          "data": {
            "text/html": [
              "<html>\n",
              "<head><meta charset=\"utf-8\" /></head>\n",
              "<body>\n",
              "    <div>            <script src=\"https://cdnjs.cloudflare.com/ajax/libs/mathjax/2.7.5/MathJax.js?config=TeX-AMS-MML_SVG\"></script><script type=\"text/javascript\">if (window.MathJax && window.MathJax.Hub && window.MathJax.Hub.Config) {window.MathJax.Hub.Config({SVG: {font: \"STIX-Web\"}});}</script>                <script type=\"text/javascript\">window.PlotlyConfig = {MathJaxConfig: 'local'};</script>\n",
              "        <script src=\"https://cdn.plot.ly/plotly-2.14.0.min.js\"></script>                <div id=\"4fafc612-78b0-4591-a74c-53e89c1250f9\" class=\"plotly-graph-div\" style=\"height:525px; width:100%;\"></div>            <script type=\"text/javascript\">                                    window.PLOTLYENV=window.PLOTLYENV || {};                                    if (document.getElementById(\"4fafc612-78b0-4591-a74c-53e89c1250f9\")) {                    Plotly.newPlot(                        \"4fafc612-78b0-4591-a74c-53e89c1250f9\",                        [{\"alignmentgroup\":\"True\",\"bingroup\":\"x\",\"hovertemplate\":\"Ganador=%{x}<br>count=%{y}<extra></extra>\",\"legendgroup\":\"\",\"marker\":{\"color\":\"#636efa\",\"pattern\":{\"shape\":\"\"}},\"name\":\"\",\"offsetgroup\":\"\",\"orientation\":\"v\",\"showlegend\":false,\"x\":[\"republican\",\"republican\",\"republican\",\"republican\",\"democrat\",\"democrat\",\"democrat\",\"democrat\",\"democrat\",\"democrat\",\"democrat\",\"republican\",\"republican\",\"republican\",\"republican\",\"democrat\",\"republican\",\"republican\",\"republican\",\"democrat\",\"democrat\",\"democrat\",\"republican\",\"republican\",\"republican\",\"republican\",\"democrat\",\"democrat\",\"democrat\",\"democrat\",\"democrat\",\"democrat\",\"democrat\",\"democrat\",\"republican\",\"republican\",\"democrat\",\"democrat\",\"democrat\",\"democrat\",\"democrat\",\"democrat\",\"democrat\",\"democrat\",\"republican\",\"democrat\",\"republican\",\"republican\",\"republican\",\"republican\",\"republican\",\"republican\",\"republican\",\"republican\",\"republican\",\"republican\",\"republican\",\"republican\",\"republican\",\"republican\",\"republican\",\"republican\",\"republican\",\"republican\",\"republican\",\"democrat\",\"democrat\",\"democrat\",\"democrat\",\"democrat\",\"democrat\",\"democrat\",\"republican\",\"republican\",\"republican\",\"republican\",\"republican\",\"republican\",\"republican\",\"democrat\",\"republican\",\"republican\",\"republican\",\"republican\",\"republican\",\"democrat\",\"democrat\",\"democrat\",\"democrat\",\"republican\",\"democrat\",\"democrat\",\"republican\",\"republican\",\"republican\",\"republican\",\"republican\",\"republican\",\"republican\",\"republican\",\"republican\",\"republican\",\"republican\",\"republican\",\"republican\",\"republican\",\"republican\",\"democrat\",\"democrat\",\"democrat\",\"democrat\",\"democrat\",\"democrat\",\"democrat\",\"democrat\",\"democrat\",\"republican\",\"republican\",\"democrat\",\"democrat\",\"democrat\",\"democrat\",\"democrat\",\"democrat\",\"democrat\",\"democrat\",\"republican\",\"republican\",\"democrat\",\"democrat\",\"democrat\",\"democrat\",\"democrat\",\"democrat\",\"democrat\",\"democrat\",\"republican\",\"republican\",\"republican\",\"democrat\",\"democrat\",\"democrat\",\"democrat\",\"democrat\",\"democrat\",\"republican\",\"democrat\",\"democrat\",\"democrat\",\"democrat\",\"democrat\",\"democrat\",\"democrat\",\"democrat\",\"democrat\",\"democrat\",\"democrat\",\"democrat\",\"republican\",\"republican\",\"republican\",\"democrat\",\"democrat\",\"republican\",\"republican\",\"republican\",\"republican\",\"republican\",\"republican\",\"republican\",\"republican\",\"republican\",\"republican\",\"republican\",\"republican\",\"republican\",\"republican\",\"republican\",\"republican\",\"republican\",\"republican\",\"republican\",\"republican\",\"democrat\",\"democrat\",\"democrat\",\"democrat\",\"democrat\",\"democrat\",\"democrat\",\"democrat\",\"democrat\",\"republican\",\"democrat\",\"democrat\",\"democrat\",\"democrat\",\"democrat\",\"democrat\",\"democrat\",\"democrat\",\"democrat\",\"republican\",\"republican\",\"republican\",\"republican\",\"republican\",\"republican\",\"republican\",\"democrat\",\"republican\",\"republican\",\"democrat\",\"republican\",\"republican\",\"republican\",\"democrat\",\"democrat\",\"republican\",\"republican\",\"democrat\",\"democrat\",\"republican\",\"republican\",\"republican\",\"republican\",\"democrat\",\"democrat\",\"democrat\",\"democrat\",\"democrat\",\"democrat\",\"democrat\",\"democrat\",\"democrat\",\"republican\",\"republican\",\"republican\",\"republican\",\"republican\",\"republican\",\"republican\",\"republican\",\"republican\",\"republican\",\"republican\",\"republican\",\"republican\",\"republican\",\"republican\",\"republican\",\"republican\",\"republican\",\"republican\",\"republican\",\"republican\",\"republican\",\"republican\",\"republican\",\"republican\",\"republican\",\"republican\",\"republican\",\"republican\",\"republican\",\"republican\",\"republican\",\"democrat\",\"democrat\",\"democrat\",\"democrat\",\"democrat\",\"democrat\",\"democrat\",\"democrat\",\"republican\",\"republican\",\"republican\",\"republican\",\"republican\",\"republican\",\"republican\",\"republican\",\"republican\",\"republican\",\"republican\",\"republican\",\"republican\",\"democrat\",\"republican\",\"republican\",\"republican\",\"republican\",\"republican\",\"republican\",\"republican\",\"democrat\",\"democrat\",\"republican\",\"republican\",\"republican\",\"republican\",\"republican\",\"republican\",\"republican\",\"republican\",\"republican\",\"democrat\",\"republican\",\"republican\",\"democrat\",\"democrat\",\"republican\",\"democrat\",\"democrat\",\"democrat\",\"democrat\",\"democrat\",\"democrat\",\"democrat\",\"democrat\",\"democrat\",\"republican\",\"republican\",\"democrat\",\"democrat\",\"republican\",\"republican\",\"republican\",\"republican\",\"republican\",\"republican\",\"republican\",\"republican\",\"republican\",\"republican\",\"republican\",\"republican\",\"republican\",\"republican\",\"republican\",\"democrat\",\"democrat\",\"republican\",\"republican\",\"democrat\",\"democrat\",\"democrat\",\"republican\",\"republican\",\"republican\",\"democrat\",\"democrat\",\"republican\",\"democrat\",\"democrat\",\"democrat\",\"democrat\",\"republican\",\"republican\",\"republican\",\"republican\",\"republican\",\"republican\",\"republican\",\"republican\",\"republican\",\"republican\",\"republican\",\"republican\",\"republican\",\"republican\",\"republican\",\"republican\",\"republican\",\"republican\",\"republican\",\"republican\",\"republican\",\"democrat\",\"democrat\",\"democrat\",\"democrat\",\"democrat\",\"democrat\",\"republican\",\"democrat\",\"republican\",\"democrat\",\"democrat\",\"democrat\",\"democrat\",\"democrat\",\"democrat\",\"democrat\",\"democrat\",\"republican\",\"republican\",\"democrat\",\"democrat\",\"republican\",\"republican\",\"republican\",\"republican\",\"republican\",\"republican\",\"republican\",\"republican\",\"republican\",\"republican\",\"republican\",\"republican\",\"republican\",\"republican\",\"republican\",\"republican\",\"republican\",\"republican\",\"republican\",\"republican\",\"republican\",\"republican\",\"democrat\",\"democrat\",\"democrat\",\"democrat\",\"republican\",\"democrat\",\"democrat\",\"democrat\",\"republican\",\"republican\",\"republican\",\"republican\",\"republican\",\"republican\",\"republican\",\"democrat\",\"democrat\",\"democrat\",\"democrat\",\"democrat\",\"democrat\",\"democrat\",\"republican\",\"republican\",\"republican\",\"democrat\",\"democrat\",\"republican\",\"republican\",\"republican\",\"republican\",\"republican\",\"republican\",\"republican\",\"democrat\",\"democrat\",\"democrat\",\"republican\",\"democrat\",\"democrat\",\"democrat\",\"republican\",\"republican\",\"republican\",\"republican\",\"republican\",\"republican\",\"republican\",\"republican\",\"democrat\",\"republican\",\"republican\",\"republican\",\"republican\",\"republican\",\"republican\",\"republican\",\"democrat\",\"democrat\",\"democrat\",\"democrat\",\"democrat\",\"democrat\",\"democrat\",\"republican\",\"republican\",\"republican\",\"republican\",\"republican\",\"republican\"],\"xaxis\":\"x\",\"yaxis\":\"y\",\"type\":\"histogram\"}],                        {\"template\":{\"data\":{\"histogram2dcontour\":[{\"type\":\"histogram2dcontour\",\"colorbar\":{\"outlinewidth\":0,\"ticks\":\"\"},\"colorscale\":[[0.0,\"#0d0887\"],[0.1111111111111111,\"#46039f\"],[0.2222222222222222,\"#7201a8\"],[0.3333333333333333,\"#9c179e\"],[0.4444444444444444,\"#bd3786\"],[0.5555555555555556,\"#d8576b\"],[0.6666666666666666,\"#ed7953\"],[0.7777777777777778,\"#fb9f3a\"],[0.8888888888888888,\"#fdca26\"],[1.0,\"#f0f921\"]]}],\"choropleth\":[{\"type\":\"choropleth\",\"colorbar\":{\"outlinewidth\":0,\"ticks\":\"\"}}],\"histogram2d\":[{\"type\":\"histogram2d\",\"colorbar\":{\"outlinewidth\":0,\"ticks\":\"\"},\"colorscale\":[[0.0,\"#0d0887\"],[0.1111111111111111,\"#46039f\"],[0.2222222222222222,\"#7201a8\"],[0.3333333333333333,\"#9c179e\"],[0.4444444444444444,\"#bd3786\"],[0.5555555555555556,\"#d8576b\"],[0.6666666666666666,\"#ed7953\"],[0.7777777777777778,\"#fb9f3a\"],[0.8888888888888888,\"#fdca26\"],[1.0,\"#f0f921\"]]}],\"heatmap\":[{\"type\":\"heatmap\",\"colorbar\":{\"outlinewidth\":0,\"ticks\":\"\"},\"colorscale\":[[0.0,\"#0d0887\"],[0.1111111111111111,\"#46039f\"],[0.2222222222222222,\"#7201a8\"],[0.3333333333333333,\"#9c179e\"],[0.4444444444444444,\"#bd3786\"],[0.5555555555555556,\"#d8576b\"],[0.6666666666666666,\"#ed7953\"],[0.7777777777777778,\"#fb9f3a\"],[0.8888888888888888,\"#fdca26\"],[1.0,\"#f0f921\"]]}],\"heatmapgl\":[{\"type\":\"heatmapgl\",\"colorbar\":{\"outlinewidth\":0,\"ticks\":\"\"},\"colorscale\":[[0.0,\"#0d0887\"],[0.1111111111111111,\"#46039f\"],[0.2222222222222222,\"#7201a8\"],[0.3333333333333333,\"#9c179e\"],[0.4444444444444444,\"#bd3786\"],[0.5555555555555556,\"#d8576b\"],[0.6666666666666666,\"#ed7953\"],[0.7777777777777778,\"#fb9f3a\"],[0.8888888888888888,\"#fdca26\"],[1.0,\"#f0f921\"]]}],\"contourcarpet\":[{\"type\":\"contourcarpet\",\"colorbar\":{\"outlinewidth\":0,\"ticks\":\"\"}}],\"contour\":[{\"type\":\"contour\",\"colorbar\":{\"outlinewidth\":0,\"ticks\":\"\"},\"colorscale\":[[0.0,\"#0d0887\"],[0.1111111111111111,\"#46039f\"],[0.2222222222222222,\"#7201a8\"],[0.3333333333333333,\"#9c179e\"],[0.4444444444444444,\"#bd3786\"],[0.5555555555555556,\"#d8576b\"],[0.6666666666666666,\"#ed7953\"],[0.7777777777777778,\"#fb9f3a\"],[0.8888888888888888,\"#fdca26\"],[1.0,\"#f0f921\"]]}],\"surface\":[{\"type\":\"surface\",\"colorbar\":{\"outlinewidth\":0,\"ticks\":\"\"},\"colorscale\":[[0.0,\"#0d0887\"],[0.1111111111111111,\"#46039f\"],[0.2222222222222222,\"#7201a8\"],[0.3333333333333333,\"#9c179e\"],[0.4444444444444444,\"#bd3786\"],[0.5555555555555556,\"#d8576b\"],[0.6666666666666666,\"#ed7953\"],[0.7777777777777778,\"#fb9f3a\"],[0.8888888888888888,\"#fdca26\"],[1.0,\"#f0f921\"]]}],\"mesh3d\":[{\"type\":\"mesh3d\",\"colorbar\":{\"outlinewidth\":0,\"ticks\":\"\"}}],\"scatter\":[{\"fillpattern\":{\"fillmode\":\"overlay\",\"size\":10,\"solidity\":0.2},\"type\":\"scatter\"}],\"parcoords\":[{\"type\":\"parcoords\",\"line\":{\"colorbar\":{\"outlinewidth\":0,\"ticks\":\"\"}}}],\"scatterpolargl\":[{\"type\":\"scatterpolargl\",\"marker\":{\"colorbar\":{\"outlinewidth\":0,\"ticks\":\"\"}}}],\"bar\":[{\"error_x\":{\"color\":\"#2a3f5f\"},\"error_y\":{\"color\":\"#2a3f5f\"},\"marker\":{\"line\":{\"color\":\"#E5ECF6\",\"width\":0.5},\"pattern\":{\"fillmode\":\"overlay\",\"size\":10,\"solidity\":0.2}},\"type\":\"bar\"}],\"scattergeo\":[{\"type\":\"scattergeo\",\"marker\":{\"colorbar\":{\"outlinewidth\":0,\"ticks\":\"\"}}}],\"scatterpolar\":[{\"type\":\"scatterpolar\",\"marker\":{\"colorbar\":{\"outlinewidth\":0,\"ticks\":\"\"}}}],\"histogram\":[{\"marker\":{\"pattern\":{\"fillmode\":\"overlay\",\"size\":10,\"solidity\":0.2}},\"type\":\"histogram\"}],\"scattergl\":[{\"type\":\"scattergl\",\"marker\":{\"colorbar\":{\"outlinewidth\":0,\"ticks\":\"\"}}}],\"scatter3d\":[{\"type\":\"scatter3d\",\"line\":{\"colorbar\":{\"outlinewidth\":0,\"ticks\":\"\"}},\"marker\":{\"colorbar\":{\"outlinewidth\":0,\"ticks\":\"\"}}}],\"scattermapbox\":[{\"type\":\"scattermapbox\",\"marker\":{\"colorbar\":{\"outlinewidth\":0,\"ticks\":\"\"}}}],\"scatterternary\":[{\"type\":\"scatterternary\",\"marker\":{\"colorbar\":{\"outlinewidth\":0,\"ticks\":\"\"}}}],\"scattercarpet\":[{\"type\":\"scattercarpet\",\"marker\":{\"colorbar\":{\"outlinewidth\":0,\"ticks\":\"\"}}}],\"carpet\":[{\"aaxis\":{\"endlinecolor\":\"#2a3f5f\",\"gridcolor\":\"white\",\"linecolor\":\"white\",\"minorgridcolor\":\"white\",\"startlinecolor\":\"#2a3f5f\"},\"baxis\":{\"endlinecolor\":\"#2a3f5f\",\"gridcolor\":\"white\",\"linecolor\":\"white\",\"minorgridcolor\":\"white\",\"startlinecolor\":\"#2a3f5f\"},\"type\":\"carpet\"}],\"table\":[{\"cells\":{\"fill\":{\"color\":\"#EBF0F8\"},\"line\":{\"color\":\"white\"}},\"header\":{\"fill\":{\"color\":\"#C8D4E3\"},\"line\":{\"color\":\"white\"}},\"type\":\"table\"}],\"barpolar\":[{\"marker\":{\"line\":{\"color\":\"#E5ECF6\",\"width\":0.5},\"pattern\":{\"fillmode\":\"overlay\",\"size\":10,\"solidity\":0.2}},\"type\":\"barpolar\"}],\"pie\":[{\"automargin\":true,\"type\":\"pie\"}]},\"layout\":{\"autotypenumbers\":\"strict\",\"colorway\":[\"#636efa\",\"#EF553B\",\"#00cc96\",\"#ab63fa\",\"#FFA15A\",\"#19d3f3\",\"#FF6692\",\"#B6E880\",\"#FF97FF\",\"#FECB52\"],\"font\":{\"color\":\"#2a3f5f\"},\"hovermode\":\"closest\",\"hoverlabel\":{\"align\":\"left\"},\"paper_bgcolor\":\"white\",\"plot_bgcolor\":\"#E5ECF6\",\"polar\":{\"bgcolor\":\"#E5ECF6\",\"angularaxis\":{\"gridcolor\":\"white\",\"linecolor\":\"white\",\"ticks\":\"\"},\"radialaxis\":{\"gridcolor\":\"white\",\"linecolor\":\"white\",\"ticks\":\"\"}},\"ternary\":{\"bgcolor\":\"#E5ECF6\",\"aaxis\":{\"gridcolor\":\"white\",\"linecolor\":\"white\",\"ticks\":\"\"},\"baxis\":{\"gridcolor\":\"white\",\"linecolor\":\"white\",\"ticks\":\"\"},\"caxis\":{\"gridcolor\":\"white\",\"linecolor\":\"white\",\"ticks\":\"\"}},\"coloraxis\":{\"colorbar\":{\"outlinewidth\":0,\"ticks\":\"\"}},\"colorscale\":{\"sequential\":[[0.0,\"#0d0887\"],[0.1111111111111111,\"#46039f\"],[0.2222222222222222,\"#7201a8\"],[0.3333333333333333,\"#9c179e\"],[0.4444444444444444,\"#bd3786\"],[0.5555555555555556,\"#d8576b\"],[0.6666666666666666,\"#ed7953\"],[0.7777777777777778,\"#fb9f3a\"],[0.8888888888888888,\"#fdca26\"],[1.0,\"#f0f921\"]],\"sequentialminus\":[[0.0,\"#0d0887\"],[0.1111111111111111,\"#46039f\"],[0.2222222222222222,\"#7201a8\"],[0.3333333333333333,\"#9c179e\"],[0.4444444444444444,\"#bd3786\"],[0.5555555555555556,\"#d8576b\"],[0.6666666666666666,\"#ed7953\"],[0.7777777777777778,\"#fb9f3a\"],[0.8888888888888888,\"#fdca26\"],[1.0,\"#f0f921\"]],\"diverging\":[[0,\"#8e0152\"],[0.1,\"#c51b7d\"],[0.2,\"#de77ae\"],[0.3,\"#f1b6da\"],[0.4,\"#fde0ef\"],[0.5,\"#f7f7f7\"],[0.6,\"#e6f5d0\"],[0.7,\"#b8e186\"],[0.8,\"#7fbc41\"],[0.9,\"#4d9221\"],[1,\"#276419\"]]},\"xaxis\":{\"gridcolor\":\"white\",\"linecolor\":\"white\",\"ticks\":\"\",\"title\":{\"standoff\":15},\"zerolinecolor\":\"white\",\"automargin\":true,\"zerolinewidth\":2},\"yaxis\":{\"gridcolor\":\"white\",\"linecolor\":\"white\",\"ticks\":\"\",\"title\":{\"standoff\":15},\"zerolinecolor\":\"white\",\"automargin\":true,\"zerolinewidth\":2},\"scene\":{\"xaxis\":{\"backgroundcolor\":\"#E5ECF6\",\"gridcolor\":\"white\",\"linecolor\":\"white\",\"showbackground\":true,\"ticks\":\"\",\"zerolinecolor\":\"white\",\"gridwidth\":2},\"yaxis\":{\"backgroundcolor\":\"#E5ECF6\",\"gridcolor\":\"white\",\"linecolor\":\"white\",\"showbackground\":true,\"ticks\":\"\",\"zerolinecolor\":\"white\",\"gridwidth\":2},\"zaxis\":{\"backgroundcolor\":\"#E5ECF6\",\"gridcolor\":\"white\",\"linecolor\":\"white\",\"showbackground\":true,\"ticks\":\"\",\"zerolinecolor\":\"white\",\"gridwidth\":2}},\"shapedefaults\":{\"line\":{\"color\":\"#2a3f5f\"}},\"annotationdefaults\":{\"arrowcolor\":\"#2a3f5f\",\"arrowhead\":0,\"arrowwidth\":1},\"geo\":{\"bgcolor\":\"white\",\"landcolor\":\"#E5ECF6\",\"subunitcolor\":\"white\",\"showland\":true,\"showlakes\":true,\"lakecolor\":\"white\"},\"title\":{\"x\":0.05},\"mapbox\":{\"style\":\"light\"}}},\"xaxis\":{\"anchor\":\"y\",\"domain\":[0.0,1.0],\"title\":{\"text\":\"Ganador\"}},\"yaxis\":{\"anchor\":\"x\",\"domain\":[0.0,1.0],\"title\":{\"text\":\"count\"}},\"legend\":{\"tracegroupgap\":0},\"margin\":{\"t\":60},\"barmode\":\"relative\"},                        {\"responsive\": true}                    ).then(function(){\n",
              "                            \n",
              "var gd = document.getElementById('4fafc612-78b0-4591-a74c-53e89c1250f9');\n",
              "var x = new MutationObserver(function (mutations, observer) {{\n",
              "        var display = window.getComputedStyle(gd).display;\n",
              "        if (!display || display === 'none') {{\n",
              "            console.log([gd, 'removed!']);\n",
              "            Plotly.purge(gd);\n",
              "            observer.disconnect();\n",
              "        }}\n",
              "}});\n",
              "\n",
              "// Listen for the removal of the full notebook cells\n",
              "var notebookContainer = gd.closest('#notebook-container');\n",
              "if (notebookContainer) {{\n",
              "    x.observe(notebookContainer, {childList: true});\n",
              "}}\n",
              "\n",
              "// Listen for the clearing of the current output cell\n",
              "var outputEl = gd.closest('.output');\n",
              "if (outputEl) {{\n",
              "    x.observe(outputEl, {childList: true});\n",
              "}}\n",
              "\n",
              "                        })                };                            </script>        </div>\n",
              "</body>\n",
              "</html>"
            ]
          },
          "metadata": {}
        }
      ]
    },
    {
      "cell_type": "code",
      "source": [
        "px.histogram(df, \n",
        "             x = \"Ganador\",\n",
        "             title = \"Elecciones\",\n",
        "             color = \"Ganador\")"
      ],
      "metadata": {
        "colab": {
          "base_uri": "https://localhost:8080/",
          "height": 542
        },
        "id": "9gfbOz-i4vaX",
        "outputId": "b560fc8b-b1d0-46f0-80f6-863aa8f5265a"
      },
      "id": "9gfbOz-i4vaX",
      "execution_count": 21,
      "outputs": [
        {
          "output_type": "display_data",
          "data": {
            "text/html": [
              "<html>\n",
              "<head><meta charset=\"utf-8\" /></head>\n",
              "<body>\n",
              "    <div>            <script src=\"https://cdnjs.cloudflare.com/ajax/libs/mathjax/2.7.5/MathJax.js?config=TeX-AMS-MML_SVG\"></script><script type=\"text/javascript\">if (window.MathJax && window.MathJax.Hub && window.MathJax.Hub.Config) {window.MathJax.Hub.Config({SVG: {font: \"STIX-Web\"}});}</script>                <script type=\"text/javascript\">window.PlotlyConfig = {MathJaxConfig: 'local'};</script>\n",
              "        <script src=\"https://cdn.plot.ly/plotly-2.14.0.min.js\"></script>                <div id=\"c2874753-f273-4d3e-9f1f-b0a0011c202b\" class=\"plotly-graph-div\" style=\"height:525px; width:100%;\"></div>            <script type=\"text/javascript\">                                    window.PLOTLYENV=window.PLOTLYENV || {};                                    if (document.getElementById(\"c2874753-f273-4d3e-9f1f-b0a0011c202b\")) {                    Plotly.newPlot(                        \"c2874753-f273-4d3e-9f1f-b0a0011c202b\",                        [{\"alignmentgroup\":\"True\",\"bingroup\":\"x\",\"hovertemplate\":\"Ganador=%{x}<br>count=%{y}<extra></extra>\",\"legendgroup\":\"republican\",\"marker\":{\"color\":\"#636efa\",\"pattern\":{\"shape\":\"\"}},\"name\":\"republican\",\"offsetgroup\":\"republican\",\"orientation\":\"v\",\"showlegend\":true,\"x\":[\"republican\",\"republican\",\"republican\",\"republican\",\"republican\",\"republican\",\"republican\",\"republican\",\"republican\",\"republican\",\"republican\",\"republican\",\"republican\",\"republican\",\"republican\",\"republican\",\"republican\",\"republican\",\"republican\",\"republican\",\"republican\",\"republican\",\"republican\",\"republican\",\"republican\",\"republican\",\"republican\",\"republican\",\"republican\",\"republican\",\"republican\",\"republican\",\"republican\",\"republican\",\"republican\",\"republican\",\"republican\",\"republican\",\"republican\",\"republican\",\"republican\",\"republican\",\"republican\",\"republican\",\"republican\",\"republican\",\"republican\",\"republican\",\"republican\",\"republican\",\"republican\",\"republican\",\"republican\",\"republican\",\"republican\",\"republican\",\"republican\",\"republican\",\"republican\",\"republican\",\"republican\",\"republican\",\"republican\",\"republican\",\"republican\",\"republican\",\"republican\",\"republican\",\"republican\",\"republican\",\"republican\",\"republican\",\"republican\",\"republican\",\"republican\",\"republican\",\"republican\",\"republican\",\"republican\",\"republican\",\"republican\",\"republican\",\"republican\",\"republican\",\"republican\",\"republican\",\"republican\",\"republican\",\"republican\",\"republican\",\"republican\",\"republican\",\"republican\",\"republican\",\"republican\",\"republican\",\"republican\",\"republican\",\"republican\",\"republican\",\"republican\",\"republican\",\"republican\",\"republican\",\"republican\",\"republican\",\"republican\",\"republican\",\"republican\",\"republican\",\"republican\",\"republican\",\"republican\",\"republican\",\"republican\",\"republican\",\"republican\",\"republican\",\"republican\",\"republican\",\"republican\",\"republican\",\"republican\",\"republican\",\"republican\",\"republican\",\"republican\",\"republican\",\"republican\",\"republican\",\"republican\",\"republican\",\"republican\",\"republican\",\"republican\",\"republican\",\"republican\",\"republican\",\"republican\",\"republican\",\"republican\",\"republican\",\"republican\",\"republican\",\"republican\",\"republican\",\"republican\",\"republican\",\"republican\",\"republican\",\"republican\",\"republican\",\"republican\",\"republican\",\"republican\",\"republican\",\"republican\",\"republican\",\"republican\",\"republican\",\"republican\",\"republican\",\"republican\",\"republican\",\"republican\",\"republican\",\"republican\",\"republican\",\"republican\",\"republican\",\"republican\",\"republican\",\"republican\",\"republican\",\"republican\",\"republican\",\"republican\",\"republican\",\"republican\",\"republican\",\"republican\",\"republican\",\"republican\",\"republican\",\"republican\",\"republican\",\"republican\",\"republican\",\"republican\",\"republican\",\"republican\",\"republican\",\"republican\",\"republican\",\"republican\",\"republican\",\"republican\",\"republican\",\"republican\",\"republican\",\"republican\",\"republican\",\"republican\",\"republican\",\"republican\",\"republican\",\"republican\",\"republican\",\"republican\",\"republican\",\"republican\",\"republican\",\"republican\",\"republican\",\"republican\",\"republican\",\"republican\",\"republican\",\"republican\",\"republican\",\"republican\",\"republican\",\"republican\",\"republican\",\"republican\",\"republican\",\"republican\",\"republican\",\"republican\",\"republican\",\"republican\",\"republican\",\"republican\",\"republican\",\"republican\",\"republican\",\"republican\",\"republican\",\"republican\",\"republican\",\"republican\",\"republican\",\"republican\",\"republican\",\"republican\",\"republican\",\"republican\",\"republican\",\"republican\",\"republican\",\"republican\",\"republican\",\"republican\",\"republican\",\"republican\",\"republican\",\"republican\",\"republican\",\"republican\",\"republican\",\"republican\",\"republican\",\"republican\",\"republican\",\"republican\",\"republican\",\"republican\",\"republican\",\"republican\",\"republican\",\"republican\",\"republican\",\"republican\",\"republican\",\"republican\",\"republican\",\"republican\",\"republican\",\"republican\",\"republican\",\"republican\",\"republican\",\"republican\",\"republican\",\"republican\",\"republican\",\"republican\",\"republican\",\"republican\"],\"xaxis\":\"x\",\"yaxis\":\"y\",\"type\":\"histogram\"},{\"alignmentgroup\":\"True\",\"bingroup\":\"x\",\"hovertemplate\":\"Ganador=%{x}<br>count=%{y}<extra></extra>\",\"legendgroup\":\"democrat\",\"marker\":{\"color\":\"#EF553B\",\"pattern\":{\"shape\":\"\"}},\"name\":\"democrat\",\"offsetgroup\":\"democrat\",\"orientation\":\"v\",\"showlegend\":true,\"x\":[\"democrat\",\"democrat\",\"democrat\",\"democrat\",\"democrat\",\"democrat\",\"democrat\",\"democrat\",\"democrat\",\"democrat\",\"democrat\",\"democrat\",\"democrat\",\"democrat\",\"democrat\",\"democrat\",\"democrat\",\"democrat\",\"democrat\",\"democrat\",\"democrat\",\"democrat\",\"democrat\",\"democrat\",\"democrat\",\"democrat\",\"democrat\",\"democrat\",\"democrat\",\"democrat\",\"democrat\",\"democrat\",\"democrat\",\"democrat\",\"democrat\",\"democrat\",\"democrat\",\"democrat\",\"democrat\",\"democrat\",\"democrat\",\"democrat\",\"democrat\",\"democrat\",\"democrat\",\"democrat\",\"democrat\",\"democrat\",\"democrat\",\"democrat\",\"democrat\",\"democrat\",\"democrat\",\"democrat\",\"democrat\",\"democrat\",\"democrat\",\"democrat\",\"democrat\",\"democrat\",\"democrat\",\"democrat\",\"democrat\",\"democrat\",\"democrat\",\"democrat\",\"democrat\",\"democrat\",\"democrat\",\"democrat\",\"democrat\",\"democrat\",\"democrat\",\"democrat\",\"democrat\",\"democrat\",\"democrat\",\"democrat\",\"democrat\",\"democrat\",\"democrat\",\"democrat\",\"democrat\",\"democrat\",\"democrat\",\"democrat\",\"democrat\",\"democrat\",\"democrat\",\"democrat\",\"democrat\",\"democrat\",\"democrat\",\"democrat\",\"democrat\",\"democrat\",\"democrat\",\"democrat\",\"democrat\",\"democrat\",\"democrat\",\"democrat\",\"democrat\",\"democrat\",\"democrat\",\"democrat\",\"democrat\",\"democrat\",\"democrat\",\"democrat\",\"democrat\",\"democrat\",\"democrat\",\"democrat\",\"democrat\",\"democrat\",\"democrat\",\"democrat\",\"democrat\",\"democrat\",\"democrat\",\"democrat\",\"democrat\",\"democrat\",\"democrat\",\"democrat\",\"democrat\",\"democrat\",\"democrat\",\"democrat\",\"democrat\",\"democrat\",\"democrat\",\"democrat\",\"democrat\",\"democrat\",\"democrat\",\"democrat\",\"democrat\",\"democrat\",\"democrat\",\"democrat\",\"democrat\",\"democrat\",\"democrat\",\"democrat\",\"democrat\",\"democrat\",\"democrat\",\"democrat\",\"democrat\",\"democrat\",\"democrat\",\"democrat\",\"democrat\",\"democrat\",\"democrat\",\"democrat\",\"democrat\",\"democrat\",\"democrat\",\"democrat\",\"democrat\",\"democrat\",\"democrat\",\"democrat\",\"democrat\",\"democrat\",\"democrat\",\"democrat\",\"democrat\",\"democrat\",\"democrat\",\"democrat\",\"democrat\",\"democrat\",\"democrat\",\"democrat\",\"democrat\",\"democrat\",\"democrat\",\"democrat\",\"democrat\",\"democrat\",\"democrat\",\"democrat\",\"democrat\",\"democrat\",\"democrat\",\"democrat\",\"democrat\",\"democrat\",\"democrat\",\"democrat\",\"democrat\",\"democrat\",\"democrat\",\"democrat\",\"democrat\",\"democrat\",\"democrat\",\"democrat\",\"democrat\"],\"xaxis\":\"x\",\"yaxis\":\"y\",\"type\":\"histogram\"}],                        {\"template\":{\"data\":{\"histogram2dcontour\":[{\"type\":\"histogram2dcontour\",\"colorbar\":{\"outlinewidth\":0,\"ticks\":\"\"},\"colorscale\":[[0.0,\"#0d0887\"],[0.1111111111111111,\"#46039f\"],[0.2222222222222222,\"#7201a8\"],[0.3333333333333333,\"#9c179e\"],[0.4444444444444444,\"#bd3786\"],[0.5555555555555556,\"#d8576b\"],[0.6666666666666666,\"#ed7953\"],[0.7777777777777778,\"#fb9f3a\"],[0.8888888888888888,\"#fdca26\"],[1.0,\"#f0f921\"]]}],\"choropleth\":[{\"type\":\"choropleth\",\"colorbar\":{\"outlinewidth\":0,\"ticks\":\"\"}}],\"histogram2d\":[{\"type\":\"histogram2d\",\"colorbar\":{\"outlinewidth\":0,\"ticks\":\"\"},\"colorscale\":[[0.0,\"#0d0887\"],[0.1111111111111111,\"#46039f\"],[0.2222222222222222,\"#7201a8\"],[0.3333333333333333,\"#9c179e\"],[0.4444444444444444,\"#bd3786\"],[0.5555555555555556,\"#d8576b\"],[0.6666666666666666,\"#ed7953\"],[0.7777777777777778,\"#fb9f3a\"],[0.8888888888888888,\"#fdca26\"],[1.0,\"#f0f921\"]]}],\"heatmap\":[{\"type\":\"heatmap\",\"colorbar\":{\"outlinewidth\":0,\"ticks\":\"\"},\"colorscale\":[[0.0,\"#0d0887\"],[0.1111111111111111,\"#46039f\"],[0.2222222222222222,\"#7201a8\"],[0.3333333333333333,\"#9c179e\"],[0.4444444444444444,\"#bd3786\"],[0.5555555555555556,\"#d8576b\"],[0.6666666666666666,\"#ed7953\"],[0.7777777777777778,\"#fb9f3a\"],[0.8888888888888888,\"#fdca26\"],[1.0,\"#f0f921\"]]}],\"heatmapgl\":[{\"type\":\"heatmapgl\",\"colorbar\":{\"outlinewidth\":0,\"ticks\":\"\"},\"colorscale\":[[0.0,\"#0d0887\"],[0.1111111111111111,\"#46039f\"],[0.2222222222222222,\"#7201a8\"],[0.3333333333333333,\"#9c179e\"],[0.4444444444444444,\"#bd3786\"],[0.5555555555555556,\"#d8576b\"],[0.6666666666666666,\"#ed7953\"],[0.7777777777777778,\"#fb9f3a\"],[0.8888888888888888,\"#fdca26\"],[1.0,\"#f0f921\"]]}],\"contourcarpet\":[{\"type\":\"contourcarpet\",\"colorbar\":{\"outlinewidth\":0,\"ticks\":\"\"}}],\"contour\":[{\"type\":\"contour\",\"colorbar\":{\"outlinewidth\":0,\"ticks\":\"\"},\"colorscale\":[[0.0,\"#0d0887\"],[0.1111111111111111,\"#46039f\"],[0.2222222222222222,\"#7201a8\"],[0.3333333333333333,\"#9c179e\"],[0.4444444444444444,\"#bd3786\"],[0.5555555555555556,\"#d8576b\"],[0.6666666666666666,\"#ed7953\"],[0.7777777777777778,\"#fb9f3a\"],[0.8888888888888888,\"#fdca26\"],[1.0,\"#f0f921\"]]}],\"surface\":[{\"type\":\"surface\",\"colorbar\":{\"outlinewidth\":0,\"ticks\":\"\"},\"colorscale\":[[0.0,\"#0d0887\"],[0.1111111111111111,\"#46039f\"],[0.2222222222222222,\"#7201a8\"],[0.3333333333333333,\"#9c179e\"],[0.4444444444444444,\"#bd3786\"],[0.5555555555555556,\"#d8576b\"],[0.6666666666666666,\"#ed7953\"],[0.7777777777777778,\"#fb9f3a\"],[0.8888888888888888,\"#fdca26\"],[1.0,\"#f0f921\"]]}],\"mesh3d\":[{\"type\":\"mesh3d\",\"colorbar\":{\"outlinewidth\":0,\"ticks\":\"\"}}],\"scatter\":[{\"fillpattern\":{\"fillmode\":\"overlay\",\"size\":10,\"solidity\":0.2},\"type\":\"scatter\"}],\"parcoords\":[{\"type\":\"parcoords\",\"line\":{\"colorbar\":{\"outlinewidth\":0,\"ticks\":\"\"}}}],\"scatterpolargl\":[{\"type\":\"scatterpolargl\",\"marker\":{\"colorbar\":{\"outlinewidth\":0,\"ticks\":\"\"}}}],\"bar\":[{\"error_x\":{\"color\":\"#2a3f5f\"},\"error_y\":{\"color\":\"#2a3f5f\"},\"marker\":{\"line\":{\"color\":\"#E5ECF6\",\"width\":0.5},\"pattern\":{\"fillmode\":\"overlay\",\"size\":10,\"solidity\":0.2}},\"type\":\"bar\"}],\"scattergeo\":[{\"type\":\"scattergeo\",\"marker\":{\"colorbar\":{\"outlinewidth\":0,\"ticks\":\"\"}}}],\"scatterpolar\":[{\"type\":\"scatterpolar\",\"marker\":{\"colorbar\":{\"outlinewidth\":0,\"ticks\":\"\"}}}],\"histogram\":[{\"marker\":{\"pattern\":{\"fillmode\":\"overlay\",\"size\":10,\"solidity\":0.2}},\"type\":\"histogram\"}],\"scattergl\":[{\"type\":\"scattergl\",\"marker\":{\"colorbar\":{\"outlinewidth\":0,\"ticks\":\"\"}}}],\"scatter3d\":[{\"type\":\"scatter3d\",\"line\":{\"colorbar\":{\"outlinewidth\":0,\"ticks\":\"\"}},\"marker\":{\"colorbar\":{\"outlinewidth\":0,\"ticks\":\"\"}}}],\"scattermapbox\":[{\"type\":\"scattermapbox\",\"marker\":{\"colorbar\":{\"outlinewidth\":0,\"ticks\":\"\"}}}],\"scatterternary\":[{\"type\":\"scatterternary\",\"marker\":{\"colorbar\":{\"outlinewidth\":0,\"ticks\":\"\"}}}],\"scattercarpet\":[{\"type\":\"scattercarpet\",\"marker\":{\"colorbar\":{\"outlinewidth\":0,\"ticks\":\"\"}}}],\"carpet\":[{\"aaxis\":{\"endlinecolor\":\"#2a3f5f\",\"gridcolor\":\"white\",\"linecolor\":\"white\",\"minorgridcolor\":\"white\",\"startlinecolor\":\"#2a3f5f\"},\"baxis\":{\"endlinecolor\":\"#2a3f5f\",\"gridcolor\":\"white\",\"linecolor\":\"white\",\"minorgridcolor\":\"white\",\"startlinecolor\":\"#2a3f5f\"},\"type\":\"carpet\"}],\"table\":[{\"cells\":{\"fill\":{\"color\":\"#EBF0F8\"},\"line\":{\"color\":\"white\"}},\"header\":{\"fill\":{\"color\":\"#C8D4E3\"},\"line\":{\"color\":\"white\"}},\"type\":\"table\"}],\"barpolar\":[{\"marker\":{\"line\":{\"color\":\"#E5ECF6\",\"width\":0.5},\"pattern\":{\"fillmode\":\"overlay\",\"size\":10,\"solidity\":0.2}},\"type\":\"barpolar\"}],\"pie\":[{\"automargin\":true,\"type\":\"pie\"}]},\"layout\":{\"autotypenumbers\":\"strict\",\"colorway\":[\"#636efa\",\"#EF553B\",\"#00cc96\",\"#ab63fa\",\"#FFA15A\",\"#19d3f3\",\"#FF6692\",\"#B6E880\",\"#FF97FF\",\"#FECB52\"],\"font\":{\"color\":\"#2a3f5f\"},\"hovermode\":\"closest\",\"hoverlabel\":{\"align\":\"left\"},\"paper_bgcolor\":\"white\",\"plot_bgcolor\":\"#E5ECF6\",\"polar\":{\"bgcolor\":\"#E5ECF6\",\"angularaxis\":{\"gridcolor\":\"white\",\"linecolor\":\"white\",\"ticks\":\"\"},\"radialaxis\":{\"gridcolor\":\"white\",\"linecolor\":\"white\",\"ticks\":\"\"}},\"ternary\":{\"bgcolor\":\"#E5ECF6\",\"aaxis\":{\"gridcolor\":\"white\",\"linecolor\":\"white\",\"ticks\":\"\"},\"baxis\":{\"gridcolor\":\"white\",\"linecolor\":\"white\",\"ticks\":\"\"},\"caxis\":{\"gridcolor\":\"white\",\"linecolor\":\"white\",\"ticks\":\"\"}},\"coloraxis\":{\"colorbar\":{\"outlinewidth\":0,\"ticks\":\"\"}},\"colorscale\":{\"sequential\":[[0.0,\"#0d0887\"],[0.1111111111111111,\"#46039f\"],[0.2222222222222222,\"#7201a8\"],[0.3333333333333333,\"#9c179e\"],[0.4444444444444444,\"#bd3786\"],[0.5555555555555556,\"#d8576b\"],[0.6666666666666666,\"#ed7953\"],[0.7777777777777778,\"#fb9f3a\"],[0.8888888888888888,\"#fdca26\"],[1.0,\"#f0f921\"]],\"sequentialminus\":[[0.0,\"#0d0887\"],[0.1111111111111111,\"#46039f\"],[0.2222222222222222,\"#7201a8\"],[0.3333333333333333,\"#9c179e\"],[0.4444444444444444,\"#bd3786\"],[0.5555555555555556,\"#d8576b\"],[0.6666666666666666,\"#ed7953\"],[0.7777777777777778,\"#fb9f3a\"],[0.8888888888888888,\"#fdca26\"],[1.0,\"#f0f921\"]],\"diverging\":[[0,\"#8e0152\"],[0.1,\"#c51b7d\"],[0.2,\"#de77ae\"],[0.3,\"#f1b6da\"],[0.4,\"#fde0ef\"],[0.5,\"#f7f7f7\"],[0.6,\"#e6f5d0\"],[0.7,\"#b8e186\"],[0.8,\"#7fbc41\"],[0.9,\"#4d9221\"],[1,\"#276419\"]]},\"xaxis\":{\"gridcolor\":\"white\",\"linecolor\":\"white\",\"ticks\":\"\",\"title\":{\"standoff\":15},\"zerolinecolor\":\"white\",\"automargin\":true,\"zerolinewidth\":2},\"yaxis\":{\"gridcolor\":\"white\",\"linecolor\":\"white\",\"ticks\":\"\",\"title\":{\"standoff\":15},\"zerolinecolor\":\"white\",\"automargin\":true,\"zerolinewidth\":2},\"scene\":{\"xaxis\":{\"backgroundcolor\":\"#E5ECF6\",\"gridcolor\":\"white\",\"linecolor\":\"white\",\"showbackground\":true,\"ticks\":\"\",\"zerolinecolor\":\"white\",\"gridwidth\":2},\"yaxis\":{\"backgroundcolor\":\"#E5ECF6\",\"gridcolor\":\"white\",\"linecolor\":\"white\",\"showbackground\":true,\"ticks\":\"\",\"zerolinecolor\":\"white\",\"gridwidth\":2},\"zaxis\":{\"backgroundcolor\":\"#E5ECF6\",\"gridcolor\":\"white\",\"linecolor\":\"white\",\"showbackground\":true,\"ticks\":\"\",\"zerolinecolor\":\"white\",\"gridwidth\":2}},\"shapedefaults\":{\"line\":{\"color\":\"#2a3f5f\"}},\"annotationdefaults\":{\"arrowcolor\":\"#2a3f5f\",\"arrowhead\":0,\"arrowwidth\":1},\"geo\":{\"bgcolor\":\"white\",\"landcolor\":\"#E5ECF6\",\"subunitcolor\":\"white\",\"showland\":true,\"showlakes\":true,\"lakecolor\":\"white\"},\"title\":{\"x\":0.05},\"mapbox\":{\"style\":\"light\"}}},\"xaxis\":{\"anchor\":\"y\",\"domain\":[0.0,1.0],\"title\":{\"text\":\"Ganador\"},\"categoryorder\":\"array\",\"categoryarray\":[\"republican\",\"democrat\"]},\"yaxis\":{\"anchor\":\"x\",\"domain\":[0.0,1.0],\"title\":{\"text\":\"count\"}},\"legend\":{\"title\":{\"text\":\"Ganador\"},\"tracegroupgap\":0},\"title\":{\"text\":\"Elecciones\"},\"barmode\":\"relative\"},                        {\"responsive\": true}                    ).then(function(){\n",
              "                            \n",
              "var gd = document.getElementById('c2874753-f273-4d3e-9f1f-b0a0011c202b');\n",
              "var x = new MutationObserver(function (mutations, observer) {{\n",
              "        var display = window.getComputedStyle(gd).display;\n",
              "        if (!display || display === 'none') {{\n",
              "            console.log([gd, 'removed!']);\n",
              "            Plotly.purge(gd);\n",
              "            observer.disconnect();\n",
              "        }}\n",
              "}});\n",
              "\n",
              "// Listen for the removal of the full notebook cells\n",
              "var notebookContainer = gd.closest('#notebook-container');\n",
              "if (notebookContainer) {{\n",
              "    x.observe(notebookContainer, {childList: true});\n",
              "}}\n",
              "\n",
              "// Listen for the clearing of the current output cell\n",
              "var outputEl = gd.closest('.output');\n",
              "if (outputEl) {{\n",
              "    x.observe(outputEl, {childList: true});\n",
              "}}\n",
              "\n",
              "                        })                };                            </script>        </div>\n",
              "</body>\n",
              "</html>"
            ]
          },
          "metadata": {}
        }
      ]
    },
    {
      "cell_type": "code",
      "source": [
        "px.histogram(df, \n",
        "             y = \"Ganador\",\n",
        "             title = \"Elecciones\",\n",
        "             color = \"Ganador\")"
      ],
      "metadata": {
        "colab": {
          "base_uri": "https://localhost:8080/",
          "height": 542
        },
        "id": "YWhf2-PV5-Cn",
        "outputId": "2e544b31-e5bf-41bb-8982-2460d511b635"
      },
      "id": "YWhf2-PV5-Cn",
      "execution_count": 22,
      "outputs": [
        {
          "output_type": "display_data",
          "data": {
            "text/html": [
              "<html>\n",
              "<head><meta charset=\"utf-8\" /></head>\n",
              "<body>\n",
              "    <div>            <script src=\"https://cdnjs.cloudflare.com/ajax/libs/mathjax/2.7.5/MathJax.js?config=TeX-AMS-MML_SVG\"></script><script type=\"text/javascript\">if (window.MathJax && window.MathJax.Hub && window.MathJax.Hub.Config) {window.MathJax.Hub.Config({SVG: {font: \"STIX-Web\"}});}</script>                <script type=\"text/javascript\">window.PlotlyConfig = {MathJaxConfig: 'local'};</script>\n",
              "        <script src=\"https://cdn.plot.ly/plotly-2.14.0.min.js\"></script>                <div id=\"5641c0a6-f9eb-4c1a-8d0a-9adcc09fef94\" class=\"plotly-graph-div\" style=\"height:525px; width:100%;\"></div>            <script type=\"text/javascript\">                                    window.PLOTLYENV=window.PLOTLYENV || {};                                    if (document.getElementById(\"5641c0a6-f9eb-4c1a-8d0a-9adcc09fef94\")) {                    Plotly.newPlot(                        \"5641c0a6-f9eb-4c1a-8d0a-9adcc09fef94\",                        [{\"alignmentgroup\":\"True\",\"bingroup\":\"y\",\"hovertemplate\":\"Ganador=%{y}<br>count=%{x}<extra></extra>\",\"legendgroup\":\"republican\",\"marker\":{\"color\":\"#636efa\",\"pattern\":{\"shape\":\"\"}},\"name\":\"republican\",\"offsetgroup\":\"republican\",\"orientation\":\"h\",\"showlegend\":true,\"xaxis\":\"x\",\"y\":[\"republican\",\"republican\",\"republican\",\"republican\",\"republican\",\"republican\",\"republican\",\"republican\",\"republican\",\"republican\",\"republican\",\"republican\",\"republican\",\"republican\",\"republican\",\"republican\",\"republican\",\"republican\",\"republican\",\"republican\",\"republican\",\"republican\",\"republican\",\"republican\",\"republican\",\"republican\",\"republican\",\"republican\",\"republican\",\"republican\",\"republican\",\"republican\",\"republican\",\"republican\",\"republican\",\"republican\",\"republican\",\"republican\",\"republican\",\"republican\",\"republican\",\"republican\",\"republican\",\"republican\",\"republican\",\"republican\",\"republican\",\"republican\",\"republican\",\"republican\",\"republican\",\"republican\",\"republican\",\"republican\",\"republican\",\"republican\",\"republican\",\"republican\",\"republican\",\"republican\",\"republican\",\"republican\",\"republican\",\"republican\",\"republican\",\"republican\",\"republican\",\"republican\",\"republican\",\"republican\",\"republican\",\"republican\",\"republican\",\"republican\",\"republican\",\"republican\",\"republican\",\"republican\",\"republican\",\"republican\",\"republican\",\"republican\",\"republican\",\"republican\",\"republican\",\"republican\",\"republican\",\"republican\",\"republican\",\"republican\",\"republican\",\"republican\",\"republican\",\"republican\",\"republican\",\"republican\",\"republican\",\"republican\",\"republican\",\"republican\",\"republican\",\"republican\",\"republican\",\"republican\",\"republican\",\"republican\",\"republican\",\"republican\",\"republican\",\"republican\",\"republican\",\"republican\",\"republican\",\"republican\",\"republican\",\"republican\",\"republican\",\"republican\",\"republican\",\"republican\",\"republican\",\"republican\",\"republican\",\"republican\",\"republican\",\"republican\",\"republican\",\"republican\",\"republican\",\"republican\",\"republican\",\"republican\",\"republican\",\"republican\",\"republican\",\"republican\",\"republican\",\"republican\",\"republican\",\"republican\",\"republican\",\"republican\",\"republican\",\"republican\",\"republican\",\"republican\",\"republican\",\"republican\",\"republican\",\"republican\",\"republican\",\"republican\",\"republican\",\"republican\",\"republican\",\"republican\",\"republican\",\"republican\",\"republican\",\"republican\",\"republican\",\"republican\",\"republican\",\"republican\",\"republican\",\"republican\",\"republican\",\"republican\",\"republican\",\"republican\",\"republican\",\"republican\",\"republican\",\"republican\",\"republican\",\"republican\",\"republican\",\"republican\",\"republican\",\"republican\",\"republican\",\"republican\",\"republican\",\"republican\",\"republican\",\"republican\",\"republican\",\"republican\",\"republican\",\"republican\",\"republican\",\"republican\",\"republican\",\"republican\",\"republican\",\"republican\",\"republican\",\"republican\",\"republican\",\"republican\",\"republican\",\"republican\",\"republican\",\"republican\",\"republican\",\"republican\",\"republican\",\"republican\",\"republican\",\"republican\",\"republican\",\"republican\",\"republican\",\"republican\",\"republican\",\"republican\",\"republican\",\"republican\",\"republican\",\"republican\",\"republican\",\"republican\",\"republican\",\"republican\",\"republican\",\"republican\",\"republican\",\"republican\",\"republican\",\"republican\",\"republican\",\"republican\",\"republican\",\"republican\",\"republican\",\"republican\",\"republican\",\"republican\",\"republican\",\"republican\",\"republican\",\"republican\",\"republican\",\"republican\",\"republican\",\"republican\",\"republican\",\"republican\",\"republican\",\"republican\",\"republican\",\"republican\",\"republican\",\"republican\",\"republican\",\"republican\",\"republican\",\"republican\",\"republican\",\"republican\",\"republican\",\"republican\",\"republican\",\"republican\",\"republican\",\"republican\",\"republican\",\"republican\",\"republican\",\"republican\",\"republican\",\"republican\",\"republican\",\"republican\",\"republican\",\"republican\",\"republican\",\"republican\",\"republican\",\"republican\",\"republican\",\"republican\",\"republican\",\"republican\",\"republican\",\"republican\",\"republican\",\"republican\",\"republican\"],\"yaxis\":\"y\",\"type\":\"histogram\"},{\"alignmentgroup\":\"True\",\"bingroup\":\"y\",\"hovertemplate\":\"Ganador=%{y}<br>count=%{x}<extra></extra>\",\"legendgroup\":\"democrat\",\"marker\":{\"color\":\"#EF553B\",\"pattern\":{\"shape\":\"\"}},\"name\":\"democrat\",\"offsetgroup\":\"democrat\",\"orientation\":\"h\",\"showlegend\":true,\"xaxis\":\"x\",\"y\":[\"democrat\",\"democrat\",\"democrat\",\"democrat\",\"democrat\",\"democrat\",\"democrat\",\"democrat\",\"democrat\",\"democrat\",\"democrat\",\"democrat\",\"democrat\",\"democrat\",\"democrat\",\"democrat\",\"democrat\",\"democrat\",\"democrat\",\"democrat\",\"democrat\",\"democrat\",\"democrat\",\"democrat\",\"democrat\",\"democrat\",\"democrat\",\"democrat\",\"democrat\",\"democrat\",\"democrat\",\"democrat\",\"democrat\",\"democrat\",\"democrat\",\"democrat\",\"democrat\",\"democrat\",\"democrat\",\"democrat\",\"democrat\",\"democrat\",\"democrat\",\"democrat\",\"democrat\",\"democrat\",\"democrat\",\"democrat\",\"democrat\",\"democrat\",\"democrat\",\"democrat\",\"democrat\",\"democrat\",\"democrat\",\"democrat\",\"democrat\",\"democrat\",\"democrat\",\"democrat\",\"democrat\",\"democrat\",\"democrat\",\"democrat\",\"democrat\",\"democrat\",\"democrat\",\"democrat\",\"democrat\",\"democrat\",\"democrat\",\"democrat\",\"democrat\",\"democrat\",\"democrat\",\"democrat\",\"democrat\",\"democrat\",\"democrat\",\"democrat\",\"democrat\",\"democrat\",\"democrat\",\"democrat\",\"democrat\",\"democrat\",\"democrat\",\"democrat\",\"democrat\",\"democrat\",\"democrat\",\"democrat\",\"democrat\",\"democrat\",\"democrat\",\"democrat\",\"democrat\",\"democrat\",\"democrat\",\"democrat\",\"democrat\",\"democrat\",\"democrat\",\"democrat\",\"democrat\",\"democrat\",\"democrat\",\"democrat\",\"democrat\",\"democrat\",\"democrat\",\"democrat\",\"democrat\",\"democrat\",\"democrat\",\"democrat\",\"democrat\",\"democrat\",\"democrat\",\"democrat\",\"democrat\",\"democrat\",\"democrat\",\"democrat\",\"democrat\",\"democrat\",\"democrat\",\"democrat\",\"democrat\",\"democrat\",\"democrat\",\"democrat\",\"democrat\",\"democrat\",\"democrat\",\"democrat\",\"democrat\",\"democrat\",\"democrat\",\"democrat\",\"democrat\",\"democrat\",\"democrat\",\"democrat\",\"democrat\",\"democrat\",\"democrat\",\"democrat\",\"democrat\",\"democrat\",\"democrat\",\"democrat\",\"democrat\",\"democrat\",\"democrat\",\"democrat\",\"democrat\",\"democrat\",\"democrat\",\"democrat\",\"democrat\",\"democrat\",\"democrat\",\"democrat\",\"democrat\",\"democrat\",\"democrat\",\"democrat\",\"democrat\",\"democrat\",\"democrat\",\"democrat\",\"democrat\",\"democrat\",\"democrat\",\"democrat\",\"democrat\",\"democrat\",\"democrat\",\"democrat\",\"democrat\",\"democrat\",\"democrat\",\"democrat\",\"democrat\",\"democrat\",\"democrat\",\"democrat\",\"democrat\",\"democrat\",\"democrat\",\"democrat\",\"democrat\",\"democrat\",\"democrat\",\"democrat\",\"democrat\",\"democrat\",\"democrat\",\"democrat\",\"democrat\",\"democrat\",\"democrat\"],\"yaxis\":\"y\",\"type\":\"histogram\"}],                        {\"template\":{\"data\":{\"histogram2dcontour\":[{\"type\":\"histogram2dcontour\",\"colorbar\":{\"outlinewidth\":0,\"ticks\":\"\"},\"colorscale\":[[0.0,\"#0d0887\"],[0.1111111111111111,\"#46039f\"],[0.2222222222222222,\"#7201a8\"],[0.3333333333333333,\"#9c179e\"],[0.4444444444444444,\"#bd3786\"],[0.5555555555555556,\"#d8576b\"],[0.6666666666666666,\"#ed7953\"],[0.7777777777777778,\"#fb9f3a\"],[0.8888888888888888,\"#fdca26\"],[1.0,\"#f0f921\"]]}],\"choropleth\":[{\"type\":\"choropleth\",\"colorbar\":{\"outlinewidth\":0,\"ticks\":\"\"}}],\"histogram2d\":[{\"type\":\"histogram2d\",\"colorbar\":{\"outlinewidth\":0,\"ticks\":\"\"},\"colorscale\":[[0.0,\"#0d0887\"],[0.1111111111111111,\"#46039f\"],[0.2222222222222222,\"#7201a8\"],[0.3333333333333333,\"#9c179e\"],[0.4444444444444444,\"#bd3786\"],[0.5555555555555556,\"#d8576b\"],[0.6666666666666666,\"#ed7953\"],[0.7777777777777778,\"#fb9f3a\"],[0.8888888888888888,\"#fdca26\"],[1.0,\"#f0f921\"]]}],\"heatmap\":[{\"type\":\"heatmap\",\"colorbar\":{\"outlinewidth\":0,\"ticks\":\"\"},\"colorscale\":[[0.0,\"#0d0887\"],[0.1111111111111111,\"#46039f\"],[0.2222222222222222,\"#7201a8\"],[0.3333333333333333,\"#9c179e\"],[0.4444444444444444,\"#bd3786\"],[0.5555555555555556,\"#d8576b\"],[0.6666666666666666,\"#ed7953\"],[0.7777777777777778,\"#fb9f3a\"],[0.8888888888888888,\"#fdca26\"],[1.0,\"#f0f921\"]]}],\"heatmapgl\":[{\"type\":\"heatmapgl\",\"colorbar\":{\"outlinewidth\":0,\"ticks\":\"\"},\"colorscale\":[[0.0,\"#0d0887\"],[0.1111111111111111,\"#46039f\"],[0.2222222222222222,\"#7201a8\"],[0.3333333333333333,\"#9c179e\"],[0.4444444444444444,\"#bd3786\"],[0.5555555555555556,\"#d8576b\"],[0.6666666666666666,\"#ed7953\"],[0.7777777777777778,\"#fb9f3a\"],[0.8888888888888888,\"#fdca26\"],[1.0,\"#f0f921\"]]}],\"contourcarpet\":[{\"type\":\"contourcarpet\",\"colorbar\":{\"outlinewidth\":0,\"ticks\":\"\"}}],\"contour\":[{\"type\":\"contour\",\"colorbar\":{\"outlinewidth\":0,\"ticks\":\"\"},\"colorscale\":[[0.0,\"#0d0887\"],[0.1111111111111111,\"#46039f\"],[0.2222222222222222,\"#7201a8\"],[0.3333333333333333,\"#9c179e\"],[0.4444444444444444,\"#bd3786\"],[0.5555555555555556,\"#d8576b\"],[0.6666666666666666,\"#ed7953\"],[0.7777777777777778,\"#fb9f3a\"],[0.8888888888888888,\"#fdca26\"],[1.0,\"#f0f921\"]]}],\"surface\":[{\"type\":\"surface\",\"colorbar\":{\"outlinewidth\":0,\"ticks\":\"\"},\"colorscale\":[[0.0,\"#0d0887\"],[0.1111111111111111,\"#46039f\"],[0.2222222222222222,\"#7201a8\"],[0.3333333333333333,\"#9c179e\"],[0.4444444444444444,\"#bd3786\"],[0.5555555555555556,\"#d8576b\"],[0.6666666666666666,\"#ed7953\"],[0.7777777777777778,\"#fb9f3a\"],[0.8888888888888888,\"#fdca26\"],[1.0,\"#f0f921\"]]}],\"mesh3d\":[{\"type\":\"mesh3d\",\"colorbar\":{\"outlinewidth\":0,\"ticks\":\"\"}}],\"scatter\":[{\"fillpattern\":{\"fillmode\":\"overlay\",\"size\":10,\"solidity\":0.2},\"type\":\"scatter\"}],\"parcoords\":[{\"type\":\"parcoords\",\"line\":{\"colorbar\":{\"outlinewidth\":0,\"ticks\":\"\"}}}],\"scatterpolargl\":[{\"type\":\"scatterpolargl\",\"marker\":{\"colorbar\":{\"outlinewidth\":0,\"ticks\":\"\"}}}],\"bar\":[{\"error_x\":{\"color\":\"#2a3f5f\"},\"error_y\":{\"color\":\"#2a3f5f\"},\"marker\":{\"line\":{\"color\":\"#E5ECF6\",\"width\":0.5},\"pattern\":{\"fillmode\":\"overlay\",\"size\":10,\"solidity\":0.2}},\"type\":\"bar\"}],\"scattergeo\":[{\"type\":\"scattergeo\",\"marker\":{\"colorbar\":{\"outlinewidth\":0,\"ticks\":\"\"}}}],\"scatterpolar\":[{\"type\":\"scatterpolar\",\"marker\":{\"colorbar\":{\"outlinewidth\":0,\"ticks\":\"\"}}}],\"histogram\":[{\"marker\":{\"pattern\":{\"fillmode\":\"overlay\",\"size\":10,\"solidity\":0.2}},\"type\":\"histogram\"}],\"scattergl\":[{\"type\":\"scattergl\",\"marker\":{\"colorbar\":{\"outlinewidth\":0,\"ticks\":\"\"}}}],\"scatter3d\":[{\"type\":\"scatter3d\",\"line\":{\"colorbar\":{\"outlinewidth\":0,\"ticks\":\"\"}},\"marker\":{\"colorbar\":{\"outlinewidth\":0,\"ticks\":\"\"}}}],\"scattermapbox\":[{\"type\":\"scattermapbox\",\"marker\":{\"colorbar\":{\"outlinewidth\":0,\"ticks\":\"\"}}}],\"scatterternary\":[{\"type\":\"scatterternary\",\"marker\":{\"colorbar\":{\"outlinewidth\":0,\"ticks\":\"\"}}}],\"scattercarpet\":[{\"type\":\"scattercarpet\",\"marker\":{\"colorbar\":{\"outlinewidth\":0,\"ticks\":\"\"}}}],\"carpet\":[{\"aaxis\":{\"endlinecolor\":\"#2a3f5f\",\"gridcolor\":\"white\",\"linecolor\":\"white\",\"minorgridcolor\":\"white\",\"startlinecolor\":\"#2a3f5f\"},\"baxis\":{\"endlinecolor\":\"#2a3f5f\",\"gridcolor\":\"white\",\"linecolor\":\"white\",\"minorgridcolor\":\"white\",\"startlinecolor\":\"#2a3f5f\"},\"type\":\"carpet\"}],\"table\":[{\"cells\":{\"fill\":{\"color\":\"#EBF0F8\"},\"line\":{\"color\":\"white\"}},\"header\":{\"fill\":{\"color\":\"#C8D4E3\"},\"line\":{\"color\":\"white\"}},\"type\":\"table\"}],\"barpolar\":[{\"marker\":{\"line\":{\"color\":\"#E5ECF6\",\"width\":0.5},\"pattern\":{\"fillmode\":\"overlay\",\"size\":10,\"solidity\":0.2}},\"type\":\"barpolar\"}],\"pie\":[{\"automargin\":true,\"type\":\"pie\"}]},\"layout\":{\"autotypenumbers\":\"strict\",\"colorway\":[\"#636efa\",\"#EF553B\",\"#00cc96\",\"#ab63fa\",\"#FFA15A\",\"#19d3f3\",\"#FF6692\",\"#B6E880\",\"#FF97FF\",\"#FECB52\"],\"font\":{\"color\":\"#2a3f5f\"},\"hovermode\":\"closest\",\"hoverlabel\":{\"align\":\"left\"},\"paper_bgcolor\":\"white\",\"plot_bgcolor\":\"#E5ECF6\",\"polar\":{\"bgcolor\":\"#E5ECF6\",\"angularaxis\":{\"gridcolor\":\"white\",\"linecolor\":\"white\",\"ticks\":\"\"},\"radialaxis\":{\"gridcolor\":\"white\",\"linecolor\":\"white\",\"ticks\":\"\"}},\"ternary\":{\"bgcolor\":\"#E5ECF6\",\"aaxis\":{\"gridcolor\":\"white\",\"linecolor\":\"white\",\"ticks\":\"\"},\"baxis\":{\"gridcolor\":\"white\",\"linecolor\":\"white\",\"ticks\":\"\"},\"caxis\":{\"gridcolor\":\"white\",\"linecolor\":\"white\",\"ticks\":\"\"}},\"coloraxis\":{\"colorbar\":{\"outlinewidth\":0,\"ticks\":\"\"}},\"colorscale\":{\"sequential\":[[0.0,\"#0d0887\"],[0.1111111111111111,\"#46039f\"],[0.2222222222222222,\"#7201a8\"],[0.3333333333333333,\"#9c179e\"],[0.4444444444444444,\"#bd3786\"],[0.5555555555555556,\"#d8576b\"],[0.6666666666666666,\"#ed7953\"],[0.7777777777777778,\"#fb9f3a\"],[0.8888888888888888,\"#fdca26\"],[1.0,\"#f0f921\"]],\"sequentialminus\":[[0.0,\"#0d0887\"],[0.1111111111111111,\"#46039f\"],[0.2222222222222222,\"#7201a8\"],[0.3333333333333333,\"#9c179e\"],[0.4444444444444444,\"#bd3786\"],[0.5555555555555556,\"#d8576b\"],[0.6666666666666666,\"#ed7953\"],[0.7777777777777778,\"#fb9f3a\"],[0.8888888888888888,\"#fdca26\"],[1.0,\"#f0f921\"]],\"diverging\":[[0,\"#8e0152\"],[0.1,\"#c51b7d\"],[0.2,\"#de77ae\"],[0.3,\"#f1b6da\"],[0.4,\"#fde0ef\"],[0.5,\"#f7f7f7\"],[0.6,\"#e6f5d0\"],[0.7,\"#b8e186\"],[0.8,\"#7fbc41\"],[0.9,\"#4d9221\"],[1,\"#276419\"]]},\"xaxis\":{\"gridcolor\":\"white\",\"linecolor\":\"white\",\"ticks\":\"\",\"title\":{\"standoff\":15},\"zerolinecolor\":\"white\",\"automargin\":true,\"zerolinewidth\":2},\"yaxis\":{\"gridcolor\":\"white\",\"linecolor\":\"white\",\"ticks\":\"\",\"title\":{\"standoff\":15},\"zerolinecolor\":\"white\",\"automargin\":true,\"zerolinewidth\":2},\"scene\":{\"xaxis\":{\"backgroundcolor\":\"#E5ECF6\",\"gridcolor\":\"white\",\"linecolor\":\"white\",\"showbackground\":true,\"ticks\":\"\",\"zerolinecolor\":\"white\",\"gridwidth\":2},\"yaxis\":{\"backgroundcolor\":\"#E5ECF6\",\"gridcolor\":\"white\",\"linecolor\":\"white\",\"showbackground\":true,\"ticks\":\"\",\"zerolinecolor\":\"white\",\"gridwidth\":2},\"zaxis\":{\"backgroundcolor\":\"#E5ECF6\",\"gridcolor\":\"white\",\"linecolor\":\"white\",\"showbackground\":true,\"ticks\":\"\",\"zerolinecolor\":\"white\",\"gridwidth\":2}},\"shapedefaults\":{\"line\":{\"color\":\"#2a3f5f\"}},\"annotationdefaults\":{\"arrowcolor\":\"#2a3f5f\",\"arrowhead\":0,\"arrowwidth\":1},\"geo\":{\"bgcolor\":\"white\",\"landcolor\":\"#E5ECF6\",\"subunitcolor\":\"white\",\"showland\":true,\"showlakes\":true,\"lakecolor\":\"white\"},\"title\":{\"x\":0.05},\"mapbox\":{\"style\":\"light\"}}},\"xaxis\":{\"anchor\":\"y\",\"domain\":[0.0,1.0],\"title\":{\"text\":\"count\"}},\"yaxis\":{\"anchor\":\"x\",\"domain\":[0.0,1.0],\"title\":{\"text\":\"Ganador\"},\"categoryorder\":\"array\",\"categoryarray\":[\"democrat\",\"republican\"]},\"legend\":{\"title\":{\"text\":\"Ganador\"},\"tracegroupgap\":0},\"title\":{\"text\":\"Elecciones\"},\"barmode\":\"relative\"},                        {\"responsive\": true}                    ).then(function(){\n",
              "                            \n",
              "var gd = document.getElementById('5641c0a6-f9eb-4c1a-8d0a-9adcc09fef94');\n",
              "var x = new MutationObserver(function (mutations, observer) {{\n",
              "        var display = window.getComputedStyle(gd).display;\n",
              "        if (!display || display === 'none') {{\n",
              "            console.log([gd, 'removed!']);\n",
              "            Plotly.purge(gd);\n",
              "            observer.disconnect();\n",
              "        }}\n",
              "}});\n",
              "\n",
              "// Listen for the removal of the full notebook cells\n",
              "var notebookContainer = gd.closest('#notebook-container');\n",
              "if (notebookContainer) {{\n",
              "    x.observe(notebookContainer, {childList: true});\n",
              "}}\n",
              "\n",
              "// Listen for the clearing of the current output cell\n",
              "var outputEl = gd.closest('.output');\n",
              "if (outputEl) {{\n",
              "    x.observe(outputEl, {childList: true});\n",
              "}}\n",
              "\n",
              "                        })                };                            </script>        </div>\n",
              "</body>\n",
              "</html>"
            ]
          },
          "metadata": {}
        }
      ]
    },
    {
      "cell_type": "markdown",
      "source": [
        "## **Barras**"
      ],
      "metadata": {
        "id": "af18fdhi7cqL"
      },
      "id": "af18fdhi7cqL"
    },
    {
      "cell_type": "markdown",
      "source": [
        "https://plotly.com/python/bar-charts/"
      ],
      "metadata": {
        "id": "XxJ76TM29juE"
      },
      "id": "XxJ76TM29juE"
    },
    {
      "cell_type": "code",
      "source": [
        "df.head()"
      ],
      "metadata": {
        "colab": {
          "base_uri": "https://localhost:8080/",
          "height": 204
        },
        "id": "wncSBNbF-Irv",
        "outputId": "8f6fd910-5822-44c5-837d-89d6faa193e7"
      },
      "id": "wncSBNbF-Irv",
      "execution_count": 23,
      "outputs": [
        {
          "output_type": "execute_result",
          "data": {
            "text/plain": [
              "    Año      Estado  Intencion_Voto  Diferencia  Gobernante  Reelige  \\\n",
              "0  1976  California       42.797994   -3.270222  republican        1   \n",
              "1  1980  California       28.010388  -14.065118    democrat        1   \n",
              "2  1984  California       38.947686  -16.310839  republican        1   \n",
              "3  1988  California       42.883798   -8.033824  republican        0   \n",
              "4  1992  California       48.764566   17.150517  republican        1   \n",
              "\n",
              "      Ganador Cod_Estado  \n",
              "0  republican         CA  \n",
              "1  republican         CA  \n",
              "2  republican         CA  \n",
              "3  republican         CA  \n",
              "4    democrat         CA  "
            ],
            "text/html": [
              "\n",
              "  <div id=\"df-dc4351b1-4222-4aba-9bc2-13d23561e0fb\">\n",
              "    <div class=\"colab-df-container\">\n",
              "      <div>\n",
              "<style scoped>\n",
              "    .dataframe tbody tr th:only-of-type {\n",
              "        vertical-align: middle;\n",
              "    }\n",
              "\n",
              "    .dataframe tbody tr th {\n",
              "        vertical-align: top;\n",
              "    }\n",
              "\n",
              "    .dataframe thead th {\n",
              "        text-align: right;\n",
              "    }\n",
              "</style>\n",
              "<table border=\"1\" class=\"dataframe\">\n",
              "  <thead>\n",
              "    <tr style=\"text-align: right;\">\n",
              "      <th></th>\n",
              "      <th>Año</th>\n",
              "      <th>Estado</th>\n",
              "      <th>Intencion_Voto</th>\n",
              "      <th>Diferencia</th>\n",
              "      <th>Gobernante</th>\n",
              "      <th>Reelige</th>\n",
              "      <th>Ganador</th>\n",
              "      <th>Cod_Estado</th>\n",
              "    </tr>\n",
              "  </thead>\n",
              "  <tbody>\n",
              "    <tr>\n",
              "      <th>0</th>\n",
              "      <td>1976</td>\n",
              "      <td>California</td>\n",
              "      <td>42.797994</td>\n",
              "      <td>-3.270222</td>\n",
              "      <td>republican</td>\n",
              "      <td>1</td>\n",
              "      <td>republican</td>\n",
              "      <td>CA</td>\n",
              "    </tr>\n",
              "    <tr>\n",
              "      <th>1</th>\n",
              "      <td>1980</td>\n",
              "      <td>California</td>\n",
              "      <td>28.010388</td>\n",
              "      <td>-14.065118</td>\n",
              "      <td>democrat</td>\n",
              "      <td>1</td>\n",
              "      <td>republican</td>\n",
              "      <td>CA</td>\n",
              "    </tr>\n",
              "    <tr>\n",
              "      <th>2</th>\n",
              "      <td>1984</td>\n",
              "      <td>California</td>\n",
              "      <td>38.947686</td>\n",
              "      <td>-16.310839</td>\n",
              "      <td>republican</td>\n",
              "      <td>1</td>\n",
              "      <td>republican</td>\n",
              "      <td>CA</td>\n",
              "    </tr>\n",
              "    <tr>\n",
              "      <th>3</th>\n",
              "      <td>1988</td>\n",
              "      <td>California</td>\n",
              "      <td>42.883798</td>\n",
              "      <td>-8.033824</td>\n",
              "      <td>republican</td>\n",
              "      <td>0</td>\n",
              "      <td>republican</td>\n",
              "      <td>CA</td>\n",
              "    </tr>\n",
              "    <tr>\n",
              "      <th>4</th>\n",
              "      <td>1992</td>\n",
              "      <td>California</td>\n",
              "      <td>48.764566</td>\n",
              "      <td>17.150517</td>\n",
              "      <td>republican</td>\n",
              "      <td>1</td>\n",
              "      <td>democrat</td>\n",
              "      <td>CA</td>\n",
              "    </tr>\n",
              "  </tbody>\n",
              "</table>\n",
              "</div>\n",
              "      <button class=\"colab-df-convert\" onclick=\"convertToInteractive('df-dc4351b1-4222-4aba-9bc2-13d23561e0fb')\"\n",
              "              title=\"Convert this dataframe to an interactive table.\"\n",
              "              style=\"display:none;\">\n",
              "        \n",
              "  <svg xmlns=\"http://www.w3.org/2000/svg\" height=\"24px\"viewBox=\"0 0 24 24\"\n",
              "       width=\"24px\">\n",
              "    <path d=\"M0 0h24v24H0V0z\" fill=\"none\"/>\n",
              "    <path d=\"M18.56 5.44l.94 2.06.94-2.06 2.06-.94-2.06-.94-.94-2.06-.94 2.06-2.06.94zm-11 1L8.5 8.5l.94-2.06 2.06-.94-2.06-.94L8.5 2.5l-.94 2.06-2.06.94zm10 10l.94 2.06.94-2.06 2.06-.94-2.06-.94-.94-2.06-.94 2.06-2.06.94z\"/><path d=\"M17.41 7.96l-1.37-1.37c-.4-.4-.92-.59-1.43-.59-.52 0-1.04.2-1.43.59L10.3 9.45l-7.72 7.72c-.78.78-.78 2.05 0 2.83L4 21.41c.39.39.9.59 1.41.59.51 0 1.02-.2 1.41-.59l7.78-7.78 2.81-2.81c.8-.78.8-2.07 0-2.86zM5.41 20L4 18.59l7.72-7.72 1.47 1.35L5.41 20z\"/>\n",
              "  </svg>\n",
              "      </button>\n",
              "      \n",
              "  <style>\n",
              "    .colab-df-container {\n",
              "      display:flex;\n",
              "      flex-wrap:wrap;\n",
              "      gap: 12px;\n",
              "    }\n",
              "\n",
              "    .colab-df-convert {\n",
              "      background-color: #E8F0FE;\n",
              "      border: none;\n",
              "      border-radius: 50%;\n",
              "      cursor: pointer;\n",
              "      display: none;\n",
              "      fill: #1967D2;\n",
              "      height: 32px;\n",
              "      padding: 0 0 0 0;\n",
              "      width: 32px;\n",
              "    }\n",
              "\n",
              "    .colab-df-convert:hover {\n",
              "      background-color: #E2EBFA;\n",
              "      box-shadow: 0px 1px 2px rgba(60, 64, 67, 0.3), 0px 1px 3px 1px rgba(60, 64, 67, 0.15);\n",
              "      fill: #174EA6;\n",
              "    }\n",
              "\n",
              "    [theme=dark] .colab-df-convert {\n",
              "      background-color: #3B4455;\n",
              "      fill: #D2E3FC;\n",
              "    }\n",
              "\n",
              "    [theme=dark] .colab-df-convert:hover {\n",
              "      background-color: #434B5C;\n",
              "      box-shadow: 0px 1px 3px 1px rgba(0, 0, 0, 0.15);\n",
              "      filter: drop-shadow(0px 1px 2px rgba(0, 0, 0, 0.3));\n",
              "      fill: #FFFFFF;\n",
              "    }\n",
              "  </style>\n",
              "\n",
              "      <script>\n",
              "        const buttonEl =\n",
              "          document.querySelector('#df-dc4351b1-4222-4aba-9bc2-13d23561e0fb button.colab-df-convert');\n",
              "        buttonEl.style.display =\n",
              "          google.colab.kernel.accessAllowed ? 'block' : 'none';\n",
              "\n",
              "        async function convertToInteractive(key) {\n",
              "          const element = document.querySelector('#df-dc4351b1-4222-4aba-9bc2-13d23561e0fb');\n",
              "          const dataTable =\n",
              "            await google.colab.kernel.invokeFunction('convertToInteractive',\n",
              "                                                     [key], {});\n",
              "          if (!dataTable) return;\n",
              "\n",
              "          const docLinkHtml = 'Like what you see? Visit the ' +\n",
              "            '<a target=\"_blank\" href=https://colab.research.google.com/notebooks/data_table.ipynb>data table notebook</a>'\n",
              "            + ' to learn more about interactive tables.';\n",
              "          element.innerHTML = '';\n",
              "          dataTable['output_type'] = 'display_data';\n",
              "          await google.colab.output.renderOutput(dataTable, element);\n",
              "          const docLink = document.createElement('div');\n",
              "          docLink.innerHTML = docLinkHtml;\n",
              "          element.appendChild(docLink);\n",
              "        }\n",
              "      </script>\n",
              "    </div>\n",
              "  </div>\n",
              "  "
            ]
          },
          "metadata": {},
          "execution_count": 23
        }
      ]
    },
    {
      "cell_type": "code",
      "source": [
        "data_california = df[(df.Estado == \"California\") & \n",
        "                     (df.Gobernante == \"republican\")]\n",
        "\n",
        "data_california.head()"
      ],
      "metadata": {
        "colab": {
          "base_uri": "https://localhost:8080/",
          "height": 204
        },
        "id": "T3XSwuJM81Ed",
        "outputId": "226627ff-467f-4e3f-b74d-4af848bc6162"
      },
      "id": "T3XSwuJM81Ed",
      "execution_count": 24,
      "outputs": [
        {
          "output_type": "execute_result",
          "data": {
            "text/plain": [
              "    Año      Estado  Intencion_Voto  Diferencia  Gobernante  Reelige  \\\n",
              "0  1976  California       42.797994   -3.270222  republican        1   \n",
              "2  1984  California       38.947686  -16.310839  republican        1   \n",
              "3  1988  California       42.883798   -8.033824  republican        0   \n",
              "4  1992  California       48.764566   17.150517  republican        1   \n",
              "7  2004  California       52.385393   10.734135  republican        1   \n",
              "\n",
              "      Ganador Cod_Estado  \n",
              "0  republican         CA  \n",
              "2  republican         CA  \n",
              "3  republican         CA  \n",
              "4    democrat         CA  \n",
              "7    democrat         CA  "
            ],
            "text/html": [
              "\n",
              "  <div id=\"df-69421535-c856-4051-b40e-b5fe2c3d9456\">\n",
              "    <div class=\"colab-df-container\">\n",
              "      <div>\n",
              "<style scoped>\n",
              "    .dataframe tbody tr th:only-of-type {\n",
              "        vertical-align: middle;\n",
              "    }\n",
              "\n",
              "    .dataframe tbody tr th {\n",
              "        vertical-align: top;\n",
              "    }\n",
              "\n",
              "    .dataframe thead th {\n",
              "        text-align: right;\n",
              "    }\n",
              "</style>\n",
              "<table border=\"1\" class=\"dataframe\">\n",
              "  <thead>\n",
              "    <tr style=\"text-align: right;\">\n",
              "      <th></th>\n",
              "      <th>Año</th>\n",
              "      <th>Estado</th>\n",
              "      <th>Intencion_Voto</th>\n",
              "      <th>Diferencia</th>\n",
              "      <th>Gobernante</th>\n",
              "      <th>Reelige</th>\n",
              "      <th>Ganador</th>\n",
              "      <th>Cod_Estado</th>\n",
              "    </tr>\n",
              "  </thead>\n",
              "  <tbody>\n",
              "    <tr>\n",
              "      <th>0</th>\n",
              "      <td>1976</td>\n",
              "      <td>California</td>\n",
              "      <td>42.797994</td>\n",
              "      <td>-3.270222</td>\n",
              "      <td>republican</td>\n",
              "      <td>1</td>\n",
              "      <td>republican</td>\n",
              "      <td>CA</td>\n",
              "    </tr>\n",
              "    <tr>\n",
              "      <th>2</th>\n",
              "      <td>1984</td>\n",
              "      <td>California</td>\n",
              "      <td>38.947686</td>\n",
              "      <td>-16.310839</td>\n",
              "      <td>republican</td>\n",
              "      <td>1</td>\n",
              "      <td>republican</td>\n",
              "      <td>CA</td>\n",
              "    </tr>\n",
              "    <tr>\n",
              "      <th>3</th>\n",
              "      <td>1988</td>\n",
              "      <td>California</td>\n",
              "      <td>42.883798</td>\n",
              "      <td>-8.033824</td>\n",
              "      <td>republican</td>\n",
              "      <td>0</td>\n",
              "      <td>republican</td>\n",
              "      <td>CA</td>\n",
              "    </tr>\n",
              "    <tr>\n",
              "      <th>4</th>\n",
              "      <td>1992</td>\n",
              "      <td>California</td>\n",
              "      <td>48.764566</td>\n",
              "      <td>17.150517</td>\n",
              "      <td>republican</td>\n",
              "      <td>1</td>\n",
              "      <td>democrat</td>\n",
              "      <td>CA</td>\n",
              "    </tr>\n",
              "    <tr>\n",
              "      <th>7</th>\n",
              "      <td>2004</td>\n",
              "      <td>California</td>\n",
              "      <td>52.385393</td>\n",
              "      <td>10.734135</td>\n",
              "      <td>republican</td>\n",
              "      <td>1</td>\n",
              "      <td>democrat</td>\n",
              "      <td>CA</td>\n",
              "    </tr>\n",
              "  </tbody>\n",
              "</table>\n",
              "</div>\n",
              "      <button class=\"colab-df-convert\" onclick=\"convertToInteractive('df-69421535-c856-4051-b40e-b5fe2c3d9456')\"\n",
              "              title=\"Convert this dataframe to an interactive table.\"\n",
              "              style=\"display:none;\">\n",
              "        \n",
              "  <svg xmlns=\"http://www.w3.org/2000/svg\" height=\"24px\"viewBox=\"0 0 24 24\"\n",
              "       width=\"24px\">\n",
              "    <path d=\"M0 0h24v24H0V0z\" fill=\"none\"/>\n",
              "    <path d=\"M18.56 5.44l.94 2.06.94-2.06 2.06-.94-2.06-.94-.94-2.06-.94 2.06-2.06.94zm-11 1L8.5 8.5l.94-2.06 2.06-.94-2.06-.94L8.5 2.5l-.94 2.06-2.06.94zm10 10l.94 2.06.94-2.06 2.06-.94-2.06-.94-.94-2.06-.94 2.06-2.06.94z\"/><path d=\"M17.41 7.96l-1.37-1.37c-.4-.4-.92-.59-1.43-.59-.52 0-1.04.2-1.43.59L10.3 9.45l-7.72 7.72c-.78.78-.78 2.05 0 2.83L4 21.41c.39.39.9.59 1.41.59.51 0 1.02-.2 1.41-.59l7.78-7.78 2.81-2.81c.8-.78.8-2.07 0-2.86zM5.41 20L4 18.59l7.72-7.72 1.47 1.35L5.41 20z\"/>\n",
              "  </svg>\n",
              "      </button>\n",
              "      \n",
              "  <style>\n",
              "    .colab-df-container {\n",
              "      display:flex;\n",
              "      flex-wrap:wrap;\n",
              "      gap: 12px;\n",
              "    }\n",
              "\n",
              "    .colab-df-convert {\n",
              "      background-color: #E8F0FE;\n",
              "      border: none;\n",
              "      border-radius: 50%;\n",
              "      cursor: pointer;\n",
              "      display: none;\n",
              "      fill: #1967D2;\n",
              "      height: 32px;\n",
              "      padding: 0 0 0 0;\n",
              "      width: 32px;\n",
              "    }\n",
              "\n",
              "    .colab-df-convert:hover {\n",
              "      background-color: #E2EBFA;\n",
              "      box-shadow: 0px 1px 2px rgba(60, 64, 67, 0.3), 0px 1px 3px 1px rgba(60, 64, 67, 0.15);\n",
              "      fill: #174EA6;\n",
              "    }\n",
              "\n",
              "    [theme=dark] .colab-df-convert {\n",
              "      background-color: #3B4455;\n",
              "      fill: #D2E3FC;\n",
              "    }\n",
              "\n",
              "    [theme=dark] .colab-df-convert:hover {\n",
              "      background-color: #434B5C;\n",
              "      box-shadow: 0px 1px 3px 1px rgba(0, 0, 0, 0.15);\n",
              "      filter: drop-shadow(0px 1px 2px rgba(0, 0, 0, 0.3));\n",
              "      fill: #FFFFFF;\n",
              "    }\n",
              "  </style>\n",
              "\n",
              "      <script>\n",
              "        const buttonEl =\n",
              "          document.querySelector('#df-69421535-c856-4051-b40e-b5fe2c3d9456 button.colab-df-convert');\n",
              "        buttonEl.style.display =\n",
              "          google.colab.kernel.accessAllowed ? 'block' : 'none';\n",
              "\n",
              "        async function convertToInteractive(key) {\n",
              "          const element = document.querySelector('#df-69421535-c856-4051-b40e-b5fe2c3d9456');\n",
              "          const dataTable =\n",
              "            await google.colab.kernel.invokeFunction('convertToInteractive',\n",
              "                                                     [key], {});\n",
              "          if (!dataTable) return;\n",
              "\n",
              "          const docLinkHtml = 'Like what you see? Visit the ' +\n",
              "            '<a target=\"_blank\" href=https://colab.research.google.com/notebooks/data_table.ipynb>data table notebook</a>'\n",
              "            + ' to learn more about interactive tables.';\n",
              "          element.innerHTML = '';\n",
              "          dataTable['output_type'] = 'display_data';\n",
              "          await google.colab.output.renderOutput(dataTable, element);\n",
              "          const docLink = document.createElement('div');\n",
              "          docLink.innerHTML = docLinkHtml;\n",
              "          element.appendChild(docLink);\n",
              "        }\n",
              "      </script>\n",
              "    </div>\n",
              "  </div>\n",
              "  "
            ]
          },
          "metadata": {},
          "execution_count": 24
        }
      ]
    },
    {
      "cell_type": "code",
      "source": [
        "px.bar(data_california, \n",
        "       x = \"Año\", \n",
        "       y = \"Intencion_Voto\",\n",
        "       title = \"Intención de Voto en California\",\n",
        "       color = \"Año\")"
      ],
      "metadata": {
        "colab": {
          "base_uri": "https://localhost:8080/",
          "height": 542
        },
        "id": "5ltR7H1N-qiB",
        "outputId": "7cb96104-4bee-4479-b3e4-cbb6474b67c6"
      },
      "id": "5ltR7H1N-qiB",
      "execution_count": 25,
      "outputs": [
        {
          "output_type": "display_data",
          "data": {
            "text/html": [
              "<html>\n",
              "<head><meta charset=\"utf-8\" /></head>\n",
              "<body>\n",
              "    <div>            <script src=\"https://cdnjs.cloudflare.com/ajax/libs/mathjax/2.7.5/MathJax.js?config=TeX-AMS-MML_SVG\"></script><script type=\"text/javascript\">if (window.MathJax && window.MathJax.Hub && window.MathJax.Hub.Config) {window.MathJax.Hub.Config({SVG: {font: \"STIX-Web\"}});}</script>                <script type=\"text/javascript\">window.PlotlyConfig = {MathJaxConfig: 'local'};</script>\n",
              "        <script src=\"https://cdn.plot.ly/plotly-2.14.0.min.js\"></script>                <div id=\"45e1b658-c176-4d43-8105-fd4029b0035d\" class=\"plotly-graph-div\" style=\"height:525px; width:100%;\"></div>            <script type=\"text/javascript\">                                    window.PLOTLYENV=window.PLOTLYENV || {};                                    if (document.getElementById(\"45e1b658-c176-4d43-8105-fd4029b0035d\")) {                    Plotly.newPlot(                        \"45e1b658-c176-4d43-8105-fd4029b0035d\",                        [{\"alignmentgroup\":\"True\",\"hovertemplate\":\"A\\u00f1o=%{marker.color}<br>Intencion_Voto=%{y}<extra></extra>\",\"legendgroup\":\"\",\"marker\":{\"color\":[1976,1984,1988,1992,2004,2008],\"coloraxis\":\"coloraxis\",\"pattern\":{\"shape\":\"\"}},\"name\":\"\",\"offsetgroup\":\"\",\"orientation\":\"v\",\"showlegend\":false,\"textposition\":\"auto\",\"x\":[1976,1984,1988,1992,2004,2008],\"xaxis\":\"x\",\"y\":[42.797994,38.947686,42.883798,48.764566,52.385393,57.522385],\"yaxis\":\"y\",\"type\":\"bar\"}],                        {\"template\":{\"data\":{\"histogram2dcontour\":[{\"type\":\"histogram2dcontour\",\"colorbar\":{\"outlinewidth\":0,\"ticks\":\"\"},\"colorscale\":[[0.0,\"#0d0887\"],[0.1111111111111111,\"#46039f\"],[0.2222222222222222,\"#7201a8\"],[0.3333333333333333,\"#9c179e\"],[0.4444444444444444,\"#bd3786\"],[0.5555555555555556,\"#d8576b\"],[0.6666666666666666,\"#ed7953\"],[0.7777777777777778,\"#fb9f3a\"],[0.8888888888888888,\"#fdca26\"],[1.0,\"#f0f921\"]]}],\"choropleth\":[{\"type\":\"choropleth\",\"colorbar\":{\"outlinewidth\":0,\"ticks\":\"\"}}],\"histogram2d\":[{\"type\":\"histogram2d\",\"colorbar\":{\"outlinewidth\":0,\"ticks\":\"\"},\"colorscale\":[[0.0,\"#0d0887\"],[0.1111111111111111,\"#46039f\"],[0.2222222222222222,\"#7201a8\"],[0.3333333333333333,\"#9c179e\"],[0.4444444444444444,\"#bd3786\"],[0.5555555555555556,\"#d8576b\"],[0.6666666666666666,\"#ed7953\"],[0.7777777777777778,\"#fb9f3a\"],[0.8888888888888888,\"#fdca26\"],[1.0,\"#f0f921\"]]}],\"heatmap\":[{\"type\":\"heatmap\",\"colorbar\":{\"outlinewidth\":0,\"ticks\":\"\"},\"colorscale\":[[0.0,\"#0d0887\"],[0.1111111111111111,\"#46039f\"],[0.2222222222222222,\"#7201a8\"],[0.3333333333333333,\"#9c179e\"],[0.4444444444444444,\"#bd3786\"],[0.5555555555555556,\"#d8576b\"],[0.6666666666666666,\"#ed7953\"],[0.7777777777777778,\"#fb9f3a\"],[0.8888888888888888,\"#fdca26\"],[1.0,\"#f0f921\"]]}],\"heatmapgl\":[{\"type\":\"heatmapgl\",\"colorbar\":{\"outlinewidth\":0,\"ticks\":\"\"},\"colorscale\":[[0.0,\"#0d0887\"],[0.1111111111111111,\"#46039f\"],[0.2222222222222222,\"#7201a8\"],[0.3333333333333333,\"#9c179e\"],[0.4444444444444444,\"#bd3786\"],[0.5555555555555556,\"#d8576b\"],[0.6666666666666666,\"#ed7953\"],[0.7777777777777778,\"#fb9f3a\"],[0.8888888888888888,\"#fdca26\"],[1.0,\"#f0f921\"]]}],\"contourcarpet\":[{\"type\":\"contourcarpet\",\"colorbar\":{\"outlinewidth\":0,\"ticks\":\"\"}}],\"contour\":[{\"type\":\"contour\",\"colorbar\":{\"outlinewidth\":0,\"ticks\":\"\"},\"colorscale\":[[0.0,\"#0d0887\"],[0.1111111111111111,\"#46039f\"],[0.2222222222222222,\"#7201a8\"],[0.3333333333333333,\"#9c179e\"],[0.4444444444444444,\"#bd3786\"],[0.5555555555555556,\"#d8576b\"],[0.6666666666666666,\"#ed7953\"],[0.7777777777777778,\"#fb9f3a\"],[0.8888888888888888,\"#fdca26\"],[1.0,\"#f0f921\"]]}],\"surface\":[{\"type\":\"surface\",\"colorbar\":{\"outlinewidth\":0,\"ticks\":\"\"},\"colorscale\":[[0.0,\"#0d0887\"],[0.1111111111111111,\"#46039f\"],[0.2222222222222222,\"#7201a8\"],[0.3333333333333333,\"#9c179e\"],[0.4444444444444444,\"#bd3786\"],[0.5555555555555556,\"#d8576b\"],[0.6666666666666666,\"#ed7953\"],[0.7777777777777778,\"#fb9f3a\"],[0.8888888888888888,\"#fdca26\"],[1.0,\"#f0f921\"]]}],\"mesh3d\":[{\"type\":\"mesh3d\",\"colorbar\":{\"outlinewidth\":0,\"ticks\":\"\"}}],\"scatter\":[{\"fillpattern\":{\"fillmode\":\"overlay\",\"size\":10,\"solidity\":0.2},\"type\":\"scatter\"}],\"parcoords\":[{\"type\":\"parcoords\",\"line\":{\"colorbar\":{\"outlinewidth\":0,\"ticks\":\"\"}}}],\"scatterpolargl\":[{\"type\":\"scatterpolargl\",\"marker\":{\"colorbar\":{\"outlinewidth\":0,\"ticks\":\"\"}}}],\"bar\":[{\"error_x\":{\"color\":\"#2a3f5f\"},\"error_y\":{\"color\":\"#2a3f5f\"},\"marker\":{\"line\":{\"color\":\"#E5ECF6\",\"width\":0.5},\"pattern\":{\"fillmode\":\"overlay\",\"size\":10,\"solidity\":0.2}},\"type\":\"bar\"}],\"scattergeo\":[{\"type\":\"scattergeo\",\"marker\":{\"colorbar\":{\"outlinewidth\":0,\"ticks\":\"\"}}}],\"scatterpolar\":[{\"type\":\"scatterpolar\",\"marker\":{\"colorbar\":{\"outlinewidth\":0,\"ticks\":\"\"}}}],\"histogram\":[{\"marker\":{\"pattern\":{\"fillmode\":\"overlay\",\"size\":10,\"solidity\":0.2}},\"type\":\"histogram\"}],\"scattergl\":[{\"type\":\"scattergl\",\"marker\":{\"colorbar\":{\"outlinewidth\":0,\"ticks\":\"\"}}}],\"scatter3d\":[{\"type\":\"scatter3d\",\"line\":{\"colorbar\":{\"outlinewidth\":0,\"ticks\":\"\"}},\"marker\":{\"colorbar\":{\"outlinewidth\":0,\"ticks\":\"\"}}}],\"scattermapbox\":[{\"type\":\"scattermapbox\",\"marker\":{\"colorbar\":{\"outlinewidth\":0,\"ticks\":\"\"}}}],\"scatterternary\":[{\"type\":\"scatterternary\",\"marker\":{\"colorbar\":{\"outlinewidth\":0,\"ticks\":\"\"}}}],\"scattercarpet\":[{\"type\":\"scattercarpet\",\"marker\":{\"colorbar\":{\"outlinewidth\":0,\"ticks\":\"\"}}}],\"carpet\":[{\"aaxis\":{\"endlinecolor\":\"#2a3f5f\",\"gridcolor\":\"white\",\"linecolor\":\"white\",\"minorgridcolor\":\"white\",\"startlinecolor\":\"#2a3f5f\"},\"baxis\":{\"endlinecolor\":\"#2a3f5f\",\"gridcolor\":\"white\",\"linecolor\":\"white\",\"minorgridcolor\":\"white\",\"startlinecolor\":\"#2a3f5f\"},\"type\":\"carpet\"}],\"table\":[{\"cells\":{\"fill\":{\"color\":\"#EBF0F8\"},\"line\":{\"color\":\"white\"}},\"header\":{\"fill\":{\"color\":\"#C8D4E3\"},\"line\":{\"color\":\"white\"}},\"type\":\"table\"}],\"barpolar\":[{\"marker\":{\"line\":{\"color\":\"#E5ECF6\",\"width\":0.5},\"pattern\":{\"fillmode\":\"overlay\",\"size\":10,\"solidity\":0.2}},\"type\":\"barpolar\"}],\"pie\":[{\"automargin\":true,\"type\":\"pie\"}]},\"layout\":{\"autotypenumbers\":\"strict\",\"colorway\":[\"#636efa\",\"#EF553B\",\"#00cc96\",\"#ab63fa\",\"#FFA15A\",\"#19d3f3\",\"#FF6692\",\"#B6E880\",\"#FF97FF\",\"#FECB52\"],\"font\":{\"color\":\"#2a3f5f\"},\"hovermode\":\"closest\",\"hoverlabel\":{\"align\":\"left\"},\"paper_bgcolor\":\"white\",\"plot_bgcolor\":\"#E5ECF6\",\"polar\":{\"bgcolor\":\"#E5ECF6\",\"angularaxis\":{\"gridcolor\":\"white\",\"linecolor\":\"white\",\"ticks\":\"\"},\"radialaxis\":{\"gridcolor\":\"white\",\"linecolor\":\"white\",\"ticks\":\"\"}},\"ternary\":{\"bgcolor\":\"#E5ECF6\",\"aaxis\":{\"gridcolor\":\"white\",\"linecolor\":\"white\",\"ticks\":\"\"},\"baxis\":{\"gridcolor\":\"white\",\"linecolor\":\"white\",\"ticks\":\"\"},\"caxis\":{\"gridcolor\":\"white\",\"linecolor\":\"white\",\"ticks\":\"\"}},\"coloraxis\":{\"colorbar\":{\"outlinewidth\":0,\"ticks\":\"\"}},\"colorscale\":{\"sequential\":[[0.0,\"#0d0887\"],[0.1111111111111111,\"#46039f\"],[0.2222222222222222,\"#7201a8\"],[0.3333333333333333,\"#9c179e\"],[0.4444444444444444,\"#bd3786\"],[0.5555555555555556,\"#d8576b\"],[0.6666666666666666,\"#ed7953\"],[0.7777777777777778,\"#fb9f3a\"],[0.8888888888888888,\"#fdca26\"],[1.0,\"#f0f921\"]],\"sequentialminus\":[[0.0,\"#0d0887\"],[0.1111111111111111,\"#46039f\"],[0.2222222222222222,\"#7201a8\"],[0.3333333333333333,\"#9c179e\"],[0.4444444444444444,\"#bd3786\"],[0.5555555555555556,\"#d8576b\"],[0.6666666666666666,\"#ed7953\"],[0.7777777777777778,\"#fb9f3a\"],[0.8888888888888888,\"#fdca26\"],[1.0,\"#f0f921\"]],\"diverging\":[[0,\"#8e0152\"],[0.1,\"#c51b7d\"],[0.2,\"#de77ae\"],[0.3,\"#f1b6da\"],[0.4,\"#fde0ef\"],[0.5,\"#f7f7f7\"],[0.6,\"#e6f5d0\"],[0.7,\"#b8e186\"],[0.8,\"#7fbc41\"],[0.9,\"#4d9221\"],[1,\"#276419\"]]},\"xaxis\":{\"gridcolor\":\"white\",\"linecolor\":\"white\",\"ticks\":\"\",\"title\":{\"standoff\":15},\"zerolinecolor\":\"white\",\"automargin\":true,\"zerolinewidth\":2},\"yaxis\":{\"gridcolor\":\"white\",\"linecolor\":\"white\",\"ticks\":\"\",\"title\":{\"standoff\":15},\"zerolinecolor\":\"white\",\"automargin\":true,\"zerolinewidth\":2},\"scene\":{\"xaxis\":{\"backgroundcolor\":\"#E5ECF6\",\"gridcolor\":\"white\",\"linecolor\":\"white\",\"showbackground\":true,\"ticks\":\"\",\"zerolinecolor\":\"white\",\"gridwidth\":2},\"yaxis\":{\"backgroundcolor\":\"#E5ECF6\",\"gridcolor\":\"white\",\"linecolor\":\"white\",\"showbackground\":true,\"ticks\":\"\",\"zerolinecolor\":\"white\",\"gridwidth\":2},\"zaxis\":{\"backgroundcolor\":\"#E5ECF6\",\"gridcolor\":\"white\",\"linecolor\":\"white\",\"showbackground\":true,\"ticks\":\"\",\"zerolinecolor\":\"white\",\"gridwidth\":2}},\"shapedefaults\":{\"line\":{\"color\":\"#2a3f5f\"}},\"annotationdefaults\":{\"arrowcolor\":\"#2a3f5f\",\"arrowhead\":0,\"arrowwidth\":1},\"geo\":{\"bgcolor\":\"white\",\"landcolor\":\"#E5ECF6\",\"subunitcolor\":\"white\",\"showland\":true,\"showlakes\":true,\"lakecolor\":\"white\"},\"title\":{\"x\":0.05},\"mapbox\":{\"style\":\"light\"}}},\"xaxis\":{\"anchor\":\"y\",\"domain\":[0.0,1.0],\"title\":{\"text\":\"A\\u00f1o\"}},\"yaxis\":{\"anchor\":\"x\",\"domain\":[0.0,1.0],\"title\":{\"text\":\"Intencion_Voto\"}},\"coloraxis\":{\"colorbar\":{\"title\":{\"text\":\"A\\u00f1o\"}},\"colorscale\":[[0.0,\"#0d0887\"],[0.1111111111111111,\"#46039f\"],[0.2222222222222222,\"#7201a8\"],[0.3333333333333333,\"#9c179e\"],[0.4444444444444444,\"#bd3786\"],[0.5555555555555556,\"#d8576b\"],[0.6666666666666666,\"#ed7953\"],[0.7777777777777778,\"#fb9f3a\"],[0.8888888888888888,\"#fdca26\"],[1.0,\"#f0f921\"]]},\"legend\":{\"tracegroupgap\":0},\"title\":{\"text\":\"Intenci\\u00f3n de Voto en California\"},\"barmode\":\"relative\"},                        {\"responsive\": true}                    ).then(function(){\n",
              "                            \n",
              "var gd = document.getElementById('45e1b658-c176-4d43-8105-fd4029b0035d');\n",
              "var x = new MutationObserver(function (mutations, observer) {{\n",
              "        var display = window.getComputedStyle(gd).display;\n",
              "        if (!display || display === 'none') {{\n",
              "            console.log([gd, 'removed!']);\n",
              "            Plotly.purge(gd);\n",
              "            observer.disconnect();\n",
              "        }}\n",
              "}});\n",
              "\n",
              "// Listen for the removal of the full notebook cells\n",
              "var notebookContainer = gd.closest('#notebook-container');\n",
              "if (notebookContainer) {{\n",
              "    x.observe(notebookContainer, {childList: true});\n",
              "}}\n",
              "\n",
              "// Listen for the clearing of the current output cell\n",
              "var outputEl = gd.closest('.output');\n",
              "if (outputEl) {{\n",
              "    x.observe(outputEl, {childList: true});\n",
              "}}\n",
              "\n",
              "                        })                };                            </script>        </div>\n",
              "</body>\n",
              "</html>"
            ]
          },
          "metadata": {}
        }
      ]
    },
    {
      "cell_type": "markdown",
      "source": [
        "## **Strip**"
      ],
      "metadata": {
        "id": "PoraIaevvPbW"
      },
      "id": "PoraIaevvPbW"
    },
    {
      "cell_type": "markdown",
      "source": [
        "https://plotly.com/python/strip-charts/"
      ],
      "metadata": {
        "id": "sPHVCr7HkNro"
      },
      "id": "sPHVCr7HkNro"
    },
    {
      "cell_type": "code",
      "source": [
        "px.strip(df,\n",
        "         x = \"Intencion_Voto\",\n",
        "         hover_name = \"Estado\",\n",
        "         color = \"Año\",\n",
        "         title = \"Intención de Voto\")"
      ],
      "metadata": {
        "colab": {
          "base_uri": "https://localhost:8080/",
          "height": 542
        },
        "id": "ZHWsA4G4vC0U",
        "outputId": "958622d3-ed47-4cb4-cd9c-b88af453872a"
      },
      "id": "ZHWsA4G4vC0U",
      "execution_count": 26,
      "outputs": [
        {
          "output_type": "display_data",
          "data": {
            "text/html": [
              "<html>\n",
              "<head><meta charset=\"utf-8\" /></head>\n",
              "<body>\n",
              "    <div>            <script src=\"https://cdnjs.cloudflare.com/ajax/libs/mathjax/2.7.5/MathJax.js?config=TeX-AMS-MML_SVG\"></script><script type=\"text/javascript\">if (window.MathJax && window.MathJax.Hub && window.MathJax.Hub.Config) {window.MathJax.Hub.Config({SVG: {font: \"STIX-Web\"}});}</script>                <script type=\"text/javascript\">window.PlotlyConfig = {MathJaxConfig: 'local'};</script>\n",
              "        <script src=\"https://cdn.plot.ly/plotly-2.14.0.min.js\"></script>                <div id=\"ac969f8e-3cd4-452c-aa97-31f269c6e86b\" class=\"plotly-graph-div\" style=\"height:525px; width:100%;\"></div>            <script type=\"text/javascript\">                                    window.PLOTLYENV=window.PLOTLYENV || {};                                    if (document.getElementById(\"ac969f8e-3cd4-452c-aa97-31f269c6e86b\")) {                    Plotly.newPlot(                        \"ac969f8e-3cd4-452c-aa97-31f269c6e86b\",                        [{\"alignmentgroup\":\"True\",\"boxpoints\":\"all\",\"fillcolor\":\"rgba(255,255,255,0)\",\"hoveron\":\"points\",\"hovertemplate\":\"<b>%{hovertext}</b><br><br>A\\u00f1o=1976<br>Intencion_Voto=%{x}<extra></extra>\",\"hovertext\":[\"California\",\"Colorado\",\"Connecticut\",\"Delaware\",\"Georgia\",\"Idaho\",\"Illinois\",\"Indiana\",\"Iowa\",\"Kansas\",\"Maine\",\"Maryland\",\"Massachusetts\",\"Michigan\",\"Minnesota\",\"Missouri\",\"Nebraska\",\"New Jersey\",\"New York\",\"North Carolina\",\"Ohio\",\"Oregon\",\"South Carolina\",\"South Dakota\",\"Utah\",\"Washington\"],\"legendgroup\":\"1976\",\"line\":{\"color\":\"rgba(255,255,255,0)\"},\"marker\":{\"color\":\"#636efa\"},\"name\":\"1976\",\"offsetgroup\":\"1976\",\"orientation\":\"h\",\"pointpos\":0,\"showlegend\":true,\"x\":[42.797994,42.180101,41.698014,33.370748,59.796546,28.532182,46.568122,44.115426,44.396444,41.301737,39.287709,37.996590000000005,50.399871000000005,41.721918,50.399871000000005,46.088928,33.370748,37.091361,49.313474,41.196529,53.398833,43.190446,48.704338,43.200283,34.506819,33.270395],\"x0\":\" \",\"xaxis\":\"x\",\"y0\":\" \",\"yaxis\":\"y\",\"type\":\"box\"},{\"alignmentgroup\":\"True\",\"boxpoints\":\"all\",\"fillcolor\":\"rgba(255,255,255,0)\",\"hoveron\":\"points\",\"hovertemplate\":\"<b>%{hovertext}</b><br><br>A\\u00f1o=1980<br>Intencion_Voto=%{x}<extra></extra>\",\"hovertext\":[\"California\",\"Colorado\",\"Connecticut\",\"Delaware\",\"Georgia\",\"Idaho\",\"Illinois\",\"Iowa\",\"Kansas\",\"Maine\",\"Maryland\",\"Massachusetts\",\"Michigan\",\"Minnesota\",\"Missouri\",\"Nebraska\",\"New Jersey\",\"New York\",\"North Carolina\",\"Ohio\",\"Oregon\",\"South Carolina\",\"South Dakota\",\"Washington\",\"Alabama\",\"Arizona\",\"Arkansas\",\"Florida\",\"Hawaii\",\"Louisiana\",\"Mississippi\",\"Nevada\",\"New Hampshire\",\"North Dakota\",\"Oklahoma\",\"Pennsylvania\",\"Rhode Island\",\"Tennessee\",\"Texas\",\"Virginia\",\"West Virginia\",\"Wisconsin\"],\"legendgroup\":\"1980\",\"line\":{\"color\":\"rgba(255,255,255,0)\"},\"marker\":{\"color\":\"#EF553B\"},\"name\":\"1980\",\"offsetgroup\":\"1980\",\"orientation\":\"h\",\"pointpos\":0,\"showlegend\":true,\"x\":[28.010388,24.913525,32.831153,36.74326,48.568402,23.957977,40.353598,33.458937,26.411143,35.645349,41.137857,31.140320000000003,28.741635,31.597255,37.222867,22.783342,33.844507,35.753233,46.157558,34.906983000000004,35.199058,43.700094,17.450183,32.373094,40.321613,21.787392,43.983228,36.81831,36.287027,36.86978,35.870002,22.783342,28.762486,23.779461,38.739904,33.33068,35.264207,51.268399,38.029731,29.742939,40.200027,31.524793],\"x0\":\" \",\"xaxis\":\"x\",\"y0\":\" \",\"yaxis\":\"y\",\"type\":\"box\"},{\"alignmentgroup\":\"True\",\"boxpoints\":\"all\",\"fillcolor\":\"rgba(255,255,255,0)\",\"hoveron\":\"points\",\"hovertemplate\":\"<b>%{hovertext}</b><br><br>A\\u00f1o=1984<br>Intencion_Voto=%{x}<extra></extra>\",\"hovertext\":[\"California\",\"Colorado\",\"Connecticut\",\"Illinois\",\"Indiana\",\"Iowa\",\"Kansas\",\"Maryland\",\"Massachusetts\",\"Minnesota\",\"Missouri\",\"Nebraska\",\"New Jersey\",\"New York\",\"North Carolina\",\"Ohio\",\"Oregon\",\"Utah\",\"Washington\",\"Alabama\",\"Florida\",\"New Hampshire\",\"Pennsylvania\",\"Rhode Island\",\"Texas\",\"Virginia\",\"West Virginia\",\"Wisconsin\",\"Kentucky\",\"New Mexico\"],\"legendgroup\":\"1984\",\"line\":{\"color\":\"rgba(255,255,255,0)\"},\"marker\":{\"color\":\"#00cc96\"},\"name\":\"1984\",\"offsetgroup\":\"1984\",\"orientation\":\"h\",\"pointpos\":0,\"showlegend\":true,\"x\":[38.947686,31.0,30.695356,39.675961,36.119087,39.460832,28.888068,36.0,44.119005,46.088834000000006,37.749237,26.931731,32.496976000000004,38.551885,33.807644,39.468842,38.4373,23.614176,34.142811,35.034674,31.783757,42.543725,40.310944,38.622482,33.363964,31.0,44.393791,35.545034,33.065294,36.962649],\"x0\":\" \",\"xaxis\":\"x\",\"y0\":\" \",\"yaxis\":\"y\",\"type\":\"box\"},{\"alignmentgroup\":\"True\",\"boxpoints\":\"all\",\"fillcolor\":\"rgba(255,255,255,0)\",\"hoveron\":\"points\",\"hovertemplate\":\"<b>%{hovertext}</b><br><br>A\\u00f1o=1988<br>Intencion_Voto=%{x}<extra></extra>\",\"hovertext\":[\"California\",\"Colorado\",\"Connecticut\",\"Delaware\",\"Georgia\",\"Illinois\",\"Indiana\",\"Iowa\",\"Kansas\",\"Maine\",\"Maryland\",\"Massachusetts\",\"Michigan\",\"Minnesota\",\"Missouri\",\"Nebraska\",\"New Jersey\",\"New York\",\"North Carolina\",\"Ohio\",\"Oregon\",\"South Carolina\",\"South Dakota\",\"Utah\",\"Washington\",\"Alabama\",\"Arizona\",\"Arkansas\",\"Florida\",\"Hawaii\",\"Louisiana\",\"Mississippi\",\"Nevada\",\"New Hampshire\",\"North Dakota\",\"Oklahoma\",\"Pennsylvania\",\"Rhode Island\",\"Tennessee\",\"Texas\",\"Virginia\",\"West Virginia\",\"Wisconsin\",\"Kentucky\",\"New Mexico\",\"Alaska\",\"Montana\",\"Vermont\",\"Wyoming\"],\"legendgroup\":\"1988\",\"line\":{\"color\":\"rgba(255,255,255,0)\"},\"marker\":{\"color\":\"#ab63fa\"},\"name\":\"1988\",\"offsetgroup\":\"1988\",\"orientation\":\"h\",\"pointpos\":0,\"showlegend\":true,\"x\":[42.883798,41.952605,40.7113,34.832296,38.949382,45.433824,37.372362,51.348629,34.883109000000005,42.126039,45.944472,48.431455,43.626056,49.89779,41.91396,39.5896,40.924593,45.885133,41.989746,41.268361,48.474516,39.120127,40.672295,31.227522,42.971394,36.941321,33.011637,40.347879,35.808301,41.675536,39.623911,37.076414,33.449524,32.119257,37.267997,38.603252000000005,44.803587,46.607574,39.917801,42.587829,39.417478,43.680941,44.869765,41.791197,39.668694,41.120967,36.983819,41.675536,27.823913],\"x0\":\" \",\"xaxis\":\"x\",\"y0\":\" \",\"yaxis\":\"y\",\"type\":\"box\"},{\"alignmentgroup\":\"True\",\"boxpoints\":\"all\",\"fillcolor\":\"rgba(255,255,255,0)\",\"hoveron\":\"points\",\"hovertemplate\":\"<b>%{hovertext}</b><br><br>A\\u00f1o=1992<br>Intencion_Voto=%{x}<extra></extra>\",\"hovertext\":[\"California\",\"Colorado\",\"Connecticut\",\"Delaware\",\"Georgia\",\"Idaho\",\"Illinois\",\"Indiana\",\"Iowa\",\"Kansas\",\"Maine\",\"Maryland\",\"Massachusetts\",\"Michigan\",\"Minnesota\",\"Missouri\",\"Nebraska\",\"New Jersey\",\"New York\",\"North Carolina\",\"Ohio\",\"Oregon\",\"South Carolina\",\"South Dakota\",\"Utah\",\"Washington\",\"Alabama\",\"Arizona\",\"Arkansas\",\"Florida\",\"Hawaii\",\"Louisiana\",\"Mississippi\",\"Nevada\",\"New Hampshire\",\"North Dakota\",\"Oklahoma\",\"Pennsylvania\",\"Rhode Island\",\"Tennessee\",\"Texas\",\"Virginia\",\"West Virginia\",\"Wisconsin\",\"Kentucky\",\"New Mexico\",\"Alaska\",\"Montana\",\"Vermont\",\"Wyoming\"],\"legendgroup\":\"1992\",\"line\":{\"color\":\"rgba(255,255,255,0)\"},\"marker\":{\"color\":\"#FFA15A\"},\"name\":\"1992\",\"offsetgroup\":\"1992\",\"orientation\":\"h\",\"pointpos\":0,\"showlegend\":true,\"x\":[48.764566,39.511654,44.051756,40.233436,38.814284,28.721845,46.80532,36.793521000000005,38.889839,36.712598,34.291351,42.98602,37.029205,39.087293,41.663969,42.510403,30.607145000000003,39.305388,48.076968,40.319437,40.257081,39.925772,33.74447,36.333398,24.661515,44.466954,40.180882,33.570066,52.054279,38.39614,43.686664,38.129305,37.229225,35.293839,38.195925,31.136323,37.494133000000005,41.349889000000005,50.311493,44.505269,36.858955,35.497365,44.298712,39.933187,43.25922,41.953365000000005,33.656677,33.717977000000005,40.803584,30.408792],\"x0\":\" \",\"xaxis\":\"x\",\"y0\":\" \",\"yaxis\":\"y\",\"type\":\"box\"},{\"alignmentgroup\":\"True\",\"boxpoints\":\"all\",\"fillcolor\":\"rgba(255,255,255,0)\",\"hoveron\":\"points\",\"hovertemplate\":\"<b>%{hovertext}</b><br><br>A\\u00f1o=1996<br>Intencion_Voto=%{x}<extra></extra>\",\"hovertext\":[\"California\",\"Colorado\",\"Connecticut\",\"Delaware\",\"Georgia\",\"Idaho\",\"Illinois\",\"Indiana\",\"Iowa\",\"Kansas\",\"Maine\",\"Maryland\",\"Massachusetts\",\"Michigan\",\"Minnesota\",\"Missouri\",\"Nebraska\",\"New Jersey\",\"New York\",\"North Carolina\",\"Ohio\",\"Oregon\",\"South Carolina\",\"South Dakota\",\"Utah\",\"Washington\",\"Alabama\",\"Arizona\",\"Arkansas\",\"Florida\",\"Hawaii\",\"Louisiana\",\"Mississippi\",\"Nevada\",\"New Hampshire\",\"North Dakota\",\"Oklahoma\",\"Pennsylvania\",\"Rhode Island\",\"Tennessee\",\"Texas\",\"Virginia\",\"West Virginia\",\"Wisconsin\",\"Kentucky\",\"New Mexico\",\"Alaska\",\"Montana\",\"Vermont\",\"Wyoming\"],\"legendgroup\":\"1996\",\"line\":{\"color\":\"rgba(255,255,255,0)\"},\"marker\":{\"color\":\"#19d3f3\"},\"name\":\"1996\",\"offsetgroup\":\"1996\",\"orientation\":\"h\",\"pointpos\":0,\"showlegend\":true,\"x\":[48.713991,43.749865,49.016396,46.301404,44.767056,30.727659000000003,50.610869,38.665799,47.453958,37.789317,47.893072,51.392215,57.458991000000005,47.323879,52.188213,47.004037,36.553417,48.820304,54.758489,43.845678,47.250076,48.096447,40.93399,41.031583000000005,33.763817,47.449865,40.952817,45.013949,52.939159,46.23713,53.388279,46.771096,39.189574,42.691043,50.101426,36.061334,39.532809,49.045393,54.644628,44.996317,40.749962,42.826149,50.536458,49.536554,45.657298,47.593024,34.288314,40.633789,52.366977,37.603149],\"x0\":\" \",\"xaxis\":\"x\",\"y0\":\" \",\"yaxis\":\"y\",\"type\":\"box\"},{\"alignmentgroup\":\"True\",\"boxpoints\":\"all\",\"fillcolor\":\"rgba(255,255,255,0)\",\"hoveron\":\"points\",\"hovertemplate\":\"<b>%{hovertext}</b><br><br>A\\u00f1o=2000<br>Intencion_Voto=%{x}<extra></extra>\",\"hovertext\":[\"California\",\"Colorado\",\"Connecticut\",\"Delaware\",\"Georgia\",\"Idaho\",\"Illinois\",\"Indiana\",\"Iowa\",\"Kansas\",\"Maine\",\"Maryland\",\"Massachusetts\",\"Michigan\",\"Minnesota\",\"Missouri\",\"Nebraska\",\"New Jersey\",\"New York\",\"North Carolina\",\"Ohio\",\"Oregon\",\"South Carolina\",\"South Dakota\",\"Utah\",\"Washington\",\"Alabama\",\"Arizona\",\"Arkansas\",\"Florida\",\"Hawaii\",\"Louisiana\",\"Mississippi\",\"Nevada\",\"New Hampshire\",\"North Dakota\",\"Oklahoma\",\"Pennsylvania\",\"Rhode Island\",\"Tennessee\",\"Texas\",\"Virginia\",\"West Virginia\",\"Wisconsin\",\"Kentucky\",\"New Mexico\",\"Alaska\",\"Montana\",\"Vermont\",\"Wyoming\"],\"legendgroup\":\"2000\",\"line\":{\"color\":\"rgba(255,255,255,0)\"},\"marker\":{\"color\":\"#FF6692\"},\"name\":\"2000\",\"offsetgroup\":\"2000\",\"orientation\":\"h\",\"pointpos\":0,\"showlegend\":true,\"x\":[46.403632,39.381768,49.740238,45.229964,40.539803000000006,26.858225,47.253009000000006,34.544446,44.900912,35.187645,45.534507,52.162341,55.10759,46.399564,44.708419,45.054595,34.333161,48.682663,52.79625,41.733597,42.433913,44.507462,38.884246000000005,33.539587,24.619824,45.177247,35.201229,38.92711,44.305234000000006,47.174946000000006,52.079752,39.244476,38.42805,43.036997,41.003838,34.51015,37.20398,46.367906,52.319718,46.032948,32.296191,42.210553,42.258471,43.910057,40.641904,44.723852,28.018256,32.346911,46.85579,29.687844],\"x0\":\" \",\"xaxis\":\"x\",\"y0\":\" \",\"yaxis\":\"y\",\"type\":\"box\"},{\"alignmentgroup\":\"True\",\"boxpoints\":\"all\",\"fillcolor\":\"rgba(255,255,255,0)\",\"hoveron\":\"points\",\"hovertemplate\":\"<b>%{hovertext}</b><br><br>A\\u00f1o=2004<br>Intencion_Voto=%{x}<extra></extra>\",\"hovertext\":[\"California\",\"Colorado\",\"Connecticut\",\"Delaware\",\"Georgia\",\"Idaho\",\"Illinois\",\"Indiana\",\"Iowa\",\"Kansas\",\"Maine\",\"Maryland\",\"Massachusetts\",\"Michigan\",\"Minnesota\",\"Missouri\",\"Nebraska\",\"New Jersey\",\"New York\",\"North Carolina\",\"Ohio\",\"Oregon\",\"South Carolina\",\"South Dakota\",\"Utah\",\"Washington\",\"Alabama\",\"Arizona\",\"Arkansas\",\"Florida\",\"Hawaii\",\"Louisiana\",\"Mississippi\",\"Nevada\",\"New Hampshire\",\"North Dakota\",\"Oklahoma\",\"Pennsylvania\",\"Rhode Island\",\"Tennessee\",\"Texas\",\"Virginia\",\"West Virginia\",\"Wisconsin\",\"Kentucky\",\"New Mexico\",\"Alaska\",\"Montana\",\"Vermont\"],\"legendgroup\":\"2004\",\"line\":{\"color\":\"rgba(255,255,255,0)\"},\"marker\":{\"color\":\"#B6E880\"},\"name\":\"2004\",\"offsetgroup\":\"2004\",\"orientation\":\"h\",\"pointpos\":0,\"showlegend\":true,\"x\":[52.385393,45.309328,50.968638,47.686023,41.540177,27.835825,51.746566,36.95455,46.264535,34.482297,50.048318,53.865381000000006,57.661592000000006,48.691046,48.248413,45.337555,31.525627000000004,48.995247,54.340684,43.381614,47.973979,50.530961,39.155158,37.609466,24.109276,51.681792,35.153022,42.353901,46.05477,47.364931,45.794949,35.99788,37.824067,45.188758,48.624872,33.772825,32.688553000000006,48.729059,54.849934,42.342747,35.652891,43.916727,44.495975,46.387916,38.181241,44.911481,31.118299,33.714633,49.357665],\"x0\":\" \",\"xaxis\":\"x\",\"y0\":\" \",\"yaxis\":\"y\",\"type\":\"box\"},{\"alignmentgroup\":\"True\",\"boxpoints\":\"all\",\"fillcolor\":\"rgba(255,255,255,0)\",\"hoveron\":\"points\",\"hovertemplate\":\"<b>%{hovertext}</b><br><br>A\\u00f1o=2008<br>Intencion_Voto=%{x}<extra></extra>\",\"hovertext\":[\"California\",\"Colorado\",\"Connecticut\",\"Delaware\",\"Georgia\",\"Idaho\",\"Illinois\",\"Indiana\",\"Iowa\",\"Kansas\",\"Maine\",\"Maryland\",\"Massachusetts\",\"Michigan\",\"Minnesota\",\"Missouri\",\"Nebraska\",\"New Jersey\",\"New York\",\"North Carolina\",\"Ohio\",\"Oregon\",\"South Carolina\",\"South Dakota\",\"Utah\",\"Washington\",\"Alabama\",\"Arizona\",\"Arkansas\",\"Florida\",\"Hawaii\",\"Louisiana\",\"Mississippi\",\"Nevada\",\"New Hampshire\",\"North Dakota\",\"Oklahoma\",\"Pennsylvania\",\"Rhode Island\",\"Tennessee\",\"Texas\",\"Virginia\",\"West Virginia\",\"Wisconsin\",\"Kentucky\",\"New Mexico\",\"Alaska\",\"Montana\",\"Vermont\",\"Wyoming\"],\"legendgroup\":\"2008\",\"line\":{\"color\":\"rgba(255,255,255,0)\"},\"marker\":{\"color\":\"#FF97FF\"},\"name\":\"2008\",\"offsetgroup\":\"2008\",\"orientation\":\"h\",\"pointpos\":0,\"showlegend\":true,\"x\":[57.522385,51.302013,56.510289,59.585339000000005,45.796409,32.100732,59.354164,47.005797,52.852666000000006,38.483246,55.215782,58.011276,56.361476,53.70322,52.376347,47.35975,37.480707,54.871929,61.370024,48.35763,49.617053000000006,54.806549,42.876454,42.894873,32.651839,53.835668000000005,35.858475,45.233846,42.823934,48.108337,59.752297,41.531393,41.028078,50.390004,52.275229,44.243590000000005,35.542093,51.486452,55.351109,41.722512,42.507628,50.345379,40.809777,52.66490699999999,41.070429,53.42745,41.419908,44.86544,60.060211,33.176088],\"x0\":\" \",\"xaxis\":\"x\",\"y0\":\" \",\"yaxis\":\"y\",\"type\":\"box\"},{\"alignmentgroup\":\"True\",\"boxpoints\":\"all\",\"fillcolor\":\"rgba(255,255,255,0)\",\"hoveron\":\"points\",\"hovertemplate\":\"<b>%{hovertext}</b><br><br>A\\u00f1o=2012<br>Intencion_Voto=%{x}<extra></extra>\",\"hovertext\":[\"California\",\"Colorado\",\"Connecticut\",\"Georgia\",\"Idaho\",\"Illinois\",\"Indiana\",\"Iowa\",\"Kansas\",\"Maine\",\"Maryland\",\"Massachusetts\",\"Michigan\",\"Minnesota\",\"Missouri\",\"Nebraska\",\"New Jersey\",\"New York\",\"North Carolina\",\"Ohio\",\"Oregon\",\"South Carolina\",\"South Dakota\",\"Utah\",\"Washington\",\"Alabama\",\"Arizona\",\"Arkansas\",\"Florida\",\"Hawaii\",\"Louisiana\",\"Nevada\",\"New Hampshire\",\"North Dakota\",\"Oklahoma\",\"Pennsylvania\",\"Rhode Island\",\"Tennessee\",\"Texas\",\"Virginia\",\"West Virginia\",\"Wisconsin\",\"Kentucky\",\"New Mexico\",\"Montana\",\"Vermont\"],\"legendgroup\":\"2012\",\"line\":{\"color\":\"rgba(255,255,255,0)\"},\"marker\":{\"color\":\"#FECB52\"},\"name\":\"2012\",\"offsetgroup\":\"2012\",\"orientation\":\"h\",\"pointpos\":0,\"showlegend\":true,\"x\":[54.853727,48.290802,53.670551,43.65606,27.09037,55.665689,42.112778000000006,48.072818,33.987826,52.556736,57.525837,56.852048,49.748667,50.850344,42.372821,38.929304,52.229467,59.796929000000006,46.504795,49.171259,48.07413,42.771209000000006,40.736824,24.505127,53.39461,35.623535,44.002949,32.926966,47.634723,61.42352,36.768243,49.93103,48.49889,38.780472,30.318942,49.881312,55.353336,38.939167,38.706372,48.265883,37.407189,49.892816,38.72088,49.905268,43.484368,59.85286],\"x0\":\" \",\"xaxis\":\"x\",\"y0\":\" \",\"yaxis\":\"y\",\"type\":\"box\"},{\"alignmentgroup\":\"True\",\"boxpoints\":\"all\",\"fillcolor\":\"rgba(255,255,255,0)\",\"hoveron\":\"points\",\"hovertemplate\":\"<b>%{hovertext}</b><br><br>A\\u00f1o=2016<br>Intencion_Voto=%{x}<extra></extra>\",\"hovertext\":[\"California\",\"Colorado\",\"Connecticut\",\"Delaware\",\"Georgia\",\"Idaho\",\"Illinois\",\"Indiana\",\"Iowa\",\"Kansas\",\"Maine\",\"Maryland\",\"Massachusetts\",\"Michigan\",\"Minnesota\",\"Missouri\",\"Nebraska\",\"New Jersey\",\"New York\",\"North Carolina\",\"Ohio\",\"Oregon\",\"South Carolina\",\"South Dakota\",\"Utah\",\"Washington\",\"Alabama\",\"Arizona\",\"Arkansas\",\"Florida\",\"Hawaii\",\"Louisiana\",\"Mississippi\",\"Nevada\",\"New Hampshire\",\"North Dakota\",\"Oklahoma\",\"Pennsylvania\",\"Rhode Island\",\"Tennessee\",\"Texas\",\"Virginia\",\"West Virginia\",\"Wisconsin\",\"Kentucky\",\"New Mexico\",\"Alaska\",\"Montana\",\"Vermont\",\"Wyoming\"],\"legendgroup\":\"2016\",\"line\":{\"color\":\"rgba(255,255,255,0)\"},\"marker\":{\"color\":\"#636efa\"},\"name\":\"2016\",\"offsetgroup\":\"2016\",\"orientation\":\"h\",\"pointpos\":0,\"showlegend\":true,\"x\":[54.91905,43.64732,51.05077,50.08618,44.38727,29.68751,50.97485,37.3296,40.87534,36.81242,46.01504,59.92575,55.71963,45.66772,46.96928,38.22606,33.61203,51.68812,54.164730000000006,46.44271,42.63316,45.89365,41.16662,32.46563,26.91846,50.27108,35.14891,42.92815,33.52097,46.39832,51.88781,37.1587,41.43731,44.89117,44.56515,29.20324,30.795340000000003,46.50476,47.45552,39.00087,38.6247,47.26719,28.61783,46.56556,33.53967,43.84036,39.10066,32.673390000000005,55.18666,22.07957],\"x0\":\" \",\"xaxis\":\"x\",\"y0\":\" \",\"yaxis\":\"y\",\"type\":\"box\"}],                        {\"template\":{\"data\":{\"histogram2dcontour\":[{\"type\":\"histogram2dcontour\",\"colorbar\":{\"outlinewidth\":0,\"ticks\":\"\"},\"colorscale\":[[0.0,\"#0d0887\"],[0.1111111111111111,\"#46039f\"],[0.2222222222222222,\"#7201a8\"],[0.3333333333333333,\"#9c179e\"],[0.4444444444444444,\"#bd3786\"],[0.5555555555555556,\"#d8576b\"],[0.6666666666666666,\"#ed7953\"],[0.7777777777777778,\"#fb9f3a\"],[0.8888888888888888,\"#fdca26\"],[1.0,\"#f0f921\"]]}],\"choropleth\":[{\"type\":\"choropleth\",\"colorbar\":{\"outlinewidth\":0,\"ticks\":\"\"}}],\"histogram2d\":[{\"type\":\"histogram2d\",\"colorbar\":{\"outlinewidth\":0,\"ticks\":\"\"},\"colorscale\":[[0.0,\"#0d0887\"],[0.1111111111111111,\"#46039f\"],[0.2222222222222222,\"#7201a8\"],[0.3333333333333333,\"#9c179e\"],[0.4444444444444444,\"#bd3786\"],[0.5555555555555556,\"#d8576b\"],[0.6666666666666666,\"#ed7953\"],[0.7777777777777778,\"#fb9f3a\"],[0.8888888888888888,\"#fdca26\"],[1.0,\"#f0f921\"]]}],\"heatmap\":[{\"type\":\"heatmap\",\"colorbar\":{\"outlinewidth\":0,\"ticks\":\"\"},\"colorscale\":[[0.0,\"#0d0887\"],[0.1111111111111111,\"#46039f\"],[0.2222222222222222,\"#7201a8\"],[0.3333333333333333,\"#9c179e\"],[0.4444444444444444,\"#bd3786\"],[0.5555555555555556,\"#d8576b\"],[0.6666666666666666,\"#ed7953\"],[0.7777777777777778,\"#fb9f3a\"],[0.8888888888888888,\"#fdca26\"],[1.0,\"#f0f921\"]]}],\"heatmapgl\":[{\"type\":\"heatmapgl\",\"colorbar\":{\"outlinewidth\":0,\"ticks\":\"\"},\"colorscale\":[[0.0,\"#0d0887\"],[0.1111111111111111,\"#46039f\"],[0.2222222222222222,\"#7201a8\"],[0.3333333333333333,\"#9c179e\"],[0.4444444444444444,\"#bd3786\"],[0.5555555555555556,\"#d8576b\"],[0.6666666666666666,\"#ed7953\"],[0.7777777777777778,\"#fb9f3a\"],[0.8888888888888888,\"#fdca26\"],[1.0,\"#f0f921\"]]}],\"contourcarpet\":[{\"type\":\"contourcarpet\",\"colorbar\":{\"outlinewidth\":0,\"ticks\":\"\"}}],\"contour\":[{\"type\":\"contour\",\"colorbar\":{\"outlinewidth\":0,\"ticks\":\"\"},\"colorscale\":[[0.0,\"#0d0887\"],[0.1111111111111111,\"#46039f\"],[0.2222222222222222,\"#7201a8\"],[0.3333333333333333,\"#9c179e\"],[0.4444444444444444,\"#bd3786\"],[0.5555555555555556,\"#d8576b\"],[0.6666666666666666,\"#ed7953\"],[0.7777777777777778,\"#fb9f3a\"],[0.8888888888888888,\"#fdca26\"],[1.0,\"#f0f921\"]]}],\"surface\":[{\"type\":\"surface\",\"colorbar\":{\"outlinewidth\":0,\"ticks\":\"\"},\"colorscale\":[[0.0,\"#0d0887\"],[0.1111111111111111,\"#46039f\"],[0.2222222222222222,\"#7201a8\"],[0.3333333333333333,\"#9c179e\"],[0.4444444444444444,\"#bd3786\"],[0.5555555555555556,\"#d8576b\"],[0.6666666666666666,\"#ed7953\"],[0.7777777777777778,\"#fb9f3a\"],[0.8888888888888888,\"#fdca26\"],[1.0,\"#f0f921\"]]}],\"mesh3d\":[{\"type\":\"mesh3d\",\"colorbar\":{\"outlinewidth\":0,\"ticks\":\"\"}}],\"scatter\":[{\"fillpattern\":{\"fillmode\":\"overlay\",\"size\":10,\"solidity\":0.2},\"type\":\"scatter\"}],\"parcoords\":[{\"type\":\"parcoords\",\"line\":{\"colorbar\":{\"outlinewidth\":0,\"ticks\":\"\"}}}],\"scatterpolargl\":[{\"type\":\"scatterpolargl\",\"marker\":{\"colorbar\":{\"outlinewidth\":0,\"ticks\":\"\"}}}],\"bar\":[{\"error_x\":{\"color\":\"#2a3f5f\"},\"error_y\":{\"color\":\"#2a3f5f\"},\"marker\":{\"line\":{\"color\":\"#E5ECF6\",\"width\":0.5},\"pattern\":{\"fillmode\":\"overlay\",\"size\":10,\"solidity\":0.2}},\"type\":\"bar\"}],\"scattergeo\":[{\"type\":\"scattergeo\",\"marker\":{\"colorbar\":{\"outlinewidth\":0,\"ticks\":\"\"}}}],\"scatterpolar\":[{\"type\":\"scatterpolar\",\"marker\":{\"colorbar\":{\"outlinewidth\":0,\"ticks\":\"\"}}}],\"histogram\":[{\"marker\":{\"pattern\":{\"fillmode\":\"overlay\",\"size\":10,\"solidity\":0.2}},\"type\":\"histogram\"}],\"scattergl\":[{\"type\":\"scattergl\",\"marker\":{\"colorbar\":{\"outlinewidth\":0,\"ticks\":\"\"}}}],\"scatter3d\":[{\"type\":\"scatter3d\",\"line\":{\"colorbar\":{\"outlinewidth\":0,\"ticks\":\"\"}},\"marker\":{\"colorbar\":{\"outlinewidth\":0,\"ticks\":\"\"}}}],\"scattermapbox\":[{\"type\":\"scattermapbox\",\"marker\":{\"colorbar\":{\"outlinewidth\":0,\"ticks\":\"\"}}}],\"scatterternary\":[{\"type\":\"scatterternary\",\"marker\":{\"colorbar\":{\"outlinewidth\":0,\"ticks\":\"\"}}}],\"scattercarpet\":[{\"type\":\"scattercarpet\",\"marker\":{\"colorbar\":{\"outlinewidth\":0,\"ticks\":\"\"}}}],\"carpet\":[{\"aaxis\":{\"endlinecolor\":\"#2a3f5f\",\"gridcolor\":\"white\",\"linecolor\":\"white\",\"minorgridcolor\":\"white\",\"startlinecolor\":\"#2a3f5f\"},\"baxis\":{\"endlinecolor\":\"#2a3f5f\",\"gridcolor\":\"white\",\"linecolor\":\"white\",\"minorgridcolor\":\"white\",\"startlinecolor\":\"#2a3f5f\"},\"type\":\"carpet\"}],\"table\":[{\"cells\":{\"fill\":{\"color\":\"#EBF0F8\"},\"line\":{\"color\":\"white\"}},\"header\":{\"fill\":{\"color\":\"#C8D4E3\"},\"line\":{\"color\":\"white\"}},\"type\":\"table\"}],\"barpolar\":[{\"marker\":{\"line\":{\"color\":\"#E5ECF6\",\"width\":0.5},\"pattern\":{\"fillmode\":\"overlay\",\"size\":10,\"solidity\":0.2}},\"type\":\"barpolar\"}],\"pie\":[{\"automargin\":true,\"type\":\"pie\"}]},\"layout\":{\"autotypenumbers\":\"strict\",\"colorway\":[\"#636efa\",\"#EF553B\",\"#00cc96\",\"#ab63fa\",\"#FFA15A\",\"#19d3f3\",\"#FF6692\",\"#B6E880\",\"#FF97FF\",\"#FECB52\"],\"font\":{\"color\":\"#2a3f5f\"},\"hovermode\":\"closest\",\"hoverlabel\":{\"align\":\"left\"},\"paper_bgcolor\":\"white\",\"plot_bgcolor\":\"#E5ECF6\",\"polar\":{\"bgcolor\":\"#E5ECF6\",\"angularaxis\":{\"gridcolor\":\"white\",\"linecolor\":\"white\",\"ticks\":\"\"},\"radialaxis\":{\"gridcolor\":\"white\",\"linecolor\":\"white\",\"ticks\":\"\"}},\"ternary\":{\"bgcolor\":\"#E5ECF6\",\"aaxis\":{\"gridcolor\":\"white\",\"linecolor\":\"white\",\"ticks\":\"\"},\"baxis\":{\"gridcolor\":\"white\",\"linecolor\":\"white\",\"ticks\":\"\"},\"caxis\":{\"gridcolor\":\"white\",\"linecolor\":\"white\",\"ticks\":\"\"}},\"coloraxis\":{\"colorbar\":{\"outlinewidth\":0,\"ticks\":\"\"}},\"colorscale\":{\"sequential\":[[0.0,\"#0d0887\"],[0.1111111111111111,\"#46039f\"],[0.2222222222222222,\"#7201a8\"],[0.3333333333333333,\"#9c179e\"],[0.4444444444444444,\"#bd3786\"],[0.5555555555555556,\"#d8576b\"],[0.6666666666666666,\"#ed7953\"],[0.7777777777777778,\"#fb9f3a\"],[0.8888888888888888,\"#fdca26\"],[1.0,\"#f0f921\"]],\"sequentialminus\":[[0.0,\"#0d0887\"],[0.1111111111111111,\"#46039f\"],[0.2222222222222222,\"#7201a8\"],[0.3333333333333333,\"#9c179e\"],[0.4444444444444444,\"#bd3786\"],[0.5555555555555556,\"#d8576b\"],[0.6666666666666666,\"#ed7953\"],[0.7777777777777778,\"#fb9f3a\"],[0.8888888888888888,\"#fdca26\"],[1.0,\"#f0f921\"]],\"diverging\":[[0,\"#8e0152\"],[0.1,\"#c51b7d\"],[0.2,\"#de77ae\"],[0.3,\"#f1b6da\"],[0.4,\"#fde0ef\"],[0.5,\"#f7f7f7\"],[0.6,\"#e6f5d0\"],[0.7,\"#b8e186\"],[0.8,\"#7fbc41\"],[0.9,\"#4d9221\"],[1,\"#276419\"]]},\"xaxis\":{\"gridcolor\":\"white\",\"linecolor\":\"white\",\"ticks\":\"\",\"title\":{\"standoff\":15},\"zerolinecolor\":\"white\",\"automargin\":true,\"zerolinewidth\":2},\"yaxis\":{\"gridcolor\":\"white\",\"linecolor\":\"white\",\"ticks\":\"\",\"title\":{\"standoff\":15},\"zerolinecolor\":\"white\",\"automargin\":true,\"zerolinewidth\":2},\"scene\":{\"xaxis\":{\"backgroundcolor\":\"#E5ECF6\",\"gridcolor\":\"white\",\"linecolor\":\"white\",\"showbackground\":true,\"ticks\":\"\",\"zerolinecolor\":\"white\",\"gridwidth\":2},\"yaxis\":{\"backgroundcolor\":\"#E5ECF6\",\"gridcolor\":\"white\",\"linecolor\":\"white\",\"showbackground\":true,\"ticks\":\"\",\"zerolinecolor\":\"white\",\"gridwidth\":2},\"zaxis\":{\"backgroundcolor\":\"#E5ECF6\",\"gridcolor\":\"white\",\"linecolor\":\"white\",\"showbackground\":true,\"ticks\":\"\",\"zerolinecolor\":\"white\",\"gridwidth\":2}},\"shapedefaults\":{\"line\":{\"color\":\"#2a3f5f\"}},\"annotationdefaults\":{\"arrowcolor\":\"#2a3f5f\",\"arrowhead\":0,\"arrowwidth\":1},\"geo\":{\"bgcolor\":\"white\",\"landcolor\":\"#E5ECF6\",\"subunitcolor\":\"white\",\"showland\":true,\"showlakes\":true,\"lakecolor\":\"white\"},\"title\":{\"x\":0.05},\"mapbox\":{\"style\":\"light\"}}},\"xaxis\":{\"anchor\":\"y\",\"domain\":[0.0,1.0],\"title\":{\"text\":\"Intencion_Voto\"}},\"yaxis\":{\"anchor\":\"x\",\"domain\":[0.0,1.0]},\"legend\":{\"title\":{\"text\":\"A\\u00f1o\"},\"tracegroupgap\":0},\"title\":{\"text\":\"Intenci\\u00f3n de Voto\"},\"boxmode\":\"group\"},                        {\"responsive\": true}                    ).then(function(){\n",
              "                            \n",
              "var gd = document.getElementById('ac969f8e-3cd4-452c-aa97-31f269c6e86b');\n",
              "var x = new MutationObserver(function (mutations, observer) {{\n",
              "        var display = window.getComputedStyle(gd).display;\n",
              "        if (!display || display === 'none') {{\n",
              "            console.log([gd, 'removed!']);\n",
              "            Plotly.purge(gd);\n",
              "            observer.disconnect();\n",
              "        }}\n",
              "}});\n",
              "\n",
              "// Listen for the removal of the full notebook cells\n",
              "var notebookContainer = gd.closest('#notebook-container');\n",
              "if (notebookContainer) {{\n",
              "    x.observe(notebookContainer, {childList: true});\n",
              "}}\n",
              "\n",
              "// Listen for the clearing of the current output cell\n",
              "var outputEl = gd.closest('.output');\n",
              "if (outputEl) {{\n",
              "    x.observe(outputEl, {childList: true});\n",
              "}}\n",
              "\n",
              "                        })                };                            </script>        </div>\n",
              "</body>\n",
              "</html>"
            ]
          },
          "metadata": {}
        }
      ]
    },
    {
      "cell_type": "code",
      "source": [
        "px.strip(df,\n",
        "         x = \"Intencion_Voto\",\n",
        "         hover_name = \"Estado\",\n",
        "         color = \"Año\",\n",
        "         facet_col = \"Ganador\",\n",
        "         title = \"Intención de Voto\")"
      ],
      "metadata": {
        "colab": {
          "base_uri": "https://localhost:8080/",
          "height": 542
        },
        "id": "2ZurHY-JkWiy",
        "outputId": "4bdc1b9b-8855-4d9b-ed1e-5226bd273c02"
      },
      "id": "2ZurHY-JkWiy",
      "execution_count": 28,
      "outputs": [
        {
          "output_type": "display_data",
          "data": {
            "text/html": [
              "<html>\n",
              "<head><meta charset=\"utf-8\" /></head>\n",
              "<body>\n",
              "    <div>            <script src=\"https://cdnjs.cloudflare.com/ajax/libs/mathjax/2.7.5/MathJax.js?config=TeX-AMS-MML_SVG\"></script><script type=\"text/javascript\">if (window.MathJax && window.MathJax.Hub && window.MathJax.Hub.Config) {window.MathJax.Hub.Config({SVG: {font: \"STIX-Web\"}});}</script>                <script type=\"text/javascript\">window.PlotlyConfig = {MathJaxConfig: 'local'};</script>\n",
              "        <script src=\"https://cdn.plot.ly/plotly-2.14.0.min.js\"></script>                <div id=\"fec4ccbf-a8d4-4e27-bbce-9ba500a69cfa\" class=\"plotly-graph-div\" style=\"height:525px; width:100%;\"></div>            <script type=\"text/javascript\">                                    window.PLOTLYENV=window.PLOTLYENV || {};                                    if (document.getElementById(\"fec4ccbf-a8d4-4e27-bbce-9ba500a69cfa\")) {                    Plotly.newPlot(                        \"fec4ccbf-a8d4-4e27-bbce-9ba500a69cfa\",                        [{\"alignmentgroup\":\"True\",\"boxpoints\":\"all\",\"fillcolor\":\"rgba(255,255,255,0)\",\"hoveron\":\"points\",\"hovertemplate\":\"<b>%{hovertext}</b><br><br>A\\u00f1o=1976<br>Ganador=republican<br>Intencion_Voto=%{x}<extra></extra>\",\"hovertext\":[\"California\",\"Colorado\",\"Connecticut\",\"Idaho\",\"Illinois\",\"Indiana\",\"Iowa\",\"Kansas\",\"Maine\",\"Michigan\",\"Nebraska\",\"New Jersey\",\"Oregon\",\"South Dakota\",\"Utah\",\"Washington\"],\"legendgroup\":\"1976\",\"line\":{\"color\":\"rgba(255,255,255,0)\"},\"marker\":{\"color\":\"#636efa\"},\"name\":\"1976\",\"offsetgroup\":\"1976\",\"orientation\":\"h\",\"pointpos\":0,\"showlegend\":true,\"x\":[42.797994,42.180101,41.698014,28.532182,46.568122,44.115426,44.396444,41.301737,39.287709,41.721918,33.370748,37.091361,43.190446,43.200283,34.506819,33.270395],\"x0\":\" \",\"xaxis\":\"x\",\"y0\":\" \",\"yaxis\":\"y\",\"type\":\"box\"},{\"alignmentgroup\":\"True\",\"boxpoints\":\"all\",\"fillcolor\":\"rgba(255,255,255,0)\",\"hoveron\":\"points\",\"hovertemplate\":\"<b>%{hovertext}</b><br><br>A\\u00f1o=1976<br>Ganador=democrat<br>Intencion_Voto=%{x}<extra></extra>\",\"hovertext\":[\"Delaware\",\"Georgia\",\"Maryland\",\"Massachusetts\",\"Minnesota\",\"Missouri\",\"New York\",\"North Carolina\",\"Ohio\",\"South Carolina\"],\"legendgroup\":\"1976\",\"line\":{\"color\":\"rgba(255,255,255,0)\"},\"marker\":{\"color\":\"#636efa\"},\"name\":\"1976\",\"offsetgroup\":\"1976\",\"orientation\":\"h\",\"pointpos\":0,\"showlegend\":false,\"x\":[33.370748,59.796546,37.996590000000005,50.399871000000005,50.399871000000005,46.088928,49.313474,41.196529,53.398833,48.704338],\"x0\":\" \",\"xaxis\":\"x2\",\"y0\":\" \",\"yaxis\":\"y2\",\"type\":\"box\"},{\"alignmentgroup\":\"True\",\"boxpoints\":\"all\",\"fillcolor\":\"rgba(255,255,255,0)\",\"hoveron\":\"points\",\"hovertemplate\":\"<b>%{hovertext}</b><br><br>A\\u00f1o=1980<br>Ganador=republican<br>Intencion_Voto=%{x}<extra></extra>\",\"hovertext\":[\"California\",\"Colorado\",\"Connecticut\",\"Delaware\",\"Idaho\",\"Illinois\",\"Iowa\",\"Kansas\",\"Maine\",\"Massachusetts\",\"Michigan\",\"Missouri\",\"Nebraska\",\"New Jersey\",\"North Carolina\",\"Ohio\",\"Oregon\",\"South Carolina\",\"South Dakota\",\"Washington\",\"Alabama\",\"Arizona\",\"Arkansas\",\"Florida\",\"Louisiana\",\"Mississippi\",\"Nevada\",\"New Hampshire\",\"North Dakota\",\"Oklahoma\",\"Pennsylvania\",\"Tennessee\",\"Texas\",\"Virginia\",\"Wisconsin\"],\"legendgroup\":\"1980\",\"line\":{\"color\":\"rgba(255,255,255,0)\"},\"marker\":{\"color\":\"#EF553B\"},\"name\":\"1980\",\"offsetgroup\":\"1980\",\"orientation\":\"h\",\"pointpos\":0,\"showlegend\":true,\"x\":[28.010388,24.913525,32.831153,36.74326,23.957977,40.353598,33.458937,26.411143,35.645349,31.140320000000003,28.741635,37.222867,22.783342,33.844507,46.157558,34.906983000000004,35.199058,43.700094,17.450183,32.373094,40.321613,21.787392,43.983228,36.81831,36.86978,35.870002,22.783342,28.762486,23.779461,38.739904,33.33068,51.268399,38.029731,29.742939,31.524793],\"x0\":\" \",\"xaxis\":\"x\",\"y0\":\" \",\"yaxis\":\"y\",\"type\":\"box\"},{\"alignmentgroup\":\"True\",\"boxpoints\":\"all\",\"fillcolor\":\"rgba(255,255,255,0)\",\"hoveron\":\"points\",\"hovertemplate\":\"<b>%{hovertext}</b><br><br>A\\u00f1o=1980<br>Ganador=democrat<br>Intencion_Voto=%{x}<extra></extra>\",\"hovertext\":[\"Georgia\",\"Maryland\",\"Minnesota\",\"New York\",\"Hawaii\",\"Rhode Island\",\"West Virginia\"],\"legendgroup\":\"1980\",\"line\":{\"color\":\"rgba(255,255,255,0)\"},\"marker\":{\"color\":\"#EF553B\"},\"name\":\"1980\",\"offsetgroup\":\"1980\",\"orientation\":\"h\",\"pointpos\":0,\"showlegend\":false,\"x\":[48.568402,41.137857,31.597255,35.753233,36.287027,35.264207,40.200027],\"x0\":\" \",\"xaxis\":\"x2\",\"y0\":\" \",\"yaxis\":\"y2\",\"type\":\"box\"},{\"alignmentgroup\":\"True\",\"boxpoints\":\"all\",\"fillcolor\":\"rgba(255,255,255,0)\",\"hoveron\":\"points\",\"hovertemplate\":\"<b>%{hovertext}</b><br><br>A\\u00f1o=1984<br>Ganador=republican<br>Intencion_Voto=%{x}<extra></extra>\",\"hovertext\":[\"California\",\"Colorado\",\"Connecticut\",\"Illinois\",\"Indiana\",\"Iowa\",\"Kansas\",\"Maryland\",\"Massachusetts\",\"Missouri\",\"Nebraska\",\"New Jersey\",\"New York\",\"North Carolina\",\"Ohio\",\"Oregon\",\"Utah\",\"Washington\",\"Alabama\",\"Florida\",\"New Hampshire\",\"Pennsylvania\",\"Rhode Island\",\"Texas\",\"Virginia\",\"West Virginia\",\"Wisconsin\",\"Kentucky\",\"New Mexico\"],\"legendgroup\":\"1984\",\"line\":{\"color\":\"rgba(255,255,255,0)\"},\"marker\":{\"color\":\"#00cc96\"},\"name\":\"1984\",\"offsetgroup\":\"1984\",\"orientation\":\"h\",\"pointpos\":0,\"showlegend\":true,\"x\":[38.947686,31.0,30.695356,39.675961,36.119087,39.460832,28.888068,36.0,44.119005,37.749237,26.931731,32.496976000000004,38.551885,33.807644,39.468842,38.4373,23.614176,34.142811,35.034674,31.783757,42.543725,40.310944,38.622482,33.363964,31.0,44.393791,35.545034,33.065294,36.962649],\"x0\":\" \",\"xaxis\":\"x\",\"y0\":\" \",\"yaxis\":\"y\",\"type\":\"box\"},{\"alignmentgroup\":\"True\",\"boxpoints\":\"all\",\"fillcolor\":\"rgba(255,255,255,0)\",\"hoveron\":\"points\",\"hovertemplate\":\"<b>%{hovertext}</b><br><br>A\\u00f1o=1984<br>Ganador=democrat<br>Intencion_Voto=%{x}<extra></extra>\",\"hovertext\":[\"Minnesota\"],\"legendgroup\":\"1984\",\"line\":{\"color\":\"rgba(255,255,255,0)\"},\"marker\":{\"color\":\"#00cc96\"},\"name\":\"1984\",\"offsetgroup\":\"1984\",\"orientation\":\"h\",\"pointpos\":0,\"showlegend\":false,\"x\":[46.088834000000006],\"x0\":\" \",\"xaxis\":\"x2\",\"y0\":\" \",\"yaxis\":\"y2\",\"type\":\"box\"},{\"alignmentgroup\":\"True\",\"boxpoints\":\"all\",\"fillcolor\":\"rgba(255,255,255,0)\",\"hoveron\":\"points\",\"hovertemplate\":\"<b>%{hovertext}</b><br><br>A\\u00f1o=1988<br>Ganador=republican<br>Intencion_Voto=%{x}<extra></extra>\",\"hovertext\":[\"California\",\"Colorado\",\"Connecticut\",\"Delaware\",\"Georgia\",\"Illinois\",\"Indiana\",\"Kansas\",\"Maine\",\"Maryland\",\"Michigan\",\"Missouri\",\"Nebraska\",\"New Jersey\",\"North Carolina\",\"Ohio\",\"South Carolina\",\"South Dakota\",\"Utah\",\"Alabama\",\"Arizona\",\"Arkansas\",\"Florida\",\"Louisiana\",\"Mississippi\",\"Nevada\",\"New Hampshire\",\"North Dakota\",\"Oklahoma\",\"Pennsylvania\",\"Tennessee\",\"Texas\",\"Virginia\",\"Kentucky\",\"New Mexico\",\"Alaska\",\"Montana\",\"Vermont\",\"Wyoming\"],\"legendgroup\":\"1988\",\"line\":{\"color\":\"rgba(255,255,255,0)\"},\"marker\":{\"color\":\"#ab63fa\"},\"name\":\"1988\",\"offsetgroup\":\"1988\",\"orientation\":\"h\",\"pointpos\":0,\"showlegend\":true,\"x\":[42.883798,41.952605,40.7113,34.832296,38.949382,45.433824,37.372362,34.883109000000005,42.126039,45.944472,43.626056,41.91396,39.5896,40.924593,41.989746,41.268361,39.120127,40.672295,31.227522,36.941321,33.011637,40.347879,35.808301,39.623911,37.076414,33.449524,32.119257,37.267997,38.603252000000005,44.803587,39.917801,42.587829,39.417478,41.791197,39.668694,41.120967,36.983819,41.675536,27.823913],\"x0\":\" \",\"xaxis\":\"x\",\"y0\":\" \",\"yaxis\":\"y\",\"type\":\"box\"},{\"alignmentgroup\":\"True\",\"boxpoints\":\"all\",\"fillcolor\":\"rgba(255,255,255,0)\",\"hoveron\":\"points\",\"hovertemplate\":\"<b>%{hovertext}</b><br><br>A\\u00f1o=1988<br>Ganador=democrat<br>Intencion_Voto=%{x}<extra></extra>\",\"hovertext\":[\"Iowa\",\"Massachusetts\",\"Minnesota\",\"New York\",\"Oregon\",\"Washington\",\"Hawaii\",\"Rhode Island\",\"West Virginia\",\"Wisconsin\"],\"legendgroup\":\"1988\",\"line\":{\"color\":\"rgba(255,255,255,0)\"},\"marker\":{\"color\":\"#ab63fa\"},\"name\":\"1988\",\"offsetgroup\":\"1988\",\"orientation\":\"h\",\"pointpos\":0,\"showlegend\":false,\"x\":[51.348629,48.431455,49.89779,45.885133,48.474516,42.971394,41.675536,46.607574,43.680941,44.869765],\"x0\":\" \",\"xaxis\":\"x2\",\"y0\":\" \",\"yaxis\":\"y2\",\"type\":\"box\"},{\"alignmentgroup\":\"True\",\"boxpoints\":\"all\",\"fillcolor\":\"rgba(255,255,255,0)\",\"hoveron\":\"points\",\"hovertemplate\":\"<b>%{hovertext}</b><br><br>A\\u00f1o=1992<br>Ganador=republican<br>Intencion_Voto=%{x}<extra></extra>\",\"hovertext\":[\"Idaho\",\"Indiana\",\"Kansas\",\"Nebraska\",\"North Carolina\",\"South Carolina\",\"South Dakota\",\"Utah\",\"Alabama\",\"Arizona\",\"Florida\",\"Mississippi\",\"North Dakota\",\"Oklahoma\",\"Texas\",\"Virginia\",\"Alaska\",\"Wyoming\"],\"legendgroup\":\"1992\",\"line\":{\"color\":\"rgba(255,255,255,0)\"},\"marker\":{\"color\":\"#FFA15A\"},\"name\":\"1992\",\"offsetgroup\":\"1992\",\"orientation\":\"h\",\"pointpos\":0,\"showlegend\":true,\"x\":[28.721845,36.793521000000005,36.712598,30.607145000000003,40.319437,33.74447,36.333398,24.661515,40.180882,33.570066,38.39614,37.229225,31.136323,37.494133000000005,36.858955,35.497365,33.656677,30.408792],\"x0\":\" \",\"xaxis\":\"x\",\"y0\":\" \",\"yaxis\":\"y\",\"type\":\"box\"},{\"alignmentgroup\":\"True\",\"boxpoints\":\"all\",\"fillcolor\":\"rgba(255,255,255,0)\",\"hoveron\":\"points\",\"hovertemplate\":\"<b>%{hovertext}</b><br><br>A\\u00f1o=1992<br>Ganador=democrat<br>Intencion_Voto=%{x}<extra></extra>\",\"hovertext\":[\"California\",\"Colorado\",\"Connecticut\",\"Delaware\",\"Georgia\",\"Illinois\",\"Iowa\",\"Maine\",\"Maryland\",\"Massachusetts\",\"Michigan\",\"Minnesota\",\"Missouri\",\"New Jersey\",\"New York\",\"Ohio\",\"Oregon\",\"Washington\",\"Arkansas\",\"Hawaii\",\"Louisiana\",\"Nevada\",\"New Hampshire\",\"Pennsylvania\",\"Rhode Island\",\"Tennessee\",\"West Virginia\",\"Wisconsin\",\"Kentucky\",\"New Mexico\",\"Montana\",\"Vermont\"],\"legendgroup\":\"1992\",\"line\":{\"color\":\"rgba(255,255,255,0)\"},\"marker\":{\"color\":\"#FFA15A\"},\"name\":\"1992\",\"offsetgroup\":\"1992\",\"orientation\":\"h\",\"pointpos\":0,\"showlegend\":false,\"x\":[48.764566,39.511654,44.051756,40.233436,38.814284,46.80532,38.889839,34.291351,42.98602,37.029205,39.087293,41.663969,42.510403,39.305388,48.076968,40.257081,39.925772,44.466954,52.054279,43.686664,38.129305,35.293839,38.195925,41.349889000000005,50.311493,44.505269,44.298712,39.933187,43.25922,41.953365000000005,33.717977000000005,40.803584],\"x0\":\" \",\"xaxis\":\"x2\",\"y0\":\" \",\"yaxis\":\"y2\",\"type\":\"box\"},{\"alignmentgroup\":\"True\",\"boxpoints\":\"all\",\"fillcolor\":\"rgba(255,255,255,0)\",\"hoveron\":\"points\",\"hovertemplate\":\"<b>%{hovertext}</b><br><br>A\\u00f1o=1996<br>Ganador=republican<br>Intencion_Voto=%{x}<extra></extra>\",\"hovertext\":[\"Colorado\",\"Georgia\",\"Idaho\",\"Indiana\",\"Kansas\",\"Nebraska\",\"North Carolina\",\"South Carolina\",\"South Dakota\",\"Utah\",\"Alabama\",\"Mississippi\",\"North Dakota\",\"Oklahoma\",\"Texas\",\"Virginia\",\"Alaska\",\"Montana\",\"Wyoming\"],\"legendgroup\":\"1996\",\"line\":{\"color\":\"rgba(255,255,255,0)\"},\"marker\":{\"color\":\"#19d3f3\"},\"name\":\"1996\",\"offsetgroup\":\"1996\",\"orientation\":\"h\",\"pointpos\":0,\"showlegend\":true,\"x\":[43.749865,44.767056,30.727659000000003,38.665799,37.789317,36.553417,43.845678,40.93399,41.031583000000005,33.763817,40.952817,39.189574,36.061334,39.532809,40.749962,42.826149,34.288314,40.633789,37.603149],\"x0\":\" \",\"xaxis\":\"x\",\"y0\":\" \",\"yaxis\":\"y\",\"type\":\"box\"},{\"alignmentgroup\":\"True\",\"boxpoints\":\"all\",\"fillcolor\":\"rgba(255,255,255,0)\",\"hoveron\":\"points\",\"hovertemplate\":\"<b>%{hovertext}</b><br><br>A\\u00f1o=1996<br>Ganador=democrat<br>Intencion_Voto=%{x}<extra></extra>\",\"hovertext\":[\"California\",\"Connecticut\",\"Delaware\",\"Illinois\",\"Iowa\",\"Maine\",\"Maryland\",\"Massachusetts\",\"Michigan\",\"Minnesota\",\"Missouri\",\"New Jersey\",\"New York\",\"Ohio\",\"Oregon\",\"Washington\",\"Arizona\",\"Arkansas\",\"Florida\",\"Hawaii\",\"Louisiana\",\"Nevada\",\"New Hampshire\",\"Pennsylvania\",\"Rhode Island\",\"Tennessee\",\"West Virginia\",\"Wisconsin\",\"Kentucky\",\"New Mexico\",\"Vermont\"],\"legendgroup\":\"1996\",\"line\":{\"color\":\"rgba(255,255,255,0)\"},\"marker\":{\"color\":\"#19d3f3\"},\"name\":\"1996\",\"offsetgroup\":\"1996\",\"orientation\":\"h\",\"pointpos\":0,\"showlegend\":false,\"x\":[48.713991,49.016396,46.301404,50.610869,47.453958,47.893072,51.392215,57.458991000000005,47.323879,52.188213,47.004037,48.820304,54.758489,47.250076,48.096447,47.449865,45.013949,52.939159,46.23713,53.388279,46.771096,42.691043,50.101426,49.045393,54.644628,44.996317,50.536458,49.536554,45.657298,47.593024,52.366977],\"x0\":\" \",\"xaxis\":\"x2\",\"y0\":\" \",\"yaxis\":\"y2\",\"type\":\"box\"},{\"alignmentgroup\":\"True\",\"boxpoints\":\"all\",\"fillcolor\":\"rgba(255,255,255,0)\",\"hoveron\":\"points\",\"hovertemplate\":\"<b>%{hovertext}</b><br><br>A\\u00f1o=2000<br>Ganador=republican<br>Intencion_Voto=%{x}<extra></extra>\",\"hovertext\":[\"Colorado\",\"Georgia\",\"Idaho\",\"Indiana\",\"Kansas\",\"Missouri\",\"Nebraska\",\"North Carolina\",\"Ohio\",\"South Carolina\",\"South Dakota\",\"Utah\",\"Alabama\",\"Arizona\",\"Arkansas\",\"Florida\",\"Louisiana\",\"Mississippi\",\"Nevada\",\"New Hampshire\",\"North Dakota\",\"Oklahoma\",\"Tennessee\",\"Texas\",\"Virginia\",\"West Virginia\",\"Kentucky\",\"Alaska\",\"Montana\",\"Wyoming\"],\"legendgroup\":\"2000\",\"line\":{\"color\":\"rgba(255,255,255,0)\"},\"marker\":{\"color\":\"#FF6692\"},\"name\":\"2000\",\"offsetgroup\":\"2000\",\"orientation\":\"h\",\"pointpos\":0,\"showlegend\":true,\"x\":[39.381768,40.539803000000006,26.858225,34.544446,35.187645,45.054595,34.333161,41.733597,42.433913,38.884246000000005,33.539587,24.619824,35.201229,38.92711,44.305234000000006,47.174946000000006,39.244476,38.42805,43.036997,41.003838,34.51015,37.20398,46.032948,32.296191,42.210553,42.258471,40.641904,28.018256,32.346911,29.687844],\"x0\":\" \",\"xaxis\":\"x\",\"y0\":\" \",\"yaxis\":\"y\",\"type\":\"box\"},{\"alignmentgroup\":\"True\",\"boxpoints\":\"all\",\"fillcolor\":\"rgba(255,255,255,0)\",\"hoveron\":\"points\",\"hovertemplate\":\"<b>%{hovertext}</b><br><br>A\\u00f1o=2000<br>Ganador=democrat<br>Intencion_Voto=%{x}<extra></extra>\",\"hovertext\":[\"California\",\"Connecticut\",\"Delaware\",\"Illinois\",\"Iowa\",\"Maine\",\"Maryland\",\"Massachusetts\",\"Michigan\",\"Minnesota\",\"New Jersey\",\"New York\",\"Oregon\",\"Washington\",\"Hawaii\",\"Pennsylvania\",\"Rhode Island\",\"Wisconsin\",\"New Mexico\",\"Vermont\"],\"legendgroup\":\"2000\",\"line\":{\"color\":\"rgba(255,255,255,0)\"},\"marker\":{\"color\":\"#FF6692\"},\"name\":\"2000\",\"offsetgroup\":\"2000\",\"orientation\":\"h\",\"pointpos\":0,\"showlegend\":false,\"x\":[46.403632,49.740238,45.229964,47.253009000000006,44.900912,45.534507,52.162341,55.10759,46.399564,44.708419,48.682663,52.79625,44.507462,45.177247,52.079752,46.367906,52.319718,43.910057,44.723852,46.85579],\"x0\":\" \",\"xaxis\":\"x2\",\"y0\":\" \",\"yaxis\":\"y2\",\"type\":\"box\"},{\"alignmentgroup\":\"True\",\"boxpoints\":\"all\",\"fillcolor\":\"rgba(255,255,255,0)\",\"hoveron\":\"points\",\"hovertemplate\":\"<b>%{hovertext}</b><br><br>A\\u00f1o=2004<br>Ganador=republican<br>Intencion_Voto=%{x}<extra></extra>\",\"hovertext\":[\"Colorado\",\"Georgia\",\"Idaho\",\"Indiana\",\"Iowa\",\"Kansas\",\"Missouri\",\"Nebraska\",\"North Carolina\",\"Ohio\",\"South Carolina\",\"South Dakota\",\"Utah\",\"Alabama\",\"Arizona\",\"Arkansas\",\"Florida\",\"Louisiana\",\"Mississippi\",\"Nevada\",\"North Dakota\",\"Oklahoma\",\"Tennessee\",\"Texas\",\"Virginia\",\"West Virginia\",\"Kentucky\",\"New Mexico\",\"Alaska\",\"Montana\"],\"legendgroup\":\"2004\",\"line\":{\"color\":\"rgba(255,255,255,0)\"},\"marker\":{\"color\":\"#B6E880\"},\"name\":\"2004\",\"offsetgroup\":\"2004\",\"orientation\":\"h\",\"pointpos\":0,\"showlegend\":true,\"x\":[45.309328,41.540177,27.835825,36.95455,46.264535,34.482297,45.337555,31.525627000000004,43.381614,47.973979,39.155158,37.609466,24.109276,35.153022,42.353901,46.05477,47.364931,35.99788,37.824067,45.188758,33.772825,32.688553000000006,42.342747,35.652891,43.916727,44.495975,38.181241,44.911481,31.118299,33.714633],\"x0\":\" \",\"xaxis\":\"x\",\"y0\":\" \",\"yaxis\":\"y\",\"type\":\"box\"},{\"alignmentgroup\":\"True\",\"boxpoints\":\"all\",\"fillcolor\":\"rgba(255,255,255,0)\",\"hoveron\":\"points\",\"hovertemplate\":\"<b>%{hovertext}</b><br><br>A\\u00f1o=2004<br>Ganador=democrat<br>Intencion_Voto=%{x}<extra></extra>\",\"hovertext\":[\"California\",\"Connecticut\",\"Delaware\",\"Illinois\",\"Maine\",\"Maryland\",\"Massachusetts\",\"Michigan\",\"Minnesota\",\"New Jersey\",\"New York\",\"Oregon\",\"Washington\",\"Hawaii\",\"New Hampshire\",\"Pennsylvania\",\"Rhode Island\",\"Wisconsin\",\"Vermont\"],\"legendgroup\":\"2004\",\"line\":{\"color\":\"rgba(255,255,255,0)\"},\"marker\":{\"color\":\"#B6E880\"},\"name\":\"2004\",\"offsetgroup\":\"2004\",\"orientation\":\"h\",\"pointpos\":0,\"showlegend\":false,\"x\":[52.385393,50.968638,47.686023,51.746566,50.048318,53.865381000000006,57.661592000000006,48.691046,48.248413,48.995247,54.340684,50.530961,51.681792,45.794949,48.624872,48.729059,54.849934,46.387916,49.357665],\"x0\":\" \",\"xaxis\":\"x2\",\"y0\":\" \",\"yaxis\":\"y2\",\"type\":\"box\"},{\"alignmentgroup\":\"True\",\"boxpoints\":\"all\",\"fillcolor\":\"rgba(255,255,255,0)\",\"hoveron\":\"points\",\"hovertemplate\":\"<b>%{hovertext}</b><br><br>A\\u00f1o=2008<br>Ganador=republican<br>Intencion_Voto=%{x}<extra></extra>\",\"hovertext\":[\"Georgia\",\"Idaho\",\"Kansas\",\"Missouri\",\"Nebraska\",\"South Carolina\",\"South Dakota\",\"Utah\",\"Alabama\",\"Arizona\",\"Arkansas\",\"Louisiana\",\"Mississippi\",\"North Dakota\",\"Oklahoma\",\"Tennessee\",\"Texas\",\"West Virginia\",\"Kentucky\",\"Alaska\",\"Montana\",\"Wyoming\"],\"legendgroup\":\"2008\",\"line\":{\"color\":\"rgba(255,255,255,0)\"},\"marker\":{\"color\":\"#FF97FF\"},\"name\":\"2008\",\"offsetgroup\":\"2008\",\"orientation\":\"h\",\"pointpos\":0,\"showlegend\":true,\"x\":[45.796409,32.100732,38.483246,47.35975,37.480707,42.876454,42.894873,32.651839,35.858475,45.233846,42.823934,41.531393,41.028078,44.243590000000005,35.542093,41.722512,42.507628,40.809777,41.070429,41.419908,44.86544,33.176088],\"x0\":\" \",\"xaxis\":\"x\",\"y0\":\" \",\"yaxis\":\"y\",\"type\":\"box\"},{\"alignmentgroup\":\"True\",\"boxpoints\":\"all\",\"fillcolor\":\"rgba(255,255,255,0)\",\"hoveron\":\"points\",\"hovertemplate\":\"<b>%{hovertext}</b><br><br>A\\u00f1o=2008<br>Ganador=democrat<br>Intencion_Voto=%{x}<extra></extra>\",\"hovertext\":[\"California\",\"Colorado\",\"Connecticut\",\"Delaware\",\"Illinois\",\"Indiana\",\"Iowa\",\"Maine\",\"Maryland\",\"Massachusetts\",\"Michigan\",\"Minnesota\",\"New Jersey\",\"New York\",\"North Carolina\",\"Ohio\",\"Oregon\",\"Washington\",\"Florida\",\"Hawaii\",\"Nevada\",\"New Hampshire\",\"Pennsylvania\",\"Rhode Island\",\"Virginia\",\"Wisconsin\",\"New Mexico\",\"Vermont\"],\"legendgroup\":\"2008\",\"line\":{\"color\":\"rgba(255,255,255,0)\"},\"marker\":{\"color\":\"#FF97FF\"},\"name\":\"2008\",\"offsetgroup\":\"2008\",\"orientation\":\"h\",\"pointpos\":0,\"showlegend\":false,\"x\":[57.522385,51.302013,56.510289,59.585339000000005,59.354164,47.005797,52.852666000000006,55.215782,58.011276,56.361476,53.70322,52.376347,54.871929,61.370024,48.35763,49.617053000000006,54.806549,53.835668000000005,48.108337,59.752297,50.390004,52.275229,51.486452,55.351109,50.345379,52.66490699999999,53.42745,60.060211],\"x0\":\" \",\"xaxis\":\"x2\",\"y0\":\" \",\"yaxis\":\"y2\",\"type\":\"box\"},{\"alignmentgroup\":\"True\",\"boxpoints\":\"all\",\"fillcolor\":\"rgba(255,255,255,0)\",\"hoveron\":\"points\",\"hovertemplate\":\"<b>%{hovertext}</b><br><br>A\\u00f1o=2012<br>Ganador=republican<br>Intencion_Voto=%{x}<extra></extra>\",\"hovertext\":[\"Georgia\",\"Idaho\",\"Indiana\",\"Kansas\",\"Missouri\",\"Nebraska\",\"North Carolina\",\"South Carolina\",\"South Dakota\",\"Utah\",\"Alabama\",\"Arizona\",\"Arkansas\",\"Louisiana\",\"North Dakota\",\"Oklahoma\",\"Tennessee\",\"Texas\",\"West Virginia\",\"Kentucky\",\"Montana\"],\"legendgroup\":\"2012\",\"line\":{\"color\":\"rgba(255,255,255,0)\"},\"marker\":{\"color\":\"#FECB52\"},\"name\":\"2012\",\"offsetgroup\":\"2012\",\"orientation\":\"h\",\"pointpos\":0,\"showlegend\":true,\"x\":[43.65606,27.09037,42.112778000000006,33.987826,42.372821,38.929304,46.504795,42.771209000000006,40.736824,24.505127,35.623535,44.002949,32.926966,36.768243,38.780472,30.318942,38.939167,38.706372,37.407189,38.72088,43.484368],\"x0\":\" \",\"xaxis\":\"x\",\"y0\":\" \",\"yaxis\":\"y\",\"type\":\"box\"},{\"alignmentgroup\":\"True\",\"boxpoints\":\"all\",\"fillcolor\":\"rgba(255,255,255,0)\",\"hoveron\":\"points\",\"hovertemplate\":\"<b>%{hovertext}</b><br><br>A\\u00f1o=2012<br>Ganador=democrat<br>Intencion_Voto=%{x}<extra></extra>\",\"hovertext\":[\"California\",\"Colorado\",\"Connecticut\",\"Illinois\",\"Iowa\",\"Maine\",\"Maryland\",\"Massachusetts\",\"Michigan\",\"Minnesota\",\"New Jersey\",\"New York\",\"Ohio\",\"Oregon\",\"Washington\",\"Florida\",\"Hawaii\",\"Nevada\",\"New Hampshire\",\"Pennsylvania\",\"Rhode Island\",\"Virginia\",\"Wisconsin\",\"New Mexico\",\"Vermont\"],\"legendgroup\":\"2012\",\"line\":{\"color\":\"rgba(255,255,255,0)\"},\"marker\":{\"color\":\"#FECB52\"},\"name\":\"2012\",\"offsetgroup\":\"2012\",\"orientation\":\"h\",\"pointpos\":0,\"showlegend\":false,\"x\":[54.853727,48.290802,53.670551,55.665689,48.072818,52.556736,57.525837,56.852048,49.748667,50.850344,52.229467,59.796929000000006,49.171259,48.07413,53.39461,47.634723,61.42352,49.93103,48.49889,49.881312,55.353336,48.265883,49.892816,49.905268,59.85286],\"x0\":\" \",\"xaxis\":\"x2\",\"y0\":\" \",\"yaxis\":\"y2\",\"type\":\"box\"},{\"alignmentgroup\":\"True\",\"boxpoints\":\"all\",\"fillcolor\":\"rgba(255,255,255,0)\",\"hoveron\":\"points\",\"hovertemplate\":\"<b>%{hovertext}</b><br><br>A\\u00f1o=2016<br>Ganador=republican<br>Intencion_Voto=%{x}<extra></extra>\",\"hovertext\":[\"Georgia\",\"Idaho\",\"Indiana\",\"Iowa\",\"Kansas\",\"Michigan\",\"Missouri\",\"Nebraska\",\"North Carolina\",\"Ohio\",\"South Carolina\",\"South Dakota\",\"Utah\",\"Alabama\",\"Arizona\",\"Arkansas\",\"Florida\",\"Louisiana\",\"Mississippi\",\"North Dakota\",\"Oklahoma\",\"Pennsylvania\",\"Tennessee\",\"Texas\",\"West Virginia\",\"Wisconsin\",\"Kentucky\",\"Alaska\",\"Montana\",\"Wyoming\"],\"legendgroup\":\"2016\",\"line\":{\"color\":\"rgba(255,255,255,0)\"},\"marker\":{\"color\":\"#636efa\"},\"name\":\"2016\",\"offsetgroup\":\"2016\",\"orientation\":\"h\",\"pointpos\":0,\"showlegend\":true,\"x\":[44.38727,29.68751,37.3296,40.87534,36.81242,45.66772,38.22606,33.61203,46.44271,42.63316,41.16662,32.46563,26.91846,35.14891,42.92815,33.52097,46.39832,37.1587,41.43731,29.20324,30.795340000000003,46.50476,39.00087,38.6247,28.61783,46.56556,33.53967,39.10066,32.673390000000005,22.07957],\"x0\":\" \",\"xaxis\":\"x\",\"y0\":\" \",\"yaxis\":\"y\",\"type\":\"box\"},{\"alignmentgroup\":\"True\",\"boxpoints\":\"all\",\"fillcolor\":\"rgba(255,255,255,0)\",\"hoveron\":\"points\",\"hovertemplate\":\"<b>%{hovertext}</b><br><br>A\\u00f1o=2016<br>Ganador=democrat<br>Intencion_Voto=%{x}<extra></extra>\",\"hovertext\":[\"California\",\"Colorado\",\"Connecticut\",\"Delaware\",\"Illinois\",\"Maine\",\"Maryland\",\"Massachusetts\",\"Minnesota\",\"New Jersey\",\"New York\",\"Oregon\",\"Washington\",\"Hawaii\",\"Nevada\",\"New Hampshire\",\"Rhode Island\",\"Virginia\",\"New Mexico\",\"Vermont\"],\"legendgroup\":\"2016\",\"line\":{\"color\":\"rgba(255,255,255,0)\"},\"marker\":{\"color\":\"#636efa\"},\"name\":\"2016\",\"offsetgroup\":\"2016\",\"orientation\":\"h\",\"pointpos\":0,\"showlegend\":false,\"x\":[54.91905,43.64732,51.05077,50.08618,50.97485,46.01504,59.92575,55.71963,46.96928,51.68812,54.164730000000006,45.89365,50.27108,51.88781,44.89117,44.56515,47.45552,47.26719,43.84036,55.18666],\"x0\":\" \",\"xaxis\":\"x2\",\"y0\":\" \",\"yaxis\":\"y2\",\"type\":\"box\"}],                        {\"template\":{\"data\":{\"histogram2dcontour\":[{\"type\":\"histogram2dcontour\",\"colorbar\":{\"outlinewidth\":0,\"ticks\":\"\"},\"colorscale\":[[0.0,\"#0d0887\"],[0.1111111111111111,\"#46039f\"],[0.2222222222222222,\"#7201a8\"],[0.3333333333333333,\"#9c179e\"],[0.4444444444444444,\"#bd3786\"],[0.5555555555555556,\"#d8576b\"],[0.6666666666666666,\"#ed7953\"],[0.7777777777777778,\"#fb9f3a\"],[0.8888888888888888,\"#fdca26\"],[1.0,\"#f0f921\"]]}],\"choropleth\":[{\"type\":\"choropleth\",\"colorbar\":{\"outlinewidth\":0,\"ticks\":\"\"}}],\"histogram2d\":[{\"type\":\"histogram2d\",\"colorbar\":{\"outlinewidth\":0,\"ticks\":\"\"},\"colorscale\":[[0.0,\"#0d0887\"],[0.1111111111111111,\"#46039f\"],[0.2222222222222222,\"#7201a8\"],[0.3333333333333333,\"#9c179e\"],[0.4444444444444444,\"#bd3786\"],[0.5555555555555556,\"#d8576b\"],[0.6666666666666666,\"#ed7953\"],[0.7777777777777778,\"#fb9f3a\"],[0.8888888888888888,\"#fdca26\"],[1.0,\"#f0f921\"]]}],\"heatmap\":[{\"type\":\"heatmap\",\"colorbar\":{\"outlinewidth\":0,\"ticks\":\"\"},\"colorscale\":[[0.0,\"#0d0887\"],[0.1111111111111111,\"#46039f\"],[0.2222222222222222,\"#7201a8\"],[0.3333333333333333,\"#9c179e\"],[0.4444444444444444,\"#bd3786\"],[0.5555555555555556,\"#d8576b\"],[0.6666666666666666,\"#ed7953\"],[0.7777777777777778,\"#fb9f3a\"],[0.8888888888888888,\"#fdca26\"],[1.0,\"#f0f921\"]]}],\"heatmapgl\":[{\"type\":\"heatmapgl\",\"colorbar\":{\"outlinewidth\":0,\"ticks\":\"\"},\"colorscale\":[[0.0,\"#0d0887\"],[0.1111111111111111,\"#46039f\"],[0.2222222222222222,\"#7201a8\"],[0.3333333333333333,\"#9c179e\"],[0.4444444444444444,\"#bd3786\"],[0.5555555555555556,\"#d8576b\"],[0.6666666666666666,\"#ed7953\"],[0.7777777777777778,\"#fb9f3a\"],[0.8888888888888888,\"#fdca26\"],[1.0,\"#f0f921\"]]}],\"contourcarpet\":[{\"type\":\"contourcarpet\",\"colorbar\":{\"outlinewidth\":0,\"ticks\":\"\"}}],\"contour\":[{\"type\":\"contour\",\"colorbar\":{\"outlinewidth\":0,\"ticks\":\"\"},\"colorscale\":[[0.0,\"#0d0887\"],[0.1111111111111111,\"#46039f\"],[0.2222222222222222,\"#7201a8\"],[0.3333333333333333,\"#9c179e\"],[0.4444444444444444,\"#bd3786\"],[0.5555555555555556,\"#d8576b\"],[0.6666666666666666,\"#ed7953\"],[0.7777777777777778,\"#fb9f3a\"],[0.8888888888888888,\"#fdca26\"],[1.0,\"#f0f921\"]]}],\"surface\":[{\"type\":\"surface\",\"colorbar\":{\"outlinewidth\":0,\"ticks\":\"\"},\"colorscale\":[[0.0,\"#0d0887\"],[0.1111111111111111,\"#46039f\"],[0.2222222222222222,\"#7201a8\"],[0.3333333333333333,\"#9c179e\"],[0.4444444444444444,\"#bd3786\"],[0.5555555555555556,\"#d8576b\"],[0.6666666666666666,\"#ed7953\"],[0.7777777777777778,\"#fb9f3a\"],[0.8888888888888888,\"#fdca26\"],[1.0,\"#f0f921\"]]}],\"mesh3d\":[{\"type\":\"mesh3d\",\"colorbar\":{\"outlinewidth\":0,\"ticks\":\"\"}}],\"scatter\":[{\"fillpattern\":{\"fillmode\":\"overlay\",\"size\":10,\"solidity\":0.2},\"type\":\"scatter\"}],\"parcoords\":[{\"type\":\"parcoords\",\"line\":{\"colorbar\":{\"outlinewidth\":0,\"ticks\":\"\"}}}],\"scatterpolargl\":[{\"type\":\"scatterpolargl\",\"marker\":{\"colorbar\":{\"outlinewidth\":0,\"ticks\":\"\"}}}],\"bar\":[{\"error_x\":{\"color\":\"#2a3f5f\"},\"error_y\":{\"color\":\"#2a3f5f\"},\"marker\":{\"line\":{\"color\":\"#E5ECF6\",\"width\":0.5},\"pattern\":{\"fillmode\":\"overlay\",\"size\":10,\"solidity\":0.2}},\"type\":\"bar\"}],\"scattergeo\":[{\"type\":\"scattergeo\",\"marker\":{\"colorbar\":{\"outlinewidth\":0,\"ticks\":\"\"}}}],\"scatterpolar\":[{\"type\":\"scatterpolar\",\"marker\":{\"colorbar\":{\"outlinewidth\":0,\"ticks\":\"\"}}}],\"histogram\":[{\"marker\":{\"pattern\":{\"fillmode\":\"overlay\",\"size\":10,\"solidity\":0.2}},\"type\":\"histogram\"}],\"scattergl\":[{\"type\":\"scattergl\",\"marker\":{\"colorbar\":{\"outlinewidth\":0,\"ticks\":\"\"}}}],\"scatter3d\":[{\"type\":\"scatter3d\",\"line\":{\"colorbar\":{\"outlinewidth\":0,\"ticks\":\"\"}},\"marker\":{\"colorbar\":{\"outlinewidth\":0,\"ticks\":\"\"}}}],\"scattermapbox\":[{\"type\":\"scattermapbox\",\"marker\":{\"colorbar\":{\"outlinewidth\":0,\"ticks\":\"\"}}}],\"scatterternary\":[{\"type\":\"scatterternary\",\"marker\":{\"colorbar\":{\"outlinewidth\":0,\"ticks\":\"\"}}}],\"scattercarpet\":[{\"type\":\"scattercarpet\",\"marker\":{\"colorbar\":{\"outlinewidth\":0,\"ticks\":\"\"}}}],\"carpet\":[{\"aaxis\":{\"endlinecolor\":\"#2a3f5f\",\"gridcolor\":\"white\",\"linecolor\":\"white\",\"minorgridcolor\":\"white\",\"startlinecolor\":\"#2a3f5f\"},\"baxis\":{\"endlinecolor\":\"#2a3f5f\",\"gridcolor\":\"white\",\"linecolor\":\"white\",\"minorgridcolor\":\"white\",\"startlinecolor\":\"#2a3f5f\"},\"type\":\"carpet\"}],\"table\":[{\"cells\":{\"fill\":{\"color\":\"#EBF0F8\"},\"line\":{\"color\":\"white\"}},\"header\":{\"fill\":{\"color\":\"#C8D4E3\"},\"line\":{\"color\":\"white\"}},\"type\":\"table\"}],\"barpolar\":[{\"marker\":{\"line\":{\"color\":\"#E5ECF6\",\"width\":0.5},\"pattern\":{\"fillmode\":\"overlay\",\"size\":10,\"solidity\":0.2}},\"type\":\"barpolar\"}],\"pie\":[{\"automargin\":true,\"type\":\"pie\"}]},\"layout\":{\"autotypenumbers\":\"strict\",\"colorway\":[\"#636efa\",\"#EF553B\",\"#00cc96\",\"#ab63fa\",\"#FFA15A\",\"#19d3f3\",\"#FF6692\",\"#B6E880\",\"#FF97FF\",\"#FECB52\"],\"font\":{\"color\":\"#2a3f5f\"},\"hovermode\":\"closest\",\"hoverlabel\":{\"align\":\"left\"},\"paper_bgcolor\":\"white\",\"plot_bgcolor\":\"#E5ECF6\",\"polar\":{\"bgcolor\":\"#E5ECF6\",\"angularaxis\":{\"gridcolor\":\"white\",\"linecolor\":\"white\",\"ticks\":\"\"},\"radialaxis\":{\"gridcolor\":\"white\",\"linecolor\":\"white\",\"ticks\":\"\"}},\"ternary\":{\"bgcolor\":\"#E5ECF6\",\"aaxis\":{\"gridcolor\":\"white\",\"linecolor\":\"white\",\"ticks\":\"\"},\"baxis\":{\"gridcolor\":\"white\",\"linecolor\":\"white\",\"ticks\":\"\"},\"caxis\":{\"gridcolor\":\"white\",\"linecolor\":\"white\",\"ticks\":\"\"}},\"coloraxis\":{\"colorbar\":{\"outlinewidth\":0,\"ticks\":\"\"}},\"colorscale\":{\"sequential\":[[0.0,\"#0d0887\"],[0.1111111111111111,\"#46039f\"],[0.2222222222222222,\"#7201a8\"],[0.3333333333333333,\"#9c179e\"],[0.4444444444444444,\"#bd3786\"],[0.5555555555555556,\"#d8576b\"],[0.6666666666666666,\"#ed7953\"],[0.7777777777777778,\"#fb9f3a\"],[0.8888888888888888,\"#fdca26\"],[1.0,\"#f0f921\"]],\"sequentialminus\":[[0.0,\"#0d0887\"],[0.1111111111111111,\"#46039f\"],[0.2222222222222222,\"#7201a8\"],[0.3333333333333333,\"#9c179e\"],[0.4444444444444444,\"#bd3786\"],[0.5555555555555556,\"#d8576b\"],[0.6666666666666666,\"#ed7953\"],[0.7777777777777778,\"#fb9f3a\"],[0.8888888888888888,\"#fdca26\"],[1.0,\"#f0f921\"]],\"diverging\":[[0,\"#8e0152\"],[0.1,\"#c51b7d\"],[0.2,\"#de77ae\"],[0.3,\"#f1b6da\"],[0.4,\"#fde0ef\"],[0.5,\"#f7f7f7\"],[0.6,\"#e6f5d0\"],[0.7,\"#b8e186\"],[0.8,\"#7fbc41\"],[0.9,\"#4d9221\"],[1,\"#276419\"]]},\"xaxis\":{\"gridcolor\":\"white\",\"linecolor\":\"white\",\"ticks\":\"\",\"title\":{\"standoff\":15},\"zerolinecolor\":\"white\",\"automargin\":true,\"zerolinewidth\":2},\"yaxis\":{\"gridcolor\":\"white\",\"linecolor\":\"white\",\"ticks\":\"\",\"title\":{\"standoff\":15},\"zerolinecolor\":\"white\",\"automargin\":true,\"zerolinewidth\":2},\"scene\":{\"xaxis\":{\"backgroundcolor\":\"#E5ECF6\",\"gridcolor\":\"white\",\"linecolor\":\"white\",\"showbackground\":true,\"ticks\":\"\",\"zerolinecolor\":\"white\",\"gridwidth\":2},\"yaxis\":{\"backgroundcolor\":\"#E5ECF6\",\"gridcolor\":\"white\",\"linecolor\":\"white\",\"showbackground\":true,\"ticks\":\"\",\"zerolinecolor\":\"white\",\"gridwidth\":2},\"zaxis\":{\"backgroundcolor\":\"#E5ECF6\",\"gridcolor\":\"white\",\"linecolor\":\"white\",\"showbackground\":true,\"ticks\":\"\",\"zerolinecolor\":\"white\",\"gridwidth\":2}},\"shapedefaults\":{\"line\":{\"color\":\"#2a3f5f\"}},\"annotationdefaults\":{\"arrowcolor\":\"#2a3f5f\",\"arrowhead\":0,\"arrowwidth\":1},\"geo\":{\"bgcolor\":\"white\",\"landcolor\":\"#E5ECF6\",\"subunitcolor\":\"white\",\"showland\":true,\"showlakes\":true,\"lakecolor\":\"white\"},\"title\":{\"x\":0.05},\"mapbox\":{\"style\":\"light\"}}},\"xaxis\":{\"anchor\":\"y\",\"domain\":[0.0,0.49],\"title\":{\"text\":\"Intencion_Voto\"}},\"yaxis\":{\"anchor\":\"x\",\"domain\":[0.0,1.0]},\"xaxis2\":{\"anchor\":\"y2\",\"domain\":[0.51,1.0],\"matches\":\"x\",\"title\":{\"text\":\"Intencion_Voto\"}},\"yaxis2\":{\"anchor\":\"x2\",\"domain\":[0.0,1.0],\"matches\":\"y\",\"showticklabels\":false},\"annotations\":[{\"font\":{},\"showarrow\":false,\"text\":\"Ganador=republican\",\"x\":0.245,\"xanchor\":\"center\",\"xref\":\"paper\",\"y\":1.0,\"yanchor\":\"bottom\",\"yref\":\"paper\"},{\"font\":{},\"showarrow\":false,\"text\":\"Ganador=democrat\",\"x\":0.755,\"xanchor\":\"center\",\"xref\":\"paper\",\"y\":1.0,\"yanchor\":\"bottom\",\"yref\":\"paper\"}],\"legend\":{\"title\":{\"text\":\"A\\u00f1o\"},\"tracegroupgap\":0},\"title\":{\"text\":\"Intenci\\u00f3n de Voto\"},\"boxmode\":\"group\"},                        {\"responsive\": true}                    ).then(function(){\n",
              "                            \n",
              "var gd = document.getElementById('fec4ccbf-a8d4-4e27-bbce-9ba500a69cfa');\n",
              "var x = new MutationObserver(function (mutations, observer) {{\n",
              "        var display = window.getComputedStyle(gd).display;\n",
              "        if (!display || display === 'none') {{\n",
              "            console.log([gd, 'removed!']);\n",
              "            Plotly.purge(gd);\n",
              "            observer.disconnect();\n",
              "        }}\n",
              "}});\n",
              "\n",
              "// Listen for the removal of the full notebook cells\n",
              "var notebookContainer = gd.closest('#notebook-container');\n",
              "if (notebookContainer) {{\n",
              "    x.observe(notebookContainer, {childList: true});\n",
              "}}\n",
              "\n",
              "// Listen for the clearing of the current output cell\n",
              "var outputEl = gd.closest('.output');\n",
              "if (outputEl) {{\n",
              "    x.observe(outputEl, {childList: true});\n",
              "}}\n",
              "\n",
              "                        })                };                            </script>        </div>\n",
              "</body>\n",
              "</html>"
            ]
          },
          "metadata": {}
        }
      ]
    },
    {
      "cell_type": "markdown",
      "source": [
        "## **Sunburst**"
      ],
      "metadata": {
        "id": "FAvDFg3-vgTl"
      },
      "id": "FAvDFg3-vgTl"
    },
    {
      "cell_type": "markdown",
      "source": [
        "https://plotly.com/python/sunburst-charts/"
      ],
      "metadata": {
        "id": "pHWJCMsMlV2J"
      },
      "id": "pHWJCMsMlV2J"
    },
    {
      "cell_type": "code",
      "source": [
        "px.sunburst(df,\n",
        "            values = \"Intencion_Voto\",\n",
        "            path = [\"Año\",\"Estado\"],\n",
        "            color = \"Diferencia\",\n",
        "            hover_name = \"Ganador\")"
      ],
      "metadata": {
        "colab": {
          "base_uri": "https://localhost:8080/",
          "height": 542
        },
        "id": "G75b1UNsvhhb",
        "outputId": "5263b9c7-80e6-47cc-ab54-28237ea8fef6"
      },
      "id": "G75b1UNsvhhb",
      "execution_count": 29,
      "outputs": [
        {
          "output_type": "display_data",
          "data": {
            "text/html": [
              "<html>\n",
              "<head><meta charset=\"utf-8\" /></head>\n",
              "<body>\n",
              "    <div>            <script src=\"https://cdnjs.cloudflare.com/ajax/libs/mathjax/2.7.5/MathJax.js?config=TeX-AMS-MML_SVG\"></script><script type=\"text/javascript\">if (window.MathJax && window.MathJax.Hub && window.MathJax.Hub.Config) {window.MathJax.Hub.Config({SVG: {font: \"STIX-Web\"}});}</script>                <script type=\"text/javascript\">window.PlotlyConfig = {MathJaxConfig: 'local'};</script>\n",
              "        <script src=\"https://cdn.plot.ly/plotly-2.14.0.min.js\"></script>                <div id=\"cbed43ea-b422-4411-a2f8-45d58aa8dcda\" class=\"plotly-graph-div\" style=\"height:525px; width:100%;\"></div>            <script type=\"text/javascript\">                                    window.PLOTLYENV=window.PLOTLYENV || {};                                    if (document.getElementById(\"cbed43ea-b422-4411-a2f8-45d58aa8dcda\")) {                    Plotly.newPlot(                        \"cbed43ea-b422-4411-a2f8-45d58aa8dcda\",                        [{\"branchvalues\":\"total\",\"customdata\":[[-4.547308999999999],[-22.023985],[-18.538551],[-1.4558649999999955],[-5.939902000000004],[-17.564598000000004],[-21.625471000000005],[-22.424064],[-18.066787],[-21.18848],[-10.390892999999998],[0.5418000000000021],[-9.471848],[-22.979054],[-26.193216],[-14.184433000000006],[-6.079999999999998],[-23.387207],[-20.216916000000005],[-0.1559850000000011],[6.886496999999991],[-12.535011999999996],[-9.294016],[-4.139692000000004],[-8.522165999999999],[-2.699859999999994],[3.658324000000008],[-7.589976],[17.844488000000005],[18.084563],[-2.2236449999999905],[-3.820442],[-9.101824999999998],[-24.807177000000003],[-19.4925],[-3.270221999999997],[-14.065117999999998],[-16.310839],[-8.033823999999996],[17.150516999999997],[13.814598000000004],[3.6597280000000016],[10.734135000000004],[22.32009],[15.577813],[22.08415],[-1.3731909999999985],[-25.041932000000003],[-23.0],[-3.496305],[7.596597999999999],[3.4405399999999986],[-8.595186999999996],[-4.2787349999999975],[6.846433000000005],[0.5829039999999992],[2.8801500000000004],[-1.4696539999999985],[-3.5359300000000005],[-26.59231],[-0.417037999999998],[10.368108],[19.931291],[12.227488999999998],[11.380723999999994],[20.222026],[12.405382000000005],[14.50678],[2.4453219999999973],[-6.423568000000003],[-14.190244999999996],[7.456685999999998],[9.684802999999995],[1.0026910000000058],[7.267530000000002],[24.241347000000005],[13.95917],[-7.6793930000000055],[-30.071395000000003],[-21.742401],[-1.9200069999999911],[4.8610200000000034],[1.41781000000001],[-0.5771170000000012],[1.487583000000001],[-1.5462849999999977],[0.9193599999999977],[29.37976],[12.246155000000002],[-11.920596000000003],[1.6269670000000005],[2.8368909999999943],[-10.130298999999994],[-12.646300000000004],[-4.263896999999993],[-9.741931000000008],[-3.9287300000000016],[5.260771000000002],[7.651668],[17.324465],[22.326151000000003],[17.437287999999995],[2.455362000000001],[26.697252],[28.228406],[23.94357],[-18.699279],[-27.00368899999999],[-8.361484999999995],[-17.664632999999995],[-33.979927],[-29.752062],[-28.161555],[-35.708928],[-16.333560000000006],[-1.5707750000000047],[-3.414509000000002],[-12.543532],[-1.2084199999999967],[14.038367999999998],[16.276728000000006],[4.704612000000012],[8.84516399999999],[22.561789],[16.813627000000004],[14.387230000000002],[0.9120979999999932],[-15.599016999999995],[-13.803168999999993],[-4.803822999999994],[-2.010550000000002],[-19.742062999999995],[-20.308033],[-1.0016350000000074],[-10.958091999999986],[-12.93181],[-1.625155],[-10.894622999999996],[-12.419655999999996],[13.579386999999995],[4.459282999999999],[12.370793999999998],[0.3492510000000024],[-1.1527270000000058],[12.831879000000008],[1.492660999999998],[-4.252089999999996],[-4.802531999999999],[-22.420884000000004],[-26.34248],[-7.725975999999995],[-0.4253050000000016],[-11.73507],[-20.13307499999999],[-24.072205000000004],[-16.714812999999992],[-21.575878000000003],[-13.638709999999996],[-25.297862],[-5.525950999999999],[6.3741330000000005],[3.9228749999999977],[-13.023075000000008],[-18.920992],[-12.442097000000004],[-15.667569999999998],[-21.3273],[-12.143667],[-8.723192000000004],[1.7708060000000003],[11.000163],[-7.539564999999995],[-16.13722],[-10.611548],[-17.784088999999994],[-13.113149999999996],[-2.4188720000000004],[5.8944089999999925],[-3.8567570000000013],[6.448637999999999],[11.713541],[4.387054999999997],[7.342480999999999],[16.10917299999999],[10.439442],[6.674010000000003],[7.9798820000000035],[10.157388000000005],[-13.0],[-0.6433719999999994],[8.457335999999998],[14.465116000000002],[12.589847999999996],[12.59311400000001],[20.563285000000008],[20.041193],[32.56131],[14.428559000000009],[0.5268750000000004],[-4.7585029999999975],[6.746832000000005],[11.694029999999998],[30.27268100000001],[24.715432],[26.167804000000004],[18.349676],[17.556882],[27.67627000000001],[-3.3599999999999994],[-9.439073000000004],[-2.237392],[6.828844000000004],[12.6723],[2.1662279999999967],[3.661200000000001],[13.228950999999997],[4.240695999999993],[3.163620000000001],[14.114422000000005],[-0.1106919999999966],[1.3974600000000097],[7.643155],[5.512895],[20.539988],[3.716396000000003],[3.086267],[10.606981999999997],[6.147922999999998],[8.912939999999992],[-15.243476],[-19.050599],[-4.443715999999995],[-7.601223999999995],[-13.55162],[-16.426849000000004],[-11.106308999999996],[-7.807280000000006],[2.242735000000004],[-2.957156999999995],[-16.765569999999997],[-5.5348320000000015],[12.260505000000006],[9.819830999999994],[-2.803002],[-5.898392999999999],[-1.0068320000000028],[-11.804824999999994],[-12.11157],[-9.011197000000005],[1.7028239999999997],[0.3139830000000003],[-20.640563],[-23.039746000000008],[-5.089860000000002],[-8.859262000000001],[-18.03667],[-19.654472],[-32.393745],[-31.348517],[-5.980428000000003],[-9.516056],[-10.694604000000004],[-22.712822],[-29.4895],[-19.037500999999992],[-17.378053],[-17.786450000000002],[-20.383486],[-17.700569],[5.455144999999998],[0.1514260000000007],[-5.054579000000004],[-5.137164999999996],[5.449928],[3.175348999999997],[0.6799999999999997],[-14.404342000000003],[-8.033088],[-28.27175],[3.7847980000000025],[14.96553],[-4.454308999999995],[2.172914999999996],[10.795266999999996],[0.9322560000000024],[2.263620000000003],[-7.554365000000005],[-5.078495000000004],[-24.04026],[-10.379368],[7.558447999999999],[17.202364],[9.409332999999997],[7.192073999999998],[16.801347],[10.753379],[13.978319999999997],[-22.251212],[-9.515822999999996],[8.148655000000005],[13.893636],[0.8138769999999981],[-3.5184909999999974],[9.788864000000006],[6.44943],[4.945059999999998],[4.962136999999999],[4.05707],[-11.372017000000008],[0.1984650000000059],[19.45024],[25.89391700000001],[16.803188],[16.186413999999992],[28.224894],[23.670302000000007],[19.373690000000003],[0.6783209999999968],[7.012925000000003],[-28.442694],[-8.300449],[2.851999],[-1.9015029999999984],[-9.775023000000004],[-8.255886000000004],[0.8204289999999972],[-3.0766459999999967],[1.1001699999999983],[-25.403375999999998],[-14.247344000000004],[-7.671223000000005],[-5.144150999999994],[-15.266384000000002],[-24.769924000000003],[-1.2386059999999972],[-15.818188],[-26.21003],[11.390884999999997],[-7.481986999999996],[-18.648283000000006],[-8.170046],[1.95993],[6.075179999999995],[-7.532077000000001],[0.0381309999999999],[4.554623000000007],[2.0134079999999983],[-2.97195],[-14.441508000000006],[-16.809592999999992],[-5.705705999999999],[-6.945787000000004],[-18.875150000000005],[-29.48949199999999],[-24.802938999999995],[-29.933629],[-26.450140000000005],[2.6719230000000067],[-6.589210999999999],[-10.724055999999996],[1.0739459999999923],[10.250847999999994],[12.653893999999994],[0.0406319999999951],[5.249132000000003],[15.293245999999996],[5.376813999999996],[8.421640000000004],[-5.2913600000000045],[-14.835010000000002],[-3.565793999999997],[9.153842000000004],[13.030557000000002],[1.700616999999994],[1.3633819999999943],[7.917107999999999],[3.9350409999999982],[3.050139999999999],[10.578623],[-9.869456],[9.851874000000002],[23.466614],[29.895285000000005],[21.943951],[18.491644],[19.377548999999995],[21.619787],[11.319459999999998],[10.675171],[3.080945],[-14.885082999999996],[-8.717132],[-8.340697999999996],[-14.297985999999987],[-15.744027999999998],[-9.282267000000004],[-3.447905999999996],[-5.853520000000003],[1.2656049999999937],[-17.594745000000007],[-4.494734999999999],[1.450919999999989],[-4.165252999999993],[-20.723337],[-16.754250000000006],[-8.927742000000002],[-12.150841000000009],[-18.935390000000005],[9.351949000000005],[-11.038620999999992],[7.955710999999995],[2.957951999999999],[-1.966265],[-12.051133000000007],[-12.162144999999995],[-14.933208000000002],[-9.180100000000005],[-3.7756230000000035],[-26.369003],[-9.513224],[-0.2946179999999998],[-5.467395000000003],[-27.418452],[-22.840407],[-12.213815999999989],[-18.710111],[-9.70185],[-20.900797000000004],[-46.972194],[-33.60928200000001],[-14.538946],[-13.382453000000003],[-37.810292],[-44.19067100000001],[-26.45614299999999],[-46.162102],[-10.509300000000003],[-0.4664769999999976],[11.422218000000004],[16.847162999999995],[9.721018999999998],[9.208290000000003],[27.049164],[30.899871],[29.402519999999996],[-12.601536000000005],[-28.0],[-12.722485999999996],[-7.435288999999997],[1.072695000000003],[-8.331846999999996],[-5.850401999999996],[5.213853999999998],[0.9789280000000034],[5.412199999999999],[1.5366590000000038],[-8.194969],[-14.165518],[-4.295337999999994],[15.004827],[12.424927000000006],[0.1663519999999962],[6.324989000000002],[13.54928300000001],[11.179690999999996],[15.181009999999992],[11.312523000000002],[-10.110380999999997],[8.638100000000001],[14.439230000000004],[16.240345000000005],[-4.721699999999999],[-6.323636999999998],[-12.984065],[-16.754681999999995],[-27.23420000000001],[-2.9198739999999965],[-16.880119999999998],[-1.7431889999999939],[6.404734999999995],[14.595872999999996],[-2.286738],[-1.7171220000000034],[11.976871999999993],[3.752502999999997],[4.916080000000001],[-28.62067],[-3.954561000000005],[-7.238638999999999],[-29.012408],[-26.872840000000004],[-37.87742],[2.091305904873317],[-4.739467881696315],[-17.605885673756354],[-6.782353558901279],[5.575690233405127],[7.97069844020531],[-3.4796287148721685],[-3.585718989545737],[4.548167916678425],[0.8333425445725702],[1.5727587758106987]],\"domain\":{\"x\":[0.0,1.0],\"y\":[0.0,1.0]},\"hovertemplate\":\"<b>%{hovertext}</b><br><br>labels=%{label}<br>Intencion_Voto=%{value}<br>parent=%{parent}<br>id=%{id}<br>Diferencia=%{color}<extra></extra>\",\"hovertext\":[\"republican\",\"republican\",\"republican\",\"republican\",\"republican\",\"republican\",\"republican\",\"republican\",\"republican\",\"republican\",\"republican\",\"republican\",\"republican\",\"republican\",\"republican\",\"republican\",\"republican\",\"republican\",\"republican\",\"republican\",\"democrat\",\"republican\",\"republican\",\"republican\",\"republican\",\"republican\",\"republican\",\"republican\",\"democrat\",\"democrat\",\"republican\",\"republican\",\"republican\",\"republican\",\"republican\",\"republican\",\"republican\",\"republican\",\"republican\",\"democrat\",\"democrat\",\"democrat\",\"democrat\",\"democrat\",\"democrat\",\"democrat\",\"republican\",\"republican\",\"republican\",\"republican\",\"democrat\",\"republican\",\"republican\",\"republican\",\"democrat\",\"democrat\",\"democrat\",\"republican\",\"republican\",\"republican\",\"republican\",\"democrat\",\"democrat\",\"democrat\",\"democrat\",\"democrat\",\"democrat\",\"democrat\",\"democrat\",\"republican\",\"republican\",\"democrat\",\"democrat\",\"democrat\",\"democrat\",\"democrat\",\"democrat\",\"republican\",\"republican\",\"republican\",\"republican\",\"democrat\",\"republican\",\"republican\",\"democrat\",\"democrat\",\"republican\",\"democrat\",\"democrat\",\"republican\",\"democrat\",\"republican\",\"republican\",\"republican\",\"republican\",\"republican\",\"republican\",\"democrat\",\"democrat\",\"democrat\",\"democrat\",\"democrat\",\"democrat\",\"democrat\",\"democrat\",\"democrat\",\"republican\",\"republican\",\"republican\",\"republican\",\"republican\",\"republican\",\"republican\",\"republican\",\"republican\",\"republican\",\"republican\",\"republican\",\"republican\",\"democrat\",\"democrat\",\"democrat\",\"democrat\",\"democrat\",\"democrat\",\"democrat\",\"republican\",\"republican\",\"republican\",\"republican\",\"republican\",\"republican\",\"republican\",\"democrat\",\"republican\",\"republican\",\"republican\",\"republican\",\"republican\",\"democrat\",\"democrat\",\"democrat\",\"democrat\",\"republican\",\"democrat\",\"democrat\",\"republican\",\"republican\",\"republican\",\"republican\",\"republican\",\"republican\",\"republican\",\"republican\",\"republican\",\"republican\",\"republican\",\"republican\",\"republican\",\"republican\",\"democrat\",\"democrat\",\"republican\",\"republican\",\"republican\",\"republican\",\"republican\",\"republican\",\"republican\",\"democrat\",\"democrat\",\"republican\",\"republican\",\"republican\",\"republican\",\"republican\",\"republican\",\"republican\",\"republican\",\"democrat\",\"democrat\",\"democrat\",\"democrat\",\"democrat\",\"democrat\",\"democrat\",\"democrat\",\"democrat\",\"republican\",\"republican\",\"democrat\",\"democrat\",\"democrat\",\"democrat\",\"democrat\",\"democrat\",\"democrat\",\"democrat\",\"republican\",\"republican\",\"democrat\",\"democrat\",\"democrat\",\"democrat\",\"democrat\",\"democrat\",\"democrat\",\"democrat\",\"republican\",\"republican\",\"republican\",\"democrat\",\"democrat\",\"democrat\",\"democrat\",\"democrat\",\"democrat\",\"republican\",\"democrat\",\"democrat\",\"democrat\",\"democrat\",\"democrat\",\"democrat\",\"democrat\",\"democrat\",\"democrat\",\"democrat\",\"democrat\",\"republican\",\"republican\",\"republican\",\"republican\",\"republican\",\"republican\",\"republican\",\"republican\",\"democrat\",\"republican\",\"republican\",\"republican\",\"democrat\",\"democrat\",\"republican\",\"republican\",\"republican\",\"republican\",\"republican\",\"republican\",\"democrat\",\"republican\",\"republican\",\"republican\",\"republican\",\"republican\",\"republican\",\"republican\",\"republican\",\"republican\",\"republican\",\"republican\",\"republican\",\"republican\",\"republican\",\"republican\",\"republican\",\"republican\",\"republican\",\"republican\",\"democrat\",\"democrat\",\"republican\",\"republican\",\"democrat\",\"democrat\",\"democrat\",\"republican\",\"republican\",\"republican\",\"democrat\",\"democrat\",\"republican\",\"democrat\",\"democrat\",\"democrat\",\"democrat\",\"republican\",\"republican\",\"republican\",\"republican\",\"democrat\",\"democrat\",\"democrat\",\"democrat\",\"democrat\",\"democrat\",\"democrat\",\"republican\",\"republican\",\"democrat\",\"democrat\",\"democrat\",\"republican\",\"democrat\",\"democrat\",\"democrat\",\"democrat\",\"democrat\",\"republican\",\"democrat\",\"democrat\",\"democrat\",\"democrat\",\"democrat\",\"democrat\",\"democrat\",\"democrat\",\"democrat\",\"republican\",\"republican\",\"republican\",\"republican\",\"republican\",\"republican\",\"republican\",\"democrat\",\"republican\",\"republican\",\"republican\",\"republican\",\"republican\",\"republican\",\"republican\",\"republican\",\"republican\",\"republican\",\"republican\",\"democrat\",\"republican\",\"republican\",\"republican\",\"democrat\",\"democrat\",\"republican\",\"republican\",\"democrat\",\"democrat\",\"republican\",\"republican\",\"republican\",\"republican\",\"republican\",\"republican\",\"republican\",\"republican\",\"republican\",\"republican\",\"republican\",\"republican\",\"republican\",\"democrat\",\"democrat\",\"democrat\",\"democrat\",\"democrat\",\"democrat\",\"democrat\",\"democrat\",\"republican\",\"republican\",\"republican\",\"democrat\",\"democrat\",\"democrat\",\"democrat\",\"democrat\",\"democrat\",\"republican\",\"democrat\",\"republican\",\"democrat\",\"democrat\",\"democrat\",\"democrat\",\"democrat\",\"democrat\",\"democrat\",\"democrat\",\"democrat\",\"republican\",\"republican\",\"republican\",\"republican\",\"republican\",\"republican\",\"republican\",\"republican\",\"republican\",\"republican\",\"republican\",\"republican\",\"republican\",\"republican\",\"republican\",\"republican\",\"republican\",\"republican\",\"republican\",\"republican\",\"republican\",\"democrat\",\"democrat\",\"republican\",\"republican\",\"republican\",\"republican\",\"republican\",\"republican\",\"republican\",\"republican\",\"republican\",\"republican\",\"republican\",\"republican\",\"republican\",\"republican\",\"republican\",\"republican\",\"republican\",\"republican\",\"republican\",\"republican\",\"republican\",\"republican\",\"republican\",\"republican\",\"republican\",\"republican\",\"democrat\",\"democrat\",\"democrat\",\"democrat\",\"democrat\",\"democrat\",\"democrat\",\"republican\",\"republican\",\"republican\",\"republican\",\"republican\",\"republican\",\"republican\",\"democrat\",\"democrat\",\"democrat\",\"republican\",\"republican\",\"republican\",\"democrat\",\"democrat\",\"democrat\",\"democrat\",\"democrat\",\"democrat\",\"democrat\",\"democrat\",\"democrat\",\"republican\",\"democrat\",\"democrat\",\"democrat\",\"republican\",\"republican\",\"republican\",\"republican\",\"republican\",\"republican\",\"republican\",\"democrat\",\"democrat\",\"democrat\",\"democrat\",\"democrat\",\"democrat\",\"democrat\",\"republican\",\"republican\",\"republican\",\"republican\",\"republican\",\"republican\",\"republican\",\"(?)\",\"(?)\",\"(?)\",\"(?)\",\"(?)\",\"(?)\",\"(?)\",\"(?)\",\"(?)\",\"(?)\",\"(?)\"],\"ids\":[\"1980/Alabama\",\"1984/Alabama\",\"1988/Alabama\",\"1992/Alabama\",\"1996/Alabama\",\"2000/Alabama\",\"2004/Alabama\",\"2008/Alabama\",\"2012/Alabama\",\"2016/Alabama\",\"1988/Alaska\",\"1992/Alaska\",\"1996/Alaska\",\"2000/Alaska\",\"2004/Alaska\",\"2008/Alaska\",\"2016/Alaska\",\"1980/Arizona\",\"1988/Arizona\",\"1992/Arizona\",\"1996/Arizona\",\"2000/Arizona\",\"2004/Arizona\",\"2008/Arizona\",\"2012/Arizona\",\"2016/Arizona\",\"1980/Arkansas\",\"1988/Arkansas\",\"1992/Arkansas\",\"1996/Arkansas\",\"2000/Arkansas\",\"2004/Arkansas\",\"2008/Arkansas\",\"2012/Arkansas\",\"2016/Arkansas\",\"1976/California\",\"1980/California\",\"1984/California\",\"1988/California\",\"1992/California\",\"1996/California\",\"2000/California\",\"2004/California\",\"2008/California\",\"2012/California\",\"2016/California\",\"1976/Colorado\",\"1980/Colorado\",\"1984/Colorado\",\"1988/Colorado\",\"1992/Colorado\",\"1996/Colorado\",\"2000/Colorado\",\"2004/Colorado\",\"2008/Colorado\",\"2012/Colorado\",\"2016/Colorado\",\"1976/Connecticut\",\"1980/Connecticut\",\"1984/Connecticut\",\"1988/Connecticut\",\"1992/Connecticut\",\"1996/Connecticut\",\"2000/Connecticut\",\"2004/Connecticut\",\"2008/Connecticut\",\"2012/Connecticut\",\"2016/Connecticut\",\"1976/Delaware\",\"1980/Delaware\",\"1988/Delaware\",\"1992/Delaware\",\"1996/Delaware\",\"2000/Delaware\",\"2004/Delaware\",\"2008/Delaware\",\"2016/Delaware\",\"1980/Florida\",\"1984/Florida\",\"1988/Florida\",\"1992/Florida\",\"1996/Florida\",\"2000/Florida\",\"2004/Florida\",\"2008/Florida\",\"2012/Florida\",\"2016/Florida\",\"1976/Georgia\",\"1980/Georgia\",\"1988/Georgia\",\"1992/Georgia\",\"1996/Georgia\",\"2000/Georgia\",\"2004/Georgia\",\"2008/Georgia\",\"2012/Georgia\",\"2016/Georgia\",\"1980/Hawaii\",\"1988/Hawaii\",\"1992/Hawaii\",\"1996/Hawaii\",\"2000/Hawaii\",\"2004/Hawaii\",\"2008/Hawaii\",\"2012/Hawaii\",\"2016/Hawaii\",\"1976/Idaho\",\"1980/Idaho\",\"1992/Idaho\",\"1996/Idaho\",\"2000/Idaho\",\"2004/Idaho\",\"2008/Idaho\",\"2012/Idaho\",\"2016/Idaho\",\"1976/Illinois\",\"1980/Illinois\",\"1984/Illinois\",\"1988/Illinois\",\"1992/Illinois\",\"1996/Illinois\",\"2000/Illinois\",\"2004/Illinois\",\"2008/Illinois\",\"2012/Illinois\",\"2016/Illinois\",\"1976/Indiana\",\"1984/Indiana\",\"1988/Indiana\",\"1992/Indiana\",\"1996/Indiana\",\"2000/Indiana\",\"2004/Indiana\",\"2008/Indiana\",\"2012/Indiana\",\"2016/Indiana\",\"1976/Iowa\",\"1980/Iowa\",\"1984/Iowa\",\"1988/Iowa\",\"1992/Iowa\",\"1996/Iowa\",\"2000/Iowa\",\"2004/Iowa\",\"2008/Iowa\",\"2012/Iowa\",\"2016/Iowa\",\"1976/Kansas\",\"1980/Kansas\",\"1984/Kansas\",\"1988/Kansas\",\"1992/Kansas\",\"1996/Kansas\",\"2000/Kansas\",\"2004/Kansas\",\"2008/Kansas\",\"2012/Kansas\",\"2016/Kansas\",\"1984/Kentucky\",\"1988/Kentucky\",\"1992/Kentucky\",\"1996/Kentucky\",\"2000/Kentucky\",\"2004/Kentucky\",\"2008/Kentucky\",\"2012/Kentucky\",\"2016/Kentucky\",\"1980/Louisiana\",\"1988/Louisiana\",\"1992/Louisiana\",\"1996/Louisiana\",\"2000/Louisiana\",\"2004/Louisiana\",\"2008/Louisiana\",\"2012/Louisiana\",\"2016/Louisiana\",\"1976/Maine\",\"1980/Maine\",\"1988/Maine\",\"1992/Maine\",\"1996/Maine\",\"2000/Maine\",\"2004/Maine\",\"2008/Maine\",\"2012/Maine\",\"2016/Maine\",\"1976/Maryland\",\"1980/Maryland\",\"1984/Maryland\",\"1988/Maryland\",\"1992/Maryland\",\"1996/Maryland\",\"2000/Maryland\",\"2004/Maryland\",\"2008/Maryland\",\"2012/Maryland\",\"2016/Maryland\",\"1976/Massachusetts\",\"1980/Massachusetts\",\"1984/Massachusetts\",\"1988/Massachusetts\",\"1992/Massachusetts\",\"1996/Massachusetts\",\"2000/Massachusetts\",\"2004/Massachusetts\",\"2008/Massachusetts\",\"2012/Massachusetts\",\"2016/Massachusetts\",\"1976/Michigan\",\"1980/Michigan\",\"1988/Michigan\",\"1992/Michigan\",\"1996/Michigan\",\"2000/Michigan\",\"2004/Michigan\",\"2008/Michigan\",\"2012/Michigan\",\"2016/Michigan\",\"1976/Minnesota\",\"1980/Minnesota\",\"1984/Minnesota\",\"1988/Minnesota\",\"1992/Minnesota\",\"1996/Minnesota\",\"2000/Minnesota\",\"2004/Minnesota\",\"2008/Minnesota\",\"2012/Minnesota\",\"2016/Minnesota\",\"1980/Mississippi\",\"1988/Mississippi\",\"1992/Mississippi\",\"1996/Mississippi\",\"2000/Mississippi\",\"2004/Mississippi\",\"2008/Mississippi\",\"2016/Mississippi\",\"1976/Missouri\",\"1980/Missouri\",\"1984/Missouri\",\"1988/Missouri\",\"1992/Missouri\",\"1996/Missouri\",\"2000/Missouri\",\"2004/Missouri\",\"2008/Missouri\",\"2012/Missouri\",\"2016/Missouri\",\"1988/Montana\",\"1992/Montana\",\"1996/Montana\",\"2000/Montana\",\"2004/Montana\",\"2008/Montana\",\"2012/Montana\",\"2016/Montana\",\"1976/Nebraska\",\"1980/Nebraska\",\"1984/Nebraska\",\"1988/Nebraska\",\"1992/Nebraska\",\"1996/Nebraska\",\"2000/Nebraska\",\"2004/Nebraska\",\"2008/Nebraska\",\"2012/Nebraska\",\"2016/Nebraska\",\"1980/Nevada\",\"1988/Nevada\",\"1992/Nevada\",\"1996/Nevada\",\"2000/Nevada\",\"2004/Nevada\",\"2008/Nevada\",\"2012/Nevada\",\"2016/Nevada\",\"1980/New Hampshire\",\"1984/New Hampshire\",\"1988/New Hampshire\",\"1992/New Hampshire\",\"1996/New Hampshire\",\"2000/New Hampshire\",\"2004/New Hampshire\",\"2008/New Hampshire\",\"2012/New Hampshire\",\"2016/New Hampshire\",\"1976/New Jersey\",\"1980/New Jersey\",\"1984/New Jersey\",\"1988/New Jersey\",\"1992/New Jersey\",\"1996/New Jersey\",\"2000/New Jersey\",\"2004/New Jersey\",\"2008/New Jersey\",\"2012/New Jersey\",\"2016/New Jersey\",\"1984/New Mexico\",\"1988/New Mexico\",\"1992/New Mexico\",\"1996/New Mexico\",\"2000/New Mexico\",\"2004/New Mexico\",\"2008/New Mexico\",\"2012/New Mexico\",\"2016/New Mexico\",\"1976/New York\",\"1980/New York\",\"1984/New York\",\"1988/New York\",\"1992/New York\",\"1996/New York\",\"2000/New York\",\"2004/New York\",\"2008/New York\",\"2012/New York\",\"2016/New York\",\"1976/North Carolina\",\"1980/North Carolina\",\"1984/North Carolina\",\"1988/North Carolina\",\"1992/North Carolina\",\"1996/North Carolina\",\"2000/North Carolina\",\"2004/North Carolina\",\"2008/North Carolina\",\"2012/North Carolina\",\"2016/North Carolina\",\"1980/North Dakota\",\"1988/North Dakota\",\"1992/North Dakota\",\"1996/North Dakota\",\"2000/North Dakota\",\"2004/North Dakota\",\"2008/North Dakota\",\"2012/North Dakota\",\"2016/North Dakota\",\"1976/Ohio\",\"1980/Ohio\",\"1984/Ohio\",\"1988/Ohio\",\"1992/Ohio\",\"1996/Ohio\",\"2000/Ohio\",\"2004/Ohio\",\"2008/Ohio\",\"2012/Ohio\",\"2016/Ohio\",\"1980/Oklahoma\",\"1988/Oklahoma\",\"1992/Oklahoma\",\"1996/Oklahoma\",\"2000/Oklahoma\",\"2004/Oklahoma\",\"2008/Oklahoma\",\"2012/Oklahoma\",\"2016/Oklahoma\",\"1976/Oregon\",\"1980/Oregon\",\"1984/Oregon\",\"1988/Oregon\",\"1992/Oregon\",\"1996/Oregon\",\"2000/Oregon\",\"2004/Oregon\",\"2008/Oregon\",\"2012/Oregon\",\"2016/Oregon\",\"1980/Pennsylvania\",\"1984/Pennsylvania\",\"1988/Pennsylvania\",\"1992/Pennsylvania\",\"1996/Pennsylvania\",\"2000/Pennsylvania\",\"2004/Pennsylvania\",\"2008/Pennsylvania\",\"2012/Pennsylvania\",\"2016/Pennsylvania\",\"1980/Rhode Island\",\"1984/Rhode Island\",\"1988/Rhode Island\",\"1992/Rhode Island\",\"1996/Rhode Island\",\"2000/Rhode Island\",\"2004/Rhode Island\",\"2008/Rhode Island\",\"2012/Rhode Island\",\"2016/Rhode Island\",\"1976/South Carolina\",\"1980/South Carolina\",\"1988/South Carolina\",\"1992/South Carolina\",\"1996/South Carolina\",\"2000/South Carolina\",\"2004/South Carolina\",\"2008/South Carolina\",\"2012/South Carolina\",\"2016/South Carolina\",\"1976/South Dakota\",\"1980/South Dakota\",\"1988/South Dakota\",\"1992/South Dakota\",\"1996/South Dakota\",\"2000/South Dakota\",\"2004/South Dakota\",\"2008/South Dakota\",\"2012/South Dakota\",\"2016/South Dakota\",\"1980/Tennessee\",\"1988/Tennessee\",\"1992/Tennessee\",\"1996/Tennessee\",\"2000/Tennessee\",\"2004/Tennessee\",\"2008/Tennessee\",\"2012/Tennessee\",\"2016/Tennessee\",\"1980/Texas\",\"1984/Texas\",\"1988/Texas\",\"1992/Texas\",\"1996/Texas\",\"2000/Texas\",\"2004/Texas\",\"2008/Texas\",\"2012/Texas\",\"2016/Texas\",\"1976/Utah\",\"1984/Utah\",\"1988/Utah\",\"1992/Utah\",\"1996/Utah\",\"2000/Utah\",\"2004/Utah\",\"2008/Utah\",\"2012/Utah\",\"2016/Utah\",\"1988/Vermont\",\"1992/Vermont\",\"1996/Vermont\",\"2000/Vermont\",\"2004/Vermont\",\"2008/Vermont\",\"2012/Vermont\",\"2016/Vermont\",\"1980/Virginia\",\"1984/Virginia\",\"1988/Virginia\",\"1992/Virginia\",\"1996/Virginia\",\"2000/Virginia\",\"2004/Virginia\",\"2008/Virginia\",\"2012/Virginia\",\"2016/Virginia\",\"1976/Washington\",\"1980/Washington\",\"1984/Washington\",\"1988/Washington\",\"1992/Washington\",\"1996/Washington\",\"2000/Washington\",\"2004/Washington\",\"2008/Washington\",\"2012/Washington\",\"2016/Washington\",\"1980/West Virginia\",\"1984/West Virginia\",\"1988/West Virginia\",\"1992/West Virginia\",\"1996/West Virginia\",\"2000/West Virginia\",\"2004/West Virginia\",\"2008/West Virginia\",\"2012/West Virginia\",\"2016/West Virginia\",\"1980/Wisconsin\",\"1984/Wisconsin\",\"1988/Wisconsin\",\"1992/Wisconsin\",\"1996/Wisconsin\",\"2000/Wisconsin\",\"2004/Wisconsin\",\"2008/Wisconsin\",\"2012/Wisconsin\",\"2016/Wisconsin\",\"1988/Wyoming\",\"1992/Wyoming\",\"1996/Wyoming\",\"2000/Wyoming\",\"2008/Wyoming\",\"2016/Wyoming\",\"1976\",\"1980\",\"1984\",\"1988\",\"1992\",\"1996\",\"2000\",\"2004\",\"2008\",\"2012\",\"2016\"],\"labels\":[\"Alabama\",\"Alabama\",\"Alabama\",\"Alabama\",\"Alabama\",\"Alabama\",\"Alabama\",\"Alabama\",\"Alabama\",\"Alabama\",\"Alaska\",\"Alaska\",\"Alaska\",\"Alaska\",\"Alaska\",\"Alaska\",\"Alaska\",\"Arizona\",\"Arizona\",\"Arizona\",\"Arizona\",\"Arizona\",\"Arizona\",\"Arizona\",\"Arizona\",\"Arizona\",\"Arkansas\",\"Arkansas\",\"Arkansas\",\"Arkansas\",\"Arkansas\",\"Arkansas\",\"Arkansas\",\"Arkansas\",\"Arkansas\",\"California\",\"California\",\"California\",\"California\",\"California\",\"California\",\"California\",\"California\",\"California\",\"California\",\"California\",\"Colorado\",\"Colorado\",\"Colorado\",\"Colorado\",\"Colorado\",\"Colorado\",\"Colorado\",\"Colorado\",\"Colorado\",\"Colorado\",\"Colorado\",\"Connecticut\",\"Connecticut\",\"Connecticut\",\"Connecticut\",\"Connecticut\",\"Connecticut\",\"Connecticut\",\"Connecticut\",\"Connecticut\",\"Connecticut\",\"Connecticut\",\"Delaware\",\"Delaware\",\"Delaware\",\"Delaware\",\"Delaware\",\"Delaware\",\"Delaware\",\"Delaware\",\"Delaware\",\"Florida\",\"Florida\",\"Florida\",\"Florida\",\"Florida\",\"Florida\",\"Florida\",\"Florida\",\"Florida\",\"Florida\",\"Georgia\",\"Georgia\",\"Georgia\",\"Georgia\",\"Georgia\",\"Georgia\",\"Georgia\",\"Georgia\",\"Georgia\",\"Georgia\",\"Hawaii\",\"Hawaii\",\"Hawaii\",\"Hawaii\",\"Hawaii\",\"Hawaii\",\"Hawaii\",\"Hawaii\",\"Hawaii\",\"Idaho\",\"Idaho\",\"Idaho\",\"Idaho\",\"Idaho\",\"Idaho\",\"Idaho\",\"Idaho\",\"Idaho\",\"Illinois\",\"Illinois\",\"Illinois\",\"Illinois\",\"Illinois\",\"Illinois\",\"Illinois\",\"Illinois\",\"Illinois\",\"Illinois\",\"Illinois\",\"Indiana\",\"Indiana\",\"Indiana\",\"Indiana\",\"Indiana\",\"Indiana\",\"Indiana\",\"Indiana\",\"Indiana\",\"Indiana\",\"Iowa\",\"Iowa\",\"Iowa\",\"Iowa\",\"Iowa\",\"Iowa\",\"Iowa\",\"Iowa\",\"Iowa\",\"Iowa\",\"Iowa\",\"Kansas\",\"Kansas\",\"Kansas\",\"Kansas\",\"Kansas\",\"Kansas\",\"Kansas\",\"Kansas\",\"Kansas\",\"Kansas\",\"Kansas\",\"Kentucky\",\"Kentucky\",\"Kentucky\",\"Kentucky\",\"Kentucky\",\"Kentucky\",\"Kentucky\",\"Kentucky\",\"Kentucky\",\"Louisiana\",\"Louisiana\",\"Louisiana\",\"Louisiana\",\"Louisiana\",\"Louisiana\",\"Louisiana\",\"Louisiana\",\"Louisiana\",\"Maine\",\"Maine\",\"Maine\",\"Maine\",\"Maine\",\"Maine\",\"Maine\",\"Maine\",\"Maine\",\"Maine\",\"Maryland\",\"Maryland\",\"Maryland\",\"Maryland\",\"Maryland\",\"Maryland\",\"Maryland\",\"Maryland\",\"Maryland\",\"Maryland\",\"Maryland\",\"Massachusetts\",\"Massachusetts\",\"Massachusetts\",\"Massachusetts\",\"Massachusetts\",\"Massachusetts\",\"Massachusetts\",\"Massachusetts\",\"Massachusetts\",\"Massachusetts\",\"Massachusetts\",\"Michigan\",\"Michigan\",\"Michigan\",\"Michigan\",\"Michigan\",\"Michigan\",\"Michigan\",\"Michigan\",\"Michigan\",\"Michigan\",\"Minnesota\",\"Minnesota\",\"Minnesota\",\"Minnesota\",\"Minnesota\",\"Minnesota\",\"Minnesota\",\"Minnesota\",\"Minnesota\",\"Minnesota\",\"Minnesota\",\"Mississippi\",\"Mississippi\",\"Mississippi\",\"Mississippi\",\"Mississippi\",\"Mississippi\",\"Mississippi\",\"Mississippi\",\"Missouri\",\"Missouri\",\"Missouri\",\"Missouri\",\"Missouri\",\"Missouri\",\"Missouri\",\"Missouri\",\"Missouri\",\"Missouri\",\"Missouri\",\"Montana\",\"Montana\",\"Montana\",\"Montana\",\"Montana\",\"Montana\",\"Montana\",\"Montana\",\"Nebraska\",\"Nebraska\",\"Nebraska\",\"Nebraska\",\"Nebraska\",\"Nebraska\",\"Nebraska\",\"Nebraska\",\"Nebraska\",\"Nebraska\",\"Nebraska\",\"Nevada\",\"Nevada\",\"Nevada\",\"Nevada\",\"Nevada\",\"Nevada\",\"Nevada\",\"Nevada\",\"Nevada\",\"New Hampshire\",\"New Hampshire\",\"New Hampshire\",\"New Hampshire\",\"New Hampshire\",\"New Hampshire\",\"New Hampshire\",\"New Hampshire\",\"New Hampshire\",\"New Hampshire\",\"New Jersey\",\"New Jersey\",\"New Jersey\",\"New Jersey\",\"New Jersey\",\"New Jersey\",\"New Jersey\",\"New Jersey\",\"New Jersey\",\"New Jersey\",\"New Jersey\",\"New Mexico\",\"New Mexico\",\"New Mexico\",\"New Mexico\",\"New Mexico\",\"New Mexico\",\"New Mexico\",\"New Mexico\",\"New Mexico\",\"New York\",\"New York\",\"New York\",\"New York\",\"New York\",\"New York\",\"New York\",\"New York\",\"New York\",\"New York\",\"New York\",\"North Carolina\",\"North Carolina\",\"North Carolina\",\"North Carolina\",\"North Carolina\",\"North Carolina\",\"North Carolina\",\"North Carolina\",\"North Carolina\",\"North Carolina\",\"North Carolina\",\"North Dakota\",\"North Dakota\",\"North Dakota\",\"North Dakota\",\"North Dakota\",\"North Dakota\",\"North Dakota\",\"North Dakota\",\"North Dakota\",\"Ohio\",\"Ohio\",\"Ohio\",\"Ohio\",\"Ohio\",\"Ohio\",\"Ohio\",\"Ohio\",\"Ohio\",\"Ohio\",\"Ohio\",\"Oklahoma\",\"Oklahoma\",\"Oklahoma\",\"Oklahoma\",\"Oklahoma\",\"Oklahoma\",\"Oklahoma\",\"Oklahoma\",\"Oklahoma\",\"Oregon\",\"Oregon\",\"Oregon\",\"Oregon\",\"Oregon\",\"Oregon\",\"Oregon\",\"Oregon\",\"Oregon\",\"Oregon\",\"Oregon\",\"Pennsylvania\",\"Pennsylvania\",\"Pennsylvania\",\"Pennsylvania\",\"Pennsylvania\",\"Pennsylvania\",\"Pennsylvania\",\"Pennsylvania\",\"Pennsylvania\",\"Pennsylvania\",\"Rhode Island\",\"Rhode Island\",\"Rhode Island\",\"Rhode Island\",\"Rhode Island\",\"Rhode Island\",\"Rhode Island\",\"Rhode Island\",\"Rhode Island\",\"Rhode Island\",\"South Carolina\",\"South Carolina\",\"South Carolina\",\"South Carolina\",\"South Carolina\",\"South Carolina\",\"South Carolina\",\"South Carolina\",\"South Carolina\",\"South Carolina\",\"South Dakota\",\"South Dakota\",\"South Dakota\",\"South Dakota\",\"South Dakota\",\"South Dakota\",\"South Dakota\",\"South Dakota\",\"South Dakota\",\"South Dakota\",\"Tennessee\",\"Tennessee\",\"Tennessee\",\"Tennessee\",\"Tennessee\",\"Tennessee\",\"Tennessee\",\"Tennessee\",\"Tennessee\",\"Texas\",\"Texas\",\"Texas\",\"Texas\",\"Texas\",\"Texas\",\"Texas\",\"Texas\",\"Texas\",\"Texas\",\"Utah\",\"Utah\",\"Utah\",\"Utah\",\"Utah\",\"Utah\",\"Utah\",\"Utah\",\"Utah\",\"Utah\",\"Vermont\",\"Vermont\",\"Vermont\",\"Vermont\",\"Vermont\",\"Vermont\",\"Vermont\",\"Vermont\",\"Virginia\",\"Virginia\",\"Virginia\",\"Virginia\",\"Virginia\",\"Virginia\",\"Virginia\",\"Virginia\",\"Virginia\",\"Virginia\",\"Washington\",\"Washington\",\"Washington\",\"Washington\",\"Washington\",\"Washington\",\"Washington\",\"Washington\",\"Washington\",\"Washington\",\"Washington\",\"West Virginia\",\"West Virginia\",\"West Virginia\",\"West Virginia\",\"West Virginia\",\"West Virginia\",\"West Virginia\",\"West Virginia\",\"West Virginia\",\"West Virginia\",\"Wisconsin\",\"Wisconsin\",\"Wisconsin\",\"Wisconsin\",\"Wisconsin\",\"Wisconsin\",\"Wisconsin\",\"Wisconsin\",\"Wisconsin\",\"Wisconsin\",\"Wyoming\",\"Wyoming\",\"Wyoming\",\"Wyoming\",\"Wyoming\",\"Wyoming\",\"1976\",\"1980\",\"1984\",\"1988\",\"1992\",\"1996\",\"2000\",\"2004\",\"2008\",\"2012\",\"2016\"],\"marker\":{\"coloraxis\":\"coloraxis\",\"colors\":[-4.547308999999999,-22.023985,-18.538551,-1.4558649999999955,-5.939902000000004,-17.564598000000004,-21.625471000000005,-22.424064,-18.066787,-21.18848,-10.390892999999998,0.5418000000000021,-9.471848,-22.979054,-26.193216,-14.184433000000006,-6.079999999999998,-23.387207,-20.216916000000005,-0.1559850000000011,6.886496999999991,-12.535011999999996,-9.294016,-4.139692000000004,-8.522165999999999,-2.699859999999994,3.658324000000008,-7.589976,17.844488000000005,18.084563,-2.2236449999999905,-3.820442,-9.101824999999998,-24.807177000000003,-19.4925,-3.270221999999997,-14.065117999999998,-16.310839,-8.033823999999996,17.150516999999997,13.814598000000004,3.6597280000000016,10.734135000000004,22.32009,15.577813,22.08415,-1.3731909999999985,-25.041932000000003,-23.0,-3.496305,7.596597999999999,3.4405399999999986,-8.595186999999996,-4.2787349999999975,6.846433000000005,0.5829039999999992,2.8801500000000004,-1.4696539999999985,-3.5359300000000005,-26.59231,-0.417037999999998,10.368108,19.931291,12.227488999999998,11.380723999999994,20.222026,12.405382000000005,14.50678,2.4453219999999973,-6.423568000000003,-14.190244999999996,7.456685999999998,9.684802999999995,1.0026910000000058,7.267530000000002,24.241347000000005,13.95917,-7.6793930000000055,-30.071395000000003,-21.742401,-1.9200069999999911,4.8610200000000034,1.41781000000001,-0.5771170000000012,1.487583000000001,-1.5462849999999977,0.9193599999999977,29.37976,12.246155000000002,-11.920596000000003,1.6269670000000005,2.8368909999999943,-10.130298999999994,-12.646300000000004,-4.263896999999993,-9.741931000000008,-3.9287300000000016,5.260771000000002,7.651668,17.324465,22.326151000000003,17.437287999999995,2.455362000000001,26.697252,28.228406,23.94357,-18.699279,-27.00368899999999,-8.361484999999995,-17.664632999999995,-33.979927,-29.752062,-28.161555,-35.708928,-16.333560000000006,-1.5707750000000047,-3.414509000000002,-12.543532,-1.2084199999999967,14.038367999999998,16.276728000000006,4.704612000000012,8.84516399999999,22.561789,16.813627000000004,14.387230000000002,0.9120979999999932,-15.599016999999995,-13.803168999999993,-4.803822999999994,-2.010550000000002,-19.742062999999995,-20.308033,-1.0016350000000074,-10.958091999999986,-12.93181,-1.625155,-10.894622999999996,-12.419655999999996,13.579386999999995,4.459282999999999,12.370793999999998,0.3492510000000024,-1.1527270000000058,12.831879000000008,1.492660999999998,-4.252089999999996,-4.802531999999999,-22.420884000000004,-26.34248,-7.725975999999995,-0.4253050000000016,-11.73507,-20.13307499999999,-24.072205000000004,-16.714812999999992,-21.575878000000003,-13.638709999999996,-25.297862,-5.525950999999999,6.3741330000000005,3.9228749999999977,-13.023075000000008,-18.920992,-12.442097000000004,-15.667569999999998,-21.3273,-12.143667,-8.723192000000004,1.7708060000000003,11.000163,-7.539564999999995,-16.13722,-10.611548,-17.784088999999994,-13.113149999999996,-2.4188720000000004,5.8944089999999925,-3.8567570000000013,6.448637999999999,11.713541,4.387054999999997,7.342480999999999,16.10917299999999,10.439442,6.674010000000003,7.9798820000000035,10.157388000000005,-13.0,-0.6433719999999994,8.457335999999998,14.465116000000002,12.589847999999996,12.59311400000001,20.563285000000008,20.041193,32.56131,14.428559000000009,0.5268750000000004,-4.7585029999999975,6.746832000000005,11.694029999999998,30.27268100000001,24.715432,26.167804000000004,18.349676,17.556882,27.67627000000001,-3.3599999999999994,-9.439073000000004,-2.237392,6.828844000000004,12.6723,2.1662279999999967,3.661200000000001,13.228950999999997,4.240695999999993,3.163620000000001,14.114422000000005,-0.1106919999999966,1.3974600000000097,7.643155,5.512895,20.539988,3.716396000000003,3.086267,10.606981999999997,6.147922999999998,8.912939999999992,-15.243476,-19.050599,-4.443715999999995,-7.601223999999995,-13.55162,-16.426849000000004,-11.106308999999996,-7.807280000000006,2.242735000000004,-2.957156999999995,-16.765569999999997,-5.5348320000000015,12.260505000000006,9.819830999999994,-2.803002,-5.898392999999999,-1.0068320000000028,-11.804824999999994,-12.11157,-9.011197000000005,1.7028239999999997,0.3139830000000003,-20.640563,-23.039746000000008,-5.089860000000002,-8.859262000000001,-18.03667,-19.654472,-32.393745,-31.348517,-5.980428000000003,-9.516056,-10.694604000000004,-22.712822,-29.4895,-19.037500999999992,-17.378053,-17.786450000000002,-20.383486,-17.700569,5.455144999999998,0.1514260000000007,-5.054579000000004,-5.137164999999996,5.449928,3.175348999999997,0.6799999999999997,-14.404342000000003,-8.033088,-28.27175,3.7847980000000025,14.96553,-4.454308999999995,2.172914999999996,10.795266999999996,0.9322560000000024,2.263620000000003,-7.554365000000005,-5.078495000000004,-24.04026,-10.379368,7.558447999999999,17.202364,9.409332999999997,7.192073999999998,16.801347,10.753379,13.978319999999997,-22.251212,-9.515822999999996,8.148655000000005,13.893636,0.8138769999999981,-3.5184909999999974,9.788864000000006,6.44943,4.945059999999998,4.962136999999999,4.05707,-11.372017000000008,0.1984650000000059,19.45024,25.89391700000001,16.803188,16.186413999999992,28.224894,23.670302000000007,19.373690000000003,0.6783209999999968,7.012925000000003,-28.442694,-8.300449,2.851999,-1.9015029999999984,-9.775023000000004,-8.255886000000004,0.8204289999999972,-3.0766459999999967,1.1001699999999983,-25.403375999999998,-14.247344000000004,-7.671223000000005,-5.144150999999994,-15.266384000000002,-24.769924000000003,-1.2386059999999972,-15.818188,-26.21003,11.390884999999997,-7.481986999999996,-18.648283000000006,-8.170046,1.95993,6.075179999999995,-7.532077000000001,0.0381309999999999,4.554623000000007,2.0134079999999983,-2.97195,-14.441508000000006,-16.809592999999992,-5.705705999999999,-6.945787000000004,-18.875150000000005,-29.48949199999999,-24.802938999999995,-29.933629,-26.450140000000005,2.6719230000000067,-6.589210999999999,-10.724055999999996,1.0739459999999923,10.250847999999994,12.653893999999994,0.0406319999999951,5.249132000000003,15.293245999999996,5.376813999999996,8.421640000000004,-5.2913600000000045,-14.835010000000002,-3.565793999999997,9.153842000000004,13.030557000000002,1.700616999999994,1.3633819999999943,7.917107999999999,3.9350409999999982,3.050139999999999,10.578623,-9.869456,9.851874000000002,23.466614,29.895285000000005,21.943951,18.491644,19.377548999999995,21.619787,11.319459999999998,10.675171,3.080945,-14.885082999999996,-8.717132,-8.340697999999996,-14.297985999999987,-15.744027999999998,-9.282267000000004,-3.447905999999996,-5.853520000000003,1.2656049999999937,-17.594745000000007,-4.494734999999999,1.450919999999989,-4.165252999999993,-20.723337,-16.754250000000006,-8.927742000000002,-12.150841000000009,-18.935390000000005,9.351949000000005,-11.038620999999992,7.955710999999995,2.957951999999999,-1.966265,-12.051133000000007,-12.162144999999995,-14.933208000000002,-9.180100000000005,-3.7756230000000035,-26.369003,-9.513224,-0.2946179999999998,-5.467395000000003,-27.418452,-22.840407,-12.213815999999989,-18.710111,-9.70185,-20.900797000000004,-46.972194,-33.60928200000001,-14.538946,-13.382453000000003,-37.810292,-44.19067100000001,-26.45614299999999,-46.162102,-10.509300000000003,-0.4664769999999976,11.422218000000004,16.847162999999995,9.721018999999998,9.208290000000003,27.049164,30.899871,29.402519999999996,-12.601536000000005,-28.0,-12.722485999999996,-7.435288999999997,1.072695000000003,-8.331846999999996,-5.850401999999996,5.213853999999998,0.9789280000000034,5.412199999999999,1.5366590000000038,-8.194969,-14.165518,-4.295337999999994,15.004827,12.424927000000006,0.1663519999999962,6.324989000000002,13.54928300000001,11.179690999999996,15.181009999999992,11.312523000000002,-10.110380999999997,8.638100000000001,14.439230000000004,16.240345000000005,-4.721699999999999,-6.323636999999998,-12.984065,-16.754681999999995,-27.23420000000001,-2.9198739999999965,-16.880119999999998,-1.7431889999999939,6.404734999999995,14.595872999999996,-2.286738,-1.7171220000000034,11.976871999999993,3.752502999999997,4.916080000000001,-28.62067,-3.954561000000005,-7.238638999999999,-29.012408,-26.872840000000004,-37.87742,2.091305904873317,-4.739467881696315,-17.605885673756354,-6.782353558901279,5.575690233405127,7.97069844020531,-3.4796287148721685,-3.585718989545737,4.548167916678425,0.8333425445725702,1.5727587758106987]},\"name\":\"\",\"parents\":[\"1980\",\"1984\",\"1988\",\"1992\",\"1996\",\"2000\",\"2004\",\"2008\",\"2012\",\"2016\",\"1988\",\"1992\",\"1996\",\"2000\",\"2004\",\"2008\",\"2016\",\"1980\",\"1988\",\"1992\",\"1996\",\"2000\",\"2004\",\"2008\",\"2012\",\"2016\",\"1980\",\"1988\",\"1992\",\"1996\",\"2000\",\"2004\",\"2008\",\"2012\",\"2016\",\"1976\",\"1980\",\"1984\",\"1988\",\"1992\",\"1996\",\"2000\",\"2004\",\"2008\",\"2012\",\"2016\",\"1976\",\"1980\",\"1984\",\"1988\",\"1992\",\"1996\",\"2000\",\"2004\",\"2008\",\"2012\",\"2016\",\"1976\",\"1980\",\"1984\",\"1988\",\"1992\",\"1996\",\"2000\",\"2004\",\"2008\",\"2012\",\"2016\",\"1976\",\"1980\",\"1988\",\"1992\",\"1996\",\"2000\",\"2004\",\"2008\",\"2016\",\"1980\",\"1984\",\"1988\",\"1992\",\"1996\",\"2000\",\"2004\",\"2008\",\"2012\",\"2016\",\"1976\",\"1980\",\"1988\",\"1992\",\"1996\",\"2000\",\"2004\",\"2008\",\"2012\",\"2016\",\"1980\",\"1988\",\"1992\",\"1996\",\"2000\",\"2004\",\"2008\",\"2012\",\"2016\",\"1976\",\"1980\",\"1992\",\"1996\",\"2000\",\"2004\",\"2008\",\"2012\",\"2016\",\"1976\",\"1980\",\"1984\",\"1988\",\"1992\",\"1996\",\"2000\",\"2004\",\"2008\",\"2012\",\"2016\",\"1976\",\"1984\",\"1988\",\"1992\",\"1996\",\"2000\",\"2004\",\"2008\",\"2012\",\"2016\",\"1976\",\"1980\",\"1984\",\"1988\",\"1992\",\"1996\",\"2000\",\"2004\",\"2008\",\"2012\",\"2016\",\"1976\",\"1980\",\"1984\",\"1988\",\"1992\",\"1996\",\"2000\",\"2004\",\"2008\",\"2012\",\"2016\",\"1984\",\"1988\",\"1992\",\"1996\",\"2000\",\"2004\",\"2008\",\"2012\",\"2016\",\"1980\",\"1988\",\"1992\",\"1996\",\"2000\",\"2004\",\"2008\",\"2012\",\"2016\",\"1976\",\"1980\",\"1988\",\"1992\",\"1996\",\"2000\",\"2004\",\"2008\",\"2012\",\"2016\",\"1976\",\"1980\",\"1984\",\"1988\",\"1992\",\"1996\",\"2000\",\"2004\",\"2008\",\"2012\",\"2016\",\"1976\",\"1980\",\"1984\",\"1988\",\"1992\",\"1996\",\"2000\",\"2004\",\"2008\",\"2012\",\"2016\",\"1976\",\"1980\",\"1988\",\"1992\",\"1996\",\"2000\",\"2004\",\"2008\",\"2012\",\"2016\",\"1976\",\"1980\",\"1984\",\"1988\",\"1992\",\"1996\",\"2000\",\"2004\",\"2008\",\"2012\",\"2016\",\"1980\",\"1988\",\"1992\",\"1996\",\"2000\",\"2004\",\"2008\",\"2016\",\"1976\",\"1980\",\"1984\",\"1988\",\"1992\",\"1996\",\"2000\",\"2004\",\"2008\",\"2012\",\"2016\",\"1988\",\"1992\",\"1996\",\"2000\",\"2004\",\"2008\",\"2012\",\"2016\",\"1976\",\"1980\",\"1984\",\"1988\",\"1992\",\"1996\",\"2000\",\"2004\",\"2008\",\"2012\",\"2016\",\"1980\",\"1988\",\"1992\",\"1996\",\"2000\",\"2004\",\"2008\",\"2012\",\"2016\",\"1980\",\"1984\",\"1988\",\"1992\",\"1996\",\"2000\",\"2004\",\"2008\",\"2012\",\"2016\",\"1976\",\"1980\",\"1984\",\"1988\",\"1992\",\"1996\",\"2000\",\"2004\",\"2008\",\"2012\",\"2016\",\"1984\",\"1988\",\"1992\",\"1996\",\"2000\",\"2004\",\"2008\",\"2012\",\"2016\",\"1976\",\"1980\",\"1984\",\"1988\",\"1992\",\"1996\",\"2000\",\"2004\",\"2008\",\"2012\",\"2016\",\"1976\",\"1980\",\"1984\",\"1988\",\"1992\",\"1996\",\"2000\",\"2004\",\"2008\",\"2012\",\"2016\",\"1980\",\"1988\",\"1992\",\"1996\",\"2000\",\"2004\",\"2008\",\"2012\",\"2016\",\"1976\",\"1980\",\"1984\",\"1988\",\"1992\",\"1996\",\"2000\",\"2004\",\"2008\",\"2012\",\"2016\",\"1980\",\"1988\",\"1992\",\"1996\",\"2000\",\"2004\",\"2008\",\"2012\",\"2016\",\"1976\",\"1980\",\"1984\",\"1988\",\"1992\",\"1996\",\"2000\",\"2004\",\"2008\",\"2012\",\"2016\",\"1980\",\"1984\",\"1988\",\"1992\",\"1996\",\"2000\",\"2004\",\"2008\",\"2012\",\"2016\",\"1980\",\"1984\",\"1988\",\"1992\",\"1996\",\"2000\",\"2004\",\"2008\",\"2012\",\"2016\",\"1976\",\"1980\",\"1988\",\"1992\",\"1996\",\"2000\",\"2004\",\"2008\",\"2012\",\"2016\",\"1976\",\"1980\",\"1988\",\"1992\",\"1996\",\"2000\",\"2004\",\"2008\",\"2012\",\"2016\",\"1980\",\"1988\",\"1992\",\"1996\",\"2000\",\"2004\",\"2008\",\"2012\",\"2016\",\"1980\",\"1984\",\"1988\",\"1992\",\"1996\",\"2000\",\"2004\",\"2008\",\"2012\",\"2016\",\"1976\",\"1984\",\"1988\",\"1992\",\"1996\",\"2000\",\"2004\",\"2008\",\"2012\",\"2016\",\"1988\",\"1992\",\"1996\",\"2000\",\"2004\",\"2008\",\"2012\",\"2016\",\"1980\",\"1984\",\"1988\",\"1992\",\"1996\",\"2000\",\"2004\",\"2008\",\"2012\",\"2016\",\"1976\",\"1980\",\"1984\",\"1988\",\"1992\",\"1996\",\"2000\",\"2004\",\"2008\",\"2012\",\"2016\",\"1980\",\"1984\",\"1988\",\"1992\",\"1996\",\"2000\",\"2004\",\"2008\",\"2012\",\"2016\",\"1980\",\"1984\",\"1988\",\"1992\",\"1996\",\"2000\",\"2004\",\"2008\",\"2012\",\"2016\",\"1988\",\"1992\",\"1996\",\"2000\",\"2008\",\"2016\",\"\",\"\",\"\",\"\",\"\",\"\",\"\",\"\",\"\",\"\",\"\"],\"values\":[40.321613,35.034674,36.941321,40.180882,40.952817,35.201229,35.153022,35.858475,35.623535,35.14891,41.120967,33.656677,34.288314,28.018256,31.118299,41.419908,39.10066,21.787392,33.011637,33.570066,45.013949,38.92711,42.353901,45.233846,44.002949,42.92815,43.983228,40.347879,52.054279,52.939159,44.305234000000006,46.05477,42.823934,32.926966,33.52097,42.797994,28.010388,38.947686,42.883798,48.764566,48.713991,46.403632,52.385393,57.522385,54.853727,54.91905,42.180101,24.913525,31.0,41.952605,39.511654,43.749865,39.381768,45.309328,51.302013,48.290802,43.64732,41.698014,32.831153,30.695356,40.7113,44.051756,49.016396,49.740238,50.968638,56.510289,53.670551,51.05077,33.370748,36.74326,34.832296,40.233436,46.301404,45.229964,47.686023,59.585339000000005,50.08618,36.81831,31.783757,35.808301,38.39614,46.23713,47.174946000000006,47.364931,48.108337,47.634723,46.39832,59.796546,48.568402,38.949382,38.814284,44.767056,40.539803000000006,41.540177,45.796409,43.65606,44.38727,36.287027,41.675536,43.686664,53.388279,52.079752,45.794949,59.752297,61.42352,51.88781,28.532182,23.957977,28.721845,30.727659000000003,26.858225,27.835825,32.100732,27.09037,29.68751,46.568122,40.353598,39.675961,45.433824,46.80532,50.610869,47.253009000000006,51.746566,59.354164,55.665689,50.97485,44.115426,36.119087,37.372362,36.793521000000005,38.665799,34.544446,36.95455,47.005797,42.112778000000006,37.3296,44.396444,33.458937,39.460832,51.348629,38.889839,47.453958,44.900912,46.264535,52.852666000000006,48.072818,40.87534,41.301737,26.411143,28.888068,34.883109000000005,36.712598,37.789317,35.187645,34.482297,38.483246,33.987826,36.81242,33.065294,41.791197,43.25922,45.657298,40.641904,38.181241,41.070429,38.72088,33.53967,36.86978,39.623911,38.129305,46.771096,39.244476,35.99788,41.531393,36.768243,37.1587,39.287709,35.645349,42.126039,34.291351,47.893072,45.534507,50.048318,55.215782,52.556736,46.01504,37.996590000000005,41.137857,36.0,45.944472,42.98602,51.392215,52.162341,53.865381000000006,58.011276,57.525837,59.92575,50.399871000000005,31.140320000000003,44.119005,48.431455,37.029205,57.458991000000005,55.10759,57.661592000000006,56.361476,56.852048,55.71963,41.721918,28.741635,43.626056,39.087293,47.323879,46.399564,48.691046,53.70322,49.748667,45.66772,50.399871000000005,31.597255,46.088834000000006,49.89779,41.663969,52.188213,44.708419,48.248413,52.376347,50.850344,46.96928,35.870002,37.076414,37.229225,39.189574,38.42805,37.824067,41.028078,41.43731,46.088928,37.222867,37.749237,41.91396,42.510403,47.004037,45.054595,45.337555,47.35975,42.372821,38.22606,36.983819,33.717977000000005,40.633789,32.346911,33.714633,44.86544,43.484368,32.673390000000005,33.370748,22.783342,26.931731,39.5896,30.607145000000003,36.553417,34.333161,31.525627000000004,37.480707,38.929304,33.61203,22.783342,33.449524,35.293839,42.691043,43.036997,45.188758,50.390004,49.93103,44.89117,28.762486,42.543725,32.119257,38.195925,50.101426,41.003838,48.624872,52.275229,48.49889,44.56515,37.091361,33.844507,32.496976000000004,40.924593,39.305388,48.820304,48.682663,48.995247,54.871929,52.229467,51.68812,36.962649,39.668694,41.953365000000005,47.593024,44.723852,44.911481,53.42745,49.905268,43.84036,49.313474,35.753233,38.551885,45.885133,48.076968,54.758489,52.79625,54.340684,61.370024,59.796929000000006,54.164730000000006,41.196529,46.157558,33.807644,41.989746,40.319437,43.845678,41.733597,43.381614,48.35763,46.504795,46.44271,23.779461,37.267997,31.136323,36.061334,34.51015,33.772825,44.243590000000005,38.780472,29.20324,53.398833,34.906983000000004,39.468842,41.268361,40.257081,47.250076,42.433913,47.973979,49.617053000000006,49.171259,42.63316,38.739904,38.603252000000005,37.494133000000005,39.532809,37.20398,32.688553000000006,35.542093,30.318942,30.795340000000003,43.190446,35.199058,38.4373,48.474516,39.925772,48.096447,44.507462,50.530961,54.806549,48.07413,45.89365,33.33068,40.310944,44.803587,41.349889000000005,49.045393,46.367906,48.729059,51.486452,49.881312,46.50476,35.264207,38.622482,46.607574,50.311493,54.644628,52.319718,54.849934,55.351109,55.353336,47.45552,48.704338,43.700094,39.120127,33.74447,40.93399,38.884246000000005,39.155158,42.876454,42.771209000000006,41.16662,43.200283,17.450183,40.672295,36.333398,41.031583000000005,33.539587,37.609466,42.894873,40.736824,32.46563,51.268399,39.917801,44.505269,44.996317,46.032948,42.342747,41.722512,38.939167,39.00087,38.029731,33.363964,42.587829,36.858955,40.749962,32.296191,35.652891,42.507628,38.706372,38.6247,34.506819,23.614176,31.227522,24.661515,33.763817,24.619824,24.109276,32.651839,24.505127,26.91846,41.675536,40.803584,52.366977,46.85579,49.357665,60.060211,59.85286,55.18666,29.742939,31.0,39.417478,35.497365,42.826149,42.210553,43.916727,50.345379,48.265883,47.26719,33.270395,32.373094,34.142811,42.971394,44.466954,47.449865,45.177247,51.681792,53.835668000000005,53.39461,50.27108,40.200027,44.393791,43.680941,44.298712,50.536458,42.258471,44.495975,40.809777,37.407189,28.61783,31.524793,35.545034,44.869765,39.933187,49.536554,43.910057,46.387916,52.66490699999999,49.892816,46.56556,27.823913,30.408792,37.603149,29.687844,33.176088,22.07957,1107.895427,1428.265039,1078.821745,1989.304494,1956.486454,2266.917015,2084.500771,2132.806537,2407.998183,2109.739449,2115.94179],\"type\":\"sunburst\"}],                        {\"template\":{\"data\":{\"histogram2dcontour\":[{\"type\":\"histogram2dcontour\",\"colorbar\":{\"outlinewidth\":0,\"ticks\":\"\"},\"colorscale\":[[0.0,\"#0d0887\"],[0.1111111111111111,\"#46039f\"],[0.2222222222222222,\"#7201a8\"],[0.3333333333333333,\"#9c179e\"],[0.4444444444444444,\"#bd3786\"],[0.5555555555555556,\"#d8576b\"],[0.6666666666666666,\"#ed7953\"],[0.7777777777777778,\"#fb9f3a\"],[0.8888888888888888,\"#fdca26\"],[1.0,\"#f0f921\"]]}],\"choropleth\":[{\"type\":\"choropleth\",\"colorbar\":{\"outlinewidth\":0,\"ticks\":\"\"}}],\"histogram2d\":[{\"type\":\"histogram2d\",\"colorbar\":{\"outlinewidth\":0,\"ticks\":\"\"},\"colorscale\":[[0.0,\"#0d0887\"],[0.1111111111111111,\"#46039f\"],[0.2222222222222222,\"#7201a8\"],[0.3333333333333333,\"#9c179e\"],[0.4444444444444444,\"#bd3786\"],[0.5555555555555556,\"#d8576b\"],[0.6666666666666666,\"#ed7953\"],[0.7777777777777778,\"#fb9f3a\"],[0.8888888888888888,\"#fdca26\"],[1.0,\"#f0f921\"]]}],\"heatmap\":[{\"type\":\"heatmap\",\"colorbar\":{\"outlinewidth\":0,\"ticks\":\"\"},\"colorscale\":[[0.0,\"#0d0887\"],[0.1111111111111111,\"#46039f\"],[0.2222222222222222,\"#7201a8\"],[0.3333333333333333,\"#9c179e\"],[0.4444444444444444,\"#bd3786\"],[0.5555555555555556,\"#d8576b\"],[0.6666666666666666,\"#ed7953\"],[0.7777777777777778,\"#fb9f3a\"],[0.8888888888888888,\"#fdca26\"],[1.0,\"#f0f921\"]]}],\"heatmapgl\":[{\"type\":\"heatmapgl\",\"colorbar\":{\"outlinewidth\":0,\"ticks\":\"\"},\"colorscale\":[[0.0,\"#0d0887\"],[0.1111111111111111,\"#46039f\"],[0.2222222222222222,\"#7201a8\"],[0.3333333333333333,\"#9c179e\"],[0.4444444444444444,\"#bd3786\"],[0.5555555555555556,\"#d8576b\"],[0.6666666666666666,\"#ed7953\"],[0.7777777777777778,\"#fb9f3a\"],[0.8888888888888888,\"#fdca26\"],[1.0,\"#f0f921\"]]}],\"contourcarpet\":[{\"type\":\"contourcarpet\",\"colorbar\":{\"outlinewidth\":0,\"ticks\":\"\"}}],\"contour\":[{\"type\":\"contour\",\"colorbar\":{\"outlinewidth\":0,\"ticks\":\"\"},\"colorscale\":[[0.0,\"#0d0887\"],[0.1111111111111111,\"#46039f\"],[0.2222222222222222,\"#7201a8\"],[0.3333333333333333,\"#9c179e\"],[0.4444444444444444,\"#bd3786\"],[0.5555555555555556,\"#d8576b\"],[0.6666666666666666,\"#ed7953\"],[0.7777777777777778,\"#fb9f3a\"],[0.8888888888888888,\"#fdca26\"],[1.0,\"#f0f921\"]]}],\"surface\":[{\"type\":\"surface\",\"colorbar\":{\"outlinewidth\":0,\"ticks\":\"\"},\"colorscale\":[[0.0,\"#0d0887\"],[0.1111111111111111,\"#46039f\"],[0.2222222222222222,\"#7201a8\"],[0.3333333333333333,\"#9c179e\"],[0.4444444444444444,\"#bd3786\"],[0.5555555555555556,\"#d8576b\"],[0.6666666666666666,\"#ed7953\"],[0.7777777777777778,\"#fb9f3a\"],[0.8888888888888888,\"#fdca26\"],[1.0,\"#f0f921\"]]}],\"mesh3d\":[{\"type\":\"mesh3d\",\"colorbar\":{\"outlinewidth\":0,\"ticks\":\"\"}}],\"scatter\":[{\"fillpattern\":{\"fillmode\":\"overlay\",\"size\":10,\"solidity\":0.2},\"type\":\"scatter\"}],\"parcoords\":[{\"type\":\"parcoords\",\"line\":{\"colorbar\":{\"outlinewidth\":0,\"ticks\":\"\"}}}],\"scatterpolargl\":[{\"type\":\"scatterpolargl\",\"marker\":{\"colorbar\":{\"outlinewidth\":0,\"ticks\":\"\"}}}],\"bar\":[{\"error_x\":{\"color\":\"#2a3f5f\"},\"error_y\":{\"color\":\"#2a3f5f\"},\"marker\":{\"line\":{\"color\":\"#E5ECF6\",\"width\":0.5},\"pattern\":{\"fillmode\":\"overlay\",\"size\":10,\"solidity\":0.2}},\"type\":\"bar\"}],\"scattergeo\":[{\"type\":\"scattergeo\",\"marker\":{\"colorbar\":{\"outlinewidth\":0,\"ticks\":\"\"}}}],\"scatterpolar\":[{\"type\":\"scatterpolar\",\"marker\":{\"colorbar\":{\"outlinewidth\":0,\"ticks\":\"\"}}}],\"histogram\":[{\"marker\":{\"pattern\":{\"fillmode\":\"overlay\",\"size\":10,\"solidity\":0.2}},\"type\":\"histogram\"}],\"scattergl\":[{\"type\":\"scattergl\",\"marker\":{\"colorbar\":{\"outlinewidth\":0,\"ticks\":\"\"}}}],\"scatter3d\":[{\"type\":\"scatter3d\",\"line\":{\"colorbar\":{\"outlinewidth\":0,\"ticks\":\"\"}},\"marker\":{\"colorbar\":{\"outlinewidth\":0,\"ticks\":\"\"}}}],\"scattermapbox\":[{\"type\":\"scattermapbox\",\"marker\":{\"colorbar\":{\"outlinewidth\":0,\"ticks\":\"\"}}}],\"scatterternary\":[{\"type\":\"scatterternary\",\"marker\":{\"colorbar\":{\"outlinewidth\":0,\"ticks\":\"\"}}}],\"scattercarpet\":[{\"type\":\"scattercarpet\",\"marker\":{\"colorbar\":{\"outlinewidth\":0,\"ticks\":\"\"}}}],\"carpet\":[{\"aaxis\":{\"endlinecolor\":\"#2a3f5f\",\"gridcolor\":\"white\",\"linecolor\":\"white\",\"minorgridcolor\":\"white\",\"startlinecolor\":\"#2a3f5f\"},\"baxis\":{\"endlinecolor\":\"#2a3f5f\",\"gridcolor\":\"white\",\"linecolor\":\"white\",\"minorgridcolor\":\"white\",\"startlinecolor\":\"#2a3f5f\"},\"type\":\"carpet\"}],\"table\":[{\"cells\":{\"fill\":{\"color\":\"#EBF0F8\"},\"line\":{\"color\":\"white\"}},\"header\":{\"fill\":{\"color\":\"#C8D4E3\"},\"line\":{\"color\":\"white\"}},\"type\":\"table\"}],\"barpolar\":[{\"marker\":{\"line\":{\"color\":\"#E5ECF6\",\"width\":0.5},\"pattern\":{\"fillmode\":\"overlay\",\"size\":10,\"solidity\":0.2}},\"type\":\"barpolar\"}],\"pie\":[{\"automargin\":true,\"type\":\"pie\"}]},\"layout\":{\"autotypenumbers\":\"strict\",\"colorway\":[\"#636efa\",\"#EF553B\",\"#00cc96\",\"#ab63fa\",\"#FFA15A\",\"#19d3f3\",\"#FF6692\",\"#B6E880\",\"#FF97FF\",\"#FECB52\"],\"font\":{\"color\":\"#2a3f5f\"},\"hovermode\":\"closest\",\"hoverlabel\":{\"align\":\"left\"},\"paper_bgcolor\":\"white\",\"plot_bgcolor\":\"#E5ECF6\",\"polar\":{\"bgcolor\":\"#E5ECF6\",\"angularaxis\":{\"gridcolor\":\"white\",\"linecolor\":\"white\",\"ticks\":\"\"},\"radialaxis\":{\"gridcolor\":\"white\",\"linecolor\":\"white\",\"ticks\":\"\"}},\"ternary\":{\"bgcolor\":\"#E5ECF6\",\"aaxis\":{\"gridcolor\":\"white\",\"linecolor\":\"white\",\"ticks\":\"\"},\"baxis\":{\"gridcolor\":\"white\",\"linecolor\":\"white\",\"ticks\":\"\"},\"caxis\":{\"gridcolor\":\"white\",\"linecolor\":\"white\",\"ticks\":\"\"}},\"coloraxis\":{\"colorbar\":{\"outlinewidth\":0,\"ticks\":\"\"}},\"colorscale\":{\"sequential\":[[0.0,\"#0d0887\"],[0.1111111111111111,\"#46039f\"],[0.2222222222222222,\"#7201a8\"],[0.3333333333333333,\"#9c179e\"],[0.4444444444444444,\"#bd3786\"],[0.5555555555555556,\"#d8576b\"],[0.6666666666666666,\"#ed7953\"],[0.7777777777777778,\"#fb9f3a\"],[0.8888888888888888,\"#fdca26\"],[1.0,\"#f0f921\"]],\"sequentialminus\":[[0.0,\"#0d0887\"],[0.1111111111111111,\"#46039f\"],[0.2222222222222222,\"#7201a8\"],[0.3333333333333333,\"#9c179e\"],[0.4444444444444444,\"#bd3786\"],[0.5555555555555556,\"#d8576b\"],[0.6666666666666666,\"#ed7953\"],[0.7777777777777778,\"#fb9f3a\"],[0.8888888888888888,\"#fdca26\"],[1.0,\"#f0f921\"]],\"diverging\":[[0,\"#8e0152\"],[0.1,\"#c51b7d\"],[0.2,\"#de77ae\"],[0.3,\"#f1b6da\"],[0.4,\"#fde0ef\"],[0.5,\"#f7f7f7\"],[0.6,\"#e6f5d0\"],[0.7,\"#b8e186\"],[0.8,\"#7fbc41\"],[0.9,\"#4d9221\"],[1,\"#276419\"]]},\"xaxis\":{\"gridcolor\":\"white\",\"linecolor\":\"white\",\"ticks\":\"\",\"title\":{\"standoff\":15},\"zerolinecolor\":\"white\",\"automargin\":true,\"zerolinewidth\":2},\"yaxis\":{\"gridcolor\":\"white\",\"linecolor\":\"white\",\"ticks\":\"\",\"title\":{\"standoff\":15},\"zerolinecolor\":\"white\",\"automargin\":true,\"zerolinewidth\":2},\"scene\":{\"xaxis\":{\"backgroundcolor\":\"#E5ECF6\",\"gridcolor\":\"white\",\"linecolor\":\"white\",\"showbackground\":true,\"ticks\":\"\",\"zerolinecolor\":\"white\",\"gridwidth\":2},\"yaxis\":{\"backgroundcolor\":\"#E5ECF6\",\"gridcolor\":\"white\",\"linecolor\":\"white\",\"showbackground\":true,\"ticks\":\"\",\"zerolinecolor\":\"white\",\"gridwidth\":2},\"zaxis\":{\"backgroundcolor\":\"#E5ECF6\",\"gridcolor\":\"white\",\"linecolor\":\"white\",\"showbackground\":true,\"ticks\":\"\",\"zerolinecolor\":\"white\",\"gridwidth\":2}},\"shapedefaults\":{\"line\":{\"color\":\"#2a3f5f\"}},\"annotationdefaults\":{\"arrowcolor\":\"#2a3f5f\",\"arrowhead\":0,\"arrowwidth\":1},\"geo\":{\"bgcolor\":\"white\",\"landcolor\":\"#E5ECF6\",\"subunitcolor\":\"white\",\"showland\":true,\"showlakes\":true,\"lakecolor\":\"white\"},\"title\":{\"x\":0.05},\"mapbox\":{\"style\":\"light\"}}},\"coloraxis\":{\"colorbar\":{\"title\":{\"text\":\"Diferencia\"}},\"colorscale\":[[0.0,\"#0d0887\"],[0.1111111111111111,\"#46039f\"],[0.2222222222222222,\"#7201a8\"],[0.3333333333333333,\"#9c179e\"],[0.4444444444444444,\"#bd3786\"],[0.5555555555555556,\"#d8576b\"],[0.6666666666666666,\"#ed7953\"],[0.7777777777777778,\"#fb9f3a\"],[0.8888888888888888,\"#fdca26\"],[1.0,\"#f0f921\"]]},\"legend\":{\"tracegroupgap\":0},\"margin\":{\"t\":60}},                        {\"responsive\": true}                    ).then(function(){\n",
              "                            \n",
              "var gd = document.getElementById('cbed43ea-b422-4411-a2f8-45d58aa8dcda');\n",
              "var x = new MutationObserver(function (mutations, observer) {{\n",
              "        var display = window.getComputedStyle(gd).display;\n",
              "        if (!display || display === 'none') {{\n",
              "            console.log([gd, 'removed!']);\n",
              "            Plotly.purge(gd);\n",
              "            observer.disconnect();\n",
              "        }}\n",
              "}});\n",
              "\n",
              "// Listen for the removal of the full notebook cells\n",
              "var notebookContainer = gd.closest('#notebook-container');\n",
              "if (notebookContainer) {{\n",
              "    x.observe(notebookContainer, {childList: true});\n",
              "}}\n",
              "\n",
              "// Listen for the clearing of the current output cell\n",
              "var outputEl = gd.closest('.output');\n",
              "if (outputEl) {{\n",
              "    x.observe(outputEl, {childList: true});\n",
              "}}\n",
              "\n",
              "                        })                };                            </script>        </div>\n",
              "</body>\n",
              "</html>"
            ]
          },
          "metadata": {}
        }
      ]
    },
    {
      "cell_type": "code",
      "source": [
        "px.sunburst(df,\n",
        "            values = \"Intencion_Voto\",\n",
        "            path = [\"Ganador\",\"Año\",\"Estado\"],\n",
        "            color = \"Diferencia\",\n",
        "            hover_name = \"Ganador\")"
      ],
      "metadata": {
        "colab": {
          "base_uri": "https://localhost:8080/",
          "height": 542
        },
        "id": "Yyd3AtJqliUJ",
        "outputId": "ccad4d4d-355e-47ca-e92c-7eb3cd41199f"
      },
      "id": "Yyd3AtJqliUJ",
      "execution_count": 35,
      "outputs": [
        {
          "output_type": "display_data",
          "data": {
            "text/html": [
              "<html>\n",
              "<head><meta charset=\"utf-8\" /></head>\n",
              "<body>\n",
              "    <div>            <script src=\"https://cdnjs.cloudflare.com/ajax/libs/mathjax/2.7.5/MathJax.js?config=TeX-AMS-MML_SVG\"></script><script type=\"text/javascript\">if (window.MathJax && window.MathJax.Hub && window.MathJax.Hub.Config) {window.MathJax.Hub.Config({SVG: {font: \"STIX-Web\"}});}</script>                <script type=\"text/javascript\">window.PlotlyConfig = {MathJaxConfig: 'local'};</script>\n",
              "        <script src=\"https://cdn.plot.ly/plotly-2.14.0.min.js\"></script>                <div id=\"19211187-f031-4143-a92f-c8b7ee0c02c4\" class=\"plotly-graph-div\" style=\"height:525px; width:100%;\"></div>            <script type=\"text/javascript\">                                    window.PLOTLYENV=window.PLOTLYENV || {};                                    if (document.getElementById(\"19211187-f031-4143-a92f-c8b7ee0c02c4\")) {                    Plotly.newPlot(                        \"19211187-f031-4143-a92f-c8b7ee0c02c4\",                        [{\"branchvalues\":\"total\",\"customdata\":[[-4.547308999999999],[-22.023985],[-18.538551],[-1.4558649999999955],[-5.939902000000004],[-17.564598000000004],[-21.625471000000005],[-22.424064],[-18.066787],[-21.18848],[-10.390892999999998],[0.5418000000000021],[-9.471848],[-22.979054],[-26.193216],[-14.184433000000006],[-6.079999999999998],[-23.387207],[-20.216916000000005],[-0.1559850000000011],[6.886496999999991],[-12.535011999999996],[-9.294016],[-4.139692000000004],[-8.522165999999999],[-2.699859999999994],[3.658324000000008],[-7.589976],[17.844488000000005],[18.084563],[-2.2236449999999905],[-3.820442],[-9.101824999999998],[-24.807177000000003],[-19.4925],[-3.270221999999997],[-14.065117999999998],[-16.310839],[-8.033823999999996],[17.150516999999997],[13.814598000000004],[3.6597280000000016],[10.734135000000004],[22.32009],[15.577813],[22.08415],[-1.3731909999999985],[-25.041932000000003],[-23.0],[-3.496305],[7.596597999999999],[3.4405399999999986],[-8.595186999999996],[-4.2787349999999975],[6.846433000000005],[0.5829039999999992],[2.8801500000000004],[-1.4696539999999985],[-3.5359300000000005],[-26.59231],[-0.417037999999998],[10.368108],[19.931291],[12.227488999999998],[11.380723999999994],[20.222026],[12.405382000000005],[14.50678],[2.4453219999999973],[-6.423568000000003],[-14.190244999999996],[7.456685999999998],[9.684802999999995],[1.0026910000000058],[7.267530000000002],[24.241347000000005],[13.95917],[-7.6793930000000055],[-30.071395000000003],[-21.742401],[-1.9200069999999911],[4.8610200000000034],[1.41781000000001],[-0.5771170000000012],[1.487583000000001],[-1.5462849999999977],[0.9193599999999977],[29.37976],[12.246155000000002],[-11.920596000000003],[1.6269670000000005],[2.8368909999999943],[-10.130298999999994],[-12.646300000000004],[-4.263896999999993],[-9.741931000000008],[-3.9287300000000016],[5.260771000000002],[7.651668],[17.324465],[22.326151000000003],[17.437287999999995],[2.455362000000001],[26.697252],[28.228406],[23.94357],[-18.699279],[-27.00368899999999],[-8.361484999999995],[-17.664632999999995],[-33.979927],[-29.752062],[-28.161555],[-35.708928],[-16.333560000000006],[-1.5707750000000047],[-3.414509000000002],[-12.543532],[-1.2084199999999967],[14.038367999999998],[16.276728000000006],[4.704612000000012],[8.84516399999999],[22.561789],[16.813627000000004],[14.387230000000002],[0.9120979999999932],[-15.599016999999995],[-13.803168999999993],[-4.803822999999994],[-2.010550000000002],[-19.742062999999995],[-20.308033],[-1.0016350000000074],[-10.958091999999986],[-12.93181],[-1.625155],[-10.894622999999996],[-12.419655999999996],[13.579386999999995],[4.459282999999999],[12.370793999999998],[0.3492510000000024],[-1.1527270000000058],[12.831879000000008],[1.492660999999998],[-4.252089999999996],[-4.802531999999999],[-22.420884000000004],[-26.34248],[-7.725975999999995],[-0.4253050000000016],[-11.73507],[-20.13307499999999],[-24.072205000000004],[-16.714812999999992],[-21.575878000000003],[-13.638709999999996],[-25.297862],[-5.525950999999999],[6.3741330000000005],[3.9228749999999977],[-13.023075000000008],[-18.920992],[-12.442097000000004],[-15.667569999999998],[-21.3273],[-12.143667],[-8.723192000000004],[1.7708060000000003],[11.000163],[-7.539564999999995],[-16.13722],[-10.611548],[-17.784088999999994],[-13.113149999999996],[-2.4188720000000004],[5.8944089999999925],[-3.8567570000000013],[6.448637999999999],[11.713541],[4.387054999999997],[7.342480999999999],[16.10917299999999],[10.439442],[6.674010000000003],[7.9798820000000035],[10.157388000000005],[-13.0],[-0.6433719999999994],[8.457335999999998],[14.465116000000002],[12.589847999999996],[12.59311400000001],[20.563285000000008],[20.041193],[32.56131],[14.428559000000009],[0.5268750000000004],[-4.7585029999999975],[6.746832000000005],[11.694029999999998],[30.27268100000001],[24.715432],[26.167804000000004],[18.349676],[17.556882],[27.67627000000001],[-3.3599999999999994],[-9.439073000000004],[-2.237392],[6.828844000000004],[12.6723],[2.1662279999999967],[3.661200000000001],[13.228950999999997],[4.240695999999993],[3.163620000000001],[14.114422000000005],[-0.1106919999999966],[1.3974600000000097],[7.643155],[5.512895],[20.539988],[3.716396000000003],[3.086267],[10.606981999999997],[6.147922999999998],[8.912939999999992],[-15.243476],[-19.050599],[-4.443715999999995],[-7.601223999999995],[-13.55162],[-16.426849000000004],[-11.106308999999996],[-7.807280000000006],[2.242735000000004],[-2.957156999999995],[-16.765569999999997],[-5.5348320000000015],[12.260505000000006],[9.819830999999994],[-2.803002],[-5.898392999999999],[-1.0068320000000028],[-11.804824999999994],[-12.11157],[-9.011197000000005],[1.7028239999999997],[0.3139830000000003],[-20.640563],[-23.039746000000008],[-5.089860000000002],[-8.859262000000001],[-18.03667],[-19.654472],[-32.393745],[-31.348517],[-5.980428000000003],[-9.516056],[-10.694604000000004],[-22.712822],[-29.4895],[-19.037500999999992],[-17.378053],[-17.786450000000002],[-20.383486],[-17.700569],[5.455144999999998],[0.1514260000000007],[-5.054579000000004],[-5.137164999999996],[5.449928],[3.175348999999997],[0.6799999999999997],[-14.404342000000003],[-8.033088],[-28.27175],[3.7847980000000025],[14.96553],[-4.454308999999995],[2.172914999999996],[10.795266999999996],[0.9322560000000024],[2.263620000000003],[-7.554365000000005],[-5.078495000000004],[-24.04026],[-10.379368],[7.558447999999999],[17.202364],[9.409332999999997],[7.192073999999998],[16.801347],[10.753379],[13.978319999999997],[-22.251212],[-9.515822999999996],[8.148655000000005],[13.893636],[0.8138769999999981],[-3.5184909999999974],[9.788864000000006],[6.44943],[4.945059999999998],[4.962136999999999],[4.05707],[-11.372017000000008],[0.1984650000000059],[19.45024],[25.89391700000001],[16.803188],[16.186413999999992],[28.224894],[23.670302000000007],[19.373690000000003],[0.6783209999999968],[7.012925000000003],[-28.442694],[-8.300449],[2.851999],[-1.9015029999999984],[-9.775023000000004],[-8.255886000000004],[0.8204289999999972],[-3.0766459999999967],[1.1001699999999983],[-25.403375999999998],[-14.247344000000004],[-7.671223000000005],[-5.144150999999994],[-15.266384000000002],[-24.769924000000003],[-1.2386059999999972],[-15.818188],[-26.21003],[11.390884999999997],[-7.481986999999996],[-18.648283000000006],[-8.170046],[1.95993],[6.075179999999995],[-7.532077000000001],[0.0381309999999999],[4.554623000000007],[2.0134079999999983],[-2.97195],[-14.441508000000006],[-16.809592999999992],[-5.705705999999999],[-6.945787000000004],[-18.875150000000005],[-29.48949199999999],[-24.802938999999995],[-29.933629],[-26.450140000000005],[2.6719230000000067],[-6.589210999999999],[-10.724055999999996],[1.0739459999999923],[10.250847999999994],[12.653893999999994],[0.0406319999999951],[5.249132000000003],[15.293245999999996],[5.376813999999996],[8.421640000000004],[-5.2913600000000045],[-14.835010000000002],[-3.565793999999997],[9.153842000000004],[13.030557000000002],[1.700616999999994],[1.3633819999999943],[7.917107999999999],[3.9350409999999982],[3.050139999999999],[10.578623],[-9.869456],[9.851874000000002],[23.466614],[29.895285000000005],[21.943951],[18.491644],[19.377548999999995],[21.619787],[11.319459999999998],[10.675171],[3.080945],[-14.885082999999996],[-8.717132],[-8.340697999999996],[-14.297985999999987],[-15.744027999999998],[-9.282267000000004],[-3.447905999999996],[-5.853520000000003],[1.2656049999999937],[-17.594745000000007],[-4.494734999999999],[1.450919999999989],[-4.165252999999993],[-20.723337],[-16.754250000000006],[-8.927742000000002],[-12.150841000000009],[-18.935390000000005],[9.351949000000005],[-11.038620999999992],[7.955710999999995],[2.957951999999999],[-1.966265],[-12.051133000000007],[-12.162144999999995],[-14.933208000000002],[-9.180100000000005],[-3.7756230000000035],[-26.369003],[-9.513224],[-0.2946179999999998],[-5.467395000000003],[-27.418452],[-22.840407],[-12.213815999999989],[-18.710111],[-9.70185],[-20.900797000000004],[-46.972194],[-33.60928200000001],[-14.538946],[-13.382453000000003],[-37.810292],[-44.19067100000001],[-26.45614299999999],[-46.162102],[-10.509300000000003],[-0.4664769999999976],[11.422218000000004],[16.847162999999995],[9.721018999999998],[9.208290000000003],[27.049164],[30.899871],[29.402519999999996],[-12.601536000000005],[-28.0],[-12.722485999999996],[-7.435288999999997],[1.072695000000003],[-8.331846999999996],[-5.850401999999996],[5.213853999999998],[0.9789280000000034],[5.412199999999999],[1.5366590000000038],[-8.194969],[-14.165518],[-4.295337999999994],[15.004827],[12.424927000000006],[0.1663519999999962],[6.324989000000002],[13.54928300000001],[11.179690999999996],[15.181009999999992],[11.312523000000002],[-10.110380999999997],[8.638100000000001],[14.439230000000004],[16.240345000000005],[-4.721699999999999],[-6.323636999999998],[-12.984065],[-16.754681999999995],[-27.23420000000001],[-2.9198739999999965],[-16.880119999999998],[-1.7431889999999939],[6.404734999999995],[14.595872999999996],[-2.286738],[-1.7171220000000034],[11.976871999999993],[3.752502999999997],[4.916080000000001],[-28.62067],[-3.954561000000005],[-7.238638999999999],[-29.012408],[-26.872840000000004],[-37.87742],[10.802525011033897],[-4.342908145103942],[8.083439911104046],[-7.712325183339898],[1.3974600000000097],[-18.453967530036405],[5.086142957676738],[-10.391172869613928],[9.931334334709394],[-3.7621426979577532],[14.479656548004241],[-5.361597908799963],[7.7787417961765435],[-12.996092779013628],[8.667799187156199],[-13.627128442457362],[14.565752113387404],[-12.493071731648584],[10.960632852346338],[-15.80212239603329],[14.711213741606434],[-10.120986071085325],[11.360498775793436],[-10.9568843633957]],\"domain\":{\"x\":[0.0,1.0],\"y\":[0.0,1.0]},\"hovertemplate\":\"<b>%{hovertext}</b><br><br>labels=%{label}<br>Intencion_Voto=%{value}<br>parent=%{parent}<br>id=%{id}<br>Diferencia=%{color}<extra></extra>\",\"hovertext\":[\"republican\",\"republican\",\"republican\",\"republican\",\"republican\",\"republican\",\"republican\",\"republican\",\"republican\",\"republican\",\"republican\",\"republican\",\"republican\",\"republican\",\"republican\",\"republican\",\"republican\",\"republican\",\"republican\",\"republican\",\"democrat\",\"republican\",\"republican\",\"republican\",\"republican\",\"republican\",\"republican\",\"republican\",\"democrat\",\"democrat\",\"republican\",\"republican\",\"republican\",\"republican\",\"republican\",\"republican\",\"republican\",\"republican\",\"republican\",\"democrat\",\"democrat\",\"democrat\",\"democrat\",\"democrat\",\"democrat\",\"democrat\",\"republican\",\"republican\",\"republican\",\"republican\",\"democrat\",\"republican\",\"republican\",\"republican\",\"democrat\",\"democrat\",\"democrat\",\"republican\",\"republican\",\"republican\",\"republican\",\"democrat\",\"democrat\",\"democrat\",\"democrat\",\"democrat\",\"democrat\",\"democrat\",\"democrat\",\"republican\",\"republican\",\"democrat\",\"democrat\",\"democrat\",\"democrat\",\"democrat\",\"democrat\",\"republican\",\"republican\",\"republican\",\"republican\",\"democrat\",\"republican\",\"republican\",\"democrat\",\"democrat\",\"republican\",\"democrat\",\"democrat\",\"republican\",\"democrat\",\"republican\",\"republican\",\"republican\",\"republican\",\"republican\",\"republican\",\"democrat\",\"democrat\",\"democrat\",\"democrat\",\"democrat\",\"democrat\",\"democrat\",\"democrat\",\"democrat\",\"republican\",\"republican\",\"republican\",\"republican\",\"republican\",\"republican\",\"republican\",\"republican\",\"republican\",\"republican\",\"republican\",\"republican\",\"republican\",\"democrat\",\"democrat\",\"democrat\",\"democrat\",\"democrat\",\"democrat\",\"democrat\",\"republican\",\"republican\",\"republican\",\"republican\",\"republican\",\"republican\",\"republican\",\"democrat\",\"republican\",\"republican\",\"republican\",\"republican\",\"republican\",\"democrat\",\"democrat\",\"democrat\",\"democrat\",\"republican\",\"democrat\",\"democrat\",\"republican\",\"republican\",\"republican\",\"republican\",\"republican\",\"republican\",\"republican\",\"republican\",\"republican\",\"republican\",\"republican\",\"republican\",\"republican\",\"republican\",\"democrat\",\"democrat\",\"republican\",\"republican\",\"republican\",\"republican\",\"republican\",\"republican\",\"republican\",\"democrat\",\"democrat\",\"republican\",\"republican\",\"republican\",\"republican\",\"republican\",\"republican\",\"republican\",\"republican\",\"democrat\",\"democrat\",\"democrat\",\"democrat\",\"democrat\",\"democrat\",\"democrat\",\"democrat\",\"democrat\",\"republican\",\"republican\",\"democrat\",\"democrat\",\"democrat\",\"democrat\",\"democrat\",\"democrat\",\"democrat\",\"democrat\",\"republican\",\"republican\",\"democrat\",\"democrat\",\"democrat\",\"democrat\",\"democrat\",\"democrat\",\"democrat\",\"democrat\",\"republican\",\"republican\",\"republican\",\"democrat\",\"democrat\",\"democrat\",\"democrat\",\"democrat\",\"democrat\",\"republican\",\"democrat\",\"democrat\",\"democrat\",\"democrat\",\"democrat\",\"democrat\",\"democrat\",\"democrat\",\"democrat\",\"democrat\",\"democrat\",\"republican\",\"republican\",\"republican\",\"republican\",\"republican\",\"republican\",\"republican\",\"republican\",\"democrat\",\"republican\",\"republican\",\"republican\",\"democrat\",\"democrat\",\"republican\",\"republican\",\"republican\",\"republican\",\"republican\",\"republican\",\"democrat\",\"republican\",\"republican\",\"republican\",\"republican\",\"republican\",\"republican\",\"republican\",\"republican\",\"republican\",\"republican\",\"republican\",\"republican\",\"republican\",\"republican\",\"republican\",\"republican\",\"republican\",\"republican\",\"republican\",\"democrat\",\"democrat\",\"republican\",\"republican\",\"democrat\",\"democrat\",\"democrat\",\"republican\",\"republican\",\"republican\",\"democrat\",\"democrat\",\"republican\",\"democrat\",\"democrat\",\"democrat\",\"democrat\",\"republican\",\"republican\",\"republican\",\"republican\",\"democrat\",\"democrat\",\"democrat\",\"democrat\",\"democrat\",\"democrat\",\"democrat\",\"republican\",\"republican\",\"democrat\",\"democrat\",\"democrat\",\"republican\",\"democrat\",\"democrat\",\"democrat\",\"democrat\",\"democrat\",\"republican\",\"democrat\",\"democrat\",\"democrat\",\"democrat\",\"democrat\",\"democrat\",\"democrat\",\"democrat\",\"democrat\",\"republican\",\"republican\",\"republican\",\"republican\",\"republican\",\"republican\",\"republican\",\"democrat\",\"republican\",\"republican\",\"republican\",\"republican\",\"republican\",\"republican\",\"republican\",\"republican\",\"republican\",\"republican\",\"republican\",\"democrat\",\"republican\",\"republican\",\"republican\",\"democrat\",\"democrat\",\"republican\",\"republican\",\"democrat\",\"democrat\",\"republican\",\"republican\",\"republican\",\"republican\",\"republican\",\"republican\",\"republican\",\"republican\",\"republican\",\"republican\",\"republican\",\"republican\",\"republican\",\"democrat\",\"democrat\",\"democrat\",\"democrat\",\"democrat\",\"democrat\",\"democrat\",\"democrat\",\"republican\",\"republican\",\"republican\",\"democrat\",\"democrat\",\"democrat\",\"democrat\",\"democrat\",\"democrat\",\"republican\",\"democrat\",\"republican\",\"democrat\",\"democrat\",\"democrat\",\"democrat\",\"democrat\",\"democrat\",\"democrat\",\"democrat\",\"democrat\",\"republican\",\"republican\",\"republican\",\"republican\",\"republican\",\"republican\",\"republican\",\"republican\",\"republican\",\"republican\",\"republican\",\"republican\",\"republican\",\"republican\",\"republican\",\"republican\",\"republican\",\"republican\",\"republican\",\"republican\",\"republican\",\"democrat\",\"democrat\",\"republican\",\"republican\",\"republican\",\"republican\",\"republican\",\"republican\",\"republican\",\"republican\",\"republican\",\"republican\",\"republican\",\"republican\",\"republican\",\"republican\",\"republican\",\"republican\",\"republican\",\"republican\",\"republican\",\"republican\",\"republican\",\"republican\",\"republican\",\"republican\",\"republican\",\"republican\",\"democrat\",\"democrat\",\"democrat\",\"democrat\",\"democrat\",\"democrat\",\"democrat\",\"republican\",\"republican\",\"republican\",\"republican\",\"republican\",\"republican\",\"republican\",\"democrat\",\"democrat\",\"democrat\",\"republican\",\"republican\",\"republican\",\"democrat\",\"democrat\",\"democrat\",\"democrat\",\"democrat\",\"democrat\",\"democrat\",\"democrat\",\"democrat\",\"republican\",\"democrat\",\"democrat\",\"democrat\",\"republican\",\"republican\",\"republican\",\"republican\",\"republican\",\"republican\",\"republican\",\"democrat\",\"democrat\",\"democrat\",\"democrat\",\"democrat\",\"democrat\",\"democrat\",\"republican\",\"republican\",\"republican\",\"republican\",\"republican\",\"republican\",\"republican\",\"democrat\",\"republican\",\"democrat\",\"republican\",\"democrat\",\"republican\",\"democrat\",\"republican\",\"democrat\",\"republican\",\"democrat\",\"republican\",\"democrat\",\"republican\",\"democrat\",\"republican\",\"democrat\",\"republican\",\"democrat\",\"republican\",\"democrat\",\"republican\",\"democrat\",\"republican\"],\"ids\":[\"republican/1980/Alabama\",\"republican/1984/Alabama\",\"republican/1988/Alabama\",\"republican/1992/Alabama\",\"republican/1996/Alabama\",\"republican/2000/Alabama\",\"republican/2004/Alabama\",\"republican/2008/Alabama\",\"republican/2012/Alabama\",\"republican/2016/Alabama\",\"republican/1988/Alaska\",\"republican/1992/Alaska\",\"republican/1996/Alaska\",\"republican/2000/Alaska\",\"republican/2004/Alaska\",\"republican/2008/Alaska\",\"republican/2016/Alaska\",\"republican/1980/Arizona\",\"republican/1988/Arizona\",\"republican/1992/Arizona\",\"democrat/1996/Arizona\",\"republican/2000/Arizona\",\"republican/2004/Arizona\",\"republican/2008/Arizona\",\"republican/2012/Arizona\",\"republican/2016/Arizona\",\"republican/1980/Arkansas\",\"republican/1988/Arkansas\",\"democrat/1992/Arkansas\",\"democrat/1996/Arkansas\",\"republican/2000/Arkansas\",\"republican/2004/Arkansas\",\"republican/2008/Arkansas\",\"republican/2012/Arkansas\",\"republican/2016/Arkansas\",\"republican/1976/California\",\"republican/1980/California\",\"republican/1984/California\",\"republican/1988/California\",\"democrat/1992/California\",\"democrat/1996/California\",\"democrat/2000/California\",\"democrat/2004/California\",\"democrat/2008/California\",\"democrat/2012/California\",\"democrat/2016/California\",\"republican/1976/Colorado\",\"republican/1980/Colorado\",\"republican/1984/Colorado\",\"republican/1988/Colorado\",\"democrat/1992/Colorado\",\"republican/1996/Colorado\",\"republican/2000/Colorado\",\"republican/2004/Colorado\",\"democrat/2008/Colorado\",\"democrat/2012/Colorado\",\"democrat/2016/Colorado\",\"republican/1976/Connecticut\",\"republican/1980/Connecticut\",\"republican/1984/Connecticut\",\"republican/1988/Connecticut\",\"democrat/1992/Connecticut\",\"democrat/1996/Connecticut\",\"democrat/2000/Connecticut\",\"democrat/2004/Connecticut\",\"democrat/2008/Connecticut\",\"democrat/2012/Connecticut\",\"democrat/2016/Connecticut\",\"democrat/1976/Delaware\",\"republican/1980/Delaware\",\"republican/1988/Delaware\",\"democrat/1992/Delaware\",\"democrat/1996/Delaware\",\"democrat/2000/Delaware\",\"democrat/2004/Delaware\",\"democrat/2008/Delaware\",\"democrat/2016/Delaware\",\"republican/1980/Florida\",\"republican/1984/Florida\",\"republican/1988/Florida\",\"republican/1992/Florida\",\"democrat/1996/Florida\",\"republican/2000/Florida\",\"republican/2004/Florida\",\"democrat/2008/Florida\",\"democrat/2012/Florida\",\"republican/2016/Florida\",\"democrat/1976/Georgia\",\"democrat/1980/Georgia\",\"republican/1988/Georgia\",\"democrat/1992/Georgia\",\"republican/1996/Georgia\",\"republican/2000/Georgia\",\"republican/2004/Georgia\",\"republican/2008/Georgia\",\"republican/2012/Georgia\",\"republican/2016/Georgia\",\"democrat/1980/Hawaii\",\"democrat/1988/Hawaii\",\"democrat/1992/Hawaii\",\"democrat/1996/Hawaii\",\"democrat/2000/Hawaii\",\"democrat/2004/Hawaii\",\"democrat/2008/Hawaii\",\"democrat/2012/Hawaii\",\"democrat/2016/Hawaii\",\"republican/1976/Idaho\",\"republican/1980/Idaho\",\"republican/1992/Idaho\",\"republican/1996/Idaho\",\"republican/2000/Idaho\",\"republican/2004/Idaho\",\"republican/2008/Idaho\",\"republican/2012/Idaho\",\"republican/2016/Idaho\",\"republican/1976/Illinois\",\"republican/1980/Illinois\",\"republican/1984/Illinois\",\"republican/1988/Illinois\",\"democrat/1992/Illinois\",\"democrat/1996/Illinois\",\"democrat/2000/Illinois\",\"democrat/2004/Illinois\",\"democrat/2008/Illinois\",\"democrat/2012/Illinois\",\"democrat/2016/Illinois\",\"republican/1976/Indiana\",\"republican/1984/Indiana\",\"republican/1988/Indiana\",\"republican/1992/Indiana\",\"republican/1996/Indiana\",\"republican/2000/Indiana\",\"republican/2004/Indiana\",\"democrat/2008/Indiana\",\"republican/2012/Indiana\",\"republican/2016/Indiana\",\"republican/1976/Iowa\",\"republican/1980/Iowa\",\"republican/1984/Iowa\",\"democrat/1988/Iowa\",\"democrat/1992/Iowa\",\"democrat/1996/Iowa\",\"democrat/2000/Iowa\",\"republican/2004/Iowa\",\"democrat/2008/Iowa\",\"democrat/2012/Iowa\",\"republican/2016/Iowa\",\"republican/1976/Kansas\",\"republican/1980/Kansas\",\"republican/1984/Kansas\",\"republican/1988/Kansas\",\"republican/1992/Kansas\",\"republican/1996/Kansas\",\"republican/2000/Kansas\",\"republican/2004/Kansas\",\"republican/2008/Kansas\",\"republican/2012/Kansas\",\"republican/2016/Kansas\",\"republican/1984/Kentucky\",\"republican/1988/Kentucky\",\"democrat/1992/Kentucky\",\"democrat/1996/Kentucky\",\"republican/2000/Kentucky\",\"republican/2004/Kentucky\",\"republican/2008/Kentucky\",\"republican/2012/Kentucky\",\"republican/2016/Kentucky\",\"republican/1980/Louisiana\",\"republican/1988/Louisiana\",\"democrat/1992/Louisiana\",\"democrat/1996/Louisiana\",\"republican/2000/Louisiana\",\"republican/2004/Louisiana\",\"republican/2008/Louisiana\",\"republican/2012/Louisiana\",\"republican/2016/Louisiana\",\"republican/1976/Maine\",\"republican/1980/Maine\",\"republican/1988/Maine\",\"democrat/1992/Maine\",\"democrat/1996/Maine\",\"democrat/2000/Maine\",\"democrat/2004/Maine\",\"democrat/2008/Maine\",\"democrat/2012/Maine\",\"democrat/2016/Maine\",\"democrat/1976/Maryland\",\"democrat/1980/Maryland\",\"republican/1984/Maryland\",\"republican/1988/Maryland\",\"democrat/1992/Maryland\",\"democrat/1996/Maryland\",\"democrat/2000/Maryland\",\"democrat/2004/Maryland\",\"democrat/2008/Maryland\",\"democrat/2012/Maryland\",\"democrat/2016/Maryland\",\"democrat/1976/Massachusetts\",\"republican/1980/Massachusetts\",\"republican/1984/Massachusetts\",\"democrat/1988/Massachusetts\",\"democrat/1992/Massachusetts\",\"democrat/1996/Massachusetts\",\"democrat/2000/Massachusetts\",\"democrat/2004/Massachusetts\",\"democrat/2008/Massachusetts\",\"democrat/2012/Massachusetts\",\"democrat/2016/Massachusetts\",\"republican/1976/Michigan\",\"republican/1980/Michigan\",\"republican/1988/Michigan\",\"democrat/1992/Michigan\",\"democrat/1996/Michigan\",\"democrat/2000/Michigan\",\"democrat/2004/Michigan\",\"democrat/2008/Michigan\",\"democrat/2012/Michigan\",\"republican/2016/Michigan\",\"democrat/1976/Minnesota\",\"democrat/1980/Minnesota\",\"democrat/1984/Minnesota\",\"democrat/1988/Minnesota\",\"democrat/1992/Minnesota\",\"democrat/1996/Minnesota\",\"democrat/2000/Minnesota\",\"democrat/2004/Minnesota\",\"democrat/2008/Minnesota\",\"democrat/2012/Minnesota\",\"democrat/2016/Minnesota\",\"republican/1980/Mississippi\",\"republican/1988/Mississippi\",\"republican/1992/Mississippi\",\"republican/1996/Mississippi\",\"republican/2000/Mississippi\",\"republican/2004/Mississippi\",\"republican/2008/Mississippi\",\"republican/2016/Mississippi\",\"democrat/1976/Missouri\",\"republican/1980/Missouri\",\"republican/1984/Missouri\",\"republican/1988/Missouri\",\"democrat/1992/Missouri\",\"democrat/1996/Missouri\",\"republican/2000/Missouri\",\"republican/2004/Missouri\",\"republican/2008/Missouri\",\"republican/2012/Missouri\",\"republican/2016/Missouri\",\"republican/1988/Montana\",\"democrat/1992/Montana\",\"republican/1996/Montana\",\"republican/2000/Montana\",\"republican/2004/Montana\",\"republican/2008/Montana\",\"republican/2012/Montana\",\"republican/2016/Montana\",\"republican/1976/Nebraska\",\"republican/1980/Nebraska\",\"republican/1984/Nebraska\",\"republican/1988/Nebraska\",\"republican/1992/Nebraska\",\"republican/1996/Nebraska\",\"republican/2000/Nebraska\",\"republican/2004/Nebraska\",\"republican/2008/Nebraska\",\"republican/2012/Nebraska\",\"republican/2016/Nebraska\",\"republican/1980/Nevada\",\"republican/1988/Nevada\",\"democrat/1992/Nevada\",\"democrat/1996/Nevada\",\"republican/2000/Nevada\",\"republican/2004/Nevada\",\"democrat/2008/Nevada\",\"democrat/2012/Nevada\",\"democrat/2016/Nevada\",\"republican/1980/New Hampshire\",\"republican/1984/New Hampshire\",\"republican/1988/New Hampshire\",\"democrat/1992/New Hampshire\",\"democrat/1996/New Hampshire\",\"republican/2000/New Hampshire\",\"democrat/2004/New Hampshire\",\"democrat/2008/New Hampshire\",\"democrat/2012/New Hampshire\",\"democrat/2016/New Hampshire\",\"republican/1976/New Jersey\",\"republican/1980/New Jersey\",\"republican/1984/New Jersey\",\"republican/1988/New Jersey\",\"democrat/1992/New Jersey\",\"democrat/1996/New Jersey\",\"democrat/2000/New Jersey\",\"democrat/2004/New Jersey\",\"democrat/2008/New Jersey\",\"democrat/2012/New Jersey\",\"democrat/2016/New Jersey\",\"republican/1984/New Mexico\",\"republican/1988/New Mexico\",\"democrat/1992/New Mexico\",\"democrat/1996/New Mexico\",\"democrat/2000/New Mexico\",\"republican/2004/New Mexico\",\"democrat/2008/New Mexico\",\"democrat/2012/New Mexico\",\"democrat/2016/New Mexico\",\"democrat/1976/New York\",\"democrat/1980/New York\",\"republican/1984/New York\",\"democrat/1988/New York\",\"democrat/1992/New York\",\"democrat/1996/New York\",\"democrat/2000/New York\",\"democrat/2004/New York\",\"democrat/2008/New York\",\"democrat/2012/New York\",\"democrat/2016/New York\",\"democrat/1976/North Carolina\",\"republican/1980/North Carolina\",\"republican/1984/North Carolina\",\"republican/1988/North Carolina\",\"republican/1992/North Carolina\",\"republican/1996/North Carolina\",\"republican/2000/North Carolina\",\"republican/2004/North Carolina\",\"democrat/2008/North Carolina\",\"republican/2012/North Carolina\",\"republican/2016/North Carolina\",\"republican/1980/North Dakota\",\"republican/1988/North Dakota\",\"republican/1992/North Dakota\",\"republican/1996/North Dakota\",\"republican/2000/North Dakota\",\"republican/2004/North Dakota\",\"republican/2008/North Dakota\",\"republican/2012/North Dakota\",\"republican/2016/North Dakota\",\"democrat/1976/Ohio\",\"republican/1980/Ohio\",\"republican/1984/Ohio\",\"republican/1988/Ohio\",\"democrat/1992/Ohio\",\"democrat/1996/Ohio\",\"republican/2000/Ohio\",\"republican/2004/Ohio\",\"democrat/2008/Ohio\",\"democrat/2012/Ohio\",\"republican/2016/Ohio\",\"republican/1980/Oklahoma\",\"republican/1988/Oklahoma\",\"republican/1992/Oklahoma\",\"republican/1996/Oklahoma\",\"republican/2000/Oklahoma\",\"republican/2004/Oklahoma\",\"republican/2008/Oklahoma\",\"republican/2012/Oklahoma\",\"republican/2016/Oklahoma\",\"republican/1976/Oregon\",\"republican/1980/Oregon\",\"republican/1984/Oregon\",\"democrat/1988/Oregon\",\"democrat/1992/Oregon\",\"democrat/1996/Oregon\",\"democrat/2000/Oregon\",\"democrat/2004/Oregon\",\"democrat/2008/Oregon\",\"democrat/2012/Oregon\",\"democrat/2016/Oregon\",\"republican/1980/Pennsylvania\",\"republican/1984/Pennsylvania\",\"republican/1988/Pennsylvania\",\"democrat/1992/Pennsylvania\",\"democrat/1996/Pennsylvania\",\"democrat/2000/Pennsylvania\",\"democrat/2004/Pennsylvania\",\"democrat/2008/Pennsylvania\",\"democrat/2012/Pennsylvania\",\"republican/2016/Pennsylvania\",\"democrat/1980/Rhode Island\",\"republican/1984/Rhode Island\",\"democrat/1988/Rhode Island\",\"democrat/1992/Rhode Island\",\"democrat/1996/Rhode Island\",\"democrat/2000/Rhode Island\",\"democrat/2004/Rhode Island\",\"democrat/2008/Rhode Island\",\"democrat/2012/Rhode Island\",\"democrat/2016/Rhode Island\",\"democrat/1976/South Carolina\",\"republican/1980/South Carolina\",\"republican/1988/South Carolina\",\"republican/1992/South Carolina\",\"republican/1996/South Carolina\",\"republican/2000/South Carolina\",\"republican/2004/South Carolina\",\"republican/2008/South Carolina\",\"republican/2012/South Carolina\",\"republican/2016/South Carolina\",\"republican/1976/South Dakota\",\"republican/1980/South Dakota\",\"republican/1988/South Dakota\",\"republican/1992/South Dakota\",\"republican/1996/South Dakota\",\"republican/2000/South Dakota\",\"republican/2004/South Dakota\",\"republican/2008/South Dakota\",\"republican/2012/South Dakota\",\"republican/2016/South Dakota\",\"republican/1980/Tennessee\",\"republican/1988/Tennessee\",\"democrat/1992/Tennessee\",\"democrat/1996/Tennessee\",\"republican/2000/Tennessee\",\"republican/2004/Tennessee\",\"republican/2008/Tennessee\",\"republican/2012/Tennessee\",\"republican/2016/Tennessee\",\"republican/1980/Texas\",\"republican/1984/Texas\",\"republican/1988/Texas\",\"republican/1992/Texas\",\"republican/1996/Texas\",\"republican/2000/Texas\",\"republican/2004/Texas\",\"republican/2008/Texas\",\"republican/2012/Texas\",\"republican/2016/Texas\",\"republican/1976/Utah\",\"republican/1984/Utah\",\"republican/1988/Utah\",\"republican/1992/Utah\",\"republican/1996/Utah\",\"republican/2000/Utah\",\"republican/2004/Utah\",\"republican/2008/Utah\",\"republican/2012/Utah\",\"republican/2016/Utah\",\"republican/1988/Vermont\",\"democrat/1992/Vermont\",\"democrat/1996/Vermont\",\"democrat/2000/Vermont\",\"democrat/2004/Vermont\",\"democrat/2008/Vermont\",\"democrat/2012/Vermont\",\"democrat/2016/Vermont\",\"republican/1980/Virginia\",\"republican/1984/Virginia\",\"republican/1988/Virginia\",\"republican/1992/Virginia\",\"republican/1996/Virginia\",\"republican/2000/Virginia\",\"republican/2004/Virginia\",\"democrat/2008/Virginia\",\"democrat/2012/Virginia\",\"democrat/2016/Virginia\",\"republican/1976/Washington\",\"republican/1980/Washington\",\"republican/1984/Washington\",\"democrat/1988/Washington\",\"democrat/1992/Washington\",\"democrat/1996/Washington\",\"democrat/2000/Washington\",\"democrat/2004/Washington\",\"democrat/2008/Washington\",\"democrat/2012/Washington\",\"democrat/2016/Washington\",\"democrat/1980/West Virginia\",\"republican/1984/West Virginia\",\"democrat/1988/West Virginia\",\"democrat/1992/West Virginia\",\"democrat/1996/West Virginia\",\"republican/2000/West Virginia\",\"republican/2004/West Virginia\",\"republican/2008/West Virginia\",\"republican/2012/West Virginia\",\"republican/2016/West Virginia\",\"republican/1980/Wisconsin\",\"republican/1984/Wisconsin\",\"democrat/1988/Wisconsin\",\"democrat/1992/Wisconsin\",\"democrat/1996/Wisconsin\",\"democrat/2000/Wisconsin\",\"democrat/2004/Wisconsin\",\"democrat/2008/Wisconsin\",\"democrat/2012/Wisconsin\",\"republican/2016/Wisconsin\",\"republican/1988/Wyoming\",\"republican/1992/Wyoming\",\"republican/1996/Wyoming\",\"republican/2000/Wyoming\",\"republican/2008/Wyoming\",\"republican/2016/Wyoming\",\"democrat/1976\",\"republican/1976\",\"democrat/1980\",\"republican/1980\",\"democrat/1984\",\"republican/1984\",\"democrat/1988\",\"republican/1988\",\"democrat/1992\",\"republican/1992\",\"democrat/1996\",\"republican/1996\",\"democrat/2000\",\"republican/2000\",\"democrat/2004\",\"republican/2004\",\"democrat/2008\",\"republican/2008\",\"democrat/2012\",\"republican/2012\",\"democrat/2016\",\"republican/2016\",\"democrat\",\"republican\"],\"labels\":[\"Alabama\",\"Alabama\",\"Alabama\",\"Alabama\",\"Alabama\",\"Alabama\",\"Alabama\",\"Alabama\",\"Alabama\",\"Alabama\",\"Alaska\",\"Alaska\",\"Alaska\",\"Alaska\",\"Alaska\",\"Alaska\",\"Alaska\",\"Arizona\",\"Arizona\",\"Arizona\",\"Arizona\",\"Arizona\",\"Arizona\",\"Arizona\",\"Arizona\",\"Arizona\",\"Arkansas\",\"Arkansas\",\"Arkansas\",\"Arkansas\",\"Arkansas\",\"Arkansas\",\"Arkansas\",\"Arkansas\",\"Arkansas\",\"California\",\"California\",\"California\",\"California\",\"California\",\"California\",\"California\",\"California\",\"California\",\"California\",\"California\",\"Colorado\",\"Colorado\",\"Colorado\",\"Colorado\",\"Colorado\",\"Colorado\",\"Colorado\",\"Colorado\",\"Colorado\",\"Colorado\",\"Colorado\",\"Connecticut\",\"Connecticut\",\"Connecticut\",\"Connecticut\",\"Connecticut\",\"Connecticut\",\"Connecticut\",\"Connecticut\",\"Connecticut\",\"Connecticut\",\"Connecticut\",\"Delaware\",\"Delaware\",\"Delaware\",\"Delaware\",\"Delaware\",\"Delaware\",\"Delaware\",\"Delaware\",\"Delaware\",\"Florida\",\"Florida\",\"Florida\",\"Florida\",\"Florida\",\"Florida\",\"Florida\",\"Florida\",\"Florida\",\"Florida\",\"Georgia\",\"Georgia\",\"Georgia\",\"Georgia\",\"Georgia\",\"Georgia\",\"Georgia\",\"Georgia\",\"Georgia\",\"Georgia\",\"Hawaii\",\"Hawaii\",\"Hawaii\",\"Hawaii\",\"Hawaii\",\"Hawaii\",\"Hawaii\",\"Hawaii\",\"Hawaii\",\"Idaho\",\"Idaho\",\"Idaho\",\"Idaho\",\"Idaho\",\"Idaho\",\"Idaho\",\"Idaho\",\"Idaho\",\"Illinois\",\"Illinois\",\"Illinois\",\"Illinois\",\"Illinois\",\"Illinois\",\"Illinois\",\"Illinois\",\"Illinois\",\"Illinois\",\"Illinois\",\"Indiana\",\"Indiana\",\"Indiana\",\"Indiana\",\"Indiana\",\"Indiana\",\"Indiana\",\"Indiana\",\"Indiana\",\"Indiana\",\"Iowa\",\"Iowa\",\"Iowa\",\"Iowa\",\"Iowa\",\"Iowa\",\"Iowa\",\"Iowa\",\"Iowa\",\"Iowa\",\"Iowa\",\"Kansas\",\"Kansas\",\"Kansas\",\"Kansas\",\"Kansas\",\"Kansas\",\"Kansas\",\"Kansas\",\"Kansas\",\"Kansas\",\"Kansas\",\"Kentucky\",\"Kentucky\",\"Kentucky\",\"Kentucky\",\"Kentucky\",\"Kentucky\",\"Kentucky\",\"Kentucky\",\"Kentucky\",\"Louisiana\",\"Louisiana\",\"Louisiana\",\"Louisiana\",\"Louisiana\",\"Louisiana\",\"Louisiana\",\"Louisiana\",\"Louisiana\",\"Maine\",\"Maine\",\"Maine\",\"Maine\",\"Maine\",\"Maine\",\"Maine\",\"Maine\",\"Maine\",\"Maine\",\"Maryland\",\"Maryland\",\"Maryland\",\"Maryland\",\"Maryland\",\"Maryland\",\"Maryland\",\"Maryland\",\"Maryland\",\"Maryland\",\"Maryland\",\"Massachusetts\",\"Massachusetts\",\"Massachusetts\",\"Massachusetts\",\"Massachusetts\",\"Massachusetts\",\"Massachusetts\",\"Massachusetts\",\"Massachusetts\",\"Massachusetts\",\"Massachusetts\",\"Michigan\",\"Michigan\",\"Michigan\",\"Michigan\",\"Michigan\",\"Michigan\",\"Michigan\",\"Michigan\",\"Michigan\",\"Michigan\",\"Minnesota\",\"Minnesota\",\"Minnesota\",\"Minnesota\",\"Minnesota\",\"Minnesota\",\"Minnesota\",\"Minnesota\",\"Minnesota\",\"Minnesota\",\"Minnesota\",\"Mississippi\",\"Mississippi\",\"Mississippi\",\"Mississippi\",\"Mississippi\",\"Mississippi\",\"Mississippi\",\"Mississippi\",\"Missouri\",\"Missouri\",\"Missouri\",\"Missouri\",\"Missouri\",\"Missouri\",\"Missouri\",\"Missouri\",\"Missouri\",\"Missouri\",\"Missouri\",\"Montana\",\"Montana\",\"Montana\",\"Montana\",\"Montana\",\"Montana\",\"Montana\",\"Montana\",\"Nebraska\",\"Nebraska\",\"Nebraska\",\"Nebraska\",\"Nebraska\",\"Nebraska\",\"Nebraska\",\"Nebraska\",\"Nebraska\",\"Nebraska\",\"Nebraska\",\"Nevada\",\"Nevada\",\"Nevada\",\"Nevada\",\"Nevada\",\"Nevada\",\"Nevada\",\"Nevada\",\"Nevada\",\"New Hampshire\",\"New Hampshire\",\"New Hampshire\",\"New Hampshire\",\"New Hampshire\",\"New Hampshire\",\"New Hampshire\",\"New Hampshire\",\"New Hampshire\",\"New Hampshire\",\"New Jersey\",\"New Jersey\",\"New Jersey\",\"New Jersey\",\"New Jersey\",\"New Jersey\",\"New Jersey\",\"New Jersey\",\"New Jersey\",\"New Jersey\",\"New Jersey\",\"New Mexico\",\"New Mexico\",\"New Mexico\",\"New Mexico\",\"New Mexico\",\"New Mexico\",\"New Mexico\",\"New Mexico\",\"New Mexico\",\"New York\",\"New York\",\"New York\",\"New York\",\"New York\",\"New York\",\"New York\",\"New York\",\"New York\",\"New York\",\"New York\",\"North Carolina\",\"North Carolina\",\"North Carolina\",\"North Carolina\",\"North Carolina\",\"North Carolina\",\"North Carolina\",\"North Carolina\",\"North Carolina\",\"North Carolina\",\"North Carolina\",\"North Dakota\",\"North Dakota\",\"North Dakota\",\"North Dakota\",\"North Dakota\",\"North Dakota\",\"North Dakota\",\"North Dakota\",\"North Dakota\",\"Ohio\",\"Ohio\",\"Ohio\",\"Ohio\",\"Ohio\",\"Ohio\",\"Ohio\",\"Ohio\",\"Ohio\",\"Ohio\",\"Ohio\",\"Oklahoma\",\"Oklahoma\",\"Oklahoma\",\"Oklahoma\",\"Oklahoma\",\"Oklahoma\",\"Oklahoma\",\"Oklahoma\",\"Oklahoma\",\"Oregon\",\"Oregon\",\"Oregon\",\"Oregon\",\"Oregon\",\"Oregon\",\"Oregon\",\"Oregon\",\"Oregon\",\"Oregon\",\"Oregon\",\"Pennsylvania\",\"Pennsylvania\",\"Pennsylvania\",\"Pennsylvania\",\"Pennsylvania\",\"Pennsylvania\",\"Pennsylvania\",\"Pennsylvania\",\"Pennsylvania\",\"Pennsylvania\",\"Rhode Island\",\"Rhode Island\",\"Rhode Island\",\"Rhode Island\",\"Rhode Island\",\"Rhode Island\",\"Rhode Island\",\"Rhode Island\",\"Rhode Island\",\"Rhode Island\",\"South Carolina\",\"South Carolina\",\"South Carolina\",\"South Carolina\",\"South Carolina\",\"South Carolina\",\"South Carolina\",\"South Carolina\",\"South Carolina\",\"South Carolina\",\"South Dakota\",\"South Dakota\",\"South Dakota\",\"South Dakota\",\"South Dakota\",\"South Dakota\",\"South Dakota\",\"South Dakota\",\"South Dakota\",\"South Dakota\",\"Tennessee\",\"Tennessee\",\"Tennessee\",\"Tennessee\",\"Tennessee\",\"Tennessee\",\"Tennessee\",\"Tennessee\",\"Tennessee\",\"Texas\",\"Texas\",\"Texas\",\"Texas\",\"Texas\",\"Texas\",\"Texas\",\"Texas\",\"Texas\",\"Texas\",\"Utah\",\"Utah\",\"Utah\",\"Utah\",\"Utah\",\"Utah\",\"Utah\",\"Utah\",\"Utah\",\"Utah\",\"Vermont\",\"Vermont\",\"Vermont\",\"Vermont\",\"Vermont\",\"Vermont\",\"Vermont\",\"Vermont\",\"Virginia\",\"Virginia\",\"Virginia\",\"Virginia\",\"Virginia\",\"Virginia\",\"Virginia\",\"Virginia\",\"Virginia\",\"Virginia\",\"Washington\",\"Washington\",\"Washington\",\"Washington\",\"Washington\",\"Washington\",\"Washington\",\"Washington\",\"Washington\",\"Washington\",\"Washington\",\"West Virginia\",\"West Virginia\",\"West Virginia\",\"West Virginia\",\"West Virginia\",\"West Virginia\",\"West Virginia\",\"West Virginia\",\"West Virginia\",\"West Virginia\",\"Wisconsin\",\"Wisconsin\",\"Wisconsin\",\"Wisconsin\",\"Wisconsin\",\"Wisconsin\",\"Wisconsin\",\"Wisconsin\",\"Wisconsin\",\"Wisconsin\",\"Wyoming\",\"Wyoming\",\"Wyoming\",\"Wyoming\",\"Wyoming\",\"Wyoming\",\"1976\",\"1976\",\"1980\",\"1980\",\"1984\",\"1984\",\"1988\",\"1988\",\"1992\",\"1992\",\"1996\",\"1996\",\"2000\",\"2000\",\"2004\",\"2004\",\"2008\",\"2008\",\"2012\",\"2012\",\"2016\",\"2016\",\"democrat\",\"republican\"],\"marker\":{\"coloraxis\":\"coloraxis\",\"colors\":[-4.547308999999999,-22.023985,-18.538551,-1.4558649999999955,-5.939902000000004,-17.564598000000004,-21.625471000000005,-22.424064,-18.066787,-21.18848,-10.390892999999998,0.5418000000000021,-9.471848,-22.979054,-26.193216,-14.184433000000006,-6.079999999999998,-23.387207,-20.216916000000005,-0.1559850000000011,6.886496999999991,-12.535011999999996,-9.294016,-4.139692000000004,-8.522165999999999,-2.699859999999994,3.658324000000008,-7.589976,17.844488000000005,18.084563,-2.2236449999999905,-3.820442,-9.101824999999998,-24.807177000000003,-19.4925,-3.270221999999997,-14.065117999999998,-16.310839,-8.033823999999996,17.150516999999997,13.814598000000004,3.6597280000000016,10.734135000000004,22.32009,15.577813,22.08415,-1.3731909999999985,-25.041932000000003,-23.0,-3.496305,7.596597999999999,3.4405399999999986,-8.595186999999996,-4.2787349999999975,6.846433000000005,0.5829039999999992,2.8801500000000004,-1.4696539999999985,-3.5359300000000005,-26.59231,-0.417037999999998,10.368108,19.931291,12.227488999999998,11.380723999999994,20.222026,12.405382000000005,14.50678,2.4453219999999973,-6.423568000000003,-14.190244999999996,7.456685999999998,9.684802999999995,1.0026910000000058,7.267530000000002,24.241347000000005,13.95917,-7.6793930000000055,-30.071395000000003,-21.742401,-1.9200069999999911,4.8610200000000034,1.41781000000001,-0.5771170000000012,1.487583000000001,-1.5462849999999977,0.9193599999999977,29.37976,12.246155000000002,-11.920596000000003,1.6269670000000005,2.8368909999999943,-10.130298999999994,-12.646300000000004,-4.263896999999993,-9.741931000000008,-3.9287300000000016,5.260771000000002,7.651668,17.324465,22.326151000000003,17.437287999999995,2.455362000000001,26.697252,28.228406,23.94357,-18.699279,-27.00368899999999,-8.361484999999995,-17.664632999999995,-33.979927,-29.752062,-28.161555,-35.708928,-16.333560000000006,-1.5707750000000047,-3.414509000000002,-12.543532,-1.2084199999999967,14.038367999999998,16.276728000000006,4.704612000000012,8.84516399999999,22.561789,16.813627000000004,14.387230000000002,0.9120979999999932,-15.599016999999995,-13.803168999999993,-4.803822999999994,-2.010550000000002,-19.742062999999995,-20.308033,-1.0016350000000074,-10.958091999999986,-12.93181,-1.625155,-10.894622999999996,-12.419655999999996,13.579386999999995,4.459282999999999,12.370793999999998,0.3492510000000024,-1.1527270000000058,12.831879000000008,1.492660999999998,-4.252089999999996,-4.802531999999999,-22.420884000000004,-26.34248,-7.725975999999995,-0.4253050000000016,-11.73507,-20.13307499999999,-24.072205000000004,-16.714812999999992,-21.575878000000003,-13.638709999999996,-25.297862,-5.525950999999999,6.3741330000000005,3.9228749999999977,-13.023075000000008,-18.920992,-12.442097000000004,-15.667569999999998,-21.3273,-12.143667,-8.723192000000004,1.7708060000000003,11.000163,-7.539564999999995,-16.13722,-10.611548,-17.784088999999994,-13.113149999999996,-2.4188720000000004,5.8944089999999925,-3.8567570000000013,6.448637999999999,11.713541,4.387054999999997,7.342480999999999,16.10917299999999,10.439442,6.674010000000003,7.9798820000000035,10.157388000000005,-13.0,-0.6433719999999994,8.457335999999998,14.465116000000002,12.589847999999996,12.59311400000001,20.563285000000008,20.041193,32.56131,14.428559000000009,0.5268750000000004,-4.7585029999999975,6.746832000000005,11.694029999999998,30.27268100000001,24.715432,26.167804000000004,18.349676,17.556882,27.67627000000001,-3.3599999999999994,-9.439073000000004,-2.237392,6.828844000000004,12.6723,2.1662279999999967,3.661200000000001,13.228950999999997,4.240695999999993,3.163620000000001,14.114422000000005,-0.1106919999999966,1.3974600000000097,7.643155,5.512895,20.539988,3.716396000000003,3.086267,10.606981999999997,6.147922999999998,8.912939999999992,-15.243476,-19.050599,-4.443715999999995,-7.601223999999995,-13.55162,-16.426849000000004,-11.106308999999996,-7.807280000000006,2.242735000000004,-2.957156999999995,-16.765569999999997,-5.5348320000000015,12.260505000000006,9.819830999999994,-2.803002,-5.898392999999999,-1.0068320000000028,-11.804824999999994,-12.11157,-9.011197000000005,1.7028239999999997,0.3139830000000003,-20.640563,-23.039746000000008,-5.089860000000002,-8.859262000000001,-18.03667,-19.654472,-32.393745,-31.348517,-5.980428000000003,-9.516056,-10.694604000000004,-22.712822,-29.4895,-19.037500999999992,-17.378053,-17.786450000000002,-20.383486,-17.700569,5.455144999999998,0.1514260000000007,-5.054579000000004,-5.137164999999996,5.449928,3.175348999999997,0.6799999999999997,-14.404342000000003,-8.033088,-28.27175,3.7847980000000025,14.96553,-4.454308999999995,2.172914999999996,10.795266999999996,0.9322560000000024,2.263620000000003,-7.554365000000005,-5.078495000000004,-24.04026,-10.379368,7.558447999999999,17.202364,9.409332999999997,7.192073999999998,16.801347,10.753379,13.978319999999997,-22.251212,-9.515822999999996,8.148655000000005,13.893636,0.8138769999999981,-3.5184909999999974,9.788864000000006,6.44943,4.945059999999998,4.962136999999999,4.05707,-11.372017000000008,0.1984650000000059,19.45024,25.89391700000001,16.803188,16.186413999999992,28.224894,23.670302000000007,19.373690000000003,0.6783209999999968,7.012925000000003,-28.442694,-8.300449,2.851999,-1.9015029999999984,-9.775023000000004,-8.255886000000004,0.8204289999999972,-3.0766459999999967,1.1001699999999983,-25.403375999999998,-14.247344000000004,-7.671223000000005,-5.144150999999994,-15.266384000000002,-24.769924000000003,-1.2386059999999972,-15.818188,-26.21003,11.390884999999997,-7.481986999999996,-18.648283000000006,-8.170046,1.95993,6.075179999999995,-7.532077000000001,0.0381309999999999,4.554623000000007,2.0134079999999983,-2.97195,-14.441508000000006,-16.809592999999992,-5.705705999999999,-6.945787000000004,-18.875150000000005,-29.48949199999999,-24.802938999999995,-29.933629,-26.450140000000005,2.6719230000000067,-6.589210999999999,-10.724055999999996,1.0739459999999923,10.250847999999994,12.653893999999994,0.0406319999999951,5.249132000000003,15.293245999999996,5.376813999999996,8.421640000000004,-5.2913600000000045,-14.835010000000002,-3.565793999999997,9.153842000000004,13.030557000000002,1.700616999999994,1.3633819999999943,7.917107999999999,3.9350409999999982,3.050139999999999,10.578623,-9.869456,9.851874000000002,23.466614,29.895285000000005,21.943951,18.491644,19.377548999999995,21.619787,11.319459999999998,10.675171,3.080945,-14.885082999999996,-8.717132,-8.340697999999996,-14.297985999999987,-15.744027999999998,-9.282267000000004,-3.447905999999996,-5.853520000000003,1.2656049999999937,-17.594745000000007,-4.494734999999999,1.450919999999989,-4.165252999999993,-20.723337,-16.754250000000006,-8.927742000000002,-12.150841000000009,-18.935390000000005,9.351949000000005,-11.038620999999992,7.955710999999995,2.957951999999999,-1.966265,-12.051133000000007,-12.162144999999995,-14.933208000000002,-9.180100000000005,-3.7756230000000035,-26.369003,-9.513224,-0.2946179999999998,-5.467395000000003,-27.418452,-22.840407,-12.213815999999989,-18.710111,-9.70185,-20.900797000000004,-46.972194,-33.60928200000001,-14.538946,-13.382453000000003,-37.810292,-44.19067100000001,-26.45614299999999,-46.162102,-10.509300000000003,-0.4664769999999976,11.422218000000004,16.847162999999995,9.721018999999998,9.208290000000003,27.049164,30.899871,29.402519999999996,-12.601536000000005,-28.0,-12.722485999999996,-7.435288999999997,1.072695000000003,-8.331846999999996,-5.850401999999996,5.213853999999998,0.9789280000000034,5.412199999999999,1.5366590000000038,-8.194969,-14.165518,-4.295337999999994,15.004827,12.424927000000006,0.1663519999999962,6.324989000000002,13.54928300000001,11.179690999999996,15.181009999999992,11.312523000000002,-10.110380999999997,8.638100000000001,14.439230000000004,16.240345000000005,-4.721699999999999,-6.323636999999998,-12.984065,-16.754681999999995,-27.23420000000001,-2.9198739999999965,-16.880119999999998,-1.7431889999999939,6.404734999999995,14.595872999999996,-2.286738,-1.7171220000000034,11.976871999999993,3.752502999999997,4.916080000000001,-28.62067,-3.954561000000005,-7.238638999999999,-29.012408,-26.872840000000004,-37.87742,10.802525011033897,-4.342908145103942,8.083439911104046,-7.712325183339898,1.3974600000000097,-18.453967530036405,5.086142957676738,-10.391172869613928,9.931334334709394,-3.7621426979577532,14.479656548004241,-5.361597908799963,7.7787417961765435,-12.996092779013628,8.667799187156199,-13.627128442457362,14.565752113387404,-12.493071731648584,10.960632852346338,-15.80212239603329,14.711213741606434,-10.120986071085325,11.360498775793436,-10.9568843633957]},\"name\":\"\",\"parents\":[\"republican/1980\",\"republican/1984\",\"republican/1988\",\"republican/1992\",\"republican/1996\",\"republican/2000\",\"republican/2004\",\"republican/2008\",\"republican/2012\",\"republican/2016\",\"republican/1988\",\"republican/1992\",\"republican/1996\",\"republican/2000\",\"republican/2004\",\"republican/2008\",\"republican/2016\",\"republican/1980\",\"republican/1988\",\"republican/1992\",\"democrat/1996\",\"republican/2000\",\"republican/2004\",\"republican/2008\",\"republican/2012\",\"republican/2016\",\"republican/1980\",\"republican/1988\",\"democrat/1992\",\"democrat/1996\",\"republican/2000\",\"republican/2004\",\"republican/2008\",\"republican/2012\",\"republican/2016\",\"republican/1976\",\"republican/1980\",\"republican/1984\",\"republican/1988\",\"democrat/1992\",\"democrat/1996\",\"democrat/2000\",\"democrat/2004\",\"democrat/2008\",\"democrat/2012\",\"democrat/2016\",\"republican/1976\",\"republican/1980\",\"republican/1984\",\"republican/1988\",\"democrat/1992\",\"republican/1996\",\"republican/2000\",\"republican/2004\",\"democrat/2008\",\"democrat/2012\",\"democrat/2016\",\"republican/1976\",\"republican/1980\",\"republican/1984\",\"republican/1988\",\"democrat/1992\",\"democrat/1996\",\"democrat/2000\",\"democrat/2004\",\"democrat/2008\",\"democrat/2012\",\"democrat/2016\",\"democrat/1976\",\"republican/1980\",\"republican/1988\",\"democrat/1992\",\"democrat/1996\",\"democrat/2000\",\"democrat/2004\",\"democrat/2008\",\"democrat/2016\",\"republican/1980\",\"republican/1984\",\"republican/1988\",\"republican/1992\",\"democrat/1996\",\"republican/2000\",\"republican/2004\",\"democrat/2008\",\"democrat/2012\",\"republican/2016\",\"democrat/1976\",\"democrat/1980\",\"republican/1988\",\"democrat/1992\",\"republican/1996\",\"republican/2000\",\"republican/2004\",\"republican/2008\",\"republican/2012\",\"republican/2016\",\"democrat/1980\",\"democrat/1988\",\"democrat/1992\",\"democrat/1996\",\"democrat/2000\",\"democrat/2004\",\"democrat/2008\",\"democrat/2012\",\"democrat/2016\",\"republican/1976\",\"republican/1980\",\"republican/1992\",\"republican/1996\",\"republican/2000\",\"republican/2004\",\"republican/2008\",\"republican/2012\",\"republican/2016\",\"republican/1976\",\"republican/1980\",\"republican/1984\",\"republican/1988\",\"democrat/1992\",\"democrat/1996\",\"democrat/2000\",\"democrat/2004\",\"democrat/2008\",\"democrat/2012\",\"democrat/2016\",\"republican/1976\",\"republican/1984\",\"republican/1988\",\"republican/1992\",\"republican/1996\",\"republican/2000\",\"republican/2004\",\"democrat/2008\",\"republican/2012\",\"republican/2016\",\"republican/1976\",\"republican/1980\",\"republican/1984\",\"democrat/1988\",\"democrat/1992\",\"democrat/1996\",\"democrat/2000\",\"republican/2004\",\"democrat/2008\",\"democrat/2012\",\"republican/2016\",\"republican/1976\",\"republican/1980\",\"republican/1984\",\"republican/1988\",\"republican/1992\",\"republican/1996\",\"republican/2000\",\"republican/2004\",\"republican/2008\",\"republican/2012\",\"republican/2016\",\"republican/1984\",\"republican/1988\",\"democrat/1992\",\"democrat/1996\",\"republican/2000\",\"republican/2004\",\"republican/2008\",\"republican/2012\",\"republican/2016\",\"republican/1980\",\"republican/1988\",\"democrat/1992\",\"democrat/1996\",\"republican/2000\",\"republican/2004\",\"republican/2008\",\"republican/2012\",\"republican/2016\",\"republican/1976\",\"republican/1980\",\"republican/1988\",\"democrat/1992\",\"democrat/1996\",\"democrat/2000\",\"democrat/2004\",\"democrat/2008\",\"democrat/2012\",\"democrat/2016\",\"democrat/1976\",\"democrat/1980\",\"republican/1984\",\"republican/1988\",\"democrat/1992\",\"democrat/1996\",\"democrat/2000\",\"democrat/2004\",\"democrat/2008\",\"democrat/2012\",\"democrat/2016\",\"democrat/1976\",\"republican/1980\",\"republican/1984\",\"democrat/1988\",\"democrat/1992\",\"democrat/1996\",\"democrat/2000\",\"democrat/2004\",\"democrat/2008\",\"democrat/2012\",\"democrat/2016\",\"republican/1976\",\"republican/1980\",\"republican/1988\",\"democrat/1992\",\"democrat/1996\",\"democrat/2000\",\"democrat/2004\",\"democrat/2008\",\"democrat/2012\",\"republican/2016\",\"democrat/1976\",\"democrat/1980\",\"democrat/1984\",\"democrat/1988\",\"democrat/1992\",\"democrat/1996\",\"democrat/2000\",\"democrat/2004\",\"democrat/2008\",\"democrat/2012\",\"democrat/2016\",\"republican/1980\",\"republican/1988\",\"republican/1992\",\"republican/1996\",\"republican/2000\",\"republican/2004\",\"republican/2008\",\"republican/2016\",\"democrat/1976\",\"republican/1980\",\"republican/1984\",\"republican/1988\",\"democrat/1992\",\"democrat/1996\",\"republican/2000\",\"republican/2004\",\"republican/2008\",\"republican/2012\",\"republican/2016\",\"republican/1988\",\"democrat/1992\",\"republican/1996\",\"republican/2000\",\"republican/2004\",\"republican/2008\",\"republican/2012\",\"republican/2016\",\"republican/1976\",\"republican/1980\",\"republican/1984\",\"republican/1988\",\"republican/1992\",\"republican/1996\",\"republican/2000\",\"republican/2004\",\"republican/2008\",\"republican/2012\",\"republican/2016\",\"republican/1980\",\"republican/1988\",\"democrat/1992\",\"democrat/1996\",\"republican/2000\",\"republican/2004\",\"democrat/2008\",\"democrat/2012\",\"democrat/2016\",\"republican/1980\",\"republican/1984\",\"republican/1988\",\"democrat/1992\",\"democrat/1996\",\"republican/2000\",\"democrat/2004\",\"democrat/2008\",\"democrat/2012\",\"democrat/2016\",\"republican/1976\",\"republican/1980\",\"republican/1984\",\"republican/1988\",\"democrat/1992\",\"democrat/1996\",\"democrat/2000\",\"democrat/2004\",\"democrat/2008\",\"democrat/2012\",\"democrat/2016\",\"republican/1984\",\"republican/1988\",\"democrat/1992\",\"democrat/1996\",\"democrat/2000\",\"republican/2004\",\"democrat/2008\",\"democrat/2012\",\"democrat/2016\",\"democrat/1976\",\"democrat/1980\",\"republican/1984\",\"democrat/1988\",\"democrat/1992\",\"democrat/1996\",\"democrat/2000\",\"democrat/2004\",\"democrat/2008\",\"democrat/2012\",\"democrat/2016\",\"democrat/1976\",\"republican/1980\",\"republican/1984\",\"republican/1988\",\"republican/1992\",\"republican/1996\",\"republican/2000\",\"republican/2004\",\"democrat/2008\",\"republican/2012\",\"republican/2016\",\"republican/1980\",\"republican/1988\",\"republican/1992\",\"republican/1996\",\"republican/2000\",\"republican/2004\",\"republican/2008\",\"republican/2012\",\"republican/2016\",\"democrat/1976\",\"republican/1980\",\"republican/1984\",\"republican/1988\",\"democrat/1992\",\"democrat/1996\",\"republican/2000\",\"republican/2004\",\"democrat/2008\",\"democrat/2012\",\"republican/2016\",\"republican/1980\",\"republican/1988\",\"republican/1992\",\"republican/1996\",\"republican/2000\",\"republican/2004\",\"republican/2008\",\"republican/2012\",\"republican/2016\",\"republican/1976\",\"republican/1980\",\"republican/1984\",\"democrat/1988\",\"democrat/1992\",\"democrat/1996\",\"democrat/2000\",\"democrat/2004\",\"democrat/2008\",\"democrat/2012\",\"democrat/2016\",\"republican/1980\",\"republican/1984\",\"republican/1988\",\"democrat/1992\",\"democrat/1996\",\"democrat/2000\",\"democrat/2004\",\"democrat/2008\",\"democrat/2012\",\"republican/2016\",\"democrat/1980\",\"republican/1984\",\"democrat/1988\",\"democrat/1992\",\"democrat/1996\",\"democrat/2000\",\"democrat/2004\",\"democrat/2008\",\"democrat/2012\",\"democrat/2016\",\"democrat/1976\",\"republican/1980\",\"republican/1988\",\"republican/1992\",\"republican/1996\",\"republican/2000\",\"republican/2004\",\"republican/2008\",\"republican/2012\",\"republican/2016\",\"republican/1976\",\"republican/1980\",\"republican/1988\",\"republican/1992\",\"republican/1996\",\"republican/2000\",\"republican/2004\",\"republican/2008\",\"republican/2012\",\"republican/2016\",\"republican/1980\",\"republican/1988\",\"democrat/1992\",\"democrat/1996\",\"republican/2000\",\"republican/2004\",\"republican/2008\",\"republican/2012\",\"republican/2016\",\"republican/1980\",\"republican/1984\",\"republican/1988\",\"republican/1992\",\"republican/1996\",\"republican/2000\",\"republican/2004\",\"republican/2008\",\"republican/2012\",\"republican/2016\",\"republican/1976\",\"republican/1984\",\"republican/1988\",\"republican/1992\",\"republican/1996\",\"republican/2000\",\"republican/2004\",\"republican/2008\",\"republican/2012\",\"republican/2016\",\"republican/1988\",\"democrat/1992\",\"democrat/1996\",\"democrat/2000\",\"democrat/2004\",\"democrat/2008\",\"democrat/2012\",\"democrat/2016\",\"republican/1980\",\"republican/1984\",\"republican/1988\",\"republican/1992\",\"republican/1996\",\"republican/2000\",\"republican/2004\",\"democrat/2008\",\"democrat/2012\",\"democrat/2016\",\"republican/1976\",\"republican/1980\",\"republican/1984\",\"democrat/1988\",\"democrat/1992\",\"democrat/1996\",\"democrat/2000\",\"democrat/2004\",\"democrat/2008\",\"democrat/2012\",\"democrat/2016\",\"democrat/1980\",\"republican/1984\",\"democrat/1988\",\"democrat/1992\",\"democrat/1996\",\"republican/2000\",\"republican/2004\",\"republican/2008\",\"republican/2012\",\"republican/2016\",\"republican/1980\",\"republican/1984\",\"democrat/1988\",\"democrat/1992\",\"democrat/1996\",\"democrat/2000\",\"democrat/2004\",\"democrat/2008\",\"democrat/2012\",\"republican/2016\",\"republican/1988\",\"republican/1992\",\"republican/1996\",\"republican/2000\",\"republican/2008\",\"republican/2016\",\"democrat\",\"republican\",\"democrat\",\"republican\",\"democrat\",\"republican\",\"democrat\",\"republican\",\"democrat\",\"republican\",\"democrat\",\"republican\",\"democrat\",\"republican\",\"democrat\",\"republican\",\"democrat\",\"republican\",\"democrat\",\"republican\",\"democrat\",\"republican\",\"\",\"\"],\"values\":[40.321613,35.034674,36.941321,40.180882,40.952817,35.201229,35.153022,35.858475,35.623535,35.14891,41.120967,33.656677,34.288314,28.018256,31.118299,41.419908,39.10066,21.787392,33.011637,33.570066,45.013949,38.92711,42.353901,45.233846,44.002949,42.92815,43.983228,40.347879,52.054279,52.939159,44.305234000000006,46.05477,42.823934,32.926966,33.52097,42.797994,28.010388,38.947686,42.883798,48.764566,48.713991,46.403632,52.385393,57.522385,54.853727,54.91905,42.180101,24.913525,31.0,41.952605,39.511654,43.749865,39.381768,45.309328,51.302013,48.290802,43.64732,41.698014,32.831153,30.695356,40.7113,44.051756,49.016396,49.740238,50.968638,56.510289,53.670551,51.05077,33.370748,36.74326,34.832296,40.233436,46.301404,45.229964,47.686023,59.585339000000005,50.08618,36.81831,31.783757,35.808301,38.39614,46.23713,47.174946000000006,47.364931,48.108337,47.634723,46.39832,59.796546,48.568402,38.949382,38.814284,44.767056,40.539803000000006,41.540177,45.796409,43.65606,44.38727,36.287027,41.675536,43.686664,53.388279,52.079752,45.794949,59.752297,61.42352,51.88781,28.532182,23.957977,28.721845,30.727659000000003,26.858225,27.835825,32.100732,27.09037,29.68751,46.568122,40.353598,39.675961,45.433824,46.80532,50.610869,47.253009000000006,51.746566,59.354164,55.665689,50.97485,44.115426,36.119087,37.372362,36.793521000000005,38.665799,34.544446,36.95455,47.005797,42.112778000000006,37.3296,44.396444,33.458937,39.460832,51.348629,38.889839,47.453958,44.900912,46.264535,52.852666000000006,48.072818,40.87534,41.301737,26.411143,28.888068,34.883109000000005,36.712598,37.789317,35.187645,34.482297,38.483246,33.987826,36.81242,33.065294,41.791197,43.25922,45.657298,40.641904,38.181241,41.070429,38.72088,33.53967,36.86978,39.623911,38.129305,46.771096,39.244476,35.99788,41.531393,36.768243,37.1587,39.287709,35.645349,42.126039,34.291351,47.893072,45.534507,50.048318,55.215782,52.556736,46.01504,37.996590000000005,41.137857,36.0,45.944472,42.98602,51.392215,52.162341,53.865381000000006,58.011276,57.525837,59.92575,50.399871000000005,31.140320000000003,44.119005,48.431455,37.029205,57.458991000000005,55.10759,57.661592000000006,56.361476,56.852048,55.71963,41.721918,28.741635,43.626056,39.087293,47.323879,46.399564,48.691046,53.70322,49.748667,45.66772,50.399871000000005,31.597255,46.088834000000006,49.89779,41.663969,52.188213,44.708419,48.248413,52.376347,50.850344,46.96928,35.870002,37.076414,37.229225,39.189574,38.42805,37.824067,41.028078,41.43731,46.088928,37.222867,37.749237,41.91396,42.510403,47.004037,45.054595,45.337555,47.35975,42.372821,38.22606,36.983819,33.717977000000005,40.633789,32.346911,33.714633,44.86544,43.484368,32.673390000000005,33.370748,22.783342,26.931731,39.5896,30.607145000000003,36.553417,34.333161,31.525627000000004,37.480707,38.929304,33.61203,22.783342,33.449524,35.293839,42.691043,43.036997,45.188758,50.390004,49.93103,44.89117,28.762486,42.543725,32.119257,38.195925,50.101426,41.003838,48.624872,52.275229,48.49889,44.56515,37.091361,33.844507,32.496976000000004,40.924593,39.305388,48.820304,48.682663,48.995247,54.871929,52.229467,51.68812,36.962649,39.668694,41.953365000000005,47.593024,44.723852,44.911481,53.42745,49.905268,43.84036,49.313474,35.753233,38.551885,45.885133,48.076968,54.758489,52.79625,54.340684,61.370024,59.796929000000006,54.164730000000006,41.196529,46.157558,33.807644,41.989746,40.319437,43.845678,41.733597,43.381614,48.35763,46.504795,46.44271,23.779461,37.267997,31.136323,36.061334,34.51015,33.772825,44.243590000000005,38.780472,29.20324,53.398833,34.906983000000004,39.468842,41.268361,40.257081,47.250076,42.433913,47.973979,49.617053000000006,49.171259,42.63316,38.739904,38.603252000000005,37.494133000000005,39.532809,37.20398,32.688553000000006,35.542093,30.318942,30.795340000000003,43.190446,35.199058,38.4373,48.474516,39.925772,48.096447,44.507462,50.530961,54.806549,48.07413,45.89365,33.33068,40.310944,44.803587,41.349889000000005,49.045393,46.367906,48.729059,51.486452,49.881312,46.50476,35.264207,38.622482,46.607574,50.311493,54.644628,52.319718,54.849934,55.351109,55.353336,47.45552,48.704338,43.700094,39.120127,33.74447,40.93399,38.884246000000005,39.155158,42.876454,42.771209000000006,41.16662,43.200283,17.450183,40.672295,36.333398,41.031583000000005,33.539587,37.609466,42.894873,40.736824,32.46563,51.268399,39.917801,44.505269,44.996317,46.032948,42.342747,41.722512,38.939167,39.00087,38.029731,33.363964,42.587829,36.858955,40.749962,32.296191,35.652891,42.507628,38.706372,38.6247,34.506819,23.614176,31.227522,24.661515,33.763817,24.619824,24.109276,32.651839,24.505127,26.91846,41.675536,40.803584,52.366977,46.85579,49.357665,60.060211,59.85286,55.18666,29.742939,31.0,39.417478,35.497365,42.826149,42.210553,43.916727,50.345379,48.265883,47.26719,33.270395,32.373094,34.142811,42.971394,44.466954,47.449865,45.177247,51.681792,53.835668000000005,53.39461,50.27108,40.200027,44.393791,43.680941,44.298712,50.536458,42.258471,44.495975,40.809777,37.407189,28.61783,31.524793,35.545034,44.869765,39.933187,49.536554,43.910057,46.387916,52.66490699999999,49.892816,46.56556,27.823913,30.408792,37.603149,29.687844,33.176088,22.07957,470.665728,637.229699,268.808008,1159.457031,46.088834000000006,1032.732911,463.842733,1525.461761,1334.163967,622.322487,1523.250937,743.666078,954.860873,1129.639898,960.594449,1172.212088,1516.520982,891.477201,1311.393252,798.3461970000001,996.41931,1119.52248,9846.609073,10832.067831],\"type\":\"sunburst\"}],                        {\"template\":{\"data\":{\"histogram2dcontour\":[{\"type\":\"histogram2dcontour\",\"colorbar\":{\"outlinewidth\":0,\"ticks\":\"\"},\"colorscale\":[[0.0,\"#0d0887\"],[0.1111111111111111,\"#46039f\"],[0.2222222222222222,\"#7201a8\"],[0.3333333333333333,\"#9c179e\"],[0.4444444444444444,\"#bd3786\"],[0.5555555555555556,\"#d8576b\"],[0.6666666666666666,\"#ed7953\"],[0.7777777777777778,\"#fb9f3a\"],[0.8888888888888888,\"#fdca26\"],[1.0,\"#f0f921\"]]}],\"choropleth\":[{\"type\":\"choropleth\",\"colorbar\":{\"outlinewidth\":0,\"ticks\":\"\"}}],\"histogram2d\":[{\"type\":\"histogram2d\",\"colorbar\":{\"outlinewidth\":0,\"ticks\":\"\"},\"colorscale\":[[0.0,\"#0d0887\"],[0.1111111111111111,\"#46039f\"],[0.2222222222222222,\"#7201a8\"],[0.3333333333333333,\"#9c179e\"],[0.4444444444444444,\"#bd3786\"],[0.5555555555555556,\"#d8576b\"],[0.6666666666666666,\"#ed7953\"],[0.7777777777777778,\"#fb9f3a\"],[0.8888888888888888,\"#fdca26\"],[1.0,\"#f0f921\"]]}],\"heatmap\":[{\"type\":\"heatmap\",\"colorbar\":{\"outlinewidth\":0,\"ticks\":\"\"},\"colorscale\":[[0.0,\"#0d0887\"],[0.1111111111111111,\"#46039f\"],[0.2222222222222222,\"#7201a8\"],[0.3333333333333333,\"#9c179e\"],[0.4444444444444444,\"#bd3786\"],[0.5555555555555556,\"#d8576b\"],[0.6666666666666666,\"#ed7953\"],[0.7777777777777778,\"#fb9f3a\"],[0.8888888888888888,\"#fdca26\"],[1.0,\"#f0f921\"]]}],\"heatmapgl\":[{\"type\":\"heatmapgl\",\"colorbar\":{\"outlinewidth\":0,\"ticks\":\"\"},\"colorscale\":[[0.0,\"#0d0887\"],[0.1111111111111111,\"#46039f\"],[0.2222222222222222,\"#7201a8\"],[0.3333333333333333,\"#9c179e\"],[0.4444444444444444,\"#bd3786\"],[0.5555555555555556,\"#d8576b\"],[0.6666666666666666,\"#ed7953\"],[0.7777777777777778,\"#fb9f3a\"],[0.8888888888888888,\"#fdca26\"],[1.0,\"#f0f921\"]]}],\"contourcarpet\":[{\"type\":\"contourcarpet\",\"colorbar\":{\"outlinewidth\":0,\"ticks\":\"\"}}],\"contour\":[{\"type\":\"contour\",\"colorbar\":{\"outlinewidth\":0,\"ticks\":\"\"},\"colorscale\":[[0.0,\"#0d0887\"],[0.1111111111111111,\"#46039f\"],[0.2222222222222222,\"#7201a8\"],[0.3333333333333333,\"#9c179e\"],[0.4444444444444444,\"#bd3786\"],[0.5555555555555556,\"#d8576b\"],[0.6666666666666666,\"#ed7953\"],[0.7777777777777778,\"#fb9f3a\"],[0.8888888888888888,\"#fdca26\"],[1.0,\"#f0f921\"]]}],\"surface\":[{\"type\":\"surface\",\"colorbar\":{\"outlinewidth\":0,\"ticks\":\"\"},\"colorscale\":[[0.0,\"#0d0887\"],[0.1111111111111111,\"#46039f\"],[0.2222222222222222,\"#7201a8\"],[0.3333333333333333,\"#9c179e\"],[0.4444444444444444,\"#bd3786\"],[0.5555555555555556,\"#d8576b\"],[0.6666666666666666,\"#ed7953\"],[0.7777777777777778,\"#fb9f3a\"],[0.8888888888888888,\"#fdca26\"],[1.0,\"#f0f921\"]]}],\"mesh3d\":[{\"type\":\"mesh3d\",\"colorbar\":{\"outlinewidth\":0,\"ticks\":\"\"}}],\"scatter\":[{\"fillpattern\":{\"fillmode\":\"overlay\",\"size\":10,\"solidity\":0.2},\"type\":\"scatter\"}],\"parcoords\":[{\"type\":\"parcoords\",\"line\":{\"colorbar\":{\"outlinewidth\":0,\"ticks\":\"\"}}}],\"scatterpolargl\":[{\"type\":\"scatterpolargl\",\"marker\":{\"colorbar\":{\"outlinewidth\":0,\"ticks\":\"\"}}}],\"bar\":[{\"error_x\":{\"color\":\"#2a3f5f\"},\"error_y\":{\"color\":\"#2a3f5f\"},\"marker\":{\"line\":{\"color\":\"#E5ECF6\",\"width\":0.5},\"pattern\":{\"fillmode\":\"overlay\",\"size\":10,\"solidity\":0.2}},\"type\":\"bar\"}],\"scattergeo\":[{\"type\":\"scattergeo\",\"marker\":{\"colorbar\":{\"outlinewidth\":0,\"ticks\":\"\"}}}],\"scatterpolar\":[{\"type\":\"scatterpolar\",\"marker\":{\"colorbar\":{\"outlinewidth\":0,\"ticks\":\"\"}}}],\"histogram\":[{\"marker\":{\"pattern\":{\"fillmode\":\"overlay\",\"size\":10,\"solidity\":0.2}},\"type\":\"histogram\"}],\"scattergl\":[{\"type\":\"scattergl\",\"marker\":{\"colorbar\":{\"outlinewidth\":0,\"ticks\":\"\"}}}],\"scatter3d\":[{\"type\":\"scatter3d\",\"line\":{\"colorbar\":{\"outlinewidth\":0,\"ticks\":\"\"}},\"marker\":{\"colorbar\":{\"outlinewidth\":0,\"ticks\":\"\"}}}],\"scattermapbox\":[{\"type\":\"scattermapbox\",\"marker\":{\"colorbar\":{\"outlinewidth\":0,\"ticks\":\"\"}}}],\"scatterternary\":[{\"type\":\"scatterternary\",\"marker\":{\"colorbar\":{\"outlinewidth\":0,\"ticks\":\"\"}}}],\"scattercarpet\":[{\"type\":\"scattercarpet\",\"marker\":{\"colorbar\":{\"outlinewidth\":0,\"ticks\":\"\"}}}],\"carpet\":[{\"aaxis\":{\"endlinecolor\":\"#2a3f5f\",\"gridcolor\":\"white\",\"linecolor\":\"white\",\"minorgridcolor\":\"white\",\"startlinecolor\":\"#2a3f5f\"},\"baxis\":{\"endlinecolor\":\"#2a3f5f\",\"gridcolor\":\"white\",\"linecolor\":\"white\",\"minorgridcolor\":\"white\",\"startlinecolor\":\"#2a3f5f\"},\"type\":\"carpet\"}],\"table\":[{\"cells\":{\"fill\":{\"color\":\"#EBF0F8\"},\"line\":{\"color\":\"white\"}},\"header\":{\"fill\":{\"color\":\"#C8D4E3\"},\"line\":{\"color\":\"white\"}},\"type\":\"table\"}],\"barpolar\":[{\"marker\":{\"line\":{\"color\":\"#E5ECF6\",\"width\":0.5},\"pattern\":{\"fillmode\":\"overlay\",\"size\":10,\"solidity\":0.2}},\"type\":\"barpolar\"}],\"pie\":[{\"automargin\":true,\"type\":\"pie\"}]},\"layout\":{\"autotypenumbers\":\"strict\",\"colorway\":[\"#636efa\",\"#EF553B\",\"#00cc96\",\"#ab63fa\",\"#FFA15A\",\"#19d3f3\",\"#FF6692\",\"#B6E880\",\"#FF97FF\",\"#FECB52\"],\"font\":{\"color\":\"#2a3f5f\"},\"hovermode\":\"closest\",\"hoverlabel\":{\"align\":\"left\"},\"paper_bgcolor\":\"white\",\"plot_bgcolor\":\"#E5ECF6\",\"polar\":{\"bgcolor\":\"#E5ECF6\",\"angularaxis\":{\"gridcolor\":\"white\",\"linecolor\":\"white\",\"ticks\":\"\"},\"radialaxis\":{\"gridcolor\":\"white\",\"linecolor\":\"white\",\"ticks\":\"\"}},\"ternary\":{\"bgcolor\":\"#E5ECF6\",\"aaxis\":{\"gridcolor\":\"white\",\"linecolor\":\"white\",\"ticks\":\"\"},\"baxis\":{\"gridcolor\":\"white\",\"linecolor\":\"white\",\"ticks\":\"\"},\"caxis\":{\"gridcolor\":\"white\",\"linecolor\":\"white\",\"ticks\":\"\"}},\"coloraxis\":{\"colorbar\":{\"outlinewidth\":0,\"ticks\":\"\"}},\"colorscale\":{\"sequential\":[[0.0,\"#0d0887\"],[0.1111111111111111,\"#46039f\"],[0.2222222222222222,\"#7201a8\"],[0.3333333333333333,\"#9c179e\"],[0.4444444444444444,\"#bd3786\"],[0.5555555555555556,\"#d8576b\"],[0.6666666666666666,\"#ed7953\"],[0.7777777777777778,\"#fb9f3a\"],[0.8888888888888888,\"#fdca26\"],[1.0,\"#f0f921\"]],\"sequentialminus\":[[0.0,\"#0d0887\"],[0.1111111111111111,\"#46039f\"],[0.2222222222222222,\"#7201a8\"],[0.3333333333333333,\"#9c179e\"],[0.4444444444444444,\"#bd3786\"],[0.5555555555555556,\"#d8576b\"],[0.6666666666666666,\"#ed7953\"],[0.7777777777777778,\"#fb9f3a\"],[0.8888888888888888,\"#fdca26\"],[1.0,\"#f0f921\"]],\"diverging\":[[0,\"#8e0152\"],[0.1,\"#c51b7d\"],[0.2,\"#de77ae\"],[0.3,\"#f1b6da\"],[0.4,\"#fde0ef\"],[0.5,\"#f7f7f7\"],[0.6,\"#e6f5d0\"],[0.7,\"#b8e186\"],[0.8,\"#7fbc41\"],[0.9,\"#4d9221\"],[1,\"#276419\"]]},\"xaxis\":{\"gridcolor\":\"white\",\"linecolor\":\"white\",\"ticks\":\"\",\"title\":{\"standoff\":15},\"zerolinecolor\":\"white\",\"automargin\":true,\"zerolinewidth\":2},\"yaxis\":{\"gridcolor\":\"white\",\"linecolor\":\"white\",\"ticks\":\"\",\"title\":{\"standoff\":15},\"zerolinecolor\":\"white\",\"automargin\":true,\"zerolinewidth\":2},\"scene\":{\"xaxis\":{\"backgroundcolor\":\"#E5ECF6\",\"gridcolor\":\"white\",\"linecolor\":\"white\",\"showbackground\":true,\"ticks\":\"\",\"zerolinecolor\":\"white\",\"gridwidth\":2},\"yaxis\":{\"backgroundcolor\":\"#E5ECF6\",\"gridcolor\":\"white\",\"linecolor\":\"white\",\"showbackground\":true,\"ticks\":\"\",\"zerolinecolor\":\"white\",\"gridwidth\":2},\"zaxis\":{\"backgroundcolor\":\"#E5ECF6\",\"gridcolor\":\"white\",\"linecolor\":\"white\",\"showbackground\":true,\"ticks\":\"\",\"zerolinecolor\":\"white\",\"gridwidth\":2}},\"shapedefaults\":{\"line\":{\"color\":\"#2a3f5f\"}},\"annotationdefaults\":{\"arrowcolor\":\"#2a3f5f\",\"arrowhead\":0,\"arrowwidth\":1},\"geo\":{\"bgcolor\":\"white\",\"landcolor\":\"#E5ECF6\",\"subunitcolor\":\"white\",\"showland\":true,\"showlakes\":true,\"lakecolor\":\"white\"},\"title\":{\"x\":0.05},\"mapbox\":{\"style\":\"light\"}}},\"coloraxis\":{\"colorbar\":{\"title\":{\"text\":\"Diferencia\"}},\"colorscale\":[[0.0,\"#0d0887\"],[0.1111111111111111,\"#46039f\"],[0.2222222222222222,\"#7201a8\"],[0.3333333333333333,\"#9c179e\"],[0.4444444444444444,\"#bd3786\"],[0.5555555555555556,\"#d8576b\"],[0.6666666666666666,\"#ed7953\"],[0.7777777777777778,\"#fb9f3a\"],[0.8888888888888888,\"#fdca26\"],[1.0,\"#f0f921\"]]},\"legend\":{\"tracegroupgap\":0},\"margin\":{\"t\":60}},                        {\"responsive\": true}                    ).then(function(){\n",
              "                            \n",
              "var gd = document.getElementById('19211187-f031-4143-a92f-c8b7ee0c02c4');\n",
              "var x = new MutationObserver(function (mutations, observer) {{\n",
              "        var display = window.getComputedStyle(gd).display;\n",
              "        if (!display || display === 'none') {{\n",
              "            console.log([gd, 'removed!']);\n",
              "            Plotly.purge(gd);\n",
              "            observer.disconnect();\n",
              "        }}\n",
              "}});\n",
              "\n",
              "// Listen for the removal of the full notebook cells\n",
              "var notebookContainer = gd.closest('#notebook-container');\n",
              "if (notebookContainer) {{\n",
              "    x.observe(notebookContainer, {childList: true});\n",
              "}}\n",
              "\n",
              "// Listen for the clearing of the current output cell\n",
              "var outputEl = gd.closest('.output');\n",
              "if (outputEl) {{\n",
              "    x.observe(outputEl, {childList: true});\n",
              "}}\n",
              "\n",
              "                        })                };                            </script>        </div>\n",
              "</body>\n",
              "</html>"
            ]
          },
          "metadata": {}
        }
      ]
    },
    {
      "cell_type": "markdown",
      "source": [
        "## **Treemap**"
      ],
      "metadata": {
        "id": "BfLLzZelv3mF"
      },
      "id": "BfLLzZelv3mF"
    },
    {
      "cell_type": "markdown",
      "source": [
        "https://plotly.com/python/treemaps/"
      ],
      "metadata": {
        "id": "lyYzDQ3dnhDm"
      },
      "id": "lyYzDQ3dnhDm"
    },
    {
      "cell_type": "code",
      "source": [
        "px.treemap(df,\n",
        "           values = \"Intencion_Voto\",\n",
        "           path = [\"Año\",\"Estado\"],\n",
        "           color = \"Diferencia\",\n",
        "           hover_name = \"Ganador\")"
      ],
      "metadata": {
        "colab": {
          "base_uri": "https://localhost:8080/",
          "height": 542
        },
        "id": "JoZKSR-rv4g_",
        "outputId": "716cfdb7-606e-4af8-ea5f-3e0dce50d749"
      },
      "id": "JoZKSR-rv4g_",
      "execution_count": 36,
      "outputs": [
        {
          "output_type": "display_data",
          "data": {
            "text/html": [
              "<html>\n",
              "<head><meta charset=\"utf-8\" /></head>\n",
              "<body>\n",
              "    <div>            <script src=\"https://cdnjs.cloudflare.com/ajax/libs/mathjax/2.7.5/MathJax.js?config=TeX-AMS-MML_SVG\"></script><script type=\"text/javascript\">if (window.MathJax && window.MathJax.Hub && window.MathJax.Hub.Config) {window.MathJax.Hub.Config({SVG: {font: \"STIX-Web\"}});}</script>                <script type=\"text/javascript\">window.PlotlyConfig = {MathJaxConfig: 'local'};</script>\n",
              "        <script src=\"https://cdn.plot.ly/plotly-2.14.0.min.js\"></script>                <div id=\"1980275d-e2e3-411b-b9d8-b61b05242e5f\" class=\"plotly-graph-div\" style=\"height:525px; width:100%;\"></div>            <script type=\"text/javascript\">                                    window.PLOTLYENV=window.PLOTLYENV || {};                                    if (document.getElementById(\"1980275d-e2e3-411b-b9d8-b61b05242e5f\")) {                    Plotly.newPlot(                        \"1980275d-e2e3-411b-b9d8-b61b05242e5f\",                        [{\"branchvalues\":\"total\",\"customdata\":[[-4.547308999999999],[-22.023985],[-18.538551],[-1.4558649999999955],[-5.939902000000004],[-17.564598000000004],[-21.625471000000005],[-22.424064],[-18.066787],[-21.18848],[-10.390892999999998],[0.5418000000000021],[-9.471848],[-22.979054],[-26.193216],[-14.184433000000006],[-6.079999999999998],[-23.387207],[-20.216916000000005],[-0.1559850000000011],[6.886496999999991],[-12.535011999999996],[-9.294016],[-4.139692000000004],[-8.522165999999999],[-2.699859999999994],[3.658324000000008],[-7.589976],[17.844488000000005],[18.084563],[-2.2236449999999905],[-3.820442],[-9.101824999999998],[-24.807177000000003],[-19.4925],[-3.270221999999997],[-14.065117999999998],[-16.310839],[-8.033823999999996],[17.150516999999997],[13.814598000000004],[3.6597280000000016],[10.734135000000004],[22.32009],[15.577813],[22.08415],[-1.3731909999999985],[-25.041932000000003],[-23.0],[-3.496305],[7.596597999999999],[3.4405399999999986],[-8.595186999999996],[-4.2787349999999975],[6.846433000000005],[0.5829039999999992],[2.8801500000000004],[-1.4696539999999985],[-3.5359300000000005],[-26.59231],[-0.417037999999998],[10.368108],[19.931291],[12.227488999999998],[11.380723999999994],[20.222026],[12.405382000000005],[14.50678],[2.4453219999999973],[-6.423568000000003],[-14.190244999999996],[7.456685999999998],[9.684802999999995],[1.0026910000000058],[7.267530000000002],[24.241347000000005],[13.95917],[-7.6793930000000055],[-30.071395000000003],[-21.742401],[-1.9200069999999911],[4.8610200000000034],[1.41781000000001],[-0.5771170000000012],[1.487583000000001],[-1.5462849999999977],[0.9193599999999977],[29.37976],[12.246155000000002],[-11.920596000000003],[1.6269670000000005],[2.8368909999999943],[-10.130298999999994],[-12.646300000000004],[-4.263896999999993],[-9.741931000000008],[-3.9287300000000016],[5.260771000000002],[7.651668],[17.324465],[22.326151000000003],[17.437287999999995],[2.455362000000001],[26.697252],[28.228406],[23.94357],[-18.699279],[-27.00368899999999],[-8.361484999999995],[-17.664632999999995],[-33.979927],[-29.752062],[-28.161555],[-35.708928],[-16.333560000000006],[-1.5707750000000047],[-3.414509000000002],[-12.543532],[-1.2084199999999967],[14.038367999999998],[16.276728000000006],[4.704612000000012],[8.84516399999999],[22.561789],[16.813627000000004],[14.387230000000002],[0.9120979999999932],[-15.599016999999995],[-13.803168999999993],[-4.803822999999994],[-2.010550000000002],[-19.742062999999995],[-20.308033],[-1.0016350000000074],[-10.958091999999986],[-12.93181],[-1.625155],[-10.894622999999996],[-12.419655999999996],[13.579386999999995],[4.459282999999999],[12.370793999999998],[0.3492510000000024],[-1.1527270000000058],[12.831879000000008],[1.492660999999998],[-4.252089999999996],[-4.802531999999999],[-22.420884000000004],[-26.34248],[-7.725975999999995],[-0.4253050000000016],[-11.73507],[-20.13307499999999],[-24.072205000000004],[-16.714812999999992],[-21.575878000000003],[-13.638709999999996],[-25.297862],[-5.525950999999999],[6.3741330000000005],[3.9228749999999977],[-13.023075000000008],[-18.920992],[-12.442097000000004],[-15.667569999999998],[-21.3273],[-12.143667],[-8.723192000000004],[1.7708060000000003],[11.000163],[-7.539564999999995],[-16.13722],[-10.611548],[-17.784088999999994],[-13.113149999999996],[-2.4188720000000004],[5.8944089999999925],[-3.8567570000000013],[6.448637999999999],[11.713541],[4.387054999999997],[7.342480999999999],[16.10917299999999],[10.439442],[6.674010000000003],[7.9798820000000035],[10.157388000000005],[-13.0],[-0.6433719999999994],[8.457335999999998],[14.465116000000002],[12.589847999999996],[12.59311400000001],[20.563285000000008],[20.041193],[32.56131],[14.428559000000009],[0.5268750000000004],[-4.7585029999999975],[6.746832000000005],[11.694029999999998],[30.27268100000001],[24.715432],[26.167804000000004],[18.349676],[17.556882],[27.67627000000001],[-3.3599999999999994],[-9.439073000000004],[-2.237392],[6.828844000000004],[12.6723],[2.1662279999999967],[3.661200000000001],[13.228950999999997],[4.240695999999993],[3.163620000000001],[14.114422000000005],[-0.1106919999999966],[1.3974600000000097],[7.643155],[5.512895],[20.539988],[3.716396000000003],[3.086267],[10.606981999999997],[6.147922999999998],[8.912939999999992],[-15.243476],[-19.050599],[-4.443715999999995],[-7.601223999999995],[-13.55162],[-16.426849000000004],[-11.106308999999996],[-7.807280000000006],[2.242735000000004],[-2.957156999999995],[-16.765569999999997],[-5.5348320000000015],[12.260505000000006],[9.819830999999994],[-2.803002],[-5.898392999999999],[-1.0068320000000028],[-11.804824999999994],[-12.11157],[-9.011197000000005],[1.7028239999999997],[0.3139830000000003],[-20.640563],[-23.039746000000008],[-5.089860000000002],[-8.859262000000001],[-18.03667],[-19.654472],[-32.393745],[-31.348517],[-5.980428000000003],[-9.516056],[-10.694604000000004],[-22.712822],[-29.4895],[-19.037500999999992],[-17.378053],[-17.786450000000002],[-20.383486],[-17.700569],[5.455144999999998],[0.1514260000000007],[-5.054579000000004],[-5.137164999999996],[5.449928],[3.175348999999997],[0.6799999999999997],[-14.404342000000003],[-8.033088],[-28.27175],[3.7847980000000025],[14.96553],[-4.454308999999995],[2.172914999999996],[10.795266999999996],[0.9322560000000024],[2.263620000000003],[-7.554365000000005],[-5.078495000000004],[-24.04026],[-10.379368],[7.558447999999999],[17.202364],[9.409332999999997],[7.192073999999998],[16.801347],[10.753379],[13.978319999999997],[-22.251212],[-9.515822999999996],[8.148655000000005],[13.893636],[0.8138769999999981],[-3.5184909999999974],[9.788864000000006],[6.44943],[4.945059999999998],[4.962136999999999],[4.05707],[-11.372017000000008],[0.1984650000000059],[19.45024],[25.89391700000001],[16.803188],[16.186413999999992],[28.224894],[23.670302000000007],[19.373690000000003],[0.6783209999999968],[7.012925000000003],[-28.442694],[-8.300449],[2.851999],[-1.9015029999999984],[-9.775023000000004],[-8.255886000000004],[0.8204289999999972],[-3.0766459999999967],[1.1001699999999983],[-25.403375999999998],[-14.247344000000004],[-7.671223000000005],[-5.144150999999994],[-15.266384000000002],[-24.769924000000003],[-1.2386059999999972],[-15.818188],[-26.21003],[11.390884999999997],[-7.481986999999996],[-18.648283000000006],[-8.170046],[1.95993],[6.075179999999995],[-7.532077000000001],[0.0381309999999999],[4.554623000000007],[2.0134079999999983],[-2.97195],[-14.441508000000006],[-16.809592999999992],[-5.705705999999999],[-6.945787000000004],[-18.875150000000005],[-29.48949199999999],[-24.802938999999995],[-29.933629],[-26.450140000000005],[2.6719230000000067],[-6.589210999999999],[-10.724055999999996],[1.0739459999999923],[10.250847999999994],[12.653893999999994],[0.0406319999999951],[5.249132000000003],[15.293245999999996],[5.376813999999996],[8.421640000000004],[-5.2913600000000045],[-14.835010000000002],[-3.565793999999997],[9.153842000000004],[13.030557000000002],[1.700616999999994],[1.3633819999999943],[7.917107999999999],[3.9350409999999982],[3.050139999999999],[10.578623],[-9.869456],[9.851874000000002],[23.466614],[29.895285000000005],[21.943951],[18.491644],[19.377548999999995],[21.619787],[11.319459999999998],[10.675171],[3.080945],[-14.885082999999996],[-8.717132],[-8.340697999999996],[-14.297985999999987],[-15.744027999999998],[-9.282267000000004],[-3.447905999999996],[-5.853520000000003],[1.2656049999999937],[-17.594745000000007],[-4.494734999999999],[1.450919999999989],[-4.165252999999993],[-20.723337],[-16.754250000000006],[-8.927742000000002],[-12.150841000000009],[-18.935390000000005],[9.351949000000005],[-11.038620999999992],[7.955710999999995],[2.957951999999999],[-1.966265],[-12.051133000000007],[-12.162144999999995],[-14.933208000000002],[-9.180100000000005],[-3.7756230000000035],[-26.369003],[-9.513224],[-0.2946179999999998],[-5.467395000000003],[-27.418452],[-22.840407],[-12.213815999999989],[-18.710111],[-9.70185],[-20.900797000000004],[-46.972194],[-33.60928200000001],[-14.538946],[-13.382453000000003],[-37.810292],[-44.19067100000001],[-26.45614299999999],[-46.162102],[-10.509300000000003],[-0.4664769999999976],[11.422218000000004],[16.847162999999995],[9.721018999999998],[9.208290000000003],[27.049164],[30.899871],[29.402519999999996],[-12.601536000000005],[-28.0],[-12.722485999999996],[-7.435288999999997],[1.072695000000003],[-8.331846999999996],[-5.850401999999996],[5.213853999999998],[0.9789280000000034],[5.412199999999999],[1.5366590000000038],[-8.194969],[-14.165518],[-4.295337999999994],[15.004827],[12.424927000000006],[0.1663519999999962],[6.324989000000002],[13.54928300000001],[11.179690999999996],[15.181009999999992],[11.312523000000002],[-10.110380999999997],[8.638100000000001],[14.439230000000004],[16.240345000000005],[-4.721699999999999],[-6.323636999999998],[-12.984065],[-16.754681999999995],[-27.23420000000001],[-2.9198739999999965],[-16.880119999999998],[-1.7431889999999939],[6.404734999999995],[14.595872999999996],[-2.286738],[-1.7171220000000034],[11.976871999999993],[3.752502999999997],[4.916080000000001],[-28.62067],[-3.954561000000005],[-7.238638999999999],[-29.012408],[-26.872840000000004],[-37.87742],[2.091305904873317],[-4.739467881696315],[-17.605885673756354],[-6.782353558901279],[5.575690233405127],[7.97069844020531],[-3.4796287148721685],[-3.585718989545737],[4.548167916678425],[0.8333425445725702],[1.5727587758106987]],\"domain\":{\"x\":[0.0,1.0],\"y\":[0.0,1.0]},\"hovertemplate\":\"<b>%{hovertext}</b><br><br>labels=%{label}<br>Intencion_Voto=%{value}<br>parent=%{parent}<br>id=%{id}<br>Diferencia=%{color}<extra></extra>\",\"hovertext\":[\"republican\",\"republican\",\"republican\",\"republican\",\"republican\",\"republican\",\"republican\",\"republican\",\"republican\",\"republican\",\"republican\",\"republican\",\"republican\",\"republican\",\"republican\",\"republican\",\"republican\",\"republican\",\"republican\",\"republican\",\"democrat\",\"republican\",\"republican\",\"republican\",\"republican\",\"republican\",\"republican\",\"republican\",\"democrat\",\"democrat\",\"republican\",\"republican\",\"republican\",\"republican\",\"republican\",\"republican\",\"republican\",\"republican\",\"republican\",\"democrat\",\"democrat\",\"democrat\",\"democrat\",\"democrat\",\"democrat\",\"democrat\",\"republican\",\"republican\",\"republican\",\"republican\",\"democrat\",\"republican\",\"republican\",\"republican\",\"democrat\",\"democrat\",\"democrat\",\"republican\",\"republican\",\"republican\",\"republican\",\"democrat\",\"democrat\",\"democrat\",\"democrat\",\"democrat\",\"democrat\",\"democrat\",\"democrat\",\"republican\",\"republican\",\"democrat\",\"democrat\",\"democrat\",\"democrat\",\"democrat\",\"democrat\",\"republican\",\"republican\",\"republican\",\"republican\",\"democrat\",\"republican\",\"republican\",\"democrat\",\"democrat\",\"republican\",\"democrat\",\"democrat\",\"republican\",\"democrat\",\"republican\",\"republican\",\"republican\",\"republican\",\"republican\",\"republican\",\"democrat\",\"democrat\",\"democrat\",\"democrat\",\"democrat\",\"democrat\",\"democrat\",\"democrat\",\"democrat\",\"republican\",\"republican\",\"republican\",\"republican\",\"republican\",\"republican\",\"republican\",\"republican\",\"republican\",\"republican\",\"republican\",\"republican\",\"republican\",\"democrat\",\"democrat\",\"democrat\",\"democrat\",\"democrat\",\"democrat\",\"democrat\",\"republican\",\"republican\",\"republican\",\"republican\",\"republican\",\"republican\",\"republican\",\"democrat\",\"republican\",\"republican\",\"republican\",\"republican\",\"republican\",\"democrat\",\"democrat\",\"democrat\",\"democrat\",\"republican\",\"democrat\",\"democrat\",\"republican\",\"republican\",\"republican\",\"republican\",\"republican\",\"republican\",\"republican\",\"republican\",\"republican\",\"republican\",\"republican\",\"republican\",\"republican\",\"republican\",\"democrat\",\"democrat\",\"republican\",\"republican\",\"republican\",\"republican\",\"republican\",\"republican\",\"republican\",\"democrat\",\"democrat\",\"republican\",\"republican\",\"republican\",\"republican\",\"republican\",\"republican\",\"republican\",\"republican\",\"democrat\",\"democrat\",\"democrat\",\"democrat\",\"democrat\",\"democrat\",\"democrat\",\"democrat\",\"democrat\",\"republican\",\"republican\",\"democrat\",\"democrat\",\"democrat\",\"democrat\",\"democrat\",\"democrat\",\"democrat\",\"democrat\",\"republican\",\"republican\",\"democrat\",\"democrat\",\"democrat\",\"democrat\",\"democrat\",\"democrat\",\"democrat\",\"democrat\",\"republican\",\"republican\",\"republican\",\"democrat\",\"democrat\",\"democrat\",\"democrat\",\"democrat\",\"democrat\",\"republican\",\"democrat\",\"democrat\",\"democrat\",\"democrat\",\"democrat\",\"democrat\",\"democrat\",\"democrat\",\"democrat\",\"democrat\",\"democrat\",\"republican\",\"republican\",\"republican\",\"republican\",\"republican\",\"republican\",\"republican\",\"republican\",\"democrat\",\"republican\",\"republican\",\"republican\",\"democrat\",\"democrat\",\"republican\",\"republican\",\"republican\",\"republican\",\"republican\",\"republican\",\"democrat\",\"republican\",\"republican\",\"republican\",\"republican\",\"republican\",\"republican\",\"republican\",\"republican\",\"republican\",\"republican\",\"republican\",\"republican\",\"republican\",\"republican\",\"republican\",\"republican\",\"republican\",\"republican\",\"republican\",\"democrat\",\"democrat\",\"republican\",\"republican\",\"democrat\",\"democrat\",\"democrat\",\"republican\",\"republican\",\"republican\",\"democrat\",\"democrat\",\"republican\",\"democrat\",\"democrat\",\"democrat\",\"democrat\",\"republican\",\"republican\",\"republican\",\"republican\",\"democrat\",\"democrat\",\"democrat\",\"democrat\",\"democrat\",\"democrat\",\"democrat\",\"republican\",\"republican\",\"democrat\",\"democrat\",\"democrat\",\"republican\",\"democrat\",\"democrat\",\"democrat\",\"democrat\",\"democrat\",\"republican\",\"democrat\",\"democrat\",\"democrat\",\"democrat\",\"democrat\",\"democrat\",\"democrat\",\"democrat\",\"democrat\",\"republican\",\"republican\",\"republican\",\"republican\",\"republican\",\"republican\",\"republican\",\"democrat\",\"republican\",\"republican\",\"republican\",\"republican\",\"republican\",\"republican\",\"republican\",\"republican\",\"republican\",\"republican\",\"republican\",\"democrat\",\"republican\",\"republican\",\"republican\",\"democrat\",\"democrat\",\"republican\",\"republican\",\"democrat\",\"democrat\",\"republican\",\"republican\",\"republican\",\"republican\",\"republican\",\"republican\",\"republican\",\"republican\",\"republican\",\"republican\",\"republican\",\"republican\",\"republican\",\"democrat\",\"democrat\",\"democrat\",\"democrat\",\"democrat\",\"democrat\",\"democrat\",\"democrat\",\"republican\",\"republican\",\"republican\",\"democrat\",\"democrat\",\"democrat\",\"democrat\",\"democrat\",\"democrat\",\"republican\",\"democrat\",\"republican\",\"democrat\",\"democrat\",\"democrat\",\"democrat\",\"democrat\",\"democrat\",\"democrat\",\"democrat\",\"democrat\",\"republican\",\"republican\",\"republican\",\"republican\",\"republican\",\"republican\",\"republican\",\"republican\",\"republican\",\"republican\",\"republican\",\"republican\",\"republican\",\"republican\",\"republican\",\"republican\",\"republican\",\"republican\",\"republican\",\"republican\",\"republican\",\"democrat\",\"democrat\",\"republican\",\"republican\",\"republican\",\"republican\",\"republican\",\"republican\",\"republican\",\"republican\",\"republican\",\"republican\",\"republican\",\"republican\",\"republican\",\"republican\",\"republican\",\"republican\",\"republican\",\"republican\",\"republican\",\"republican\",\"republican\",\"republican\",\"republican\",\"republican\",\"republican\",\"republican\",\"democrat\",\"democrat\",\"democrat\",\"democrat\",\"democrat\",\"democrat\",\"democrat\",\"republican\",\"republican\",\"republican\",\"republican\",\"republican\",\"republican\",\"republican\",\"democrat\",\"democrat\",\"democrat\",\"republican\",\"republican\",\"republican\",\"democrat\",\"democrat\",\"democrat\",\"democrat\",\"democrat\",\"democrat\",\"democrat\",\"democrat\",\"democrat\",\"republican\",\"democrat\",\"democrat\",\"democrat\",\"republican\",\"republican\",\"republican\",\"republican\",\"republican\",\"republican\",\"republican\",\"democrat\",\"democrat\",\"democrat\",\"democrat\",\"democrat\",\"democrat\",\"democrat\",\"republican\",\"republican\",\"republican\",\"republican\",\"republican\",\"republican\",\"republican\",\"(?)\",\"(?)\",\"(?)\",\"(?)\",\"(?)\",\"(?)\",\"(?)\",\"(?)\",\"(?)\",\"(?)\",\"(?)\"],\"ids\":[\"1980/Alabama\",\"1984/Alabama\",\"1988/Alabama\",\"1992/Alabama\",\"1996/Alabama\",\"2000/Alabama\",\"2004/Alabama\",\"2008/Alabama\",\"2012/Alabama\",\"2016/Alabama\",\"1988/Alaska\",\"1992/Alaska\",\"1996/Alaska\",\"2000/Alaska\",\"2004/Alaska\",\"2008/Alaska\",\"2016/Alaska\",\"1980/Arizona\",\"1988/Arizona\",\"1992/Arizona\",\"1996/Arizona\",\"2000/Arizona\",\"2004/Arizona\",\"2008/Arizona\",\"2012/Arizona\",\"2016/Arizona\",\"1980/Arkansas\",\"1988/Arkansas\",\"1992/Arkansas\",\"1996/Arkansas\",\"2000/Arkansas\",\"2004/Arkansas\",\"2008/Arkansas\",\"2012/Arkansas\",\"2016/Arkansas\",\"1976/California\",\"1980/California\",\"1984/California\",\"1988/California\",\"1992/California\",\"1996/California\",\"2000/California\",\"2004/California\",\"2008/California\",\"2012/California\",\"2016/California\",\"1976/Colorado\",\"1980/Colorado\",\"1984/Colorado\",\"1988/Colorado\",\"1992/Colorado\",\"1996/Colorado\",\"2000/Colorado\",\"2004/Colorado\",\"2008/Colorado\",\"2012/Colorado\",\"2016/Colorado\",\"1976/Connecticut\",\"1980/Connecticut\",\"1984/Connecticut\",\"1988/Connecticut\",\"1992/Connecticut\",\"1996/Connecticut\",\"2000/Connecticut\",\"2004/Connecticut\",\"2008/Connecticut\",\"2012/Connecticut\",\"2016/Connecticut\",\"1976/Delaware\",\"1980/Delaware\",\"1988/Delaware\",\"1992/Delaware\",\"1996/Delaware\",\"2000/Delaware\",\"2004/Delaware\",\"2008/Delaware\",\"2016/Delaware\",\"1980/Florida\",\"1984/Florida\",\"1988/Florida\",\"1992/Florida\",\"1996/Florida\",\"2000/Florida\",\"2004/Florida\",\"2008/Florida\",\"2012/Florida\",\"2016/Florida\",\"1976/Georgia\",\"1980/Georgia\",\"1988/Georgia\",\"1992/Georgia\",\"1996/Georgia\",\"2000/Georgia\",\"2004/Georgia\",\"2008/Georgia\",\"2012/Georgia\",\"2016/Georgia\",\"1980/Hawaii\",\"1988/Hawaii\",\"1992/Hawaii\",\"1996/Hawaii\",\"2000/Hawaii\",\"2004/Hawaii\",\"2008/Hawaii\",\"2012/Hawaii\",\"2016/Hawaii\",\"1976/Idaho\",\"1980/Idaho\",\"1992/Idaho\",\"1996/Idaho\",\"2000/Idaho\",\"2004/Idaho\",\"2008/Idaho\",\"2012/Idaho\",\"2016/Idaho\",\"1976/Illinois\",\"1980/Illinois\",\"1984/Illinois\",\"1988/Illinois\",\"1992/Illinois\",\"1996/Illinois\",\"2000/Illinois\",\"2004/Illinois\",\"2008/Illinois\",\"2012/Illinois\",\"2016/Illinois\",\"1976/Indiana\",\"1984/Indiana\",\"1988/Indiana\",\"1992/Indiana\",\"1996/Indiana\",\"2000/Indiana\",\"2004/Indiana\",\"2008/Indiana\",\"2012/Indiana\",\"2016/Indiana\",\"1976/Iowa\",\"1980/Iowa\",\"1984/Iowa\",\"1988/Iowa\",\"1992/Iowa\",\"1996/Iowa\",\"2000/Iowa\",\"2004/Iowa\",\"2008/Iowa\",\"2012/Iowa\",\"2016/Iowa\",\"1976/Kansas\",\"1980/Kansas\",\"1984/Kansas\",\"1988/Kansas\",\"1992/Kansas\",\"1996/Kansas\",\"2000/Kansas\",\"2004/Kansas\",\"2008/Kansas\",\"2012/Kansas\",\"2016/Kansas\",\"1984/Kentucky\",\"1988/Kentucky\",\"1992/Kentucky\",\"1996/Kentucky\",\"2000/Kentucky\",\"2004/Kentucky\",\"2008/Kentucky\",\"2012/Kentucky\",\"2016/Kentucky\",\"1980/Louisiana\",\"1988/Louisiana\",\"1992/Louisiana\",\"1996/Louisiana\",\"2000/Louisiana\",\"2004/Louisiana\",\"2008/Louisiana\",\"2012/Louisiana\",\"2016/Louisiana\",\"1976/Maine\",\"1980/Maine\",\"1988/Maine\",\"1992/Maine\",\"1996/Maine\",\"2000/Maine\",\"2004/Maine\",\"2008/Maine\",\"2012/Maine\",\"2016/Maine\",\"1976/Maryland\",\"1980/Maryland\",\"1984/Maryland\",\"1988/Maryland\",\"1992/Maryland\",\"1996/Maryland\",\"2000/Maryland\",\"2004/Maryland\",\"2008/Maryland\",\"2012/Maryland\",\"2016/Maryland\",\"1976/Massachusetts\",\"1980/Massachusetts\",\"1984/Massachusetts\",\"1988/Massachusetts\",\"1992/Massachusetts\",\"1996/Massachusetts\",\"2000/Massachusetts\",\"2004/Massachusetts\",\"2008/Massachusetts\",\"2012/Massachusetts\",\"2016/Massachusetts\",\"1976/Michigan\",\"1980/Michigan\",\"1988/Michigan\",\"1992/Michigan\",\"1996/Michigan\",\"2000/Michigan\",\"2004/Michigan\",\"2008/Michigan\",\"2012/Michigan\",\"2016/Michigan\",\"1976/Minnesota\",\"1980/Minnesota\",\"1984/Minnesota\",\"1988/Minnesota\",\"1992/Minnesota\",\"1996/Minnesota\",\"2000/Minnesota\",\"2004/Minnesota\",\"2008/Minnesota\",\"2012/Minnesota\",\"2016/Minnesota\",\"1980/Mississippi\",\"1988/Mississippi\",\"1992/Mississippi\",\"1996/Mississippi\",\"2000/Mississippi\",\"2004/Mississippi\",\"2008/Mississippi\",\"2016/Mississippi\",\"1976/Missouri\",\"1980/Missouri\",\"1984/Missouri\",\"1988/Missouri\",\"1992/Missouri\",\"1996/Missouri\",\"2000/Missouri\",\"2004/Missouri\",\"2008/Missouri\",\"2012/Missouri\",\"2016/Missouri\",\"1988/Montana\",\"1992/Montana\",\"1996/Montana\",\"2000/Montana\",\"2004/Montana\",\"2008/Montana\",\"2012/Montana\",\"2016/Montana\",\"1976/Nebraska\",\"1980/Nebraska\",\"1984/Nebraska\",\"1988/Nebraska\",\"1992/Nebraska\",\"1996/Nebraska\",\"2000/Nebraska\",\"2004/Nebraska\",\"2008/Nebraska\",\"2012/Nebraska\",\"2016/Nebraska\",\"1980/Nevada\",\"1988/Nevada\",\"1992/Nevada\",\"1996/Nevada\",\"2000/Nevada\",\"2004/Nevada\",\"2008/Nevada\",\"2012/Nevada\",\"2016/Nevada\",\"1980/New Hampshire\",\"1984/New Hampshire\",\"1988/New Hampshire\",\"1992/New Hampshire\",\"1996/New Hampshire\",\"2000/New Hampshire\",\"2004/New Hampshire\",\"2008/New Hampshire\",\"2012/New Hampshire\",\"2016/New Hampshire\",\"1976/New Jersey\",\"1980/New Jersey\",\"1984/New Jersey\",\"1988/New Jersey\",\"1992/New Jersey\",\"1996/New Jersey\",\"2000/New Jersey\",\"2004/New Jersey\",\"2008/New Jersey\",\"2012/New Jersey\",\"2016/New Jersey\",\"1984/New Mexico\",\"1988/New Mexico\",\"1992/New Mexico\",\"1996/New Mexico\",\"2000/New Mexico\",\"2004/New Mexico\",\"2008/New Mexico\",\"2012/New Mexico\",\"2016/New Mexico\",\"1976/New York\",\"1980/New York\",\"1984/New York\",\"1988/New York\",\"1992/New York\",\"1996/New York\",\"2000/New York\",\"2004/New York\",\"2008/New York\",\"2012/New York\",\"2016/New York\",\"1976/North Carolina\",\"1980/North Carolina\",\"1984/North Carolina\",\"1988/North Carolina\",\"1992/North Carolina\",\"1996/North Carolina\",\"2000/North Carolina\",\"2004/North Carolina\",\"2008/North Carolina\",\"2012/North Carolina\",\"2016/North Carolina\",\"1980/North Dakota\",\"1988/North Dakota\",\"1992/North Dakota\",\"1996/North Dakota\",\"2000/North Dakota\",\"2004/North Dakota\",\"2008/North Dakota\",\"2012/North Dakota\",\"2016/North Dakota\",\"1976/Ohio\",\"1980/Ohio\",\"1984/Ohio\",\"1988/Ohio\",\"1992/Ohio\",\"1996/Ohio\",\"2000/Ohio\",\"2004/Ohio\",\"2008/Ohio\",\"2012/Ohio\",\"2016/Ohio\",\"1980/Oklahoma\",\"1988/Oklahoma\",\"1992/Oklahoma\",\"1996/Oklahoma\",\"2000/Oklahoma\",\"2004/Oklahoma\",\"2008/Oklahoma\",\"2012/Oklahoma\",\"2016/Oklahoma\",\"1976/Oregon\",\"1980/Oregon\",\"1984/Oregon\",\"1988/Oregon\",\"1992/Oregon\",\"1996/Oregon\",\"2000/Oregon\",\"2004/Oregon\",\"2008/Oregon\",\"2012/Oregon\",\"2016/Oregon\",\"1980/Pennsylvania\",\"1984/Pennsylvania\",\"1988/Pennsylvania\",\"1992/Pennsylvania\",\"1996/Pennsylvania\",\"2000/Pennsylvania\",\"2004/Pennsylvania\",\"2008/Pennsylvania\",\"2012/Pennsylvania\",\"2016/Pennsylvania\",\"1980/Rhode Island\",\"1984/Rhode Island\",\"1988/Rhode Island\",\"1992/Rhode Island\",\"1996/Rhode Island\",\"2000/Rhode Island\",\"2004/Rhode Island\",\"2008/Rhode Island\",\"2012/Rhode Island\",\"2016/Rhode Island\",\"1976/South Carolina\",\"1980/South Carolina\",\"1988/South Carolina\",\"1992/South Carolina\",\"1996/South Carolina\",\"2000/South Carolina\",\"2004/South Carolina\",\"2008/South Carolina\",\"2012/South Carolina\",\"2016/South Carolina\",\"1976/South Dakota\",\"1980/South Dakota\",\"1988/South Dakota\",\"1992/South Dakota\",\"1996/South Dakota\",\"2000/South Dakota\",\"2004/South Dakota\",\"2008/South Dakota\",\"2012/South Dakota\",\"2016/South Dakota\",\"1980/Tennessee\",\"1988/Tennessee\",\"1992/Tennessee\",\"1996/Tennessee\",\"2000/Tennessee\",\"2004/Tennessee\",\"2008/Tennessee\",\"2012/Tennessee\",\"2016/Tennessee\",\"1980/Texas\",\"1984/Texas\",\"1988/Texas\",\"1992/Texas\",\"1996/Texas\",\"2000/Texas\",\"2004/Texas\",\"2008/Texas\",\"2012/Texas\",\"2016/Texas\",\"1976/Utah\",\"1984/Utah\",\"1988/Utah\",\"1992/Utah\",\"1996/Utah\",\"2000/Utah\",\"2004/Utah\",\"2008/Utah\",\"2012/Utah\",\"2016/Utah\",\"1988/Vermont\",\"1992/Vermont\",\"1996/Vermont\",\"2000/Vermont\",\"2004/Vermont\",\"2008/Vermont\",\"2012/Vermont\",\"2016/Vermont\",\"1980/Virginia\",\"1984/Virginia\",\"1988/Virginia\",\"1992/Virginia\",\"1996/Virginia\",\"2000/Virginia\",\"2004/Virginia\",\"2008/Virginia\",\"2012/Virginia\",\"2016/Virginia\",\"1976/Washington\",\"1980/Washington\",\"1984/Washington\",\"1988/Washington\",\"1992/Washington\",\"1996/Washington\",\"2000/Washington\",\"2004/Washington\",\"2008/Washington\",\"2012/Washington\",\"2016/Washington\",\"1980/West Virginia\",\"1984/West Virginia\",\"1988/West Virginia\",\"1992/West Virginia\",\"1996/West Virginia\",\"2000/West Virginia\",\"2004/West Virginia\",\"2008/West Virginia\",\"2012/West Virginia\",\"2016/West Virginia\",\"1980/Wisconsin\",\"1984/Wisconsin\",\"1988/Wisconsin\",\"1992/Wisconsin\",\"1996/Wisconsin\",\"2000/Wisconsin\",\"2004/Wisconsin\",\"2008/Wisconsin\",\"2012/Wisconsin\",\"2016/Wisconsin\",\"1988/Wyoming\",\"1992/Wyoming\",\"1996/Wyoming\",\"2000/Wyoming\",\"2008/Wyoming\",\"2016/Wyoming\",\"1976\",\"1980\",\"1984\",\"1988\",\"1992\",\"1996\",\"2000\",\"2004\",\"2008\",\"2012\",\"2016\"],\"labels\":[\"Alabama\",\"Alabama\",\"Alabama\",\"Alabama\",\"Alabama\",\"Alabama\",\"Alabama\",\"Alabama\",\"Alabama\",\"Alabama\",\"Alaska\",\"Alaska\",\"Alaska\",\"Alaska\",\"Alaska\",\"Alaska\",\"Alaska\",\"Arizona\",\"Arizona\",\"Arizona\",\"Arizona\",\"Arizona\",\"Arizona\",\"Arizona\",\"Arizona\",\"Arizona\",\"Arkansas\",\"Arkansas\",\"Arkansas\",\"Arkansas\",\"Arkansas\",\"Arkansas\",\"Arkansas\",\"Arkansas\",\"Arkansas\",\"California\",\"California\",\"California\",\"California\",\"California\",\"California\",\"California\",\"California\",\"California\",\"California\",\"California\",\"Colorado\",\"Colorado\",\"Colorado\",\"Colorado\",\"Colorado\",\"Colorado\",\"Colorado\",\"Colorado\",\"Colorado\",\"Colorado\",\"Colorado\",\"Connecticut\",\"Connecticut\",\"Connecticut\",\"Connecticut\",\"Connecticut\",\"Connecticut\",\"Connecticut\",\"Connecticut\",\"Connecticut\",\"Connecticut\",\"Connecticut\",\"Delaware\",\"Delaware\",\"Delaware\",\"Delaware\",\"Delaware\",\"Delaware\",\"Delaware\",\"Delaware\",\"Delaware\",\"Florida\",\"Florida\",\"Florida\",\"Florida\",\"Florida\",\"Florida\",\"Florida\",\"Florida\",\"Florida\",\"Florida\",\"Georgia\",\"Georgia\",\"Georgia\",\"Georgia\",\"Georgia\",\"Georgia\",\"Georgia\",\"Georgia\",\"Georgia\",\"Georgia\",\"Hawaii\",\"Hawaii\",\"Hawaii\",\"Hawaii\",\"Hawaii\",\"Hawaii\",\"Hawaii\",\"Hawaii\",\"Hawaii\",\"Idaho\",\"Idaho\",\"Idaho\",\"Idaho\",\"Idaho\",\"Idaho\",\"Idaho\",\"Idaho\",\"Idaho\",\"Illinois\",\"Illinois\",\"Illinois\",\"Illinois\",\"Illinois\",\"Illinois\",\"Illinois\",\"Illinois\",\"Illinois\",\"Illinois\",\"Illinois\",\"Indiana\",\"Indiana\",\"Indiana\",\"Indiana\",\"Indiana\",\"Indiana\",\"Indiana\",\"Indiana\",\"Indiana\",\"Indiana\",\"Iowa\",\"Iowa\",\"Iowa\",\"Iowa\",\"Iowa\",\"Iowa\",\"Iowa\",\"Iowa\",\"Iowa\",\"Iowa\",\"Iowa\",\"Kansas\",\"Kansas\",\"Kansas\",\"Kansas\",\"Kansas\",\"Kansas\",\"Kansas\",\"Kansas\",\"Kansas\",\"Kansas\",\"Kansas\",\"Kentucky\",\"Kentucky\",\"Kentucky\",\"Kentucky\",\"Kentucky\",\"Kentucky\",\"Kentucky\",\"Kentucky\",\"Kentucky\",\"Louisiana\",\"Louisiana\",\"Louisiana\",\"Louisiana\",\"Louisiana\",\"Louisiana\",\"Louisiana\",\"Louisiana\",\"Louisiana\",\"Maine\",\"Maine\",\"Maine\",\"Maine\",\"Maine\",\"Maine\",\"Maine\",\"Maine\",\"Maine\",\"Maine\",\"Maryland\",\"Maryland\",\"Maryland\",\"Maryland\",\"Maryland\",\"Maryland\",\"Maryland\",\"Maryland\",\"Maryland\",\"Maryland\",\"Maryland\",\"Massachusetts\",\"Massachusetts\",\"Massachusetts\",\"Massachusetts\",\"Massachusetts\",\"Massachusetts\",\"Massachusetts\",\"Massachusetts\",\"Massachusetts\",\"Massachusetts\",\"Massachusetts\",\"Michigan\",\"Michigan\",\"Michigan\",\"Michigan\",\"Michigan\",\"Michigan\",\"Michigan\",\"Michigan\",\"Michigan\",\"Michigan\",\"Minnesota\",\"Minnesota\",\"Minnesota\",\"Minnesota\",\"Minnesota\",\"Minnesota\",\"Minnesota\",\"Minnesota\",\"Minnesota\",\"Minnesota\",\"Minnesota\",\"Mississippi\",\"Mississippi\",\"Mississippi\",\"Mississippi\",\"Mississippi\",\"Mississippi\",\"Mississippi\",\"Mississippi\",\"Missouri\",\"Missouri\",\"Missouri\",\"Missouri\",\"Missouri\",\"Missouri\",\"Missouri\",\"Missouri\",\"Missouri\",\"Missouri\",\"Missouri\",\"Montana\",\"Montana\",\"Montana\",\"Montana\",\"Montana\",\"Montana\",\"Montana\",\"Montana\",\"Nebraska\",\"Nebraska\",\"Nebraska\",\"Nebraska\",\"Nebraska\",\"Nebraska\",\"Nebraska\",\"Nebraska\",\"Nebraska\",\"Nebraska\",\"Nebraska\",\"Nevada\",\"Nevada\",\"Nevada\",\"Nevada\",\"Nevada\",\"Nevada\",\"Nevada\",\"Nevada\",\"Nevada\",\"New Hampshire\",\"New Hampshire\",\"New Hampshire\",\"New Hampshire\",\"New Hampshire\",\"New Hampshire\",\"New Hampshire\",\"New Hampshire\",\"New Hampshire\",\"New Hampshire\",\"New Jersey\",\"New Jersey\",\"New Jersey\",\"New Jersey\",\"New Jersey\",\"New Jersey\",\"New Jersey\",\"New Jersey\",\"New Jersey\",\"New Jersey\",\"New Jersey\",\"New Mexico\",\"New Mexico\",\"New Mexico\",\"New Mexico\",\"New Mexico\",\"New Mexico\",\"New Mexico\",\"New Mexico\",\"New Mexico\",\"New York\",\"New York\",\"New York\",\"New York\",\"New York\",\"New York\",\"New York\",\"New York\",\"New York\",\"New York\",\"New York\",\"North Carolina\",\"North Carolina\",\"North Carolina\",\"North Carolina\",\"North Carolina\",\"North Carolina\",\"North Carolina\",\"North Carolina\",\"North Carolina\",\"North Carolina\",\"North Carolina\",\"North Dakota\",\"North Dakota\",\"North Dakota\",\"North Dakota\",\"North Dakota\",\"North Dakota\",\"North Dakota\",\"North Dakota\",\"North Dakota\",\"Ohio\",\"Ohio\",\"Ohio\",\"Ohio\",\"Ohio\",\"Ohio\",\"Ohio\",\"Ohio\",\"Ohio\",\"Ohio\",\"Ohio\",\"Oklahoma\",\"Oklahoma\",\"Oklahoma\",\"Oklahoma\",\"Oklahoma\",\"Oklahoma\",\"Oklahoma\",\"Oklahoma\",\"Oklahoma\",\"Oregon\",\"Oregon\",\"Oregon\",\"Oregon\",\"Oregon\",\"Oregon\",\"Oregon\",\"Oregon\",\"Oregon\",\"Oregon\",\"Oregon\",\"Pennsylvania\",\"Pennsylvania\",\"Pennsylvania\",\"Pennsylvania\",\"Pennsylvania\",\"Pennsylvania\",\"Pennsylvania\",\"Pennsylvania\",\"Pennsylvania\",\"Pennsylvania\",\"Rhode Island\",\"Rhode Island\",\"Rhode Island\",\"Rhode Island\",\"Rhode Island\",\"Rhode Island\",\"Rhode Island\",\"Rhode Island\",\"Rhode Island\",\"Rhode Island\",\"South Carolina\",\"South Carolina\",\"South Carolina\",\"South Carolina\",\"South Carolina\",\"South Carolina\",\"South Carolina\",\"South Carolina\",\"South Carolina\",\"South Carolina\",\"South Dakota\",\"South Dakota\",\"South Dakota\",\"South Dakota\",\"South Dakota\",\"South Dakota\",\"South Dakota\",\"South Dakota\",\"South Dakota\",\"South Dakota\",\"Tennessee\",\"Tennessee\",\"Tennessee\",\"Tennessee\",\"Tennessee\",\"Tennessee\",\"Tennessee\",\"Tennessee\",\"Tennessee\",\"Texas\",\"Texas\",\"Texas\",\"Texas\",\"Texas\",\"Texas\",\"Texas\",\"Texas\",\"Texas\",\"Texas\",\"Utah\",\"Utah\",\"Utah\",\"Utah\",\"Utah\",\"Utah\",\"Utah\",\"Utah\",\"Utah\",\"Utah\",\"Vermont\",\"Vermont\",\"Vermont\",\"Vermont\",\"Vermont\",\"Vermont\",\"Vermont\",\"Vermont\",\"Virginia\",\"Virginia\",\"Virginia\",\"Virginia\",\"Virginia\",\"Virginia\",\"Virginia\",\"Virginia\",\"Virginia\",\"Virginia\",\"Washington\",\"Washington\",\"Washington\",\"Washington\",\"Washington\",\"Washington\",\"Washington\",\"Washington\",\"Washington\",\"Washington\",\"Washington\",\"West Virginia\",\"West Virginia\",\"West Virginia\",\"West Virginia\",\"West Virginia\",\"West Virginia\",\"West Virginia\",\"West Virginia\",\"West Virginia\",\"West Virginia\",\"Wisconsin\",\"Wisconsin\",\"Wisconsin\",\"Wisconsin\",\"Wisconsin\",\"Wisconsin\",\"Wisconsin\",\"Wisconsin\",\"Wisconsin\",\"Wisconsin\",\"Wyoming\",\"Wyoming\",\"Wyoming\",\"Wyoming\",\"Wyoming\",\"Wyoming\",\"1976\",\"1980\",\"1984\",\"1988\",\"1992\",\"1996\",\"2000\",\"2004\",\"2008\",\"2012\",\"2016\"],\"marker\":{\"coloraxis\":\"coloraxis\",\"colors\":[-4.547308999999999,-22.023985,-18.538551,-1.4558649999999955,-5.939902000000004,-17.564598000000004,-21.625471000000005,-22.424064,-18.066787,-21.18848,-10.390892999999998,0.5418000000000021,-9.471848,-22.979054,-26.193216,-14.184433000000006,-6.079999999999998,-23.387207,-20.216916000000005,-0.1559850000000011,6.886496999999991,-12.535011999999996,-9.294016,-4.139692000000004,-8.522165999999999,-2.699859999999994,3.658324000000008,-7.589976,17.844488000000005,18.084563,-2.2236449999999905,-3.820442,-9.101824999999998,-24.807177000000003,-19.4925,-3.270221999999997,-14.065117999999998,-16.310839,-8.033823999999996,17.150516999999997,13.814598000000004,3.6597280000000016,10.734135000000004,22.32009,15.577813,22.08415,-1.3731909999999985,-25.041932000000003,-23.0,-3.496305,7.596597999999999,3.4405399999999986,-8.595186999999996,-4.2787349999999975,6.846433000000005,0.5829039999999992,2.8801500000000004,-1.4696539999999985,-3.5359300000000005,-26.59231,-0.417037999999998,10.368108,19.931291,12.227488999999998,11.380723999999994,20.222026,12.405382000000005,14.50678,2.4453219999999973,-6.423568000000003,-14.190244999999996,7.456685999999998,9.684802999999995,1.0026910000000058,7.267530000000002,24.241347000000005,13.95917,-7.6793930000000055,-30.071395000000003,-21.742401,-1.9200069999999911,4.8610200000000034,1.41781000000001,-0.5771170000000012,1.487583000000001,-1.5462849999999977,0.9193599999999977,29.37976,12.246155000000002,-11.920596000000003,1.6269670000000005,2.8368909999999943,-10.130298999999994,-12.646300000000004,-4.263896999999993,-9.741931000000008,-3.9287300000000016,5.260771000000002,7.651668,17.324465,22.326151000000003,17.437287999999995,2.455362000000001,26.697252,28.228406,23.94357,-18.699279,-27.00368899999999,-8.361484999999995,-17.664632999999995,-33.979927,-29.752062,-28.161555,-35.708928,-16.333560000000006,-1.5707750000000047,-3.414509000000002,-12.543532,-1.2084199999999967,14.038367999999998,16.276728000000006,4.704612000000012,8.84516399999999,22.561789,16.813627000000004,14.387230000000002,0.9120979999999932,-15.599016999999995,-13.803168999999993,-4.803822999999994,-2.010550000000002,-19.742062999999995,-20.308033,-1.0016350000000074,-10.958091999999986,-12.93181,-1.625155,-10.894622999999996,-12.419655999999996,13.579386999999995,4.459282999999999,12.370793999999998,0.3492510000000024,-1.1527270000000058,12.831879000000008,1.492660999999998,-4.252089999999996,-4.802531999999999,-22.420884000000004,-26.34248,-7.725975999999995,-0.4253050000000016,-11.73507,-20.13307499999999,-24.072205000000004,-16.714812999999992,-21.575878000000003,-13.638709999999996,-25.297862,-5.525950999999999,6.3741330000000005,3.9228749999999977,-13.023075000000008,-18.920992,-12.442097000000004,-15.667569999999998,-21.3273,-12.143667,-8.723192000000004,1.7708060000000003,11.000163,-7.539564999999995,-16.13722,-10.611548,-17.784088999999994,-13.113149999999996,-2.4188720000000004,5.8944089999999925,-3.8567570000000013,6.448637999999999,11.713541,4.387054999999997,7.342480999999999,16.10917299999999,10.439442,6.674010000000003,7.9798820000000035,10.157388000000005,-13.0,-0.6433719999999994,8.457335999999998,14.465116000000002,12.589847999999996,12.59311400000001,20.563285000000008,20.041193,32.56131,14.428559000000009,0.5268750000000004,-4.7585029999999975,6.746832000000005,11.694029999999998,30.27268100000001,24.715432,26.167804000000004,18.349676,17.556882,27.67627000000001,-3.3599999999999994,-9.439073000000004,-2.237392,6.828844000000004,12.6723,2.1662279999999967,3.661200000000001,13.228950999999997,4.240695999999993,3.163620000000001,14.114422000000005,-0.1106919999999966,1.3974600000000097,7.643155,5.512895,20.539988,3.716396000000003,3.086267,10.606981999999997,6.147922999999998,8.912939999999992,-15.243476,-19.050599,-4.443715999999995,-7.601223999999995,-13.55162,-16.426849000000004,-11.106308999999996,-7.807280000000006,2.242735000000004,-2.957156999999995,-16.765569999999997,-5.5348320000000015,12.260505000000006,9.819830999999994,-2.803002,-5.898392999999999,-1.0068320000000028,-11.804824999999994,-12.11157,-9.011197000000005,1.7028239999999997,0.3139830000000003,-20.640563,-23.039746000000008,-5.089860000000002,-8.859262000000001,-18.03667,-19.654472,-32.393745,-31.348517,-5.980428000000003,-9.516056,-10.694604000000004,-22.712822,-29.4895,-19.037500999999992,-17.378053,-17.786450000000002,-20.383486,-17.700569,5.455144999999998,0.1514260000000007,-5.054579000000004,-5.137164999999996,5.449928,3.175348999999997,0.6799999999999997,-14.404342000000003,-8.033088,-28.27175,3.7847980000000025,14.96553,-4.454308999999995,2.172914999999996,10.795266999999996,0.9322560000000024,2.263620000000003,-7.554365000000005,-5.078495000000004,-24.04026,-10.379368,7.558447999999999,17.202364,9.409332999999997,7.192073999999998,16.801347,10.753379,13.978319999999997,-22.251212,-9.515822999999996,8.148655000000005,13.893636,0.8138769999999981,-3.5184909999999974,9.788864000000006,6.44943,4.945059999999998,4.962136999999999,4.05707,-11.372017000000008,0.1984650000000059,19.45024,25.89391700000001,16.803188,16.186413999999992,28.224894,23.670302000000007,19.373690000000003,0.6783209999999968,7.012925000000003,-28.442694,-8.300449,2.851999,-1.9015029999999984,-9.775023000000004,-8.255886000000004,0.8204289999999972,-3.0766459999999967,1.1001699999999983,-25.403375999999998,-14.247344000000004,-7.671223000000005,-5.144150999999994,-15.266384000000002,-24.769924000000003,-1.2386059999999972,-15.818188,-26.21003,11.390884999999997,-7.481986999999996,-18.648283000000006,-8.170046,1.95993,6.075179999999995,-7.532077000000001,0.0381309999999999,4.554623000000007,2.0134079999999983,-2.97195,-14.441508000000006,-16.809592999999992,-5.705705999999999,-6.945787000000004,-18.875150000000005,-29.48949199999999,-24.802938999999995,-29.933629,-26.450140000000005,2.6719230000000067,-6.589210999999999,-10.724055999999996,1.0739459999999923,10.250847999999994,12.653893999999994,0.0406319999999951,5.249132000000003,15.293245999999996,5.376813999999996,8.421640000000004,-5.2913600000000045,-14.835010000000002,-3.565793999999997,9.153842000000004,13.030557000000002,1.700616999999994,1.3633819999999943,7.917107999999999,3.9350409999999982,3.050139999999999,10.578623,-9.869456,9.851874000000002,23.466614,29.895285000000005,21.943951,18.491644,19.377548999999995,21.619787,11.319459999999998,10.675171,3.080945,-14.885082999999996,-8.717132,-8.340697999999996,-14.297985999999987,-15.744027999999998,-9.282267000000004,-3.447905999999996,-5.853520000000003,1.2656049999999937,-17.594745000000007,-4.494734999999999,1.450919999999989,-4.165252999999993,-20.723337,-16.754250000000006,-8.927742000000002,-12.150841000000009,-18.935390000000005,9.351949000000005,-11.038620999999992,7.955710999999995,2.957951999999999,-1.966265,-12.051133000000007,-12.162144999999995,-14.933208000000002,-9.180100000000005,-3.7756230000000035,-26.369003,-9.513224,-0.2946179999999998,-5.467395000000003,-27.418452,-22.840407,-12.213815999999989,-18.710111,-9.70185,-20.900797000000004,-46.972194,-33.60928200000001,-14.538946,-13.382453000000003,-37.810292,-44.19067100000001,-26.45614299999999,-46.162102,-10.509300000000003,-0.4664769999999976,11.422218000000004,16.847162999999995,9.721018999999998,9.208290000000003,27.049164,30.899871,29.402519999999996,-12.601536000000005,-28.0,-12.722485999999996,-7.435288999999997,1.072695000000003,-8.331846999999996,-5.850401999999996,5.213853999999998,0.9789280000000034,5.412199999999999,1.5366590000000038,-8.194969,-14.165518,-4.295337999999994,15.004827,12.424927000000006,0.1663519999999962,6.324989000000002,13.54928300000001,11.179690999999996,15.181009999999992,11.312523000000002,-10.110380999999997,8.638100000000001,14.439230000000004,16.240345000000005,-4.721699999999999,-6.323636999999998,-12.984065,-16.754681999999995,-27.23420000000001,-2.9198739999999965,-16.880119999999998,-1.7431889999999939,6.404734999999995,14.595872999999996,-2.286738,-1.7171220000000034,11.976871999999993,3.752502999999997,4.916080000000001,-28.62067,-3.954561000000005,-7.238638999999999,-29.012408,-26.872840000000004,-37.87742,2.091305904873317,-4.739467881696315,-17.605885673756354,-6.782353558901279,5.575690233405127,7.97069844020531,-3.4796287148721685,-3.585718989545737,4.548167916678425,0.8333425445725702,1.5727587758106987]},\"name\":\"\",\"parents\":[\"1980\",\"1984\",\"1988\",\"1992\",\"1996\",\"2000\",\"2004\",\"2008\",\"2012\",\"2016\",\"1988\",\"1992\",\"1996\",\"2000\",\"2004\",\"2008\",\"2016\",\"1980\",\"1988\",\"1992\",\"1996\",\"2000\",\"2004\",\"2008\",\"2012\",\"2016\",\"1980\",\"1988\",\"1992\",\"1996\",\"2000\",\"2004\",\"2008\",\"2012\",\"2016\",\"1976\",\"1980\",\"1984\",\"1988\",\"1992\",\"1996\",\"2000\",\"2004\",\"2008\",\"2012\",\"2016\",\"1976\",\"1980\",\"1984\",\"1988\",\"1992\",\"1996\",\"2000\",\"2004\",\"2008\",\"2012\",\"2016\",\"1976\",\"1980\",\"1984\",\"1988\",\"1992\",\"1996\",\"2000\",\"2004\",\"2008\",\"2012\",\"2016\",\"1976\",\"1980\",\"1988\",\"1992\",\"1996\",\"2000\",\"2004\",\"2008\",\"2016\",\"1980\",\"1984\",\"1988\",\"1992\",\"1996\",\"2000\",\"2004\",\"2008\",\"2012\",\"2016\",\"1976\",\"1980\",\"1988\",\"1992\",\"1996\",\"2000\",\"2004\",\"2008\",\"2012\",\"2016\",\"1980\",\"1988\",\"1992\",\"1996\",\"2000\",\"2004\",\"2008\",\"2012\",\"2016\",\"1976\",\"1980\",\"1992\",\"1996\",\"2000\",\"2004\",\"2008\",\"2012\",\"2016\",\"1976\",\"1980\",\"1984\",\"1988\",\"1992\",\"1996\",\"2000\",\"2004\",\"2008\",\"2012\",\"2016\",\"1976\",\"1984\",\"1988\",\"1992\",\"1996\",\"2000\",\"2004\",\"2008\",\"2012\",\"2016\",\"1976\",\"1980\",\"1984\",\"1988\",\"1992\",\"1996\",\"2000\",\"2004\",\"2008\",\"2012\",\"2016\",\"1976\",\"1980\",\"1984\",\"1988\",\"1992\",\"1996\",\"2000\",\"2004\",\"2008\",\"2012\",\"2016\",\"1984\",\"1988\",\"1992\",\"1996\",\"2000\",\"2004\",\"2008\",\"2012\",\"2016\",\"1980\",\"1988\",\"1992\",\"1996\",\"2000\",\"2004\",\"2008\",\"2012\",\"2016\",\"1976\",\"1980\",\"1988\",\"1992\",\"1996\",\"2000\",\"2004\",\"2008\",\"2012\",\"2016\",\"1976\",\"1980\",\"1984\",\"1988\",\"1992\",\"1996\",\"2000\",\"2004\",\"2008\",\"2012\",\"2016\",\"1976\",\"1980\",\"1984\",\"1988\",\"1992\",\"1996\",\"2000\",\"2004\",\"2008\",\"2012\",\"2016\",\"1976\",\"1980\",\"1988\",\"1992\",\"1996\",\"2000\",\"2004\",\"2008\",\"2012\",\"2016\",\"1976\",\"1980\",\"1984\",\"1988\",\"1992\",\"1996\",\"2000\",\"2004\",\"2008\",\"2012\",\"2016\",\"1980\",\"1988\",\"1992\",\"1996\",\"2000\",\"2004\",\"2008\",\"2016\",\"1976\",\"1980\",\"1984\",\"1988\",\"1992\",\"1996\",\"2000\",\"2004\",\"2008\",\"2012\",\"2016\",\"1988\",\"1992\",\"1996\",\"2000\",\"2004\",\"2008\",\"2012\",\"2016\",\"1976\",\"1980\",\"1984\",\"1988\",\"1992\",\"1996\",\"2000\",\"2004\",\"2008\",\"2012\",\"2016\",\"1980\",\"1988\",\"1992\",\"1996\",\"2000\",\"2004\",\"2008\",\"2012\",\"2016\",\"1980\",\"1984\",\"1988\",\"1992\",\"1996\",\"2000\",\"2004\",\"2008\",\"2012\",\"2016\",\"1976\",\"1980\",\"1984\",\"1988\",\"1992\",\"1996\",\"2000\",\"2004\",\"2008\",\"2012\",\"2016\",\"1984\",\"1988\",\"1992\",\"1996\",\"2000\",\"2004\",\"2008\",\"2012\",\"2016\",\"1976\",\"1980\",\"1984\",\"1988\",\"1992\",\"1996\",\"2000\",\"2004\",\"2008\",\"2012\",\"2016\",\"1976\",\"1980\",\"1984\",\"1988\",\"1992\",\"1996\",\"2000\",\"2004\",\"2008\",\"2012\",\"2016\",\"1980\",\"1988\",\"1992\",\"1996\",\"2000\",\"2004\",\"2008\",\"2012\",\"2016\",\"1976\",\"1980\",\"1984\",\"1988\",\"1992\",\"1996\",\"2000\",\"2004\",\"2008\",\"2012\",\"2016\",\"1980\",\"1988\",\"1992\",\"1996\",\"2000\",\"2004\",\"2008\",\"2012\",\"2016\",\"1976\",\"1980\",\"1984\",\"1988\",\"1992\",\"1996\",\"2000\",\"2004\",\"2008\",\"2012\",\"2016\",\"1980\",\"1984\",\"1988\",\"1992\",\"1996\",\"2000\",\"2004\",\"2008\",\"2012\",\"2016\",\"1980\",\"1984\",\"1988\",\"1992\",\"1996\",\"2000\",\"2004\",\"2008\",\"2012\",\"2016\",\"1976\",\"1980\",\"1988\",\"1992\",\"1996\",\"2000\",\"2004\",\"2008\",\"2012\",\"2016\",\"1976\",\"1980\",\"1988\",\"1992\",\"1996\",\"2000\",\"2004\",\"2008\",\"2012\",\"2016\",\"1980\",\"1988\",\"1992\",\"1996\",\"2000\",\"2004\",\"2008\",\"2012\",\"2016\",\"1980\",\"1984\",\"1988\",\"1992\",\"1996\",\"2000\",\"2004\",\"2008\",\"2012\",\"2016\",\"1976\",\"1984\",\"1988\",\"1992\",\"1996\",\"2000\",\"2004\",\"2008\",\"2012\",\"2016\",\"1988\",\"1992\",\"1996\",\"2000\",\"2004\",\"2008\",\"2012\",\"2016\",\"1980\",\"1984\",\"1988\",\"1992\",\"1996\",\"2000\",\"2004\",\"2008\",\"2012\",\"2016\",\"1976\",\"1980\",\"1984\",\"1988\",\"1992\",\"1996\",\"2000\",\"2004\",\"2008\",\"2012\",\"2016\",\"1980\",\"1984\",\"1988\",\"1992\",\"1996\",\"2000\",\"2004\",\"2008\",\"2012\",\"2016\",\"1980\",\"1984\",\"1988\",\"1992\",\"1996\",\"2000\",\"2004\",\"2008\",\"2012\",\"2016\",\"1988\",\"1992\",\"1996\",\"2000\",\"2008\",\"2016\",\"\",\"\",\"\",\"\",\"\",\"\",\"\",\"\",\"\",\"\",\"\"],\"values\":[40.321613,35.034674,36.941321,40.180882,40.952817,35.201229,35.153022,35.858475,35.623535,35.14891,41.120967,33.656677,34.288314,28.018256,31.118299,41.419908,39.10066,21.787392,33.011637,33.570066,45.013949,38.92711,42.353901,45.233846,44.002949,42.92815,43.983228,40.347879,52.054279,52.939159,44.305234000000006,46.05477,42.823934,32.926966,33.52097,42.797994,28.010388,38.947686,42.883798,48.764566,48.713991,46.403632,52.385393,57.522385,54.853727,54.91905,42.180101,24.913525,31.0,41.952605,39.511654,43.749865,39.381768,45.309328,51.302013,48.290802,43.64732,41.698014,32.831153,30.695356,40.7113,44.051756,49.016396,49.740238,50.968638,56.510289,53.670551,51.05077,33.370748,36.74326,34.832296,40.233436,46.301404,45.229964,47.686023,59.585339000000005,50.08618,36.81831,31.783757,35.808301,38.39614,46.23713,47.174946000000006,47.364931,48.108337,47.634723,46.39832,59.796546,48.568402,38.949382,38.814284,44.767056,40.539803000000006,41.540177,45.796409,43.65606,44.38727,36.287027,41.675536,43.686664,53.388279,52.079752,45.794949,59.752297,61.42352,51.88781,28.532182,23.957977,28.721845,30.727659000000003,26.858225,27.835825,32.100732,27.09037,29.68751,46.568122,40.353598,39.675961,45.433824,46.80532,50.610869,47.253009000000006,51.746566,59.354164,55.665689,50.97485,44.115426,36.119087,37.372362,36.793521000000005,38.665799,34.544446,36.95455,47.005797,42.112778000000006,37.3296,44.396444,33.458937,39.460832,51.348629,38.889839,47.453958,44.900912,46.264535,52.852666000000006,48.072818,40.87534,41.301737,26.411143,28.888068,34.883109000000005,36.712598,37.789317,35.187645,34.482297,38.483246,33.987826,36.81242,33.065294,41.791197,43.25922,45.657298,40.641904,38.181241,41.070429,38.72088,33.53967,36.86978,39.623911,38.129305,46.771096,39.244476,35.99788,41.531393,36.768243,37.1587,39.287709,35.645349,42.126039,34.291351,47.893072,45.534507,50.048318,55.215782,52.556736,46.01504,37.996590000000005,41.137857,36.0,45.944472,42.98602,51.392215,52.162341,53.865381000000006,58.011276,57.525837,59.92575,50.399871000000005,31.140320000000003,44.119005,48.431455,37.029205,57.458991000000005,55.10759,57.661592000000006,56.361476,56.852048,55.71963,41.721918,28.741635,43.626056,39.087293,47.323879,46.399564,48.691046,53.70322,49.748667,45.66772,50.399871000000005,31.597255,46.088834000000006,49.89779,41.663969,52.188213,44.708419,48.248413,52.376347,50.850344,46.96928,35.870002,37.076414,37.229225,39.189574,38.42805,37.824067,41.028078,41.43731,46.088928,37.222867,37.749237,41.91396,42.510403,47.004037,45.054595,45.337555,47.35975,42.372821,38.22606,36.983819,33.717977000000005,40.633789,32.346911,33.714633,44.86544,43.484368,32.673390000000005,33.370748,22.783342,26.931731,39.5896,30.607145000000003,36.553417,34.333161,31.525627000000004,37.480707,38.929304,33.61203,22.783342,33.449524,35.293839,42.691043,43.036997,45.188758,50.390004,49.93103,44.89117,28.762486,42.543725,32.119257,38.195925,50.101426,41.003838,48.624872,52.275229,48.49889,44.56515,37.091361,33.844507,32.496976000000004,40.924593,39.305388,48.820304,48.682663,48.995247,54.871929,52.229467,51.68812,36.962649,39.668694,41.953365000000005,47.593024,44.723852,44.911481,53.42745,49.905268,43.84036,49.313474,35.753233,38.551885,45.885133,48.076968,54.758489,52.79625,54.340684,61.370024,59.796929000000006,54.164730000000006,41.196529,46.157558,33.807644,41.989746,40.319437,43.845678,41.733597,43.381614,48.35763,46.504795,46.44271,23.779461,37.267997,31.136323,36.061334,34.51015,33.772825,44.243590000000005,38.780472,29.20324,53.398833,34.906983000000004,39.468842,41.268361,40.257081,47.250076,42.433913,47.973979,49.617053000000006,49.171259,42.63316,38.739904,38.603252000000005,37.494133000000005,39.532809,37.20398,32.688553000000006,35.542093,30.318942,30.795340000000003,43.190446,35.199058,38.4373,48.474516,39.925772,48.096447,44.507462,50.530961,54.806549,48.07413,45.89365,33.33068,40.310944,44.803587,41.349889000000005,49.045393,46.367906,48.729059,51.486452,49.881312,46.50476,35.264207,38.622482,46.607574,50.311493,54.644628,52.319718,54.849934,55.351109,55.353336,47.45552,48.704338,43.700094,39.120127,33.74447,40.93399,38.884246000000005,39.155158,42.876454,42.771209000000006,41.16662,43.200283,17.450183,40.672295,36.333398,41.031583000000005,33.539587,37.609466,42.894873,40.736824,32.46563,51.268399,39.917801,44.505269,44.996317,46.032948,42.342747,41.722512,38.939167,39.00087,38.029731,33.363964,42.587829,36.858955,40.749962,32.296191,35.652891,42.507628,38.706372,38.6247,34.506819,23.614176,31.227522,24.661515,33.763817,24.619824,24.109276,32.651839,24.505127,26.91846,41.675536,40.803584,52.366977,46.85579,49.357665,60.060211,59.85286,55.18666,29.742939,31.0,39.417478,35.497365,42.826149,42.210553,43.916727,50.345379,48.265883,47.26719,33.270395,32.373094,34.142811,42.971394,44.466954,47.449865,45.177247,51.681792,53.835668000000005,53.39461,50.27108,40.200027,44.393791,43.680941,44.298712,50.536458,42.258471,44.495975,40.809777,37.407189,28.61783,31.524793,35.545034,44.869765,39.933187,49.536554,43.910057,46.387916,52.66490699999999,49.892816,46.56556,27.823913,30.408792,37.603149,29.687844,33.176088,22.07957,1107.895427,1428.265039,1078.821745,1989.304494,1956.486454,2266.917015,2084.500771,2132.806537,2407.998183,2109.739449,2115.94179],\"type\":\"treemap\"}],                        {\"template\":{\"data\":{\"histogram2dcontour\":[{\"type\":\"histogram2dcontour\",\"colorbar\":{\"outlinewidth\":0,\"ticks\":\"\"},\"colorscale\":[[0.0,\"#0d0887\"],[0.1111111111111111,\"#46039f\"],[0.2222222222222222,\"#7201a8\"],[0.3333333333333333,\"#9c179e\"],[0.4444444444444444,\"#bd3786\"],[0.5555555555555556,\"#d8576b\"],[0.6666666666666666,\"#ed7953\"],[0.7777777777777778,\"#fb9f3a\"],[0.8888888888888888,\"#fdca26\"],[1.0,\"#f0f921\"]]}],\"choropleth\":[{\"type\":\"choropleth\",\"colorbar\":{\"outlinewidth\":0,\"ticks\":\"\"}}],\"histogram2d\":[{\"type\":\"histogram2d\",\"colorbar\":{\"outlinewidth\":0,\"ticks\":\"\"},\"colorscale\":[[0.0,\"#0d0887\"],[0.1111111111111111,\"#46039f\"],[0.2222222222222222,\"#7201a8\"],[0.3333333333333333,\"#9c179e\"],[0.4444444444444444,\"#bd3786\"],[0.5555555555555556,\"#d8576b\"],[0.6666666666666666,\"#ed7953\"],[0.7777777777777778,\"#fb9f3a\"],[0.8888888888888888,\"#fdca26\"],[1.0,\"#f0f921\"]]}],\"heatmap\":[{\"type\":\"heatmap\",\"colorbar\":{\"outlinewidth\":0,\"ticks\":\"\"},\"colorscale\":[[0.0,\"#0d0887\"],[0.1111111111111111,\"#46039f\"],[0.2222222222222222,\"#7201a8\"],[0.3333333333333333,\"#9c179e\"],[0.4444444444444444,\"#bd3786\"],[0.5555555555555556,\"#d8576b\"],[0.6666666666666666,\"#ed7953\"],[0.7777777777777778,\"#fb9f3a\"],[0.8888888888888888,\"#fdca26\"],[1.0,\"#f0f921\"]]}],\"heatmapgl\":[{\"type\":\"heatmapgl\",\"colorbar\":{\"outlinewidth\":0,\"ticks\":\"\"},\"colorscale\":[[0.0,\"#0d0887\"],[0.1111111111111111,\"#46039f\"],[0.2222222222222222,\"#7201a8\"],[0.3333333333333333,\"#9c179e\"],[0.4444444444444444,\"#bd3786\"],[0.5555555555555556,\"#d8576b\"],[0.6666666666666666,\"#ed7953\"],[0.7777777777777778,\"#fb9f3a\"],[0.8888888888888888,\"#fdca26\"],[1.0,\"#f0f921\"]]}],\"contourcarpet\":[{\"type\":\"contourcarpet\",\"colorbar\":{\"outlinewidth\":0,\"ticks\":\"\"}}],\"contour\":[{\"type\":\"contour\",\"colorbar\":{\"outlinewidth\":0,\"ticks\":\"\"},\"colorscale\":[[0.0,\"#0d0887\"],[0.1111111111111111,\"#46039f\"],[0.2222222222222222,\"#7201a8\"],[0.3333333333333333,\"#9c179e\"],[0.4444444444444444,\"#bd3786\"],[0.5555555555555556,\"#d8576b\"],[0.6666666666666666,\"#ed7953\"],[0.7777777777777778,\"#fb9f3a\"],[0.8888888888888888,\"#fdca26\"],[1.0,\"#f0f921\"]]}],\"surface\":[{\"type\":\"surface\",\"colorbar\":{\"outlinewidth\":0,\"ticks\":\"\"},\"colorscale\":[[0.0,\"#0d0887\"],[0.1111111111111111,\"#46039f\"],[0.2222222222222222,\"#7201a8\"],[0.3333333333333333,\"#9c179e\"],[0.4444444444444444,\"#bd3786\"],[0.5555555555555556,\"#d8576b\"],[0.6666666666666666,\"#ed7953\"],[0.7777777777777778,\"#fb9f3a\"],[0.8888888888888888,\"#fdca26\"],[1.0,\"#f0f921\"]]}],\"mesh3d\":[{\"type\":\"mesh3d\",\"colorbar\":{\"outlinewidth\":0,\"ticks\":\"\"}}],\"scatter\":[{\"fillpattern\":{\"fillmode\":\"overlay\",\"size\":10,\"solidity\":0.2},\"type\":\"scatter\"}],\"parcoords\":[{\"type\":\"parcoords\",\"line\":{\"colorbar\":{\"outlinewidth\":0,\"ticks\":\"\"}}}],\"scatterpolargl\":[{\"type\":\"scatterpolargl\",\"marker\":{\"colorbar\":{\"outlinewidth\":0,\"ticks\":\"\"}}}],\"bar\":[{\"error_x\":{\"color\":\"#2a3f5f\"},\"error_y\":{\"color\":\"#2a3f5f\"},\"marker\":{\"line\":{\"color\":\"#E5ECF6\",\"width\":0.5},\"pattern\":{\"fillmode\":\"overlay\",\"size\":10,\"solidity\":0.2}},\"type\":\"bar\"}],\"scattergeo\":[{\"type\":\"scattergeo\",\"marker\":{\"colorbar\":{\"outlinewidth\":0,\"ticks\":\"\"}}}],\"scatterpolar\":[{\"type\":\"scatterpolar\",\"marker\":{\"colorbar\":{\"outlinewidth\":0,\"ticks\":\"\"}}}],\"histogram\":[{\"marker\":{\"pattern\":{\"fillmode\":\"overlay\",\"size\":10,\"solidity\":0.2}},\"type\":\"histogram\"}],\"scattergl\":[{\"type\":\"scattergl\",\"marker\":{\"colorbar\":{\"outlinewidth\":0,\"ticks\":\"\"}}}],\"scatter3d\":[{\"type\":\"scatter3d\",\"line\":{\"colorbar\":{\"outlinewidth\":0,\"ticks\":\"\"}},\"marker\":{\"colorbar\":{\"outlinewidth\":0,\"ticks\":\"\"}}}],\"scattermapbox\":[{\"type\":\"scattermapbox\",\"marker\":{\"colorbar\":{\"outlinewidth\":0,\"ticks\":\"\"}}}],\"scatterternary\":[{\"type\":\"scatterternary\",\"marker\":{\"colorbar\":{\"outlinewidth\":0,\"ticks\":\"\"}}}],\"scattercarpet\":[{\"type\":\"scattercarpet\",\"marker\":{\"colorbar\":{\"outlinewidth\":0,\"ticks\":\"\"}}}],\"carpet\":[{\"aaxis\":{\"endlinecolor\":\"#2a3f5f\",\"gridcolor\":\"white\",\"linecolor\":\"white\",\"minorgridcolor\":\"white\",\"startlinecolor\":\"#2a3f5f\"},\"baxis\":{\"endlinecolor\":\"#2a3f5f\",\"gridcolor\":\"white\",\"linecolor\":\"white\",\"minorgridcolor\":\"white\",\"startlinecolor\":\"#2a3f5f\"},\"type\":\"carpet\"}],\"table\":[{\"cells\":{\"fill\":{\"color\":\"#EBF0F8\"},\"line\":{\"color\":\"white\"}},\"header\":{\"fill\":{\"color\":\"#C8D4E3\"},\"line\":{\"color\":\"white\"}},\"type\":\"table\"}],\"barpolar\":[{\"marker\":{\"line\":{\"color\":\"#E5ECF6\",\"width\":0.5},\"pattern\":{\"fillmode\":\"overlay\",\"size\":10,\"solidity\":0.2}},\"type\":\"barpolar\"}],\"pie\":[{\"automargin\":true,\"type\":\"pie\"}]},\"layout\":{\"autotypenumbers\":\"strict\",\"colorway\":[\"#636efa\",\"#EF553B\",\"#00cc96\",\"#ab63fa\",\"#FFA15A\",\"#19d3f3\",\"#FF6692\",\"#B6E880\",\"#FF97FF\",\"#FECB52\"],\"font\":{\"color\":\"#2a3f5f\"},\"hovermode\":\"closest\",\"hoverlabel\":{\"align\":\"left\"},\"paper_bgcolor\":\"white\",\"plot_bgcolor\":\"#E5ECF6\",\"polar\":{\"bgcolor\":\"#E5ECF6\",\"angularaxis\":{\"gridcolor\":\"white\",\"linecolor\":\"white\",\"ticks\":\"\"},\"radialaxis\":{\"gridcolor\":\"white\",\"linecolor\":\"white\",\"ticks\":\"\"}},\"ternary\":{\"bgcolor\":\"#E5ECF6\",\"aaxis\":{\"gridcolor\":\"white\",\"linecolor\":\"white\",\"ticks\":\"\"},\"baxis\":{\"gridcolor\":\"white\",\"linecolor\":\"white\",\"ticks\":\"\"},\"caxis\":{\"gridcolor\":\"white\",\"linecolor\":\"white\",\"ticks\":\"\"}},\"coloraxis\":{\"colorbar\":{\"outlinewidth\":0,\"ticks\":\"\"}},\"colorscale\":{\"sequential\":[[0.0,\"#0d0887\"],[0.1111111111111111,\"#46039f\"],[0.2222222222222222,\"#7201a8\"],[0.3333333333333333,\"#9c179e\"],[0.4444444444444444,\"#bd3786\"],[0.5555555555555556,\"#d8576b\"],[0.6666666666666666,\"#ed7953\"],[0.7777777777777778,\"#fb9f3a\"],[0.8888888888888888,\"#fdca26\"],[1.0,\"#f0f921\"]],\"sequentialminus\":[[0.0,\"#0d0887\"],[0.1111111111111111,\"#46039f\"],[0.2222222222222222,\"#7201a8\"],[0.3333333333333333,\"#9c179e\"],[0.4444444444444444,\"#bd3786\"],[0.5555555555555556,\"#d8576b\"],[0.6666666666666666,\"#ed7953\"],[0.7777777777777778,\"#fb9f3a\"],[0.8888888888888888,\"#fdca26\"],[1.0,\"#f0f921\"]],\"diverging\":[[0,\"#8e0152\"],[0.1,\"#c51b7d\"],[0.2,\"#de77ae\"],[0.3,\"#f1b6da\"],[0.4,\"#fde0ef\"],[0.5,\"#f7f7f7\"],[0.6,\"#e6f5d0\"],[0.7,\"#b8e186\"],[0.8,\"#7fbc41\"],[0.9,\"#4d9221\"],[1,\"#276419\"]]},\"xaxis\":{\"gridcolor\":\"white\",\"linecolor\":\"white\",\"ticks\":\"\",\"title\":{\"standoff\":15},\"zerolinecolor\":\"white\",\"automargin\":true,\"zerolinewidth\":2},\"yaxis\":{\"gridcolor\":\"white\",\"linecolor\":\"white\",\"ticks\":\"\",\"title\":{\"standoff\":15},\"zerolinecolor\":\"white\",\"automargin\":true,\"zerolinewidth\":2},\"scene\":{\"xaxis\":{\"backgroundcolor\":\"#E5ECF6\",\"gridcolor\":\"white\",\"linecolor\":\"white\",\"showbackground\":true,\"ticks\":\"\",\"zerolinecolor\":\"white\",\"gridwidth\":2},\"yaxis\":{\"backgroundcolor\":\"#E5ECF6\",\"gridcolor\":\"white\",\"linecolor\":\"white\",\"showbackground\":true,\"ticks\":\"\",\"zerolinecolor\":\"white\",\"gridwidth\":2},\"zaxis\":{\"backgroundcolor\":\"#E5ECF6\",\"gridcolor\":\"white\",\"linecolor\":\"white\",\"showbackground\":true,\"ticks\":\"\",\"zerolinecolor\":\"white\",\"gridwidth\":2}},\"shapedefaults\":{\"line\":{\"color\":\"#2a3f5f\"}},\"annotationdefaults\":{\"arrowcolor\":\"#2a3f5f\",\"arrowhead\":0,\"arrowwidth\":1},\"geo\":{\"bgcolor\":\"white\",\"landcolor\":\"#E5ECF6\",\"subunitcolor\":\"white\",\"showland\":true,\"showlakes\":true,\"lakecolor\":\"white\"},\"title\":{\"x\":0.05},\"mapbox\":{\"style\":\"light\"}}},\"coloraxis\":{\"colorbar\":{\"title\":{\"text\":\"Diferencia\"}},\"colorscale\":[[0.0,\"#0d0887\"],[0.1111111111111111,\"#46039f\"],[0.2222222222222222,\"#7201a8\"],[0.3333333333333333,\"#9c179e\"],[0.4444444444444444,\"#bd3786\"],[0.5555555555555556,\"#d8576b\"],[0.6666666666666666,\"#ed7953\"],[0.7777777777777778,\"#fb9f3a\"],[0.8888888888888888,\"#fdca26\"],[1.0,\"#f0f921\"]]},\"legend\":{\"tracegroupgap\":0},\"margin\":{\"t\":60}},                        {\"responsive\": true}                    ).then(function(){\n",
              "                            \n",
              "var gd = document.getElementById('1980275d-e2e3-411b-b9d8-b61b05242e5f');\n",
              "var x = new MutationObserver(function (mutations, observer) {{\n",
              "        var display = window.getComputedStyle(gd).display;\n",
              "        if (!display || display === 'none') {{\n",
              "            console.log([gd, 'removed!']);\n",
              "            Plotly.purge(gd);\n",
              "            observer.disconnect();\n",
              "        }}\n",
              "}});\n",
              "\n",
              "// Listen for the removal of the full notebook cells\n",
              "var notebookContainer = gd.closest('#notebook-container');\n",
              "if (notebookContainer) {{\n",
              "    x.observe(notebookContainer, {childList: true});\n",
              "}}\n",
              "\n",
              "// Listen for the clearing of the current output cell\n",
              "var outputEl = gd.closest('.output');\n",
              "if (outputEl) {{\n",
              "    x.observe(outputEl, {childList: true});\n",
              "}}\n",
              "\n",
              "                        })                };                            </script>        </div>\n",
              "</body>\n",
              "</html>"
            ]
          },
          "metadata": {}
        }
      ]
    },
    {
      "cell_type": "markdown",
      "source": [
        "## **Choropleth**"
      ],
      "metadata": {
        "id": "0KHkycvWwXj1"
      },
      "id": "0KHkycvWwXj1"
    },
    {
      "cell_type": "markdown",
      "source": [
        "https://plotly.com/python/mapbox-county-choropleth/"
      ],
      "metadata": {
        "id": "erCZx26jn3Sz"
      },
      "id": "erCZx26jn3Sz"
    },
    {
      "cell_type": "code",
      "source": [
        "px.choropleth(df,\n",
        "              locations='Cod_Estado', \n",
        "              locationmode=\"USA-states\", \n",
        "              scope=\"usa\",\n",
        "              hover_name='Estado', \n",
        "              color='Ganador',\n",
        "              color_discrete_sequence=[\"red\", \"blue\"],\n",
        "              animation_frame='Año') "
      ],
      "metadata": {
        "colab": {
          "base_uri": "https://localhost:8080/",
          "height": 542
        },
        "id": "ES4n448KwYUH",
        "outputId": "2c9e0e39-d564-490c-9af8-ce7936cec86c"
      },
      "id": "ES4n448KwYUH",
      "execution_count": 37,
      "outputs": [
        {
          "output_type": "display_data",
          "data": {
            "text/html": [
              "<html>\n",
              "<head><meta charset=\"utf-8\" /></head>\n",
              "<body>\n",
              "    <div>            <script src=\"https://cdnjs.cloudflare.com/ajax/libs/mathjax/2.7.5/MathJax.js?config=TeX-AMS-MML_SVG\"></script><script type=\"text/javascript\">if (window.MathJax && window.MathJax.Hub && window.MathJax.Hub.Config) {window.MathJax.Hub.Config({SVG: {font: \"STIX-Web\"}});}</script>                <script type=\"text/javascript\">window.PlotlyConfig = {MathJaxConfig: 'local'};</script>\n",
              "        <script src=\"https://cdn.plot.ly/plotly-2.14.0.min.js\"></script>                <div id=\"2c20dbde-5c28-491d-a72f-4245cfbf2c60\" class=\"plotly-graph-div\" style=\"height:525px; width:100%;\"></div>            <script type=\"text/javascript\">                                    window.PLOTLYENV=window.PLOTLYENV || {};                                    if (document.getElementById(\"2c20dbde-5c28-491d-a72f-4245cfbf2c60\")) {                    Plotly.newPlot(                        \"2c20dbde-5c28-491d-a72f-4245cfbf2c60\",                        [{\"colorscale\":[[0.0,\"red\"],[1.0,\"red\"]],\"geo\":\"geo\",\"hovertemplate\":\"<b>%{hovertext}</b><br><br>Ganador=republican<br>A\\u00f1o=1976<br>Cod_Estado=%{location}<extra></extra>\",\"hovertext\":[\"California\",\"Colorado\",\"Connecticut\",\"Idaho\",\"Illinois\",\"Indiana\",\"Iowa\",\"Kansas\",\"Maine\",\"Michigan\",\"Nebraska\",\"New Jersey\",\"Oregon\",\"South Dakota\",\"Utah\",\"Washington\"],\"locationmode\":\"USA-states\",\"locations\":[\"CA\",\"CO\",\"CT\",\"ID\",\"IL\",\"IN\",\"IA\",\"KS\",\"ME\",\"MI\",\"NE\",\"NJ\",\"OR\",\"SD\",\"UT\",\"WA\"],\"name\":\"republican\",\"showlegend\":true,\"showscale\":false,\"z\":[1,1,1,1,1,1,1,1,1,1,1,1,1,1,1,1],\"type\":\"choropleth\"},{\"colorscale\":[[0.0,\"blue\"],[1.0,\"blue\"]],\"geo\":\"geo\",\"hovertemplate\":\"<b>%{hovertext}</b><br><br>Ganador=democrat<br>A\\u00f1o=1976<br>Cod_Estado=%{location}<extra></extra>\",\"hovertext\":[\"Delaware\",\"Georgia\",\"Maryland\",\"Massachusetts\",\"Minnesota\",\"Missouri\",\"New York\",\"North Carolina\",\"Ohio\",\"South Carolina\"],\"locationmode\":\"USA-states\",\"locations\":[\"DE\",\"GA\",\"MD\",\"MA\",\"MN\",\"MO\",\"NY\",\"NC\",\"OH\",\"SC\"],\"name\":\"democrat\",\"showlegend\":true,\"showscale\":false,\"z\":[1,1,1,1,1,1,1,1,1,1],\"type\":\"choropleth\"}],                        {\"template\":{\"data\":{\"histogram2dcontour\":[{\"type\":\"histogram2dcontour\",\"colorbar\":{\"outlinewidth\":0,\"ticks\":\"\"},\"colorscale\":[[0.0,\"#0d0887\"],[0.1111111111111111,\"#46039f\"],[0.2222222222222222,\"#7201a8\"],[0.3333333333333333,\"#9c179e\"],[0.4444444444444444,\"#bd3786\"],[0.5555555555555556,\"#d8576b\"],[0.6666666666666666,\"#ed7953\"],[0.7777777777777778,\"#fb9f3a\"],[0.8888888888888888,\"#fdca26\"],[1.0,\"#f0f921\"]]}],\"choropleth\":[{\"type\":\"choropleth\",\"colorbar\":{\"outlinewidth\":0,\"ticks\":\"\"}}],\"histogram2d\":[{\"type\":\"histogram2d\",\"colorbar\":{\"outlinewidth\":0,\"ticks\":\"\"},\"colorscale\":[[0.0,\"#0d0887\"],[0.1111111111111111,\"#46039f\"],[0.2222222222222222,\"#7201a8\"],[0.3333333333333333,\"#9c179e\"],[0.4444444444444444,\"#bd3786\"],[0.5555555555555556,\"#d8576b\"],[0.6666666666666666,\"#ed7953\"],[0.7777777777777778,\"#fb9f3a\"],[0.8888888888888888,\"#fdca26\"],[1.0,\"#f0f921\"]]}],\"heatmap\":[{\"type\":\"heatmap\",\"colorbar\":{\"outlinewidth\":0,\"ticks\":\"\"},\"colorscale\":[[0.0,\"#0d0887\"],[0.1111111111111111,\"#46039f\"],[0.2222222222222222,\"#7201a8\"],[0.3333333333333333,\"#9c179e\"],[0.4444444444444444,\"#bd3786\"],[0.5555555555555556,\"#d8576b\"],[0.6666666666666666,\"#ed7953\"],[0.7777777777777778,\"#fb9f3a\"],[0.8888888888888888,\"#fdca26\"],[1.0,\"#f0f921\"]]}],\"heatmapgl\":[{\"type\":\"heatmapgl\",\"colorbar\":{\"outlinewidth\":0,\"ticks\":\"\"},\"colorscale\":[[0.0,\"#0d0887\"],[0.1111111111111111,\"#46039f\"],[0.2222222222222222,\"#7201a8\"],[0.3333333333333333,\"#9c179e\"],[0.4444444444444444,\"#bd3786\"],[0.5555555555555556,\"#d8576b\"],[0.6666666666666666,\"#ed7953\"],[0.7777777777777778,\"#fb9f3a\"],[0.8888888888888888,\"#fdca26\"],[1.0,\"#f0f921\"]]}],\"contourcarpet\":[{\"type\":\"contourcarpet\",\"colorbar\":{\"outlinewidth\":0,\"ticks\":\"\"}}],\"contour\":[{\"type\":\"contour\",\"colorbar\":{\"outlinewidth\":0,\"ticks\":\"\"},\"colorscale\":[[0.0,\"#0d0887\"],[0.1111111111111111,\"#46039f\"],[0.2222222222222222,\"#7201a8\"],[0.3333333333333333,\"#9c179e\"],[0.4444444444444444,\"#bd3786\"],[0.5555555555555556,\"#d8576b\"],[0.6666666666666666,\"#ed7953\"],[0.7777777777777778,\"#fb9f3a\"],[0.8888888888888888,\"#fdca26\"],[1.0,\"#f0f921\"]]}],\"surface\":[{\"type\":\"surface\",\"colorbar\":{\"outlinewidth\":0,\"ticks\":\"\"},\"colorscale\":[[0.0,\"#0d0887\"],[0.1111111111111111,\"#46039f\"],[0.2222222222222222,\"#7201a8\"],[0.3333333333333333,\"#9c179e\"],[0.4444444444444444,\"#bd3786\"],[0.5555555555555556,\"#d8576b\"],[0.6666666666666666,\"#ed7953\"],[0.7777777777777778,\"#fb9f3a\"],[0.8888888888888888,\"#fdca26\"],[1.0,\"#f0f921\"]]}],\"mesh3d\":[{\"type\":\"mesh3d\",\"colorbar\":{\"outlinewidth\":0,\"ticks\":\"\"}}],\"scatter\":[{\"fillpattern\":{\"fillmode\":\"overlay\",\"size\":10,\"solidity\":0.2},\"type\":\"scatter\"}],\"parcoords\":[{\"type\":\"parcoords\",\"line\":{\"colorbar\":{\"outlinewidth\":0,\"ticks\":\"\"}}}],\"scatterpolargl\":[{\"type\":\"scatterpolargl\",\"marker\":{\"colorbar\":{\"outlinewidth\":0,\"ticks\":\"\"}}}],\"bar\":[{\"error_x\":{\"color\":\"#2a3f5f\"},\"error_y\":{\"color\":\"#2a3f5f\"},\"marker\":{\"line\":{\"color\":\"#E5ECF6\",\"width\":0.5},\"pattern\":{\"fillmode\":\"overlay\",\"size\":10,\"solidity\":0.2}},\"type\":\"bar\"}],\"scattergeo\":[{\"type\":\"scattergeo\",\"marker\":{\"colorbar\":{\"outlinewidth\":0,\"ticks\":\"\"}}}],\"scatterpolar\":[{\"type\":\"scatterpolar\",\"marker\":{\"colorbar\":{\"outlinewidth\":0,\"ticks\":\"\"}}}],\"histogram\":[{\"marker\":{\"pattern\":{\"fillmode\":\"overlay\",\"size\":10,\"solidity\":0.2}},\"type\":\"histogram\"}],\"scattergl\":[{\"type\":\"scattergl\",\"marker\":{\"colorbar\":{\"outlinewidth\":0,\"ticks\":\"\"}}}],\"scatter3d\":[{\"type\":\"scatter3d\",\"line\":{\"colorbar\":{\"outlinewidth\":0,\"ticks\":\"\"}},\"marker\":{\"colorbar\":{\"outlinewidth\":0,\"ticks\":\"\"}}}],\"scattermapbox\":[{\"type\":\"scattermapbox\",\"marker\":{\"colorbar\":{\"outlinewidth\":0,\"ticks\":\"\"}}}],\"scatterternary\":[{\"type\":\"scatterternary\",\"marker\":{\"colorbar\":{\"outlinewidth\":0,\"ticks\":\"\"}}}],\"scattercarpet\":[{\"type\":\"scattercarpet\",\"marker\":{\"colorbar\":{\"outlinewidth\":0,\"ticks\":\"\"}}}],\"carpet\":[{\"aaxis\":{\"endlinecolor\":\"#2a3f5f\",\"gridcolor\":\"white\",\"linecolor\":\"white\",\"minorgridcolor\":\"white\",\"startlinecolor\":\"#2a3f5f\"},\"baxis\":{\"endlinecolor\":\"#2a3f5f\",\"gridcolor\":\"white\",\"linecolor\":\"white\",\"minorgridcolor\":\"white\",\"startlinecolor\":\"#2a3f5f\"},\"type\":\"carpet\"}],\"table\":[{\"cells\":{\"fill\":{\"color\":\"#EBF0F8\"},\"line\":{\"color\":\"white\"}},\"header\":{\"fill\":{\"color\":\"#C8D4E3\"},\"line\":{\"color\":\"white\"}},\"type\":\"table\"}],\"barpolar\":[{\"marker\":{\"line\":{\"color\":\"#E5ECF6\",\"width\":0.5},\"pattern\":{\"fillmode\":\"overlay\",\"size\":10,\"solidity\":0.2}},\"type\":\"barpolar\"}],\"pie\":[{\"automargin\":true,\"type\":\"pie\"}]},\"layout\":{\"autotypenumbers\":\"strict\",\"colorway\":[\"#636efa\",\"#EF553B\",\"#00cc96\",\"#ab63fa\",\"#FFA15A\",\"#19d3f3\",\"#FF6692\",\"#B6E880\",\"#FF97FF\",\"#FECB52\"],\"font\":{\"color\":\"#2a3f5f\"},\"hovermode\":\"closest\",\"hoverlabel\":{\"align\":\"left\"},\"paper_bgcolor\":\"white\",\"plot_bgcolor\":\"#E5ECF6\",\"polar\":{\"bgcolor\":\"#E5ECF6\",\"angularaxis\":{\"gridcolor\":\"white\",\"linecolor\":\"white\",\"ticks\":\"\"},\"radialaxis\":{\"gridcolor\":\"white\",\"linecolor\":\"white\",\"ticks\":\"\"}},\"ternary\":{\"bgcolor\":\"#E5ECF6\",\"aaxis\":{\"gridcolor\":\"white\",\"linecolor\":\"white\",\"ticks\":\"\"},\"baxis\":{\"gridcolor\":\"white\",\"linecolor\":\"white\",\"ticks\":\"\"},\"caxis\":{\"gridcolor\":\"white\",\"linecolor\":\"white\",\"ticks\":\"\"}},\"coloraxis\":{\"colorbar\":{\"outlinewidth\":0,\"ticks\":\"\"}},\"colorscale\":{\"sequential\":[[0.0,\"#0d0887\"],[0.1111111111111111,\"#46039f\"],[0.2222222222222222,\"#7201a8\"],[0.3333333333333333,\"#9c179e\"],[0.4444444444444444,\"#bd3786\"],[0.5555555555555556,\"#d8576b\"],[0.6666666666666666,\"#ed7953\"],[0.7777777777777778,\"#fb9f3a\"],[0.8888888888888888,\"#fdca26\"],[1.0,\"#f0f921\"]],\"sequentialminus\":[[0.0,\"#0d0887\"],[0.1111111111111111,\"#46039f\"],[0.2222222222222222,\"#7201a8\"],[0.3333333333333333,\"#9c179e\"],[0.4444444444444444,\"#bd3786\"],[0.5555555555555556,\"#d8576b\"],[0.6666666666666666,\"#ed7953\"],[0.7777777777777778,\"#fb9f3a\"],[0.8888888888888888,\"#fdca26\"],[1.0,\"#f0f921\"]],\"diverging\":[[0,\"#8e0152\"],[0.1,\"#c51b7d\"],[0.2,\"#de77ae\"],[0.3,\"#f1b6da\"],[0.4,\"#fde0ef\"],[0.5,\"#f7f7f7\"],[0.6,\"#e6f5d0\"],[0.7,\"#b8e186\"],[0.8,\"#7fbc41\"],[0.9,\"#4d9221\"],[1,\"#276419\"]]},\"xaxis\":{\"gridcolor\":\"white\",\"linecolor\":\"white\",\"ticks\":\"\",\"title\":{\"standoff\":15},\"zerolinecolor\":\"white\",\"automargin\":true,\"zerolinewidth\":2},\"yaxis\":{\"gridcolor\":\"white\",\"linecolor\":\"white\",\"ticks\":\"\",\"title\":{\"standoff\":15},\"zerolinecolor\":\"white\",\"automargin\":true,\"zerolinewidth\":2},\"scene\":{\"xaxis\":{\"backgroundcolor\":\"#E5ECF6\",\"gridcolor\":\"white\",\"linecolor\":\"white\",\"showbackground\":true,\"ticks\":\"\",\"zerolinecolor\":\"white\",\"gridwidth\":2},\"yaxis\":{\"backgroundcolor\":\"#E5ECF6\",\"gridcolor\":\"white\",\"linecolor\":\"white\",\"showbackground\":true,\"ticks\":\"\",\"zerolinecolor\":\"white\",\"gridwidth\":2},\"zaxis\":{\"backgroundcolor\":\"#E5ECF6\",\"gridcolor\":\"white\",\"linecolor\":\"white\",\"showbackground\":true,\"ticks\":\"\",\"zerolinecolor\":\"white\",\"gridwidth\":2}},\"shapedefaults\":{\"line\":{\"color\":\"#2a3f5f\"}},\"annotationdefaults\":{\"arrowcolor\":\"#2a3f5f\",\"arrowhead\":0,\"arrowwidth\":1},\"geo\":{\"bgcolor\":\"white\",\"landcolor\":\"#E5ECF6\",\"subunitcolor\":\"white\",\"showland\":true,\"showlakes\":true,\"lakecolor\":\"white\"},\"title\":{\"x\":0.05},\"mapbox\":{\"style\":\"light\"}}},\"geo\":{\"domain\":{\"x\":[0.0,1.0],\"y\":[0.0,1.0]},\"center\":{},\"scope\":\"usa\"},\"legend\":{\"title\":{\"text\":\"Ganador\"},\"tracegroupgap\":0},\"margin\":{\"t\":60},\"updatemenus\":[{\"buttons\":[{\"args\":[null,{\"frame\":{\"duration\":500,\"redraw\":true},\"mode\":\"immediate\",\"fromcurrent\":true,\"transition\":{\"duration\":500,\"easing\":\"linear\"}}],\"label\":\"&#9654;\",\"method\":\"animate\"},{\"args\":[[null],{\"frame\":{\"duration\":0,\"redraw\":true},\"mode\":\"immediate\",\"fromcurrent\":true,\"transition\":{\"duration\":0,\"easing\":\"linear\"}}],\"label\":\"&#9724;\",\"method\":\"animate\"}],\"direction\":\"left\",\"pad\":{\"r\":10,\"t\":70},\"showactive\":false,\"type\":\"buttons\",\"x\":0.1,\"xanchor\":\"right\",\"y\":0,\"yanchor\":\"top\"}],\"sliders\":[{\"active\":0,\"currentvalue\":{\"prefix\":\"A\\u00f1o=\"},\"len\":0.9,\"pad\":{\"b\":10,\"t\":60},\"steps\":[{\"args\":[[\"1976\"],{\"frame\":{\"duration\":0,\"redraw\":true},\"mode\":\"immediate\",\"fromcurrent\":true,\"transition\":{\"duration\":0,\"easing\":\"linear\"}}],\"label\":\"1976\",\"method\":\"animate\"},{\"args\":[[\"1980\"],{\"frame\":{\"duration\":0,\"redraw\":true},\"mode\":\"immediate\",\"fromcurrent\":true,\"transition\":{\"duration\":0,\"easing\":\"linear\"}}],\"label\":\"1980\",\"method\":\"animate\"},{\"args\":[[\"1984\"],{\"frame\":{\"duration\":0,\"redraw\":true},\"mode\":\"immediate\",\"fromcurrent\":true,\"transition\":{\"duration\":0,\"easing\":\"linear\"}}],\"label\":\"1984\",\"method\":\"animate\"},{\"args\":[[\"1988\"],{\"frame\":{\"duration\":0,\"redraw\":true},\"mode\":\"immediate\",\"fromcurrent\":true,\"transition\":{\"duration\":0,\"easing\":\"linear\"}}],\"label\":\"1988\",\"method\":\"animate\"},{\"args\":[[\"1992\"],{\"frame\":{\"duration\":0,\"redraw\":true},\"mode\":\"immediate\",\"fromcurrent\":true,\"transition\":{\"duration\":0,\"easing\":\"linear\"}}],\"label\":\"1992\",\"method\":\"animate\"},{\"args\":[[\"1996\"],{\"frame\":{\"duration\":0,\"redraw\":true},\"mode\":\"immediate\",\"fromcurrent\":true,\"transition\":{\"duration\":0,\"easing\":\"linear\"}}],\"label\":\"1996\",\"method\":\"animate\"},{\"args\":[[\"2000\"],{\"frame\":{\"duration\":0,\"redraw\":true},\"mode\":\"immediate\",\"fromcurrent\":true,\"transition\":{\"duration\":0,\"easing\":\"linear\"}}],\"label\":\"2000\",\"method\":\"animate\"},{\"args\":[[\"2004\"],{\"frame\":{\"duration\":0,\"redraw\":true},\"mode\":\"immediate\",\"fromcurrent\":true,\"transition\":{\"duration\":0,\"easing\":\"linear\"}}],\"label\":\"2004\",\"method\":\"animate\"},{\"args\":[[\"2008\"],{\"frame\":{\"duration\":0,\"redraw\":true},\"mode\":\"immediate\",\"fromcurrent\":true,\"transition\":{\"duration\":0,\"easing\":\"linear\"}}],\"label\":\"2008\",\"method\":\"animate\"},{\"args\":[[\"2012\"],{\"frame\":{\"duration\":0,\"redraw\":true},\"mode\":\"immediate\",\"fromcurrent\":true,\"transition\":{\"duration\":0,\"easing\":\"linear\"}}],\"label\":\"2012\",\"method\":\"animate\"},{\"args\":[[\"2016\"],{\"frame\":{\"duration\":0,\"redraw\":true},\"mode\":\"immediate\",\"fromcurrent\":true,\"transition\":{\"duration\":0,\"easing\":\"linear\"}}],\"label\":\"2016\",\"method\":\"animate\"}],\"x\":0.1,\"xanchor\":\"left\",\"y\":0,\"yanchor\":\"top\"}]},                        {\"responsive\": true}                    ).then(function(){\n",
              "                            Plotly.addFrames('2c20dbde-5c28-491d-a72f-4245cfbf2c60', [{\"data\":[{\"colorscale\":[[0.0,\"red\"],[1.0,\"red\"]],\"geo\":\"geo\",\"hovertemplate\":\"<b>%{hovertext}</b><br><br>Ganador=republican<br>A\\u00f1o=1976<br>Cod_Estado=%{location}<extra></extra>\",\"hovertext\":[\"California\",\"Colorado\",\"Connecticut\",\"Idaho\",\"Illinois\",\"Indiana\",\"Iowa\",\"Kansas\",\"Maine\",\"Michigan\",\"Nebraska\",\"New Jersey\",\"Oregon\",\"South Dakota\",\"Utah\",\"Washington\"],\"locationmode\":\"USA-states\",\"locations\":[\"CA\",\"CO\",\"CT\",\"ID\",\"IL\",\"IN\",\"IA\",\"KS\",\"ME\",\"MI\",\"NE\",\"NJ\",\"OR\",\"SD\",\"UT\",\"WA\"],\"name\":\"republican\",\"showlegend\":true,\"showscale\":false,\"z\":[1,1,1,1,1,1,1,1,1,1,1,1,1,1,1,1],\"type\":\"choropleth\"},{\"colorscale\":[[0.0,\"blue\"],[1.0,\"blue\"]],\"geo\":\"geo\",\"hovertemplate\":\"<b>%{hovertext}</b><br><br>Ganador=democrat<br>A\\u00f1o=1976<br>Cod_Estado=%{location}<extra></extra>\",\"hovertext\":[\"Delaware\",\"Georgia\",\"Maryland\",\"Massachusetts\",\"Minnesota\",\"Missouri\",\"New York\",\"North Carolina\",\"Ohio\",\"South Carolina\"],\"locationmode\":\"USA-states\",\"locations\":[\"DE\",\"GA\",\"MD\",\"MA\",\"MN\",\"MO\",\"NY\",\"NC\",\"OH\",\"SC\"],\"name\":\"democrat\",\"showlegend\":true,\"showscale\":false,\"z\":[1,1,1,1,1,1,1,1,1,1],\"type\":\"choropleth\"}],\"name\":\"1976\"},{\"data\":[{\"colorscale\":[[0.0,\"red\"],[1.0,\"red\"]],\"geo\":\"geo\",\"hovertemplate\":\"<b>%{hovertext}</b><br><br>Ganador=republican<br>A\\u00f1o=1980<br>Cod_Estado=%{location}<extra></extra>\",\"hovertext\":[\"California\",\"Colorado\",\"Connecticut\",\"Delaware\",\"Idaho\",\"Illinois\",\"Iowa\",\"Kansas\",\"Maine\",\"Massachusetts\",\"Michigan\",\"Missouri\",\"Nebraska\",\"New Jersey\",\"North Carolina\",\"Ohio\",\"Oregon\",\"South Carolina\",\"South Dakota\",\"Washington\",\"Alabama\",\"Arizona\",\"Arkansas\",\"Florida\",\"Louisiana\",\"Mississippi\",\"Nevada\",\"New Hampshire\",\"North Dakota\",\"Oklahoma\",\"Pennsylvania\",\"Tennessee\",\"Texas\",\"Virginia\",\"Wisconsin\"],\"locationmode\":\"USA-states\",\"locations\":[\"CA\",\"CO\",\"CT\",\"DE\",\"ID\",\"IL\",\"IA\",\"KS\",\"ME\",\"MA\",\"MI\",\"MO\",\"NE\",\"NJ\",\"NC\",\"OH\",\"OR\",\"SC\",\"SD\",\"WA\",\"AL\",\"AZ\",\"AR\",\"FL\",\"LA\",\"MS\",\"NV\",\"NH\",\"ND\",\"OK\",\"PA\",\"TN\",\"TX\",\"VA\",\"WI\"],\"name\":\"republican\",\"showlegend\":true,\"showscale\":false,\"z\":[1,1,1,1,1,1,1,1,1,1,1,1,1,1,1,1,1,1,1,1,1,1,1,1,1,1,1,1,1,1,1,1,1,1,1],\"type\":\"choropleth\"},{\"colorscale\":[[0.0,\"blue\"],[1.0,\"blue\"]],\"geo\":\"geo\",\"hovertemplate\":\"<b>%{hovertext}</b><br><br>Ganador=democrat<br>A\\u00f1o=1980<br>Cod_Estado=%{location}<extra></extra>\",\"hovertext\":[\"Georgia\",\"Maryland\",\"Minnesota\",\"New York\",\"Hawaii\",\"Rhode Island\",\"West Virginia\"],\"locationmode\":\"USA-states\",\"locations\":[\"GA\",\"MD\",\"MN\",\"NY\",\"HI\",\"RI\",\"WV\"],\"name\":\"democrat\",\"showlegend\":true,\"showscale\":false,\"z\":[1,1,1,1,1,1,1],\"type\":\"choropleth\"}],\"name\":\"1980\"},{\"data\":[{\"colorscale\":[[0.0,\"red\"],[1.0,\"red\"]],\"geo\":\"geo\",\"hovertemplate\":\"<b>%{hovertext}</b><br><br>Ganador=republican<br>A\\u00f1o=1984<br>Cod_Estado=%{location}<extra></extra>\",\"hovertext\":[\"California\",\"Colorado\",\"Connecticut\",\"Illinois\",\"Indiana\",\"Iowa\",\"Kansas\",\"Maryland\",\"Massachusetts\",\"Missouri\",\"Nebraska\",\"New Jersey\",\"New York\",\"North Carolina\",\"Ohio\",\"Oregon\",\"Utah\",\"Washington\",\"Alabama\",\"Florida\",\"New Hampshire\",\"Pennsylvania\",\"Rhode Island\",\"Texas\",\"Virginia\",\"West Virginia\",\"Wisconsin\",\"Kentucky\",\"New Mexico\"],\"locationmode\":\"USA-states\",\"locations\":[\"CA\",\"CO\",\"CT\",\"IL\",\"IN\",\"IA\",\"KS\",\"MD\",\"MA\",\"MO\",\"NE\",\"NJ\",\"NY\",\"NC\",\"OH\",\"OR\",\"UT\",\"WA\",\"AL\",\"FL\",\"NH\",\"PA\",\"RI\",\"TX\",\"VA\",\"WV\",\"WI\",\"KY\",\"NM\"],\"name\":\"republican\",\"showlegend\":true,\"showscale\":false,\"z\":[1,1,1,1,1,1,1,1,1,1,1,1,1,1,1,1,1,1,1,1,1,1,1,1,1,1,1,1,1],\"type\":\"choropleth\"},{\"colorscale\":[[0.0,\"blue\"],[1.0,\"blue\"]],\"geo\":\"geo\",\"hovertemplate\":\"<b>%{hovertext}</b><br><br>Ganador=democrat<br>A\\u00f1o=1984<br>Cod_Estado=%{location}<extra></extra>\",\"hovertext\":[\"Minnesota\"],\"locationmode\":\"USA-states\",\"locations\":[\"MN\"],\"name\":\"democrat\",\"showlegend\":true,\"showscale\":false,\"z\":[1],\"type\":\"choropleth\"}],\"name\":\"1984\"},{\"data\":[{\"colorscale\":[[0.0,\"red\"],[1.0,\"red\"]],\"geo\":\"geo\",\"hovertemplate\":\"<b>%{hovertext}</b><br><br>Ganador=republican<br>A\\u00f1o=1988<br>Cod_Estado=%{location}<extra></extra>\",\"hovertext\":[\"California\",\"Colorado\",\"Connecticut\",\"Delaware\",\"Georgia\",\"Illinois\",\"Indiana\",\"Kansas\",\"Maine\",\"Maryland\",\"Michigan\",\"Missouri\",\"Nebraska\",\"New Jersey\",\"North Carolina\",\"Ohio\",\"South Carolina\",\"South Dakota\",\"Utah\",\"Alabama\",\"Arizona\",\"Arkansas\",\"Florida\",\"Louisiana\",\"Mississippi\",\"Nevada\",\"New Hampshire\",\"North Dakota\",\"Oklahoma\",\"Pennsylvania\",\"Tennessee\",\"Texas\",\"Virginia\",\"Kentucky\",\"New Mexico\",\"Alaska\",\"Montana\",\"Vermont\",\"Wyoming\"],\"locationmode\":\"USA-states\",\"locations\":[\"CA\",\"CO\",\"CT\",\"DE\",\"GA\",\"IL\",\"IN\",\"KS\",\"ME\",\"MD\",\"MI\",\"MO\",\"NE\",\"NJ\",\"NC\",\"OH\",\"SC\",\"SD\",\"UT\",\"AL\",\"AZ\",\"AR\",\"FL\",\"LA\",\"MS\",\"NV\",\"NH\",\"ND\",\"OK\",\"PA\",\"TN\",\"TX\",\"VA\",\"KY\",\"NM\",\"AK\",\"MT\",\"VT\",\"WY\"],\"name\":\"republican\",\"showlegend\":true,\"showscale\":false,\"z\":[1,1,1,1,1,1,1,1,1,1,1,1,1,1,1,1,1,1,1,1,1,1,1,1,1,1,1,1,1,1,1,1,1,1,1,1,1,1,1],\"type\":\"choropleth\"},{\"colorscale\":[[0.0,\"blue\"],[1.0,\"blue\"]],\"geo\":\"geo\",\"hovertemplate\":\"<b>%{hovertext}</b><br><br>Ganador=democrat<br>A\\u00f1o=1988<br>Cod_Estado=%{location}<extra></extra>\",\"hovertext\":[\"Iowa\",\"Massachusetts\",\"Minnesota\",\"New York\",\"Oregon\",\"Washington\",\"Hawaii\",\"Rhode Island\",\"West Virginia\",\"Wisconsin\"],\"locationmode\":\"USA-states\",\"locations\":[\"IA\",\"MA\",\"MN\",\"NY\",\"OR\",\"WA\",\"HI\",\"RI\",\"WV\",\"WI\"],\"name\":\"democrat\",\"showlegend\":true,\"showscale\":false,\"z\":[1,1,1,1,1,1,1,1,1,1],\"type\":\"choropleth\"}],\"name\":\"1988\"},{\"data\":[{\"colorscale\":[[0.0,\"red\"],[1.0,\"red\"]],\"geo\":\"geo\",\"hovertemplate\":\"<b>%{hovertext}</b><br><br>Ganador=republican<br>A\\u00f1o=1992<br>Cod_Estado=%{location}<extra></extra>\",\"hovertext\":[\"Idaho\",\"Indiana\",\"Kansas\",\"Nebraska\",\"North Carolina\",\"South Carolina\",\"South Dakota\",\"Utah\",\"Alabama\",\"Arizona\",\"Florida\",\"Mississippi\",\"North Dakota\",\"Oklahoma\",\"Texas\",\"Virginia\",\"Alaska\",\"Wyoming\"],\"locationmode\":\"USA-states\",\"locations\":[\"ID\",\"IN\",\"KS\",\"NE\",\"NC\",\"SC\",\"SD\",\"UT\",\"AL\",\"AZ\",\"FL\",\"MS\",\"ND\",\"OK\",\"TX\",\"VA\",\"AK\",\"WY\"],\"name\":\"republican\",\"showlegend\":true,\"showscale\":false,\"z\":[1,1,1,1,1,1,1,1,1,1,1,1,1,1,1,1,1,1],\"type\":\"choropleth\"},{\"colorscale\":[[0.0,\"blue\"],[1.0,\"blue\"]],\"geo\":\"geo\",\"hovertemplate\":\"<b>%{hovertext}</b><br><br>Ganador=democrat<br>A\\u00f1o=1992<br>Cod_Estado=%{location}<extra></extra>\",\"hovertext\":[\"California\",\"Colorado\",\"Connecticut\",\"Delaware\",\"Georgia\",\"Illinois\",\"Iowa\",\"Maine\",\"Maryland\",\"Massachusetts\",\"Michigan\",\"Minnesota\",\"Missouri\",\"New Jersey\",\"New York\",\"Ohio\",\"Oregon\",\"Washington\",\"Arkansas\",\"Hawaii\",\"Louisiana\",\"Nevada\",\"New Hampshire\",\"Pennsylvania\",\"Rhode Island\",\"Tennessee\",\"West Virginia\",\"Wisconsin\",\"Kentucky\",\"New Mexico\",\"Montana\",\"Vermont\"],\"locationmode\":\"USA-states\",\"locations\":[\"CA\",\"CO\",\"CT\",\"DE\",\"GA\",\"IL\",\"IA\",\"ME\",\"MD\",\"MA\",\"MI\",\"MN\",\"MO\",\"NJ\",\"NY\",\"OH\",\"OR\",\"WA\",\"AR\",\"HI\",\"LA\",\"NV\",\"NH\",\"PA\",\"RI\",\"TN\",\"WV\",\"WI\",\"KY\",\"NM\",\"MT\",\"VT\"],\"name\":\"democrat\",\"showlegend\":true,\"showscale\":false,\"z\":[1,1,1,1,1,1,1,1,1,1,1,1,1,1,1,1,1,1,1,1,1,1,1,1,1,1,1,1,1,1,1,1],\"type\":\"choropleth\"}],\"name\":\"1992\"},{\"data\":[{\"colorscale\":[[0.0,\"red\"],[1.0,\"red\"]],\"geo\":\"geo\",\"hovertemplate\":\"<b>%{hovertext}</b><br><br>Ganador=republican<br>A\\u00f1o=1996<br>Cod_Estado=%{location}<extra></extra>\",\"hovertext\":[\"Colorado\",\"Georgia\",\"Idaho\",\"Indiana\",\"Kansas\",\"Nebraska\",\"North Carolina\",\"South Carolina\",\"South Dakota\",\"Utah\",\"Alabama\",\"Mississippi\",\"North Dakota\",\"Oklahoma\",\"Texas\",\"Virginia\",\"Alaska\",\"Montana\",\"Wyoming\"],\"locationmode\":\"USA-states\",\"locations\":[\"CO\",\"GA\",\"ID\",\"IN\",\"KS\",\"NE\",\"NC\",\"SC\",\"SD\",\"UT\",\"AL\",\"MS\",\"ND\",\"OK\",\"TX\",\"VA\",\"AK\",\"MT\",\"WY\"],\"name\":\"republican\",\"showlegend\":true,\"showscale\":false,\"z\":[1,1,1,1,1,1,1,1,1,1,1,1,1,1,1,1,1,1,1],\"type\":\"choropleth\"},{\"colorscale\":[[0.0,\"blue\"],[1.0,\"blue\"]],\"geo\":\"geo\",\"hovertemplate\":\"<b>%{hovertext}</b><br><br>Ganador=democrat<br>A\\u00f1o=1996<br>Cod_Estado=%{location}<extra></extra>\",\"hovertext\":[\"California\",\"Connecticut\",\"Delaware\",\"Illinois\",\"Iowa\",\"Maine\",\"Maryland\",\"Massachusetts\",\"Michigan\",\"Minnesota\",\"Missouri\",\"New Jersey\",\"New York\",\"Ohio\",\"Oregon\",\"Washington\",\"Arizona\",\"Arkansas\",\"Florida\",\"Hawaii\",\"Louisiana\",\"Nevada\",\"New Hampshire\",\"Pennsylvania\",\"Rhode Island\",\"Tennessee\",\"West Virginia\",\"Wisconsin\",\"Kentucky\",\"New Mexico\",\"Vermont\"],\"locationmode\":\"USA-states\",\"locations\":[\"CA\",\"CT\",\"DE\",\"IL\",\"IA\",\"ME\",\"MD\",\"MA\",\"MI\",\"MN\",\"MO\",\"NJ\",\"NY\",\"OH\",\"OR\",\"WA\",\"AZ\",\"AR\",\"FL\",\"HI\",\"LA\",\"NV\",\"NH\",\"PA\",\"RI\",\"TN\",\"WV\",\"WI\",\"KY\",\"NM\",\"VT\"],\"name\":\"democrat\",\"showlegend\":true,\"showscale\":false,\"z\":[1,1,1,1,1,1,1,1,1,1,1,1,1,1,1,1,1,1,1,1,1,1,1,1,1,1,1,1,1,1,1],\"type\":\"choropleth\"}],\"name\":\"1996\"},{\"data\":[{\"colorscale\":[[0.0,\"red\"],[1.0,\"red\"]],\"geo\":\"geo\",\"hovertemplate\":\"<b>%{hovertext}</b><br><br>Ganador=republican<br>A\\u00f1o=2000<br>Cod_Estado=%{location}<extra></extra>\",\"hovertext\":[\"Colorado\",\"Georgia\",\"Idaho\",\"Indiana\",\"Kansas\",\"Missouri\",\"Nebraska\",\"North Carolina\",\"Ohio\",\"South Carolina\",\"South Dakota\",\"Utah\",\"Alabama\",\"Arizona\",\"Arkansas\",\"Florida\",\"Louisiana\",\"Mississippi\",\"Nevada\",\"New Hampshire\",\"North Dakota\",\"Oklahoma\",\"Tennessee\",\"Texas\",\"Virginia\",\"West Virginia\",\"Kentucky\",\"Alaska\",\"Montana\",\"Wyoming\"],\"locationmode\":\"USA-states\",\"locations\":[\"CO\",\"GA\",\"ID\",\"IN\",\"KS\",\"MO\",\"NE\",\"NC\",\"OH\",\"SC\",\"SD\",\"UT\",\"AL\",\"AZ\",\"AR\",\"FL\",\"LA\",\"MS\",\"NV\",\"NH\",\"ND\",\"OK\",\"TN\",\"TX\",\"VA\",\"WV\",\"KY\",\"AK\",\"MT\",\"WY\"],\"name\":\"republican\",\"showlegend\":true,\"showscale\":false,\"z\":[1,1,1,1,1,1,1,1,1,1,1,1,1,1,1,1,1,1,1,1,1,1,1,1,1,1,1,1,1,1],\"type\":\"choropleth\"},{\"colorscale\":[[0.0,\"blue\"],[1.0,\"blue\"]],\"geo\":\"geo\",\"hovertemplate\":\"<b>%{hovertext}</b><br><br>Ganador=democrat<br>A\\u00f1o=2000<br>Cod_Estado=%{location}<extra></extra>\",\"hovertext\":[\"California\",\"Connecticut\",\"Delaware\",\"Illinois\",\"Iowa\",\"Maine\",\"Maryland\",\"Massachusetts\",\"Michigan\",\"Minnesota\",\"New Jersey\",\"New York\",\"Oregon\",\"Washington\",\"Hawaii\",\"Pennsylvania\",\"Rhode Island\",\"Wisconsin\",\"New Mexico\",\"Vermont\"],\"locationmode\":\"USA-states\",\"locations\":[\"CA\",\"CT\",\"DE\",\"IL\",\"IA\",\"ME\",\"MD\",\"MA\",\"MI\",\"MN\",\"NJ\",\"NY\",\"OR\",\"WA\",\"HI\",\"PA\",\"RI\",\"WI\",\"NM\",\"VT\"],\"name\":\"democrat\",\"showlegend\":true,\"showscale\":false,\"z\":[1,1,1,1,1,1,1,1,1,1,1,1,1,1,1,1,1,1,1,1],\"type\":\"choropleth\"}],\"name\":\"2000\"},{\"data\":[{\"colorscale\":[[0.0,\"red\"],[1.0,\"red\"]],\"geo\":\"geo\",\"hovertemplate\":\"<b>%{hovertext}</b><br><br>Ganador=republican<br>A\\u00f1o=2004<br>Cod_Estado=%{location}<extra></extra>\",\"hovertext\":[\"Colorado\",\"Georgia\",\"Idaho\",\"Indiana\",\"Iowa\",\"Kansas\",\"Missouri\",\"Nebraska\",\"North Carolina\",\"Ohio\",\"South Carolina\",\"South Dakota\",\"Utah\",\"Alabama\",\"Arizona\",\"Arkansas\",\"Florida\",\"Louisiana\",\"Mississippi\",\"Nevada\",\"North Dakota\",\"Oklahoma\",\"Tennessee\",\"Texas\",\"Virginia\",\"West Virginia\",\"Kentucky\",\"New Mexico\",\"Alaska\",\"Montana\"],\"locationmode\":\"USA-states\",\"locations\":[\"CO\",\"GA\",\"ID\",\"IN\",\"IA\",\"KS\",\"MO\",\"NE\",\"NC\",\"OH\",\"SC\",\"SD\",\"UT\",\"AL\",\"AZ\",\"AR\",\"FL\",\"LA\",\"MS\",\"NV\",\"ND\",\"OK\",\"TN\",\"TX\",\"VA\",\"WV\",\"KY\",\"NM\",\"AK\",\"MT\"],\"name\":\"republican\",\"showlegend\":true,\"showscale\":false,\"z\":[1,1,1,1,1,1,1,1,1,1,1,1,1,1,1,1,1,1,1,1,1,1,1,1,1,1,1,1,1,1],\"type\":\"choropleth\"},{\"colorscale\":[[0.0,\"blue\"],[1.0,\"blue\"]],\"geo\":\"geo\",\"hovertemplate\":\"<b>%{hovertext}</b><br><br>Ganador=democrat<br>A\\u00f1o=2004<br>Cod_Estado=%{location}<extra></extra>\",\"hovertext\":[\"California\",\"Connecticut\",\"Delaware\",\"Illinois\",\"Maine\",\"Maryland\",\"Massachusetts\",\"Michigan\",\"Minnesota\",\"New Jersey\",\"New York\",\"Oregon\",\"Washington\",\"Hawaii\",\"New Hampshire\",\"Pennsylvania\",\"Rhode Island\",\"Wisconsin\",\"Vermont\"],\"locationmode\":\"USA-states\",\"locations\":[\"CA\",\"CT\",\"DE\",\"IL\",\"ME\",\"MD\",\"MA\",\"MI\",\"MN\",\"NJ\",\"NY\",\"OR\",\"WA\",\"HI\",\"NH\",\"PA\",\"RI\",\"WI\",\"VT\"],\"name\":\"democrat\",\"showlegend\":true,\"showscale\":false,\"z\":[1,1,1,1,1,1,1,1,1,1,1,1,1,1,1,1,1,1,1],\"type\":\"choropleth\"}],\"name\":\"2004\"},{\"data\":[{\"colorscale\":[[0.0,\"red\"],[1.0,\"red\"]],\"geo\":\"geo\",\"hovertemplate\":\"<b>%{hovertext}</b><br><br>Ganador=republican<br>A\\u00f1o=2008<br>Cod_Estado=%{location}<extra></extra>\",\"hovertext\":[\"Georgia\",\"Idaho\",\"Kansas\",\"Missouri\",\"Nebraska\",\"South Carolina\",\"South Dakota\",\"Utah\",\"Alabama\",\"Arizona\",\"Arkansas\",\"Louisiana\",\"Mississippi\",\"North Dakota\",\"Oklahoma\",\"Tennessee\",\"Texas\",\"West Virginia\",\"Kentucky\",\"Alaska\",\"Montana\",\"Wyoming\"],\"locationmode\":\"USA-states\",\"locations\":[\"GA\",\"ID\",\"KS\",\"MO\",\"NE\",\"SC\",\"SD\",\"UT\",\"AL\",\"AZ\",\"AR\",\"LA\",\"MS\",\"ND\",\"OK\",\"TN\",\"TX\",\"WV\",\"KY\",\"AK\",\"MT\",\"WY\"],\"name\":\"republican\",\"showlegend\":true,\"showscale\":false,\"z\":[1,1,1,1,1,1,1,1,1,1,1,1,1,1,1,1,1,1,1,1,1,1],\"type\":\"choropleth\"},{\"colorscale\":[[0.0,\"blue\"],[1.0,\"blue\"]],\"geo\":\"geo\",\"hovertemplate\":\"<b>%{hovertext}</b><br><br>Ganador=democrat<br>A\\u00f1o=2008<br>Cod_Estado=%{location}<extra></extra>\",\"hovertext\":[\"California\",\"Colorado\",\"Connecticut\",\"Delaware\",\"Illinois\",\"Indiana\",\"Iowa\",\"Maine\",\"Maryland\",\"Massachusetts\",\"Michigan\",\"Minnesota\",\"New Jersey\",\"New York\",\"North Carolina\",\"Ohio\",\"Oregon\",\"Washington\",\"Florida\",\"Hawaii\",\"Nevada\",\"New Hampshire\",\"Pennsylvania\",\"Rhode Island\",\"Virginia\",\"Wisconsin\",\"New Mexico\",\"Vermont\"],\"locationmode\":\"USA-states\",\"locations\":[\"CA\",\"CO\",\"CT\",\"DE\",\"IL\",\"IN\",\"IA\",\"ME\",\"MD\",\"MA\",\"MI\",\"MN\",\"NJ\",\"NY\",\"NC\",\"OH\",\"OR\",\"WA\",\"FL\",\"HI\",\"NV\",\"NH\",\"PA\",\"RI\",\"VA\",\"WI\",\"NM\",\"VT\"],\"name\":\"democrat\",\"showlegend\":true,\"showscale\":false,\"z\":[1,1,1,1,1,1,1,1,1,1,1,1,1,1,1,1,1,1,1,1,1,1,1,1,1,1,1,1],\"type\":\"choropleth\"}],\"name\":\"2008\"},{\"data\":[{\"colorscale\":[[0.0,\"red\"],[1.0,\"red\"]],\"geo\":\"geo\",\"hovertemplate\":\"<b>%{hovertext}</b><br><br>Ganador=republican<br>A\\u00f1o=2012<br>Cod_Estado=%{location}<extra></extra>\",\"hovertext\":[\"Georgia\",\"Idaho\",\"Indiana\",\"Kansas\",\"Missouri\",\"Nebraska\",\"North Carolina\",\"South Carolina\",\"South Dakota\",\"Utah\",\"Alabama\",\"Arizona\",\"Arkansas\",\"Louisiana\",\"North Dakota\",\"Oklahoma\",\"Tennessee\",\"Texas\",\"West Virginia\",\"Kentucky\",\"Montana\"],\"locationmode\":\"USA-states\",\"locations\":[\"GA\",\"ID\",\"IN\",\"KS\",\"MO\",\"NE\",\"NC\",\"SC\",\"SD\",\"UT\",\"AL\",\"AZ\",\"AR\",\"LA\",\"ND\",\"OK\",\"TN\",\"TX\",\"WV\",\"KY\",\"MT\"],\"name\":\"republican\",\"showlegend\":true,\"showscale\":false,\"z\":[1,1,1,1,1,1,1,1,1,1,1,1,1,1,1,1,1,1,1,1,1],\"type\":\"choropleth\"},{\"colorscale\":[[0.0,\"blue\"],[1.0,\"blue\"]],\"geo\":\"geo\",\"hovertemplate\":\"<b>%{hovertext}</b><br><br>Ganador=democrat<br>A\\u00f1o=2012<br>Cod_Estado=%{location}<extra></extra>\",\"hovertext\":[\"California\",\"Colorado\",\"Connecticut\",\"Illinois\",\"Iowa\",\"Maine\",\"Maryland\",\"Massachusetts\",\"Michigan\",\"Minnesota\",\"New Jersey\",\"New York\",\"Ohio\",\"Oregon\",\"Washington\",\"Florida\",\"Hawaii\",\"Nevada\",\"New Hampshire\",\"Pennsylvania\",\"Rhode Island\",\"Virginia\",\"Wisconsin\",\"New Mexico\",\"Vermont\"],\"locationmode\":\"USA-states\",\"locations\":[\"CA\",\"CO\",\"CT\",\"IL\",\"IA\",\"ME\",\"MD\",\"MA\",\"MI\",\"MN\",\"NJ\",\"NY\",\"OH\",\"OR\",\"WA\",\"FL\",\"HI\",\"NV\",\"NH\",\"PA\",\"RI\",\"VA\",\"WI\",\"NM\",\"VT\"],\"name\":\"democrat\",\"showlegend\":true,\"showscale\":false,\"z\":[1,1,1,1,1,1,1,1,1,1,1,1,1,1,1,1,1,1,1,1,1,1,1,1,1],\"type\":\"choropleth\"}],\"name\":\"2012\"},{\"data\":[{\"colorscale\":[[0.0,\"red\"],[1.0,\"red\"]],\"geo\":\"geo\",\"hovertemplate\":\"<b>%{hovertext}</b><br><br>Ganador=republican<br>A\\u00f1o=2016<br>Cod_Estado=%{location}<extra></extra>\",\"hovertext\":[\"Georgia\",\"Idaho\",\"Indiana\",\"Iowa\",\"Kansas\",\"Michigan\",\"Missouri\",\"Nebraska\",\"North Carolina\",\"Ohio\",\"South Carolina\",\"South Dakota\",\"Utah\",\"Alabama\",\"Arizona\",\"Arkansas\",\"Florida\",\"Louisiana\",\"Mississippi\",\"North Dakota\",\"Oklahoma\",\"Pennsylvania\",\"Tennessee\",\"Texas\",\"West Virginia\",\"Wisconsin\",\"Kentucky\",\"Alaska\",\"Montana\",\"Wyoming\"],\"locationmode\":\"USA-states\",\"locations\":[\"GA\",\"ID\",\"IN\",\"IA\",\"KS\",\"MI\",\"MO\",\"NE\",\"NC\",\"OH\",\"SC\",\"SD\",\"UT\",\"AL\",\"AZ\",\"AR\",\"FL\",\"LA\",\"MS\",\"ND\",\"OK\",\"PA\",\"TN\",\"TX\",\"WV\",\"WI\",\"KY\",\"AK\",\"MT\",\"WY\"],\"name\":\"republican\",\"showlegend\":true,\"showscale\":false,\"z\":[1,1,1,1,1,1,1,1,1,1,1,1,1,1,1,1,1,1,1,1,1,1,1,1,1,1,1,1,1,1],\"type\":\"choropleth\"},{\"colorscale\":[[0.0,\"blue\"],[1.0,\"blue\"]],\"geo\":\"geo\",\"hovertemplate\":\"<b>%{hovertext}</b><br><br>Ganador=democrat<br>A\\u00f1o=2016<br>Cod_Estado=%{location}<extra></extra>\",\"hovertext\":[\"California\",\"Colorado\",\"Connecticut\",\"Delaware\",\"Illinois\",\"Maine\",\"Maryland\",\"Massachusetts\",\"Minnesota\",\"New Jersey\",\"New York\",\"Oregon\",\"Washington\",\"Hawaii\",\"Nevada\",\"New Hampshire\",\"Rhode Island\",\"Virginia\",\"New Mexico\",\"Vermont\"],\"locationmode\":\"USA-states\",\"locations\":[\"CA\",\"CO\",\"CT\",\"DE\",\"IL\",\"ME\",\"MD\",\"MA\",\"MN\",\"NJ\",\"NY\",\"OR\",\"WA\",\"HI\",\"NV\",\"NH\",\"RI\",\"VA\",\"NM\",\"VT\"],\"name\":\"democrat\",\"showlegend\":true,\"showscale\":false,\"z\":[1,1,1,1,1,1,1,1,1,1,1,1,1,1,1,1,1,1,1,1],\"type\":\"choropleth\"}],\"name\":\"2016\"}]);\n",
              "                        }).then(function(){\n",
              "                            \n",
              "var gd = document.getElementById('2c20dbde-5c28-491d-a72f-4245cfbf2c60');\n",
              "var x = new MutationObserver(function (mutations, observer) {{\n",
              "        var display = window.getComputedStyle(gd).display;\n",
              "        if (!display || display === 'none') {{\n",
              "            console.log([gd, 'removed!']);\n",
              "            Plotly.purge(gd);\n",
              "            observer.disconnect();\n",
              "        }}\n",
              "}});\n",
              "\n",
              "// Listen for the removal of the full notebook cells\n",
              "var notebookContainer = gd.closest('#notebook-container');\n",
              "if (notebookContainer) {{\n",
              "    x.observe(notebookContainer, {childList: true});\n",
              "}}\n",
              "\n",
              "// Listen for the clearing of the current output cell\n",
              "var outputEl = gd.closest('.output');\n",
              "if (outputEl) {{\n",
              "    x.observe(outputEl, {childList: true});\n",
              "}}\n",
              "\n",
              "                        })                };                            </script>        </div>\n",
              "</body>\n",
              "</html>"
            ]
          },
          "metadata": {}
        }
      ]
    },
    {
      "cell_type": "markdown",
      "source": [
        "# **Más practica... Sueldos por roles en tecnologia...**"
      ],
      "metadata": {
        "id": "xDqjDeImBiTs"
      },
      "id": "xDqjDeImBiTs"
    },
    {
      "cell_type": "code",
      "source": [
        "salarios = \"https://raw.githubusercontent.com/cristiandarioortegayubro/base/main/dataset/salary.csv\""
      ],
      "metadata": {
        "id": "Vi5bByBlCF3T"
      },
      "id": "Vi5bByBlCF3T",
      "execution_count": 38,
      "outputs": []
    },
    {
      "cell_type": "markdown",
      "source": [
        "## **Ej.01 Crear el dataframe...**"
      ],
      "metadata": {
        "id": "fs2JXR-nDGx7"
      },
      "id": "fs2JXR-nDGx7"
    },
    {
      "cell_type": "markdown",
      "source": [
        "**Crear el dataframe y ver el tamaño del mismo...**"
      ],
      "metadata": {
        "id": "6EB_f5E8oQ4R"
      },
      "id": "6EB_f5E8oQ4R"
    },
    {
      "cell_type": "code",
      "source": [
        "df = pd.read_csv(salarios)\n",
        "df"
      ],
      "metadata": {
        "colab": {
          "base_uri": "https://localhost:8080/",
          "height": 687
        },
        "id": "3CNKeVNRCTA5",
        "outputId": "d33c57d7-7c9b-44be-d482-c6b0aa4c4acd"
      },
      "id": "3CNKeVNRCTA5",
      "execution_count": 39,
      "outputs": [
        {
          "output_type": "execute_result",
          "data": {
            "text/plain": [
              "     work_year experience_level employment_type                   job_title  \\\n",
              "0         2020               MI              FT              Data Scientist   \n",
              "1         2020               SE              FT  Machine Learning Scientist   \n",
              "2         2020               SE              FT           Big Data Engineer   \n",
              "3         2020               MI              FT        Product Data Analyst   \n",
              "4         2020               SE              FT   Machine Learning Engineer   \n",
              "..         ...              ...             ...                         ...   \n",
              "602       2022               SE              FT               Data Engineer   \n",
              "603       2022               SE              FT               Data Engineer   \n",
              "604       2022               SE              FT                Data Analyst   \n",
              "605       2022               SE              FT                Data Analyst   \n",
              "606       2022               MI              FT                AI Scientist   \n",
              "\n",
              "     salary salary_currency  salary_in_usd employee_residence  remote_ratio  \\\n",
              "0     70000             EUR          79833                 DE             0   \n",
              "1    260000             USD         260000                 JP             0   \n",
              "2     85000             GBP         109024                 GB            50   \n",
              "3     20000             USD          20000                 HN             0   \n",
              "4    150000             USD         150000                 US            50   \n",
              "..      ...             ...            ...                ...           ...   \n",
              "602  154000             USD         154000                 US           100   \n",
              "603  126000             USD         126000                 US           100   \n",
              "604  129000             USD         129000                 US             0   \n",
              "605  150000             USD         150000                 US           100   \n",
              "606  200000             USD         200000                 IN           100   \n",
              "\n",
              "    company_location company_size  \n",
              "0                 DE            L  \n",
              "1                 JP            S  \n",
              "2                 GB            M  \n",
              "3                 HN            S  \n",
              "4                 US            L  \n",
              "..               ...          ...  \n",
              "602               US            M  \n",
              "603               US            M  \n",
              "604               US            M  \n",
              "605               US            M  \n",
              "606               US            L  \n",
              "\n",
              "[607 rows x 11 columns]"
            ],
            "text/html": [
              "\n",
              "  <div id=\"df-aab91671-bdae-4cad-9c73-a2650b4a0dbe\">\n",
              "    <div class=\"colab-df-container\">\n",
              "      <div>\n",
              "<style scoped>\n",
              "    .dataframe tbody tr th:only-of-type {\n",
              "        vertical-align: middle;\n",
              "    }\n",
              "\n",
              "    .dataframe tbody tr th {\n",
              "        vertical-align: top;\n",
              "    }\n",
              "\n",
              "    .dataframe thead th {\n",
              "        text-align: right;\n",
              "    }\n",
              "</style>\n",
              "<table border=\"1\" class=\"dataframe\">\n",
              "  <thead>\n",
              "    <tr style=\"text-align: right;\">\n",
              "      <th></th>\n",
              "      <th>work_year</th>\n",
              "      <th>experience_level</th>\n",
              "      <th>employment_type</th>\n",
              "      <th>job_title</th>\n",
              "      <th>salary</th>\n",
              "      <th>salary_currency</th>\n",
              "      <th>salary_in_usd</th>\n",
              "      <th>employee_residence</th>\n",
              "      <th>remote_ratio</th>\n",
              "      <th>company_location</th>\n",
              "      <th>company_size</th>\n",
              "    </tr>\n",
              "  </thead>\n",
              "  <tbody>\n",
              "    <tr>\n",
              "      <th>0</th>\n",
              "      <td>2020</td>\n",
              "      <td>MI</td>\n",
              "      <td>FT</td>\n",
              "      <td>Data Scientist</td>\n",
              "      <td>70000</td>\n",
              "      <td>EUR</td>\n",
              "      <td>79833</td>\n",
              "      <td>DE</td>\n",
              "      <td>0</td>\n",
              "      <td>DE</td>\n",
              "      <td>L</td>\n",
              "    </tr>\n",
              "    <tr>\n",
              "      <th>1</th>\n",
              "      <td>2020</td>\n",
              "      <td>SE</td>\n",
              "      <td>FT</td>\n",
              "      <td>Machine Learning Scientist</td>\n",
              "      <td>260000</td>\n",
              "      <td>USD</td>\n",
              "      <td>260000</td>\n",
              "      <td>JP</td>\n",
              "      <td>0</td>\n",
              "      <td>JP</td>\n",
              "      <td>S</td>\n",
              "    </tr>\n",
              "    <tr>\n",
              "      <th>2</th>\n",
              "      <td>2020</td>\n",
              "      <td>SE</td>\n",
              "      <td>FT</td>\n",
              "      <td>Big Data Engineer</td>\n",
              "      <td>85000</td>\n",
              "      <td>GBP</td>\n",
              "      <td>109024</td>\n",
              "      <td>GB</td>\n",
              "      <td>50</td>\n",
              "      <td>GB</td>\n",
              "      <td>M</td>\n",
              "    </tr>\n",
              "    <tr>\n",
              "      <th>3</th>\n",
              "      <td>2020</td>\n",
              "      <td>MI</td>\n",
              "      <td>FT</td>\n",
              "      <td>Product Data Analyst</td>\n",
              "      <td>20000</td>\n",
              "      <td>USD</td>\n",
              "      <td>20000</td>\n",
              "      <td>HN</td>\n",
              "      <td>0</td>\n",
              "      <td>HN</td>\n",
              "      <td>S</td>\n",
              "    </tr>\n",
              "    <tr>\n",
              "      <th>4</th>\n",
              "      <td>2020</td>\n",
              "      <td>SE</td>\n",
              "      <td>FT</td>\n",
              "      <td>Machine Learning Engineer</td>\n",
              "      <td>150000</td>\n",
              "      <td>USD</td>\n",
              "      <td>150000</td>\n",
              "      <td>US</td>\n",
              "      <td>50</td>\n",
              "      <td>US</td>\n",
              "      <td>L</td>\n",
              "    </tr>\n",
              "    <tr>\n",
              "      <th>...</th>\n",
              "      <td>...</td>\n",
              "      <td>...</td>\n",
              "      <td>...</td>\n",
              "      <td>...</td>\n",
              "      <td>...</td>\n",
              "      <td>...</td>\n",
              "      <td>...</td>\n",
              "      <td>...</td>\n",
              "      <td>...</td>\n",
              "      <td>...</td>\n",
              "      <td>...</td>\n",
              "    </tr>\n",
              "    <tr>\n",
              "      <th>602</th>\n",
              "      <td>2022</td>\n",
              "      <td>SE</td>\n",
              "      <td>FT</td>\n",
              "      <td>Data Engineer</td>\n",
              "      <td>154000</td>\n",
              "      <td>USD</td>\n",
              "      <td>154000</td>\n",
              "      <td>US</td>\n",
              "      <td>100</td>\n",
              "      <td>US</td>\n",
              "      <td>M</td>\n",
              "    </tr>\n",
              "    <tr>\n",
              "      <th>603</th>\n",
              "      <td>2022</td>\n",
              "      <td>SE</td>\n",
              "      <td>FT</td>\n",
              "      <td>Data Engineer</td>\n",
              "      <td>126000</td>\n",
              "      <td>USD</td>\n",
              "      <td>126000</td>\n",
              "      <td>US</td>\n",
              "      <td>100</td>\n",
              "      <td>US</td>\n",
              "      <td>M</td>\n",
              "    </tr>\n",
              "    <tr>\n",
              "      <th>604</th>\n",
              "      <td>2022</td>\n",
              "      <td>SE</td>\n",
              "      <td>FT</td>\n",
              "      <td>Data Analyst</td>\n",
              "      <td>129000</td>\n",
              "      <td>USD</td>\n",
              "      <td>129000</td>\n",
              "      <td>US</td>\n",
              "      <td>0</td>\n",
              "      <td>US</td>\n",
              "      <td>M</td>\n",
              "    </tr>\n",
              "    <tr>\n",
              "      <th>605</th>\n",
              "      <td>2022</td>\n",
              "      <td>SE</td>\n",
              "      <td>FT</td>\n",
              "      <td>Data Analyst</td>\n",
              "      <td>150000</td>\n",
              "      <td>USD</td>\n",
              "      <td>150000</td>\n",
              "      <td>US</td>\n",
              "      <td>100</td>\n",
              "      <td>US</td>\n",
              "      <td>M</td>\n",
              "    </tr>\n",
              "    <tr>\n",
              "      <th>606</th>\n",
              "      <td>2022</td>\n",
              "      <td>MI</td>\n",
              "      <td>FT</td>\n",
              "      <td>AI Scientist</td>\n",
              "      <td>200000</td>\n",
              "      <td>USD</td>\n",
              "      <td>200000</td>\n",
              "      <td>IN</td>\n",
              "      <td>100</td>\n",
              "      <td>US</td>\n",
              "      <td>L</td>\n",
              "    </tr>\n",
              "  </tbody>\n",
              "</table>\n",
              "<p>607 rows × 11 columns</p>\n",
              "</div>\n",
              "      <button class=\"colab-df-convert\" onclick=\"convertToInteractive('df-aab91671-bdae-4cad-9c73-a2650b4a0dbe')\"\n",
              "              title=\"Convert this dataframe to an interactive table.\"\n",
              "              style=\"display:none;\">\n",
              "        \n",
              "  <svg xmlns=\"http://www.w3.org/2000/svg\" height=\"24px\"viewBox=\"0 0 24 24\"\n",
              "       width=\"24px\">\n",
              "    <path d=\"M0 0h24v24H0V0z\" fill=\"none\"/>\n",
              "    <path d=\"M18.56 5.44l.94 2.06.94-2.06 2.06-.94-2.06-.94-.94-2.06-.94 2.06-2.06.94zm-11 1L8.5 8.5l.94-2.06 2.06-.94-2.06-.94L8.5 2.5l-.94 2.06-2.06.94zm10 10l.94 2.06.94-2.06 2.06-.94-2.06-.94-.94-2.06-.94 2.06-2.06.94z\"/><path d=\"M17.41 7.96l-1.37-1.37c-.4-.4-.92-.59-1.43-.59-.52 0-1.04.2-1.43.59L10.3 9.45l-7.72 7.72c-.78.78-.78 2.05 0 2.83L4 21.41c.39.39.9.59 1.41.59.51 0 1.02-.2 1.41-.59l7.78-7.78 2.81-2.81c.8-.78.8-2.07 0-2.86zM5.41 20L4 18.59l7.72-7.72 1.47 1.35L5.41 20z\"/>\n",
              "  </svg>\n",
              "      </button>\n",
              "      \n",
              "  <style>\n",
              "    .colab-df-container {\n",
              "      display:flex;\n",
              "      flex-wrap:wrap;\n",
              "      gap: 12px;\n",
              "    }\n",
              "\n",
              "    .colab-df-convert {\n",
              "      background-color: #E8F0FE;\n",
              "      border: none;\n",
              "      border-radius: 50%;\n",
              "      cursor: pointer;\n",
              "      display: none;\n",
              "      fill: #1967D2;\n",
              "      height: 32px;\n",
              "      padding: 0 0 0 0;\n",
              "      width: 32px;\n",
              "    }\n",
              "\n",
              "    .colab-df-convert:hover {\n",
              "      background-color: #E2EBFA;\n",
              "      box-shadow: 0px 1px 2px rgba(60, 64, 67, 0.3), 0px 1px 3px 1px rgba(60, 64, 67, 0.15);\n",
              "      fill: #174EA6;\n",
              "    }\n",
              "\n",
              "    [theme=dark] .colab-df-convert {\n",
              "      background-color: #3B4455;\n",
              "      fill: #D2E3FC;\n",
              "    }\n",
              "\n",
              "    [theme=dark] .colab-df-convert:hover {\n",
              "      background-color: #434B5C;\n",
              "      box-shadow: 0px 1px 3px 1px rgba(0, 0, 0, 0.15);\n",
              "      filter: drop-shadow(0px 1px 2px rgba(0, 0, 0, 0.3));\n",
              "      fill: #FFFFFF;\n",
              "    }\n",
              "  </style>\n",
              "\n",
              "      <script>\n",
              "        const buttonEl =\n",
              "          document.querySelector('#df-aab91671-bdae-4cad-9c73-a2650b4a0dbe button.colab-df-convert');\n",
              "        buttonEl.style.display =\n",
              "          google.colab.kernel.accessAllowed ? 'block' : 'none';\n",
              "\n",
              "        async function convertToInteractive(key) {\n",
              "          const element = document.querySelector('#df-aab91671-bdae-4cad-9c73-a2650b4a0dbe');\n",
              "          const dataTable =\n",
              "            await google.colab.kernel.invokeFunction('convertToInteractive',\n",
              "                                                     [key], {});\n",
              "          if (!dataTable) return;\n",
              "\n",
              "          const docLinkHtml = 'Like what you see? Visit the ' +\n",
              "            '<a target=\"_blank\" href=https://colab.research.google.com/notebooks/data_table.ipynb>data table notebook</a>'\n",
              "            + ' to learn more about interactive tables.';\n",
              "          element.innerHTML = '';\n",
              "          dataTable['output_type'] = 'display_data';\n",
              "          await google.colab.output.renderOutput(dataTable, element);\n",
              "          const docLink = document.createElement('div');\n",
              "          docLink.innerHTML = docLinkHtml;\n",
              "          element.appendChild(docLink);\n",
              "        }\n",
              "      </script>\n",
              "    </div>\n",
              "  </div>\n",
              "  "
            ]
          },
          "metadata": {},
          "execution_count": 39
        }
      ]
    },
    {
      "cell_type": "markdown",
      "source": [
        "## **Ej.02 Filtrar solo salarios en dolares...**"
      ],
      "metadata": {
        "id": "wCbYIm11DUfQ"
      },
      "id": "wCbYIm11DUfQ"
    },
    {
      "cell_type": "markdown",
      "source": [
        "**De todo el conjunto de datos, solo visualizar los que tienen salarios en dolares...**"
      ],
      "metadata": {
        "id": "YMowkF6DojJD"
      },
      "id": "YMowkF6DojJD"
    },
    {
      "cell_type": "code",
      "source": [
        "df.shape"
      ],
      "metadata": {
        "colab": {
          "base_uri": "https://localhost:8080/"
        },
        "id": "KP_ObHwRDrtk",
        "outputId": "0938b8a8-951a-4ee3-ac4d-862928ec791b"
      },
      "id": "KP_ObHwRDrtk",
      "execution_count": 40,
      "outputs": [
        {
          "output_type": "execute_result",
          "data": {
            "text/plain": [
              "(607, 11)"
            ]
          },
          "metadata": {},
          "execution_count": 40
        }
      ]
    },
    {
      "cell_type": "code",
      "source": [
        "df[\"salary_currency\"].unique()"
      ],
      "metadata": {
        "colab": {
          "base_uri": "https://localhost:8080/"
        },
        "id": "965XxQP2DZdo",
        "outputId": "d3877009-5c47-48b3-e73e-e27128c2bdb1"
      },
      "id": "965XxQP2DZdo",
      "execution_count": 41,
      "outputs": [
        {
          "output_type": "execute_result",
          "data": {
            "text/plain": [
              "array(['EUR', 'USD', 'GBP', 'HUF', 'INR', 'JPY', 'CNY', 'MXN', 'CAD',\n",
              "       'DKK', 'PLN', 'SGD', 'CLP', 'BRL', 'TRY', 'AUD', 'CHF'],\n",
              "      dtype=object)"
            ]
          },
          "metadata": {},
          "execution_count": 41
        }
      ]
    },
    {
      "cell_type": "code",
      "source": [
        "df = df[(df.salary_currency == \"USD\")]"
      ],
      "metadata": {
        "id": "tqswLmXTDivq"
      },
      "id": "tqswLmXTDivq",
      "execution_count": 42,
      "outputs": []
    },
    {
      "cell_type": "code",
      "source": [
        "df.shape"
      ],
      "metadata": {
        "colab": {
          "base_uri": "https://localhost:8080/"
        },
        "id": "2wYdmzaRDzE-",
        "outputId": "9bd5a141-2a48-4da9-df35-e48e83aec414"
      },
      "id": "2wYdmzaRDzE-",
      "execution_count": 43,
      "outputs": [
        {
          "output_type": "execute_result",
          "data": {
            "text/plain": [
              "(398, 11)"
            ]
          },
          "metadata": {},
          "execution_count": 43
        }
      ]
    },
    {
      "cell_type": "code",
      "source": [
        "df.head()"
      ],
      "metadata": {
        "colab": {
          "base_uri": "https://localhost:8080/",
          "height": 404
        },
        "id": "YOmiw_-IFIyU",
        "outputId": "39dca654-5b95-487b-bfeb-98a937860f9a"
      },
      "id": "YOmiw_-IFIyU",
      "execution_count": 44,
      "outputs": [
        {
          "output_type": "execute_result",
          "data": {
            "text/plain": [
              "   work_year experience_level employment_type                   job_title  \\\n",
              "1       2020               SE              FT  Machine Learning Scientist   \n",
              "3       2020               MI              FT        Product Data Analyst   \n",
              "4       2020               SE              FT   Machine Learning Engineer   \n",
              "5       2020               EN              FT                Data Analyst   \n",
              "6       2020               SE              FT         Lead Data Scientist   \n",
              "\n",
              "   salary salary_currency  salary_in_usd employee_residence  remote_ratio  \\\n",
              "1  260000             USD         260000                 JP             0   \n",
              "3   20000             USD          20000                 HN             0   \n",
              "4  150000             USD         150000                 US            50   \n",
              "5   72000             USD          72000                 US           100   \n",
              "6  190000             USD         190000                 US           100   \n",
              "\n",
              "  company_location company_size  \n",
              "1               JP            S  \n",
              "3               HN            S  \n",
              "4               US            L  \n",
              "5               US            L  \n",
              "6               US            S  "
            ],
            "text/html": [
              "\n",
              "  <div id=\"df-7e6caab8-c3d8-44b2-80fa-63e07e55755b\">\n",
              "    <div class=\"colab-df-container\">\n",
              "      <div>\n",
              "<style scoped>\n",
              "    .dataframe tbody tr th:only-of-type {\n",
              "        vertical-align: middle;\n",
              "    }\n",
              "\n",
              "    .dataframe tbody tr th {\n",
              "        vertical-align: top;\n",
              "    }\n",
              "\n",
              "    .dataframe thead th {\n",
              "        text-align: right;\n",
              "    }\n",
              "</style>\n",
              "<table border=\"1\" class=\"dataframe\">\n",
              "  <thead>\n",
              "    <tr style=\"text-align: right;\">\n",
              "      <th></th>\n",
              "      <th>work_year</th>\n",
              "      <th>experience_level</th>\n",
              "      <th>employment_type</th>\n",
              "      <th>job_title</th>\n",
              "      <th>salary</th>\n",
              "      <th>salary_currency</th>\n",
              "      <th>salary_in_usd</th>\n",
              "      <th>employee_residence</th>\n",
              "      <th>remote_ratio</th>\n",
              "      <th>company_location</th>\n",
              "      <th>company_size</th>\n",
              "    </tr>\n",
              "  </thead>\n",
              "  <tbody>\n",
              "    <tr>\n",
              "      <th>1</th>\n",
              "      <td>2020</td>\n",
              "      <td>SE</td>\n",
              "      <td>FT</td>\n",
              "      <td>Machine Learning Scientist</td>\n",
              "      <td>260000</td>\n",
              "      <td>USD</td>\n",
              "      <td>260000</td>\n",
              "      <td>JP</td>\n",
              "      <td>0</td>\n",
              "      <td>JP</td>\n",
              "      <td>S</td>\n",
              "    </tr>\n",
              "    <tr>\n",
              "      <th>3</th>\n",
              "      <td>2020</td>\n",
              "      <td>MI</td>\n",
              "      <td>FT</td>\n",
              "      <td>Product Data Analyst</td>\n",
              "      <td>20000</td>\n",
              "      <td>USD</td>\n",
              "      <td>20000</td>\n",
              "      <td>HN</td>\n",
              "      <td>0</td>\n",
              "      <td>HN</td>\n",
              "      <td>S</td>\n",
              "    </tr>\n",
              "    <tr>\n",
              "      <th>4</th>\n",
              "      <td>2020</td>\n",
              "      <td>SE</td>\n",
              "      <td>FT</td>\n",
              "      <td>Machine Learning Engineer</td>\n",
              "      <td>150000</td>\n",
              "      <td>USD</td>\n",
              "      <td>150000</td>\n",
              "      <td>US</td>\n",
              "      <td>50</td>\n",
              "      <td>US</td>\n",
              "      <td>L</td>\n",
              "    </tr>\n",
              "    <tr>\n",
              "      <th>5</th>\n",
              "      <td>2020</td>\n",
              "      <td>EN</td>\n",
              "      <td>FT</td>\n",
              "      <td>Data Analyst</td>\n",
              "      <td>72000</td>\n",
              "      <td>USD</td>\n",
              "      <td>72000</td>\n",
              "      <td>US</td>\n",
              "      <td>100</td>\n",
              "      <td>US</td>\n",
              "      <td>L</td>\n",
              "    </tr>\n",
              "    <tr>\n",
              "      <th>6</th>\n",
              "      <td>2020</td>\n",
              "      <td>SE</td>\n",
              "      <td>FT</td>\n",
              "      <td>Lead Data Scientist</td>\n",
              "      <td>190000</td>\n",
              "      <td>USD</td>\n",
              "      <td>190000</td>\n",
              "      <td>US</td>\n",
              "      <td>100</td>\n",
              "      <td>US</td>\n",
              "      <td>S</td>\n",
              "    </tr>\n",
              "  </tbody>\n",
              "</table>\n",
              "</div>\n",
              "      <button class=\"colab-df-convert\" onclick=\"convertToInteractive('df-7e6caab8-c3d8-44b2-80fa-63e07e55755b')\"\n",
              "              title=\"Convert this dataframe to an interactive table.\"\n",
              "              style=\"display:none;\">\n",
              "        \n",
              "  <svg xmlns=\"http://www.w3.org/2000/svg\" height=\"24px\"viewBox=\"0 0 24 24\"\n",
              "       width=\"24px\">\n",
              "    <path d=\"M0 0h24v24H0V0z\" fill=\"none\"/>\n",
              "    <path d=\"M18.56 5.44l.94 2.06.94-2.06 2.06-.94-2.06-.94-.94-2.06-.94 2.06-2.06.94zm-11 1L8.5 8.5l.94-2.06 2.06-.94-2.06-.94L8.5 2.5l-.94 2.06-2.06.94zm10 10l.94 2.06.94-2.06 2.06-.94-2.06-.94-.94-2.06-.94 2.06-2.06.94z\"/><path d=\"M17.41 7.96l-1.37-1.37c-.4-.4-.92-.59-1.43-.59-.52 0-1.04.2-1.43.59L10.3 9.45l-7.72 7.72c-.78.78-.78 2.05 0 2.83L4 21.41c.39.39.9.59 1.41.59.51 0 1.02-.2 1.41-.59l7.78-7.78 2.81-2.81c.8-.78.8-2.07 0-2.86zM5.41 20L4 18.59l7.72-7.72 1.47 1.35L5.41 20z\"/>\n",
              "  </svg>\n",
              "      </button>\n",
              "      \n",
              "  <style>\n",
              "    .colab-df-container {\n",
              "      display:flex;\n",
              "      flex-wrap:wrap;\n",
              "      gap: 12px;\n",
              "    }\n",
              "\n",
              "    .colab-df-convert {\n",
              "      background-color: #E8F0FE;\n",
              "      border: none;\n",
              "      border-radius: 50%;\n",
              "      cursor: pointer;\n",
              "      display: none;\n",
              "      fill: #1967D2;\n",
              "      height: 32px;\n",
              "      padding: 0 0 0 0;\n",
              "      width: 32px;\n",
              "    }\n",
              "\n",
              "    .colab-df-convert:hover {\n",
              "      background-color: #E2EBFA;\n",
              "      box-shadow: 0px 1px 2px rgba(60, 64, 67, 0.3), 0px 1px 3px 1px rgba(60, 64, 67, 0.15);\n",
              "      fill: #174EA6;\n",
              "    }\n",
              "\n",
              "    [theme=dark] .colab-df-convert {\n",
              "      background-color: #3B4455;\n",
              "      fill: #D2E3FC;\n",
              "    }\n",
              "\n",
              "    [theme=dark] .colab-df-convert:hover {\n",
              "      background-color: #434B5C;\n",
              "      box-shadow: 0px 1px 3px 1px rgba(0, 0, 0, 0.15);\n",
              "      filter: drop-shadow(0px 1px 2px rgba(0, 0, 0, 0.3));\n",
              "      fill: #FFFFFF;\n",
              "    }\n",
              "  </style>\n",
              "\n",
              "      <script>\n",
              "        const buttonEl =\n",
              "          document.querySelector('#df-7e6caab8-c3d8-44b2-80fa-63e07e55755b button.colab-df-convert');\n",
              "        buttonEl.style.display =\n",
              "          google.colab.kernel.accessAllowed ? 'block' : 'none';\n",
              "\n",
              "        async function convertToInteractive(key) {\n",
              "          const element = document.querySelector('#df-7e6caab8-c3d8-44b2-80fa-63e07e55755b');\n",
              "          const dataTable =\n",
              "            await google.colab.kernel.invokeFunction('convertToInteractive',\n",
              "                                                     [key], {});\n",
              "          if (!dataTable) return;\n",
              "\n",
              "          const docLinkHtml = 'Like what you see? Visit the ' +\n",
              "            '<a target=\"_blank\" href=https://colab.research.google.com/notebooks/data_table.ipynb>data table notebook</a>'\n",
              "            + ' to learn more about interactive tables.';\n",
              "          element.innerHTML = '';\n",
              "          dataTable['output_type'] = 'display_data';\n",
              "          await google.colab.output.renderOutput(dataTable, element);\n",
              "          const docLink = document.createElement('div');\n",
              "          docLink.innerHTML = docLinkHtml;\n",
              "          element.appendChild(docLink);\n",
              "        }\n",
              "      </script>\n",
              "    </div>\n",
              "  </div>\n",
              "  "
            ]
          },
          "metadata": {},
          "execution_count": 44
        }
      ]
    },
    {
      "cell_type": "markdown",
      "source": [
        "## **Ej.03 Resumen ```describe()```...**"
      ],
      "metadata": {
        "id": "kWkHiphhIKC9"
      },
      "id": "kWkHiphhIKC9"
    },
    {
      "cell_type": "code",
      "source": [
        "df.describe().applymap(\"{:.0f}\".format)"
      ],
      "metadata": {
        "colab": {
          "base_uri": "https://localhost:8080/",
          "height": 297
        },
        "id": "mVyYxC_6VPOJ",
        "outputId": "61d9f94a-5dbd-4b6b-fa45-9ba2d289406f"
      },
      "id": "mVyYxC_6VPOJ",
      "execution_count": 45,
      "outputs": [
        {
          "output_type": "execute_result",
          "data": {
            "text/plain": [
              "      work_year  salary salary_in_usd remote_ratio\n",
              "count       398     398           398          398\n",
              "mean       2022  137265        137265           76\n",
              "std           1   72026         72026           41\n",
              "min        2020    4000          4000            0\n",
              "25%        2021   96162         96162           50\n",
              "50%        2022  130000        130000          100\n",
              "75%        2022  167969        167969          100\n",
              "max        2022  600000        600000          100"
            ],
            "text/html": [
              "\n",
              "  <div id=\"df-c3e6a1bd-9977-4454-85d0-24883c60af2d\">\n",
              "    <div class=\"colab-df-container\">\n",
              "      <div>\n",
              "<style scoped>\n",
              "    .dataframe tbody tr th:only-of-type {\n",
              "        vertical-align: middle;\n",
              "    }\n",
              "\n",
              "    .dataframe tbody tr th {\n",
              "        vertical-align: top;\n",
              "    }\n",
              "\n",
              "    .dataframe thead th {\n",
              "        text-align: right;\n",
              "    }\n",
              "</style>\n",
              "<table border=\"1\" class=\"dataframe\">\n",
              "  <thead>\n",
              "    <tr style=\"text-align: right;\">\n",
              "      <th></th>\n",
              "      <th>work_year</th>\n",
              "      <th>salary</th>\n",
              "      <th>salary_in_usd</th>\n",
              "      <th>remote_ratio</th>\n",
              "    </tr>\n",
              "  </thead>\n",
              "  <tbody>\n",
              "    <tr>\n",
              "      <th>count</th>\n",
              "      <td>398</td>\n",
              "      <td>398</td>\n",
              "      <td>398</td>\n",
              "      <td>398</td>\n",
              "    </tr>\n",
              "    <tr>\n",
              "      <th>mean</th>\n",
              "      <td>2022</td>\n",
              "      <td>137265</td>\n",
              "      <td>137265</td>\n",
              "      <td>76</td>\n",
              "    </tr>\n",
              "    <tr>\n",
              "      <th>std</th>\n",
              "      <td>1</td>\n",
              "      <td>72026</td>\n",
              "      <td>72026</td>\n",
              "      <td>41</td>\n",
              "    </tr>\n",
              "    <tr>\n",
              "      <th>min</th>\n",
              "      <td>2020</td>\n",
              "      <td>4000</td>\n",
              "      <td>4000</td>\n",
              "      <td>0</td>\n",
              "    </tr>\n",
              "    <tr>\n",
              "      <th>25%</th>\n",
              "      <td>2021</td>\n",
              "      <td>96162</td>\n",
              "      <td>96162</td>\n",
              "      <td>50</td>\n",
              "    </tr>\n",
              "    <tr>\n",
              "      <th>50%</th>\n",
              "      <td>2022</td>\n",
              "      <td>130000</td>\n",
              "      <td>130000</td>\n",
              "      <td>100</td>\n",
              "    </tr>\n",
              "    <tr>\n",
              "      <th>75%</th>\n",
              "      <td>2022</td>\n",
              "      <td>167969</td>\n",
              "      <td>167969</td>\n",
              "      <td>100</td>\n",
              "    </tr>\n",
              "    <tr>\n",
              "      <th>max</th>\n",
              "      <td>2022</td>\n",
              "      <td>600000</td>\n",
              "      <td>600000</td>\n",
              "      <td>100</td>\n",
              "    </tr>\n",
              "  </tbody>\n",
              "</table>\n",
              "</div>\n",
              "      <button class=\"colab-df-convert\" onclick=\"convertToInteractive('df-c3e6a1bd-9977-4454-85d0-24883c60af2d')\"\n",
              "              title=\"Convert this dataframe to an interactive table.\"\n",
              "              style=\"display:none;\">\n",
              "        \n",
              "  <svg xmlns=\"http://www.w3.org/2000/svg\" height=\"24px\"viewBox=\"0 0 24 24\"\n",
              "       width=\"24px\">\n",
              "    <path d=\"M0 0h24v24H0V0z\" fill=\"none\"/>\n",
              "    <path d=\"M18.56 5.44l.94 2.06.94-2.06 2.06-.94-2.06-.94-.94-2.06-.94 2.06-2.06.94zm-11 1L8.5 8.5l.94-2.06 2.06-.94-2.06-.94L8.5 2.5l-.94 2.06-2.06.94zm10 10l.94 2.06.94-2.06 2.06-.94-2.06-.94-.94-2.06-.94 2.06-2.06.94z\"/><path d=\"M17.41 7.96l-1.37-1.37c-.4-.4-.92-.59-1.43-.59-.52 0-1.04.2-1.43.59L10.3 9.45l-7.72 7.72c-.78.78-.78 2.05 0 2.83L4 21.41c.39.39.9.59 1.41.59.51 0 1.02-.2 1.41-.59l7.78-7.78 2.81-2.81c.8-.78.8-2.07 0-2.86zM5.41 20L4 18.59l7.72-7.72 1.47 1.35L5.41 20z\"/>\n",
              "  </svg>\n",
              "      </button>\n",
              "      \n",
              "  <style>\n",
              "    .colab-df-container {\n",
              "      display:flex;\n",
              "      flex-wrap:wrap;\n",
              "      gap: 12px;\n",
              "    }\n",
              "\n",
              "    .colab-df-convert {\n",
              "      background-color: #E8F0FE;\n",
              "      border: none;\n",
              "      border-radius: 50%;\n",
              "      cursor: pointer;\n",
              "      display: none;\n",
              "      fill: #1967D2;\n",
              "      height: 32px;\n",
              "      padding: 0 0 0 0;\n",
              "      width: 32px;\n",
              "    }\n",
              "\n",
              "    .colab-df-convert:hover {\n",
              "      background-color: #E2EBFA;\n",
              "      box-shadow: 0px 1px 2px rgba(60, 64, 67, 0.3), 0px 1px 3px 1px rgba(60, 64, 67, 0.15);\n",
              "      fill: #174EA6;\n",
              "    }\n",
              "\n",
              "    [theme=dark] .colab-df-convert {\n",
              "      background-color: #3B4455;\n",
              "      fill: #D2E3FC;\n",
              "    }\n",
              "\n",
              "    [theme=dark] .colab-df-convert:hover {\n",
              "      background-color: #434B5C;\n",
              "      box-shadow: 0px 1px 3px 1px rgba(0, 0, 0, 0.15);\n",
              "      filter: drop-shadow(0px 1px 2px rgba(0, 0, 0, 0.3));\n",
              "      fill: #FFFFFF;\n",
              "    }\n",
              "  </style>\n",
              "\n",
              "      <script>\n",
              "        const buttonEl =\n",
              "          document.querySelector('#df-c3e6a1bd-9977-4454-85d0-24883c60af2d button.colab-df-convert');\n",
              "        buttonEl.style.display =\n",
              "          google.colab.kernel.accessAllowed ? 'block' : 'none';\n",
              "\n",
              "        async function convertToInteractive(key) {\n",
              "          const element = document.querySelector('#df-c3e6a1bd-9977-4454-85d0-24883c60af2d');\n",
              "          const dataTable =\n",
              "            await google.colab.kernel.invokeFunction('convertToInteractive',\n",
              "                                                     [key], {});\n",
              "          if (!dataTable) return;\n",
              "\n",
              "          const docLinkHtml = 'Like what you see? Visit the ' +\n",
              "            '<a target=\"_blank\" href=https://colab.research.google.com/notebooks/data_table.ipynb>data table notebook</a>'\n",
              "            + ' to learn more about interactive tables.';\n",
              "          element.innerHTML = '';\n",
              "          dataTable['output_type'] = 'display_data';\n",
              "          await google.colab.output.renderOutput(dataTable, element);\n",
              "          const docLink = document.createElement('div');\n",
              "          docLink.innerHTML = docLinkHtml;\n",
              "          element.appendChild(docLink);\n",
              "        }\n",
              "      </script>\n",
              "    </div>\n",
              "  </div>\n",
              "  "
            ]
          },
          "metadata": {},
          "execution_count": 45
        }
      ]
    },
    {
      "cell_type": "code",
      "source": [
        "df.describe(include = \"object\")"
      ],
      "metadata": {
        "colab": {
          "base_uri": "https://localhost:8080/",
          "height": 254
        },
        "id": "QjYrxA6mbv1e",
        "outputId": "3c1bdc1f-7cd5-4a58-961a-7c1b856c7bd9"
      },
      "id": "QjYrxA6mbv1e",
      "execution_count": 46,
      "outputs": [
        {
          "output_type": "execute_result",
          "data": {
            "text/plain": [
              "       experience_level employment_type       job_title salary_currency  \\\n",
              "count               398             398             398             398   \n",
              "unique                4               4              41               1   \n",
              "top                  SE              FT  Data Scientist             USD   \n",
              "freq                233             387              87             398   \n",
              "\n",
              "       employee_residence company_location company_size  \n",
              "count                 398              398          398  \n",
              "unique                 34               32            3  \n",
              "top                    US               US            M  \n",
              "freq                  331              348          239  "
            ],
            "text/html": [
              "\n",
              "  <div id=\"df-2bbf74c7-ae04-4dc0-9af6-55fb670bb55a\">\n",
              "    <div class=\"colab-df-container\">\n",
              "      <div>\n",
              "<style scoped>\n",
              "    .dataframe tbody tr th:only-of-type {\n",
              "        vertical-align: middle;\n",
              "    }\n",
              "\n",
              "    .dataframe tbody tr th {\n",
              "        vertical-align: top;\n",
              "    }\n",
              "\n",
              "    .dataframe thead th {\n",
              "        text-align: right;\n",
              "    }\n",
              "</style>\n",
              "<table border=\"1\" class=\"dataframe\">\n",
              "  <thead>\n",
              "    <tr style=\"text-align: right;\">\n",
              "      <th></th>\n",
              "      <th>experience_level</th>\n",
              "      <th>employment_type</th>\n",
              "      <th>job_title</th>\n",
              "      <th>salary_currency</th>\n",
              "      <th>employee_residence</th>\n",
              "      <th>company_location</th>\n",
              "      <th>company_size</th>\n",
              "    </tr>\n",
              "  </thead>\n",
              "  <tbody>\n",
              "    <tr>\n",
              "      <th>count</th>\n",
              "      <td>398</td>\n",
              "      <td>398</td>\n",
              "      <td>398</td>\n",
              "      <td>398</td>\n",
              "      <td>398</td>\n",
              "      <td>398</td>\n",
              "      <td>398</td>\n",
              "    </tr>\n",
              "    <tr>\n",
              "      <th>unique</th>\n",
              "      <td>4</td>\n",
              "      <td>4</td>\n",
              "      <td>41</td>\n",
              "      <td>1</td>\n",
              "      <td>34</td>\n",
              "      <td>32</td>\n",
              "      <td>3</td>\n",
              "    </tr>\n",
              "    <tr>\n",
              "      <th>top</th>\n",
              "      <td>SE</td>\n",
              "      <td>FT</td>\n",
              "      <td>Data Scientist</td>\n",
              "      <td>USD</td>\n",
              "      <td>US</td>\n",
              "      <td>US</td>\n",
              "      <td>M</td>\n",
              "    </tr>\n",
              "    <tr>\n",
              "      <th>freq</th>\n",
              "      <td>233</td>\n",
              "      <td>387</td>\n",
              "      <td>87</td>\n",
              "      <td>398</td>\n",
              "      <td>331</td>\n",
              "      <td>348</td>\n",
              "      <td>239</td>\n",
              "    </tr>\n",
              "  </tbody>\n",
              "</table>\n",
              "</div>\n",
              "      <button class=\"colab-df-convert\" onclick=\"convertToInteractive('df-2bbf74c7-ae04-4dc0-9af6-55fb670bb55a')\"\n",
              "              title=\"Convert this dataframe to an interactive table.\"\n",
              "              style=\"display:none;\">\n",
              "        \n",
              "  <svg xmlns=\"http://www.w3.org/2000/svg\" height=\"24px\"viewBox=\"0 0 24 24\"\n",
              "       width=\"24px\">\n",
              "    <path d=\"M0 0h24v24H0V0z\" fill=\"none\"/>\n",
              "    <path d=\"M18.56 5.44l.94 2.06.94-2.06 2.06-.94-2.06-.94-.94-2.06-.94 2.06-2.06.94zm-11 1L8.5 8.5l.94-2.06 2.06-.94-2.06-.94L8.5 2.5l-.94 2.06-2.06.94zm10 10l.94 2.06.94-2.06 2.06-.94-2.06-.94-.94-2.06-.94 2.06-2.06.94z\"/><path d=\"M17.41 7.96l-1.37-1.37c-.4-.4-.92-.59-1.43-.59-.52 0-1.04.2-1.43.59L10.3 9.45l-7.72 7.72c-.78.78-.78 2.05 0 2.83L4 21.41c.39.39.9.59 1.41.59.51 0 1.02-.2 1.41-.59l7.78-7.78 2.81-2.81c.8-.78.8-2.07 0-2.86zM5.41 20L4 18.59l7.72-7.72 1.47 1.35L5.41 20z\"/>\n",
              "  </svg>\n",
              "      </button>\n",
              "      \n",
              "  <style>\n",
              "    .colab-df-container {\n",
              "      display:flex;\n",
              "      flex-wrap:wrap;\n",
              "      gap: 12px;\n",
              "    }\n",
              "\n",
              "    .colab-df-convert {\n",
              "      background-color: #E8F0FE;\n",
              "      border: none;\n",
              "      border-radius: 50%;\n",
              "      cursor: pointer;\n",
              "      display: none;\n",
              "      fill: #1967D2;\n",
              "      height: 32px;\n",
              "      padding: 0 0 0 0;\n",
              "      width: 32px;\n",
              "    }\n",
              "\n",
              "    .colab-df-convert:hover {\n",
              "      background-color: #E2EBFA;\n",
              "      box-shadow: 0px 1px 2px rgba(60, 64, 67, 0.3), 0px 1px 3px 1px rgba(60, 64, 67, 0.15);\n",
              "      fill: #174EA6;\n",
              "    }\n",
              "\n",
              "    [theme=dark] .colab-df-convert {\n",
              "      background-color: #3B4455;\n",
              "      fill: #D2E3FC;\n",
              "    }\n",
              "\n",
              "    [theme=dark] .colab-df-convert:hover {\n",
              "      background-color: #434B5C;\n",
              "      box-shadow: 0px 1px 3px 1px rgba(0, 0, 0, 0.15);\n",
              "      filter: drop-shadow(0px 1px 2px rgba(0, 0, 0, 0.3));\n",
              "      fill: #FFFFFF;\n",
              "    }\n",
              "  </style>\n",
              "\n",
              "      <script>\n",
              "        const buttonEl =\n",
              "          document.querySelector('#df-2bbf74c7-ae04-4dc0-9af6-55fb670bb55a button.colab-df-convert');\n",
              "        buttonEl.style.display =\n",
              "          google.colab.kernel.accessAllowed ? 'block' : 'none';\n",
              "\n",
              "        async function convertToInteractive(key) {\n",
              "          const element = document.querySelector('#df-2bbf74c7-ae04-4dc0-9af6-55fb670bb55a');\n",
              "          const dataTable =\n",
              "            await google.colab.kernel.invokeFunction('convertToInteractive',\n",
              "                                                     [key], {});\n",
              "          if (!dataTable) return;\n",
              "\n",
              "          const docLinkHtml = 'Like what you see? Visit the ' +\n",
              "            '<a target=\"_blank\" href=https://colab.research.google.com/notebooks/data_table.ipynb>data table notebook</a>'\n",
              "            + ' to learn more about interactive tables.';\n",
              "          element.innerHTML = '';\n",
              "          dataTable['output_type'] = 'display_data';\n",
              "          await google.colab.output.renderOutput(dataTable, element);\n",
              "          const docLink = document.createElement('div');\n",
              "          docLink.innerHTML = docLinkHtml;\n",
              "          element.appendChild(docLink);\n",
              "        }\n",
              "      </script>\n",
              "    </div>\n",
              "  </div>\n",
              "  "
            ]
          },
          "metadata": {},
          "execution_count": 46
        }
      ]
    },
    {
      "cell_type": "markdown",
      "source": [
        "## **Ej.04 Grafico de dispersion ```px.scatter()```...**"
      ],
      "metadata": {
        "id": "f0DEy3oUe5h1"
      },
      "id": "f0DEy3oUe5h1"
    },
    {
      "cell_type": "markdown",
      "source": [
        "**Hacer un grafico de dispersión entre la variable salario en dolares y tamaño de la compañia...**"
      ],
      "metadata": {
        "id": "JRG9H3sXowr7"
      },
      "id": "JRG9H3sXowr7"
    },
    {
      "cell_type": "code",
      "source": [
        "px.scatter(df,\n",
        "           x = 'salary_in_usd',\n",
        "           y = 'company_size',\n",
        "           size = 'salary_in_usd',\n",
        "           hover_name = 'job_title',\n",
        "           color = 'job_title', \n",
        "           animation_frame = 'work_year',\n",
        "           title = 'Company Size vs Salary (USD)',\n",
        "           labels = {\"company_size\":\"Size\", \"salary_in_usd\":\"Salary\", \"job_title\":\"Job\"})"
      ],
      "metadata": {
        "colab": {
          "base_uri": "https://localhost:8080/",
          "height": 542
        },
        "id": "uJouCBoddJN_",
        "outputId": "aecdf26e-f6a6-4572-b7ba-21ba9ccd2cd1"
      },
      "id": "uJouCBoddJN_",
      "execution_count": 47,
      "outputs": [
        {
          "output_type": "display_data",
          "data": {
            "text/html": [
              "<html>\n",
              "<head><meta charset=\"utf-8\" /></head>\n",
              "<body>\n",
              "    <div>            <script src=\"https://cdnjs.cloudflare.com/ajax/libs/mathjax/2.7.5/MathJax.js?config=TeX-AMS-MML_SVG\"></script><script type=\"text/javascript\">if (window.MathJax && window.MathJax.Hub && window.MathJax.Hub.Config) {window.MathJax.Hub.Config({SVG: {font: \"STIX-Web\"}});}</script>                <script type=\"text/javascript\">window.PlotlyConfig = {MathJaxConfig: 'local'};</script>\n",
              "        <script src=\"https://cdn.plot.ly/plotly-2.14.0.min.js\"></script>                <div id=\"49179f3e-bf60-4c41-933c-39de107cb611\" class=\"plotly-graph-div\" style=\"height:525px; width:100%;\"></div>            <script type=\"text/javascript\">                                    window.PLOTLYENV=window.PLOTLYENV || {};                                    if (document.getElementById(\"49179f3e-bf60-4c41-933c-39de107cb611\")) {                    Plotly.newPlot(                        \"49179f3e-bf60-4c41-933c-39de107cb611\",                        [{\"hovertemplate\":\"<b>%{hovertext}</b><br><br>Job=Machine Learning Scientist<br>work_year=2020<br>Salary=%{marker.size}<br>Size=%{y}<extra></extra>\",\"hovertext\":[\"Machine Learning Scientist\"],\"legendgroup\":\"Machine Learning Scientist\",\"marker\":{\"color\":\"#636efa\",\"size\":[260000],\"sizemode\":\"area\",\"sizeref\":1500.0,\"symbol\":\"circle\"},\"mode\":\"markers\",\"name\":\"Machine Learning Scientist\",\"orientation\":\"h\",\"showlegend\":true,\"x\":[260000],\"xaxis\":\"x\",\"y\":[\"S\"],\"yaxis\":\"y\",\"type\":\"scatter\"},{\"hovertemplate\":\"<b>%{hovertext}</b><br><br>Job=Product Data Analyst<br>work_year=2020<br>Salary=%{marker.size}<br>Size=%{y}<extra></extra>\",\"hovertext\":[\"Product Data Analyst\"],\"legendgroup\":\"Product Data Analyst\",\"marker\":{\"color\":\"#EF553B\",\"size\":[20000],\"sizemode\":\"area\",\"sizeref\":1500.0,\"symbol\":\"circle\"},\"mode\":\"markers\",\"name\":\"Product Data Analyst\",\"orientation\":\"h\",\"showlegend\":true,\"x\":[20000],\"xaxis\":\"x\",\"y\":[\"S\"],\"yaxis\":\"y\",\"type\":\"scatter\"},{\"hovertemplate\":\"<b>%{hovertext}</b><br><br>Job=Machine Learning Engineer<br>work_year=2020<br>Salary=%{marker.size}<br>Size=%{y}<extra></extra>\",\"hovertext\":[\"Machine Learning Engineer\",\"Machine Learning Engineer\",\"Machine Learning Engineer\"],\"legendgroup\":\"Machine Learning Engineer\",\"marker\":{\"color\":\"#00cc96\",\"size\":[150000,250000,138000],\"sizemode\":\"area\",\"sizeref\":1500.0,\"symbol\":\"circle\"},\"mode\":\"markers\",\"name\":\"Machine Learning Engineer\",\"orientation\":\"h\",\"showlegend\":true,\"x\":[150000,250000,138000],\"xaxis\":\"x\",\"y\":[\"L\",\"L\",\"S\"],\"yaxis\":\"y\",\"type\":\"scatter\"},{\"hovertemplate\":\"<b>%{hovertext}</b><br><br>Job=Data Analyst<br>work_year=2020<br>Salary=%{marker.size}<br>Size=%{y}<extra></extra>\",\"hovertext\":[\"Data Analyst\",\"Data Analyst\",\"Data Analyst\",\"Data Analyst\",\"Data Analyst\"],\"legendgroup\":\"Data Analyst\",\"marker\":{\"color\":\"#ab63fa\",\"size\":[72000,85000,8000,10000,91000],\"sizemode\":\"area\",\"sizeref\":1500.0,\"symbol\":\"circle\"},\"mode\":\"markers\",\"name\":\"Data Analyst\",\"orientation\":\"h\",\"showlegend\":true,\"x\":[72000,85000,8000,10000,91000],\"xaxis\":\"x\",\"y\":[\"L\",\"L\",\"L\",\"S\",\"L\"],\"yaxis\":\"y\",\"type\":\"scatter\"},{\"hovertemplate\":\"<b>%{hovertext}</b><br><br>Job=Lead Data Scientist<br>work_year=2020<br>Salary=%{marker.size}<br>Size=%{y}<extra></extra>\",\"hovertext\":[\"Lead Data Scientist\",\"Lead Data Scientist\"],\"legendgroup\":\"Lead Data Scientist\",\"marker\":{\"color\":\"#FFA15A\",\"size\":[190000,115000],\"sizemode\":\"area\",\"sizeref\":1500.0,\"symbol\":\"circle\"},\"mode\":\"markers\",\"name\":\"Lead Data Scientist\",\"orientation\":\"h\",\"showlegend\":true,\"x\":[190000,115000],\"xaxis\":\"x\",\"y\":[\"S\",\"L\"],\"yaxis\":\"y\",\"type\":\"scatter\"},{\"hovertemplate\":\"<b>%{hovertext}</b><br><br>Job=Business Data Analyst<br>work_year=2020<br>Salary=%{marker.size}<br>Size=%{y}<extra></extra>\",\"hovertext\":[\"Business Data Analyst\",\"Business Data Analyst\"],\"legendgroup\":\"Business Data Analyst\",\"marker\":{\"color\":\"#19d3f3\",\"size\":[135000,100000],\"sizemode\":\"area\",\"sizeref\":1500.0,\"symbol\":\"circle\"},\"mode\":\"markers\",\"name\":\"Business Data Analyst\",\"orientation\":\"h\",\"showlegend\":true,\"x\":[135000,100000],\"xaxis\":\"x\",\"y\":[\"L\",\"L\"],\"yaxis\":\"y\",\"type\":\"scatter\"},{\"hovertemplate\":\"<b>%{hovertext}</b><br><br>Job=Lead Data Engineer<br>work_year=2020<br>Salary=%{marker.size}<br>Size=%{y}<extra></extra>\",\"hovertext\":[\"Lead Data Engineer\",\"Lead Data Engineer\"],\"legendgroup\":\"Lead Data Engineer\",\"marker\":{\"color\":\"#FF6692\",\"size\":[125000,56000],\"sizemode\":\"area\",\"sizeref\":1500.0,\"symbol\":\"circle\"},\"mode\":\"markers\",\"name\":\"Lead Data Engineer\",\"orientation\":\"h\",\"showlegend\":true,\"x\":[125000,56000],\"xaxis\":\"x\",\"y\":[\"S\",\"M\"],\"yaxis\":\"y\",\"type\":\"scatter\"},{\"hovertemplate\":\"<b>%{hovertext}</b><br><br>Job=Lead Data Analyst<br>work_year=2020<br>Salary=%{marker.size}<br>Size=%{y}<extra></extra>\",\"hovertext\":[\"Lead Data Analyst\"],\"legendgroup\":\"Lead Data Analyst\",\"marker\":{\"color\":\"#B6E880\",\"size\":[87000],\"sizemode\":\"area\",\"sizeref\":1500.0,\"symbol\":\"circle\"},\"mode\":\"markers\",\"name\":\"Lead Data Analyst\",\"orientation\":\"h\",\"showlegend\":true,\"x\":[87000],\"xaxis\":\"x\",\"y\":[\"L\"],\"yaxis\":\"y\",\"type\":\"scatter\"},{\"hovertemplate\":\"<b>%{hovertext}</b><br><br>Job=BI Data Analyst<br>work_year=2020<br>Salary=%{marker.size}<br>Size=%{y}<extra></extra>\",\"hovertext\":[\"BI Data Analyst\"],\"legendgroup\":\"BI Data Analyst\",\"marker\":{\"color\":\"#FF97FF\",\"size\":[98000],\"sizemode\":\"area\",\"sizeref\":1500.0,\"symbol\":\"circle\"},\"mode\":\"markers\",\"name\":\"BI Data Analyst\",\"orientation\":\"h\",\"showlegend\":true,\"x\":[98000],\"xaxis\":\"x\",\"y\":[\"M\"],\"yaxis\":\"y\",\"type\":\"scatter\"},{\"hovertemplate\":\"<b>%{hovertext}</b><br><br>Job=Director of Data Science<br>work_year=2020<br>Salary=%{marker.size}<br>Size=%{y}<extra></extra>\",\"hovertext\":[\"Director of Data Science\"],\"legendgroup\":\"Director of Data Science\",\"marker\":{\"color\":\"#FECB52\",\"size\":[325000],\"sizemode\":\"area\",\"sizeref\":1500.0,\"symbol\":\"circle\"},\"mode\":\"markers\",\"name\":\"Director of Data Science\",\"orientation\":\"h\",\"showlegend\":true,\"x\":[325000],\"xaxis\":\"x\",\"y\":[\"L\"],\"yaxis\":\"y\",\"type\":\"scatter\"},{\"hovertemplate\":\"<b>%{hovertext}</b><br><br>Job=Research Scientist<br>work_year=2020<br>Salary=%{marker.size}<br>Size=%{y}<extra></extra>\",\"hovertext\":[\"Research Scientist\",\"Research Scientist\"],\"legendgroup\":\"Research Scientist\",\"marker\":{\"color\":\"#636efa\",\"size\":[42000,450000],\"sizemode\":\"area\",\"sizeref\":1500.0,\"symbol\":\"circle\"},\"mode\":\"markers\",\"name\":\"Research Scientist\",\"orientation\":\"h\",\"showlegend\":true,\"x\":[42000,450000],\"xaxis\":\"x\",\"y\":[\"L\",\"M\"],\"yaxis\":\"y\",\"type\":\"scatter\"},{\"hovertemplate\":\"<b>%{hovertext}</b><br><br>Job=Big Data Engineer<br>work_year=2020<br>Salary=%{marker.size}<br>Size=%{y}<extra></extra>\",\"hovertext\":[\"Big Data Engineer\"],\"legendgroup\":\"Big Data Engineer\",\"marker\":{\"color\":\"#EF553B\",\"size\":[70000],\"sizemode\":\"area\",\"sizeref\":1500.0,\"symbol\":\"circle\"},\"mode\":\"markers\",\"name\":\"Big Data Engineer\",\"orientation\":\"h\",\"showlegend\":true,\"x\":[70000],\"xaxis\":\"x\",\"y\":[\"L\"],\"yaxis\":\"y\",\"type\":\"scatter\"},{\"hovertemplate\":\"<b>%{hovertext}</b><br><br>Job=Data Science Consultant<br>work_year=2020<br>Salary=%{marker.size}<br>Size=%{y}<extra></extra>\",\"hovertext\":[\"Data Science Consultant\"],\"legendgroup\":\"Data Science Consultant\",\"marker\":{\"color\":\"#00cc96\",\"size\":[103000],\"sizemode\":\"area\",\"sizeref\":1500.0,\"symbol\":\"circle\"},\"mode\":\"markers\",\"name\":\"Data Science Consultant\",\"orientation\":\"h\",\"showlegend\":true,\"x\":[103000],\"xaxis\":\"x\",\"y\":[\"L\"],\"yaxis\":\"y\",\"type\":\"scatter\"},{\"hovertemplate\":\"<b>%{hovertext}</b><br><br>Job=Data Scientist<br>work_year=2020<br>Salary=%{marker.size}<br>Size=%{y}<extra></extra>\",\"hovertext\":[\"Data Scientist\",\"Data Scientist\",\"Data Scientist\",\"Data Scientist\",\"Data Scientist\",\"Data Scientist\",\"Data Scientist\"],\"legendgroup\":\"Data Scientist\",\"marker\":{\"color\":\"#ab63fa\",\"size\":[45760,105000,118000,120000,138350,412000,105000],\"sizemode\":\"area\",\"sizeref\":1500.0,\"symbol\":\"circle\"},\"mode\":\"markers\",\"name\":\"Data Scientist\",\"orientation\":\"h\",\"showlegend\":true,\"x\":[45760,105000,118000,120000,138350,412000,105000],\"xaxis\":\"x\",\"y\":[\"S\",\"L\",\"M\",\"L\",\"M\",\"L\",\"S\"],\"yaxis\":\"y\",\"type\":\"scatter\"},{\"hovertemplate\":\"<b>%{hovertext}</b><br><br>Job=Data Engineer<br>work_year=2020<br>Salary=%{marker.size}<br>Size=%{y}<extra></extra>\",\"hovertext\":[\"Data Engineer\",\"Data Engineer\",\"Data Engineer\",\"Data Engineer\"],\"legendgroup\":\"Data Engineer\",\"marker\":{\"color\":\"#FFA15A\",\"size\":[106000,188000,110000,130800],\"sizemode\":\"area\",\"sizeref\":1500.0,\"symbol\":\"circle\"},\"mode\":\"markers\",\"name\":\"Data Engineer\",\"orientation\":\"h\",\"showlegend\":true,\"x\":[106000,188000,110000,130800],\"xaxis\":\"x\",\"y\":[\"L\",\"L\",\"L\",\"M\"],\"yaxis\":\"y\",\"type\":\"scatter\"},{\"hovertemplate\":\"<b>%{hovertext}</b><br><br>Job=Computer Vision Engineer<br>work_year=2020<br>Salary=%{marker.size}<br>Size=%{y}<extra></extra>\",\"hovertext\":[\"Computer Vision Engineer\"],\"legendgroup\":\"Computer Vision Engineer\",\"marker\":{\"color\":\"#19d3f3\",\"size\":[60000],\"sizemode\":\"area\",\"sizeref\":1500.0,\"symbol\":\"circle\"},\"mode\":\"markers\",\"name\":\"Computer Vision Engineer\",\"orientation\":\"h\",\"showlegend\":true,\"x\":[60000],\"xaxis\":\"x\",\"y\":[\"S\"],\"yaxis\":\"y\",\"type\":\"scatter\"},{\"hovertemplate\":\"<b>%{hovertext}</b><br><br>Job=Data Science Manager<br>work_year=2020<br>Salary=%{marker.size}<br>Size=%{y}<extra></extra>\",\"hovertext\":[\"Data Science Manager\"],\"legendgroup\":\"Data Science Manager\",\"marker\":{\"color\":\"#FF6692\",\"size\":[190200],\"sizemode\":\"area\",\"sizeref\":1500.0,\"symbol\":\"circle\"},\"mode\":\"markers\",\"name\":\"Data Science Manager\",\"orientation\":\"h\",\"showlegend\":true,\"x\":[190200],\"xaxis\":\"x\",\"y\":[\"M\"],\"yaxis\":\"y\",\"type\":\"scatter\"}],                        {\"template\":{\"data\":{\"histogram2dcontour\":[{\"type\":\"histogram2dcontour\",\"colorbar\":{\"outlinewidth\":0,\"ticks\":\"\"},\"colorscale\":[[0.0,\"#0d0887\"],[0.1111111111111111,\"#46039f\"],[0.2222222222222222,\"#7201a8\"],[0.3333333333333333,\"#9c179e\"],[0.4444444444444444,\"#bd3786\"],[0.5555555555555556,\"#d8576b\"],[0.6666666666666666,\"#ed7953\"],[0.7777777777777778,\"#fb9f3a\"],[0.8888888888888888,\"#fdca26\"],[1.0,\"#f0f921\"]]}],\"choropleth\":[{\"type\":\"choropleth\",\"colorbar\":{\"outlinewidth\":0,\"ticks\":\"\"}}],\"histogram2d\":[{\"type\":\"histogram2d\",\"colorbar\":{\"outlinewidth\":0,\"ticks\":\"\"},\"colorscale\":[[0.0,\"#0d0887\"],[0.1111111111111111,\"#46039f\"],[0.2222222222222222,\"#7201a8\"],[0.3333333333333333,\"#9c179e\"],[0.4444444444444444,\"#bd3786\"],[0.5555555555555556,\"#d8576b\"],[0.6666666666666666,\"#ed7953\"],[0.7777777777777778,\"#fb9f3a\"],[0.8888888888888888,\"#fdca26\"],[1.0,\"#f0f921\"]]}],\"heatmap\":[{\"type\":\"heatmap\",\"colorbar\":{\"outlinewidth\":0,\"ticks\":\"\"},\"colorscale\":[[0.0,\"#0d0887\"],[0.1111111111111111,\"#46039f\"],[0.2222222222222222,\"#7201a8\"],[0.3333333333333333,\"#9c179e\"],[0.4444444444444444,\"#bd3786\"],[0.5555555555555556,\"#d8576b\"],[0.6666666666666666,\"#ed7953\"],[0.7777777777777778,\"#fb9f3a\"],[0.8888888888888888,\"#fdca26\"],[1.0,\"#f0f921\"]]}],\"heatmapgl\":[{\"type\":\"heatmapgl\",\"colorbar\":{\"outlinewidth\":0,\"ticks\":\"\"},\"colorscale\":[[0.0,\"#0d0887\"],[0.1111111111111111,\"#46039f\"],[0.2222222222222222,\"#7201a8\"],[0.3333333333333333,\"#9c179e\"],[0.4444444444444444,\"#bd3786\"],[0.5555555555555556,\"#d8576b\"],[0.6666666666666666,\"#ed7953\"],[0.7777777777777778,\"#fb9f3a\"],[0.8888888888888888,\"#fdca26\"],[1.0,\"#f0f921\"]]}],\"contourcarpet\":[{\"type\":\"contourcarpet\",\"colorbar\":{\"outlinewidth\":0,\"ticks\":\"\"}}],\"contour\":[{\"type\":\"contour\",\"colorbar\":{\"outlinewidth\":0,\"ticks\":\"\"},\"colorscale\":[[0.0,\"#0d0887\"],[0.1111111111111111,\"#46039f\"],[0.2222222222222222,\"#7201a8\"],[0.3333333333333333,\"#9c179e\"],[0.4444444444444444,\"#bd3786\"],[0.5555555555555556,\"#d8576b\"],[0.6666666666666666,\"#ed7953\"],[0.7777777777777778,\"#fb9f3a\"],[0.8888888888888888,\"#fdca26\"],[1.0,\"#f0f921\"]]}],\"surface\":[{\"type\":\"surface\",\"colorbar\":{\"outlinewidth\":0,\"ticks\":\"\"},\"colorscale\":[[0.0,\"#0d0887\"],[0.1111111111111111,\"#46039f\"],[0.2222222222222222,\"#7201a8\"],[0.3333333333333333,\"#9c179e\"],[0.4444444444444444,\"#bd3786\"],[0.5555555555555556,\"#d8576b\"],[0.6666666666666666,\"#ed7953\"],[0.7777777777777778,\"#fb9f3a\"],[0.8888888888888888,\"#fdca26\"],[1.0,\"#f0f921\"]]}],\"mesh3d\":[{\"type\":\"mesh3d\",\"colorbar\":{\"outlinewidth\":0,\"ticks\":\"\"}}],\"scatter\":[{\"fillpattern\":{\"fillmode\":\"overlay\",\"size\":10,\"solidity\":0.2},\"type\":\"scatter\"}],\"parcoords\":[{\"type\":\"parcoords\",\"line\":{\"colorbar\":{\"outlinewidth\":0,\"ticks\":\"\"}}}],\"scatterpolargl\":[{\"type\":\"scatterpolargl\",\"marker\":{\"colorbar\":{\"outlinewidth\":0,\"ticks\":\"\"}}}],\"bar\":[{\"error_x\":{\"color\":\"#2a3f5f\"},\"error_y\":{\"color\":\"#2a3f5f\"},\"marker\":{\"line\":{\"color\":\"#E5ECF6\",\"width\":0.5},\"pattern\":{\"fillmode\":\"overlay\",\"size\":10,\"solidity\":0.2}},\"type\":\"bar\"}],\"scattergeo\":[{\"type\":\"scattergeo\",\"marker\":{\"colorbar\":{\"outlinewidth\":0,\"ticks\":\"\"}}}],\"scatterpolar\":[{\"type\":\"scatterpolar\",\"marker\":{\"colorbar\":{\"outlinewidth\":0,\"ticks\":\"\"}}}],\"histogram\":[{\"marker\":{\"pattern\":{\"fillmode\":\"overlay\",\"size\":10,\"solidity\":0.2}},\"type\":\"histogram\"}],\"scattergl\":[{\"type\":\"scattergl\",\"marker\":{\"colorbar\":{\"outlinewidth\":0,\"ticks\":\"\"}}}],\"scatter3d\":[{\"type\":\"scatter3d\",\"line\":{\"colorbar\":{\"outlinewidth\":0,\"ticks\":\"\"}},\"marker\":{\"colorbar\":{\"outlinewidth\":0,\"ticks\":\"\"}}}],\"scattermapbox\":[{\"type\":\"scattermapbox\",\"marker\":{\"colorbar\":{\"outlinewidth\":0,\"ticks\":\"\"}}}],\"scatterternary\":[{\"type\":\"scatterternary\",\"marker\":{\"colorbar\":{\"outlinewidth\":0,\"ticks\":\"\"}}}],\"scattercarpet\":[{\"type\":\"scattercarpet\",\"marker\":{\"colorbar\":{\"outlinewidth\":0,\"ticks\":\"\"}}}],\"carpet\":[{\"aaxis\":{\"endlinecolor\":\"#2a3f5f\",\"gridcolor\":\"white\",\"linecolor\":\"white\",\"minorgridcolor\":\"white\",\"startlinecolor\":\"#2a3f5f\"},\"baxis\":{\"endlinecolor\":\"#2a3f5f\",\"gridcolor\":\"white\",\"linecolor\":\"white\",\"minorgridcolor\":\"white\",\"startlinecolor\":\"#2a3f5f\"},\"type\":\"carpet\"}],\"table\":[{\"cells\":{\"fill\":{\"color\":\"#EBF0F8\"},\"line\":{\"color\":\"white\"}},\"header\":{\"fill\":{\"color\":\"#C8D4E3\"},\"line\":{\"color\":\"white\"}},\"type\":\"table\"}],\"barpolar\":[{\"marker\":{\"line\":{\"color\":\"#E5ECF6\",\"width\":0.5},\"pattern\":{\"fillmode\":\"overlay\",\"size\":10,\"solidity\":0.2}},\"type\":\"barpolar\"}],\"pie\":[{\"automargin\":true,\"type\":\"pie\"}]},\"layout\":{\"autotypenumbers\":\"strict\",\"colorway\":[\"#636efa\",\"#EF553B\",\"#00cc96\",\"#ab63fa\",\"#FFA15A\",\"#19d3f3\",\"#FF6692\",\"#B6E880\",\"#FF97FF\",\"#FECB52\"],\"font\":{\"color\":\"#2a3f5f\"},\"hovermode\":\"closest\",\"hoverlabel\":{\"align\":\"left\"},\"paper_bgcolor\":\"white\",\"plot_bgcolor\":\"#E5ECF6\",\"polar\":{\"bgcolor\":\"#E5ECF6\",\"angularaxis\":{\"gridcolor\":\"white\",\"linecolor\":\"white\",\"ticks\":\"\"},\"radialaxis\":{\"gridcolor\":\"white\",\"linecolor\":\"white\",\"ticks\":\"\"}},\"ternary\":{\"bgcolor\":\"#E5ECF6\",\"aaxis\":{\"gridcolor\":\"white\",\"linecolor\":\"white\",\"ticks\":\"\"},\"baxis\":{\"gridcolor\":\"white\",\"linecolor\":\"white\",\"ticks\":\"\"},\"caxis\":{\"gridcolor\":\"white\",\"linecolor\":\"white\",\"ticks\":\"\"}},\"coloraxis\":{\"colorbar\":{\"outlinewidth\":0,\"ticks\":\"\"}},\"colorscale\":{\"sequential\":[[0.0,\"#0d0887\"],[0.1111111111111111,\"#46039f\"],[0.2222222222222222,\"#7201a8\"],[0.3333333333333333,\"#9c179e\"],[0.4444444444444444,\"#bd3786\"],[0.5555555555555556,\"#d8576b\"],[0.6666666666666666,\"#ed7953\"],[0.7777777777777778,\"#fb9f3a\"],[0.8888888888888888,\"#fdca26\"],[1.0,\"#f0f921\"]],\"sequentialminus\":[[0.0,\"#0d0887\"],[0.1111111111111111,\"#46039f\"],[0.2222222222222222,\"#7201a8\"],[0.3333333333333333,\"#9c179e\"],[0.4444444444444444,\"#bd3786\"],[0.5555555555555556,\"#d8576b\"],[0.6666666666666666,\"#ed7953\"],[0.7777777777777778,\"#fb9f3a\"],[0.8888888888888888,\"#fdca26\"],[1.0,\"#f0f921\"]],\"diverging\":[[0,\"#8e0152\"],[0.1,\"#c51b7d\"],[0.2,\"#de77ae\"],[0.3,\"#f1b6da\"],[0.4,\"#fde0ef\"],[0.5,\"#f7f7f7\"],[0.6,\"#e6f5d0\"],[0.7,\"#b8e186\"],[0.8,\"#7fbc41\"],[0.9,\"#4d9221\"],[1,\"#276419\"]]},\"xaxis\":{\"gridcolor\":\"white\",\"linecolor\":\"white\",\"ticks\":\"\",\"title\":{\"standoff\":15},\"zerolinecolor\":\"white\",\"automargin\":true,\"zerolinewidth\":2},\"yaxis\":{\"gridcolor\":\"white\",\"linecolor\":\"white\",\"ticks\":\"\",\"title\":{\"standoff\":15},\"zerolinecolor\":\"white\",\"automargin\":true,\"zerolinewidth\":2},\"scene\":{\"xaxis\":{\"backgroundcolor\":\"#E5ECF6\",\"gridcolor\":\"white\",\"linecolor\":\"white\",\"showbackground\":true,\"ticks\":\"\",\"zerolinecolor\":\"white\",\"gridwidth\":2},\"yaxis\":{\"backgroundcolor\":\"#E5ECF6\",\"gridcolor\":\"white\",\"linecolor\":\"white\",\"showbackground\":true,\"ticks\":\"\",\"zerolinecolor\":\"white\",\"gridwidth\":2},\"zaxis\":{\"backgroundcolor\":\"#E5ECF6\",\"gridcolor\":\"white\",\"linecolor\":\"white\",\"showbackground\":true,\"ticks\":\"\",\"zerolinecolor\":\"white\",\"gridwidth\":2}},\"shapedefaults\":{\"line\":{\"color\":\"#2a3f5f\"}},\"annotationdefaults\":{\"arrowcolor\":\"#2a3f5f\",\"arrowhead\":0,\"arrowwidth\":1},\"geo\":{\"bgcolor\":\"white\",\"landcolor\":\"#E5ECF6\",\"subunitcolor\":\"white\",\"showland\":true,\"showlakes\":true,\"lakecolor\":\"white\"},\"title\":{\"x\":0.05},\"mapbox\":{\"style\":\"light\"}}},\"xaxis\":{\"anchor\":\"y\",\"domain\":[0.0,1.0],\"title\":{\"text\":\"Salary\"}},\"yaxis\":{\"anchor\":\"x\",\"domain\":[0.0,1.0],\"title\":{\"text\":\"Size\"}},\"legend\":{\"title\":{\"text\":\"Job\"},\"tracegroupgap\":0,\"itemsizing\":\"constant\"},\"title\":{\"text\":\"Company Size vs Salary (USD)\"},\"updatemenus\":[{\"buttons\":[{\"args\":[null,{\"frame\":{\"duration\":500,\"redraw\":false},\"mode\":\"immediate\",\"fromcurrent\":true,\"transition\":{\"duration\":500,\"easing\":\"linear\"}}],\"label\":\"&#9654;\",\"method\":\"animate\"},{\"args\":[[null],{\"frame\":{\"duration\":0,\"redraw\":false},\"mode\":\"immediate\",\"fromcurrent\":true,\"transition\":{\"duration\":0,\"easing\":\"linear\"}}],\"label\":\"&#9724;\",\"method\":\"animate\"}],\"direction\":\"left\",\"pad\":{\"r\":10,\"t\":70},\"showactive\":false,\"type\":\"buttons\",\"x\":0.1,\"xanchor\":\"right\",\"y\":0,\"yanchor\":\"top\"}],\"sliders\":[{\"active\":0,\"currentvalue\":{\"prefix\":\"work_year=\"},\"len\":0.9,\"pad\":{\"b\":10,\"t\":60},\"steps\":[{\"args\":[[\"2020\"],{\"frame\":{\"duration\":0,\"redraw\":false},\"mode\":\"immediate\",\"fromcurrent\":true,\"transition\":{\"duration\":0,\"easing\":\"linear\"}}],\"label\":\"2020\",\"method\":\"animate\"},{\"args\":[[\"2021\"],{\"frame\":{\"duration\":0,\"redraw\":false},\"mode\":\"immediate\",\"fromcurrent\":true,\"transition\":{\"duration\":0,\"easing\":\"linear\"}}],\"label\":\"2021\",\"method\":\"animate\"},{\"args\":[[\"2022\"],{\"frame\":{\"duration\":0,\"redraw\":false},\"mode\":\"immediate\",\"fromcurrent\":true,\"transition\":{\"duration\":0,\"easing\":\"linear\"}}],\"label\":\"2022\",\"method\":\"animate\"}],\"x\":0.1,\"xanchor\":\"left\",\"y\":0,\"yanchor\":\"top\"}]},                        {\"responsive\": true}                    ).then(function(){\n",
              "                            Plotly.addFrames('49179f3e-bf60-4c41-933c-39de107cb611', [{\"data\":[{\"hovertemplate\":\"<b>%{hovertext}</b><br><br>Job=Machine Learning Scientist<br>work_year=2020<br>Salary=%{marker.size}<br>Size=%{y}<extra></extra>\",\"hovertext\":[\"Machine Learning Scientist\"],\"legendgroup\":\"Machine Learning Scientist\",\"marker\":{\"color\":\"#636efa\",\"size\":[260000],\"sizemode\":\"area\",\"sizeref\":1500.0,\"symbol\":\"circle\"},\"mode\":\"markers\",\"name\":\"Machine Learning Scientist\",\"orientation\":\"h\",\"showlegend\":true,\"x\":[260000],\"xaxis\":\"x\",\"y\":[\"S\"],\"yaxis\":\"y\",\"type\":\"scatter\"},{\"hovertemplate\":\"<b>%{hovertext}</b><br><br>Job=Product Data Analyst<br>work_year=2020<br>Salary=%{marker.size}<br>Size=%{y}<extra></extra>\",\"hovertext\":[\"Product Data Analyst\"],\"legendgroup\":\"Product Data Analyst\",\"marker\":{\"color\":\"#EF553B\",\"size\":[20000],\"sizemode\":\"area\",\"sizeref\":1500.0,\"symbol\":\"circle\"},\"mode\":\"markers\",\"name\":\"Product Data Analyst\",\"orientation\":\"h\",\"showlegend\":true,\"x\":[20000],\"xaxis\":\"x\",\"y\":[\"S\"],\"yaxis\":\"y\",\"type\":\"scatter\"},{\"hovertemplate\":\"<b>%{hovertext}</b><br><br>Job=Machine Learning Engineer<br>work_year=2020<br>Salary=%{marker.size}<br>Size=%{y}<extra></extra>\",\"hovertext\":[\"Machine Learning Engineer\",\"Machine Learning Engineer\",\"Machine Learning Engineer\"],\"legendgroup\":\"Machine Learning Engineer\",\"marker\":{\"color\":\"#00cc96\",\"size\":[150000,250000,138000],\"sizemode\":\"area\",\"sizeref\":1500.0,\"symbol\":\"circle\"},\"mode\":\"markers\",\"name\":\"Machine Learning Engineer\",\"orientation\":\"h\",\"showlegend\":true,\"x\":[150000,250000,138000],\"xaxis\":\"x\",\"y\":[\"L\",\"L\",\"S\"],\"yaxis\":\"y\",\"type\":\"scatter\"},{\"hovertemplate\":\"<b>%{hovertext}</b><br><br>Job=Data Analyst<br>work_year=2020<br>Salary=%{marker.size}<br>Size=%{y}<extra></extra>\",\"hovertext\":[\"Data Analyst\",\"Data Analyst\",\"Data Analyst\",\"Data Analyst\",\"Data Analyst\"],\"legendgroup\":\"Data Analyst\",\"marker\":{\"color\":\"#ab63fa\",\"size\":[72000,85000,8000,10000,91000],\"sizemode\":\"area\",\"sizeref\":1500.0,\"symbol\":\"circle\"},\"mode\":\"markers\",\"name\":\"Data Analyst\",\"orientation\":\"h\",\"showlegend\":true,\"x\":[72000,85000,8000,10000,91000],\"xaxis\":\"x\",\"y\":[\"L\",\"L\",\"L\",\"S\",\"L\"],\"yaxis\":\"y\",\"type\":\"scatter\"},{\"hovertemplate\":\"<b>%{hovertext}</b><br><br>Job=Lead Data Scientist<br>work_year=2020<br>Salary=%{marker.size}<br>Size=%{y}<extra></extra>\",\"hovertext\":[\"Lead Data Scientist\",\"Lead Data Scientist\"],\"legendgroup\":\"Lead Data Scientist\",\"marker\":{\"color\":\"#FFA15A\",\"size\":[190000,115000],\"sizemode\":\"area\",\"sizeref\":1500.0,\"symbol\":\"circle\"},\"mode\":\"markers\",\"name\":\"Lead Data Scientist\",\"orientation\":\"h\",\"showlegend\":true,\"x\":[190000,115000],\"xaxis\":\"x\",\"y\":[\"S\",\"L\"],\"yaxis\":\"y\",\"type\":\"scatter\"},{\"hovertemplate\":\"<b>%{hovertext}</b><br><br>Job=Business Data Analyst<br>work_year=2020<br>Salary=%{marker.size}<br>Size=%{y}<extra></extra>\",\"hovertext\":[\"Business Data Analyst\",\"Business Data Analyst\"],\"legendgroup\":\"Business Data Analyst\",\"marker\":{\"color\":\"#19d3f3\",\"size\":[135000,100000],\"sizemode\":\"area\",\"sizeref\":1500.0,\"symbol\":\"circle\"},\"mode\":\"markers\",\"name\":\"Business Data Analyst\",\"orientation\":\"h\",\"showlegend\":true,\"x\":[135000,100000],\"xaxis\":\"x\",\"y\":[\"L\",\"L\"],\"yaxis\":\"y\",\"type\":\"scatter\"},{\"hovertemplate\":\"<b>%{hovertext}</b><br><br>Job=Lead Data Engineer<br>work_year=2020<br>Salary=%{marker.size}<br>Size=%{y}<extra></extra>\",\"hovertext\":[\"Lead Data Engineer\",\"Lead Data Engineer\"],\"legendgroup\":\"Lead Data Engineer\",\"marker\":{\"color\":\"#FF6692\",\"size\":[125000,56000],\"sizemode\":\"area\",\"sizeref\":1500.0,\"symbol\":\"circle\"},\"mode\":\"markers\",\"name\":\"Lead Data Engineer\",\"orientation\":\"h\",\"showlegend\":true,\"x\":[125000,56000],\"xaxis\":\"x\",\"y\":[\"S\",\"M\"],\"yaxis\":\"y\",\"type\":\"scatter\"},{\"hovertemplate\":\"<b>%{hovertext}</b><br><br>Job=Lead Data Analyst<br>work_year=2020<br>Salary=%{marker.size}<br>Size=%{y}<extra></extra>\",\"hovertext\":[\"Lead Data Analyst\"],\"legendgroup\":\"Lead Data Analyst\",\"marker\":{\"color\":\"#B6E880\",\"size\":[87000],\"sizemode\":\"area\",\"sizeref\":1500.0,\"symbol\":\"circle\"},\"mode\":\"markers\",\"name\":\"Lead Data Analyst\",\"orientation\":\"h\",\"showlegend\":true,\"x\":[87000],\"xaxis\":\"x\",\"y\":[\"L\"],\"yaxis\":\"y\",\"type\":\"scatter\"},{\"hovertemplate\":\"<b>%{hovertext}</b><br><br>Job=BI Data Analyst<br>work_year=2020<br>Salary=%{marker.size}<br>Size=%{y}<extra></extra>\",\"hovertext\":[\"BI Data Analyst\"],\"legendgroup\":\"BI Data Analyst\",\"marker\":{\"color\":\"#FF97FF\",\"size\":[98000],\"sizemode\":\"area\",\"sizeref\":1500.0,\"symbol\":\"circle\"},\"mode\":\"markers\",\"name\":\"BI Data Analyst\",\"orientation\":\"h\",\"showlegend\":true,\"x\":[98000],\"xaxis\":\"x\",\"y\":[\"M\"],\"yaxis\":\"y\",\"type\":\"scatter\"},{\"hovertemplate\":\"<b>%{hovertext}</b><br><br>Job=Director of Data Science<br>work_year=2020<br>Salary=%{marker.size}<br>Size=%{y}<extra></extra>\",\"hovertext\":[\"Director of Data Science\"],\"legendgroup\":\"Director of Data Science\",\"marker\":{\"color\":\"#FECB52\",\"size\":[325000],\"sizemode\":\"area\",\"sizeref\":1500.0,\"symbol\":\"circle\"},\"mode\":\"markers\",\"name\":\"Director of Data Science\",\"orientation\":\"h\",\"showlegend\":true,\"x\":[325000],\"xaxis\":\"x\",\"y\":[\"L\"],\"yaxis\":\"y\",\"type\":\"scatter\"},{\"hovertemplate\":\"<b>%{hovertext}</b><br><br>Job=Research Scientist<br>work_year=2020<br>Salary=%{marker.size}<br>Size=%{y}<extra></extra>\",\"hovertext\":[\"Research Scientist\",\"Research Scientist\"],\"legendgroup\":\"Research Scientist\",\"marker\":{\"color\":\"#636efa\",\"size\":[42000,450000],\"sizemode\":\"area\",\"sizeref\":1500.0,\"symbol\":\"circle\"},\"mode\":\"markers\",\"name\":\"Research Scientist\",\"orientation\":\"h\",\"showlegend\":true,\"x\":[42000,450000],\"xaxis\":\"x\",\"y\":[\"L\",\"M\"],\"yaxis\":\"y\",\"type\":\"scatter\"},{\"hovertemplate\":\"<b>%{hovertext}</b><br><br>Job=Big Data Engineer<br>work_year=2020<br>Salary=%{marker.size}<br>Size=%{y}<extra></extra>\",\"hovertext\":[\"Big Data Engineer\"],\"legendgroup\":\"Big Data Engineer\",\"marker\":{\"color\":\"#EF553B\",\"size\":[70000],\"sizemode\":\"area\",\"sizeref\":1500.0,\"symbol\":\"circle\"},\"mode\":\"markers\",\"name\":\"Big Data Engineer\",\"orientation\":\"h\",\"showlegend\":true,\"x\":[70000],\"xaxis\":\"x\",\"y\":[\"L\"],\"yaxis\":\"y\",\"type\":\"scatter\"},{\"hovertemplate\":\"<b>%{hovertext}</b><br><br>Job=Data Science Consultant<br>work_year=2020<br>Salary=%{marker.size}<br>Size=%{y}<extra></extra>\",\"hovertext\":[\"Data Science Consultant\"],\"legendgroup\":\"Data Science Consultant\",\"marker\":{\"color\":\"#00cc96\",\"size\":[103000],\"sizemode\":\"area\",\"sizeref\":1500.0,\"symbol\":\"circle\"},\"mode\":\"markers\",\"name\":\"Data Science Consultant\",\"orientation\":\"h\",\"showlegend\":true,\"x\":[103000],\"xaxis\":\"x\",\"y\":[\"L\"],\"yaxis\":\"y\",\"type\":\"scatter\"},{\"hovertemplate\":\"<b>%{hovertext}</b><br><br>Job=Data Scientist<br>work_year=2020<br>Salary=%{marker.size}<br>Size=%{y}<extra></extra>\",\"hovertext\":[\"Data Scientist\",\"Data Scientist\",\"Data Scientist\",\"Data Scientist\",\"Data Scientist\",\"Data Scientist\",\"Data Scientist\"],\"legendgroup\":\"Data Scientist\",\"marker\":{\"color\":\"#ab63fa\",\"size\":[45760,105000,118000,120000,138350,412000,105000],\"sizemode\":\"area\",\"sizeref\":1500.0,\"symbol\":\"circle\"},\"mode\":\"markers\",\"name\":\"Data Scientist\",\"orientation\":\"h\",\"showlegend\":true,\"x\":[45760,105000,118000,120000,138350,412000,105000],\"xaxis\":\"x\",\"y\":[\"S\",\"L\",\"M\",\"L\",\"M\",\"L\",\"S\"],\"yaxis\":\"y\",\"type\":\"scatter\"},{\"hovertemplate\":\"<b>%{hovertext}</b><br><br>Job=Data Engineer<br>work_year=2020<br>Salary=%{marker.size}<br>Size=%{y}<extra></extra>\",\"hovertext\":[\"Data Engineer\",\"Data Engineer\",\"Data Engineer\",\"Data Engineer\"],\"legendgroup\":\"Data Engineer\",\"marker\":{\"color\":\"#FFA15A\",\"size\":[106000,188000,110000,130800],\"sizemode\":\"area\",\"sizeref\":1500.0,\"symbol\":\"circle\"},\"mode\":\"markers\",\"name\":\"Data Engineer\",\"orientation\":\"h\",\"showlegend\":true,\"x\":[106000,188000,110000,130800],\"xaxis\":\"x\",\"y\":[\"L\",\"L\",\"L\",\"M\"],\"yaxis\":\"y\",\"type\":\"scatter\"},{\"hovertemplate\":\"<b>%{hovertext}</b><br><br>Job=Computer Vision Engineer<br>work_year=2020<br>Salary=%{marker.size}<br>Size=%{y}<extra></extra>\",\"hovertext\":[\"Computer Vision Engineer\"],\"legendgroup\":\"Computer Vision Engineer\",\"marker\":{\"color\":\"#19d3f3\",\"size\":[60000],\"sizemode\":\"area\",\"sizeref\":1500.0,\"symbol\":\"circle\"},\"mode\":\"markers\",\"name\":\"Computer Vision Engineer\",\"orientation\":\"h\",\"showlegend\":true,\"x\":[60000],\"xaxis\":\"x\",\"y\":[\"S\"],\"yaxis\":\"y\",\"type\":\"scatter\"},{\"hovertemplate\":\"<b>%{hovertext}</b><br><br>Job=Data Science Manager<br>work_year=2020<br>Salary=%{marker.size}<br>Size=%{y}<extra></extra>\",\"hovertext\":[\"Data Science Manager\"],\"legendgroup\":\"Data Science Manager\",\"marker\":{\"color\":\"#FF6692\",\"size\":[190200],\"sizemode\":\"area\",\"sizeref\":1500.0,\"symbol\":\"circle\"},\"mode\":\"markers\",\"name\":\"Data Science Manager\",\"orientation\":\"h\",\"showlegend\":true,\"x\":[190200],\"xaxis\":\"x\",\"y\":[\"M\"],\"yaxis\":\"y\",\"type\":\"scatter\"}],\"name\":\"2020\"},{\"data\":[{\"hovertemplate\":\"<b>%{hovertext}</b><br><br>Job=Machine Learning Scientist<br>work_year=2021<br>Salary=%{marker.size}<br>Size=%{y}<extra></extra>\",\"hovertext\":[\"Machine Learning Scientist\",\"Machine Learning Scientist\",\"Machine Learning Scientist\",\"Machine Learning Scientist\"],\"legendgroup\":\"Machine Learning Scientist\",\"marker\":{\"color\":\"#636efa\",\"size\":[225000,120000,12000,225000],\"sizemode\":\"area\",\"sizeref\":1500.0,\"symbol\":\"circle\"},\"mode\":\"markers\",\"name\":\"Machine Learning Scientist\",\"orientation\":\"h\",\"showlegend\":true,\"x\":[225000,120000,12000,225000],\"xaxis\":\"x\",\"y\":[\"L\",\"S\",\"M\",\"L\"],\"yaxis\":\"y\",\"type\":\"scatter\"},{\"hovertemplate\":\"<b>%{hovertext}</b><br><br>Job=Machine Learning Engineer<br>work_year=2021<br>Salary=%{marker.size}<br>Size=%{y}<extra></extra>\",\"hovertext\":[\"Machine Learning Engineer\",\"Machine Learning Engineer\",\"Machine Learning Engineer\",\"Machine Learning Engineer\",\"Machine Learning Engineer\",\"Machine Learning Engineer\",\"Machine Learning Engineer\",\"Machine Learning Engineer\"],\"legendgroup\":\"Machine Learning Engineer\",\"marker\":{\"color\":\"#00cc96\",\"size\":[20000,125000,81000,74000,21844,200000,185000,85000],\"sizemode\":\"area\",\"sizeref\":1500.0,\"symbol\":\"circle\"},\"mode\":\"markers\",\"name\":\"Machine Learning Engineer\",\"orientation\":\"h\",\"showlegend\":true,\"x\":[20000,125000,81000,74000,21844,200000,185000,85000],\"xaxis\":\"x\",\"y\":[\"S\",\"S\",\"S\",\"S\",\"M\",\"L\",\"L\",\"S\"],\"yaxis\":\"y\",\"type\":\"scatter\"},{\"hovertemplate\":\"<b>%{hovertext}</b><br><br>Job=Data Analyst<br>work_year=2021<br>Salary=%{marker.size}<br>Size=%{y}<extra></extra>\",\"hovertext\":[\"Data Analyst\",\"Data Analyst\",\"Data Analyst\",\"Data Analyst\",\"Data Analyst\",\"Data Analyst\",\"Data Analyst\",\"Data Analyst\",\"Data Analyst\",\"Data Analyst\",\"Data Analyst\",\"Data Analyst\"],\"legendgroup\":\"Data Analyst\",\"marker\":{\"color\":\"#ab63fa\",\"size\":[80000,80000,75000,62000,90000,50000,90000,135000,60000,200000,80000,93000],\"sizemode\":\"area\",\"sizeref\":1500.0,\"symbol\":\"circle\"},\"mode\":\"markers\",\"name\":\"Data Analyst\",\"orientation\":\"h\",\"showlegend\":true,\"x\":[80000,80000,75000,62000,90000,50000,90000,135000,60000,200000,80000,93000],\"xaxis\":\"x\",\"y\":[\"M\",\"S\",\"L\",\"L\",\"S\",\"M\",\"M\",\"L\",\"S\",\"L\",\"L\",\"L\"],\"yaxis\":\"y\",\"type\":\"scatter\"},{\"hovertemplate\":\"<b>%{hovertext}</b><br><br>Job=Lead Data Engineer<br>work_year=2021<br>Salary=%{marker.size}<br>Size=%{y}<extra></extra>\",\"hovertext\":[\"Lead Data Engineer\",\"Lead Data Engineer\"],\"legendgroup\":\"Lead Data Engineer\",\"marker\":{\"color\":\"#FF6692\",\"size\":[276000,160000],\"sizemode\":\"area\",\"sizeref\":1500.0,\"symbol\":\"circle\"},\"mode\":\"markers\",\"name\":\"Lead Data Engineer\",\"orientation\":\"h\",\"showlegend\":true,\"x\":[276000,160000],\"xaxis\":\"x\",\"y\":[\"L\",\"S\"],\"yaxis\":\"y\",\"type\":\"scatter\"},{\"hovertemplate\":\"<b>%{hovertext}</b><br><br>Job=Lead Data Analyst<br>work_year=2021<br>Salary=%{marker.size}<br>Size=%{y}<extra></extra>\",\"hovertext\":[\"Lead Data Analyst\"],\"legendgroup\":\"Lead Data Analyst\",\"marker\":{\"color\":\"#B6E880\",\"size\":[170000],\"sizemode\":\"area\",\"sizeref\":1500.0,\"symbol\":\"circle\"},\"mode\":\"markers\",\"name\":\"Lead Data Analyst\",\"orientation\":\"h\",\"showlegend\":true,\"x\":[170000],\"xaxis\":\"x\",\"y\":[\"L\"],\"yaxis\":\"y\",\"type\":\"scatter\"},{\"hovertemplate\":\"<b>%{hovertext}</b><br><br>Job=BI Data Analyst<br>work_year=2021<br>Salary=%{marker.size}<br>Size=%{y}<extra></extra>\",\"hovertext\":[\"BI Data Analyst\",\"BI Data Analyst\",\"BI Data Analyst\",\"BI Data Analyst\"],\"legendgroup\":\"BI Data Analyst\",\"marker\":{\"color\":\"#FF97FF\",\"size\":[150000,100000,55000,9272],\"sizemode\":\"area\",\"sizeref\":1500.0,\"symbol\":\"circle\"},\"mode\":\"markers\",\"name\":\"BI Data Analyst\",\"orientation\":\"h\",\"showlegend\":true,\"x\":[150000,100000,55000,9272],\"xaxis\":\"x\",\"y\":[\"L\",\"M\",\"S\",\"S\"],\"yaxis\":\"y\",\"type\":\"scatter\"},{\"hovertemplate\":\"<b>%{hovertext}</b><br><br>Job=Director of Data Science<br>work_year=2021<br>Salary=%{marker.size}<br>Size=%{y}<extra></extra>\",\"hovertext\":[\"Director of Data Science\",\"Director of Data Science\"],\"legendgroup\":\"Director of Data Science\",\"marker\":{\"color\":\"#FECB52\",\"size\":[168000,250000],\"sizemode\":\"area\",\"sizeref\":1500.0,\"symbol\":\"circle\"},\"mode\":\"markers\",\"name\":\"Director of Data Science\",\"orientation\":\"h\",\"showlegend\":true,\"x\":[168000,250000],\"xaxis\":\"x\",\"y\":[\"S\",\"L\"],\"yaxis\":\"y\",\"type\":\"scatter\"},{\"hovertemplate\":\"<b>%{hovertext}</b><br><br>Job=Research Scientist<br>work_year=2021<br>Salary=%{marker.size}<br>Size=%{y}<extra></extra>\",\"hovertext\":[\"Research Scientist\",\"Research Scientist\",\"Research Scientist\"],\"legendgroup\":\"Research Scientist\",\"marker\":{\"color\":\"#636efa\",\"size\":[50000,100000,69999],\"sizemode\":\"area\",\"sizeref\":1500.0,\"symbol\":\"circle\"},\"mode\":\"markers\",\"name\":\"Research Scientist\",\"orientation\":\"h\",\"showlegend\":true,\"x\":[50000,100000,69999],\"xaxis\":\"x\",\"y\":[\"S\",\"L\",\"L\"],\"yaxis\":\"y\",\"type\":\"scatter\"},{\"hovertemplate\":\"<b>%{hovertext}</b><br><br>Job=Big Data Engineer<br>work_year=2021<br>Salary=%{marker.size}<br>Size=%{y}<extra></extra>\",\"hovertext\":[\"Big Data Engineer\",\"Big Data Engineer\"],\"legendgroup\":\"Big Data Engineer\",\"marker\":{\"color\":\"#EF553B\",\"size\":[60000,18000],\"sizemode\":\"area\",\"sizeref\":1500.0,\"symbol\":\"circle\"},\"mode\":\"markers\",\"name\":\"Big Data Engineer\",\"orientation\":\"h\",\"showlegend\":true,\"x\":[60000,18000],\"xaxis\":\"x\",\"y\":[\"M\",\"S\"],\"yaxis\":\"y\",\"type\":\"scatter\"},{\"hovertemplate\":\"<b>%{hovertext}</b><br><br>Job=Data Science Consultant<br>work_year=2021<br>Salary=%{marker.size}<br>Size=%{y}<extra></extra>\",\"hovertext\":[\"Data Science Consultant\"],\"legendgroup\":\"Data Science Consultant\",\"marker\":{\"color\":\"#00cc96\",\"size\":[90000],\"sizemode\":\"area\",\"sizeref\":1500.0,\"symbol\":\"circle\"},\"mode\":\"markers\",\"name\":\"Data Science Consultant\",\"orientation\":\"h\",\"showlegend\":true,\"x\":[90000],\"xaxis\":\"x\",\"y\":[\"S\"],\"yaxis\":\"y\",\"type\":\"scatter\"},{\"hovertemplate\":\"<b>%{hovertext}</b><br><br>Job=Data Scientist<br>work_year=2021<br>Salary=%{marker.size}<br>Size=%{y}<extra></extra>\",\"hovertext\":[\"Data Scientist\",\"Data Scientist\",\"Data Scientist\",\"Data Scientist\",\"Data Scientist\",\"Data Scientist\",\"Data Scientist\",\"Data Scientist\",\"Data Scientist\",\"Data Scientist\",\"Data Scientist\",\"Data Scientist\",\"Data Scientist\",\"Data Scientist\",\"Data Scientist\",\"Data Scientist\",\"Data Scientist\",\"Data Scientist\"],\"legendgroup\":\"Data Scientist\",\"marker\":{\"color\":\"#ab63fa\",\"size\":[73000,50000,100000,80000,82500,150000,13400,147000,160000,135000,4000,165000,115000,90000,130000,100000,58000,109000],\"sizemode\":\"area\",\"sizeref\":1500.0,\"symbol\":\"circle\"},\"mode\":\"markers\",\"name\":\"Data Scientist\",\"orientation\":\"h\",\"showlegend\":true,\"x\":[73000,50000,100000,80000,82500,150000,13400,147000,160000,135000,4000,165000,115000,90000,130000,100000,58000,109000],\"xaxis\":\"x\",\"y\":[\"L\",\"L\",\"S\",\"M\",\"S\",\"M\",\"L\",\"L\",\"L\",\"L\",\"M\",\"L\",\"L\",\"S\",\"L\",\"M\",\"L\",\"L\"],\"yaxis\":\"y\",\"type\":\"scatter\"},{\"hovertemplate\":\"<b>%{hovertext}</b><br><br>Job=Data Engineer<br>work_year=2021<br>Salary=%{marker.size}<br>Size=%{y}<extra></extra>\",\"hovertext\":[\"Data Engineer\",\"Data Engineer\",\"Data Engineer\",\"Data Engineer\",\"Data Engineer\",\"Data Engineer\",\"Data Engineer\",\"Data Engineer\",\"Data Engineer\",\"Data Engineer\",\"Data Engineer\",\"Data Engineer\",\"Data Engineer\",\"Data Engineer\",\"Data Engineer\",\"Data Engineer\",\"Data Engineer\"],\"legendgroup\":\"Data Engineer\",\"marker\":{\"color\":\"#FFA15A\",\"size\":[140000,150000,115000,150000,200000,100000,90000,80000,4000,165000,20000,110000,200000,93150,111775,72500,112000],\"sizemode\":\"area\",\"sizeref\":1500.0,\"symbol\":\"circle\"},\"mode\":\"markers\",\"name\":\"Data Engineer\",\"orientation\":\"h\",\"showlegend\":true,\"x\":[140000,150000,115000,150000,200000,100000,90000,80000,4000,165000,20000,110000,200000,93150,111775,72500,112000],\"xaxis\":\"x\",\"y\":[\"L\",\"L\",\"S\",\"M\",\"L\",\"L\",\"L\",\"L\",\"M\",\"M\",\"L\",\"L\",\"L\",\"M\",\"M\",\"L\",\"L\"],\"yaxis\":\"y\",\"type\":\"scatter\"},{\"hovertemplate\":\"<b>%{hovertext}</b><br><br>Job=Computer Vision Engineer<br>work_year=2021<br>Salary=%{marker.size}<br>Size=%{y}<extra></extra>\",\"hovertext\":[\"Computer Vision Engineer\"],\"legendgroup\":\"Computer Vision Engineer\",\"marker\":{\"color\":\"#19d3f3\",\"size\":[24000],\"sizemode\":\"area\",\"sizeref\":1500.0,\"symbol\":\"circle\"},\"mode\":\"markers\",\"name\":\"Computer Vision Engineer\",\"orientation\":\"h\",\"showlegend\":true,\"x\":[24000],\"xaxis\":\"x\",\"y\":[\"M\"],\"yaxis\":\"y\",\"type\":\"scatter\"},{\"hovertemplate\":\"<b>%{hovertext}</b><br><br>Job=Data Science Manager<br>work_year=2021<br>Salary=%{marker.size}<br>Size=%{y}<extra></extra>\",\"hovertext\":[\"Data Science Manager\",\"Data Science Manager\",\"Data Science Manager\",\"Data Science Manager\"],\"legendgroup\":\"Data Science Manager\",\"marker\":{\"color\":\"#FF6692\",\"size\":[240000,144000,152000,174000],\"sizemode\":\"area\",\"sizeref\":1500.0,\"symbol\":\"circle\"},\"mode\":\"markers\",\"name\":\"Data Science Manager\",\"orientation\":\"h\",\"showlegend\":true,\"x\":[240000,144000,152000,174000],\"xaxis\":\"x\",\"y\":[\"L\",\"L\",\"L\",\"L\"],\"yaxis\":\"y\",\"type\":\"scatter\"},{\"hovertemplate\":\"<b>%{hovertext}</b><br><br>Job=Head of Data<br>work_year=2021<br>Salary=%{marker.size}<br>Size=%{y}<extra></extra>\",\"hovertext\":[\"Head of Data\",\"Head of Data\"],\"legendgroup\":\"Head of Data\",\"marker\":{\"color\":\"#B6E880\",\"size\":[235000,230000],\"sizemode\":\"area\",\"sizeref\":1500.0,\"symbol\":\"circle\"},\"mode\":\"markers\",\"name\":\"Head of Data\",\"orientation\":\"h\",\"showlegend\":true,\"x\":[235000,230000],\"xaxis\":\"x\",\"y\":[\"L\",\"L\"],\"yaxis\":\"y\",\"type\":\"scatter\"},{\"hovertemplate\":\"<b>%{hovertext}</b><br><br>Job=ML Engineer<br>work_year=2021<br>Salary=%{marker.size}<br>Size=%{y}<extra></extra>\",\"hovertext\":[\"ML Engineer\",\"ML Engineer\"],\"legendgroup\":\"ML Engineer\",\"marker\":{\"color\":\"#FF97FF\",\"size\":[270000,256000],\"sizemode\":\"area\",\"sizeref\":1500.0,\"symbol\":\"circle\"},\"mode\":\"markers\",\"name\":\"ML Engineer\",\"orientation\":\"h\",\"showlegend\":true,\"x\":[270000,256000],\"xaxis\":\"x\",\"y\":[\"L\",\"S\"],\"yaxis\":\"y\",\"type\":\"scatter\"},{\"hovertemplate\":\"<b>%{hovertext}</b><br><br>Job=Data Analytics Engineer<br>work_year=2021<br>Salary=%{marker.size}<br>Size=%{y}<extra></extra>\",\"hovertext\":[\"Data Analytics Engineer\",\"Data Analytics Engineer\"],\"legendgroup\":\"Data Analytics Engineer\",\"marker\":{\"color\":\"#FECB52\",\"size\":[110000,50000],\"sizemode\":\"area\",\"sizeref\":1500.0,\"symbol\":\"circle\"},\"mode\":\"markers\",\"name\":\"Data Analytics Engineer\",\"orientation\":\"h\",\"showlegend\":true,\"x\":[110000,50000],\"xaxis\":\"x\",\"y\":[\"L\",\"M\"],\"yaxis\":\"y\",\"type\":\"scatter\"},{\"hovertemplate\":\"<b>%{hovertext}</b><br><br>Job=AI Scientist<br>work_year=2021<br>Salary=%{marker.size}<br>Size=%{y}<extra></extra>\",\"hovertext\":[\"AI Scientist\",\"AI Scientist\",\"AI Scientist\"],\"legendgroup\":\"AI Scientist\",\"marker\":{\"color\":\"#636efa\",\"size\":[12000,12000,55000],\"sizemode\":\"area\",\"sizeref\":1500.0,\"symbol\":\"circle\"},\"mode\":\"markers\",\"name\":\"AI Scientist\",\"orientation\":\"h\",\"showlegend\":true,\"x\":[12000,12000,55000],\"xaxis\":\"x\",\"y\":[\"S\",\"M\",\"L\"],\"yaxis\":\"y\",\"type\":\"scatter\"},{\"hovertemplate\":\"<b>%{hovertext}</b><br><br>Job=Financial Data Analyst<br>work_year=2021<br>Salary=%{marker.size}<br>Size=%{y}<extra></extra>\",\"hovertext\":[\"Financial Data Analyst\"],\"legendgroup\":\"Financial Data Analyst\",\"marker\":{\"color\":\"#EF553B\",\"size\":[450000],\"sizemode\":\"area\",\"sizeref\":1500.0,\"symbol\":\"circle\"},\"mode\":\"markers\",\"name\":\"Financial Data Analyst\",\"orientation\":\"h\",\"showlegend\":true,\"x\":[450000],\"xaxis\":\"x\",\"y\":[\"L\"],\"yaxis\":\"y\",\"type\":\"scatter\"},{\"hovertemplate\":\"<b>%{hovertext}</b><br><br>Job=Computer Vision Software Engineer<br>work_year=2021<br>Salary=%{marker.size}<br>Size=%{y}<extra></extra>\",\"hovertext\":[\"Computer Vision Software Engineer\"],\"legendgroup\":\"Computer Vision Software Engineer\",\"marker\":{\"color\":\"#00cc96\",\"size\":[70000],\"sizemode\":\"area\",\"sizeref\":1500.0,\"symbol\":\"circle\"},\"mode\":\"markers\",\"name\":\"Computer Vision Software Engineer\",\"orientation\":\"h\",\"showlegend\":true,\"x\":[70000],\"xaxis\":\"x\",\"y\":[\"M\"],\"yaxis\":\"y\",\"type\":\"scatter\"},{\"hovertemplate\":\"<b>%{hovertext}</b><br><br>Job=Principal Data Engineer<br>work_year=2021<br>Salary=%{marker.size}<br>Size=%{y}<extra></extra>\",\"hovertext\":[\"Principal Data Engineer\",\"Principal Data Engineer\",\"Principal Data Engineer\"],\"legendgroup\":\"Principal Data Engineer\",\"marker\":{\"color\":\"#ab63fa\",\"size\":[200000,185000,600000],\"sizemode\":\"area\",\"sizeref\":1500.0,\"symbol\":\"circle\"},\"mode\":\"markers\",\"name\":\"Principal Data Engineer\",\"orientation\":\"h\",\"showlegend\":true,\"x\":[200000,185000,600000],\"xaxis\":\"x\",\"y\":[\"M\",\"L\",\"L\"],\"yaxis\":\"y\",\"type\":\"scatter\"},{\"hovertemplate\":\"<b>%{hovertext}</b><br><br>Job=Principal Data Scientist<br>work_year=2021<br>Salary=%{marker.size}<br>Size=%{y}<extra></extra>\",\"hovertext\":[\"Principal Data Scientist\",\"Principal Data Scientist\",\"Principal Data Scientist\",\"Principal Data Scientist\"],\"legendgroup\":\"Principal Data Scientist\",\"marker\":{\"color\":\"#FFA15A\",\"size\":[151000,220000,235000,416000],\"sizemode\":\"area\",\"sizeref\":1500.0,\"symbol\":\"circle\"},\"mode\":\"markers\",\"name\":\"Principal Data Scientist\",\"orientation\":\"h\",\"showlegend\":true,\"x\":[151000,220000,235000,416000],\"xaxis\":\"x\",\"y\":[\"L\",\"L\",\"L\",\"S\"],\"yaxis\":\"y\",\"type\":\"scatter\"},{\"hovertemplate\":\"<b>%{hovertext}</b><br><br>Job=Machine Learning Developer<br>work_year=2021<br>Salary=%{marker.size}<br>Size=%{y}<extra></extra>\",\"hovertext\":[\"Machine Learning Developer\"],\"legendgroup\":\"Machine Learning Developer\",\"marker\":{\"color\":\"#19d3f3\",\"size\":[100000],\"sizemode\":\"area\",\"sizeref\":1500.0,\"symbol\":\"circle\"},\"mode\":\"markers\",\"name\":\"Machine Learning Developer\",\"orientation\":\"h\",\"showlegend\":true,\"x\":[100000],\"xaxis\":\"x\",\"y\":[\"S\"],\"yaxis\":\"y\",\"type\":\"scatter\"},{\"hovertemplate\":\"<b>%{hovertext}</b><br><br>Job=Applied Machine Learning Scientist<br>work_year=2021<br>Salary=%{marker.size}<br>Size=%{y}<extra></extra>\",\"hovertext\":[\"Applied Machine Learning Scientist\",\"Applied Machine Learning Scientist\"],\"legendgroup\":\"Applied Machine Learning Scientist\",\"marker\":{\"color\":\"#FF6692\",\"size\":[38400,423000],\"sizemode\":\"area\",\"sizeref\":1500.0,\"symbol\":\"circle\"},\"mode\":\"markers\",\"name\":\"Applied Machine Learning Scientist\",\"orientation\":\"h\",\"showlegend\":true,\"x\":[38400,423000],\"xaxis\":\"x\",\"y\":[\"M\",\"L\"],\"yaxis\":\"y\",\"type\":\"scatter\"},{\"hovertemplate\":\"<b>%{hovertext}</b><br><br>Job=Data Engineering Manager<br>work_year=2021<br>Salary=%{marker.size}<br>Size=%{y}<extra></extra>\",\"hovertext\":[\"Data Engineering Manager\",\"Data Engineering Manager\",\"Data Engineering Manager\"],\"legendgroup\":\"Data Engineering Manager\",\"marker\":{\"color\":\"#B6E880\",\"size\":[150000,153000,174000],\"sizemode\":\"area\",\"sizeref\":1500.0,\"symbol\":\"circle\"},\"mode\":\"markers\",\"name\":\"Data Engineering Manager\",\"orientation\":\"h\",\"showlegend\":true,\"x\":[150000,153000,174000],\"xaxis\":\"x\",\"y\":[\"L\",\"L\",\"L\"],\"yaxis\":\"y\",\"type\":\"scatter\"},{\"hovertemplate\":\"<b>%{hovertext}</b><br><br>Job=Cloud Data Engineer<br>work_year=2021<br>Salary=%{marker.size}<br>Size=%{y}<extra></extra>\",\"hovertext\":[\"Cloud Data Engineer\"],\"legendgroup\":\"Cloud Data Engineer\",\"marker\":{\"color\":\"#FF97FF\",\"size\":[160000],\"sizemode\":\"area\",\"sizeref\":1500.0,\"symbol\":\"circle\"},\"mode\":\"markers\",\"name\":\"Cloud Data Engineer\",\"orientation\":\"h\",\"showlegend\":true,\"x\":[160000],\"xaxis\":\"x\",\"y\":[\"S\"],\"yaxis\":\"y\",\"type\":\"scatter\"},{\"hovertemplate\":\"<b>%{hovertext}</b><br><br>Job=Data Analytics Manager<br>work_year=2021<br>Salary=%{marker.size}<br>Size=%{y}<extra></extra>\",\"hovertext\":[\"Data Analytics Manager\",\"Data Analytics Manager\",\"Data Analytics Manager\"],\"legendgroup\":\"Data Analytics Manager\",\"marker\":{\"color\":\"#FECB52\",\"size\":[120000,120000,140000],\"sizemode\":\"area\",\"sizeref\":1500.0,\"symbol\":\"circle\"},\"mode\":\"markers\",\"name\":\"Data Analytics Manager\",\"orientation\":\"h\",\"showlegend\":true,\"x\":[120000,120000,140000],\"xaxis\":\"x\",\"y\":[\"M\",\"L\",\"L\"],\"yaxis\":\"y\",\"type\":\"scatter\"},{\"hovertemplate\":\"<b>%{hovertext}</b><br><br>Job=Head of Data Science<br>work_year=2021<br>Salary=%{marker.size}<br>Size=%{y}<extra></extra>\",\"hovertext\":[\"Head of Data Science\",\"Head of Data Science\"],\"legendgroup\":\"Head of Data Science\",\"marker\":{\"color\":\"#636efa\",\"size\":[85000,110000],\"sizemode\":\"area\",\"sizeref\":1500.0,\"symbol\":\"circle\"},\"mode\":\"markers\",\"name\":\"Head of Data Science\",\"orientation\":\"h\",\"showlegend\":true,\"x\":[85000,110000],\"xaxis\":\"x\",\"y\":[\"M\",\"S\"],\"yaxis\":\"y\",\"type\":\"scatter\"},{\"hovertemplate\":\"<b>%{hovertext}</b><br><br>Job=Data Specialist<br>work_year=2021<br>Salary=%{marker.size}<br>Size=%{y}<extra></extra>\",\"hovertext\":[\"Data Specialist\"],\"legendgroup\":\"Data Specialist\",\"marker\":{\"color\":\"#EF553B\",\"size\":[165000],\"sizemode\":\"area\",\"sizeref\":1500.0,\"symbol\":\"circle\"},\"mode\":\"markers\",\"name\":\"Data Specialist\",\"orientation\":\"h\",\"showlegend\":true,\"x\":[165000],\"xaxis\":\"x\",\"y\":[\"L\"],\"yaxis\":\"y\",\"type\":\"scatter\"},{\"hovertemplate\":\"<b>%{hovertext}</b><br><br>Job=Data Architect<br>work_year=2021<br>Salary=%{marker.size}<br>Size=%{y}<extra></extra>\",\"hovertext\":[\"Data Architect\",\"Data Architect\",\"Data Architect\"],\"legendgroup\":\"Data Architect\",\"marker\":{\"color\":\"#00cc96\",\"size\":[150000,170000,180000],\"sizemode\":\"area\",\"sizeref\":1500.0,\"symbol\":\"circle\"},\"mode\":\"markers\",\"name\":\"Data Architect\",\"orientation\":\"h\",\"showlegend\":true,\"x\":[150000,170000,180000],\"xaxis\":\"x\",\"y\":[\"L\",\"L\",\"L\"],\"yaxis\":\"y\",\"type\":\"scatter\"},{\"hovertemplate\":\"<b>%{hovertext}</b><br><br>Job=Machine Learning Infrastructure Engineer<br>work_year=2021<br>Salary=%{marker.size}<br>Size=%{y}<extra></extra>\",\"hovertext\":[\"Machine Learning Infrastructure Engineer\"],\"legendgroup\":\"Machine Learning Infrastructure Engineer\",\"marker\":{\"color\":\"#ab63fa\",\"size\":[195000],\"sizemode\":\"area\",\"sizeref\":1500.0,\"symbol\":\"circle\"},\"mode\":\"markers\",\"name\":\"Machine Learning Infrastructure Engineer\",\"orientation\":\"h\",\"showlegend\":true,\"x\":[195000],\"xaxis\":\"x\",\"y\":[\"M\"],\"yaxis\":\"y\",\"type\":\"scatter\"},{\"hovertemplate\":\"<b>%{hovertext}</b><br><br>Job=Director of Data Engineering<br>work_year=2021<br>Salary=%{marker.size}<br>Size=%{y}<extra></extra>\",\"hovertext\":[\"Director of Data Engineering\"],\"legendgroup\":\"Director of Data Engineering\",\"marker\":{\"color\":\"#FFA15A\",\"size\":[200000],\"sizemode\":\"area\",\"sizeref\":1500.0,\"symbol\":\"circle\"},\"mode\":\"markers\",\"name\":\"Director of Data Engineering\",\"orientation\":\"h\",\"showlegend\":true,\"x\":[200000],\"xaxis\":\"x\",\"y\":[\"L\"],\"yaxis\":\"y\",\"type\":\"scatter\"},{\"hovertemplate\":\"<b>%{hovertext}</b><br><br>Job=Principal Data Analyst<br>work_year=2021<br>Salary=%{marker.size}<br>Size=%{y}<extra></extra>\",\"hovertext\":[\"Principal Data Analyst\"],\"legendgroup\":\"Principal Data Analyst\",\"marker\":{\"color\":\"#19d3f3\",\"size\":[170000],\"sizemode\":\"area\",\"sizeref\":1500.0,\"symbol\":\"circle\"},\"mode\":\"markers\",\"name\":\"Principal Data Analyst\",\"orientation\":\"h\",\"showlegend\":true,\"x\":[170000],\"xaxis\":\"x\",\"y\":[\"M\"],\"yaxis\":\"y\",\"type\":\"scatter\"},{\"hovertemplate\":\"<b>%{hovertext}</b><br><br>Job=Staff Data Scientist<br>work_year=2021<br>Salary=%{marker.size}<br>Size=%{y}<extra></extra>\",\"hovertext\":[\"Staff Data Scientist\"],\"legendgroup\":\"Staff Data Scientist\",\"marker\":{\"color\":\"#FF6692\",\"size\":[105000],\"sizemode\":\"area\",\"sizeref\":1500.0,\"symbol\":\"circle\"},\"mode\":\"markers\",\"name\":\"Staff Data Scientist\",\"orientation\":\"h\",\"showlegend\":true,\"x\":[105000],\"xaxis\":\"x\",\"y\":[\"M\"],\"yaxis\":\"y\",\"type\":\"scatter\"}],\"name\":\"2021\"},{\"data\":[{\"hovertemplate\":\"<b>%{hovertext}</b><br><br>Job=Machine Learning Scientist<br>work_year=2022<br>Salary=%{marker.size}<br>Size=%{y}<extra></extra>\",\"hovertext\":[\"Machine Learning Scientist\",\"Machine Learning Scientist\",\"Machine Learning Scientist\"],\"legendgroup\":\"Machine Learning Scientist\",\"marker\":{\"color\":\"#636efa\",\"size\":[160000,112300,153000],\"sizemode\":\"area\",\"sizeref\":1500.0,\"symbol\":\"circle\"},\"mode\":\"markers\",\"name\":\"Machine Learning Scientist\",\"orientation\":\"h\",\"showlegend\":true,\"x\":[160000,112300,153000],\"xaxis\":\"x\",\"y\":[\"L\",\"L\",\"M\"],\"yaxis\":\"y\",\"type\":\"scatter\"},{\"hovertemplate\":\"<b>%{hovertext}</b><br><br>Job=Machine Learning Engineer<br>work_year=2022<br>Salary=%{marker.size}<br>Size=%{y}<extra></extra>\",\"hovertext\":[\"Machine Learning Engineer\",\"Machine Learning Engineer\",\"Machine Learning Engineer\",\"Machine Learning Engineer\",\"Machine Learning Engineer\",\"Machine Learning Engineer\",\"Machine Learning Engineer\",\"Machine Learning Engineer\",\"Machine Learning Engineer\",\"Machine Learning Engineer\",\"Machine Learning Engineer\"],\"legendgroup\":\"Machine Learning Engineer\",\"marker\":{\"color\":\"#00cc96\",\"size\":[189650,164996,189650,164996,120000,220000,120000,65000,120000,214000,192600],\"sizemode\":\"area\",\"sizeref\":1500.0,\"symbol\":\"circle\"},\"mode\":\"markers\",\"name\":\"Machine Learning Engineer\",\"orientation\":\"h\",\"showlegend\":true,\"x\":[189650,164996,189650,164996,120000,220000,120000,65000,120000,214000,192600],\"xaxis\":\"x\",\"y\":[\"M\",\"M\",\"M\",\"M\",\"S\",\"M\",\"S\",\"S\",\"M\",\"M\",\"M\"],\"yaxis\":\"y\",\"type\":\"scatter\"},{\"hovertemplate\":\"<b>%{hovertext}</b><br><br>Job=Data Analyst<br>work_year=2022<br>Salary=%{marker.size}<br>Size=%{y}<extra></extra>\",\"hovertext\":[\"Data Analyst\",\"Data Analyst\",\"Data Analyst\",\"Data Analyst\",\"Data Analyst\",\"Data Analyst\",\"Data Analyst\",\"Data Analyst\",\"Data Analyst\",\"Data Analyst\",\"Data Analyst\",\"Data Analyst\",\"Data Analyst\",\"Data Analyst\",\"Data Analyst\",\"Data Analyst\",\"Data Analyst\",\"Data Analyst\",\"Data Analyst\",\"Data Analyst\",\"Data Analyst\",\"Data Analyst\",\"Data Analyst\",\"Data Analyst\",\"Data Analyst\",\"Data Analyst\",\"Data Analyst\",\"Data Analyst\",\"Data Analyst\",\"Data Analyst\",\"Data Analyst\",\"Data Analyst\",\"Data Analyst\",\"Data Analyst\",\"Data Analyst\",\"Data Analyst\",\"Data Analyst\",\"Data Analyst\",\"Data Analyst\",\"Data Analyst\",\"Data Analyst\",\"Data Analyst\",\"Data Analyst\",\"Data Analyst\",\"Data Analyst\",\"Data Analyst\",\"Data Analyst\",\"Data Analyst\",\"Data Analyst\",\"Data Analyst\",\"Data Analyst\",\"Data Analyst\",\"Data Analyst\",\"Data Analyst\",\"Data Analyst\",\"Data Analyst\",\"Data Analyst\",\"Data Analyst\",\"Data Analyst\",\"Data Analyst\",\"Data Analyst\",\"Data Analyst\",\"Data Analyst\",\"Data Analyst\",\"Data Analyst\"],\"legendgroup\":\"Data Analyst\",\"marker\":{\"color\":\"#ab63fa\",\"size\":[155000,120600,102100,84900,99000,116000,106260,126500,90320,124190,130000,110000,170000,115500,112900,90320,112900,90320,167000,136600,109280,135000,130000,61300,130000,61300,58000,132000,128875,93700,164000,112900,90320,115934,81666,58000,135000,50000,20000,135000,100000,90320,85000,75000,112900,115934,81666,99050,116150,170000,80000,100000,69000,150075,126500,106260,105000,110925,99000,60000,170000,67000,52000,129000,150000],\"sizemode\":\"area\",\"sizeref\":1500.0,\"symbol\":\"circle\"},\"mode\":\"markers\",\"name\":\"Data Analyst\",\"orientation\":\"h\",\"showlegend\":true,\"x\":[155000,120600,102100,84900,99000,116000,106260,126500,90320,124190,130000,110000,170000,115500,112900,90320,112900,90320,167000,136600,109280,135000,130000,61300,130000,61300,58000,132000,128875,93700,164000,112900,90320,115934,81666,58000,135000,50000,20000,135000,100000,90320,85000,75000,112900,115934,81666,99050,116150,170000,80000,100000,69000,150075,126500,106260,105000,110925,99000,60000,170000,67000,52000,129000,150000],\"xaxis\":\"x\",\"y\":[\"M\",\"M\",\"M\",\"M\",\"M\",\"M\",\"M\",\"M\",\"M\",\"M\",\"M\",\"M\",\"M\",\"M\",\"M\",\"M\",\"M\",\"M\",\"M\",\"M\",\"M\",\"M\",\"M\",\"M\",\"M\",\"M\",\"S\",\"M\",\"M\",\"M\",\"M\",\"M\",\"M\",\"M\",\"M\",\"S\",\"M\",\"M\",\"S\",\"M\",\"M\",\"M\",\"M\",\"M\",\"M\",\"M\",\"M\",\"M\",\"M\",\"M\",\"M\",\"M\",\"M\",\"M\",\"M\",\"M\",\"M\",\"M\",\"M\",\"M\",\"M\",\"M\",\"M\",\"M\",\"M\"],\"yaxis\":\"y\",\"type\":\"scatter\"},{\"hovertemplate\":\"<b>%{hovertext}</b><br><br>Job=Research Scientist<br>work_year=2022<br>Salary=%{marker.size}<br>Size=%{y}<extra></extra>\",\"hovertext\":[\"Research Scientist\",\"Research Scientist\"],\"legendgroup\":\"Research Scientist\",\"marker\":{\"color\":\"#636efa\",\"size\":[144000,120000],\"sizemode\":\"area\",\"sizeref\":1500.0,\"symbol\":\"circle\"},\"mode\":\"markers\",\"name\":\"Research Scientist\",\"orientation\":\"h\",\"showlegend\":true,\"x\":[144000,120000],\"xaxis\":\"x\",\"y\":[\"L\",\"L\"],\"yaxis\":\"y\",\"type\":\"scatter\"},{\"hovertemplate\":\"<b>%{hovertext}</b><br><br>Job=Data Scientist<br>work_year=2022<br>Salary=%{marker.size}<br>Size=%{y}<extra></extra>\",\"hovertext\":[\"Data Scientist\",\"Data Scientist\",\"Data Scientist\",\"Data Scientist\",\"Data Scientist\",\"Data Scientist\",\"Data Scientist\",\"Data Scientist\",\"Data Scientist\",\"Data Scientist\",\"Data Scientist\",\"Data Scientist\",\"Data Scientist\",\"Data Scientist\",\"Data Scientist\",\"Data Scientist\",\"Data Scientist\",\"Data Scientist\",\"Data Scientist\",\"Data Scientist\",\"Data Scientist\",\"Data Scientist\",\"Data Scientist\",\"Data Scientist\",\"Data Scientist\",\"Data Scientist\",\"Data Scientist\",\"Data Scientist\",\"Data Scientist\",\"Data Scientist\",\"Data Scientist\",\"Data Scientist\",\"Data Scientist\",\"Data Scientist\",\"Data Scientist\",\"Data Scientist\",\"Data Scientist\",\"Data Scientist\",\"Data Scientist\",\"Data Scientist\",\"Data Scientist\",\"Data Scientist\",\"Data Scientist\",\"Data Scientist\",\"Data Scientist\",\"Data Scientist\",\"Data Scientist\",\"Data Scientist\",\"Data Scientist\",\"Data Scientist\",\"Data Scientist\",\"Data Scientist\",\"Data Scientist\",\"Data Scientist\",\"Data Scientist\",\"Data Scientist\",\"Data Scientist\",\"Data Scientist\",\"Data Scientist\",\"Data Scientist\",\"Data Scientist\",\"Data Scientist\"],\"legendgroup\":\"Data Scientist\",\"marker\":{\"color\":\"#ab63fa\",\"size\":[130000,90000,136620,99360,146000,123000,165220,120160,180000,120000,95550,167000,123000,150000,211500,138600,170000,123000,215300,158200,180000,260000,180000,80000,140400,215300,104890,140000,220000,140000,185100,200000,120000,230000,100000,100000,100000,165000,40000,48000,135000,78000,141300,102100,205300,140400,176000,144000,205300,140400,140000,210000,140000,210000,140000,210000,140000,230000,150000,210000,160000,130000],\"sizemode\":\"area\",\"sizeref\":1500.0,\"symbol\":\"circle\"},\"mode\":\"markers\",\"name\":\"Data Scientist\",\"orientation\":\"h\",\"showlegend\":true,\"x\":[130000,90000,136620,99360,146000,123000,165220,120160,180000,120000,95550,167000,123000,150000,211500,138600,170000,123000,215300,158200,180000,260000,180000,80000,140400,215300,104890,140000,220000,140000,185100,200000,120000,230000,100000,100000,100000,165000,40000,48000,135000,78000,141300,102100,205300,140400,176000,144000,205300,140400,140000,210000,140000,210000,140000,210000,140000,230000,150000,210000,160000,130000],\"xaxis\":\"x\",\"y\":[\"M\",\"M\",\"M\",\"M\",\"M\",\"M\",\"M\",\"M\",\"L\",\"L\",\"M\",\"M\",\"M\",\"M\",\"M\",\"M\",\"M\",\"M\",\"L\",\"L\",\"M\",\"M\",\"M\",\"M\",\"L\",\"L\",\"M\",\"M\",\"M\",\"M\",\"M\",\"M\",\"M\",\"M\",\"M\",\"M\",\"M\",\"M\",\"L\",\"S\",\"L\",\"M\",\"M\",\"M\",\"L\",\"L\",\"M\",\"M\",\"M\",\"M\",\"M\",\"M\",\"M\",\"M\",\"M\",\"M\",\"M\",\"M\",\"M\",\"M\",\"M\",\"M\"],\"yaxis\":\"y\",\"type\":\"scatter\"},{\"hovertemplate\":\"<b>%{hovertext}</b><br><br>Job=Data Engineer<br>work_year=2022<br>Salary=%{marker.size}<br>Size=%{y}<extra></extra>\",\"hovertext\":[\"Data Engineer\",\"Data Engineer\",\"Data Engineer\",\"Data Engineer\",\"Data Engineer\",\"Data Engineer\",\"Data Engineer\",\"Data Engineer\",\"Data Engineer\",\"Data Engineer\",\"Data Engineer\",\"Data Engineer\",\"Data Engineer\",\"Data Engineer\",\"Data Engineer\",\"Data Engineer\",\"Data Engineer\",\"Data Engineer\",\"Data Engineer\",\"Data Engineer\",\"Data Engineer\",\"Data Engineer\",\"Data Engineer\",\"Data Engineer\",\"Data Engineer\",\"Data Engineer\",\"Data Engineer\",\"Data Engineer\",\"Data Engineer\",\"Data Engineer\",\"Data Engineer\",\"Data Engineer\",\"Data Engineer\",\"Data Engineer\",\"Data Engineer\",\"Data Engineer\",\"Data Engineer\",\"Data Engineer\",\"Data Engineer\",\"Data Engineer\",\"Data Engineer\",\"Data Engineer\",\"Data Engineer\",\"Data Engineer\",\"Data Engineer\",\"Data Engineer\",\"Data Engineer\",\"Data Engineer\",\"Data Engineer\",\"Data Engineer\",\"Data Engineer\",\"Data Engineer\",\"Data Engineer\",\"Data Engineer\",\"Data Engineer\",\"Data Engineer\",\"Data Engineer\",\"Data Engineer\",\"Data Engineer\",\"Data Engineer\",\"Data Engineer\",\"Data Engineer\",\"Data Engineer\",\"Data Engineer\"],\"legendgroup\":\"Data Engineer\",\"marker\":{\"color\":\"#FFA15A\",\"size\":[135000,170000,150000,242000,200000,181940,132320,220110,160080,165400,132320,243900,128875,93700,156600,108800,113000,160000,136000,165400,136994,101570,132320,155000,209100,154600,175000,183600,63900,82900,100800,209100,154600,180000,80000,105000,120000,100000,324000,216000,210000,115000,65000,155000,206699,99100,130000,115000,110500,130000,160000,200100,160000,145000,70500,175100,140250,54000,100000,25000,220110,160080,154000,126000],\"sizemode\":\"area\",\"sizeref\":1500.0,\"symbol\":\"circle\"},\"mode\":\"markers\",\"name\":\"Data Engineer\",\"orientation\":\"h\",\"showlegend\":true,\"x\":[135000,170000,150000,242000,200000,181940,132320,220110,160080,165400,132320,243900,128875,93700,156600,108800,113000,160000,136000,165400,136994,101570,132320,155000,209100,154600,175000,183600,63900,82900,100800,209100,154600,180000,80000,105000,120000,100000,324000,216000,210000,115000,65000,155000,206699,99100,130000,115000,110500,130000,160000,200100,160000,145000,70500,175100,140250,54000,100000,25000,220110,160080,154000,126000],\"xaxis\":\"x\",\"y\":[\"M\",\"M\",\"M\",\"M\",\"M\",\"M\",\"M\",\"M\",\"M\",\"M\",\"M\",\"M\",\"M\",\"M\",\"M\",\"M\",\"L\",\"L\",\"M\",\"M\",\"M\",\"M\",\"M\",\"M\",\"L\",\"L\",\"M\",\"L\",\"M\",\"M\",\"L\",\"L\",\"L\",\"M\",\"M\",\"M\",\"M\",\"M\",\"M\",\"M\",\"M\",\"M\",\"S\",\"M\",\"M\",\"M\",\"M\",\"M\",\"M\",\"M\",\"M\",\"M\",\"M\",\"M\",\"M\",\"M\",\"M\",\"M\",\"M\",\"M\",\"M\",\"M\",\"M\",\"M\"],\"yaxis\":\"y\",\"type\":\"scatter\"},{\"hovertemplate\":\"<b>%{hovertext}</b><br><br>Job=Computer Vision Engineer<br>work_year=2022<br>Salary=%{marker.size}<br>Size=%{y}<extra></extra>\",\"hovertext\":[\"Computer Vision Engineer\",\"Computer Vision Engineer\"],\"legendgroup\":\"Computer Vision Engineer\",\"marker\":{\"color\":\"#19d3f3\",\"size\":[125000,10000],\"sizemode\":\"area\",\"sizeref\":1500.0,\"symbol\":\"circle\"},\"mode\":\"markers\",\"name\":\"Computer Vision Engineer\",\"orientation\":\"h\",\"showlegend\":true,\"x\":[125000,10000],\"xaxis\":\"x\",\"y\":[\"M\",\"M\"],\"yaxis\":\"y\",\"type\":\"scatter\"},{\"hovertemplate\":\"<b>%{hovertext}</b><br><br>Job=Data Science Manager<br>work_year=2022<br>Salary=%{marker.size}<br>Size=%{y}<extra></extra>\",\"hovertext\":[\"Data Science Manager\",\"Data Science Manager\",\"Data Science Manager\",\"Data Science Manager\",\"Data Science Manager\"],\"legendgroup\":\"Data Science Manager\",\"marker\":{\"color\":\"#FF6692\",\"size\":[161342,137141,241000,159000,152500],\"sizemode\":\"area\",\"sizeref\":1500.0,\"symbol\":\"circle\"},\"mode\":\"markers\",\"name\":\"Data Science Manager\",\"orientation\":\"h\",\"showlegend\":true,\"x\":[161342,137141,241000,159000,152500],\"xaxis\":\"x\",\"y\":[\"M\",\"M\",\"M\",\"M\",\"M\"],\"yaxis\":\"y\",\"type\":\"scatter\"},{\"hovertemplate\":\"<b>%{hovertext}</b><br><br>Job=Head of Data<br>work_year=2022<br>Salary=%{marker.size}<br>Size=%{y}<extra></extra>\",\"hovertext\":[\"Head of Data\"],\"legendgroup\":\"Head of Data\",\"marker\":{\"color\":\"#B6E880\",\"size\":[200000],\"sizemode\":\"area\",\"sizeref\":1500.0,\"symbol\":\"circle\"},\"mode\":\"markers\",\"name\":\"Head of Data\",\"orientation\":\"h\",\"showlegend\":true,\"x\":[200000],\"xaxis\":\"x\",\"y\":[\"M\"],\"yaxis\":\"y\",\"type\":\"scatter\"},{\"hovertemplate\":\"<b>%{hovertext}</b><br><br>Job=Data Analytics Engineer<br>work_year=2022<br>Salary=%{marker.size}<br>Size=%{y}<extra></extra>\",\"hovertext\":[\"Data Analytics Engineer\"],\"legendgroup\":\"Data Analytics Engineer\",\"marker\":{\"color\":\"#FECB52\",\"size\":[20000],\"sizemode\":\"area\",\"sizeref\":1500.0,\"symbol\":\"circle\"},\"mode\":\"markers\",\"name\":\"Data Analytics Engineer\",\"orientation\":\"h\",\"showlegend\":true,\"x\":[20000],\"xaxis\":\"x\",\"y\":[\"M\"],\"yaxis\":\"y\",\"type\":\"scatter\"},{\"hovertemplate\":\"<b>%{hovertext}</b><br><br>Job=AI Scientist<br>work_year=2022<br>Salary=%{marker.size}<br>Size=%{y}<extra></extra>\",\"hovertext\":[\"AI Scientist\",\"AI Scientist\"],\"legendgroup\":\"AI Scientist\",\"marker\":{\"color\":\"#636efa\",\"size\":[120000,200000],\"sizemode\":\"area\",\"sizeref\":1500.0,\"symbol\":\"circle\"},\"mode\":\"markers\",\"name\":\"AI Scientist\",\"orientation\":\"h\",\"showlegend\":true,\"x\":[120000,200000],\"xaxis\":\"x\",\"y\":[\"M\",\"L\"],\"yaxis\":\"y\",\"type\":\"scatter\"},{\"hovertemplate\":\"<b>%{hovertext}</b><br><br>Job=Financial Data Analyst<br>work_year=2022<br>Salary=%{marker.size}<br>Size=%{y}<extra></extra>\",\"hovertext\":[\"Financial Data Analyst\"],\"legendgroup\":\"Financial Data Analyst\",\"marker\":{\"color\":\"#EF553B\",\"size\":[100000],\"sizemode\":\"area\",\"sizeref\":1500.0,\"symbol\":\"circle\"},\"mode\":\"markers\",\"name\":\"Financial Data Analyst\",\"orientation\":\"h\",\"showlegend\":true,\"x\":[100000],\"xaxis\":\"x\",\"y\":[\"L\"],\"yaxis\":\"y\",\"type\":\"scatter\"},{\"hovertemplate\":\"<b>%{hovertext}</b><br><br>Job=Computer Vision Software Engineer<br>work_year=2022<br>Salary=%{marker.size}<br>Size=%{y}<extra></extra>\",\"hovertext\":[\"Computer Vision Software Engineer\"],\"legendgroup\":\"Computer Vision Software Engineer\",\"marker\":{\"color\":\"#00cc96\",\"size\":[150000],\"sizemode\":\"area\",\"sizeref\":1500.0,\"symbol\":\"circle\"},\"mode\":\"markers\",\"name\":\"Computer Vision Software Engineer\",\"orientation\":\"h\",\"showlegend\":true,\"x\":[150000],\"xaxis\":\"x\",\"y\":[\"S\"],\"yaxis\":\"y\",\"type\":\"scatter\"},{\"hovertemplate\":\"<b>%{hovertext}</b><br><br>Job=Applied Machine Learning Scientist<br>work_year=2022<br>Salary=%{marker.size}<br>Size=%{y}<extra></extra>\",\"hovertext\":[\"Applied Machine Learning Scientist\"],\"legendgroup\":\"Applied Machine Learning Scientist\",\"marker\":{\"color\":\"#FF6692\",\"size\":[75000],\"sizemode\":\"area\",\"sizeref\":1500.0,\"symbol\":\"circle\"},\"mode\":\"markers\",\"name\":\"Applied Machine Learning Scientist\",\"orientation\":\"h\",\"showlegend\":true,\"x\":[75000],\"xaxis\":\"x\",\"y\":[\"L\"],\"yaxis\":\"y\",\"type\":\"scatter\"},{\"hovertemplate\":\"<b>%{hovertext}</b><br><br>Job=Data Analytics Manager<br>work_year=2022<br>Salary=%{marker.size}<br>Size=%{y}<extra></extra>\",\"hovertext\":[\"Data Analytics Manager\",\"Data Analytics Manager\",\"Data Analytics Manager\",\"Data Analytics Manager\"],\"legendgroup\":\"Data Analytics Manager\",\"marker\":{\"color\":\"#FECB52\",\"size\":[145000,105400,150260,109280],\"sizemode\":\"area\",\"sizeref\":1500.0,\"symbol\":\"circle\"},\"mode\":\"markers\",\"name\":\"Data Analytics Manager\",\"orientation\":\"h\",\"showlegend\":true,\"x\":[145000,105400,150260,109280],\"xaxis\":\"x\",\"y\":[\"M\",\"M\",\"M\",\"M\"],\"yaxis\":\"y\",\"type\":\"scatter\"},{\"hovertemplate\":\"<b>%{hovertext}</b><br><br>Job=Head of Data Science<br>work_year=2022<br>Salary=%{marker.size}<br>Size=%{y}<extra></extra>\",\"hovertext\":[\"Head of Data Science\",\"Head of Data Science\"],\"legendgroup\":\"Head of Data Science\",\"marker\":{\"color\":\"#636efa\",\"size\":[224000,167875],\"sizemode\":\"area\",\"sizeref\":1500.0,\"symbol\":\"circle\"},\"mode\":\"markers\",\"name\":\"Head of Data Science\",\"orientation\":\"h\",\"showlegend\":true,\"x\":[224000,167875],\"xaxis\":\"x\",\"y\":[\"M\",\"M\"],\"yaxis\":\"y\",\"type\":\"scatter\"},{\"hovertemplate\":\"<b>%{hovertext}</b><br><br>Job=Data Architect<br>work_year=2022<br>Salary=%{marker.size}<br>Size=%{y}<extra></extra>\",\"hovertext\":[\"Data Architect\",\"Data Architect\",\"Data Architect\",\"Data Architect\",\"Data Architect\",\"Data Architect\",\"Data Architect\",\"Data Architect\"],\"legendgroup\":\"Data Architect\",\"marker\":{\"color\":\"#00cc96\",\"size\":[192400,90700,208775,147800,266400,213120,192564,144854],\"sizemode\":\"area\",\"sizeref\":1500.0,\"symbol\":\"circle\"},\"mode\":\"markers\",\"name\":\"Data Architect\",\"orientation\":\"h\",\"showlegend\":true,\"x\":[192400,90700,208775,147800,266400,213120,192564,144854],\"xaxis\":\"x\",\"y\":[\"M\",\"M\",\"M\",\"M\",\"M\",\"M\",\"M\",\"M\"],\"yaxis\":\"y\",\"type\":\"scatter\"},{\"hovertemplate\":\"<b>%{hovertext}</b><br><br>Job=Principal Data Analyst<br>work_year=2022<br>Salary=%{marker.size}<br>Size=%{y}<extra></extra>\",\"hovertext\":[\"Principal Data Analyst\"],\"legendgroup\":\"Principal Data Analyst\",\"marker\":{\"color\":\"#19d3f3\",\"size\":[75000],\"sizemode\":\"area\",\"sizeref\":1500.0,\"symbol\":\"circle\"},\"mode\":\"markers\",\"name\":\"Principal Data Analyst\",\"orientation\":\"h\",\"showlegend\":true,\"x\":[75000],\"xaxis\":\"x\",\"y\":[\"S\"],\"yaxis\":\"y\",\"type\":\"scatter\"},{\"hovertemplate\":\"<b>%{hovertext}</b><br><br>Job=Analytics Engineer<br>work_year=2022<br>Salary=%{marker.size}<br>Size=%{y}<extra></extra>\",\"hovertext\":[\"Analytics Engineer\",\"Analytics Engineer\",\"Analytics Engineer\",\"Analytics Engineer\"],\"legendgroup\":\"Analytics Engineer\",\"marker\":{\"color\":\"#B6E880\",\"size\":[175000,135000,205300,184700],\"sizemode\":\"area\",\"sizeref\":1500.0,\"symbol\":\"circle\"},\"mode\":\"markers\",\"name\":\"Analytics Engineer\",\"orientation\":\"h\",\"showlegend\":true,\"x\":[175000,135000,205300,184700],\"xaxis\":\"x\",\"y\":[\"M\",\"M\",\"M\",\"M\"],\"yaxis\":\"y\",\"type\":\"scatter\"},{\"hovertemplate\":\"<b>%{hovertext}</b><br><br>Job=Data Science Engineer<br>work_year=2022<br>Salary=%{marker.size}<br>Size=%{y}<extra></extra>\",\"hovertext\":[\"Data Science Engineer\"],\"legendgroup\":\"Data Science Engineer\",\"marker\":{\"color\":\"#FF97FF\",\"size\":[60000],\"sizemode\":\"area\",\"sizeref\":1500.0,\"symbol\":\"circle\"},\"mode\":\"markers\",\"name\":\"Data Science Engineer\",\"orientation\":\"h\",\"showlegend\":true,\"x\":[60000],\"xaxis\":\"x\",\"y\":[\"L\"],\"yaxis\":\"y\",\"type\":\"scatter\"},{\"hovertemplate\":\"<b>%{hovertext}</b><br><br>Job=Applied Data Scientist<br>work_year=2022<br>Salary=%{marker.size}<br>Size=%{y}<extra></extra>\",\"hovertext\":[\"Applied Data Scientist\",\"Applied Data Scientist\",\"Applied Data Scientist\"],\"legendgroup\":\"Applied Data Scientist\",\"marker\":{\"color\":\"#FECB52\",\"size\":[157000,380000,177000],\"sizemode\":\"area\",\"sizeref\":1500.0,\"symbol\":\"circle\"},\"mode\":\"markers\",\"name\":\"Applied Data Scientist\",\"orientation\":\"h\",\"showlegend\":true,\"x\":[157000,380000,177000],\"xaxis\":\"x\",\"y\":[\"L\",\"L\",\"L\"],\"yaxis\":\"y\",\"type\":\"scatter\"},{\"hovertemplate\":\"<b>%{hovertext}</b><br><br>Job=Data Analytics Lead<br>work_year=2022<br>Salary=%{marker.size}<br>Size=%{y}<extra></extra>\",\"hovertext\":[\"Data Analytics Lead\"],\"legendgroup\":\"Data Analytics Lead\",\"marker\":{\"color\":\"#636efa\",\"size\":[405000],\"sizemode\":\"area\",\"sizeref\":1500.0,\"symbol\":\"circle\"},\"mode\":\"markers\",\"name\":\"Data Analytics Lead\",\"orientation\":\"h\",\"showlegend\":true,\"x\":[405000],\"xaxis\":\"x\",\"y\":[\"L\"],\"yaxis\":\"y\",\"type\":\"scatter\"}],\"name\":\"2022\"}]);\n",
              "                        }).then(function(){\n",
              "                            \n",
              "var gd = document.getElementById('49179f3e-bf60-4c41-933c-39de107cb611');\n",
              "var x = new MutationObserver(function (mutations, observer) {{\n",
              "        var display = window.getComputedStyle(gd).display;\n",
              "        if (!display || display === 'none') {{\n",
              "            console.log([gd, 'removed!']);\n",
              "            Plotly.purge(gd);\n",
              "            observer.disconnect();\n",
              "        }}\n",
              "}});\n",
              "\n",
              "// Listen for the removal of the full notebook cells\n",
              "var notebookContainer = gd.closest('#notebook-container');\n",
              "if (notebookContainer) {{\n",
              "    x.observe(notebookContainer, {childList: true});\n",
              "}}\n",
              "\n",
              "// Listen for the clearing of the current output cell\n",
              "var outputEl = gd.closest('.output');\n",
              "if (outputEl) {{\n",
              "    x.observe(outputEl, {childList: true});\n",
              "}}\n",
              "\n",
              "                        })                };                            </script>        </div>\n",
              "</body>\n",
              "</html>"
            ]
          },
          "metadata": {}
        }
      ]
    },
    {
      "cell_type": "markdown",
      "source": [
        "**Hacer un grafico de dispersión entre la variable salario en dolares y el nivel de experiencia...**"
      ],
      "metadata": {
        "id": "HUfYdYUSpcaG"
      },
      "id": "HUfYdYUSpcaG"
    },
    {
      "cell_type": "code",
      "source": [
        "px.scatter(df,\n",
        "           x = 'salary_in_usd',\n",
        "           y = 'experience_level',\n",
        "           size = 'salary_in_usd',\n",
        "           hover_name = 'job_title',\n",
        "           color = 'job_title', \n",
        "           animation_frame = 'work_year',\n",
        "           title = 'Experience Level vs Salary (USD)',\n",
        "           labels = {\"experience_level\":\"Experience\", \"salary_in_usd\":\"Salary\", \"job_title\":\"Job\"})"
      ],
      "metadata": {
        "colab": {
          "base_uri": "https://localhost:8080/",
          "height": 542
        },
        "id": "cV4beMhhfa4K",
        "outputId": "59718640-f26c-48b9-b29c-06470c58f85f"
      },
      "id": "cV4beMhhfa4K",
      "execution_count": 42,
      "outputs": [
        {
          "output_type": "display_data",
          "data": {
            "text/html": [
              "<html>\n",
              "<head><meta charset=\"utf-8\" /></head>\n",
              "<body>\n",
              "    <div>            <script src=\"https://cdnjs.cloudflare.com/ajax/libs/mathjax/2.7.5/MathJax.js?config=TeX-AMS-MML_SVG\"></script><script type=\"text/javascript\">if (window.MathJax && window.MathJax.Hub && window.MathJax.Hub.Config) {window.MathJax.Hub.Config({SVG: {font: \"STIX-Web\"}});}</script>                <script type=\"text/javascript\">window.PlotlyConfig = {MathJaxConfig: 'local'};</script>\n",
              "        <script src=\"https://cdn.plot.ly/plotly-2.14.0.min.js\"></script>                <div id=\"553bbb8a-a343-4c4b-87a7-62ff8b57e73b\" class=\"plotly-graph-div\" style=\"height:525px; width:100%;\"></div>            <script type=\"text/javascript\">                                    window.PLOTLYENV=window.PLOTLYENV || {};                                    if (document.getElementById(\"553bbb8a-a343-4c4b-87a7-62ff8b57e73b\")) {                    Plotly.newPlot(                        \"553bbb8a-a343-4c4b-87a7-62ff8b57e73b\",                        [{\"hovertemplate\":\"<b>%{hovertext}</b><br><br>Job=Machine Learning Scientist<br>work_year=2020<br>Salary=%{marker.size}<br>Experience=%{y}<extra></extra>\",\"hovertext\":[\"Machine Learning Scientist\"],\"legendgroup\":\"Machine Learning Scientist\",\"marker\":{\"color\":\"#636efa\",\"size\":[260000],\"sizemode\":\"area\",\"sizeref\":1500.0,\"symbol\":\"circle\"},\"mode\":\"markers\",\"name\":\"Machine Learning Scientist\",\"orientation\":\"h\",\"showlegend\":true,\"x\":[260000],\"xaxis\":\"x\",\"y\":[\"SE\"],\"yaxis\":\"y\",\"type\":\"scatter\"},{\"hovertemplate\":\"<b>%{hovertext}</b><br><br>Job=Product Data Analyst<br>work_year=2020<br>Salary=%{marker.size}<br>Experience=%{y}<extra></extra>\",\"hovertext\":[\"Product Data Analyst\"],\"legendgroup\":\"Product Data Analyst\",\"marker\":{\"color\":\"#EF553B\",\"size\":[20000],\"sizemode\":\"area\",\"sizeref\":1500.0,\"symbol\":\"circle\"},\"mode\":\"markers\",\"name\":\"Product Data Analyst\",\"orientation\":\"h\",\"showlegend\":true,\"x\":[20000],\"xaxis\":\"x\",\"y\":[\"MI\"],\"yaxis\":\"y\",\"type\":\"scatter\"},{\"hovertemplate\":\"<b>%{hovertext}</b><br><br>Job=Machine Learning Engineer<br>work_year=2020<br>Salary=%{marker.size}<br>Experience=%{y}<extra></extra>\",\"hovertext\":[\"Machine Learning Engineer\",\"Machine Learning Engineer\",\"Machine Learning Engineer\"],\"legendgroup\":\"Machine Learning Engineer\",\"marker\":{\"color\":\"#00cc96\",\"size\":[150000,250000,138000],\"sizemode\":\"area\",\"sizeref\":1500.0,\"symbol\":\"circle\"},\"mode\":\"markers\",\"name\":\"Machine Learning Engineer\",\"orientation\":\"h\",\"showlegend\":true,\"x\":[150000,250000,138000],\"xaxis\":\"x\",\"y\":[\"SE\",\"EN\",\"EN\"],\"yaxis\":\"y\",\"type\":\"scatter\"},{\"hovertemplate\":\"<b>%{hovertext}</b><br><br>Job=Data Analyst<br>work_year=2020<br>Salary=%{marker.size}<br>Experience=%{y}<extra></extra>\",\"hovertext\":[\"Data Analyst\",\"Data Analyst\",\"Data Analyst\",\"Data Analyst\",\"Data Analyst\"],\"legendgroup\":\"Data Analyst\",\"marker\":{\"color\":\"#ab63fa\",\"size\":[72000,85000,8000,10000,91000],\"sizemode\":\"area\",\"sizeref\":1500.0,\"symbol\":\"circle\"},\"mode\":\"markers\",\"name\":\"Data Analyst\",\"orientation\":\"h\",\"showlegend\":true,\"x\":[72000,85000,8000,10000,91000],\"xaxis\":\"x\",\"y\":[\"EN\",\"MI\",\"MI\",\"EN\",\"EN\"],\"yaxis\":\"y\",\"type\":\"scatter\"},{\"hovertemplate\":\"<b>%{hovertext}</b><br><br>Job=Lead Data Scientist<br>work_year=2020<br>Salary=%{marker.size}<br>Experience=%{y}<extra></extra>\",\"hovertext\":[\"Lead Data Scientist\",\"Lead Data Scientist\"],\"legendgroup\":\"Lead Data Scientist\",\"marker\":{\"color\":\"#FFA15A\",\"size\":[190000,115000],\"sizemode\":\"area\",\"sizeref\":1500.0,\"symbol\":\"circle\"},\"mode\":\"markers\",\"name\":\"Lead Data Scientist\",\"orientation\":\"h\",\"showlegend\":true,\"x\":[190000,115000],\"xaxis\":\"x\",\"y\":[\"SE\",\"MI\"],\"yaxis\":\"y\",\"type\":\"scatter\"},{\"hovertemplate\":\"<b>%{hovertext}</b><br><br>Job=Business Data Analyst<br>work_year=2020<br>Salary=%{marker.size}<br>Experience=%{y}<extra></extra>\",\"hovertext\":[\"Business Data Analyst\",\"Business Data Analyst\"],\"legendgroup\":\"Business Data Analyst\",\"marker\":{\"color\":\"#19d3f3\",\"size\":[135000,100000],\"sizemode\":\"area\",\"sizeref\":1500.0,\"symbol\":\"circle\"},\"mode\":\"markers\",\"name\":\"Business Data Analyst\",\"orientation\":\"h\",\"showlegend\":true,\"x\":[135000,100000],\"xaxis\":\"x\",\"y\":[\"MI\",\"EN\"],\"yaxis\":\"y\",\"type\":\"scatter\"},{\"hovertemplate\":\"<b>%{hovertext}</b><br><br>Job=Lead Data Engineer<br>work_year=2020<br>Salary=%{marker.size}<br>Experience=%{y}<extra></extra>\",\"hovertext\":[\"Lead Data Engineer\",\"Lead Data Engineer\"],\"legendgroup\":\"Lead Data Engineer\",\"marker\":{\"color\":\"#FF6692\",\"size\":[125000,56000],\"sizemode\":\"area\",\"sizeref\":1500.0,\"symbol\":\"circle\"},\"mode\":\"markers\",\"name\":\"Lead Data Engineer\",\"orientation\":\"h\",\"showlegend\":true,\"x\":[125000,56000],\"xaxis\":\"x\",\"y\":[\"SE\",\"MI\"],\"yaxis\":\"y\",\"type\":\"scatter\"},{\"hovertemplate\":\"<b>%{hovertext}</b><br><br>Job=Lead Data Analyst<br>work_year=2020<br>Salary=%{marker.size}<br>Experience=%{y}<extra></extra>\",\"hovertext\":[\"Lead Data Analyst\"],\"legendgroup\":\"Lead Data Analyst\",\"marker\":{\"color\":\"#B6E880\",\"size\":[87000],\"sizemode\":\"area\",\"sizeref\":1500.0,\"symbol\":\"circle\"},\"mode\":\"markers\",\"name\":\"Lead Data Analyst\",\"orientation\":\"h\",\"showlegend\":true,\"x\":[87000],\"xaxis\":\"x\",\"y\":[\"MI\"],\"yaxis\":\"y\",\"type\":\"scatter\"},{\"hovertemplate\":\"<b>%{hovertext}</b><br><br>Job=BI Data Analyst<br>work_year=2020<br>Salary=%{marker.size}<br>Experience=%{y}<extra></extra>\",\"hovertext\":[\"BI Data Analyst\"],\"legendgroup\":\"BI Data Analyst\",\"marker\":{\"color\":\"#FF97FF\",\"size\":[98000],\"sizemode\":\"area\",\"sizeref\":1500.0,\"symbol\":\"circle\"},\"mode\":\"markers\",\"name\":\"BI Data Analyst\",\"orientation\":\"h\",\"showlegend\":true,\"x\":[98000],\"xaxis\":\"x\",\"y\":[\"MI\"],\"yaxis\":\"y\",\"type\":\"scatter\"},{\"hovertemplate\":\"<b>%{hovertext}</b><br><br>Job=Director of Data Science<br>work_year=2020<br>Salary=%{marker.size}<br>Experience=%{y}<extra></extra>\",\"hovertext\":[\"Director of Data Science\"],\"legendgroup\":\"Director of Data Science\",\"marker\":{\"color\":\"#FECB52\",\"size\":[325000],\"sizemode\":\"area\",\"sizeref\":1500.0,\"symbol\":\"circle\"},\"mode\":\"markers\",\"name\":\"Director of Data Science\",\"orientation\":\"h\",\"showlegend\":true,\"x\":[325000],\"xaxis\":\"x\",\"y\":[\"EX\"],\"yaxis\":\"y\",\"type\":\"scatter\"},{\"hovertemplate\":\"<b>%{hovertext}</b><br><br>Job=Research Scientist<br>work_year=2020<br>Salary=%{marker.size}<br>Experience=%{y}<extra></extra>\",\"hovertext\":[\"Research Scientist\",\"Research Scientist\"],\"legendgroup\":\"Research Scientist\",\"marker\":{\"color\":\"#636efa\",\"size\":[42000,450000],\"sizemode\":\"area\",\"sizeref\":1500.0,\"symbol\":\"circle\"},\"mode\":\"markers\",\"name\":\"Research Scientist\",\"orientation\":\"h\",\"showlegend\":true,\"x\":[42000,450000],\"xaxis\":\"x\",\"y\":[\"EN\",\"MI\"],\"yaxis\":\"y\",\"type\":\"scatter\"},{\"hovertemplate\":\"<b>%{hovertext}</b><br><br>Job=Big Data Engineer<br>work_year=2020<br>Salary=%{marker.size}<br>Experience=%{y}<extra></extra>\",\"hovertext\":[\"Big Data Engineer\"],\"legendgroup\":\"Big Data Engineer\",\"marker\":{\"color\":\"#EF553B\",\"size\":[70000],\"sizemode\":\"area\",\"sizeref\":1500.0,\"symbol\":\"circle\"},\"mode\":\"markers\",\"name\":\"Big Data Engineer\",\"orientation\":\"h\",\"showlegend\":true,\"x\":[70000],\"xaxis\":\"x\",\"y\":[\"EN\"],\"yaxis\":\"y\",\"type\":\"scatter\"},{\"hovertemplate\":\"<b>%{hovertext}</b><br><br>Job=Data Science Consultant<br>work_year=2020<br>Salary=%{marker.size}<br>Experience=%{y}<extra></extra>\",\"hovertext\":[\"Data Science Consultant\"],\"legendgroup\":\"Data Science Consultant\",\"marker\":{\"color\":\"#00cc96\",\"size\":[103000],\"sizemode\":\"area\",\"sizeref\":1500.0,\"symbol\":\"circle\"},\"mode\":\"markers\",\"name\":\"Data Science Consultant\",\"orientation\":\"h\",\"showlegend\":true,\"x\":[103000],\"xaxis\":\"x\",\"y\":[\"MI\"],\"yaxis\":\"y\",\"type\":\"scatter\"},{\"hovertemplate\":\"<b>%{hovertext}</b><br><br>Job=Data Scientist<br>work_year=2020<br>Salary=%{marker.size}<br>Experience=%{y}<extra></extra>\",\"hovertext\":[\"Data Scientist\",\"Data Scientist\",\"Data Scientist\",\"Data Scientist\",\"Data Scientist\",\"Data Scientist\",\"Data Scientist\"],\"legendgroup\":\"Data Scientist\",\"marker\":{\"color\":\"#ab63fa\",\"size\":[45760,105000,118000,120000,138350,412000,105000],\"sizemode\":\"area\",\"sizeref\":1500.0,\"symbol\":\"circle\"},\"mode\":\"markers\",\"name\":\"Data Scientist\",\"orientation\":\"h\",\"showlegend\":true,\"x\":[45760,105000,118000,120000,138350,412000,105000],\"xaxis\":\"x\",\"y\":[\"MI\",\"MI\",\"MI\",\"SE\",\"MI\",\"SE\",\"EN\"],\"yaxis\":\"y\",\"type\":\"scatter\"},{\"hovertemplate\":\"<b>%{hovertext}</b><br><br>Job=Data Engineer<br>work_year=2020<br>Salary=%{marker.size}<br>Experience=%{y}<extra></extra>\",\"hovertext\":[\"Data Engineer\",\"Data Engineer\",\"Data Engineer\",\"Data Engineer\"],\"legendgroup\":\"Data Engineer\",\"marker\":{\"color\":\"#FFA15A\",\"size\":[106000,188000,110000,130800],\"sizemode\":\"area\",\"sizeref\":1500.0,\"symbol\":\"circle\"},\"mode\":\"markers\",\"name\":\"Data Engineer\",\"orientation\":\"h\",\"showlegend\":true,\"x\":[106000,188000,110000,130800],\"xaxis\":\"x\",\"y\":[\"MI\",\"SE\",\"MI\",\"MI\"],\"yaxis\":\"y\",\"type\":\"scatter\"},{\"hovertemplate\":\"<b>%{hovertext}</b><br><br>Job=Computer Vision Engineer<br>work_year=2020<br>Salary=%{marker.size}<br>Experience=%{y}<extra></extra>\",\"hovertext\":[\"Computer Vision Engineer\"],\"legendgroup\":\"Computer Vision Engineer\",\"marker\":{\"color\":\"#19d3f3\",\"size\":[60000],\"sizemode\":\"area\",\"sizeref\":1500.0,\"symbol\":\"circle\"},\"mode\":\"markers\",\"name\":\"Computer Vision Engineer\",\"orientation\":\"h\",\"showlegend\":true,\"x\":[60000],\"xaxis\":\"x\",\"y\":[\"SE\"],\"yaxis\":\"y\",\"type\":\"scatter\"},{\"hovertemplate\":\"<b>%{hovertext}</b><br><br>Job=Data Science Manager<br>work_year=2020<br>Salary=%{marker.size}<br>Experience=%{y}<extra></extra>\",\"hovertext\":[\"Data Science Manager\"],\"legendgroup\":\"Data Science Manager\",\"marker\":{\"color\":\"#FF6692\",\"size\":[190200],\"sizemode\":\"area\",\"sizeref\":1500.0,\"symbol\":\"circle\"},\"mode\":\"markers\",\"name\":\"Data Science Manager\",\"orientation\":\"h\",\"showlegend\":true,\"x\":[190200],\"xaxis\":\"x\",\"y\":[\"SE\"],\"yaxis\":\"y\",\"type\":\"scatter\"}],                        {\"template\":{\"data\":{\"histogram2dcontour\":[{\"type\":\"histogram2dcontour\",\"colorbar\":{\"outlinewidth\":0,\"ticks\":\"\"},\"colorscale\":[[0.0,\"#0d0887\"],[0.1111111111111111,\"#46039f\"],[0.2222222222222222,\"#7201a8\"],[0.3333333333333333,\"#9c179e\"],[0.4444444444444444,\"#bd3786\"],[0.5555555555555556,\"#d8576b\"],[0.6666666666666666,\"#ed7953\"],[0.7777777777777778,\"#fb9f3a\"],[0.8888888888888888,\"#fdca26\"],[1.0,\"#f0f921\"]]}],\"choropleth\":[{\"type\":\"choropleth\",\"colorbar\":{\"outlinewidth\":0,\"ticks\":\"\"}}],\"histogram2d\":[{\"type\":\"histogram2d\",\"colorbar\":{\"outlinewidth\":0,\"ticks\":\"\"},\"colorscale\":[[0.0,\"#0d0887\"],[0.1111111111111111,\"#46039f\"],[0.2222222222222222,\"#7201a8\"],[0.3333333333333333,\"#9c179e\"],[0.4444444444444444,\"#bd3786\"],[0.5555555555555556,\"#d8576b\"],[0.6666666666666666,\"#ed7953\"],[0.7777777777777778,\"#fb9f3a\"],[0.8888888888888888,\"#fdca26\"],[1.0,\"#f0f921\"]]}],\"heatmap\":[{\"type\":\"heatmap\",\"colorbar\":{\"outlinewidth\":0,\"ticks\":\"\"},\"colorscale\":[[0.0,\"#0d0887\"],[0.1111111111111111,\"#46039f\"],[0.2222222222222222,\"#7201a8\"],[0.3333333333333333,\"#9c179e\"],[0.4444444444444444,\"#bd3786\"],[0.5555555555555556,\"#d8576b\"],[0.6666666666666666,\"#ed7953\"],[0.7777777777777778,\"#fb9f3a\"],[0.8888888888888888,\"#fdca26\"],[1.0,\"#f0f921\"]]}],\"heatmapgl\":[{\"type\":\"heatmapgl\",\"colorbar\":{\"outlinewidth\":0,\"ticks\":\"\"},\"colorscale\":[[0.0,\"#0d0887\"],[0.1111111111111111,\"#46039f\"],[0.2222222222222222,\"#7201a8\"],[0.3333333333333333,\"#9c179e\"],[0.4444444444444444,\"#bd3786\"],[0.5555555555555556,\"#d8576b\"],[0.6666666666666666,\"#ed7953\"],[0.7777777777777778,\"#fb9f3a\"],[0.8888888888888888,\"#fdca26\"],[1.0,\"#f0f921\"]]}],\"contourcarpet\":[{\"type\":\"contourcarpet\",\"colorbar\":{\"outlinewidth\":0,\"ticks\":\"\"}}],\"contour\":[{\"type\":\"contour\",\"colorbar\":{\"outlinewidth\":0,\"ticks\":\"\"},\"colorscale\":[[0.0,\"#0d0887\"],[0.1111111111111111,\"#46039f\"],[0.2222222222222222,\"#7201a8\"],[0.3333333333333333,\"#9c179e\"],[0.4444444444444444,\"#bd3786\"],[0.5555555555555556,\"#d8576b\"],[0.6666666666666666,\"#ed7953\"],[0.7777777777777778,\"#fb9f3a\"],[0.8888888888888888,\"#fdca26\"],[1.0,\"#f0f921\"]]}],\"surface\":[{\"type\":\"surface\",\"colorbar\":{\"outlinewidth\":0,\"ticks\":\"\"},\"colorscale\":[[0.0,\"#0d0887\"],[0.1111111111111111,\"#46039f\"],[0.2222222222222222,\"#7201a8\"],[0.3333333333333333,\"#9c179e\"],[0.4444444444444444,\"#bd3786\"],[0.5555555555555556,\"#d8576b\"],[0.6666666666666666,\"#ed7953\"],[0.7777777777777778,\"#fb9f3a\"],[0.8888888888888888,\"#fdca26\"],[1.0,\"#f0f921\"]]}],\"mesh3d\":[{\"type\":\"mesh3d\",\"colorbar\":{\"outlinewidth\":0,\"ticks\":\"\"}}],\"scatter\":[{\"fillpattern\":{\"fillmode\":\"overlay\",\"size\":10,\"solidity\":0.2},\"type\":\"scatter\"}],\"parcoords\":[{\"type\":\"parcoords\",\"line\":{\"colorbar\":{\"outlinewidth\":0,\"ticks\":\"\"}}}],\"scatterpolargl\":[{\"type\":\"scatterpolargl\",\"marker\":{\"colorbar\":{\"outlinewidth\":0,\"ticks\":\"\"}}}],\"bar\":[{\"error_x\":{\"color\":\"#2a3f5f\"},\"error_y\":{\"color\":\"#2a3f5f\"},\"marker\":{\"line\":{\"color\":\"#E5ECF6\",\"width\":0.5},\"pattern\":{\"fillmode\":\"overlay\",\"size\":10,\"solidity\":0.2}},\"type\":\"bar\"}],\"scattergeo\":[{\"type\":\"scattergeo\",\"marker\":{\"colorbar\":{\"outlinewidth\":0,\"ticks\":\"\"}}}],\"scatterpolar\":[{\"type\":\"scatterpolar\",\"marker\":{\"colorbar\":{\"outlinewidth\":0,\"ticks\":\"\"}}}],\"histogram\":[{\"marker\":{\"pattern\":{\"fillmode\":\"overlay\",\"size\":10,\"solidity\":0.2}},\"type\":\"histogram\"}],\"scattergl\":[{\"type\":\"scattergl\",\"marker\":{\"colorbar\":{\"outlinewidth\":0,\"ticks\":\"\"}}}],\"scatter3d\":[{\"type\":\"scatter3d\",\"line\":{\"colorbar\":{\"outlinewidth\":0,\"ticks\":\"\"}},\"marker\":{\"colorbar\":{\"outlinewidth\":0,\"ticks\":\"\"}}}],\"scattermapbox\":[{\"type\":\"scattermapbox\",\"marker\":{\"colorbar\":{\"outlinewidth\":0,\"ticks\":\"\"}}}],\"scatterternary\":[{\"type\":\"scatterternary\",\"marker\":{\"colorbar\":{\"outlinewidth\":0,\"ticks\":\"\"}}}],\"scattercarpet\":[{\"type\":\"scattercarpet\",\"marker\":{\"colorbar\":{\"outlinewidth\":0,\"ticks\":\"\"}}}],\"carpet\":[{\"aaxis\":{\"endlinecolor\":\"#2a3f5f\",\"gridcolor\":\"white\",\"linecolor\":\"white\",\"minorgridcolor\":\"white\",\"startlinecolor\":\"#2a3f5f\"},\"baxis\":{\"endlinecolor\":\"#2a3f5f\",\"gridcolor\":\"white\",\"linecolor\":\"white\",\"minorgridcolor\":\"white\",\"startlinecolor\":\"#2a3f5f\"},\"type\":\"carpet\"}],\"table\":[{\"cells\":{\"fill\":{\"color\":\"#EBF0F8\"},\"line\":{\"color\":\"white\"}},\"header\":{\"fill\":{\"color\":\"#C8D4E3\"},\"line\":{\"color\":\"white\"}},\"type\":\"table\"}],\"barpolar\":[{\"marker\":{\"line\":{\"color\":\"#E5ECF6\",\"width\":0.5},\"pattern\":{\"fillmode\":\"overlay\",\"size\":10,\"solidity\":0.2}},\"type\":\"barpolar\"}],\"pie\":[{\"automargin\":true,\"type\":\"pie\"}]},\"layout\":{\"autotypenumbers\":\"strict\",\"colorway\":[\"#636efa\",\"#EF553B\",\"#00cc96\",\"#ab63fa\",\"#FFA15A\",\"#19d3f3\",\"#FF6692\",\"#B6E880\",\"#FF97FF\",\"#FECB52\"],\"font\":{\"color\":\"#2a3f5f\"},\"hovermode\":\"closest\",\"hoverlabel\":{\"align\":\"left\"},\"paper_bgcolor\":\"white\",\"plot_bgcolor\":\"#E5ECF6\",\"polar\":{\"bgcolor\":\"#E5ECF6\",\"angularaxis\":{\"gridcolor\":\"white\",\"linecolor\":\"white\",\"ticks\":\"\"},\"radialaxis\":{\"gridcolor\":\"white\",\"linecolor\":\"white\",\"ticks\":\"\"}},\"ternary\":{\"bgcolor\":\"#E5ECF6\",\"aaxis\":{\"gridcolor\":\"white\",\"linecolor\":\"white\",\"ticks\":\"\"},\"baxis\":{\"gridcolor\":\"white\",\"linecolor\":\"white\",\"ticks\":\"\"},\"caxis\":{\"gridcolor\":\"white\",\"linecolor\":\"white\",\"ticks\":\"\"}},\"coloraxis\":{\"colorbar\":{\"outlinewidth\":0,\"ticks\":\"\"}},\"colorscale\":{\"sequential\":[[0.0,\"#0d0887\"],[0.1111111111111111,\"#46039f\"],[0.2222222222222222,\"#7201a8\"],[0.3333333333333333,\"#9c179e\"],[0.4444444444444444,\"#bd3786\"],[0.5555555555555556,\"#d8576b\"],[0.6666666666666666,\"#ed7953\"],[0.7777777777777778,\"#fb9f3a\"],[0.8888888888888888,\"#fdca26\"],[1.0,\"#f0f921\"]],\"sequentialminus\":[[0.0,\"#0d0887\"],[0.1111111111111111,\"#46039f\"],[0.2222222222222222,\"#7201a8\"],[0.3333333333333333,\"#9c179e\"],[0.4444444444444444,\"#bd3786\"],[0.5555555555555556,\"#d8576b\"],[0.6666666666666666,\"#ed7953\"],[0.7777777777777778,\"#fb9f3a\"],[0.8888888888888888,\"#fdca26\"],[1.0,\"#f0f921\"]],\"diverging\":[[0,\"#8e0152\"],[0.1,\"#c51b7d\"],[0.2,\"#de77ae\"],[0.3,\"#f1b6da\"],[0.4,\"#fde0ef\"],[0.5,\"#f7f7f7\"],[0.6,\"#e6f5d0\"],[0.7,\"#b8e186\"],[0.8,\"#7fbc41\"],[0.9,\"#4d9221\"],[1,\"#276419\"]]},\"xaxis\":{\"gridcolor\":\"white\",\"linecolor\":\"white\",\"ticks\":\"\",\"title\":{\"standoff\":15},\"zerolinecolor\":\"white\",\"automargin\":true,\"zerolinewidth\":2},\"yaxis\":{\"gridcolor\":\"white\",\"linecolor\":\"white\",\"ticks\":\"\",\"title\":{\"standoff\":15},\"zerolinecolor\":\"white\",\"automargin\":true,\"zerolinewidth\":2},\"scene\":{\"xaxis\":{\"backgroundcolor\":\"#E5ECF6\",\"gridcolor\":\"white\",\"linecolor\":\"white\",\"showbackground\":true,\"ticks\":\"\",\"zerolinecolor\":\"white\",\"gridwidth\":2},\"yaxis\":{\"backgroundcolor\":\"#E5ECF6\",\"gridcolor\":\"white\",\"linecolor\":\"white\",\"showbackground\":true,\"ticks\":\"\",\"zerolinecolor\":\"white\",\"gridwidth\":2},\"zaxis\":{\"backgroundcolor\":\"#E5ECF6\",\"gridcolor\":\"white\",\"linecolor\":\"white\",\"showbackground\":true,\"ticks\":\"\",\"zerolinecolor\":\"white\",\"gridwidth\":2}},\"shapedefaults\":{\"line\":{\"color\":\"#2a3f5f\"}},\"annotationdefaults\":{\"arrowcolor\":\"#2a3f5f\",\"arrowhead\":0,\"arrowwidth\":1},\"geo\":{\"bgcolor\":\"white\",\"landcolor\":\"#E5ECF6\",\"subunitcolor\":\"white\",\"showland\":true,\"showlakes\":true,\"lakecolor\":\"white\"},\"title\":{\"x\":0.05},\"mapbox\":{\"style\":\"light\"}}},\"xaxis\":{\"anchor\":\"y\",\"domain\":[0.0,1.0],\"title\":{\"text\":\"Salary\"}},\"yaxis\":{\"anchor\":\"x\",\"domain\":[0.0,1.0],\"title\":{\"text\":\"Experience\"}},\"legend\":{\"title\":{\"text\":\"Job\"},\"tracegroupgap\":0,\"itemsizing\":\"constant\"},\"title\":{\"text\":\"Experience Level vs Salary (USD)\"},\"updatemenus\":[{\"buttons\":[{\"args\":[null,{\"frame\":{\"duration\":500,\"redraw\":false},\"mode\":\"immediate\",\"fromcurrent\":true,\"transition\":{\"duration\":500,\"easing\":\"linear\"}}],\"label\":\"&#9654;\",\"method\":\"animate\"},{\"args\":[[null],{\"frame\":{\"duration\":0,\"redraw\":false},\"mode\":\"immediate\",\"fromcurrent\":true,\"transition\":{\"duration\":0,\"easing\":\"linear\"}}],\"label\":\"&#9724;\",\"method\":\"animate\"}],\"direction\":\"left\",\"pad\":{\"r\":10,\"t\":70},\"showactive\":false,\"type\":\"buttons\",\"x\":0.1,\"xanchor\":\"right\",\"y\":0,\"yanchor\":\"top\"}],\"sliders\":[{\"active\":0,\"currentvalue\":{\"prefix\":\"work_year=\"},\"len\":0.9,\"pad\":{\"b\":10,\"t\":60},\"steps\":[{\"args\":[[\"2020\"],{\"frame\":{\"duration\":0,\"redraw\":false},\"mode\":\"immediate\",\"fromcurrent\":true,\"transition\":{\"duration\":0,\"easing\":\"linear\"}}],\"label\":\"2020\",\"method\":\"animate\"},{\"args\":[[\"2021\"],{\"frame\":{\"duration\":0,\"redraw\":false},\"mode\":\"immediate\",\"fromcurrent\":true,\"transition\":{\"duration\":0,\"easing\":\"linear\"}}],\"label\":\"2021\",\"method\":\"animate\"},{\"args\":[[\"2022\"],{\"frame\":{\"duration\":0,\"redraw\":false},\"mode\":\"immediate\",\"fromcurrent\":true,\"transition\":{\"duration\":0,\"easing\":\"linear\"}}],\"label\":\"2022\",\"method\":\"animate\"}],\"x\":0.1,\"xanchor\":\"left\",\"y\":0,\"yanchor\":\"top\"}]},                        {\"responsive\": true}                    ).then(function(){\n",
              "                            Plotly.addFrames('553bbb8a-a343-4c4b-87a7-62ff8b57e73b', [{\"data\":[{\"hovertemplate\":\"<b>%{hovertext}</b><br><br>Job=Machine Learning Scientist<br>work_year=2020<br>Salary=%{marker.size}<br>Experience=%{y}<extra></extra>\",\"hovertext\":[\"Machine Learning Scientist\"],\"legendgroup\":\"Machine Learning Scientist\",\"marker\":{\"color\":\"#636efa\",\"size\":[260000],\"sizemode\":\"area\",\"sizeref\":1500.0,\"symbol\":\"circle\"},\"mode\":\"markers\",\"name\":\"Machine Learning Scientist\",\"orientation\":\"h\",\"showlegend\":true,\"x\":[260000],\"xaxis\":\"x\",\"y\":[\"SE\"],\"yaxis\":\"y\",\"type\":\"scatter\"},{\"hovertemplate\":\"<b>%{hovertext}</b><br><br>Job=Product Data Analyst<br>work_year=2020<br>Salary=%{marker.size}<br>Experience=%{y}<extra></extra>\",\"hovertext\":[\"Product Data Analyst\"],\"legendgroup\":\"Product Data Analyst\",\"marker\":{\"color\":\"#EF553B\",\"size\":[20000],\"sizemode\":\"area\",\"sizeref\":1500.0,\"symbol\":\"circle\"},\"mode\":\"markers\",\"name\":\"Product Data Analyst\",\"orientation\":\"h\",\"showlegend\":true,\"x\":[20000],\"xaxis\":\"x\",\"y\":[\"MI\"],\"yaxis\":\"y\",\"type\":\"scatter\"},{\"hovertemplate\":\"<b>%{hovertext}</b><br><br>Job=Machine Learning Engineer<br>work_year=2020<br>Salary=%{marker.size}<br>Experience=%{y}<extra></extra>\",\"hovertext\":[\"Machine Learning Engineer\",\"Machine Learning Engineer\",\"Machine Learning Engineer\"],\"legendgroup\":\"Machine Learning Engineer\",\"marker\":{\"color\":\"#00cc96\",\"size\":[150000,250000,138000],\"sizemode\":\"area\",\"sizeref\":1500.0,\"symbol\":\"circle\"},\"mode\":\"markers\",\"name\":\"Machine Learning Engineer\",\"orientation\":\"h\",\"showlegend\":true,\"x\":[150000,250000,138000],\"xaxis\":\"x\",\"y\":[\"SE\",\"EN\",\"EN\"],\"yaxis\":\"y\",\"type\":\"scatter\"},{\"hovertemplate\":\"<b>%{hovertext}</b><br><br>Job=Data Analyst<br>work_year=2020<br>Salary=%{marker.size}<br>Experience=%{y}<extra></extra>\",\"hovertext\":[\"Data Analyst\",\"Data Analyst\",\"Data Analyst\",\"Data Analyst\",\"Data Analyst\"],\"legendgroup\":\"Data Analyst\",\"marker\":{\"color\":\"#ab63fa\",\"size\":[72000,85000,8000,10000,91000],\"sizemode\":\"area\",\"sizeref\":1500.0,\"symbol\":\"circle\"},\"mode\":\"markers\",\"name\":\"Data Analyst\",\"orientation\":\"h\",\"showlegend\":true,\"x\":[72000,85000,8000,10000,91000],\"xaxis\":\"x\",\"y\":[\"EN\",\"MI\",\"MI\",\"EN\",\"EN\"],\"yaxis\":\"y\",\"type\":\"scatter\"},{\"hovertemplate\":\"<b>%{hovertext}</b><br><br>Job=Lead Data Scientist<br>work_year=2020<br>Salary=%{marker.size}<br>Experience=%{y}<extra></extra>\",\"hovertext\":[\"Lead Data Scientist\",\"Lead Data Scientist\"],\"legendgroup\":\"Lead Data Scientist\",\"marker\":{\"color\":\"#FFA15A\",\"size\":[190000,115000],\"sizemode\":\"area\",\"sizeref\":1500.0,\"symbol\":\"circle\"},\"mode\":\"markers\",\"name\":\"Lead Data Scientist\",\"orientation\":\"h\",\"showlegend\":true,\"x\":[190000,115000],\"xaxis\":\"x\",\"y\":[\"SE\",\"MI\"],\"yaxis\":\"y\",\"type\":\"scatter\"},{\"hovertemplate\":\"<b>%{hovertext}</b><br><br>Job=Business Data Analyst<br>work_year=2020<br>Salary=%{marker.size}<br>Experience=%{y}<extra></extra>\",\"hovertext\":[\"Business Data Analyst\",\"Business Data Analyst\"],\"legendgroup\":\"Business Data Analyst\",\"marker\":{\"color\":\"#19d3f3\",\"size\":[135000,100000],\"sizemode\":\"area\",\"sizeref\":1500.0,\"symbol\":\"circle\"},\"mode\":\"markers\",\"name\":\"Business Data Analyst\",\"orientation\":\"h\",\"showlegend\":true,\"x\":[135000,100000],\"xaxis\":\"x\",\"y\":[\"MI\",\"EN\"],\"yaxis\":\"y\",\"type\":\"scatter\"},{\"hovertemplate\":\"<b>%{hovertext}</b><br><br>Job=Lead Data Engineer<br>work_year=2020<br>Salary=%{marker.size}<br>Experience=%{y}<extra></extra>\",\"hovertext\":[\"Lead Data Engineer\",\"Lead Data Engineer\"],\"legendgroup\":\"Lead Data Engineer\",\"marker\":{\"color\":\"#FF6692\",\"size\":[125000,56000],\"sizemode\":\"area\",\"sizeref\":1500.0,\"symbol\":\"circle\"},\"mode\":\"markers\",\"name\":\"Lead Data Engineer\",\"orientation\":\"h\",\"showlegend\":true,\"x\":[125000,56000],\"xaxis\":\"x\",\"y\":[\"SE\",\"MI\"],\"yaxis\":\"y\",\"type\":\"scatter\"},{\"hovertemplate\":\"<b>%{hovertext}</b><br><br>Job=Lead Data Analyst<br>work_year=2020<br>Salary=%{marker.size}<br>Experience=%{y}<extra></extra>\",\"hovertext\":[\"Lead Data Analyst\"],\"legendgroup\":\"Lead Data Analyst\",\"marker\":{\"color\":\"#B6E880\",\"size\":[87000],\"sizemode\":\"area\",\"sizeref\":1500.0,\"symbol\":\"circle\"},\"mode\":\"markers\",\"name\":\"Lead Data Analyst\",\"orientation\":\"h\",\"showlegend\":true,\"x\":[87000],\"xaxis\":\"x\",\"y\":[\"MI\"],\"yaxis\":\"y\",\"type\":\"scatter\"},{\"hovertemplate\":\"<b>%{hovertext}</b><br><br>Job=BI Data Analyst<br>work_year=2020<br>Salary=%{marker.size}<br>Experience=%{y}<extra></extra>\",\"hovertext\":[\"BI Data Analyst\"],\"legendgroup\":\"BI Data Analyst\",\"marker\":{\"color\":\"#FF97FF\",\"size\":[98000],\"sizemode\":\"area\",\"sizeref\":1500.0,\"symbol\":\"circle\"},\"mode\":\"markers\",\"name\":\"BI Data Analyst\",\"orientation\":\"h\",\"showlegend\":true,\"x\":[98000],\"xaxis\":\"x\",\"y\":[\"MI\"],\"yaxis\":\"y\",\"type\":\"scatter\"},{\"hovertemplate\":\"<b>%{hovertext}</b><br><br>Job=Director of Data Science<br>work_year=2020<br>Salary=%{marker.size}<br>Experience=%{y}<extra></extra>\",\"hovertext\":[\"Director of Data Science\"],\"legendgroup\":\"Director of Data Science\",\"marker\":{\"color\":\"#FECB52\",\"size\":[325000],\"sizemode\":\"area\",\"sizeref\":1500.0,\"symbol\":\"circle\"},\"mode\":\"markers\",\"name\":\"Director of Data Science\",\"orientation\":\"h\",\"showlegend\":true,\"x\":[325000],\"xaxis\":\"x\",\"y\":[\"EX\"],\"yaxis\":\"y\",\"type\":\"scatter\"},{\"hovertemplate\":\"<b>%{hovertext}</b><br><br>Job=Research Scientist<br>work_year=2020<br>Salary=%{marker.size}<br>Experience=%{y}<extra></extra>\",\"hovertext\":[\"Research Scientist\",\"Research Scientist\"],\"legendgroup\":\"Research Scientist\",\"marker\":{\"color\":\"#636efa\",\"size\":[42000,450000],\"sizemode\":\"area\",\"sizeref\":1500.0,\"symbol\":\"circle\"},\"mode\":\"markers\",\"name\":\"Research Scientist\",\"orientation\":\"h\",\"showlegend\":true,\"x\":[42000,450000],\"xaxis\":\"x\",\"y\":[\"EN\",\"MI\"],\"yaxis\":\"y\",\"type\":\"scatter\"},{\"hovertemplate\":\"<b>%{hovertext}</b><br><br>Job=Big Data Engineer<br>work_year=2020<br>Salary=%{marker.size}<br>Experience=%{y}<extra></extra>\",\"hovertext\":[\"Big Data Engineer\"],\"legendgroup\":\"Big Data Engineer\",\"marker\":{\"color\":\"#EF553B\",\"size\":[70000],\"sizemode\":\"area\",\"sizeref\":1500.0,\"symbol\":\"circle\"},\"mode\":\"markers\",\"name\":\"Big Data Engineer\",\"orientation\":\"h\",\"showlegend\":true,\"x\":[70000],\"xaxis\":\"x\",\"y\":[\"EN\"],\"yaxis\":\"y\",\"type\":\"scatter\"},{\"hovertemplate\":\"<b>%{hovertext}</b><br><br>Job=Data Science Consultant<br>work_year=2020<br>Salary=%{marker.size}<br>Experience=%{y}<extra></extra>\",\"hovertext\":[\"Data Science Consultant\"],\"legendgroup\":\"Data Science Consultant\",\"marker\":{\"color\":\"#00cc96\",\"size\":[103000],\"sizemode\":\"area\",\"sizeref\":1500.0,\"symbol\":\"circle\"},\"mode\":\"markers\",\"name\":\"Data Science Consultant\",\"orientation\":\"h\",\"showlegend\":true,\"x\":[103000],\"xaxis\":\"x\",\"y\":[\"MI\"],\"yaxis\":\"y\",\"type\":\"scatter\"},{\"hovertemplate\":\"<b>%{hovertext}</b><br><br>Job=Data Scientist<br>work_year=2020<br>Salary=%{marker.size}<br>Experience=%{y}<extra></extra>\",\"hovertext\":[\"Data Scientist\",\"Data Scientist\",\"Data Scientist\",\"Data Scientist\",\"Data Scientist\",\"Data Scientist\",\"Data Scientist\"],\"legendgroup\":\"Data Scientist\",\"marker\":{\"color\":\"#ab63fa\",\"size\":[45760,105000,118000,120000,138350,412000,105000],\"sizemode\":\"area\",\"sizeref\":1500.0,\"symbol\":\"circle\"},\"mode\":\"markers\",\"name\":\"Data Scientist\",\"orientation\":\"h\",\"showlegend\":true,\"x\":[45760,105000,118000,120000,138350,412000,105000],\"xaxis\":\"x\",\"y\":[\"MI\",\"MI\",\"MI\",\"SE\",\"MI\",\"SE\",\"EN\"],\"yaxis\":\"y\",\"type\":\"scatter\"},{\"hovertemplate\":\"<b>%{hovertext}</b><br><br>Job=Data Engineer<br>work_year=2020<br>Salary=%{marker.size}<br>Experience=%{y}<extra></extra>\",\"hovertext\":[\"Data Engineer\",\"Data Engineer\",\"Data Engineer\",\"Data Engineer\"],\"legendgroup\":\"Data Engineer\",\"marker\":{\"color\":\"#FFA15A\",\"size\":[106000,188000,110000,130800],\"sizemode\":\"area\",\"sizeref\":1500.0,\"symbol\":\"circle\"},\"mode\":\"markers\",\"name\":\"Data Engineer\",\"orientation\":\"h\",\"showlegend\":true,\"x\":[106000,188000,110000,130800],\"xaxis\":\"x\",\"y\":[\"MI\",\"SE\",\"MI\",\"MI\"],\"yaxis\":\"y\",\"type\":\"scatter\"},{\"hovertemplate\":\"<b>%{hovertext}</b><br><br>Job=Computer Vision Engineer<br>work_year=2020<br>Salary=%{marker.size}<br>Experience=%{y}<extra></extra>\",\"hovertext\":[\"Computer Vision Engineer\"],\"legendgroup\":\"Computer Vision Engineer\",\"marker\":{\"color\":\"#19d3f3\",\"size\":[60000],\"sizemode\":\"area\",\"sizeref\":1500.0,\"symbol\":\"circle\"},\"mode\":\"markers\",\"name\":\"Computer Vision Engineer\",\"orientation\":\"h\",\"showlegend\":true,\"x\":[60000],\"xaxis\":\"x\",\"y\":[\"SE\"],\"yaxis\":\"y\",\"type\":\"scatter\"},{\"hovertemplate\":\"<b>%{hovertext}</b><br><br>Job=Data Science Manager<br>work_year=2020<br>Salary=%{marker.size}<br>Experience=%{y}<extra></extra>\",\"hovertext\":[\"Data Science Manager\"],\"legendgroup\":\"Data Science Manager\",\"marker\":{\"color\":\"#FF6692\",\"size\":[190200],\"sizemode\":\"area\",\"sizeref\":1500.0,\"symbol\":\"circle\"},\"mode\":\"markers\",\"name\":\"Data Science Manager\",\"orientation\":\"h\",\"showlegend\":true,\"x\":[190200],\"xaxis\":\"x\",\"y\":[\"SE\"],\"yaxis\":\"y\",\"type\":\"scatter\"}],\"name\":\"2020\"},{\"data\":[{\"hovertemplate\":\"<b>%{hovertext}</b><br><br>Job=Machine Learning Scientist<br>work_year=2021<br>Salary=%{marker.size}<br>Experience=%{y}<extra></extra>\",\"hovertext\":[\"Machine Learning Scientist\",\"Machine Learning Scientist\",\"Machine Learning Scientist\",\"Machine Learning Scientist\"],\"legendgroup\":\"Machine Learning Scientist\",\"marker\":{\"color\":\"#636efa\",\"size\":[225000,120000,12000,225000],\"sizemode\":\"area\",\"sizeref\":1500.0,\"symbol\":\"circle\"},\"mode\":\"markers\",\"name\":\"Machine Learning Scientist\",\"orientation\":\"h\",\"showlegend\":true,\"x\":[225000,120000,12000,225000],\"xaxis\":\"x\",\"y\":[\"EN\",\"SE\",\"MI\",\"SE\"],\"yaxis\":\"y\",\"type\":\"scatter\"},{\"hovertemplate\":\"<b>%{hovertext}</b><br><br>Job=Machine Learning Engineer<br>work_year=2021<br>Salary=%{marker.size}<br>Experience=%{y}<extra></extra>\",\"hovertext\":[\"Machine Learning Engineer\",\"Machine Learning Engineer\",\"Machine Learning Engineer\",\"Machine Learning Engineer\",\"Machine Learning Engineer\",\"Machine Learning Engineer\",\"Machine Learning Engineer\",\"Machine Learning Engineer\"],\"legendgroup\":\"Machine Learning Engineer\",\"marker\":{\"color\":\"#00cc96\",\"size\":[20000,125000,81000,74000,21844,200000,185000,85000],\"sizemode\":\"area\",\"sizeref\":1500.0,\"symbol\":\"circle\"},\"mode\":\"markers\",\"name\":\"Machine Learning Engineer\",\"orientation\":\"h\",\"showlegend\":true,\"x\":[20000,125000,81000,74000,21844,200000,185000,85000],\"xaxis\":\"x\",\"y\":[\"EN\",\"EN\",\"EN\",\"MI\",\"EN\",\"SE\",\"SE\",\"EN\"],\"yaxis\":\"y\",\"type\":\"scatter\"},{\"hovertemplate\":\"<b>%{hovertext}</b><br><br>Job=Data Analyst<br>work_year=2021<br>Salary=%{marker.size}<br>Experience=%{y}<extra></extra>\",\"hovertext\":[\"Data Analyst\",\"Data Analyst\",\"Data Analyst\",\"Data Analyst\",\"Data Analyst\",\"Data Analyst\",\"Data Analyst\",\"Data Analyst\",\"Data Analyst\",\"Data Analyst\",\"Data Analyst\",\"Data Analyst\"],\"legendgroup\":\"Data Analyst\",\"marker\":{\"color\":\"#ab63fa\",\"size\":[80000,80000,75000,62000,90000,50000,90000,135000,60000,200000,80000,93000],\"sizemode\":\"area\",\"sizeref\":1500.0,\"symbol\":\"circle\"},\"mode\":\"markers\",\"name\":\"Data Analyst\",\"orientation\":\"h\",\"showlegend\":true,\"x\":[80000,80000,75000,62000,90000,50000,90000,135000,60000,200000,80000,93000],\"xaxis\":\"x\",\"y\":[\"EN\",\"SE\",\"MI\",\"MI\",\"EN\",\"EN\",\"MI\",\"MI\",\"EN\",\"SE\",\"MI\",\"MI\"],\"yaxis\":\"y\",\"type\":\"scatter\"},{\"hovertemplate\":\"<b>%{hovertext}</b><br><br>Job=Lead Data Engineer<br>work_year=2021<br>Salary=%{marker.size}<br>Experience=%{y}<extra></extra>\",\"hovertext\":[\"Lead Data Engineer\",\"Lead Data Engineer\"],\"legendgroup\":\"Lead Data Engineer\",\"marker\":{\"color\":\"#FF6692\",\"size\":[276000,160000],\"sizemode\":\"area\",\"sizeref\":1500.0,\"symbol\":\"circle\"},\"mode\":\"markers\",\"name\":\"Lead Data Engineer\",\"orientation\":\"h\",\"showlegend\":true,\"x\":[276000,160000],\"xaxis\":\"x\",\"y\":[\"SE\",\"SE\"],\"yaxis\":\"y\",\"type\":\"scatter\"},{\"hovertemplate\":\"<b>%{hovertext}</b><br><br>Job=Lead Data Analyst<br>work_year=2021<br>Salary=%{marker.size}<br>Experience=%{y}<extra></extra>\",\"hovertext\":[\"Lead Data Analyst\"],\"legendgroup\":\"Lead Data Analyst\",\"marker\":{\"color\":\"#B6E880\",\"size\":[170000],\"sizemode\":\"area\",\"sizeref\":1500.0,\"symbol\":\"circle\"},\"mode\":\"markers\",\"name\":\"Lead Data Analyst\",\"orientation\":\"h\",\"showlegend\":true,\"x\":[170000],\"xaxis\":\"x\",\"y\":[\"SE\"],\"yaxis\":\"y\",\"type\":\"scatter\"},{\"hovertemplate\":\"<b>%{hovertext}</b><br><br>Job=BI Data Analyst<br>work_year=2021<br>Salary=%{marker.size}<br>Experience=%{y}<extra></extra>\",\"hovertext\":[\"BI Data Analyst\",\"BI Data Analyst\",\"BI Data Analyst\",\"BI Data Analyst\"],\"legendgroup\":\"BI Data Analyst\",\"marker\":{\"color\":\"#FF97FF\",\"size\":[150000,100000,55000,9272],\"sizemode\":\"area\",\"sizeref\":1500.0,\"symbol\":\"circle\"},\"mode\":\"markers\",\"name\":\"BI Data Analyst\",\"orientation\":\"h\",\"showlegend\":true,\"x\":[150000,100000,55000,9272],\"xaxis\":\"x\",\"y\":[\"EX\",\"MI\",\"EN\",\"EN\"],\"yaxis\":\"y\",\"type\":\"scatter\"},{\"hovertemplate\":\"<b>%{hovertext}</b><br><br>Job=Director of Data Science<br>work_year=2021<br>Salary=%{marker.size}<br>Experience=%{y}<extra></extra>\",\"hovertext\":[\"Director of Data Science\",\"Director of Data Science\"],\"legendgroup\":\"Director of Data Science\",\"marker\":{\"color\":\"#FECB52\",\"size\":[168000,250000],\"sizemode\":\"area\",\"sizeref\":1500.0,\"symbol\":\"circle\"},\"mode\":\"markers\",\"name\":\"Director of Data Science\",\"orientation\":\"h\",\"showlegend\":true,\"x\":[168000,250000],\"xaxis\":\"x\",\"y\":[\"SE\",\"EX\"],\"yaxis\":\"y\",\"type\":\"scatter\"},{\"hovertemplate\":\"<b>%{hovertext}</b><br><br>Job=Research Scientist<br>work_year=2021<br>Salary=%{marker.size}<br>Experience=%{y}<extra></extra>\",\"hovertext\":[\"Research Scientist\",\"Research Scientist\",\"Research Scientist\"],\"legendgroup\":\"Research Scientist\",\"marker\":{\"color\":\"#636efa\",\"size\":[50000,100000,69999],\"sizemode\":\"area\",\"sizeref\":1500.0,\"symbol\":\"circle\"},\"mode\":\"markers\",\"name\":\"Research Scientist\",\"orientation\":\"h\",\"showlegend\":true,\"x\":[50000,100000,69999],\"xaxis\":\"x\",\"y\":[\"SE\",\"EN\",\"MI\"],\"yaxis\":\"y\",\"type\":\"scatter\"},{\"hovertemplate\":\"<b>%{hovertext}</b><br><br>Job=Big Data Engineer<br>work_year=2021<br>Salary=%{marker.size}<br>Experience=%{y}<extra></extra>\",\"hovertext\":[\"Big Data Engineer\",\"Big Data Engineer\"],\"legendgroup\":\"Big Data Engineer\",\"marker\":{\"color\":\"#EF553B\",\"size\":[60000,18000],\"sizemode\":\"area\",\"sizeref\":1500.0,\"symbol\":\"circle\"},\"mode\":\"markers\",\"name\":\"Big Data Engineer\",\"orientation\":\"h\",\"showlegend\":true,\"x\":[60000,18000],\"xaxis\":\"x\",\"y\":[\"MI\",\"MI\"],\"yaxis\":\"y\",\"type\":\"scatter\"},{\"hovertemplate\":\"<b>%{hovertext}</b><br><br>Job=Data Science Consultant<br>work_year=2021<br>Salary=%{marker.size}<br>Experience=%{y}<extra></extra>\",\"hovertext\":[\"Data Science Consultant\"],\"legendgroup\":\"Data Science Consultant\",\"marker\":{\"color\":\"#00cc96\",\"size\":[90000],\"sizemode\":\"area\",\"sizeref\":1500.0,\"symbol\":\"circle\"},\"mode\":\"markers\",\"name\":\"Data Science Consultant\",\"orientation\":\"h\",\"showlegend\":true,\"x\":[90000],\"xaxis\":\"x\",\"y\":[\"EN\"],\"yaxis\":\"y\",\"type\":\"scatter\"},{\"hovertemplate\":\"<b>%{hovertext}</b><br><br>Job=Data Scientist<br>work_year=2021<br>Salary=%{marker.size}<br>Experience=%{y}<extra></extra>\",\"hovertext\":[\"Data Scientist\",\"Data Scientist\",\"Data Scientist\",\"Data Scientist\",\"Data Scientist\",\"Data Scientist\",\"Data Scientist\",\"Data Scientist\",\"Data Scientist\",\"Data Scientist\",\"Data Scientist\",\"Data Scientist\",\"Data Scientist\",\"Data Scientist\",\"Data Scientist\",\"Data Scientist\",\"Data Scientist\",\"Data Scientist\"],\"legendgroup\":\"Data Scientist\",\"marker\":{\"color\":\"#ab63fa\",\"size\":[73000,50000,100000,80000,82500,150000,13400,147000,160000,135000,4000,165000,115000,90000,130000,100000,58000,109000],\"sizemode\":\"area\",\"sizeref\":1500.0,\"symbol\":\"circle\"},\"mode\":\"markers\",\"name\":\"Data Scientist\",\"orientation\":\"h\",\"showlegend\":true,\"x\":[73000,50000,100000,80000,82500,150000,13400,147000,160000,135000,4000,165000,115000,90000,130000,100000,58000,109000],\"xaxis\":\"x\",\"y\":[\"MI\",\"MI\",\"EN\",\"EN\",\"MI\",\"MI\",\"EN\",\"MI\",\"MI\",\"SE\",\"EN\",\"SE\",\"MI\",\"EN\",\"MI\",\"EN\",\"EN\",\"MI\"],\"yaxis\":\"y\",\"type\":\"scatter\"},{\"hovertemplate\":\"<b>%{hovertext}</b><br><br>Job=Data Engineer<br>work_year=2021<br>Salary=%{marker.size}<br>Experience=%{y}<extra></extra>\",\"hovertext\":[\"Data Engineer\",\"Data Engineer\",\"Data Engineer\",\"Data Engineer\",\"Data Engineer\",\"Data Engineer\",\"Data Engineer\",\"Data Engineer\",\"Data Engineer\",\"Data Engineer\",\"Data Engineer\",\"Data Engineer\",\"Data Engineer\",\"Data Engineer\",\"Data Engineer\",\"Data Engineer\",\"Data Engineer\"],\"legendgroup\":\"Data Engineer\",\"marker\":{\"color\":\"#FFA15A\",\"size\":[140000,150000,115000,150000,200000,100000,90000,80000,4000,165000,20000,110000,200000,93150,111775,72500,112000],\"sizemode\":\"area\",\"sizeref\":1500.0,\"symbol\":\"circle\"},\"mode\":\"markers\",\"name\":\"Data Engineer\",\"orientation\":\"h\",\"showlegend\":true,\"x\":[140000,150000,115000,150000,200000,100000,90000,80000,4000,165000,20000,110000,200000,93150,111775,72500,112000],\"xaxis\":\"x\",\"y\":[\"MI\",\"SE\",\"SE\",\"SE\",\"MI\",\"MI\",\"MI\",\"EN\",\"MI\",\"SE\",\"MI\",\"MI\",\"MI\",\"MI\",\"MI\",\"EN\",\"MI\"],\"yaxis\":\"y\",\"type\":\"scatter\"},{\"hovertemplate\":\"<b>%{hovertext}</b><br><br>Job=Computer Vision Engineer<br>work_year=2021<br>Salary=%{marker.size}<br>Experience=%{y}<extra></extra>\",\"hovertext\":[\"Computer Vision Engineer\"],\"legendgroup\":\"Computer Vision Engineer\",\"marker\":{\"color\":\"#19d3f3\",\"size\":[24000],\"sizemode\":\"area\",\"sizeref\":1500.0,\"symbol\":\"circle\"},\"mode\":\"markers\",\"name\":\"Computer Vision Engineer\",\"orientation\":\"h\",\"showlegend\":true,\"x\":[24000],\"xaxis\":\"x\",\"y\":[\"SE\"],\"yaxis\":\"y\",\"type\":\"scatter\"},{\"hovertemplate\":\"<b>%{hovertext}</b><br><br>Job=Data Science Manager<br>work_year=2021<br>Salary=%{marker.size}<br>Experience=%{y}<extra></extra>\",\"hovertext\":[\"Data Science Manager\",\"Data Science Manager\",\"Data Science Manager\",\"Data Science Manager\"],\"legendgroup\":\"Data Science Manager\",\"marker\":{\"color\":\"#FF6692\",\"size\":[240000,144000,152000,174000],\"sizemode\":\"area\",\"sizeref\":1500.0,\"symbol\":\"circle\"},\"mode\":\"markers\",\"name\":\"Data Science Manager\",\"orientation\":\"h\",\"showlegend\":true,\"x\":[240000,144000,152000,174000],\"xaxis\":\"x\",\"y\":[\"SE\",\"SE\",\"SE\",\"SE\"],\"yaxis\":\"y\",\"type\":\"scatter\"},{\"hovertemplate\":\"<b>%{hovertext}</b><br><br>Job=Head of Data<br>work_year=2021<br>Salary=%{marker.size}<br>Experience=%{y}<extra></extra>\",\"hovertext\":[\"Head of Data\",\"Head of Data\"],\"legendgroup\":\"Head of Data\",\"marker\":{\"color\":\"#B6E880\",\"size\":[235000,230000],\"sizemode\":\"area\",\"sizeref\":1500.0,\"symbol\":\"circle\"},\"mode\":\"markers\",\"name\":\"Head of Data\",\"orientation\":\"h\",\"showlegend\":true,\"x\":[235000,230000],\"xaxis\":\"x\",\"y\":[\"EX\",\"EX\"],\"yaxis\":\"y\",\"type\":\"scatter\"},{\"hovertemplate\":\"<b>%{hovertext}</b><br><br>Job=ML Engineer<br>work_year=2021<br>Salary=%{marker.size}<br>Experience=%{y}<extra></extra>\",\"hovertext\":[\"ML Engineer\",\"ML Engineer\"],\"legendgroup\":\"ML Engineer\",\"marker\":{\"color\":\"#FF97FF\",\"size\":[270000,256000],\"sizemode\":\"area\",\"sizeref\":1500.0,\"symbol\":\"circle\"},\"mode\":\"markers\",\"name\":\"ML Engineer\",\"orientation\":\"h\",\"showlegend\":true,\"x\":[270000,256000],\"xaxis\":\"x\",\"y\":[\"MI\",\"SE\"],\"yaxis\":\"y\",\"type\":\"scatter\"},{\"hovertemplate\":\"<b>%{hovertext}</b><br><br>Job=Data Analytics Engineer<br>work_year=2021<br>Salary=%{marker.size}<br>Experience=%{y}<extra></extra>\",\"hovertext\":[\"Data Analytics Engineer\",\"Data Analytics Engineer\"],\"legendgroup\":\"Data Analytics Engineer\",\"marker\":{\"color\":\"#FECB52\",\"size\":[110000,50000],\"sizemode\":\"area\",\"sizeref\":1500.0,\"symbol\":\"circle\"},\"mode\":\"markers\",\"name\":\"Data Analytics Engineer\",\"orientation\":\"h\",\"showlegend\":true,\"x\":[110000,50000],\"xaxis\":\"x\",\"y\":[\"MI\",\"SE\"],\"yaxis\":\"y\",\"type\":\"scatter\"},{\"hovertemplate\":\"<b>%{hovertext}</b><br><br>Job=AI Scientist<br>work_year=2021<br>Salary=%{marker.size}<br>Experience=%{y}<extra></extra>\",\"hovertext\":[\"AI Scientist\",\"AI Scientist\",\"AI Scientist\"],\"legendgroup\":\"AI Scientist\",\"marker\":{\"color\":\"#636efa\",\"size\":[12000,12000,55000],\"sizemode\":\"area\",\"sizeref\":1500.0,\"symbol\":\"circle\"},\"mode\":\"markers\",\"name\":\"AI Scientist\",\"orientation\":\"h\",\"showlegend\":true,\"x\":[12000,12000,55000],\"xaxis\":\"x\",\"y\":[\"EN\",\"EN\",\"SE\"],\"yaxis\":\"y\",\"type\":\"scatter\"},{\"hovertemplate\":\"<b>%{hovertext}</b><br><br>Job=Financial Data Analyst<br>work_year=2021<br>Salary=%{marker.size}<br>Experience=%{y}<extra></extra>\",\"hovertext\":[\"Financial Data Analyst\"],\"legendgroup\":\"Financial Data Analyst\",\"marker\":{\"color\":\"#EF553B\",\"size\":[450000],\"sizemode\":\"area\",\"sizeref\":1500.0,\"symbol\":\"circle\"},\"mode\":\"markers\",\"name\":\"Financial Data Analyst\",\"orientation\":\"h\",\"showlegend\":true,\"x\":[450000],\"xaxis\":\"x\",\"y\":[\"MI\"],\"yaxis\":\"y\",\"type\":\"scatter\"},{\"hovertemplate\":\"<b>%{hovertext}</b><br><br>Job=Computer Vision Software Engineer<br>work_year=2021<br>Salary=%{marker.size}<br>Experience=%{y}<extra></extra>\",\"hovertext\":[\"Computer Vision Software Engineer\"],\"legendgroup\":\"Computer Vision Software Engineer\",\"marker\":{\"color\":\"#00cc96\",\"size\":[70000],\"sizemode\":\"area\",\"sizeref\":1500.0,\"symbol\":\"circle\"},\"mode\":\"markers\",\"name\":\"Computer Vision Software Engineer\",\"orientation\":\"h\",\"showlegend\":true,\"x\":[70000],\"xaxis\":\"x\",\"y\":[\"EN\"],\"yaxis\":\"y\",\"type\":\"scatter\"},{\"hovertemplate\":\"<b>%{hovertext}</b><br><br>Job=Principal Data Engineer<br>work_year=2021<br>Salary=%{marker.size}<br>Experience=%{y}<extra></extra>\",\"hovertext\":[\"Principal Data Engineer\",\"Principal Data Engineer\",\"Principal Data Engineer\"],\"legendgroup\":\"Principal Data Engineer\",\"marker\":{\"color\":\"#ab63fa\",\"size\":[200000,185000,600000],\"sizemode\":\"area\",\"sizeref\":1500.0,\"symbol\":\"circle\"},\"mode\":\"markers\",\"name\":\"Principal Data Engineer\",\"orientation\":\"h\",\"showlegend\":true,\"x\":[200000,185000,600000],\"xaxis\":\"x\",\"y\":[\"SE\",\"SE\",\"EX\"],\"yaxis\":\"y\",\"type\":\"scatter\"},{\"hovertemplate\":\"<b>%{hovertext}</b><br><br>Job=Principal Data Scientist<br>work_year=2021<br>Salary=%{marker.size}<br>Experience=%{y}<extra></extra>\",\"hovertext\":[\"Principal Data Scientist\",\"Principal Data Scientist\",\"Principal Data Scientist\",\"Principal Data Scientist\"],\"legendgroup\":\"Principal Data Scientist\",\"marker\":{\"color\":\"#FFA15A\",\"size\":[151000,220000,235000,416000],\"sizemode\":\"area\",\"sizeref\":1500.0,\"symbol\":\"circle\"},\"mode\":\"markers\",\"name\":\"Principal Data Scientist\",\"orientation\":\"h\",\"showlegend\":true,\"x\":[151000,220000,235000,416000],\"xaxis\":\"x\",\"y\":[\"MI\",\"SE\",\"SE\",\"EX\"],\"yaxis\":\"y\",\"type\":\"scatter\"},{\"hovertemplate\":\"<b>%{hovertext}</b><br><br>Job=Machine Learning Developer<br>work_year=2021<br>Salary=%{marker.size}<br>Experience=%{y}<extra></extra>\",\"hovertext\":[\"Machine Learning Developer\"],\"legendgroup\":\"Machine Learning Developer\",\"marker\":{\"color\":\"#19d3f3\",\"size\":[100000],\"sizemode\":\"area\",\"sizeref\":1500.0,\"symbol\":\"circle\"},\"mode\":\"markers\",\"name\":\"Machine Learning Developer\",\"orientation\":\"h\",\"showlegend\":true,\"x\":[100000],\"xaxis\":\"x\",\"y\":[\"EN\"],\"yaxis\":\"y\",\"type\":\"scatter\"},{\"hovertemplate\":\"<b>%{hovertext}</b><br><br>Job=Applied Machine Learning Scientist<br>work_year=2021<br>Salary=%{marker.size}<br>Experience=%{y}<extra></extra>\",\"hovertext\":[\"Applied Machine Learning Scientist\",\"Applied Machine Learning Scientist\"],\"legendgroup\":\"Applied Machine Learning Scientist\",\"marker\":{\"color\":\"#FF6692\",\"size\":[38400,423000],\"sizemode\":\"area\",\"sizeref\":1500.0,\"symbol\":\"circle\"},\"mode\":\"markers\",\"name\":\"Applied Machine Learning Scientist\",\"orientation\":\"h\",\"showlegend\":true,\"x\":[38400,423000],\"xaxis\":\"x\",\"y\":[\"MI\",\"MI\"],\"yaxis\":\"y\",\"type\":\"scatter\"},{\"hovertemplate\":\"<b>%{hovertext}</b><br><br>Job=Data Engineering Manager<br>work_year=2021<br>Salary=%{marker.size}<br>Experience=%{y}<extra></extra>\",\"hovertext\":[\"Data Engineering Manager\",\"Data Engineering Manager\",\"Data Engineering Manager\"],\"legendgroup\":\"Data Engineering Manager\",\"marker\":{\"color\":\"#B6E880\",\"size\":[150000,153000,174000],\"sizemode\":\"area\",\"sizeref\":1500.0,\"symbol\":\"circle\"},\"mode\":\"markers\",\"name\":\"Data Engineering Manager\",\"orientation\":\"h\",\"showlegend\":true,\"x\":[150000,153000,174000],\"xaxis\":\"x\",\"y\":[\"SE\",\"SE\",\"SE\"],\"yaxis\":\"y\",\"type\":\"scatter\"},{\"hovertemplate\":\"<b>%{hovertext}</b><br><br>Job=Cloud Data Engineer<br>work_year=2021<br>Salary=%{marker.size}<br>Experience=%{y}<extra></extra>\",\"hovertext\":[\"Cloud Data Engineer\"],\"legendgroup\":\"Cloud Data Engineer\",\"marker\":{\"color\":\"#FF97FF\",\"size\":[160000],\"sizemode\":\"area\",\"sizeref\":1500.0,\"symbol\":\"circle\"},\"mode\":\"markers\",\"name\":\"Cloud Data Engineer\",\"orientation\":\"h\",\"showlegend\":true,\"x\":[160000],\"xaxis\":\"x\",\"y\":[\"SE\"],\"yaxis\":\"y\",\"type\":\"scatter\"},{\"hovertemplate\":\"<b>%{hovertext}</b><br><br>Job=Data Analytics Manager<br>work_year=2021<br>Salary=%{marker.size}<br>Experience=%{y}<extra></extra>\",\"hovertext\":[\"Data Analytics Manager\",\"Data Analytics Manager\",\"Data Analytics Manager\"],\"legendgroup\":\"Data Analytics Manager\",\"marker\":{\"color\":\"#FECB52\",\"size\":[120000,120000,140000],\"sizemode\":\"area\",\"sizeref\":1500.0,\"symbol\":\"circle\"},\"mode\":\"markers\",\"name\":\"Data Analytics Manager\",\"orientation\":\"h\",\"showlegend\":true,\"x\":[120000,120000,140000],\"xaxis\":\"x\",\"y\":[\"SE\",\"SE\",\"SE\"],\"yaxis\":\"y\",\"type\":\"scatter\"},{\"hovertemplate\":\"<b>%{hovertext}</b><br><br>Job=Head of Data Science<br>work_year=2021<br>Salary=%{marker.size}<br>Experience=%{y}<extra></extra>\",\"hovertext\":[\"Head of Data Science\",\"Head of Data Science\"],\"legendgroup\":\"Head of Data Science\",\"marker\":{\"color\":\"#636efa\",\"size\":[85000,110000],\"sizemode\":\"area\",\"sizeref\":1500.0,\"symbol\":\"circle\"},\"mode\":\"markers\",\"name\":\"Head of Data Science\",\"orientation\":\"h\",\"showlegend\":true,\"x\":[85000,110000],\"xaxis\":\"x\",\"y\":[\"EX\",\"MI\"],\"yaxis\":\"y\",\"type\":\"scatter\"},{\"hovertemplate\":\"<b>%{hovertext}</b><br><br>Job=Data Specialist<br>work_year=2021<br>Salary=%{marker.size}<br>Experience=%{y}<extra></extra>\",\"hovertext\":[\"Data Specialist\"],\"legendgroup\":\"Data Specialist\",\"marker\":{\"color\":\"#EF553B\",\"size\":[165000],\"sizemode\":\"area\",\"sizeref\":1500.0,\"symbol\":\"circle\"},\"mode\":\"markers\",\"name\":\"Data Specialist\",\"orientation\":\"h\",\"showlegend\":true,\"x\":[165000],\"xaxis\":\"x\",\"y\":[\"SE\"],\"yaxis\":\"y\",\"type\":\"scatter\"},{\"hovertemplate\":\"<b>%{hovertext}</b><br><br>Job=Data Architect<br>work_year=2021<br>Salary=%{marker.size}<br>Experience=%{y}<extra></extra>\",\"hovertext\":[\"Data Architect\",\"Data Architect\",\"Data Architect\"],\"legendgroup\":\"Data Architect\",\"marker\":{\"color\":\"#00cc96\",\"size\":[150000,170000,180000],\"sizemode\":\"area\",\"sizeref\":1500.0,\"symbol\":\"circle\"},\"mode\":\"markers\",\"name\":\"Data Architect\",\"orientation\":\"h\",\"showlegend\":true,\"x\":[150000,170000,180000],\"xaxis\":\"x\",\"y\":[\"MI\",\"MI\",\"MI\"],\"yaxis\":\"y\",\"type\":\"scatter\"},{\"hovertemplate\":\"<b>%{hovertext}</b><br><br>Job=Machine Learning Infrastructure Engineer<br>work_year=2021<br>Salary=%{marker.size}<br>Experience=%{y}<extra></extra>\",\"hovertext\":[\"Machine Learning Infrastructure Engineer\"],\"legendgroup\":\"Machine Learning Infrastructure Engineer\",\"marker\":{\"color\":\"#ab63fa\",\"size\":[195000],\"sizemode\":\"area\",\"sizeref\":1500.0,\"symbol\":\"circle\"},\"mode\":\"markers\",\"name\":\"Machine Learning Infrastructure Engineer\",\"orientation\":\"h\",\"showlegend\":true,\"x\":[195000],\"xaxis\":\"x\",\"y\":[\"SE\"],\"yaxis\":\"y\",\"type\":\"scatter\"},{\"hovertemplate\":\"<b>%{hovertext}</b><br><br>Job=Director of Data Engineering<br>work_year=2021<br>Salary=%{marker.size}<br>Experience=%{y}<extra></extra>\",\"hovertext\":[\"Director of Data Engineering\"],\"legendgroup\":\"Director of Data Engineering\",\"marker\":{\"color\":\"#FFA15A\",\"size\":[200000],\"sizemode\":\"area\",\"sizeref\":1500.0,\"symbol\":\"circle\"},\"mode\":\"markers\",\"name\":\"Director of Data Engineering\",\"orientation\":\"h\",\"showlegend\":true,\"x\":[200000],\"xaxis\":\"x\",\"y\":[\"SE\"],\"yaxis\":\"y\",\"type\":\"scatter\"},{\"hovertemplate\":\"<b>%{hovertext}</b><br><br>Job=Principal Data Analyst<br>work_year=2021<br>Salary=%{marker.size}<br>Experience=%{y}<extra></extra>\",\"hovertext\":[\"Principal Data Analyst\"],\"legendgroup\":\"Principal Data Analyst\",\"marker\":{\"color\":\"#19d3f3\",\"size\":[170000],\"sizemode\":\"area\",\"sizeref\":1500.0,\"symbol\":\"circle\"},\"mode\":\"markers\",\"name\":\"Principal Data Analyst\",\"orientation\":\"h\",\"showlegend\":true,\"x\":[170000],\"xaxis\":\"x\",\"y\":[\"SE\"],\"yaxis\":\"y\",\"type\":\"scatter\"},{\"hovertemplate\":\"<b>%{hovertext}</b><br><br>Job=Staff Data Scientist<br>work_year=2021<br>Salary=%{marker.size}<br>Experience=%{y}<extra></extra>\",\"hovertext\":[\"Staff Data Scientist\"],\"legendgroup\":\"Staff Data Scientist\",\"marker\":{\"color\":\"#FF6692\",\"size\":[105000],\"sizemode\":\"area\",\"sizeref\":1500.0,\"symbol\":\"circle\"},\"mode\":\"markers\",\"name\":\"Staff Data Scientist\",\"orientation\":\"h\",\"showlegend\":true,\"x\":[105000],\"xaxis\":\"x\",\"y\":[\"SE\"],\"yaxis\":\"y\",\"type\":\"scatter\"}],\"name\":\"2021\"},{\"data\":[{\"hovertemplate\":\"<b>%{hovertext}</b><br><br>Job=Machine Learning Scientist<br>work_year=2022<br>Salary=%{marker.size}<br>Experience=%{y}<extra></extra>\",\"hovertext\":[\"Machine Learning Scientist\",\"Machine Learning Scientist\",\"Machine Learning Scientist\"],\"legendgroup\":\"Machine Learning Scientist\",\"marker\":{\"color\":\"#636efa\",\"size\":[160000,112300,153000],\"sizemode\":\"area\",\"sizeref\":1500.0,\"symbol\":\"circle\"},\"mode\":\"markers\",\"name\":\"Machine Learning Scientist\",\"orientation\":\"h\",\"showlegend\":true,\"x\":[160000,112300,153000],\"xaxis\":\"x\",\"y\":[\"MI\",\"MI\",\"MI\"],\"yaxis\":\"y\",\"type\":\"scatter\"},{\"hovertemplate\":\"<b>%{hovertext}</b><br><br>Job=Machine Learning Engineer<br>work_year=2022<br>Salary=%{marker.size}<br>Experience=%{y}<extra></extra>\",\"hovertext\":[\"Machine Learning Engineer\",\"Machine Learning Engineer\",\"Machine Learning Engineer\",\"Machine Learning Engineer\",\"Machine Learning Engineer\",\"Machine Learning Engineer\",\"Machine Learning Engineer\",\"Machine Learning Engineer\",\"Machine Learning Engineer\",\"Machine Learning Engineer\",\"Machine Learning Engineer\"],\"legendgroup\":\"Machine Learning Engineer\",\"marker\":{\"color\":\"#00cc96\",\"size\":[189650,164996,189650,164996,120000,220000,120000,65000,120000,214000,192600],\"sizemode\":\"area\",\"sizeref\":1500.0,\"symbol\":\"circle\"},\"mode\":\"markers\",\"name\":\"Machine Learning Engineer\",\"orientation\":\"h\",\"showlegend\":true,\"x\":[189650,164996,189650,164996,120000,220000,120000,65000,120000,214000,192600],\"xaxis\":\"x\",\"y\":[\"SE\",\"SE\",\"SE\",\"SE\",\"MI\",\"SE\",\"SE\",\"SE\",\"SE\",\"SE\",\"SE\"],\"yaxis\":\"y\",\"type\":\"scatter\"},{\"hovertemplate\":\"<b>%{hovertext}</b><br><br>Job=Data Analyst<br>work_year=2022<br>Salary=%{marker.size}<br>Experience=%{y}<extra></extra>\",\"hovertext\":[\"Data Analyst\",\"Data Analyst\",\"Data Analyst\",\"Data Analyst\",\"Data Analyst\",\"Data Analyst\",\"Data Analyst\",\"Data Analyst\",\"Data Analyst\",\"Data Analyst\",\"Data Analyst\",\"Data Analyst\",\"Data Analyst\",\"Data Analyst\",\"Data Analyst\",\"Data Analyst\",\"Data Analyst\",\"Data Analyst\",\"Data Analyst\",\"Data Analyst\",\"Data Analyst\",\"Data Analyst\",\"Data Analyst\",\"Data Analyst\",\"Data Analyst\",\"Data Analyst\",\"Data Analyst\",\"Data Analyst\",\"Data Analyst\",\"Data Analyst\",\"Data Analyst\",\"Data Analyst\",\"Data Analyst\",\"Data Analyst\",\"Data Analyst\",\"Data Analyst\",\"Data Analyst\",\"Data Analyst\",\"Data Analyst\",\"Data Analyst\",\"Data Analyst\",\"Data Analyst\",\"Data Analyst\",\"Data Analyst\",\"Data Analyst\",\"Data Analyst\",\"Data Analyst\",\"Data Analyst\",\"Data Analyst\",\"Data Analyst\",\"Data Analyst\",\"Data Analyst\",\"Data Analyst\",\"Data Analyst\",\"Data Analyst\",\"Data Analyst\",\"Data Analyst\",\"Data Analyst\",\"Data Analyst\",\"Data Analyst\",\"Data Analyst\",\"Data Analyst\",\"Data Analyst\",\"Data Analyst\",\"Data Analyst\"],\"legendgroup\":\"Data Analyst\",\"marker\":{\"color\":\"#ab63fa\",\"size\":[155000,120600,102100,84900,99000,116000,106260,126500,90320,124190,130000,110000,170000,115500,112900,90320,112900,90320,167000,136600,109280,135000,130000,61300,130000,61300,58000,132000,128875,93700,164000,112900,90320,115934,81666,58000,135000,50000,20000,135000,100000,90320,85000,75000,112900,115934,81666,99050,116150,170000,80000,100000,69000,150075,126500,106260,105000,110925,99000,60000,170000,67000,52000,129000,150000],\"sizemode\":\"area\",\"sizeref\":1500.0,\"symbol\":\"circle\"},\"mode\":\"markers\",\"name\":\"Data Analyst\",\"orientation\":\"h\",\"showlegend\":true,\"x\":[155000,120600,102100,84900,99000,116000,106260,126500,90320,124190,130000,110000,170000,115500,112900,90320,112900,90320,167000,136600,109280,135000,130000,61300,130000,61300,58000,132000,128875,93700,164000,112900,90320,115934,81666,58000,135000,50000,20000,135000,100000,90320,85000,75000,112900,115934,81666,99050,116150,170000,80000,100000,69000,150075,126500,106260,105000,110925,99000,60000,170000,67000,52000,129000,150000],\"xaxis\":\"x\",\"y\":[\"SE\",\"SE\",\"SE\",\"SE\",\"SE\",\"SE\",\"MI\",\"MI\",\"SE\",\"SE\",\"EX\",\"EX\",\"SE\",\"MI\",\"SE\",\"SE\",\"SE\",\"SE\",\"MI\",\"SE\",\"SE\",\"SE\",\"SE\",\"SE\",\"SE\",\"SE\",\"MI\",\"SE\",\"SE\",\"SE\",\"SE\",\"SE\",\"SE\",\"SE\",\"SE\",\"MI\",\"MI\",\"MI\",\"MI\",\"SE\",\"SE\",\"SE\",\"MI\",\"MI\",\"SE\",\"SE\",\"SE\",\"SE\",\"SE\",\"SE\",\"SE\",\"SE\",\"SE\",\"SE\",\"SE\",\"SE\",\"SE\",\"SE\",\"SE\",\"SE\",\"SE\",\"EN\",\"EN\",\"SE\",\"SE\"],\"yaxis\":\"y\",\"type\":\"scatter\"},{\"hovertemplate\":\"<b>%{hovertext}</b><br><br>Job=Research Scientist<br>work_year=2022<br>Salary=%{marker.size}<br>Experience=%{y}<extra></extra>\",\"hovertext\":[\"Research Scientist\",\"Research Scientist\"],\"legendgroup\":\"Research Scientist\",\"marker\":{\"color\":\"#636efa\",\"size\":[144000,120000],\"sizemode\":\"area\",\"sizeref\":1500.0,\"symbol\":\"circle\"},\"mode\":\"markers\",\"name\":\"Research Scientist\",\"orientation\":\"h\",\"showlegend\":true,\"x\":[144000,120000],\"xaxis\":\"x\",\"y\":[\"SE\",\"EN\"],\"yaxis\":\"y\",\"type\":\"scatter\"},{\"hovertemplate\":\"<b>%{hovertext}</b><br><br>Job=Data Scientist<br>work_year=2022<br>Salary=%{marker.size}<br>Experience=%{y}<extra></extra>\",\"hovertext\":[\"Data Scientist\",\"Data Scientist\",\"Data Scientist\",\"Data Scientist\",\"Data Scientist\",\"Data Scientist\",\"Data Scientist\",\"Data Scientist\",\"Data Scientist\",\"Data Scientist\",\"Data Scientist\",\"Data Scientist\",\"Data Scientist\",\"Data Scientist\",\"Data Scientist\",\"Data Scientist\",\"Data Scientist\",\"Data Scientist\",\"Data Scientist\",\"Data Scientist\",\"Data Scientist\",\"Data Scientist\",\"Data Scientist\",\"Data Scientist\",\"Data Scientist\",\"Data Scientist\",\"Data Scientist\",\"Data Scientist\",\"Data Scientist\",\"Data Scientist\",\"Data Scientist\",\"Data Scientist\",\"Data Scientist\",\"Data Scientist\",\"Data Scientist\",\"Data Scientist\",\"Data Scientist\",\"Data Scientist\",\"Data Scientist\",\"Data Scientist\",\"Data Scientist\",\"Data Scientist\",\"Data Scientist\",\"Data Scientist\",\"Data Scientist\",\"Data Scientist\",\"Data Scientist\",\"Data Scientist\",\"Data Scientist\",\"Data Scientist\",\"Data Scientist\",\"Data Scientist\",\"Data Scientist\",\"Data Scientist\",\"Data Scientist\",\"Data Scientist\",\"Data Scientist\",\"Data Scientist\",\"Data Scientist\",\"Data Scientist\",\"Data Scientist\",\"Data Scientist\"],\"legendgroup\":\"Data Scientist\",\"marker\":{\"color\":\"#ab63fa\",\"size\":[130000,90000,136620,99360,146000,123000,165220,120160,180000,120000,95550,167000,123000,150000,211500,138600,170000,123000,215300,158200,180000,260000,180000,80000,140400,215300,104890,140000,220000,140000,185100,200000,120000,230000,100000,100000,100000,165000,40000,48000,135000,78000,141300,102100,205300,140400,176000,144000,205300,140400,140000,210000,140000,210000,140000,210000,140000,230000,150000,210000,160000,130000],\"sizemode\":\"area\",\"sizeref\":1500.0,\"symbol\":\"circle\"},\"mode\":\"markers\",\"name\":\"Data Scientist\",\"orientation\":\"h\",\"showlegend\":true,\"x\":[130000,90000,136620,99360,146000,123000,165220,120160,180000,120000,95550,167000,123000,150000,211500,138600,170000,123000,215300,158200,180000,260000,180000,80000,140400,215300,104890,140000,220000,140000,185100,200000,120000,230000,100000,100000,100000,165000,40000,48000,135000,78000,141300,102100,205300,140400,176000,144000,205300,140400,140000,210000,140000,210000,140000,210000,140000,230000,150000,210000,160000,130000],\"xaxis\":\"x\",\"y\":[\"MI\",\"MI\",\"SE\",\"SE\",\"SE\",\"SE\",\"SE\",\"SE\",\"SE\",\"SE\",\"SE\",\"SE\",\"SE\",\"SE\",\"SE\",\"SE\",\"SE\",\"SE\",\"SE\",\"SE\",\"SE\",\"SE\",\"SE\",\"SE\",\"SE\",\"SE\",\"SE\",\"SE\",\"SE\",\"SE\",\"SE\",\"MI\",\"MI\",\"SE\",\"EN\",\"MI\",\"SE\",\"SE\",\"EN\",\"MI\",\"MI\",\"MI\",\"MI\",\"MI\",\"SE\",\"SE\",\"SE\",\"SE\",\"SE\",\"SE\",\"SE\",\"SE\",\"SE\",\"SE\",\"SE\",\"SE\",\"SE\",\"SE\",\"SE\",\"SE\",\"MI\",\"MI\"],\"yaxis\":\"y\",\"type\":\"scatter\"},{\"hovertemplate\":\"<b>%{hovertext}</b><br><br>Job=Data Engineer<br>work_year=2022<br>Salary=%{marker.size}<br>Experience=%{y}<extra></extra>\",\"hovertext\":[\"Data Engineer\",\"Data Engineer\",\"Data Engineer\",\"Data Engineer\",\"Data Engineer\",\"Data Engineer\",\"Data Engineer\",\"Data Engineer\",\"Data Engineer\",\"Data Engineer\",\"Data Engineer\",\"Data Engineer\",\"Data Engineer\",\"Data Engineer\",\"Data Engineer\",\"Data Engineer\",\"Data Engineer\",\"Data Engineer\",\"Data Engineer\",\"Data Engineer\",\"Data Engineer\",\"Data Engineer\",\"Data Engineer\",\"Data Engineer\",\"Data Engineer\",\"Data Engineer\",\"Data Engineer\",\"Data Engineer\",\"Data Engineer\",\"Data Engineer\",\"Data Engineer\",\"Data Engineer\",\"Data Engineer\",\"Data Engineer\",\"Data Engineer\",\"Data Engineer\",\"Data Engineer\",\"Data Engineer\",\"Data Engineer\",\"Data Engineer\",\"Data Engineer\",\"Data Engineer\",\"Data Engineer\",\"Data Engineer\",\"Data Engineer\",\"Data Engineer\",\"Data Engineer\",\"Data Engineer\",\"Data Engineer\",\"Data Engineer\",\"Data Engineer\",\"Data Engineer\",\"Data Engineer\",\"Data Engineer\",\"Data Engineer\",\"Data Engineer\",\"Data Engineer\",\"Data Engineer\",\"Data Engineer\",\"Data Engineer\",\"Data Engineer\",\"Data Engineer\",\"Data Engineer\",\"Data Engineer\"],\"legendgroup\":\"Data Engineer\",\"marker\":{\"color\":\"#FFA15A\",\"size\":[135000,170000,150000,242000,200000,181940,132320,220110,160080,165400,132320,243900,128875,93700,156600,108800,113000,160000,136000,165400,136994,101570,132320,155000,209100,154600,175000,183600,63900,82900,100800,209100,154600,180000,80000,105000,120000,100000,324000,216000,210000,115000,65000,155000,206699,99100,130000,115000,110500,130000,160000,200100,160000,145000,70500,175100,140250,54000,100000,25000,220110,160080,154000,126000],\"sizemode\":\"area\",\"sizeref\":1500.0,\"symbol\":\"circle\"},\"mode\":\"markers\",\"name\":\"Data Engineer\",\"orientation\":\"h\",\"showlegend\":true,\"x\":[135000,170000,150000,242000,200000,181940,132320,220110,160080,165400,132320,243900,128875,93700,156600,108800,113000,160000,136000,165400,136994,101570,132320,155000,209100,154600,175000,183600,63900,82900,100800,209100,154600,180000,80000,105000,120000,100000,324000,216000,210000,115000,65000,155000,206699,99100,130000,115000,110500,130000,160000,200100,160000,145000,70500,175100,140250,54000,100000,25000,220110,160080,154000,126000],\"xaxis\":\"x\",\"y\":[\"SE\",\"MI\",\"MI\",\"EX\",\"EX\",\"SE\",\"SE\",\"SE\",\"SE\",\"SE\",\"SE\",\"SE\",\"SE\",\"SE\",\"SE\",\"SE\",\"SE\",\"SE\",\"SE\",\"SE\",\"SE\",\"SE\",\"SE\",\"SE\",\"SE\",\"SE\",\"SE\",\"SE\",\"MI\",\"MI\",\"SE\",\"SE\",\"SE\",\"SE\",\"SE\",\"SE\",\"EN\",\"SE\",\"EX\",\"EX\",\"SE\",\"SE\",\"EN\",\"SE\",\"MI\",\"MI\",\"SE\",\"SE\",\"SE\",\"SE\",\"SE\",\"SE\",\"SE\",\"SE\",\"SE\",\"SE\",\"SE\",\"SE\",\"SE\",\"SE\",\"SE\",\"SE\",\"SE\",\"SE\"],\"yaxis\":\"y\",\"type\":\"scatter\"},{\"hovertemplate\":\"<b>%{hovertext}</b><br><br>Job=Computer Vision Engineer<br>work_year=2022<br>Salary=%{marker.size}<br>Experience=%{y}<extra></extra>\",\"hovertext\":[\"Computer Vision Engineer\",\"Computer Vision Engineer\"],\"legendgroup\":\"Computer Vision Engineer\",\"marker\":{\"color\":\"#19d3f3\",\"size\":[125000,10000],\"sizemode\":\"area\",\"sizeref\":1500.0,\"symbol\":\"circle\"},\"mode\":\"markers\",\"name\":\"Computer Vision Engineer\",\"orientation\":\"h\",\"showlegend\":true,\"x\":[125000,10000],\"xaxis\":\"x\",\"y\":[\"EN\",\"EN\"],\"yaxis\":\"y\",\"type\":\"scatter\"},{\"hovertemplate\":\"<b>%{hovertext}</b><br><br>Job=Data Science Manager<br>work_year=2022<br>Salary=%{marker.size}<br>Experience=%{y}<extra></extra>\",\"hovertext\":[\"Data Science Manager\",\"Data Science Manager\",\"Data Science Manager\",\"Data Science Manager\",\"Data Science Manager\"],\"legendgroup\":\"Data Science Manager\",\"marker\":{\"color\":\"#FF6692\",\"size\":[161342,137141,241000,159000,152500],\"sizemode\":\"area\",\"sizeref\":1500.0,\"symbol\":\"circle\"},\"mode\":\"markers\",\"name\":\"Data Science Manager\",\"orientation\":\"h\",\"showlegend\":true,\"x\":[161342,137141,241000,159000,152500],\"xaxis\":\"x\",\"y\":[\"SE\",\"SE\",\"MI\",\"MI\",\"SE\"],\"yaxis\":\"y\",\"type\":\"scatter\"},{\"hovertemplate\":\"<b>%{hovertext}</b><br><br>Job=Head of Data<br>work_year=2022<br>Salary=%{marker.size}<br>Experience=%{y}<extra></extra>\",\"hovertext\":[\"Head of Data\"],\"legendgroup\":\"Head of Data\",\"marker\":{\"color\":\"#B6E880\",\"size\":[200000],\"sizemode\":\"area\",\"sizeref\":1500.0,\"symbol\":\"circle\"},\"mode\":\"markers\",\"name\":\"Head of Data\",\"orientation\":\"h\",\"showlegend\":true,\"x\":[200000],\"xaxis\":\"x\",\"y\":[\"SE\"],\"yaxis\":\"y\",\"type\":\"scatter\"},{\"hovertemplate\":\"<b>%{hovertext}</b><br><br>Job=Data Analytics Engineer<br>work_year=2022<br>Salary=%{marker.size}<br>Experience=%{y}<extra></extra>\",\"hovertext\":[\"Data Analytics Engineer\"],\"legendgroup\":\"Data Analytics Engineer\",\"marker\":{\"color\":\"#FECB52\",\"size\":[20000],\"sizemode\":\"area\",\"sizeref\":1500.0,\"symbol\":\"circle\"},\"mode\":\"markers\",\"name\":\"Data Analytics Engineer\",\"orientation\":\"h\",\"showlegend\":true,\"x\":[20000],\"xaxis\":\"x\",\"y\":[\"EN\"],\"yaxis\":\"y\",\"type\":\"scatter\"},{\"hovertemplate\":\"<b>%{hovertext}</b><br><br>Job=AI Scientist<br>work_year=2022<br>Salary=%{marker.size}<br>Experience=%{y}<extra></extra>\",\"hovertext\":[\"AI Scientist\",\"AI Scientist\"],\"legendgroup\":\"AI Scientist\",\"marker\":{\"color\":\"#636efa\",\"size\":[120000,200000],\"sizemode\":\"area\",\"sizeref\":1500.0,\"symbol\":\"circle\"},\"mode\":\"markers\",\"name\":\"AI Scientist\",\"orientation\":\"h\",\"showlegend\":true,\"x\":[120000,200000],\"xaxis\":\"x\",\"y\":[\"MI\",\"MI\"],\"yaxis\":\"y\",\"type\":\"scatter\"},{\"hovertemplate\":\"<b>%{hovertext}</b><br><br>Job=Financial Data Analyst<br>work_year=2022<br>Salary=%{marker.size}<br>Experience=%{y}<extra></extra>\",\"hovertext\":[\"Financial Data Analyst\"],\"legendgroup\":\"Financial Data Analyst\",\"marker\":{\"color\":\"#EF553B\",\"size\":[100000],\"sizemode\":\"area\",\"sizeref\":1500.0,\"symbol\":\"circle\"},\"mode\":\"markers\",\"name\":\"Financial Data Analyst\",\"orientation\":\"h\",\"showlegend\":true,\"x\":[100000],\"xaxis\":\"x\",\"y\":[\"EN\"],\"yaxis\":\"y\",\"type\":\"scatter\"},{\"hovertemplate\":\"<b>%{hovertext}</b><br><br>Job=Computer Vision Software Engineer<br>work_year=2022<br>Salary=%{marker.size}<br>Experience=%{y}<extra></extra>\",\"hovertext\":[\"Computer Vision Software Engineer\"],\"legendgroup\":\"Computer Vision Software Engineer\",\"marker\":{\"color\":\"#00cc96\",\"size\":[150000],\"sizemode\":\"area\",\"sizeref\":1500.0,\"symbol\":\"circle\"},\"mode\":\"markers\",\"name\":\"Computer Vision Software Engineer\",\"orientation\":\"h\",\"showlegend\":true,\"x\":[150000],\"xaxis\":\"x\",\"y\":[\"EN\"],\"yaxis\":\"y\",\"type\":\"scatter\"},{\"hovertemplate\":\"<b>%{hovertext}</b><br><br>Job=Applied Machine Learning Scientist<br>work_year=2022<br>Salary=%{marker.size}<br>Experience=%{y}<extra></extra>\",\"hovertext\":[\"Applied Machine Learning Scientist\"],\"legendgroup\":\"Applied Machine Learning Scientist\",\"marker\":{\"color\":\"#FF6692\",\"size\":[75000],\"sizemode\":\"area\",\"sizeref\":1500.0,\"symbol\":\"circle\"},\"mode\":\"markers\",\"name\":\"Applied Machine Learning Scientist\",\"orientation\":\"h\",\"showlegend\":true,\"x\":[75000],\"xaxis\":\"x\",\"y\":[\"MI\"],\"yaxis\":\"y\",\"type\":\"scatter\"},{\"hovertemplate\":\"<b>%{hovertext}</b><br><br>Job=Data Analytics Manager<br>work_year=2022<br>Salary=%{marker.size}<br>Experience=%{y}<extra></extra>\",\"hovertext\":[\"Data Analytics Manager\",\"Data Analytics Manager\",\"Data Analytics Manager\",\"Data Analytics Manager\"],\"legendgroup\":\"Data Analytics Manager\",\"marker\":{\"color\":\"#FECB52\",\"size\":[145000,105400,150260,109280],\"sizemode\":\"area\",\"sizeref\":1500.0,\"symbol\":\"circle\"},\"mode\":\"markers\",\"name\":\"Data Analytics Manager\",\"orientation\":\"h\",\"showlegend\":true,\"x\":[145000,105400,150260,109280],\"xaxis\":\"x\",\"y\":[\"SE\",\"SE\",\"SE\",\"SE\"],\"yaxis\":\"y\",\"type\":\"scatter\"},{\"hovertemplate\":\"<b>%{hovertext}</b><br><br>Job=Head of Data Science<br>work_year=2022<br>Salary=%{marker.size}<br>Experience=%{y}<extra></extra>\",\"hovertext\":[\"Head of Data Science\",\"Head of Data Science\"],\"legendgroup\":\"Head of Data Science\",\"marker\":{\"color\":\"#636efa\",\"size\":[224000,167875],\"sizemode\":\"area\",\"sizeref\":1500.0,\"symbol\":\"circle\"},\"mode\":\"markers\",\"name\":\"Head of Data Science\",\"orientation\":\"h\",\"showlegend\":true,\"x\":[224000,167875],\"xaxis\":\"x\",\"y\":[\"EX\",\"EX\"],\"yaxis\":\"y\",\"type\":\"scatter\"},{\"hovertemplate\":\"<b>%{hovertext}</b><br><br>Job=Data Architect<br>work_year=2022<br>Salary=%{marker.size}<br>Experience=%{y}<extra></extra>\",\"hovertext\":[\"Data Architect\",\"Data Architect\",\"Data Architect\",\"Data Architect\",\"Data Architect\",\"Data Architect\",\"Data Architect\",\"Data Architect\"],\"legendgroup\":\"Data Architect\",\"marker\":{\"color\":\"#00cc96\",\"size\":[192400,90700,208775,147800,266400,213120,192564,144854],\"sizemode\":\"area\",\"sizeref\":1500.0,\"symbol\":\"circle\"},\"mode\":\"markers\",\"name\":\"Data Architect\",\"orientation\":\"h\",\"showlegend\":true,\"x\":[192400,90700,208775,147800,266400,213120,192564,144854],\"xaxis\":\"x\",\"y\":[\"SE\",\"SE\",\"SE\",\"SE\",\"SE\",\"SE\",\"SE\",\"SE\"],\"yaxis\":\"y\",\"type\":\"scatter\"},{\"hovertemplate\":\"<b>%{hovertext}</b><br><br>Job=Principal Data Analyst<br>work_year=2022<br>Salary=%{marker.size}<br>Experience=%{y}<extra></extra>\",\"hovertext\":[\"Principal Data Analyst\"],\"legendgroup\":\"Principal Data Analyst\",\"marker\":{\"color\":\"#19d3f3\",\"size\":[75000],\"sizemode\":\"area\",\"sizeref\":1500.0,\"symbol\":\"circle\"},\"mode\":\"markers\",\"name\":\"Principal Data Analyst\",\"orientation\":\"h\",\"showlegend\":true,\"x\":[75000],\"xaxis\":\"x\",\"y\":[\"MI\"],\"yaxis\":\"y\",\"type\":\"scatter\"},{\"hovertemplate\":\"<b>%{hovertext}</b><br><br>Job=Analytics Engineer<br>work_year=2022<br>Salary=%{marker.size}<br>Experience=%{y}<extra></extra>\",\"hovertext\":[\"Analytics Engineer\",\"Analytics Engineer\",\"Analytics Engineer\",\"Analytics Engineer\"],\"legendgroup\":\"Analytics Engineer\",\"marker\":{\"color\":\"#B6E880\",\"size\":[175000,135000,205300,184700],\"sizemode\":\"area\",\"sizeref\":1500.0,\"symbol\":\"circle\"},\"mode\":\"markers\",\"name\":\"Analytics Engineer\",\"orientation\":\"h\",\"showlegend\":true,\"x\":[175000,135000,205300,184700],\"xaxis\":\"x\",\"y\":[\"EX\",\"EX\",\"SE\",\"SE\"],\"yaxis\":\"y\",\"type\":\"scatter\"},{\"hovertemplate\":\"<b>%{hovertext}</b><br><br>Job=Data Science Engineer<br>work_year=2022<br>Salary=%{marker.size}<br>Experience=%{y}<extra></extra>\",\"hovertext\":[\"Data Science Engineer\"],\"legendgroup\":\"Data Science Engineer\",\"marker\":{\"color\":\"#FF97FF\",\"size\":[60000],\"sizemode\":\"area\",\"sizeref\":1500.0,\"symbol\":\"circle\"},\"mode\":\"markers\",\"name\":\"Data Science Engineer\",\"orientation\":\"h\",\"showlegend\":true,\"x\":[60000],\"xaxis\":\"x\",\"y\":[\"SE\"],\"yaxis\":\"y\",\"type\":\"scatter\"},{\"hovertemplate\":\"<b>%{hovertext}</b><br><br>Job=Applied Data Scientist<br>work_year=2022<br>Salary=%{marker.size}<br>Experience=%{y}<extra></extra>\",\"hovertext\":[\"Applied Data Scientist\",\"Applied Data Scientist\",\"Applied Data Scientist\"],\"legendgroup\":\"Applied Data Scientist\",\"marker\":{\"color\":\"#FECB52\",\"size\":[157000,380000,177000],\"sizemode\":\"area\",\"sizeref\":1500.0,\"symbol\":\"circle\"},\"mode\":\"markers\",\"name\":\"Applied Data Scientist\",\"orientation\":\"h\",\"showlegend\":true,\"x\":[157000,380000,177000],\"xaxis\":\"x\",\"y\":[\"MI\",\"SE\",\"SE\"],\"yaxis\":\"y\",\"type\":\"scatter\"},{\"hovertemplate\":\"<b>%{hovertext}</b><br><br>Job=Data Analytics Lead<br>work_year=2022<br>Salary=%{marker.size}<br>Experience=%{y}<extra></extra>\",\"hovertext\":[\"Data Analytics Lead\"],\"legendgroup\":\"Data Analytics Lead\",\"marker\":{\"color\":\"#636efa\",\"size\":[405000],\"sizemode\":\"area\",\"sizeref\":1500.0,\"symbol\":\"circle\"},\"mode\":\"markers\",\"name\":\"Data Analytics Lead\",\"orientation\":\"h\",\"showlegend\":true,\"x\":[405000],\"xaxis\":\"x\",\"y\":[\"SE\"],\"yaxis\":\"y\",\"type\":\"scatter\"}],\"name\":\"2022\"}]);\n",
              "                        }).then(function(){\n",
              "                            \n",
              "var gd = document.getElementById('553bbb8a-a343-4c4b-87a7-62ff8b57e73b');\n",
              "var x = new MutationObserver(function (mutations, observer) {{\n",
              "        var display = window.getComputedStyle(gd).display;\n",
              "        if (!display || display === 'none') {{\n",
              "            console.log([gd, 'removed!']);\n",
              "            Plotly.purge(gd);\n",
              "            observer.disconnect();\n",
              "        }}\n",
              "}});\n",
              "\n",
              "// Listen for the removal of the full notebook cells\n",
              "var notebookContainer = gd.closest('#notebook-container');\n",
              "if (notebookContainer) {{\n",
              "    x.observe(notebookContainer, {childList: true});\n",
              "}}\n",
              "\n",
              "// Listen for the clearing of the current output cell\n",
              "var outputEl = gd.closest('.output');\n",
              "if (outputEl) {{\n",
              "    x.observe(outputEl, {childList: true});\n",
              "}}\n",
              "\n",
              "                        })                };                            </script>        </div>\n",
              "</body>\n",
              "</html>"
            ]
          },
          "metadata": {}
        }
      ]
    },
    {
      "cell_type": "markdown",
      "source": [
        "## **Ej.05 Sunburst ```px.sunburst()```...**"
      ],
      "metadata": {
        "id": "aIFXC2HAnu_L"
      },
      "id": "aIFXC2HAnu_L"
    },
    {
      "cell_type": "code",
      "source": [
        "px.sunburst(df, \n",
        "            path = ['work_year', 'job_title'],\n",
        "            values = 'salary_in_usd',\n",
        "            color = 'job_title',\n",
        "            hover_name = 'job_title',\n",
        "            title = 'Salary by positions and experience over years')"
      ],
      "metadata": {
        "colab": {
          "base_uri": "https://localhost:8080/",
          "height": 542
        },
        "id": "dEZ1dKNdmz04",
        "outputId": "daf0c4b1-d081-4d91-af27-370f46f72145"
      },
      "id": "dEZ1dKNdmz04",
      "execution_count": 44,
      "outputs": [
        {
          "output_type": "display_data",
          "data": {
            "text/html": [
              "<html>\n",
              "<head><meta charset=\"utf-8\" /></head>\n",
              "<body>\n",
              "    <div>            <script src=\"https://cdnjs.cloudflare.com/ajax/libs/mathjax/2.7.5/MathJax.js?config=TeX-AMS-MML_SVG\"></script><script type=\"text/javascript\">if (window.MathJax && window.MathJax.Hub && window.MathJax.Hub.Config) {window.MathJax.Hub.Config({SVG: {font: \"STIX-Web\"}});}</script>                <script type=\"text/javascript\">window.PlotlyConfig = {MathJaxConfig: 'local'};</script>\n",
              "        <script src=\"https://cdn.plot.ly/plotly-2.14.0.min.js\"></script>                <div id=\"16f9c4c4-aa2a-4db6-9093-4717d9e9048e\" class=\"plotly-graph-div\" style=\"height:525px; width:100%;\"></div>            <script type=\"text/javascript\">                                    window.PLOTLYENV=window.PLOTLYENV || {};                                    if (document.getElementById(\"16f9c4c4-aa2a-4db6-9093-4717d9e9048e\")) {                    Plotly.newPlot(                        \"16f9c4c4-aa2a-4db6-9093-4717d9e9048e\",                        [{\"branchvalues\":\"total\",\"customdata\":[[\"ML Engineer\"],[\"Head of Data\"],[\"Principal Data Scientist\"],[\"Data Science Manager\"],[\"Cloud Data Engineer\"],[\"Data Scientist\"],[\"Computer Vision Software Engineer\"],[\"Machine Learning Infrastructure Engineer\"],[\"Computer Vision Software Engineer\"],[\"Applied Machine Learning Scientist\"],[\"Product Data Analyst\"],[\"Data Engineer\"],[\"Head of Data Science\"],[\"Financial Data Analyst\"],[\"Machine Learning Engineer\"],[\"Lead Data Analyst\"],[\"Data Specialist\"],[\"Data Analytics Engineer\"],[\"Data Architect\"],[\"Big Data Engineer\"],[\"(?)\"],[\"Machine Learning Scientist\"],[\"Research Scientist\"],[\"Applied Data Scientist\"],[\"Head of Data Science\"],[\"Big Data Engineer\"],[\"Director of Data Science\"],[\"Data Analytics Manager\"],[\"Lead Data Scientist\"],[\"Lead Data Engineer\"],[\"Director of Data Engineering\"],[\"Lead Data Analyst\"],[\"Data Science Consultant\"],[\"Data Science Consultant\"],[\"Data Analytics Manager\"],[\"Machine Learning Engineer\"],[\"(?)\"],[\"Data Analyst\"],[\"(?)\"],[\"Data Science Manager\"],[\"Data Science Engineer\"],[\"Data Engineering Manager\"],[\"Data Engineer\"],[\"Data Engineer\"],[\"Data Architect\"],[\"Data Analytics Lead\"],[\"Machine Learning Engineer\"],[\"Research Scientist\"],[\"Staff Data Scientist\"],[\"Data Science Manager\"],[\"Lead Data Engineer\"],[\"Computer Vision Engineer\"],[\"Head of Data\"],[\"Data Scientist\"],[\"Director of Data Science\"],[\"BI Data Analyst\"],[\"BI Data Analyst\"],[\"Business Data Analyst\"],[\"Financial Data Analyst\"],[\"Applied Machine Learning Scientist\"],[\"Computer Vision Engineer\"],[\"Data Scientist\"],[\"Principal Data Engineer\"],[\"Analytics Engineer\"],[\"Data Analytics Engineer\"],[\"Data Analyst\"],[\"Principal Data Analyst\"],[\"Principal Data Analyst\"],[\"Machine Learning Developer\"],[\"AI Scientist\"],[\"Machine Learning Scientist\"],[\"Research Scientist\"],[\"Machine Learning Scientist\"],[\"AI Scientist\"],[\"Computer Vision Engineer\"],[\"Data Analyst\"]],\"domain\":{\"x\":[0.0,1.0],\"y\":[0.0,1.0]},\"hovertemplate\":\"<b>%{hovertext}</b><br><br>labels=%{label}<br>salary_in_usd=%{value}<br>parent=%{parent}<br>id=%{id}<br>job_title=%{customdata[0]}<extra></extra>\",\"hovertext\":[\"ML Engineer\",\"Head of Data\",\"Principal Data Scientist\",\"Data Science Manager\",\"Cloud Data Engineer\",\"Data Scientist\",\"Computer Vision Software Engineer\",\"Machine Learning Infrastructure Engineer\",\"Computer Vision Software Engineer\",\"Applied Machine Learning Scientist\",\"Product Data Analyst\",\"Data Engineer\",\"Head of Data Science\",\"Financial Data Analyst\",\"Machine Learning Engineer\",\"Lead Data Analyst\",\"Data Specialist\",\"Data Analytics Engineer\",\"Data Architect\",\"Big Data Engineer\",\"(?)\",\"Machine Learning Scientist\",\"Research Scientist\",\"Applied Data Scientist\",\"Head of Data Science\",\"Big Data Engineer\",\"Director of Data Science\",\"Data Analytics Manager\",\"Lead Data Scientist\",\"Lead Data Engineer\",\"Director of Data Engineering\",\"Lead Data Analyst\",\"Data Science Consultant\",\"Data Science Consultant\",\"Data Analytics Manager\",\"Machine Learning Engineer\",\"(?)\",\"Data Analyst\",\"(?)\",\"Data Science Manager\",\"Data Science Engineer\",\"Data Engineering Manager\",\"Data Engineer\",\"Data Engineer\",\"Data Architect\",\"Data Analytics Lead\",\"Machine Learning Engineer\",\"Research Scientist\",\"Staff Data Scientist\",\"Data Science Manager\",\"Lead Data Engineer\",\"Computer Vision Engineer\",\"Head of Data\",\"Data Scientist\",\"Director of Data Science\",\"BI Data Analyst\",\"BI Data Analyst\",\"Business Data Analyst\",\"Financial Data Analyst\",\"Applied Machine Learning Scientist\",\"Computer Vision Engineer\",\"Data Scientist\",\"Principal Data Engineer\",\"Analytics Engineer\",\"Data Analytics Engineer\",\"Data Analyst\",\"Principal Data Analyst\",\"Principal Data Analyst\",\"Machine Learning Developer\",\"AI Scientist\",\"Machine Learning Scientist\",\"Research Scientist\",\"Machine Learning Scientist\",\"AI Scientist\",\"Computer Vision Engineer\",\"Data Analyst\"],\"ids\":[\"2021/ML Engineer\",\"2021/Head of Data\",\"2021/Principal Data Scientist\",\"2022/Data Science Manager\",\"2021/Cloud Data Engineer\",\"2021/Data Scientist\",\"2022/Computer Vision Software Engineer\",\"2021/Machine Learning Infrastructure Engineer\",\"2021/Computer Vision Software Engineer\",\"2022/Applied Machine Learning Scientist\",\"2020/Product Data Analyst\",\"2020/Data Engineer\",\"2021/Head of Data Science\",\"2021/Financial Data Analyst\",\"2021/Machine Learning Engineer\",\"2021/Lead Data Analyst\",\"2021/Data Specialist\",\"2021/Data Analytics Engineer\",\"2022/Data Architect\",\"2021/Big Data Engineer\",\"2020\",\"2021/Machine Learning Scientist\",\"2021/Research Scientist\",\"2022/Applied Data Scientist\",\"2022/Head of Data Science\",\"2020/Big Data Engineer\",\"2020/Director of Data Science\",\"2022/Data Analytics Manager\",\"2020/Lead Data Scientist\",\"2021/Lead Data Engineer\",\"2021/Director of Data Engineering\",\"2020/Lead Data Analyst\",\"2020/Data Science Consultant\",\"2021/Data Science Consultant\",\"2021/Data Analytics Manager\",\"2022/Machine Learning Engineer\",\"2022\",\"2021/Data Analyst\",\"2021\",\"2020/Data Science Manager\",\"2022/Data Science Engineer\",\"2021/Data Engineering Manager\",\"2022/Data Engineer\",\"2021/Data Engineer\",\"2021/Data Architect\",\"2022/Data Analytics Lead\",\"2020/Machine Learning Engineer\",\"2020/Research Scientist\",\"2021/Staff Data Scientist\",\"2021/Data Science Manager\",\"2020/Lead Data Engineer\",\"2021/Computer Vision Engineer\",\"2022/Head of Data\",\"2020/Data Scientist\",\"2021/Director of Data Science\",\"2021/BI Data Analyst\",\"2020/BI Data Analyst\",\"2020/Business Data Analyst\",\"2022/Financial Data Analyst\",\"2021/Applied Machine Learning Scientist\",\"2020/Computer Vision Engineer\",\"2022/Data Scientist\",\"2021/Principal Data Engineer\",\"2022/Analytics Engineer\",\"2022/Data Analytics Engineer\",\"2022/Data Analyst\",\"2022/Principal Data Analyst\",\"2021/Principal Data Analyst\",\"2021/Machine Learning Developer\",\"2021/AI Scientist\",\"2020/Machine Learning Scientist\",\"2022/Research Scientist\",\"2022/Machine Learning Scientist\",\"2022/AI Scientist\",\"2022/Computer Vision Engineer\",\"2020/Data Analyst\"],\"labels\":[\"ML Engineer\",\"Head of Data\",\"Principal Data Scientist\",\"Data Science Manager\",\"Cloud Data Engineer\",\"Data Scientist\",\"Computer Vision Software Engineer\",\"Machine Learning Infrastructure Engineer\",\"Computer Vision Software Engineer\",\"Applied Machine Learning Scientist\",\"Product Data Analyst\",\"Data Engineer\",\"Head of Data Science\",\"Financial Data Analyst\",\"Machine Learning Engineer\",\"Lead Data Analyst\",\"Data Specialist\",\"Data Analytics Engineer\",\"Data Architect\",\"Big Data Engineer\",\"2020\",\"Machine Learning Scientist\",\"Research Scientist\",\"Applied Data Scientist\",\"Head of Data Science\",\"Big Data Engineer\",\"Director of Data Science\",\"Data Analytics Manager\",\"Lead Data Scientist\",\"Lead Data Engineer\",\"Director of Data Engineering\",\"Lead Data Analyst\",\"Data Science Consultant\",\"Data Science Consultant\",\"Data Analytics Manager\",\"Machine Learning Engineer\",\"2022\",\"Data Analyst\",\"2021\",\"Data Science Manager\",\"Data Science Engineer\",\"Data Engineering Manager\",\"Data Engineer\",\"Data Engineer\",\"Data Architect\",\"Data Analytics Lead\",\"Machine Learning Engineer\",\"Research Scientist\",\"Staff Data Scientist\",\"Data Science Manager\",\"Lead Data Engineer\",\"Computer Vision Engineer\",\"Head of Data\",\"Data Scientist\",\"Director of Data Science\",\"BI Data Analyst\",\"BI Data Analyst\",\"Business Data Analyst\",\"Financial Data Analyst\",\"Applied Machine Learning Scientist\",\"Computer Vision Engineer\",\"Data Scientist\",\"Principal Data Engineer\",\"Analytics Engineer\",\"Data Analytics Engineer\",\"Data Analyst\",\"Principal Data Analyst\",\"Principal Data Analyst\",\"Machine Learning Developer\",\"AI Scientist\",\"Machine Learning Scientist\",\"Research Scientist\",\"Machine Learning Scientist\",\"AI Scientist\",\"Computer Vision Engineer\",\"Data Analyst\"],\"marker\":{\"colors\":[\"#636efa\",\"#EF553B\",\"#00cc96\",\"#ab63fa\",\"#FFA15A\",\"#19d3f3\",\"#FF6692\",\"#B6E880\",\"#FF6692\",\"#FF97FF\",\"#FECB52\",\"#636efa\",\"#EF553B\",\"#00cc96\",\"#ab63fa\",\"#FFA15A\",\"#19d3f3\",\"#FF6692\",\"#B6E880\",\"#FF97FF\",\"#FECB52\",\"#636efa\",\"#EF553B\",\"#00cc96\",\"#EF553B\",\"#FF97FF\",\"#ab63fa\",\"#FFA15A\",\"#19d3f3\",\"#FF6692\",\"#B6E880\",\"#FFA15A\",\"#FF97FF\",\"#FF97FF\",\"#FFA15A\",\"#ab63fa\",\"#FECB52\",\"#FECB52\",\"#FECB52\",\"#ab63fa\",\"#636efa\",\"#EF553B\",\"#636efa\",\"#636efa\",\"#B6E880\",\"#00cc96\",\"#ab63fa\",\"#EF553B\",\"#ab63fa\",\"#ab63fa\",\"#FF6692\",\"#FFA15A\",\"#EF553B\",\"#19d3f3\",\"#ab63fa\",\"#19d3f3\",\"#19d3f3\",\"#FF6692\",\"#00cc96\",\"#FF97FF\",\"#FFA15A\",\"#19d3f3\",\"#B6E880\",\"#FF97FF\",\"#FF6692\",\"#FECB52\",\"#FECB52\",\"#FECB52\",\"#636efa\",\"#EF553B\",\"#636efa\",\"#EF553B\",\"#636efa\",\"#EF553B\",\"#FFA15A\",\"#FECB52\"]},\"name\":\"\",\"parents\":[\"2021\",\"2021\",\"2021\",\"2022\",\"2021\",\"2021\",\"2022\",\"2021\",\"2021\",\"2022\",\"2020\",\"2020\",\"2021\",\"2021\",\"2021\",\"2021\",\"2021\",\"2021\",\"2022\",\"2021\",\"\",\"2021\",\"2021\",\"2022\",\"2022\",\"2020\",\"2020\",\"2022\",\"2020\",\"2021\",\"2021\",\"2020\",\"2020\",\"2021\",\"2021\",\"2022\",\"\",\"2021\",\"\",\"2020\",\"2022\",\"2021\",\"2022\",\"2021\",\"2021\",\"2022\",\"2020\",\"2020\",\"2021\",\"2021\",\"2020\",\"2021\",\"2022\",\"2020\",\"2021\",\"2021\",\"2020\",\"2020\",\"2022\",\"2021\",\"2020\",\"2022\",\"2021\",\"2022\",\"2022\",\"2022\",\"2022\",\"2021\",\"2021\",\"2021\",\"2020\",\"2022\",\"2022\",\"2022\",\"2022\",\"2020\"],\"values\":[526000,465000,1022000,850983,160000,1761900,150000,195000,70000,75000,20000,534800,195000,450000,791844,170000,165000,160000,1456613,78000,4809110,582000,219999,714000,391875,70000,325000,509940,305000,436000,200000,87000,103000,90000,380000,1760892,34352436,1095000,15469840,190200,60000,477000,9406368,1913425,500000,405000,538000,492000,105000,710000,181000,24000,200000,1044110,418000,314272,98000,235000,100000,461400,60000,9349000,985000,700000,20000,6983465,75000,170000,100000,79000,260000,264000,425300,320000,135000,266000],\"type\":\"sunburst\"}],                        {\"template\":{\"data\":{\"histogram2dcontour\":[{\"type\":\"histogram2dcontour\",\"colorbar\":{\"outlinewidth\":0,\"ticks\":\"\"},\"colorscale\":[[0.0,\"#0d0887\"],[0.1111111111111111,\"#46039f\"],[0.2222222222222222,\"#7201a8\"],[0.3333333333333333,\"#9c179e\"],[0.4444444444444444,\"#bd3786\"],[0.5555555555555556,\"#d8576b\"],[0.6666666666666666,\"#ed7953\"],[0.7777777777777778,\"#fb9f3a\"],[0.8888888888888888,\"#fdca26\"],[1.0,\"#f0f921\"]]}],\"choropleth\":[{\"type\":\"choropleth\",\"colorbar\":{\"outlinewidth\":0,\"ticks\":\"\"}}],\"histogram2d\":[{\"type\":\"histogram2d\",\"colorbar\":{\"outlinewidth\":0,\"ticks\":\"\"},\"colorscale\":[[0.0,\"#0d0887\"],[0.1111111111111111,\"#46039f\"],[0.2222222222222222,\"#7201a8\"],[0.3333333333333333,\"#9c179e\"],[0.4444444444444444,\"#bd3786\"],[0.5555555555555556,\"#d8576b\"],[0.6666666666666666,\"#ed7953\"],[0.7777777777777778,\"#fb9f3a\"],[0.8888888888888888,\"#fdca26\"],[1.0,\"#f0f921\"]]}],\"heatmap\":[{\"type\":\"heatmap\",\"colorbar\":{\"outlinewidth\":0,\"ticks\":\"\"},\"colorscale\":[[0.0,\"#0d0887\"],[0.1111111111111111,\"#46039f\"],[0.2222222222222222,\"#7201a8\"],[0.3333333333333333,\"#9c179e\"],[0.4444444444444444,\"#bd3786\"],[0.5555555555555556,\"#d8576b\"],[0.6666666666666666,\"#ed7953\"],[0.7777777777777778,\"#fb9f3a\"],[0.8888888888888888,\"#fdca26\"],[1.0,\"#f0f921\"]]}],\"heatmapgl\":[{\"type\":\"heatmapgl\",\"colorbar\":{\"outlinewidth\":0,\"ticks\":\"\"},\"colorscale\":[[0.0,\"#0d0887\"],[0.1111111111111111,\"#46039f\"],[0.2222222222222222,\"#7201a8\"],[0.3333333333333333,\"#9c179e\"],[0.4444444444444444,\"#bd3786\"],[0.5555555555555556,\"#d8576b\"],[0.6666666666666666,\"#ed7953\"],[0.7777777777777778,\"#fb9f3a\"],[0.8888888888888888,\"#fdca26\"],[1.0,\"#f0f921\"]]}],\"contourcarpet\":[{\"type\":\"contourcarpet\",\"colorbar\":{\"outlinewidth\":0,\"ticks\":\"\"}}],\"contour\":[{\"type\":\"contour\",\"colorbar\":{\"outlinewidth\":0,\"ticks\":\"\"},\"colorscale\":[[0.0,\"#0d0887\"],[0.1111111111111111,\"#46039f\"],[0.2222222222222222,\"#7201a8\"],[0.3333333333333333,\"#9c179e\"],[0.4444444444444444,\"#bd3786\"],[0.5555555555555556,\"#d8576b\"],[0.6666666666666666,\"#ed7953\"],[0.7777777777777778,\"#fb9f3a\"],[0.8888888888888888,\"#fdca26\"],[1.0,\"#f0f921\"]]}],\"surface\":[{\"type\":\"surface\",\"colorbar\":{\"outlinewidth\":0,\"ticks\":\"\"},\"colorscale\":[[0.0,\"#0d0887\"],[0.1111111111111111,\"#46039f\"],[0.2222222222222222,\"#7201a8\"],[0.3333333333333333,\"#9c179e\"],[0.4444444444444444,\"#bd3786\"],[0.5555555555555556,\"#d8576b\"],[0.6666666666666666,\"#ed7953\"],[0.7777777777777778,\"#fb9f3a\"],[0.8888888888888888,\"#fdca26\"],[1.0,\"#f0f921\"]]}],\"mesh3d\":[{\"type\":\"mesh3d\",\"colorbar\":{\"outlinewidth\":0,\"ticks\":\"\"}}],\"scatter\":[{\"fillpattern\":{\"fillmode\":\"overlay\",\"size\":10,\"solidity\":0.2},\"type\":\"scatter\"}],\"parcoords\":[{\"type\":\"parcoords\",\"line\":{\"colorbar\":{\"outlinewidth\":0,\"ticks\":\"\"}}}],\"scatterpolargl\":[{\"type\":\"scatterpolargl\",\"marker\":{\"colorbar\":{\"outlinewidth\":0,\"ticks\":\"\"}}}],\"bar\":[{\"error_x\":{\"color\":\"#2a3f5f\"},\"error_y\":{\"color\":\"#2a3f5f\"},\"marker\":{\"line\":{\"color\":\"#E5ECF6\",\"width\":0.5},\"pattern\":{\"fillmode\":\"overlay\",\"size\":10,\"solidity\":0.2}},\"type\":\"bar\"}],\"scattergeo\":[{\"type\":\"scattergeo\",\"marker\":{\"colorbar\":{\"outlinewidth\":0,\"ticks\":\"\"}}}],\"scatterpolar\":[{\"type\":\"scatterpolar\",\"marker\":{\"colorbar\":{\"outlinewidth\":0,\"ticks\":\"\"}}}],\"histogram\":[{\"marker\":{\"pattern\":{\"fillmode\":\"overlay\",\"size\":10,\"solidity\":0.2}},\"type\":\"histogram\"}],\"scattergl\":[{\"type\":\"scattergl\",\"marker\":{\"colorbar\":{\"outlinewidth\":0,\"ticks\":\"\"}}}],\"scatter3d\":[{\"type\":\"scatter3d\",\"line\":{\"colorbar\":{\"outlinewidth\":0,\"ticks\":\"\"}},\"marker\":{\"colorbar\":{\"outlinewidth\":0,\"ticks\":\"\"}}}],\"scattermapbox\":[{\"type\":\"scattermapbox\",\"marker\":{\"colorbar\":{\"outlinewidth\":0,\"ticks\":\"\"}}}],\"scatterternary\":[{\"type\":\"scatterternary\",\"marker\":{\"colorbar\":{\"outlinewidth\":0,\"ticks\":\"\"}}}],\"scattercarpet\":[{\"type\":\"scattercarpet\",\"marker\":{\"colorbar\":{\"outlinewidth\":0,\"ticks\":\"\"}}}],\"carpet\":[{\"aaxis\":{\"endlinecolor\":\"#2a3f5f\",\"gridcolor\":\"white\",\"linecolor\":\"white\",\"minorgridcolor\":\"white\",\"startlinecolor\":\"#2a3f5f\"},\"baxis\":{\"endlinecolor\":\"#2a3f5f\",\"gridcolor\":\"white\",\"linecolor\":\"white\",\"minorgridcolor\":\"white\",\"startlinecolor\":\"#2a3f5f\"},\"type\":\"carpet\"}],\"table\":[{\"cells\":{\"fill\":{\"color\":\"#EBF0F8\"},\"line\":{\"color\":\"white\"}},\"header\":{\"fill\":{\"color\":\"#C8D4E3\"},\"line\":{\"color\":\"white\"}},\"type\":\"table\"}],\"barpolar\":[{\"marker\":{\"line\":{\"color\":\"#E5ECF6\",\"width\":0.5},\"pattern\":{\"fillmode\":\"overlay\",\"size\":10,\"solidity\":0.2}},\"type\":\"barpolar\"}],\"pie\":[{\"automargin\":true,\"type\":\"pie\"}]},\"layout\":{\"autotypenumbers\":\"strict\",\"colorway\":[\"#636efa\",\"#EF553B\",\"#00cc96\",\"#ab63fa\",\"#FFA15A\",\"#19d3f3\",\"#FF6692\",\"#B6E880\",\"#FF97FF\",\"#FECB52\"],\"font\":{\"color\":\"#2a3f5f\"},\"hovermode\":\"closest\",\"hoverlabel\":{\"align\":\"left\"},\"paper_bgcolor\":\"white\",\"plot_bgcolor\":\"#E5ECF6\",\"polar\":{\"bgcolor\":\"#E5ECF6\",\"angularaxis\":{\"gridcolor\":\"white\",\"linecolor\":\"white\",\"ticks\":\"\"},\"radialaxis\":{\"gridcolor\":\"white\",\"linecolor\":\"white\",\"ticks\":\"\"}},\"ternary\":{\"bgcolor\":\"#E5ECF6\",\"aaxis\":{\"gridcolor\":\"white\",\"linecolor\":\"white\",\"ticks\":\"\"},\"baxis\":{\"gridcolor\":\"white\",\"linecolor\":\"white\",\"ticks\":\"\"},\"caxis\":{\"gridcolor\":\"white\",\"linecolor\":\"white\",\"ticks\":\"\"}},\"coloraxis\":{\"colorbar\":{\"outlinewidth\":0,\"ticks\":\"\"}},\"colorscale\":{\"sequential\":[[0.0,\"#0d0887\"],[0.1111111111111111,\"#46039f\"],[0.2222222222222222,\"#7201a8\"],[0.3333333333333333,\"#9c179e\"],[0.4444444444444444,\"#bd3786\"],[0.5555555555555556,\"#d8576b\"],[0.6666666666666666,\"#ed7953\"],[0.7777777777777778,\"#fb9f3a\"],[0.8888888888888888,\"#fdca26\"],[1.0,\"#f0f921\"]],\"sequentialminus\":[[0.0,\"#0d0887\"],[0.1111111111111111,\"#46039f\"],[0.2222222222222222,\"#7201a8\"],[0.3333333333333333,\"#9c179e\"],[0.4444444444444444,\"#bd3786\"],[0.5555555555555556,\"#d8576b\"],[0.6666666666666666,\"#ed7953\"],[0.7777777777777778,\"#fb9f3a\"],[0.8888888888888888,\"#fdca26\"],[1.0,\"#f0f921\"]],\"diverging\":[[0,\"#8e0152\"],[0.1,\"#c51b7d\"],[0.2,\"#de77ae\"],[0.3,\"#f1b6da\"],[0.4,\"#fde0ef\"],[0.5,\"#f7f7f7\"],[0.6,\"#e6f5d0\"],[0.7,\"#b8e186\"],[0.8,\"#7fbc41\"],[0.9,\"#4d9221\"],[1,\"#276419\"]]},\"xaxis\":{\"gridcolor\":\"white\",\"linecolor\":\"white\",\"ticks\":\"\",\"title\":{\"standoff\":15},\"zerolinecolor\":\"white\",\"automargin\":true,\"zerolinewidth\":2},\"yaxis\":{\"gridcolor\":\"white\",\"linecolor\":\"white\",\"ticks\":\"\",\"title\":{\"standoff\":15},\"zerolinecolor\":\"white\",\"automargin\":true,\"zerolinewidth\":2},\"scene\":{\"xaxis\":{\"backgroundcolor\":\"#E5ECF6\",\"gridcolor\":\"white\",\"linecolor\":\"white\",\"showbackground\":true,\"ticks\":\"\",\"zerolinecolor\":\"white\",\"gridwidth\":2},\"yaxis\":{\"backgroundcolor\":\"#E5ECF6\",\"gridcolor\":\"white\",\"linecolor\":\"white\",\"showbackground\":true,\"ticks\":\"\",\"zerolinecolor\":\"white\",\"gridwidth\":2},\"zaxis\":{\"backgroundcolor\":\"#E5ECF6\",\"gridcolor\":\"white\",\"linecolor\":\"white\",\"showbackground\":true,\"ticks\":\"\",\"zerolinecolor\":\"white\",\"gridwidth\":2}},\"shapedefaults\":{\"line\":{\"color\":\"#2a3f5f\"}},\"annotationdefaults\":{\"arrowcolor\":\"#2a3f5f\",\"arrowhead\":0,\"arrowwidth\":1},\"geo\":{\"bgcolor\":\"white\",\"landcolor\":\"#E5ECF6\",\"subunitcolor\":\"white\",\"showland\":true,\"showlakes\":true,\"lakecolor\":\"white\"},\"title\":{\"x\":0.05},\"mapbox\":{\"style\":\"light\"}}},\"legend\":{\"tracegroupgap\":0},\"title\":{\"text\":\"Salary by positions and experience over years\"}},                        {\"responsive\": true}                    ).then(function(){\n",
              "                            \n",
              "var gd = document.getElementById('16f9c4c4-aa2a-4db6-9093-4717d9e9048e');\n",
              "var x = new MutationObserver(function (mutations, observer) {{\n",
              "        var display = window.getComputedStyle(gd).display;\n",
              "        if (!display || display === 'none') {{\n",
              "            console.log([gd, 'removed!']);\n",
              "            Plotly.purge(gd);\n",
              "            observer.disconnect();\n",
              "        }}\n",
              "}});\n",
              "\n",
              "// Listen for the removal of the full notebook cells\n",
              "var notebookContainer = gd.closest('#notebook-container');\n",
              "if (notebookContainer) {{\n",
              "    x.observe(notebookContainer, {childList: true});\n",
              "}}\n",
              "\n",
              "// Listen for the clearing of the current output cell\n",
              "var outputEl = gd.closest('.output');\n",
              "if (outputEl) {{\n",
              "    x.observe(outputEl, {childList: true});\n",
              "}}\n",
              "\n",
              "                        })                };                            </script>        </div>\n",
              "</body>\n",
              "</html>"
            ]
          },
          "metadata": {}
        }
      ]
    },
    {
      "cell_type": "markdown",
      "source": [
        "![nenunenu](https://emojipedia-us.s3.dualstack.us-west-1.amazonaws.com/thumbs/60/apple/124/smiling-face-with-smiling-eyes_1f60a.png)"
      ],
      "metadata": {
        "id": "d9A5bkmWp0pE"
      },
      "id": "d9A5bkmWp0pE"
    }
  ],
  "metadata": {
    "kernelspec": {
      "display_name": "Python 3 (ipykernel)",
      "language": "python",
      "name": "python3"
    },
    "language_info": {
      "codemirror_mode": {
        "name": "ipython",
        "version": 3
      },
      "file_extension": ".py",
      "mimetype": "text/x-python",
      "name": "python",
      "nbconvert_exporter": "python",
      "pygments_lexer": "ipython3",
      "version": "3.10.2"
    },
    "colab": {
      "provenance": [],
      "collapsed_sections": [],
      "toc_visible": true,
      "include_colab_link": true
    }
  },
  "nbformat": 4,
  "nbformat_minor": 5
}