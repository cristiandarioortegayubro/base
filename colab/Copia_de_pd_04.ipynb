{
  "cells": [
    {
      "cell_type": "markdown",
      "metadata": {
        "id": "view-in-github",
        "colab_type": "text"
      },
      "source": [
        "<a href=\"https://colab.research.google.com/github/cristiandarioortegayubro/base/blob/main/colab/Copia_de_pd_04.ipynb\" target=\"_parent\"><img src=\"https://colab.research.google.com/assets/colab-badge.svg\" alt=\"Open In Colab\"/></a>"
      ]
    },
    {
      "cell_type": "markdown",
      "id": "4c717ee4-512e-4920-80c8-15456130c886",
      "metadata": {
        "id": "4c717ee4-512e-4920-80c8-15456130c886"
      },
      "source": [
        "\n",
        "![pandas](https://upload.wikimedia.org/wikipedia/commons/thumb/e/ed/Pandas_logo.svg/250px-Pandas_logo.svg.png)"
      ]
    },
    {
      "cell_type": "markdown",
      "id": "319c461f-2d23-4921-8bcd-0fa3ba3833e3",
      "metadata": {
        "id": "319c461f-2d23-4921-8bcd-0fa3ba3833e3"
      },
      "source": [
        "# **Bibliotecas necesarias**"
      ]
    },
    {
      "cell_type": "code",
      "source": [
        "!pip install plotly --upgrade"
      ],
      "metadata": {
        "colab": {
          "base_uri": "https://localhost:8080/"
        },
        "id": "c2SrqRZu62Cr",
        "outputId": "e8c79051-622b-4b44-be75-b86852e40d0b"
      },
      "id": "c2SrqRZu62Cr",
      "execution_count": 1,
      "outputs": [
        {
          "output_type": "stream",
          "name": "stdout",
          "text": [
            "Looking in indexes: https://pypi.org/simple, https://us-python.pkg.dev/colab-wheels/public/simple/\n",
            "Requirement already satisfied: plotly in /usr/local/lib/python3.7/dist-packages (5.5.0)\n",
            "Collecting plotly\n",
            "  Downloading plotly-5.10.0-py2.py3-none-any.whl (15.2 MB)\n",
            "\u001b[K     |████████████████████████████████| 15.2 MB 14.3 MB/s \n",
            "\u001b[?25hRequirement already satisfied: tenacity>=6.2.0 in /usr/local/lib/python3.7/dist-packages (from plotly) (8.0.1)\n",
            "Installing collected packages: plotly\n",
            "  Attempting uninstall: plotly\n",
            "    Found existing installation: plotly 5.5.0\n",
            "    Uninstalling plotly-5.5.0:\n",
            "      Successfully uninstalled plotly-5.5.0\n",
            "Successfully installed plotly-5.10.0\n"
          ]
        }
      ]
    },
    {
      "cell_type": "markdown",
      "id": "35b48f73-68d2-4f77-8e86-592bc29a9ea4",
      "metadata": {
        "id": "35b48f73-68d2-4f77-8e86-592bc29a9ea4"
      },
      "source": [
        "## **Para análisis de datos**"
      ]
    },
    {
      "cell_type": "code",
      "execution_count": 2,
      "id": "0ee9d969-78b5-4e7d-9956-9c4a80498faf",
      "metadata": {
        "id": "0ee9d969-78b5-4e7d-9956-9c4a80498faf"
      },
      "outputs": [],
      "source": [
        "import pandas as pd\n",
        "import numpy as np"
      ]
    },
    {
      "cell_type": "markdown",
      "source": [
        "## **Para gráficos**"
      ],
      "metadata": {
        "id": "O4fJX_N33w7b"
      },
      "id": "O4fJX_N33w7b"
    },
    {
      "cell_type": "markdown",
      "source": [
        "https://plotly.com/python/"
      ],
      "metadata": {
        "id": "8RzM2lyRc3vu"
      },
      "id": "8RzM2lyRc3vu"
    },
    {
      "cell_type": "code",
      "source": [
        "import plotly.express as px"
      ],
      "metadata": {
        "id": "4vsQAsbS312u"
      },
      "id": "4vsQAsbS312u",
      "execution_count": 3,
      "outputs": []
    },
    {
      "cell_type": "markdown",
      "id": "776d5c76-8b73-4dea-adc5-50d536e3c0b2",
      "metadata": {
        "id": "776d5c76-8b73-4dea-adc5-50d536e3c0b2"
      },
      "source": [
        "# **Obtención de datos**"
      ]
    },
    {
      "cell_type": "code",
      "execution_count": 4,
      "id": "d79c58a7-55ed-45e8-b102-0f52f4b50338",
      "metadata": {
        "id": "d79c58a7-55ed-45e8-b102-0f52f4b50338"
      },
      "outputs": [],
      "source": [
        "datos = \"https://raw.githubusercontent.com/cristiandarioortegayubro/base/main/dataset/dfresults.csv\""
      ]
    },
    {
      "cell_type": "markdown",
      "source": [
        "# **Creación del dataframe**"
      ],
      "metadata": {
        "id": "5l9sh1LCsvir"
      },
      "id": "5l9sh1LCsvir"
    },
    {
      "cell_type": "code",
      "source": [
        "df = pd.read_csv(datos)\n",
        "df"
      ],
      "metadata": {
        "colab": {
          "base_uri": "https://localhost:8080/",
          "height": 419
        },
        "id": "E5wrS3YXpwl4",
        "outputId": "942d4330-7185-4e55-eb52-ce450702bac3"
      },
      "id": "E5wrS3YXpwl4",
      "execution_count": 5,
      "outputs": [
        {
          "output_type": "execute_result",
          "data": {
            "text/plain": [
              "      Año      Estado  Intencion_Voto  Diferencia  Gobernante  Reelige  \\\n",
              "0    1976  California       42.797994   -3.270222  republican        1   \n",
              "1    1980  California       28.010388  -14.065118    democrat        1   \n",
              "2    1984  California       38.947686  -16.310839  republican        1   \n",
              "3    1988  California       42.883798   -8.033824  republican        0   \n",
              "4    1992  California       48.764566   17.150517  republican        1   \n",
              "..    ...         ...             ...         ...         ...      ...   \n",
              "487  1992     Wyoming       30.408792   -3.954561  republican        1   \n",
              "488  1996     Wyoming       37.603149   -7.238639    democrat        1   \n",
              "489  2000     Wyoming       29.687844  -29.012408    democrat        0   \n",
              "490  2008     Wyoming       33.176088  -26.872840  republican        0   \n",
              "491  2016     Wyoming       22.079570  -37.877420    democrat        0   \n",
              "\n",
              "        Ganador Cod_Estado  \n",
              "0    republican         CA  \n",
              "1    republican         CA  \n",
              "2    republican         CA  \n",
              "3    republican         CA  \n",
              "4      democrat         CA  \n",
              "..          ...        ...  \n",
              "487  republican         WY  \n",
              "488  republican         WY  \n",
              "489  republican         WY  \n",
              "490  republican         WY  \n",
              "491  republican         WY  \n",
              "\n",
              "[492 rows x 8 columns]"
            ],
            "text/html": [
              "\n",
              "  <div id=\"df-3c6b02c6-69d7-45c1-888a-55cd74ffc2e1\">\n",
              "    <div class=\"colab-df-container\">\n",
              "      <div>\n",
              "<style scoped>\n",
              "    .dataframe tbody tr th:only-of-type {\n",
              "        vertical-align: middle;\n",
              "    }\n",
              "\n",
              "    .dataframe tbody tr th {\n",
              "        vertical-align: top;\n",
              "    }\n",
              "\n",
              "    .dataframe thead th {\n",
              "        text-align: right;\n",
              "    }\n",
              "</style>\n",
              "<table border=\"1\" class=\"dataframe\">\n",
              "  <thead>\n",
              "    <tr style=\"text-align: right;\">\n",
              "      <th></th>\n",
              "      <th>Año</th>\n",
              "      <th>Estado</th>\n",
              "      <th>Intencion_Voto</th>\n",
              "      <th>Diferencia</th>\n",
              "      <th>Gobernante</th>\n",
              "      <th>Reelige</th>\n",
              "      <th>Ganador</th>\n",
              "      <th>Cod_Estado</th>\n",
              "    </tr>\n",
              "  </thead>\n",
              "  <tbody>\n",
              "    <tr>\n",
              "      <th>0</th>\n",
              "      <td>1976</td>\n",
              "      <td>California</td>\n",
              "      <td>42.797994</td>\n",
              "      <td>-3.270222</td>\n",
              "      <td>republican</td>\n",
              "      <td>1</td>\n",
              "      <td>republican</td>\n",
              "      <td>CA</td>\n",
              "    </tr>\n",
              "    <tr>\n",
              "      <th>1</th>\n",
              "      <td>1980</td>\n",
              "      <td>California</td>\n",
              "      <td>28.010388</td>\n",
              "      <td>-14.065118</td>\n",
              "      <td>democrat</td>\n",
              "      <td>1</td>\n",
              "      <td>republican</td>\n",
              "      <td>CA</td>\n",
              "    </tr>\n",
              "    <tr>\n",
              "      <th>2</th>\n",
              "      <td>1984</td>\n",
              "      <td>California</td>\n",
              "      <td>38.947686</td>\n",
              "      <td>-16.310839</td>\n",
              "      <td>republican</td>\n",
              "      <td>1</td>\n",
              "      <td>republican</td>\n",
              "      <td>CA</td>\n",
              "    </tr>\n",
              "    <tr>\n",
              "      <th>3</th>\n",
              "      <td>1988</td>\n",
              "      <td>California</td>\n",
              "      <td>42.883798</td>\n",
              "      <td>-8.033824</td>\n",
              "      <td>republican</td>\n",
              "      <td>0</td>\n",
              "      <td>republican</td>\n",
              "      <td>CA</td>\n",
              "    </tr>\n",
              "    <tr>\n",
              "      <th>4</th>\n",
              "      <td>1992</td>\n",
              "      <td>California</td>\n",
              "      <td>48.764566</td>\n",
              "      <td>17.150517</td>\n",
              "      <td>republican</td>\n",
              "      <td>1</td>\n",
              "      <td>democrat</td>\n",
              "      <td>CA</td>\n",
              "    </tr>\n",
              "    <tr>\n",
              "      <th>...</th>\n",
              "      <td>...</td>\n",
              "      <td>...</td>\n",
              "      <td>...</td>\n",
              "      <td>...</td>\n",
              "      <td>...</td>\n",
              "      <td>...</td>\n",
              "      <td>...</td>\n",
              "      <td>...</td>\n",
              "    </tr>\n",
              "    <tr>\n",
              "      <th>487</th>\n",
              "      <td>1992</td>\n",
              "      <td>Wyoming</td>\n",
              "      <td>30.408792</td>\n",
              "      <td>-3.954561</td>\n",
              "      <td>republican</td>\n",
              "      <td>1</td>\n",
              "      <td>republican</td>\n",
              "      <td>WY</td>\n",
              "    </tr>\n",
              "    <tr>\n",
              "      <th>488</th>\n",
              "      <td>1996</td>\n",
              "      <td>Wyoming</td>\n",
              "      <td>37.603149</td>\n",
              "      <td>-7.238639</td>\n",
              "      <td>democrat</td>\n",
              "      <td>1</td>\n",
              "      <td>republican</td>\n",
              "      <td>WY</td>\n",
              "    </tr>\n",
              "    <tr>\n",
              "      <th>489</th>\n",
              "      <td>2000</td>\n",
              "      <td>Wyoming</td>\n",
              "      <td>29.687844</td>\n",
              "      <td>-29.012408</td>\n",
              "      <td>democrat</td>\n",
              "      <td>0</td>\n",
              "      <td>republican</td>\n",
              "      <td>WY</td>\n",
              "    </tr>\n",
              "    <tr>\n",
              "      <th>490</th>\n",
              "      <td>2008</td>\n",
              "      <td>Wyoming</td>\n",
              "      <td>33.176088</td>\n",
              "      <td>-26.872840</td>\n",
              "      <td>republican</td>\n",
              "      <td>0</td>\n",
              "      <td>republican</td>\n",
              "      <td>WY</td>\n",
              "    </tr>\n",
              "    <tr>\n",
              "      <th>491</th>\n",
              "      <td>2016</td>\n",
              "      <td>Wyoming</td>\n",
              "      <td>22.079570</td>\n",
              "      <td>-37.877420</td>\n",
              "      <td>democrat</td>\n",
              "      <td>0</td>\n",
              "      <td>republican</td>\n",
              "      <td>WY</td>\n",
              "    </tr>\n",
              "  </tbody>\n",
              "</table>\n",
              "<p>492 rows × 8 columns</p>\n",
              "</div>\n",
              "      <button class=\"colab-df-convert\" onclick=\"convertToInteractive('df-3c6b02c6-69d7-45c1-888a-55cd74ffc2e1')\"\n",
              "              title=\"Convert this dataframe to an interactive table.\"\n",
              "              style=\"display:none;\">\n",
              "        \n",
              "  <svg xmlns=\"http://www.w3.org/2000/svg\" height=\"24px\"viewBox=\"0 0 24 24\"\n",
              "       width=\"24px\">\n",
              "    <path d=\"M0 0h24v24H0V0z\" fill=\"none\"/>\n",
              "    <path d=\"M18.56 5.44l.94 2.06.94-2.06 2.06-.94-2.06-.94-.94-2.06-.94 2.06-2.06.94zm-11 1L8.5 8.5l.94-2.06 2.06-.94-2.06-.94L8.5 2.5l-.94 2.06-2.06.94zm10 10l.94 2.06.94-2.06 2.06-.94-2.06-.94-.94-2.06-.94 2.06-2.06.94z\"/><path d=\"M17.41 7.96l-1.37-1.37c-.4-.4-.92-.59-1.43-.59-.52 0-1.04.2-1.43.59L10.3 9.45l-7.72 7.72c-.78.78-.78 2.05 0 2.83L4 21.41c.39.39.9.59 1.41.59.51 0 1.02-.2 1.41-.59l7.78-7.78 2.81-2.81c.8-.78.8-2.07 0-2.86zM5.41 20L4 18.59l7.72-7.72 1.47 1.35L5.41 20z\"/>\n",
              "  </svg>\n",
              "      </button>\n",
              "      \n",
              "  <style>\n",
              "    .colab-df-container {\n",
              "      display:flex;\n",
              "      flex-wrap:wrap;\n",
              "      gap: 12px;\n",
              "    }\n",
              "\n",
              "    .colab-df-convert {\n",
              "      background-color: #E8F0FE;\n",
              "      border: none;\n",
              "      border-radius: 50%;\n",
              "      cursor: pointer;\n",
              "      display: none;\n",
              "      fill: #1967D2;\n",
              "      height: 32px;\n",
              "      padding: 0 0 0 0;\n",
              "      width: 32px;\n",
              "    }\n",
              "\n",
              "    .colab-df-convert:hover {\n",
              "      background-color: #E2EBFA;\n",
              "      box-shadow: 0px 1px 2px rgba(60, 64, 67, 0.3), 0px 1px 3px 1px rgba(60, 64, 67, 0.15);\n",
              "      fill: #174EA6;\n",
              "    }\n",
              "\n",
              "    [theme=dark] .colab-df-convert {\n",
              "      background-color: #3B4455;\n",
              "      fill: #D2E3FC;\n",
              "    }\n",
              "\n",
              "    [theme=dark] .colab-df-convert:hover {\n",
              "      background-color: #434B5C;\n",
              "      box-shadow: 0px 1px 3px 1px rgba(0, 0, 0, 0.15);\n",
              "      filter: drop-shadow(0px 1px 2px rgba(0, 0, 0, 0.3));\n",
              "      fill: #FFFFFF;\n",
              "    }\n",
              "  </style>\n",
              "\n",
              "      <script>\n",
              "        const buttonEl =\n",
              "          document.querySelector('#df-3c6b02c6-69d7-45c1-888a-55cd74ffc2e1 button.colab-df-convert');\n",
              "        buttonEl.style.display =\n",
              "          google.colab.kernel.accessAllowed ? 'block' : 'none';\n",
              "\n",
              "        async function convertToInteractive(key) {\n",
              "          const element = document.querySelector('#df-3c6b02c6-69d7-45c1-888a-55cd74ffc2e1');\n",
              "          const dataTable =\n",
              "            await google.colab.kernel.invokeFunction('convertToInteractive',\n",
              "                                                     [key], {});\n",
              "          if (!dataTable) return;\n",
              "\n",
              "          const docLinkHtml = 'Like what you see? Visit the ' +\n",
              "            '<a target=\"_blank\" href=https://colab.research.google.com/notebooks/data_table.ipynb>data table notebook</a>'\n",
              "            + ' to learn more about interactive tables.';\n",
              "          element.innerHTML = '';\n",
              "          dataTable['output_type'] = 'display_data';\n",
              "          await google.colab.output.renderOutput(dataTable, element);\n",
              "          const docLink = document.createElement('div');\n",
              "          docLink.innerHTML = docLinkHtml;\n",
              "          element.appendChild(docLink);\n",
              "        }\n",
              "      </script>\n",
              "    </div>\n",
              "  </div>\n",
              "  "
            ]
          },
          "metadata": {},
          "execution_count": 5
        }
      ]
    },
    {
      "cell_type": "code",
      "source": [
        "type(df)"
      ],
      "metadata": {
        "colab": {
          "base_uri": "https://localhost:8080/"
        },
        "id": "n954oJC5uMiB",
        "outputId": "d63eaebc-3e0d-4edc-e71e-cff15c5dc9e4"
      },
      "id": "n954oJC5uMiB",
      "execution_count": 6,
      "outputs": [
        {
          "output_type": "execute_result",
          "data": {
            "text/plain": [
              "pandas.core.frame.DataFrame"
            ]
          },
          "metadata": {},
          "execution_count": 6
        }
      ]
    },
    {
      "cell_type": "markdown",
      "source": [
        "## **Visualizacion**"
      ],
      "metadata": {
        "id": "rpk8Ekpap8zt"
      },
      "id": "rpk8Ekpap8zt"
    },
    {
      "cell_type": "markdown",
      "source": [
        "### **Encabezado ```head()```**"
      ],
      "metadata": {
        "id": "-A00a4D3qLvv"
      },
      "id": "-A00a4D3qLvv"
    },
    {
      "cell_type": "code",
      "source": [
        "df.head()"
      ],
      "metadata": {
        "colab": {
          "base_uri": "https://localhost:8080/",
          "height": 204
        },
        "id": "Z6wvbVGwqEcm",
        "outputId": "8e0798eb-2926-409f-db2f-7141c7f83698"
      },
      "id": "Z6wvbVGwqEcm",
      "execution_count": 7,
      "outputs": [
        {
          "output_type": "execute_result",
          "data": {
            "text/plain": [
              "    Año      Estado  Intencion_Voto  Diferencia  Gobernante  Reelige  \\\n",
              "0  1976  California       42.797994   -3.270222  republican        1   \n",
              "1  1980  California       28.010388  -14.065118    democrat        1   \n",
              "2  1984  California       38.947686  -16.310839  republican        1   \n",
              "3  1988  California       42.883798   -8.033824  republican        0   \n",
              "4  1992  California       48.764566   17.150517  republican        1   \n",
              "\n",
              "      Ganador Cod_Estado  \n",
              "0  republican         CA  \n",
              "1  republican         CA  \n",
              "2  republican         CA  \n",
              "3  republican         CA  \n",
              "4    democrat         CA  "
            ],
            "text/html": [
              "\n",
              "  <div id=\"df-192ffee1-06d3-49e7-9cfd-117adceb5246\">\n",
              "    <div class=\"colab-df-container\">\n",
              "      <div>\n",
              "<style scoped>\n",
              "    .dataframe tbody tr th:only-of-type {\n",
              "        vertical-align: middle;\n",
              "    }\n",
              "\n",
              "    .dataframe tbody tr th {\n",
              "        vertical-align: top;\n",
              "    }\n",
              "\n",
              "    .dataframe thead th {\n",
              "        text-align: right;\n",
              "    }\n",
              "</style>\n",
              "<table border=\"1\" class=\"dataframe\">\n",
              "  <thead>\n",
              "    <tr style=\"text-align: right;\">\n",
              "      <th></th>\n",
              "      <th>Año</th>\n",
              "      <th>Estado</th>\n",
              "      <th>Intencion_Voto</th>\n",
              "      <th>Diferencia</th>\n",
              "      <th>Gobernante</th>\n",
              "      <th>Reelige</th>\n",
              "      <th>Ganador</th>\n",
              "      <th>Cod_Estado</th>\n",
              "    </tr>\n",
              "  </thead>\n",
              "  <tbody>\n",
              "    <tr>\n",
              "      <th>0</th>\n",
              "      <td>1976</td>\n",
              "      <td>California</td>\n",
              "      <td>42.797994</td>\n",
              "      <td>-3.270222</td>\n",
              "      <td>republican</td>\n",
              "      <td>1</td>\n",
              "      <td>republican</td>\n",
              "      <td>CA</td>\n",
              "    </tr>\n",
              "    <tr>\n",
              "      <th>1</th>\n",
              "      <td>1980</td>\n",
              "      <td>California</td>\n",
              "      <td>28.010388</td>\n",
              "      <td>-14.065118</td>\n",
              "      <td>democrat</td>\n",
              "      <td>1</td>\n",
              "      <td>republican</td>\n",
              "      <td>CA</td>\n",
              "    </tr>\n",
              "    <tr>\n",
              "      <th>2</th>\n",
              "      <td>1984</td>\n",
              "      <td>California</td>\n",
              "      <td>38.947686</td>\n",
              "      <td>-16.310839</td>\n",
              "      <td>republican</td>\n",
              "      <td>1</td>\n",
              "      <td>republican</td>\n",
              "      <td>CA</td>\n",
              "    </tr>\n",
              "    <tr>\n",
              "      <th>3</th>\n",
              "      <td>1988</td>\n",
              "      <td>California</td>\n",
              "      <td>42.883798</td>\n",
              "      <td>-8.033824</td>\n",
              "      <td>republican</td>\n",
              "      <td>0</td>\n",
              "      <td>republican</td>\n",
              "      <td>CA</td>\n",
              "    </tr>\n",
              "    <tr>\n",
              "      <th>4</th>\n",
              "      <td>1992</td>\n",
              "      <td>California</td>\n",
              "      <td>48.764566</td>\n",
              "      <td>17.150517</td>\n",
              "      <td>republican</td>\n",
              "      <td>1</td>\n",
              "      <td>democrat</td>\n",
              "      <td>CA</td>\n",
              "    </tr>\n",
              "  </tbody>\n",
              "</table>\n",
              "</div>\n",
              "      <button class=\"colab-df-convert\" onclick=\"convertToInteractive('df-192ffee1-06d3-49e7-9cfd-117adceb5246')\"\n",
              "              title=\"Convert this dataframe to an interactive table.\"\n",
              "              style=\"display:none;\">\n",
              "        \n",
              "  <svg xmlns=\"http://www.w3.org/2000/svg\" height=\"24px\"viewBox=\"0 0 24 24\"\n",
              "       width=\"24px\">\n",
              "    <path d=\"M0 0h24v24H0V0z\" fill=\"none\"/>\n",
              "    <path d=\"M18.56 5.44l.94 2.06.94-2.06 2.06-.94-2.06-.94-.94-2.06-.94 2.06-2.06.94zm-11 1L8.5 8.5l.94-2.06 2.06-.94-2.06-.94L8.5 2.5l-.94 2.06-2.06.94zm10 10l.94 2.06.94-2.06 2.06-.94-2.06-.94-.94-2.06-.94 2.06-2.06.94z\"/><path d=\"M17.41 7.96l-1.37-1.37c-.4-.4-.92-.59-1.43-.59-.52 0-1.04.2-1.43.59L10.3 9.45l-7.72 7.72c-.78.78-.78 2.05 0 2.83L4 21.41c.39.39.9.59 1.41.59.51 0 1.02-.2 1.41-.59l7.78-7.78 2.81-2.81c.8-.78.8-2.07 0-2.86zM5.41 20L4 18.59l7.72-7.72 1.47 1.35L5.41 20z\"/>\n",
              "  </svg>\n",
              "      </button>\n",
              "      \n",
              "  <style>\n",
              "    .colab-df-container {\n",
              "      display:flex;\n",
              "      flex-wrap:wrap;\n",
              "      gap: 12px;\n",
              "    }\n",
              "\n",
              "    .colab-df-convert {\n",
              "      background-color: #E8F0FE;\n",
              "      border: none;\n",
              "      border-radius: 50%;\n",
              "      cursor: pointer;\n",
              "      display: none;\n",
              "      fill: #1967D2;\n",
              "      height: 32px;\n",
              "      padding: 0 0 0 0;\n",
              "      width: 32px;\n",
              "    }\n",
              "\n",
              "    .colab-df-convert:hover {\n",
              "      background-color: #E2EBFA;\n",
              "      box-shadow: 0px 1px 2px rgba(60, 64, 67, 0.3), 0px 1px 3px 1px rgba(60, 64, 67, 0.15);\n",
              "      fill: #174EA6;\n",
              "    }\n",
              "\n",
              "    [theme=dark] .colab-df-convert {\n",
              "      background-color: #3B4455;\n",
              "      fill: #D2E3FC;\n",
              "    }\n",
              "\n",
              "    [theme=dark] .colab-df-convert:hover {\n",
              "      background-color: #434B5C;\n",
              "      box-shadow: 0px 1px 3px 1px rgba(0, 0, 0, 0.15);\n",
              "      filter: drop-shadow(0px 1px 2px rgba(0, 0, 0, 0.3));\n",
              "      fill: #FFFFFF;\n",
              "    }\n",
              "  </style>\n",
              "\n",
              "      <script>\n",
              "        const buttonEl =\n",
              "          document.querySelector('#df-192ffee1-06d3-49e7-9cfd-117adceb5246 button.colab-df-convert');\n",
              "        buttonEl.style.display =\n",
              "          google.colab.kernel.accessAllowed ? 'block' : 'none';\n",
              "\n",
              "        async function convertToInteractive(key) {\n",
              "          const element = document.querySelector('#df-192ffee1-06d3-49e7-9cfd-117adceb5246');\n",
              "          const dataTable =\n",
              "            await google.colab.kernel.invokeFunction('convertToInteractive',\n",
              "                                                     [key], {});\n",
              "          if (!dataTable) return;\n",
              "\n",
              "          const docLinkHtml = 'Like what you see? Visit the ' +\n",
              "            '<a target=\"_blank\" href=https://colab.research.google.com/notebooks/data_table.ipynb>data table notebook</a>'\n",
              "            + ' to learn more about interactive tables.';\n",
              "          element.innerHTML = '';\n",
              "          dataTable['output_type'] = 'display_data';\n",
              "          await google.colab.output.renderOutput(dataTable, element);\n",
              "          const docLink = document.createElement('div');\n",
              "          docLink.innerHTML = docLinkHtml;\n",
              "          element.appendChild(docLink);\n",
              "        }\n",
              "      </script>\n",
              "    </div>\n",
              "  </div>\n",
              "  "
            ]
          },
          "metadata": {},
          "execution_count": 7
        }
      ]
    },
    {
      "cell_type": "markdown",
      "source": [
        "### **Indice ```index``` y columnas ```columns```**"
      ],
      "metadata": {
        "id": "s7XNI0pRqPT8"
      },
      "id": "s7XNI0pRqPT8"
    },
    {
      "cell_type": "code",
      "source": [
        "df.index"
      ],
      "metadata": {
        "colab": {
          "base_uri": "https://localhost:8080/"
        },
        "id": "AkvPv7IjqTWC",
        "outputId": "181d438c-029b-41c8-ca4b-1f9934528caf"
      },
      "id": "AkvPv7IjqTWC",
      "execution_count": 8,
      "outputs": [
        {
          "output_type": "execute_result",
          "data": {
            "text/plain": [
              "RangeIndex(start=0, stop=492, step=1)"
            ]
          },
          "metadata": {},
          "execution_count": 8
        }
      ]
    },
    {
      "cell_type": "code",
      "source": [
        "df.columns"
      ],
      "metadata": {
        "colab": {
          "base_uri": "https://localhost:8080/"
        },
        "id": "veQdvq3BqWLo",
        "outputId": "11dab8a0-948c-4c62-86d8-e7b0cebc3a32"
      },
      "id": "veQdvq3BqWLo",
      "execution_count": 9,
      "outputs": [
        {
          "output_type": "execute_result",
          "data": {
            "text/plain": [
              "Index(['Año', 'Estado', 'Intencion_Voto', 'Diferencia', 'Gobernante',\n",
              "       'Reelige', 'Ganador', 'Cod_Estado'],\n",
              "      dtype='object')"
            ]
          },
          "metadata": {},
          "execution_count": 9
        }
      ]
    },
    {
      "cell_type": "markdown",
      "source": [
        "### **Valores en series ```unique()``` - ```nunique()``` - ```value_counts()```**"
      ],
      "metadata": {
        "id": "xOs0KvPXqlq0"
      },
      "id": "xOs0KvPXqlq0"
    },
    {
      "cell_type": "code",
      "source": [
        "df.Estado.unique()"
      ],
      "metadata": {
        "colab": {
          "base_uri": "https://localhost:8080/"
        },
        "id": "i1NUm2b3qo_r",
        "outputId": "f9132393-3c19-4ed7-aeb3-744aa7b67f22"
      },
      "id": "i1NUm2b3qo_r",
      "execution_count": 10,
      "outputs": [
        {
          "output_type": "execute_result",
          "data": {
            "text/plain": [
              "array(['California', 'Colorado', 'Connecticut', 'Delaware', 'Georgia',\n",
              "       'Idaho', 'Illinois', 'Indiana', 'Iowa', 'Kansas', 'Maine',\n",
              "       'Maryland', 'Massachusetts', 'Michigan', 'Minnesota', 'Missouri',\n",
              "       'Nebraska', 'New Jersey', 'New York', 'North Carolina', 'Ohio',\n",
              "       'Oregon', 'South Carolina', 'South Dakota', 'Utah', 'Washington',\n",
              "       'Alabama', 'Arizona', 'Arkansas', 'Florida', 'Hawaii', 'Louisiana',\n",
              "       'Mississippi', 'Nevada', 'New Hampshire', 'North Dakota',\n",
              "       'Oklahoma', 'Pennsylvania', 'Rhode Island', 'Tennessee', 'Texas',\n",
              "       'Virginia', 'West Virginia', 'Wisconsin', 'Kentucky', 'New Mexico',\n",
              "       'Alaska', 'Montana', 'Vermont', 'Wyoming'], dtype=object)"
            ]
          },
          "metadata": {},
          "execution_count": 10
        }
      ]
    },
    {
      "cell_type": "code",
      "source": [
        "df.Estado.nunique()"
      ],
      "metadata": {
        "colab": {
          "base_uri": "https://localhost:8080/"
        },
        "id": "uIeGjWZWr4Nl",
        "outputId": "463a2765-9f5b-4085-c0ea-a774ee26e0d0"
      },
      "id": "uIeGjWZWr4Nl",
      "execution_count": 11,
      "outputs": [
        {
          "output_type": "execute_result",
          "data": {
            "text/plain": [
              "50"
            ]
          },
          "metadata": {},
          "execution_count": 11
        }
      ]
    },
    {
      "cell_type": "code",
      "source": [
        "df.Estado.value_counts()"
      ],
      "metadata": {
        "colab": {
          "base_uri": "https://localhost:8080/"
        },
        "id": "4pB0JNWyr6ao",
        "outputId": "a3ced08e-2a16-4628-d259-f3c3dbc31204"
      },
      "id": "4pB0JNWyr6ao",
      "execution_count": 12,
      "outputs": [
        {
          "output_type": "execute_result",
          "data": {
            "text/plain": [
              "California        11\n",
              "Massachusetts     11\n",
              "Colorado          11\n",
              "Oregon            11\n",
              "Ohio              11\n",
              "North Carolina    11\n",
              "New York          11\n",
              "New Jersey        11\n",
              "Nebraska          11\n",
              "Missouri          11\n",
              "Minnesota         11\n",
              "Washington        11\n",
              "Maryland          11\n",
              "Connecticut       11\n",
              "Kansas            11\n",
              "Iowa              11\n",
              "Illinois          11\n",
              "New Hampshire     10\n",
              "Texas             10\n",
              "Michigan          10\n",
              "Virginia          10\n",
              "Florida           10\n",
              "West Virginia     10\n",
              "Wisconsin         10\n",
              "Alabama           10\n",
              "Utah              10\n",
              "Pennsylvania      10\n",
              "South Dakota      10\n",
              "South Carolina    10\n",
              "Georgia           10\n",
              "Indiana           10\n",
              "Maine             10\n",
              "Rhode Island      10\n",
              "Kentucky           9\n",
              "New Mexico         9\n",
              "Tennessee          9\n",
              "Louisiana          9\n",
              "Oklahoma           9\n",
              "North Dakota       9\n",
              "Nevada             9\n",
              "Hawaii             9\n",
              "Arkansas           9\n",
              "Arizona            9\n",
              "Delaware           9\n",
              "Idaho              9\n",
              "Mississippi        8\n",
              "Montana            8\n",
              "Vermont            8\n",
              "Alaska             7\n",
              "Wyoming            6\n",
              "Name: Estado, dtype: int64"
            ]
          },
          "metadata": {},
          "execution_count": 12
        }
      ]
    },
    {
      "cell_type": "code",
      "source": [
        "df.Gobernante.unique()"
      ],
      "metadata": {
        "colab": {
          "base_uri": "https://localhost:8080/"
        },
        "id": "3hnn95v1ruxT",
        "outputId": "a277e64c-69ec-44f8-d8ab-41d88a020c26"
      },
      "id": "3hnn95v1ruxT",
      "execution_count": 13,
      "outputs": [
        {
          "output_type": "execute_result",
          "data": {
            "text/plain": [
              "array(['republican', 'democrat'], dtype=object)"
            ]
          },
          "metadata": {},
          "execution_count": 13
        }
      ]
    },
    {
      "cell_type": "code",
      "source": [
        "df.Gobernante.nunique()"
      ],
      "metadata": {
        "colab": {
          "base_uri": "https://localhost:8080/"
        },
        "id": "NuTtBairsw9o",
        "outputId": "38fa0012-3435-4f46-caf6-176b452ce423"
      },
      "id": "NuTtBairsw9o",
      "execution_count": 14,
      "outputs": [
        {
          "output_type": "execute_result",
          "data": {
            "text/plain": [
              "2"
            ]
          },
          "metadata": {},
          "execution_count": 14
        }
      ]
    },
    {
      "cell_type": "code",
      "source": [
        "df.Gobernante.value_counts()"
      ],
      "metadata": {
        "colab": {
          "base_uri": "https://localhost:8080/"
        },
        "id": "Hq99MroUs1zu",
        "outputId": "c4490df8-4f94-4253-ecb7-5a078b9f2840"
      },
      "id": "Hq99MroUs1zu",
      "execution_count": 15,
      "outputs": [
        {
          "output_type": "execute_result",
          "data": {
            "text/plain": [
              "republican    254\n",
              "democrat      238\n",
              "Name: Gobernante, dtype: int64"
            ]
          },
          "metadata": {},
          "execution_count": 15
        }
      ]
    },
    {
      "cell_type": "markdown",
      "source": [
        "### **Resumen estadistico descriptivo ```describe()```**"
      ],
      "metadata": {
        "id": "Nw24g-8-tCXT"
      },
      "id": "Nw24g-8-tCXT"
    },
    {
      "cell_type": "code",
      "source": [
        "round(df.describe(),2)"
      ],
      "metadata": {
        "colab": {
          "base_uri": "https://localhost:8080/",
          "height": 297
        },
        "id": "154Ve1cGt-OU",
        "outputId": "dae26b7c-8f2a-4098-c173-80a8c905cd0d"
      },
      "id": "154Ve1cGt-OU",
      "execution_count": 16,
      "outputs": [
        {
          "output_type": "execute_result",
          "data": {
            "text/plain": [
              "           Año  Intencion_Voto  Diferencia  Reelige\n",
              "count   492.00          492.00      492.00   492.00\n",
              "mean   1997.59           42.03       -2.69     0.60\n",
              "std      12.03            8.01       14.52     0.49\n",
              "min    1976.00           17.45      -46.97     0.00\n",
              "25%    1988.00           36.79      -12.56     0.00\n",
              "50%    1996.00           41.95       -2.23     1.00\n",
              "75%    2008.00           47.49        7.48     1.00\n",
              "max    2016.00           61.42       32.56     1.00"
            ],
            "text/html": [
              "\n",
              "  <div id=\"df-79157209-6543-43a4-8558-9c2cc300d8f8\">\n",
              "    <div class=\"colab-df-container\">\n",
              "      <div>\n",
              "<style scoped>\n",
              "    .dataframe tbody tr th:only-of-type {\n",
              "        vertical-align: middle;\n",
              "    }\n",
              "\n",
              "    .dataframe tbody tr th {\n",
              "        vertical-align: top;\n",
              "    }\n",
              "\n",
              "    .dataframe thead th {\n",
              "        text-align: right;\n",
              "    }\n",
              "</style>\n",
              "<table border=\"1\" class=\"dataframe\">\n",
              "  <thead>\n",
              "    <tr style=\"text-align: right;\">\n",
              "      <th></th>\n",
              "      <th>Año</th>\n",
              "      <th>Intencion_Voto</th>\n",
              "      <th>Diferencia</th>\n",
              "      <th>Reelige</th>\n",
              "    </tr>\n",
              "  </thead>\n",
              "  <tbody>\n",
              "    <tr>\n",
              "      <th>count</th>\n",
              "      <td>492.00</td>\n",
              "      <td>492.00</td>\n",
              "      <td>492.00</td>\n",
              "      <td>492.00</td>\n",
              "    </tr>\n",
              "    <tr>\n",
              "      <th>mean</th>\n",
              "      <td>1997.59</td>\n",
              "      <td>42.03</td>\n",
              "      <td>-2.69</td>\n",
              "      <td>0.60</td>\n",
              "    </tr>\n",
              "    <tr>\n",
              "      <th>std</th>\n",
              "      <td>12.03</td>\n",
              "      <td>8.01</td>\n",
              "      <td>14.52</td>\n",
              "      <td>0.49</td>\n",
              "    </tr>\n",
              "    <tr>\n",
              "      <th>min</th>\n",
              "      <td>1976.00</td>\n",
              "      <td>17.45</td>\n",
              "      <td>-46.97</td>\n",
              "      <td>0.00</td>\n",
              "    </tr>\n",
              "    <tr>\n",
              "      <th>25%</th>\n",
              "      <td>1988.00</td>\n",
              "      <td>36.79</td>\n",
              "      <td>-12.56</td>\n",
              "      <td>0.00</td>\n",
              "    </tr>\n",
              "    <tr>\n",
              "      <th>50%</th>\n",
              "      <td>1996.00</td>\n",
              "      <td>41.95</td>\n",
              "      <td>-2.23</td>\n",
              "      <td>1.00</td>\n",
              "    </tr>\n",
              "    <tr>\n",
              "      <th>75%</th>\n",
              "      <td>2008.00</td>\n",
              "      <td>47.49</td>\n",
              "      <td>7.48</td>\n",
              "      <td>1.00</td>\n",
              "    </tr>\n",
              "    <tr>\n",
              "      <th>max</th>\n",
              "      <td>2016.00</td>\n",
              "      <td>61.42</td>\n",
              "      <td>32.56</td>\n",
              "      <td>1.00</td>\n",
              "    </tr>\n",
              "  </tbody>\n",
              "</table>\n",
              "</div>\n",
              "      <button class=\"colab-df-convert\" onclick=\"convertToInteractive('df-79157209-6543-43a4-8558-9c2cc300d8f8')\"\n",
              "              title=\"Convert this dataframe to an interactive table.\"\n",
              "              style=\"display:none;\">\n",
              "        \n",
              "  <svg xmlns=\"http://www.w3.org/2000/svg\" height=\"24px\"viewBox=\"0 0 24 24\"\n",
              "       width=\"24px\">\n",
              "    <path d=\"M0 0h24v24H0V0z\" fill=\"none\"/>\n",
              "    <path d=\"M18.56 5.44l.94 2.06.94-2.06 2.06-.94-2.06-.94-.94-2.06-.94 2.06-2.06.94zm-11 1L8.5 8.5l.94-2.06 2.06-.94-2.06-.94L8.5 2.5l-.94 2.06-2.06.94zm10 10l.94 2.06.94-2.06 2.06-.94-2.06-.94-.94-2.06-.94 2.06-2.06.94z\"/><path d=\"M17.41 7.96l-1.37-1.37c-.4-.4-.92-.59-1.43-.59-.52 0-1.04.2-1.43.59L10.3 9.45l-7.72 7.72c-.78.78-.78 2.05 0 2.83L4 21.41c.39.39.9.59 1.41.59.51 0 1.02-.2 1.41-.59l7.78-7.78 2.81-2.81c.8-.78.8-2.07 0-2.86zM5.41 20L4 18.59l7.72-7.72 1.47 1.35L5.41 20z\"/>\n",
              "  </svg>\n",
              "      </button>\n",
              "      \n",
              "  <style>\n",
              "    .colab-df-container {\n",
              "      display:flex;\n",
              "      flex-wrap:wrap;\n",
              "      gap: 12px;\n",
              "    }\n",
              "\n",
              "    .colab-df-convert {\n",
              "      background-color: #E8F0FE;\n",
              "      border: none;\n",
              "      border-radius: 50%;\n",
              "      cursor: pointer;\n",
              "      display: none;\n",
              "      fill: #1967D2;\n",
              "      height: 32px;\n",
              "      padding: 0 0 0 0;\n",
              "      width: 32px;\n",
              "    }\n",
              "\n",
              "    .colab-df-convert:hover {\n",
              "      background-color: #E2EBFA;\n",
              "      box-shadow: 0px 1px 2px rgba(60, 64, 67, 0.3), 0px 1px 3px 1px rgba(60, 64, 67, 0.15);\n",
              "      fill: #174EA6;\n",
              "    }\n",
              "\n",
              "    [theme=dark] .colab-df-convert {\n",
              "      background-color: #3B4455;\n",
              "      fill: #D2E3FC;\n",
              "    }\n",
              "\n",
              "    [theme=dark] .colab-df-convert:hover {\n",
              "      background-color: #434B5C;\n",
              "      box-shadow: 0px 1px 3px 1px rgba(0, 0, 0, 0.15);\n",
              "      filter: drop-shadow(0px 1px 2px rgba(0, 0, 0, 0.3));\n",
              "      fill: #FFFFFF;\n",
              "    }\n",
              "  </style>\n",
              "\n",
              "      <script>\n",
              "        const buttonEl =\n",
              "          document.querySelector('#df-79157209-6543-43a4-8558-9c2cc300d8f8 button.colab-df-convert');\n",
              "        buttonEl.style.display =\n",
              "          google.colab.kernel.accessAllowed ? 'block' : 'none';\n",
              "\n",
              "        async function convertToInteractive(key) {\n",
              "          const element = document.querySelector('#df-79157209-6543-43a4-8558-9c2cc300d8f8');\n",
              "          const dataTable =\n",
              "            await google.colab.kernel.invokeFunction('convertToInteractive',\n",
              "                                                     [key], {});\n",
              "          if (!dataTable) return;\n",
              "\n",
              "          const docLinkHtml = 'Like what you see? Visit the ' +\n",
              "            '<a target=\"_blank\" href=https://colab.research.google.com/notebooks/data_table.ipynb>data table notebook</a>'\n",
              "            + ' to learn more about interactive tables.';\n",
              "          element.innerHTML = '';\n",
              "          dataTable['output_type'] = 'display_data';\n",
              "          await google.colab.output.renderOutput(dataTable, element);\n",
              "          const docLink = document.createElement('div');\n",
              "          docLink.innerHTML = docLinkHtml;\n",
              "          element.appendChild(docLink);\n",
              "        }\n",
              "      </script>\n",
              "    </div>\n",
              "  </div>\n",
              "  "
            ]
          },
          "metadata": {},
          "execution_count": 16
        }
      ]
    },
    {
      "cell_type": "code",
      "source": [
        "df.describe(include = \"object\")"
      ],
      "metadata": {
        "colab": {
          "base_uri": "https://localhost:8080/",
          "height": 173
        },
        "id": "alSKUt4buk1G",
        "outputId": "68bb1c94-846d-4ac3-e796-708ba629f62e"
      },
      "id": "alSKUt4buk1G",
      "execution_count": 17,
      "outputs": [
        {
          "output_type": "execute_result",
          "data": {
            "text/plain": [
              "            Estado  Gobernante     Ganador Cod_Estado\n",
              "count          492         492         492        492\n",
              "unique          50           2           2         50\n",
              "top     California  republican  republican         CA\n",
              "freq            11         254         289         11"
            ],
            "text/html": [
              "\n",
              "  <div id=\"df-6dc37cf8-1b92-4dd9-8b4a-3e36e7ddab39\">\n",
              "    <div class=\"colab-df-container\">\n",
              "      <div>\n",
              "<style scoped>\n",
              "    .dataframe tbody tr th:only-of-type {\n",
              "        vertical-align: middle;\n",
              "    }\n",
              "\n",
              "    .dataframe tbody tr th {\n",
              "        vertical-align: top;\n",
              "    }\n",
              "\n",
              "    .dataframe thead th {\n",
              "        text-align: right;\n",
              "    }\n",
              "</style>\n",
              "<table border=\"1\" class=\"dataframe\">\n",
              "  <thead>\n",
              "    <tr style=\"text-align: right;\">\n",
              "      <th></th>\n",
              "      <th>Estado</th>\n",
              "      <th>Gobernante</th>\n",
              "      <th>Ganador</th>\n",
              "      <th>Cod_Estado</th>\n",
              "    </tr>\n",
              "  </thead>\n",
              "  <tbody>\n",
              "    <tr>\n",
              "      <th>count</th>\n",
              "      <td>492</td>\n",
              "      <td>492</td>\n",
              "      <td>492</td>\n",
              "      <td>492</td>\n",
              "    </tr>\n",
              "    <tr>\n",
              "      <th>unique</th>\n",
              "      <td>50</td>\n",
              "      <td>2</td>\n",
              "      <td>2</td>\n",
              "      <td>50</td>\n",
              "    </tr>\n",
              "    <tr>\n",
              "      <th>top</th>\n",
              "      <td>California</td>\n",
              "      <td>republican</td>\n",
              "      <td>republican</td>\n",
              "      <td>CA</td>\n",
              "    </tr>\n",
              "    <tr>\n",
              "      <th>freq</th>\n",
              "      <td>11</td>\n",
              "      <td>254</td>\n",
              "      <td>289</td>\n",
              "      <td>11</td>\n",
              "    </tr>\n",
              "  </tbody>\n",
              "</table>\n",
              "</div>\n",
              "      <button class=\"colab-df-convert\" onclick=\"convertToInteractive('df-6dc37cf8-1b92-4dd9-8b4a-3e36e7ddab39')\"\n",
              "              title=\"Convert this dataframe to an interactive table.\"\n",
              "              style=\"display:none;\">\n",
              "        \n",
              "  <svg xmlns=\"http://www.w3.org/2000/svg\" height=\"24px\"viewBox=\"0 0 24 24\"\n",
              "       width=\"24px\">\n",
              "    <path d=\"M0 0h24v24H0V0z\" fill=\"none\"/>\n",
              "    <path d=\"M18.56 5.44l.94 2.06.94-2.06 2.06-.94-2.06-.94-.94-2.06-.94 2.06-2.06.94zm-11 1L8.5 8.5l.94-2.06 2.06-.94-2.06-.94L8.5 2.5l-.94 2.06-2.06.94zm10 10l.94 2.06.94-2.06 2.06-.94-2.06-.94-.94-2.06-.94 2.06-2.06.94z\"/><path d=\"M17.41 7.96l-1.37-1.37c-.4-.4-.92-.59-1.43-.59-.52 0-1.04.2-1.43.59L10.3 9.45l-7.72 7.72c-.78.78-.78 2.05 0 2.83L4 21.41c.39.39.9.59 1.41.59.51 0 1.02-.2 1.41-.59l7.78-7.78 2.81-2.81c.8-.78.8-2.07 0-2.86zM5.41 20L4 18.59l7.72-7.72 1.47 1.35L5.41 20z\"/>\n",
              "  </svg>\n",
              "      </button>\n",
              "      \n",
              "  <style>\n",
              "    .colab-df-container {\n",
              "      display:flex;\n",
              "      flex-wrap:wrap;\n",
              "      gap: 12px;\n",
              "    }\n",
              "\n",
              "    .colab-df-convert {\n",
              "      background-color: #E8F0FE;\n",
              "      border: none;\n",
              "      border-radius: 50%;\n",
              "      cursor: pointer;\n",
              "      display: none;\n",
              "      fill: #1967D2;\n",
              "      height: 32px;\n",
              "      padding: 0 0 0 0;\n",
              "      width: 32px;\n",
              "    }\n",
              "\n",
              "    .colab-df-convert:hover {\n",
              "      background-color: #E2EBFA;\n",
              "      box-shadow: 0px 1px 2px rgba(60, 64, 67, 0.3), 0px 1px 3px 1px rgba(60, 64, 67, 0.15);\n",
              "      fill: #174EA6;\n",
              "    }\n",
              "\n",
              "    [theme=dark] .colab-df-convert {\n",
              "      background-color: #3B4455;\n",
              "      fill: #D2E3FC;\n",
              "    }\n",
              "\n",
              "    [theme=dark] .colab-df-convert:hover {\n",
              "      background-color: #434B5C;\n",
              "      box-shadow: 0px 1px 3px 1px rgba(0, 0, 0, 0.15);\n",
              "      filter: drop-shadow(0px 1px 2px rgba(0, 0, 0, 0.3));\n",
              "      fill: #FFFFFF;\n",
              "    }\n",
              "  </style>\n",
              "\n",
              "      <script>\n",
              "        const buttonEl =\n",
              "          document.querySelector('#df-6dc37cf8-1b92-4dd9-8b4a-3e36e7ddab39 button.colab-df-convert');\n",
              "        buttonEl.style.display =\n",
              "          google.colab.kernel.accessAllowed ? 'block' : 'none';\n",
              "\n",
              "        async function convertToInteractive(key) {\n",
              "          const element = document.querySelector('#df-6dc37cf8-1b92-4dd9-8b4a-3e36e7ddab39');\n",
              "          const dataTable =\n",
              "            await google.colab.kernel.invokeFunction('convertToInteractive',\n",
              "                                                     [key], {});\n",
              "          if (!dataTable) return;\n",
              "\n",
              "          const docLinkHtml = 'Like what you see? Visit the ' +\n",
              "            '<a target=\"_blank\" href=https://colab.research.google.com/notebooks/data_table.ipynb>data table notebook</a>'\n",
              "            + ' to learn more about interactive tables.';\n",
              "          element.innerHTML = '';\n",
              "          dataTable['output_type'] = 'display_data';\n",
              "          await google.colab.output.renderOutput(dataTable, element);\n",
              "          const docLink = document.createElement('div');\n",
              "          docLink.innerHTML = docLinkHtml;\n",
              "          element.appendChild(docLink);\n",
              "        }\n",
              "      </script>\n",
              "    </div>\n",
              "  </div>\n",
              "  "
            ]
          },
          "metadata": {},
          "execution_count": 17
        }
      ]
    },
    {
      "cell_type": "markdown",
      "source": [
        "### **Resumen del dataframe ```info()```**"
      ],
      "metadata": {
        "id": "rKn4bzjkuWzu"
      },
      "id": "rKn4bzjkuWzu"
    },
    {
      "cell_type": "code",
      "source": [
        "df.info()"
      ],
      "metadata": {
        "colab": {
          "base_uri": "https://localhost:8080/"
        },
        "id": "LeHKGLrZuarh",
        "outputId": "44227cd7-c17d-4d2f-fc0d-4c471e60500c"
      },
      "id": "LeHKGLrZuarh",
      "execution_count": 18,
      "outputs": [
        {
          "output_type": "stream",
          "name": "stdout",
          "text": [
            "<class 'pandas.core.frame.DataFrame'>\n",
            "RangeIndex: 492 entries, 0 to 491\n",
            "Data columns (total 8 columns):\n",
            " #   Column          Non-Null Count  Dtype  \n",
            "---  ------          --------------  -----  \n",
            " 0   Año             492 non-null    int64  \n",
            " 1   Estado          492 non-null    object \n",
            " 2   Intencion_Voto  492 non-null    float64\n",
            " 3   Diferencia      492 non-null    float64\n",
            " 4   Gobernante      492 non-null    object \n",
            " 5   Reelige         492 non-null    int64  \n",
            " 6   Ganador         492 non-null    object \n",
            " 7   Cod_Estado      492 non-null    object \n",
            "dtypes: float64(2), int64(2), object(4)\n",
            "memory usage: 30.9+ KB\n"
          ]
        }
      ]
    },
    {
      "cell_type": "markdown",
      "source": [
        "# **Plotly**"
      ],
      "metadata": {
        "id": "itxtELCBzLGm"
      },
      "id": "itxtELCBzLGm"
    },
    {
      "cell_type": "markdown",
      "source": [
        "https://plotly.com/python/"
      ],
      "metadata": {
        "id": "D6yqzHgq3_xj"
      },
      "id": "D6yqzHgq3_xj"
    },
    {
      "cell_type": "code",
      "source": [
        "df.head()"
      ],
      "metadata": {
        "colab": {
          "base_uri": "https://localhost:8080/",
          "height": 204
        },
        "id": "tc5C8WwuzRBK",
        "outputId": "55735cb9-135b-45f9-c778-7a7984697abf"
      },
      "id": "tc5C8WwuzRBK",
      "execution_count": 19,
      "outputs": [
        {
          "output_type": "execute_result",
          "data": {
            "text/plain": [
              "    Año      Estado  Intencion_Voto  Diferencia  Gobernante  Reelige  \\\n",
              "0  1976  California       42.797994   -3.270222  republican        1   \n",
              "1  1980  California       28.010388  -14.065118    democrat        1   \n",
              "2  1984  California       38.947686  -16.310839  republican        1   \n",
              "3  1988  California       42.883798   -8.033824  republican        0   \n",
              "4  1992  California       48.764566   17.150517  republican        1   \n",
              "\n",
              "      Ganador Cod_Estado  \n",
              "0  republican         CA  \n",
              "1  republican         CA  \n",
              "2  republican         CA  \n",
              "3  republican         CA  \n",
              "4    democrat         CA  "
            ],
            "text/html": [
              "\n",
              "  <div id=\"df-630b3d10-9fb4-4050-a727-ace8570b1449\">\n",
              "    <div class=\"colab-df-container\">\n",
              "      <div>\n",
              "<style scoped>\n",
              "    .dataframe tbody tr th:only-of-type {\n",
              "        vertical-align: middle;\n",
              "    }\n",
              "\n",
              "    .dataframe tbody tr th {\n",
              "        vertical-align: top;\n",
              "    }\n",
              "\n",
              "    .dataframe thead th {\n",
              "        text-align: right;\n",
              "    }\n",
              "</style>\n",
              "<table border=\"1\" class=\"dataframe\">\n",
              "  <thead>\n",
              "    <tr style=\"text-align: right;\">\n",
              "      <th></th>\n",
              "      <th>Año</th>\n",
              "      <th>Estado</th>\n",
              "      <th>Intencion_Voto</th>\n",
              "      <th>Diferencia</th>\n",
              "      <th>Gobernante</th>\n",
              "      <th>Reelige</th>\n",
              "      <th>Ganador</th>\n",
              "      <th>Cod_Estado</th>\n",
              "    </tr>\n",
              "  </thead>\n",
              "  <tbody>\n",
              "    <tr>\n",
              "      <th>0</th>\n",
              "      <td>1976</td>\n",
              "      <td>California</td>\n",
              "      <td>42.797994</td>\n",
              "      <td>-3.270222</td>\n",
              "      <td>republican</td>\n",
              "      <td>1</td>\n",
              "      <td>republican</td>\n",
              "      <td>CA</td>\n",
              "    </tr>\n",
              "    <tr>\n",
              "      <th>1</th>\n",
              "      <td>1980</td>\n",
              "      <td>California</td>\n",
              "      <td>28.010388</td>\n",
              "      <td>-14.065118</td>\n",
              "      <td>democrat</td>\n",
              "      <td>1</td>\n",
              "      <td>republican</td>\n",
              "      <td>CA</td>\n",
              "    </tr>\n",
              "    <tr>\n",
              "      <th>2</th>\n",
              "      <td>1984</td>\n",
              "      <td>California</td>\n",
              "      <td>38.947686</td>\n",
              "      <td>-16.310839</td>\n",
              "      <td>republican</td>\n",
              "      <td>1</td>\n",
              "      <td>republican</td>\n",
              "      <td>CA</td>\n",
              "    </tr>\n",
              "    <tr>\n",
              "      <th>3</th>\n",
              "      <td>1988</td>\n",
              "      <td>California</td>\n",
              "      <td>42.883798</td>\n",
              "      <td>-8.033824</td>\n",
              "      <td>republican</td>\n",
              "      <td>0</td>\n",
              "      <td>republican</td>\n",
              "      <td>CA</td>\n",
              "    </tr>\n",
              "    <tr>\n",
              "      <th>4</th>\n",
              "      <td>1992</td>\n",
              "      <td>California</td>\n",
              "      <td>48.764566</td>\n",
              "      <td>17.150517</td>\n",
              "      <td>republican</td>\n",
              "      <td>1</td>\n",
              "      <td>democrat</td>\n",
              "      <td>CA</td>\n",
              "    </tr>\n",
              "  </tbody>\n",
              "</table>\n",
              "</div>\n",
              "      <button class=\"colab-df-convert\" onclick=\"convertToInteractive('df-630b3d10-9fb4-4050-a727-ace8570b1449')\"\n",
              "              title=\"Convert this dataframe to an interactive table.\"\n",
              "              style=\"display:none;\">\n",
              "        \n",
              "  <svg xmlns=\"http://www.w3.org/2000/svg\" height=\"24px\"viewBox=\"0 0 24 24\"\n",
              "       width=\"24px\">\n",
              "    <path d=\"M0 0h24v24H0V0z\" fill=\"none\"/>\n",
              "    <path d=\"M18.56 5.44l.94 2.06.94-2.06 2.06-.94-2.06-.94-.94-2.06-.94 2.06-2.06.94zm-11 1L8.5 8.5l.94-2.06 2.06-.94-2.06-.94L8.5 2.5l-.94 2.06-2.06.94zm10 10l.94 2.06.94-2.06 2.06-.94-2.06-.94-.94-2.06-.94 2.06-2.06.94z\"/><path d=\"M17.41 7.96l-1.37-1.37c-.4-.4-.92-.59-1.43-.59-.52 0-1.04.2-1.43.59L10.3 9.45l-7.72 7.72c-.78.78-.78 2.05 0 2.83L4 21.41c.39.39.9.59 1.41.59.51 0 1.02-.2 1.41-.59l7.78-7.78 2.81-2.81c.8-.78.8-2.07 0-2.86zM5.41 20L4 18.59l7.72-7.72 1.47 1.35L5.41 20z\"/>\n",
              "  </svg>\n",
              "      </button>\n",
              "      \n",
              "  <style>\n",
              "    .colab-df-container {\n",
              "      display:flex;\n",
              "      flex-wrap:wrap;\n",
              "      gap: 12px;\n",
              "    }\n",
              "\n",
              "    .colab-df-convert {\n",
              "      background-color: #E8F0FE;\n",
              "      border: none;\n",
              "      border-radius: 50%;\n",
              "      cursor: pointer;\n",
              "      display: none;\n",
              "      fill: #1967D2;\n",
              "      height: 32px;\n",
              "      padding: 0 0 0 0;\n",
              "      width: 32px;\n",
              "    }\n",
              "\n",
              "    .colab-df-convert:hover {\n",
              "      background-color: #E2EBFA;\n",
              "      box-shadow: 0px 1px 2px rgba(60, 64, 67, 0.3), 0px 1px 3px 1px rgba(60, 64, 67, 0.15);\n",
              "      fill: #174EA6;\n",
              "    }\n",
              "\n",
              "    [theme=dark] .colab-df-convert {\n",
              "      background-color: #3B4455;\n",
              "      fill: #D2E3FC;\n",
              "    }\n",
              "\n",
              "    [theme=dark] .colab-df-convert:hover {\n",
              "      background-color: #434B5C;\n",
              "      box-shadow: 0px 1px 3px 1px rgba(0, 0, 0, 0.15);\n",
              "      filter: drop-shadow(0px 1px 2px rgba(0, 0, 0, 0.3));\n",
              "      fill: #FFFFFF;\n",
              "    }\n",
              "  </style>\n",
              "\n",
              "      <script>\n",
              "        const buttonEl =\n",
              "          document.querySelector('#df-630b3d10-9fb4-4050-a727-ace8570b1449 button.colab-df-convert');\n",
              "        buttonEl.style.display =\n",
              "          google.colab.kernel.accessAllowed ? 'block' : 'none';\n",
              "\n",
              "        async function convertToInteractive(key) {\n",
              "          const element = document.querySelector('#df-630b3d10-9fb4-4050-a727-ace8570b1449');\n",
              "          const dataTable =\n",
              "            await google.colab.kernel.invokeFunction('convertToInteractive',\n",
              "                                                     [key], {});\n",
              "          if (!dataTable) return;\n",
              "\n",
              "          const docLinkHtml = 'Like what you see? Visit the ' +\n",
              "            '<a target=\"_blank\" href=https://colab.research.google.com/notebooks/data_table.ipynb>data table notebook</a>'\n",
              "            + ' to learn more about interactive tables.';\n",
              "          element.innerHTML = '';\n",
              "          dataTable['output_type'] = 'display_data';\n",
              "          await google.colab.output.renderOutput(dataTable, element);\n",
              "          const docLink = document.createElement('div');\n",
              "          docLink.innerHTML = docLinkHtml;\n",
              "          element.appendChild(docLink);\n",
              "        }\n",
              "      </script>\n",
              "    </div>\n",
              "  </div>\n",
              "  "
            ]
          },
          "metadata": {},
          "execution_count": 19
        }
      ]
    },
    {
      "cell_type": "markdown",
      "source": [
        "## **Histograma**"
      ],
      "metadata": {
        "id": "4R9RPRHK1__j"
      },
      "id": "4R9RPRHK1__j"
    },
    {
      "cell_type": "markdown",
      "source": [
        "https://plotly.com/python/histograms/"
      ],
      "metadata": {
        "id": "j5khxsqx5czc"
      },
      "id": "j5khxsqx5czc"
    },
    {
      "cell_type": "code",
      "source": [],
      "metadata": {
        "id": "XBOUFFJi39CJ"
      },
      "id": "XBOUFFJi39CJ",
      "execution_count": 19,
      "outputs": []
    },
    {
      "cell_type": "markdown",
      "source": [
        "## **Barras**"
      ],
      "metadata": {
        "id": "af18fdhi7cqL"
      },
      "id": "af18fdhi7cqL"
    },
    {
      "cell_type": "markdown",
      "source": [
        "https://plotly.com/python/bar-charts/"
      ],
      "metadata": {
        "id": "XxJ76TM29juE"
      },
      "id": "XxJ76TM29juE"
    },
    {
      "cell_type": "code",
      "source": [],
      "metadata": {
        "id": "wncSBNbF-Irv"
      },
      "id": "wncSBNbF-Irv",
      "execution_count": 19,
      "outputs": []
    },
    {
      "cell_type": "markdown",
      "source": [
        "## **Strip**"
      ],
      "metadata": {
        "id": "PoraIaevvPbW"
      },
      "id": "PoraIaevvPbW"
    },
    {
      "cell_type": "markdown",
      "source": [
        "https://plotly.com/python/strip-charts/"
      ],
      "metadata": {
        "id": "sPHVCr7HkNro"
      },
      "id": "sPHVCr7HkNro"
    },
    {
      "cell_type": "code",
      "source": [],
      "metadata": {
        "id": "ZHWsA4G4vC0U"
      },
      "id": "ZHWsA4G4vC0U",
      "execution_count": 19,
      "outputs": []
    },
    {
      "cell_type": "markdown",
      "source": [
        "## **Sunburst**"
      ],
      "metadata": {
        "id": "FAvDFg3-vgTl"
      },
      "id": "FAvDFg3-vgTl"
    },
    {
      "cell_type": "markdown",
      "source": [
        "https://plotly.com/python/sunburst-charts/"
      ],
      "metadata": {
        "id": "pHWJCMsMlV2J"
      },
      "id": "pHWJCMsMlV2J"
    },
    {
      "cell_type": "code",
      "source": [],
      "metadata": {
        "id": "G75b1UNsvhhb"
      },
      "id": "G75b1UNsvhhb",
      "execution_count": 19,
      "outputs": []
    },
    {
      "cell_type": "markdown",
      "source": [
        "## **Treemap**"
      ],
      "metadata": {
        "id": "BfLLzZelv3mF"
      },
      "id": "BfLLzZelv3mF"
    },
    {
      "cell_type": "markdown",
      "source": [
        "https://plotly.com/python/treemaps/"
      ],
      "metadata": {
        "id": "lyYzDQ3dnhDm"
      },
      "id": "lyYzDQ3dnhDm"
    },
    {
      "cell_type": "code",
      "source": [],
      "metadata": {
        "id": "JoZKSR-rv4g_"
      },
      "id": "JoZKSR-rv4g_",
      "execution_count": 19,
      "outputs": []
    },
    {
      "cell_type": "markdown",
      "source": [
        "## **Choropleth**"
      ],
      "metadata": {
        "id": "0KHkycvWwXj1"
      },
      "id": "0KHkycvWwXj1"
    },
    {
      "cell_type": "markdown",
      "source": [
        "https://plotly.com/python/mapbox-county-choropleth/"
      ],
      "metadata": {
        "id": "erCZx26jn3Sz"
      },
      "id": "erCZx26jn3Sz"
    },
    {
      "cell_type": "code",
      "source": [],
      "metadata": {
        "id": "ES4n448KwYUH"
      },
      "id": "ES4n448KwYUH",
      "execution_count": 19,
      "outputs": []
    },
    {
      "cell_type": "markdown",
      "source": [
        "# **Más practica... Sueldos por roles en tecnologia...**"
      ],
      "metadata": {
        "id": "xDqjDeImBiTs"
      },
      "id": "xDqjDeImBiTs"
    },
    {
      "cell_type": "code",
      "source": [
        "salarios = \"https://raw.githubusercontent.com/cristiandarioortegayubro/base/main/dataset/salary.csv\""
      ],
      "metadata": {
        "id": "Vi5bByBlCF3T"
      },
      "id": "Vi5bByBlCF3T",
      "execution_count": 20,
      "outputs": []
    },
    {
      "cell_type": "markdown",
      "source": [
        "## **Ej.01 Crear el dataframe...**"
      ],
      "metadata": {
        "id": "fs2JXR-nDGx7"
      },
      "id": "fs2JXR-nDGx7"
    },
    {
      "cell_type": "markdown",
      "source": [
        "**Crear el dataframe y ver el tamaño del mismo...**"
      ],
      "metadata": {
        "id": "6EB_f5E8oQ4R"
      },
      "id": "6EB_f5E8oQ4R"
    },
    {
      "cell_type": "code",
      "source": [],
      "metadata": {
        "id": "3CNKeVNRCTA5"
      },
      "id": "3CNKeVNRCTA5",
      "execution_count": 20,
      "outputs": []
    },
    {
      "cell_type": "markdown",
      "source": [
        "## **Ej.02 Filtrar solo salarios en dolares...**"
      ],
      "metadata": {
        "id": "wCbYIm11DUfQ"
      },
      "id": "wCbYIm11DUfQ"
    },
    {
      "cell_type": "markdown",
      "source": [
        "**De todo el conjunto de datos, solo visualizar los que tienen salarios en dolares...**"
      ],
      "metadata": {
        "id": "YMowkF6DojJD"
      },
      "id": "YMowkF6DojJD"
    },
    {
      "cell_type": "code",
      "source": [],
      "metadata": {
        "id": "YOmiw_-IFIyU"
      },
      "id": "YOmiw_-IFIyU",
      "execution_count": 20,
      "outputs": []
    },
    {
      "cell_type": "markdown",
      "source": [
        "## **Ej.03 Resumen ```describe()```...**"
      ],
      "metadata": {
        "id": "kWkHiphhIKC9"
      },
      "id": "kWkHiphhIKC9"
    },
    {
      "cell_type": "code",
      "source": [],
      "metadata": {
        "id": "mVyYxC_6VPOJ"
      },
      "id": "mVyYxC_6VPOJ",
      "execution_count": 20,
      "outputs": []
    },
    {
      "cell_type": "markdown",
      "source": [
        "## **Ej.04 Grafico de dispersion ```px.scatter()```...**"
      ],
      "metadata": {
        "id": "f0DEy3oUe5h1"
      },
      "id": "f0DEy3oUe5h1"
    },
    {
      "cell_type": "markdown",
      "source": [
        "**Hacer un grafico de dispersión entre la variable salario en dolares y tamaño de la compañia...**"
      ],
      "metadata": {
        "id": "JRG9H3sXowr7"
      },
      "id": "JRG9H3sXowr7"
    },
    {
      "cell_type": "code",
      "source": [],
      "metadata": {
        "id": "uJouCBoddJN_"
      },
      "id": "uJouCBoddJN_",
      "execution_count": 20,
      "outputs": []
    },
    {
      "cell_type": "markdown",
      "source": [
        "**Hacer un grafico de dispersión entre la variable salario en dolares y el nivel de experiencia...**"
      ],
      "metadata": {
        "id": "HUfYdYUSpcaG"
      },
      "id": "HUfYdYUSpcaG"
    },
    {
      "cell_type": "code",
      "source": [],
      "metadata": {
        "id": "cV4beMhhfa4K"
      },
      "id": "cV4beMhhfa4K",
      "execution_count": 20,
      "outputs": []
    },
    {
      "cell_type": "markdown",
      "source": [
        "## **Ej.05 Sunburst ```px.sunburst()```...**"
      ],
      "metadata": {
        "id": "aIFXC2HAnu_L"
      },
      "id": "aIFXC2HAnu_L"
    },
    {
      "cell_type": "code",
      "source": [],
      "metadata": {
        "id": "dEZ1dKNdmz04"
      },
      "id": "dEZ1dKNdmz04",
      "execution_count": 20,
      "outputs": []
    },
    {
      "cell_type": "markdown",
      "source": [
        "![nenunenu](https://emojipedia-us.s3.dualstack.us-west-1.amazonaws.com/thumbs/60/apple/124/smiling-face-with-smiling-eyes_1f60a.png)"
      ],
      "metadata": {
        "id": "d9A5bkmWp0pE"
      },
      "id": "d9A5bkmWp0pE"
    }
  ],
  "metadata": {
    "kernelspec": {
      "display_name": "Python 3 (ipykernel)",
      "language": "python",
      "name": "python3"
    },
    "language_info": {
      "codemirror_mode": {
        "name": "ipython",
        "version": 3
      },
      "file_extension": ".py",
      "mimetype": "text/x-python",
      "name": "python",
      "nbconvert_exporter": "python",
      "pygments_lexer": "ipython3",
      "version": "3.10.2"
    },
    "colab": {
      "provenance": [],
      "collapsed_sections": [],
      "toc_visible": true,
      "include_colab_link": true
    }
  },
  "nbformat": 4,
  "nbformat_minor": 5
}